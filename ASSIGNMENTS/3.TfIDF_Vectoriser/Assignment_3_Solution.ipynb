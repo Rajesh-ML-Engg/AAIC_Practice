{
 "cells": [
  {
   "cell_type": "markdown",
   "metadata": {
    "colab_type": "text",
    "id": "h9464I-uxLiw"
   },
   "source": [
    "# Assignment :: TF-IDF Implementation\n",
    "---\n",
    "1. [Task-1](#Task-1)\n",
    "    1. [Description](#Task_1_Description)\n",
    "    2. [Custom Implementation](#T1_Custom_Implementation)\n",
    "    3. [Comparison with Sklearn](#Task1_Comparison_with_Sklearn)\n",
    "        1. [Fit Function](#Task1_Fit_Function)\n",
    "        2. [Transform Function](#Task1_Transform_Function)\n",
    "2. [Task-2](#Task-2)\n",
    "    1. [Description](#Task_2_Description)\n",
    "    2. [Custom Implementation](#T2_Custom_Implementation)\n",
    "        1. [Obsevations while implementing top-50 idf functionality](#Observations)\n",
    "    3. [Results](#Task_2_Results)\n",
    "        1. [Results shown in DataFrame](#Task_2_Results_as_DF)"
   ]
  },
  {
   "cell_type": "markdown",
   "metadata": {
    "colab_type": "text",
    "id": "IvLvmewlxLix"
   },
   "source": [
    "<font face='georgia'>\n",
    "    \n",
    "   <h4><strong>What does tf-idf mean?</strong></h4>\n",
    "\n",
    "   <p>    \n",
    "Tf-idf stands for <em>term frequency-inverse document frequency</em>, and the tf-idf weight is a weight often used in information retrieval and text mining. This weight is a statistical measure used to evaluate how important a word is to a document in a collection or corpus. The importance increases proportionally to the number of times a word appears in the document but is offset by the frequency of the word in the corpus. Variations of the tf-idf weighting scheme are often used by search engines as a central tool in scoring and ranking a document's relevance given a user query.\n",
    "</p>\n",
    "    \n",
    "   <p>\n",
    "One of the simplest ranking functions is computed by summing the tf-idf for each query term; many more sophisticated ranking functions are variants of this simple model.\n",
    "</p>\n",
    "    \n",
    "   <p>\n",
    "Tf-idf can be successfully used for stop-words filtering in various subject fields including text summarization and classification.\n",
    "</p>\n",
    "    \n",
    "</font>"
   ]
  },
  {
   "cell_type": "markdown",
   "metadata": {
    "colab_type": "text",
    "id": "4XLaGFUMxLiy"
   },
   "source": [
    "<font face='georgia'>\n",
    "    <h4><strong>How to Compute:</strong></h4>\n",
    "\n",
    "Typically, the tf-idf weight is composed by two terms: the first computes the normalized Term Frequency (TF), aka. the number of times a word appears in a document, divided by the total number of words in that document; the second term is the Inverse Document Frequency (IDF), computed as the logarithm of the number of the documents in the corpus divided by the number of documents where the specific term appears.\n",
    "\n",
    " <ul>\n",
    "    <li>\n",
    "<strong>TF:</strong> Term Frequency, which measures how frequently a term occurs in a document. Since every document is different in length, it is possible that a term would appear much more times in long documents than shorter ones. Thus, the term frequency is often divided by the document length (aka. the total number of terms in the document) as a way of normalization: <br>\n",
    "\n",
    "$TF(t) = \\frac{\\text{Number of times term t appears in a document}}{\\text{Total number of terms in the document}}.$\n",
    "</li>\n",
    "<li>\n",
    "<strong>IDF:</strong> Inverse Document Frequency, which measures how important a term is. While computing TF, all terms are considered equally important. However it is known that certain terms, such as \"is\", \"of\", and \"that\", may appear a lot of times but have little importance. Thus we need to weigh down the frequent terms while scale up the rare ones, by computing the following: <br>\n",
    "\n",
    "$IDF(t) = \\log_{e}\\frac{\\text{Total  number of documents}} {\\text{Number of documents with term t in it}}.$\n",
    "for numerical stabiltiy we will be changing this formula little bit\n",
    "$IDF(t) = \\log_{e}\\frac{\\text{Total  number of documents}} {\\text{Number of documents with term t in it}+1}.$\n",
    "</li>\n",
    "</ul>\n",
    "\n",
    "<br>\n",
    "<h4><strong>Example</strong></h4>\n",
    "<p>\n",
    "\n",
    "Consider a document containing 100 words wherein the word cat appears 3 times. The term frequency (i.e., tf) for cat is then (3 / 100) = 0.03. Now, assume we have 10 million documents and the word cat appears in one thousand of these. Then, the inverse document frequency (i.e., idf) is calculated as log(10,000,000 / 1,000) = 4. Thus, the Tf-idf weight is the product of these quantities: 0.03 * 4 = 0.12.\n",
    "</p>\n",
    "</font>"
   ]
  },
  {
   "cell_type": "markdown",
   "metadata": {
    "colab_type": "text",
    "id": "dg2ooa4DxLiz"
   },
   "source": [
    "## Task-1"
   ]
  },
  {
   "cell_type": "markdown",
   "metadata": {},
   "source": [
    "### Libraries Import"
   ]
  },
  {
   "cell_type": "code",
   "execution_count": 1,
   "metadata": {
    "colab": {},
    "colab_type": "code",
    "id": "HjuCcJwXxLjJ"
   },
   "outputs": [],
   "source": [
    "from functools import reduce\n",
    "from collections import Counter\n",
    "from tqdm import tqdm\n",
    "from scipy.sparse import csr_matrix\n",
    "from sklearn.preprocessing import normalize\n",
    "\n",
    "import math\n",
    "import operator\n",
    "import numpy as np"
   ]
  },
  {
   "cell_type": "markdown",
   "metadata": {
    "colab_type": "text",
    "id": "OnV82tg1xLi0"
   },
   "source": [
    "### Corpus"
   ]
  },
  {
   "cell_type": "code",
   "execution_count": 2,
   "metadata": {
    "colab": {},
    "colab_type": "code",
    "id": "bUsYm9wjxLi1"
   },
   "outputs": [],
   "source": [
    "## SkLearn# Collection of string documents\n",
    "corpus = [\n",
    "     'this is the first document',\n",
    "     'this document is the second document',\n",
    "     'and this is the third one',\n",
    "     'is this the first document',]"
   ]
  },
  {
   "cell_type": "markdown",
   "metadata": {
    "colab_type": "text",
    "id": "eLwmFZfKxLi4"
   },
   "source": [
    "### SkLearn Implementation"
   ]
  },
  {
   "cell_type": "code",
   "execution_count": 3,
   "metadata": {
    "colab": {},
    "colab_type": "code",
    "id": "Np4dfQOkxLi4"
   },
   "outputs": [],
   "source": [
    "from sklearn.feature_extraction.text import TfidfVectorizer\n",
    "vectorizer = TfidfVectorizer()\n",
    "vectorizer.fit(corpus)\n",
    "skl_output = vectorizer.transform(corpus)"
   ]
  },
  {
   "cell_type": "markdown",
   "metadata": {},
   "source": [
    "#### **Task_1_Description**"
   ]
  },
  {
   "cell_type": "markdown",
   "metadata": {
    "colab_type": "text",
    "id": "TAcTjhO8xLiz"
   },
   "source": [
    "<font face='georgia'>\n",
    "    <h4><strong>1. Build a TFIDF Vectorizer & compare its results with Sklearn:</strong></h4>\n",
    "\n",
    "<ul>\n",
    "    <li> As a part of this task you will be implementing TFIDF vectorizer on a collection of text documents.</li>\n",
    "    <br>\n",
    "    <li> You should compare the results of your own implementation of TFIDF vectorizer with that of sklearns implemenation TFIDF vectorizer.</li>\n",
    "    <br>\n",
    "    <li> Sklearn does few more tweaks in the implementation of its version of TFIDF vectorizer, so to replicate the exact results you would need to add following things to your custom implementation of tfidf vectorizer:\n",
    "       <ol>\n",
    "        <li> Sklearn has its vocabulary generated from idf sroted in alphabetical order</li>\n",
    "        <li> Sklearn formula of idf is different from the standard textbook formula. Here the constant <strong>\"1\"</strong> is added to the numerator and denominator of the idf as if an extra document was seen containing every term in the collection exactly once, which prevents zero divisions.\n",
    "            \n",
    " $IDF(t) = 1+\\log_{e}\\frac{1\\text{ }+\\text{ Total  number of documents in collection}} {1+\\text{Number of documents with term t in it}}.$\n",
    "        </li>\n",
    "        <li> Sklearn applies L2-normalization on its output matrix.</li>\n",
    "        <li> The final output of sklearn tfidf vectorizer is a sparse matrix.</li>\n",
    "    </ol>\n",
    "    <br>\n",
    "    <li>Steps to approach this task:\n",
    "    <ol>\n",
    "        <li> You would have to write both fit and transform methods for your custom implementation of tfidf vectorizer.</li>\n",
    "        <li> Print out the alphabetically sorted voacb after you fit your data and check if its the same as that of the feature names from sklearn tfidf vectorizer. </li>\n",
    "        <li> Print out the idf values from your implementation and check if its the same as that of sklearns tfidf vectorizer idf values. </li>\n",
    "        <li> Once you get your voacb and idf values to be same as that of sklearns implementation of tfidf vectorizer, proceed to the below steps. </li>\n",
    "        <li> Make sure the output of your implementation is a sparse matrix. Before generating the final output, you need to normalize your sparse matrix using L2 normalization. You can refer to this link https://scikit-learn.org/stable/modules/generated/sklearn.preprocessing.normalize.html </li>\n",
    "        <li> After completing the above steps, print the output of your custom implementation and compare it with sklearns implementation of tfidf vectorizer.</li>\n",
    "        <li> To check the output of a single document in your collection of documents,  you can convert the sparse matrix related only to that document into dense matrix and print it.</li>\n",
    "        </ol>\n",
    "    </li>\n",
    "    <br>\n",
    "   </ul>\n",
    "\n",
    "  <p> <font color=\"#e60000\"><strong>Note-1: </strong></font> All the necessary outputs of sklearns tfidf vectorizer have been provided as reference in this notebook, you can compare your outputs as mentioned in the above steps, with these outputs.<br>\n",
    "   <font color=\"#e60000\"><strong>Note-2: </strong></font> The output of your custom implementation and that of sklearns implementation would match only with the collection of document strings provided to you as reference in this notebook. It would not match for strings that contain capital letters or punctuations, etc, because sklearn version of tfidf vectorizer deals with such strings in a different way. To know further details about how sklearn tfidf vectorizer works with such string, you can always refer to its official documentation.<br>\n",
    "   <font color=\"#e60000\"><strong>Note-3: </strong></font> During this task, it would be helpful for you to debug the code you write with print statements wherever necessary. But when you are finally submitting the assignment, make sure your code is readable and try not to print things which are not part of this task.\n",
    "    </p>"
   ]
  },
  {
   "cell_type": "markdown",
   "metadata": {
    "colab_type": "text",
    "id": "qfIwx5LzxLjI"
   },
   "source": [
    "### **T1_Custom_Implementation**"
   ]
  },
  {
   "cell_type": "code",
   "execution_count": 4,
   "metadata": {},
   "outputs": [],
   "source": [
    "def fit(text):\n",
    "    \"\"\"\n",
    "    Description: This function is created for performing the below objectives:\n",
    "        1. Generating the words count against every docuemnt/sentence/row\n",
    "        2. Creating VOCAB containing all the unique words\n",
    "        3. Calculating the Inverse Document Frequencies\n",
    "    \n",
    "    Input Parameter: It accepts only one input:\n",
    "        1. `text`: list\n",
    "                List of senetences or raw text.\n",
    "    \n",
    "    Output: It returns below parameters:\n",
    "        1. `vocab`: dict\n",
    "                Containing all the unique words from the documents\n",
    "        2. `words_occs_in_doc`: list\n",
    "                Counter of words for every document\n",
    "        3. `tot_occs`: dict\n",
    "                Containing the total number of documents where a specific word is present\n",
    "        4. `idf_vals`: dict\n",
    "                Inverse Document Frequency of every unique word present in the VOCAB\n",
    "    \"\"\"\n",
    "    if isinstance(text,(list,)):\n",
    "        vocab = set()\n",
    "        doc_lengths = []\n",
    "        words_occs_in_doc = []\n",
    "\n",
    "        # Generating the words count against every docuemnt/sentence/row and creating VOCAB with unique occurences of words \n",
    "        for i, line in enumerate(tqdm(text)):\n",
    "            doc_as_list = line.split(\" \")\n",
    "\n",
    "            doc_len = len(doc_as_list)\n",
    "            doc_lengths.append(doc_len)\n",
    "\n",
    "            docs_counter = Counter(doc_as_list)\n",
    "            words_occs_in_doc.append(docs_counter)\n",
    "\n",
    "            for word in doc_as_list:\n",
    "                vocab.add(word)\n",
    "\n",
    "        # Creating a dictionary with the total number of documents where a specific word resides\n",
    "        vocab = sorted(vocab)\n",
    "        tot_docs = []\n",
    "        for word in vocab:\n",
    "            word_in_docs = []\n",
    "            for doc in words_occs_in_doc:\n",
    "                occs_in_docs = doc.get(word,0)\n",
    "                if occs_in_docs > 1:\n",
    "                    occs_in_docs = 1\n",
    "                word_in_docs.append(occs_in_docs)\n",
    "            word_in_total_docs = reduce(lambda x,y:x+y,word_in_docs)\n",
    "            tot_docs.append(word_in_total_docs)\n",
    "\n",
    "        # Calculating the Inverse Document Frequencies\n",
    "        idfs = []\n",
    "        for i in range(len(vocab)):\n",
    "            idf = 1 + np.log((1+len(doc_lengths))/(1+tot_docs[i]))\n",
    "            idfs.append(np.round(idf,6))\n",
    "\n",
    "        tot_occs = {word:word_in_docs for word,word_in_docs in zip(vocab,tot_docs)}\n",
    "        idf_vals = {word:idf for word,idf in zip(vocab,idfs)}\n",
    "        vocab = {val:i for i,val in enumerate(vocab)}\n",
    "\n",
    "        return vocab, words_occs_in_doc, tot_occs, idf_vals\n",
    "    else:\n",
    "        print(\"Kindly provide the LIST type input text\")\n",
    "        return None, None, None, None"
   ]
  },
  {
   "cell_type": "code",
   "execution_count": 5,
   "metadata": {},
   "outputs": [
    {
     "name": "stderr",
     "output_type": "stream",
     "text": [
      "100%|██████████████████████████████████████████████████████████████████████████████████| 4/4 [00:00<00:00, 1332.58it/s]\n"
     ]
    }
   ],
   "source": [
    "vocab, words_occs, total_occs, idf_values  = fit(corpus)"
   ]
  },
  {
   "cell_type": "markdown",
   "metadata": {},
   "source": [
    "## ***Task1_Comparison_with_Sklearn***"
   ]
  },
  {
   "cell_type": "markdown",
   "metadata": {},
   "source": [
    "#### ***Task1_Fit_Function***"
   ]
  },
  {
   "cell_type": "markdown",
   "metadata": {},
   "source": [
    "##### ***CASE-I***"
   ]
  },
  {
   "cell_type": "code",
   "execution_count": 6,
   "metadata": {
    "colab": {},
    "colab_type": "code",
    "id": "-7Om8YpYxLi6",
    "outputId": "0a3bd0f5-4424-4400-944f-4482a80bd799"
   },
   "outputs": [
    {
     "name": "stdout",
     "output_type": "stream",
     "text": [
      "['and', 'document', 'first', 'is', 'one', 'second', 'the', 'third', 'this']\n"
     ]
    }
   ],
   "source": [
    "# Sklearn \n",
    "# feature names, they are sorted in alphabetic order by default.\n",
    "print(vectorizer.get_feature_names())"
   ]
  },
  {
   "cell_type": "code",
   "execution_count": 7,
   "metadata": {},
   "outputs": [
    {
     "data": {
      "text/plain": [
       "['and', 'document', 'first', 'is', 'one', 'second', 'the', 'third', 'this']"
      ]
     },
     "execution_count": 7,
     "metadata": {},
     "output_type": "execute_result"
    }
   ],
   "source": [
    "# Output from custom implementation\n",
    "list(vocab.keys())"
   ]
  },
  {
   "cell_type": "markdown",
   "metadata": {},
   "source": [
    "##### ***Bingo!! Results matched here***"
   ]
  },
  {
   "cell_type": "markdown",
   "metadata": {},
   "source": [
    "##### ***CASE-II***"
   ]
  },
  {
   "cell_type": "code",
   "execution_count": 8,
   "metadata": {
    "colab": {},
    "colab_type": "code",
    "id": "dTKplK96xLi-",
    "outputId": "53722fa2-6756-4aa0-f179-37b578bb6890"
   },
   "outputs": [
    {
     "name": "stdout",
     "output_type": "stream",
     "text": [
      "[1.91629073 1.22314355 1.51082562 1.         1.91629073 1.91629073\n",
      " 1.         1.91629073 1.        ]\n"
     ]
    }
   ],
   "source": [
    "# Here we will print the sklearn tfidf vectorizer idf values after applying the fit method\n",
    "# After using the fit function on the corpus the vocab has 9 words in it, and each has its idf value.\n",
    "\n",
    "print(vectorizer.idf_)"
   ]
  },
  {
   "cell_type": "code",
   "execution_count": 9,
   "metadata": {},
   "outputs": [
    {
     "name": "stdout",
     "output_type": "stream",
     "text": [
      "['and', 'document', 'first', 'is', 'one', 'second', 'the', 'third', 'this']\n",
      "[1.916291, 1.223144, 1.510826, 1.0, 1.916291, 1.916291, 1.0, 1.916291, 1.0]\n"
     ]
    }
   ],
   "source": [
    "# # Output from custom implementation\n",
    "print(list(idf_values.keys()))\n",
    "print(list(idf_values.values()))"
   ]
  },
  {
   "cell_type": "markdown",
   "metadata": {},
   "source": [
    "##### ***Bingo!! Good here as well***"
   ]
  },
  {
   "cell_type": "code",
   "execution_count": 10,
   "metadata": {},
   "outputs": [
    {
     "data": {
      "text/plain": [
       "({'and': 0,\n",
       "  'document': 1,\n",
       "  'first': 2,\n",
       "  'is': 3,\n",
       "  'one': 4,\n",
       "  'second': 5,\n",
       "  'the': 6,\n",
       "  'third': 7,\n",
       "  'this': 8},\n",
       " [Counter({'this': 1, 'is': 1, 'the': 1, 'first': 1, 'document': 1}),\n",
       "  Counter({'this': 1, 'document': 2, 'is': 1, 'the': 1, 'second': 1}),\n",
       "  Counter({'and': 1, 'this': 1, 'is': 1, 'the': 1, 'third': 1, 'one': 1}),\n",
       "  Counter({'is': 1, 'this': 1, 'the': 1, 'first': 1, 'document': 1})],\n",
       " {'and': 1,\n",
       "  'document': 3,\n",
       "  'first': 2,\n",
       "  'is': 4,\n",
       "  'one': 1,\n",
       "  'second': 1,\n",
       "  'the': 4,\n",
       "  'third': 1,\n",
       "  'this': 4},\n",
       " {'and': 1.916291,\n",
       "  'document': 1.223144,\n",
       "  'first': 1.510826,\n",
       "  'is': 1.0,\n",
       "  'one': 1.916291,\n",
       "  'second': 1.916291,\n",
       "  'the': 1.0,\n",
       "  'third': 1.916291,\n",
       "  'this': 1.0})"
      ]
     },
     "execution_count": 10,
     "metadata": {},
     "output_type": "execute_result"
    }
   ],
   "source": [
    "vocab, words_occs, total_occs, idf_values"
   ]
  },
  {
   "cell_type": "code",
   "execution_count": 11,
   "metadata": {},
   "outputs": [],
   "source": [
    "def transform(text, vocab, words_occs, total_occs, idf_values):\n",
    "    \"\"\"\n",
    "    Description: This function is created for calculating the Tf-IDF Weights.\n",
    "    \n",
    "    Input Parameter: It accepts 5 inputs:\n",
    "        1. `text`: list\n",
    "                List of senetences or raw text.\n",
    "        2. `vocab`: dict\n",
    "                Containing all the unique words from the documents\n",
    "        3. `words_occs_in_doc`: list\n",
    "                Counter of words for every document\n",
    "        4. `tot_occs`: dict\n",
    "                Containing the total number of documents where a specific word is present\n",
    "        5. `idf_vals`: dict\n",
    "                Inverse Document Frequency of every unique word present in the VOCAB\n",
    "                \n",
    "    NOTE:: `vocab`, `words_occs`, `total_occs` and `idf_values` are the outputs from fit function\n",
    "    \n",
    "    Output: It returns the Tf-IDF weights in the form of sparse matrix:\n",
    "        1. `tfidf_matrix`: csr_matrix\n",
    "                Tf-IDF weights\n",
    "    \"\"\"\n",
    "    if isinstance(text,(list,)):\n",
    "        tfidf_vals = []\n",
    "        row = []\n",
    "        col = []\n",
    "        # Traversing every document to calulate the term frequency in a single document\n",
    "        for i,val in enumerate(tqdm(text)):\n",
    "            doc_as_list = text[i].split(\" \")\n",
    "            tfidf_val = []\n",
    "            doc_as_list = set(doc_as_list)\n",
    "            # Using the calculation results of fit function in this loop to compute the Tf-IDF weights\n",
    "            for word in list(doc_as_list):\n",
    "                row.append(i)\n",
    "                col.append(vocab.get(word,0.0))\n",
    "                tot_words_in_doc = len(doc_as_list)\n",
    "                word_occs_in_doc = words_occs[i].get(word,0)\n",
    "                tf = word_occs_in_doc/len(doc_as_list)\n",
    "                idf = idf_values.get(word,0.0)\n",
    "                tfidf = tf * idf                      \n",
    "                tfidf_val.append(tfidf)\n",
    "            tfidf_l2_normed = normalize(np.array(tfidf_val).reshape(-1,1),axis=0)\n",
    "            tfidf_vals.append(tfidf_l2_normed)\n",
    "\n",
    "        # Generating the sparse matrix of TF-IDF weights\n",
    "        values = [v1 for val in tfidf_vals for v1 in val]\n",
    "        values = np.array(values).flatten()\n",
    "        row, col = np.array(row).flatten(), np.array(col).flatten()\n",
    "        tfidf_matrix = csr_matrix((values,(row,col)),shape=(len(text),len(list(vocab.values()))))\n",
    "\n",
    "        return tfidf_matrix\n",
    "    else:\n",
    "        print(\"Kindly provide the LIST type input text\")\n",
    "        return None"
   ]
  },
  {
   "cell_type": "code",
   "execution_count": 12,
   "metadata": {},
   "outputs": [
    {
     "name": "stderr",
     "output_type": "stream",
     "text": [
      "100%|██████████████████████████████████████████████████████████████████████████████████| 4/4 [00:00<00:00, 1333.43it/s]\n"
     ]
    }
   ],
   "source": [
    "tfidf_matrix_values = transform(corpus, vocab, words_occs, total_occs, idf_values)"
   ]
  },
  {
   "cell_type": "markdown",
   "metadata": {},
   "source": [
    "#### ***Task1_Transform_Function***"
   ]
  },
  {
   "cell_type": "markdown",
   "metadata": {},
   "source": [
    "##### ***CASE-I***"
   ]
  },
  {
   "cell_type": "code",
   "execution_count": 13,
   "metadata": {},
   "outputs": [
    {
     "name": "stdout",
     "output_type": "stream",
     "text": [
      "  (0, 8)\t0.38408524091481483\n",
      "  (0, 6)\t0.38408524091481483\n",
      "  (0, 3)\t0.38408524091481483\n",
      "  (0, 2)\t0.5802858236844359\n",
      "  (0, 1)\t0.46979138557992045\n"
     ]
    }
   ],
   "source": [
    "# Sklearn output\n",
    "print(skl_output[0])"
   ]
  },
  {
   "cell_type": "code",
   "execution_count": 14,
   "metadata": {},
   "outputs": [
    {
     "name": "stdout",
     "output_type": "stream",
     "text": [
      "[0.46979148 0.58028587 0.38408518 0.38408518 0.38408518]\n"
     ]
    }
   ],
   "source": [
    "# Custom implementation output\n",
    "tfidf_values = tfidf_matrix_values.toarray() \n",
    "print(tfidf_values[0][tfidf_values[0] != 0])"
   ]
  },
  {
   "cell_type": "markdown",
   "metadata": {},
   "source": [
    "##### ***CASE-II***"
   ]
  },
  {
   "cell_type": "code",
   "execution_count": 15,
   "metadata": {},
   "outputs": [
    {
     "name": "stdout",
     "output_type": "stream",
     "text": [
      "  (0, 8)\t0.281088674033753\n",
      "  (0, 6)\t0.281088674033753\n",
      "  (0, 5)\t0.5386476208856763\n",
      "  (0, 3)\t0.281088674033753\n",
      "  (0, 1)\t0.6876235979836938\n"
     ]
    }
   ],
   "source": [
    "# Sklearn output\n",
    "print(skl_output[1])"
   ]
  },
  {
   "cell_type": "code",
   "execution_count": 16,
   "metadata": {},
   "outputs": [
    {
     "name": "stdout",
     "output_type": "stream",
     "text": [
      "[0.6876237  0.28108861 0.53864758 0.28108861 0.28108861]\n"
     ]
    }
   ],
   "source": [
    "# Custom implementation output\n",
    "print(tfidf_values[1][tfidf_values[1] != 0])"
   ]
  },
  {
   "cell_type": "markdown",
   "metadata": {},
   "source": [
    "##### ***CASE-III***"
   ]
  },
  {
   "cell_type": "code",
   "execution_count": 17,
   "metadata": {},
   "outputs": [
    {
     "name": "stdout",
     "output_type": "stream",
     "text": [
      "  (0, 8)\t0.267103787642168\n",
      "  (0, 7)\t0.511848512707169\n",
      "  (0, 6)\t0.267103787642168\n",
      "  (0, 4)\t0.511848512707169\n",
      "  (0, 3)\t0.267103787642168\n",
      "  (0, 0)\t0.511848512707169\n"
     ]
    }
   ],
   "source": [
    "# Sklearn output\n",
    "print(skl_output[2])"
   ]
  },
  {
   "cell_type": "code",
   "execution_count": 18,
   "metadata": {},
   "outputs": [
    {
     "name": "stdout",
     "output_type": "stream",
     "text": [
      "[0.51184853 0.26710376 0.51184853 0.26710376 0.51184853 0.26710376]\n"
     ]
    }
   ],
   "source": [
    "# Custom implementation output\n",
    "print(tfidf_values[2][tfidf_values[2] != 0])"
   ]
  },
  {
   "cell_type": "markdown",
   "metadata": {},
   "source": [
    "##### ***CASE-IV***"
   ]
  },
  {
   "cell_type": "code",
   "execution_count": 19,
   "metadata": {},
   "outputs": [
    {
     "name": "stdout",
     "output_type": "stream",
     "text": [
      "  (0, 8)\t0.38408524091481483\n",
      "  (0, 6)\t0.38408524091481483\n",
      "  (0, 3)\t0.38408524091481483\n",
      "  (0, 2)\t0.5802858236844359\n",
      "  (0, 1)\t0.46979138557992045\n"
     ]
    }
   ],
   "source": [
    "# Sklearn output\n",
    "print(skl_output[3])"
   ]
  },
  {
   "cell_type": "code",
   "execution_count": 20,
   "metadata": {},
   "outputs": [
    {
     "name": "stdout",
     "output_type": "stream",
     "text": [
      "[0.46979148 0.58028587 0.38408518 0.38408518 0.38408518]\n"
     ]
    }
   ],
   "source": [
    "# Custom implementation output\n",
    "print(tfidf_values[3][tfidf_values[3] != 0])"
   ]
  },
  {
   "cell_type": "markdown",
   "metadata": {},
   "source": [
    "##### ***So, good here as well!!***"
   ]
  },
  {
   "cell_type": "markdown",
   "metadata": {},
   "source": [
    "#### **`Creating the DataFrame of the Tf-Idf Weights for every document`**"
   ]
  },
  {
   "cell_type": "code",
   "execution_count": 21,
   "metadata": {},
   "outputs": [],
   "source": [
    "import pandas as pd"
   ]
  },
  {
   "cell_type": "code",
   "execution_count": 22,
   "metadata": {},
   "outputs": [
    {
     "data": {
      "text/html": [
       "<div>\n",
       "<style scoped>\n",
       "    .dataframe tbody tr th:only-of-type {\n",
       "        vertical-align: middle;\n",
       "    }\n",
       "\n",
       "    .dataframe tbody tr th {\n",
       "        vertical-align: top;\n",
       "    }\n",
       "\n",
       "    .dataframe thead th {\n",
       "        text-align: right;\n",
       "    }\n",
       "</style>\n",
       "<table border=\"1\" class=\"dataframe\">\n",
       "  <thead>\n",
       "    <tr style=\"text-align: right;\">\n",
       "      <th></th>\n",
       "      <th>and</th>\n",
       "      <th>document</th>\n",
       "      <th>first</th>\n",
       "      <th>is</th>\n",
       "      <th>one</th>\n",
       "      <th>second</th>\n",
       "      <th>the</th>\n",
       "      <th>third</th>\n",
       "      <th>this</th>\n",
       "    </tr>\n",
       "  </thead>\n",
       "  <tbody>\n",
       "    <tr>\n",
       "      <th>Doc/Sentence/Row-1</th>\n",
       "      <td>0.000000</td>\n",
       "      <td>0.469791</td>\n",
       "      <td>0.580286</td>\n",
       "      <td>0.384085</td>\n",
       "      <td>0.000000</td>\n",
       "      <td>0.000000</td>\n",
       "      <td>0.384085</td>\n",
       "      <td>0.000000</td>\n",
       "      <td>0.384085</td>\n",
       "    </tr>\n",
       "    <tr>\n",
       "      <th>Doc/Sentence/Row-2</th>\n",
       "      <td>0.000000</td>\n",
       "      <td>0.687624</td>\n",
       "      <td>0.000000</td>\n",
       "      <td>0.281089</td>\n",
       "      <td>0.000000</td>\n",
       "      <td>0.538648</td>\n",
       "      <td>0.281089</td>\n",
       "      <td>0.000000</td>\n",
       "      <td>0.281089</td>\n",
       "    </tr>\n",
       "    <tr>\n",
       "      <th>Doc/Sentence/Row-3</th>\n",
       "      <td>0.511849</td>\n",
       "      <td>0.000000</td>\n",
       "      <td>0.000000</td>\n",
       "      <td>0.267104</td>\n",
       "      <td>0.511849</td>\n",
       "      <td>0.000000</td>\n",
       "      <td>0.267104</td>\n",
       "      <td>0.511849</td>\n",
       "      <td>0.267104</td>\n",
       "    </tr>\n",
       "    <tr>\n",
       "      <th>Doc/Sentence/Row-4</th>\n",
       "      <td>0.000000</td>\n",
       "      <td>0.469791</td>\n",
       "      <td>0.580286</td>\n",
       "      <td>0.384085</td>\n",
       "      <td>0.000000</td>\n",
       "      <td>0.000000</td>\n",
       "      <td>0.384085</td>\n",
       "      <td>0.000000</td>\n",
       "      <td>0.384085</td>\n",
       "    </tr>\n",
       "  </tbody>\n",
       "</table>\n",
       "</div>"
      ],
      "text/plain": [
       "                         and  document     first        is       one  \\\n",
       "Doc/Sentence/Row-1  0.000000  0.469791  0.580286  0.384085  0.000000   \n",
       "Doc/Sentence/Row-2  0.000000  0.687624  0.000000  0.281089  0.000000   \n",
       "Doc/Sentence/Row-3  0.511849  0.000000  0.000000  0.267104  0.511849   \n",
       "Doc/Sentence/Row-4  0.000000  0.469791  0.580286  0.384085  0.000000   \n",
       "\n",
       "                      second       the     third      this  \n",
       "Doc/Sentence/Row-1  0.000000  0.384085  0.000000  0.384085  \n",
       "Doc/Sentence/Row-2  0.538648  0.281089  0.000000  0.281089  \n",
       "Doc/Sentence/Row-3  0.000000  0.267104  0.511849  0.267104  \n",
       "Doc/Sentence/Row-4  0.000000  0.384085  0.000000  0.384085  "
      ]
     },
     "execution_count": 22,
     "metadata": {},
     "output_type": "execute_result"
    }
   ],
   "source": [
    "tfidf_weights_df = pd.DataFrame(tfidf_values,\n",
    "                                columns=list(total_occs.keys()),\n",
    "                                index=['Doc/Sentence/Row-1','Doc/Sentence/Row-2','Doc/Sentence/Row-3','Doc/Sentence/Row-4'])\n",
    "\n",
    "tfidf_weights_df"
   ]
  },
  {
   "cell_type": "markdown",
   "metadata": {
    "colab_type": "text",
    "id": "MMxBmVZExLjK"
   },
   "source": [
    "## Task-2"
   ]
  },
  {
   "cell_type": "markdown",
   "metadata": {},
   "source": [
    "#### **Task_2_Description**"
   ]
  },
  {
   "cell_type": "markdown",
   "metadata": {
    "colab_type": "text",
    "id": "51j_OtqAxLjL"
   },
   "source": [
    "<font face='georgia'>\n",
    "    <h4><strong>2. Implement max features functionality:</strong></h4>\n",
    "\n",
    "<ul>\n",
    "    <li> As a part of this task you have to modify your fit and transform functions so that your vocab will contain only 50 terms with top idf scores.</li>\n",
    "    <br>\n",
    "    <li>This task is similar to your previous task, just that here your vocabulary is limited to only top 50 features names based on their idf values. Basically your output will have exactly 50 columns and the number of rows will depend on the number of documents you have in your corpus.</li>\n",
    "    <br>\n",
    "    <li>Here you will be give a pickle file, with file name <strong>cleaned_strings</strong>. You would have to load the corpus from this file and use it as input to your tfidf vectorizer.</li>\n",
    "    <br>\n",
    "    <li>Steps to approach this task:\n",
    "    <ol>\n",
    "        <li> You would have to write both fit and transform methods for your custom implementation of tfidf vectorizer, just like in the previous task. Additionally, here you have to limit the number of features generated to 50 as described above.</li>\n",
    "        <li> Now sort your vocab based in descending order of idf values and print out the words in the sorted voacb after you fit your data. Here you should be getting only 50 terms in your vocab. And make sure to print idf values for each term in your vocab. </li>\n",
    "        <li> Make sure the output of your implementation is a sparse matrix. Before generating the final output, you need to normalize your sparse matrix using L2 normalization. You can refer to this link https://scikit-learn.org/stable/modules/generated/sklearn.preprocessing.normalize.html </li>\n",
    "        <li> Now check the output of a single document in your collection of documents,  you can convert the sparse matrix related only to that document into dense matrix and print it. And this dense matrix should contain 1 row and 50 columns. </li>\n",
    "        </ol>\n",
    "    </li>\n",
    "    <br>\n",
    "   </ul>"
   ]
  },
  {
   "cell_type": "code",
   "execution_count": 23,
   "metadata": {
    "colab": {},
    "colab_type": "code",
    "id": "NHxPLlwNxLjL",
    "outputId": "9abd8e08-0e24-4975-9a13-4d3636d60323"
   },
   "outputs": [
    {
     "name": "stdout",
     "output_type": "stream",
     "text": [
      "Number of documents in corpus =  746\n"
     ]
    }
   ],
   "source": [
    "# Below is the code to load the cleaned_strings pickle file provided\n",
    "# Here corpus is of list type\n",
    "\n",
    "import pickle\n",
    "with open('cleaned_strings', 'rb') as f:\n",
    "    corpus = pickle.load(f)\n",
    "    \n",
    "# printing the length of the corpus loaded\n",
    "print(\"Number of documents in corpus = \",len(corpus))"
   ]
  },
  {
   "cell_type": "markdown",
   "metadata": {
    "colab_type": "text",
    "id": "qfIwx5LzxLjI"
   },
   "source": [
    "### **T2_Custom_Implementation**"
   ]
  },
  {
   "cell_type": "code",
   "execution_count": 24,
   "metadata": {},
   "outputs": [],
   "source": [
    "def task2_fit(text,top_idf_scr=50):\n",
    "    \"\"\"\n",
    "    Description: This function is created for performing the below objectives:\n",
    "        1. Generating the words count against every docuemnt/sentence/row\n",
    "        2. Creating VOCAB containing all the unique words\n",
    "        3. Calculating the Inverse Document Frequencies\n",
    "    \n",
    "    Input Parameter: It accepts below inputs:\n",
    "        1. `text`: list\n",
    "                List of senetences or raw text.\n",
    "        2. `top_idf_scr`: int\n",
    "                Number of top words to be selected based on IDF values.\n",
    "    \n",
    "    Output: It returns below parameters:\n",
    "        1. `vocab`: dict\n",
    "                Containing all the unique words from the documents\n",
    "        2. `words_occs_in_doc`: list\n",
    "                Counter of words for every document\n",
    "        3. `tot_occs`: dict\n",
    "                Containing the total number of documents where a specific word is present\n",
    "        4. `idf_vals`: dict\n",
    "                Inverse Document Frequency of every unique word present in the VOCAB\n",
    "    \"\"\"\n",
    "    if isinstance(text,(list,)):\n",
    "        vocab = []\n",
    "        doc_lengths = []\n",
    "        words_occs_in_doc = []\n",
    "\n",
    "        # Generating the words count against every docuemnt/sentence/row and creating VOCAB with unique occurences of words \n",
    "        for i, line in enumerate(tqdm(text)):\n",
    "            doc_as_list = line.split(\" \")\n",
    "\n",
    "            doc_len = len(doc_as_list)\n",
    "            doc_lengths.append(doc_len)\n",
    "\n",
    "            docs_counter = Counter(doc_as_list)\n",
    "            words_occs_in_doc.append(docs_counter)\n",
    "\n",
    "            result = [vocab.append(word) for word in doc_as_list if word not in vocab]\n",
    "\n",
    "        # Creating a dictionary with the total number of documents where a specific word resides\n",
    "        tot_docs = []\n",
    "        for word in vocab:\n",
    "            word_in_docs = []\n",
    "            for doc in words_occs_in_doc:\n",
    "                occs_in_docs = doc.get(word,0)\n",
    "                if occs_in_docs > 1:\n",
    "                    occs_in_docs = 1\n",
    "                word_in_docs.append(occs_in_docs)\n",
    "            word_in_total_docs = reduce(lambda x,y:x+y,word_in_docs)\n",
    "            tot_docs.append(word_in_total_docs)\n",
    "\n",
    "        # Calculating the Inverse Document Frequencies\n",
    "        idfs = []\n",
    "        for i in range(len(vocab)):\n",
    "            idf = 1 + np.log((1+len(doc_lengths))/(1+tot_docs[i]))\n",
    "            idfs.append(np.round(idf,6))\n",
    "\n",
    "        tot_occs = {word:word_in_docs for word,word_in_docs in zip(vocab,tot_docs)}\n",
    "        idf_vals = {word:idf for word,idf in zip(vocab,idfs)}\n",
    "        top_idf_scores = dict(sorted(idf_vals.items(),key=operator.itemgetter(1),reverse=True)[:top_idf_scr])\n",
    "        vocab = {val:i for i,val in enumerate(list(top_idf_scores.keys()))}\n",
    "        top_tot_occs = {k: v for k, v in tot_occs.items() if k in list(vocab.keys())}\n",
    "\n",
    "        return vocab, words_occs_in_doc, top_tot_occs, top_idf_scores\n",
    "    else:\n",
    "        print(\"Kindly provide the LIST type input text\")\n",
    "        return None, None, None, None"
   ]
  },
  {
   "cell_type": "markdown",
   "metadata": {},
   "source": [
    "### ***`Observations`***\n",
    "- When we use set() or convert the list into a set then it changes the order of the elements due to this I used a list to store the words with the order preserved. **Hence, I implemented the order in which the documents are processed, thus the top 50 idf values are selected based on the order of processed rows as well not only by random sorting. This way I was able to give preference to processed order as well along with the Idf value.**\n",
    "    - Referred link: https://stackoverflow.com/questions/9792664/converting-a-list-to-a-set-changes-element-order\n",
    "- While working on this assignment, I came to know about an useful property of built-in ***operator*** :: ***operator*** is a built-in module providing a set of convenient operators. In two words ***operator.itemgetter(n)*** constructs a callable that assumes an iterable object (e.g. list, tuple, set) as input, and fetches the nth element out of it.\n",
    "    - So, using this I was able to sort the dictionary based on the IDF values and able to perform the slicing as well to select the top 50 words with highest value.\n",
    "        - Referred link: https://stackoverflow.com/questions/613183/how-do-i-sort-a-dictionary-by-value\n",
    "        - Referred link: https://stackoverflow.com/questions/18595686/how-do-operator-itemgetter-and-sort-work"
   ]
  },
  {
   "cell_type": "code",
   "execution_count": 25,
   "metadata": {},
   "outputs": [
    {
     "name": "stderr",
     "output_type": "stream",
     "text": [
      "100%|██████████████████████████████████████████████████████████████████████████████| 746/746 [00:00<00:00, 1897.16it/s]\n"
     ]
    }
   ],
   "source": [
    "vocab, words_occs, total_occs, idf_values = task2_fit(corpus)"
   ]
  },
  {
   "cell_type": "markdown",
   "metadata": {},
   "source": [
    "#### **Task_2_Results**"
   ]
  },
  {
   "cell_type": "code",
   "execution_count": 26,
   "metadata": {},
   "outputs": [
    {
     "data": {
      "text/plain": [
       "50"
      ]
     },
     "execution_count": 26,
     "metadata": {},
     "output_type": "execute_result"
    }
   ],
   "source": [
    "len(list(vocab.values()))"
   ]
  },
  {
   "cell_type": "code",
   "execution_count": 27,
   "metadata": {},
   "outputs": [
    {
     "data": {
      "text/plain": [
       "50"
      ]
     },
     "execution_count": 27,
     "metadata": {},
     "output_type": "execute_result"
    }
   ],
   "source": [
    "len(list(idf_values.keys()))"
   ]
  },
  {
   "cell_type": "code",
   "execution_count": 28,
   "metadata": {},
   "outputs": [
    {
     "data": {
      "text/plain": [
       "50"
      ]
     },
     "execution_count": 28,
     "metadata": {},
     "output_type": "execute_result"
    }
   ],
   "source": [
    "len(list(total_occs.keys()))"
   ]
  },
  {
   "cell_type": "code",
   "execution_count": 39,
   "metadata": {},
   "outputs": [
    {
     "data": {
      "text/plain": [
       "{'aimless': 0,\n",
       " 'distressed': 1,\n",
       " 'drifting': 2,\n",
       " 'nearly': 3,\n",
       " 'attempting': 4,\n",
       " 'artiness': 5,\n",
       " 'existent': 6,\n",
       " 'gerardo': 7,\n",
       " 'emptiness': 8,\n",
       " 'effort': 9,\n",
       " 'messages': 10,\n",
       " 'buffet': 11,\n",
       " 'science': 12,\n",
       " 'teacher': 13,\n",
       " 'baby': 14,\n",
       " 'owls': 15,\n",
       " 'florida': 16,\n",
       " 'muppets': 17,\n",
       " 'person': 18,\n",
       " 'overdue': 19,\n",
       " 'screenplay': 20,\n",
       " 'post': 21,\n",
       " 'practically': 22,\n",
       " 'structure': 23,\n",
       " 'tightly': 24,\n",
       " 'constructed': 25,\n",
       " 'vitally': 26,\n",
       " 'occurs': 27,\n",
       " 'content': 28,\n",
       " 'fill': 29,\n",
       " 'dozen': 30,\n",
       " 'highest': 31,\n",
       " 'superlative': 32,\n",
       " 'require': 33,\n",
       " 'puzzle': 34,\n",
       " 'solving': 35,\n",
       " 'fit': 36,\n",
       " 'pulls': 37,\n",
       " 'punches': 38,\n",
       " 'graphics': 39,\n",
       " 'number': 40,\n",
       " 'th': 41,\n",
       " 'insane': 42,\n",
       " 'massive': 43,\n",
       " 'unlockable': 44,\n",
       " 'properly': 45,\n",
       " 'aye': 46,\n",
       " 'rocks': 47,\n",
       " 'doomed': 48,\n",
       " 'conception': 49}"
      ]
     },
     "execution_count": 39,
     "metadata": {},
     "output_type": "execute_result"
    }
   ],
   "source": [
    "vocab"
   ]
  },
  {
   "cell_type": "code",
   "execution_count": 29,
   "metadata": {},
   "outputs": [
    {
     "name": "stderr",
     "output_type": "stream",
     "text": [
      "100%|██████████████████████████████████████████████████████████████████████████████| 746/746 [00:00<00:00, 1871.96it/s]\n"
     ]
    }
   ],
   "source": [
    "tfidf_matrix_values = transform(corpus, vocab, words_occs, total_occs, idf_values)"
   ]
  },
  {
   "cell_type": "code",
   "execution_count": 30,
   "metadata": {},
   "outputs": [],
   "source": [
    "tfidf_values = tfidf_matrix_values.toarray()"
   ]
  },
  {
   "cell_type": "code",
   "execution_count": 36,
   "metadata": {},
   "outputs": [
    {
     "data": {
      "text/plain": [
       "((50,),\n",
       " array([0.57735027, 0.57735027, 0.57735027, 0.        , 0.        ,\n",
       "        0.        , 0.        , 0.        , 0.        , 0.        ,\n",
       "        0.        , 0.        , 0.        , 0.        , 0.        ,\n",
       "        0.        , 0.        , 0.        , 0.        , 0.        ,\n",
       "        0.        , 0.        , 0.        , 0.        , 0.        ,\n",
       "        0.        , 0.        , 0.        , 0.        , 0.        ,\n",
       "        0.        , 0.        , 0.        , 0.        , 0.        ,\n",
       "        0.        , 0.        , 0.        , 0.        , 0.        ,\n",
       "        0.        , 0.        , 0.        , 0.        , 0.        ,\n",
       "        0.        , 0.        , 0.        , 0.        , 0.        ]))"
      ]
     },
     "execution_count": 36,
     "metadata": {},
     "output_type": "execute_result"
    }
   ],
   "source": [
    "tfidf_values[0].shape, tfidf_values[0]"
   ]
  },
  {
   "cell_type": "markdown",
   "metadata": {},
   "source": [
    "#### **Task_2_Results_as_DF**"
   ]
  },
  {
   "cell_type": "markdown",
   "metadata": {},
   "source": [
    "#### **`Creating the DataFrame of the Tf-Idf Weights for every document`**"
   ]
  },
  {
   "cell_type": "code",
   "execution_count": 31,
   "metadata": {},
   "outputs": [],
   "source": [
    "import pandas as pd"
   ]
  },
  {
   "cell_type": "code",
   "execution_count": 32,
   "metadata": {},
   "outputs": [
    {
     "name": "stdout",
     "output_type": "stream",
     "text": [
      "['aimless', 'distressed', 'drifting', 'nearly', 'attempting', 'artiness', 'existent', 'gerardo', 'emptiness', 'effort', 'messages', 'buffet', 'science', 'teacher', 'baby', 'owls', 'florida', 'muppets', 'person', 'overdue', 'screenplay', 'post', 'practically', 'structure', 'tightly', 'constructed', 'vitally', 'occurs', 'content', 'fill', 'dozen', 'highest', 'superlative', 'require', 'puzzle', 'solving', 'fit', 'pulls', 'punches', 'graphics', 'number', 'th', 'insane', 'massive', 'unlockable', 'properly', 'aye', 'rocks', 'doomed', 'conception']\n"
     ]
    }
   ],
   "source": [
    "print(list(total_occs.keys()))"
   ]
  },
  {
   "cell_type": "code",
   "execution_count": 33,
   "metadata": {},
   "outputs": [
    {
     "data": {
      "text/html": [
       "<div>\n",
       "<style scoped>\n",
       "    .dataframe tbody tr th:only-of-type {\n",
       "        vertical-align: middle;\n",
       "    }\n",
       "\n",
       "    .dataframe tbody tr th {\n",
       "        vertical-align: top;\n",
       "    }\n",
       "\n",
       "    .dataframe thead th {\n",
       "        text-align: right;\n",
       "    }\n",
       "</style>\n",
       "<table border=\"1\" class=\"dataframe\">\n",
       "  <thead>\n",
       "    <tr style=\"text-align: right;\">\n",
       "      <th></th>\n",
       "      <th>aimless</th>\n",
       "      <th>distressed</th>\n",
       "      <th>drifting</th>\n",
       "      <th>nearly</th>\n",
       "      <th>attempting</th>\n",
       "      <th>artiness</th>\n",
       "      <th>existent</th>\n",
       "      <th>gerardo</th>\n",
       "      <th>emptiness</th>\n",
       "      <th>effort</th>\n",
       "      <th>...</th>\n",
       "      <th>number</th>\n",
       "      <th>th</th>\n",
       "      <th>insane</th>\n",
       "      <th>massive</th>\n",
       "      <th>unlockable</th>\n",
       "      <th>properly</th>\n",
       "      <th>aye</th>\n",
       "      <th>rocks</th>\n",
       "      <th>doomed</th>\n",
       "      <th>conception</th>\n",
       "    </tr>\n",
       "  </thead>\n",
       "  <tbody>\n",
       "    <tr>\n",
       "      <th>0</th>\n",
       "      <td>0.57735</td>\n",
       "      <td>0.57735</td>\n",
       "      <td>0.57735</td>\n",
       "      <td>0.0</td>\n",
       "      <td>0.00000</td>\n",
       "      <td>0.00000</td>\n",
       "      <td>0.00000</td>\n",
       "      <td>0.0</td>\n",
       "      <td>0.0</td>\n",
       "      <td>0.0</td>\n",
       "      <td>...</td>\n",
       "      <td>0.0</td>\n",
       "      <td>0.0</td>\n",
       "      <td>0.0</td>\n",
       "      <td>0.0</td>\n",
       "      <td>0.0</td>\n",
       "      <td>0.0</td>\n",
       "      <td>0.0</td>\n",
       "      <td>0.0</td>\n",
       "      <td>0.0</td>\n",
       "      <td>0.0</td>\n",
       "    </tr>\n",
       "    <tr>\n",
       "      <th>1</th>\n",
       "      <td>0.00000</td>\n",
       "      <td>0.00000</td>\n",
       "      <td>0.00000</td>\n",
       "      <td>1.0</td>\n",
       "      <td>0.00000</td>\n",
       "      <td>0.00000</td>\n",
       "      <td>0.00000</td>\n",
       "      <td>0.0</td>\n",
       "      <td>0.0</td>\n",
       "      <td>0.0</td>\n",
       "      <td>...</td>\n",
       "      <td>0.0</td>\n",
       "      <td>0.0</td>\n",
       "      <td>0.0</td>\n",
       "      <td>0.0</td>\n",
       "      <td>0.0</td>\n",
       "      <td>0.0</td>\n",
       "      <td>0.0</td>\n",
       "      <td>0.0</td>\n",
       "      <td>0.0</td>\n",
       "      <td>0.0</td>\n",
       "    </tr>\n",
       "    <tr>\n",
       "      <th>2</th>\n",
       "      <td>0.00000</td>\n",
       "      <td>0.00000</td>\n",
       "      <td>0.00000</td>\n",
       "      <td>0.0</td>\n",
       "      <td>0.57735</td>\n",
       "      <td>0.57735</td>\n",
       "      <td>0.57735</td>\n",
       "      <td>0.0</td>\n",
       "      <td>0.0</td>\n",
       "      <td>0.0</td>\n",
       "      <td>...</td>\n",
       "      <td>0.0</td>\n",
       "      <td>0.0</td>\n",
       "      <td>0.0</td>\n",
       "      <td>0.0</td>\n",
       "      <td>0.0</td>\n",
       "      <td>0.0</td>\n",
       "      <td>0.0</td>\n",
       "      <td>0.0</td>\n",
       "      <td>0.0</td>\n",
       "      <td>0.0</td>\n",
       "    </tr>\n",
       "    <tr>\n",
       "      <th>3</th>\n",
       "      <td>0.00000</td>\n",
       "      <td>0.00000</td>\n",
       "      <td>0.00000</td>\n",
       "      <td>0.0</td>\n",
       "      <td>0.00000</td>\n",
       "      <td>0.00000</td>\n",
       "      <td>0.00000</td>\n",
       "      <td>0.0</td>\n",
       "      <td>0.0</td>\n",
       "      <td>0.0</td>\n",
       "      <td>...</td>\n",
       "      <td>0.0</td>\n",
       "      <td>0.0</td>\n",
       "      <td>0.0</td>\n",
       "      <td>0.0</td>\n",
       "      <td>0.0</td>\n",
       "      <td>0.0</td>\n",
       "      <td>0.0</td>\n",
       "      <td>0.0</td>\n",
       "      <td>0.0</td>\n",
       "      <td>0.0</td>\n",
       "    </tr>\n",
       "    <tr>\n",
       "      <th>4</th>\n",
       "      <td>0.00000</td>\n",
       "      <td>0.00000</td>\n",
       "      <td>0.00000</td>\n",
       "      <td>0.0</td>\n",
       "      <td>0.00000</td>\n",
       "      <td>0.00000</td>\n",
       "      <td>0.00000</td>\n",
       "      <td>1.0</td>\n",
       "      <td>0.0</td>\n",
       "      <td>0.0</td>\n",
       "      <td>...</td>\n",
       "      <td>0.0</td>\n",
       "      <td>0.0</td>\n",
       "      <td>0.0</td>\n",
       "      <td>0.0</td>\n",
       "      <td>0.0</td>\n",
       "      <td>0.0</td>\n",
       "      <td>0.0</td>\n",
       "      <td>0.0</td>\n",
       "      <td>0.0</td>\n",
       "      <td>0.0</td>\n",
       "    </tr>\n",
       "    <tr>\n",
       "      <th>...</th>\n",
       "      <td>...</td>\n",
       "      <td>...</td>\n",
       "      <td>...</td>\n",
       "      <td>...</td>\n",
       "      <td>...</td>\n",
       "      <td>...</td>\n",
       "      <td>...</td>\n",
       "      <td>...</td>\n",
       "      <td>...</td>\n",
       "      <td>...</td>\n",
       "      <td>...</td>\n",
       "      <td>...</td>\n",
       "      <td>...</td>\n",
       "      <td>...</td>\n",
       "      <td>...</td>\n",
       "      <td>...</td>\n",
       "      <td>...</td>\n",
       "      <td>...</td>\n",
       "      <td>...</td>\n",
       "      <td>...</td>\n",
       "      <td>...</td>\n",
       "    </tr>\n",
       "    <tr>\n",
       "      <th>741</th>\n",
       "      <td>0.00000</td>\n",
       "      <td>0.00000</td>\n",
       "      <td>0.00000</td>\n",
       "      <td>0.0</td>\n",
       "      <td>0.00000</td>\n",
       "      <td>0.00000</td>\n",
       "      <td>0.00000</td>\n",
       "      <td>0.0</td>\n",
       "      <td>0.0</td>\n",
       "      <td>0.0</td>\n",
       "      <td>...</td>\n",
       "      <td>0.0</td>\n",
       "      <td>0.0</td>\n",
       "      <td>0.0</td>\n",
       "      <td>0.0</td>\n",
       "      <td>0.0</td>\n",
       "      <td>0.0</td>\n",
       "      <td>0.0</td>\n",
       "      <td>0.0</td>\n",
       "      <td>0.0</td>\n",
       "      <td>0.0</td>\n",
       "    </tr>\n",
       "    <tr>\n",
       "      <th>742</th>\n",
       "      <td>0.00000</td>\n",
       "      <td>0.00000</td>\n",
       "      <td>0.00000</td>\n",
       "      <td>0.0</td>\n",
       "      <td>0.00000</td>\n",
       "      <td>0.00000</td>\n",
       "      <td>0.00000</td>\n",
       "      <td>0.0</td>\n",
       "      <td>0.0</td>\n",
       "      <td>0.0</td>\n",
       "      <td>...</td>\n",
       "      <td>0.0</td>\n",
       "      <td>0.0</td>\n",
       "      <td>0.0</td>\n",
       "      <td>0.0</td>\n",
       "      <td>0.0</td>\n",
       "      <td>0.0</td>\n",
       "      <td>0.0</td>\n",
       "      <td>0.0</td>\n",
       "      <td>0.0</td>\n",
       "      <td>0.0</td>\n",
       "    </tr>\n",
       "    <tr>\n",
       "      <th>743</th>\n",
       "      <td>0.00000</td>\n",
       "      <td>0.00000</td>\n",
       "      <td>0.00000</td>\n",
       "      <td>0.0</td>\n",
       "      <td>0.00000</td>\n",
       "      <td>0.00000</td>\n",
       "      <td>0.00000</td>\n",
       "      <td>0.0</td>\n",
       "      <td>0.0</td>\n",
       "      <td>0.0</td>\n",
       "      <td>...</td>\n",
       "      <td>0.0</td>\n",
       "      <td>0.0</td>\n",
       "      <td>0.0</td>\n",
       "      <td>0.0</td>\n",
       "      <td>0.0</td>\n",
       "      <td>0.0</td>\n",
       "      <td>0.0</td>\n",
       "      <td>0.0</td>\n",
       "      <td>0.0</td>\n",
       "      <td>0.0</td>\n",
       "    </tr>\n",
       "    <tr>\n",
       "      <th>744</th>\n",
       "      <td>0.00000</td>\n",
       "      <td>0.00000</td>\n",
       "      <td>0.00000</td>\n",
       "      <td>0.0</td>\n",
       "      <td>0.00000</td>\n",
       "      <td>0.00000</td>\n",
       "      <td>0.00000</td>\n",
       "      <td>0.0</td>\n",
       "      <td>0.0</td>\n",
       "      <td>0.0</td>\n",
       "      <td>...</td>\n",
       "      <td>0.0</td>\n",
       "      <td>0.0</td>\n",
       "      <td>0.0</td>\n",
       "      <td>0.0</td>\n",
       "      <td>0.0</td>\n",
       "      <td>0.0</td>\n",
       "      <td>0.0</td>\n",
       "      <td>0.0</td>\n",
       "      <td>0.0</td>\n",
       "      <td>0.0</td>\n",
       "    </tr>\n",
       "    <tr>\n",
       "      <th>745</th>\n",
       "      <td>0.00000</td>\n",
       "      <td>0.00000</td>\n",
       "      <td>0.00000</td>\n",
       "      <td>0.0</td>\n",
       "      <td>0.00000</td>\n",
       "      <td>0.00000</td>\n",
       "      <td>0.00000</td>\n",
       "      <td>0.0</td>\n",
       "      <td>0.0</td>\n",
       "      <td>0.0</td>\n",
       "      <td>...</td>\n",
       "      <td>0.0</td>\n",
       "      <td>0.0</td>\n",
       "      <td>0.0</td>\n",
       "      <td>0.0</td>\n",
       "      <td>0.0</td>\n",
       "      <td>0.0</td>\n",
       "      <td>0.0</td>\n",
       "      <td>0.0</td>\n",
       "      <td>0.0</td>\n",
       "      <td>0.0</td>\n",
       "    </tr>\n",
       "  </tbody>\n",
       "</table>\n",
       "<p>746 rows × 50 columns</p>\n",
       "</div>"
      ],
      "text/plain": [
       "     aimless  distressed  drifting  nearly  attempting  artiness  existent  \\\n",
       "0    0.57735     0.57735   0.57735     0.0     0.00000   0.00000   0.00000   \n",
       "1    0.00000     0.00000   0.00000     1.0     0.00000   0.00000   0.00000   \n",
       "2    0.00000     0.00000   0.00000     0.0     0.57735   0.57735   0.57735   \n",
       "3    0.00000     0.00000   0.00000     0.0     0.00000   0.00000   0.00000   \n",
       "4    0.00000     0.00000   0.00000     0.0     0.00000   0.00000   0.00000   \n",
       "..       ...         ...       ...     ...         ...       ...       ...   \n",
       "741  0.00000     0.00000   0.00000     0.0     0.00000   0.00000   0.00000   \n",
       "742  0.00000     0.00000   0.00000     0.0     0.00000   0.00000   0.00000   \n",
       "743  0.00000     0.00000   0.00000     0.0     0.00000   0.00000   0.00000   \n",
       "744  0.00000     0.00000   0.00000     0.0     0.00000   0.00000   0.00000   \n",
       "745  0.00000     0.00000   0.00000     0.0     0.00000   0.00000   0.00000   \n",
       "\n",
       "     gerardo  emptiness  effort  ...  number   th  insane  massive  \\\n",
       "0        0.0        0.0     0.0  ...     0.0  0.0     0.0      0.0   \n",
       "1        0.0        0.0     0.0  ...     0.0  0.0     0.0      0.0   \n",
       "2        0.0        0.0     0.0  ...     0.0  0.0     0.0      0.0   \n",
       "3        0.0        0.0     0.0  ...     0.0  0.0     0.0      0.0   \n",
       "4        1.0        0.0     0.0  ...     0.0  0.0     0.0      0.0   \n",
       "..       ...        ...     ...  ...     ...  ...     ...      ...   \n",
       "741      0.0        0.0     0.0  ...     0.0  0.0     0.0      0.0   \n",
       "742      0.0        0.0     0.0  ...     0.0  0.0     0.0      0.0   \n",
       "743      0.0        0.0     0.0  ...     0.0  0.0     0.0      0.0   \n",
       "744      0.0        0.0     0.0  ...     0.0  0.0     0.0      0.0   \n",
       "745      0.0        0.0     0.0  ...     0.0  0.0     0.0      0.0   \n",
       "\n",
       "     unlockable  properly  aye  rocks  doomed  conception  \n",
       "0           0.0       0.0  0.0    0.0     0.0         0.0  \n",
       "1           0.0       0.0  0.0    0.0     0.0         0.0  \n",
       "2           0.0       0.0  0.0    0.0     0.0         0.0  \n",
       "3           0.0       0.0  0.0    0.0     0.0         0.0  \n",
       "4           0.0       0.0  0.0    0.0     0.0         0.0  \n",
       "..          ...       ...  ...    ...     ...         ...  \n",
       "741         0.0       0.0  0.0    0.0     0.0         0.0  \n",
       "742         0.0       0.0  0.0    0.0     0.0         0.0  \n",
       "743         0.0       0.0  0.0    0.0     0.0         0.0  \n",
       "744         0.0       0.0  0.0    0.0     0.0         0.0  \n",
       "745         0.0       0.0  0.0    0.0     0.0         0.0  \n",
       "\n",
       "[746 rows x 50 columns]"
      ]
     },
     "execution_count": 33,
     "metadata": {},
     "output_type": "execute_result"
    }
   ],
   "source": [
    "tfidf_weights_df = pd.DataFrame(tfidf_values,\n",
    "                                columns=list(total_occs.keys()))\n",
    "\n",
    "tfidf_weights_df"
   ]
  }
 ],
 "metadata": {
  "colab": {
   "collapsed_sections": [],
   "name": "Assignment_3_Instructions.ipynb",
   "provenance": []
  },
  "kernelspec": {
   "display_name": "Python 3",
   "language": "python",
   "name": "python3"
  },
  "language_info": {
   "codemirror_mode": {
    "name": "ipython",
    "version": 3
   },
   "file_extension": ".py",
   "mimetype": "text/x-python",
   "name": "python",
   "nbconvert_exporter": "python",
   "pygments_lexer": "ipython3",
   "version": "3.6.8"
  }
 },
 "nbformat": 4,
 "nbformat_minor": 4
}
