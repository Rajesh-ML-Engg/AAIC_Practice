{
 "cells": [
  {
   "cell_type": "code",
   "execution_count": 1,
   "metadata": {},
   "outputs": [],
   "source": [
    "import string\n",
    "import numpy as np\n",
    "import pandas as pd\n",
    "from sklearn.feature_extraction.text import ENGLISH_STOP_WORDS\n",
    "from sklearn.feature_extraction.text import CountVectorizer, TfidfVectorizer, TfidfTransformer"
   ]
  },
  {
   "cell_type": "code",
   "execution_count": 2,
   "metadata": {},
   "outputs": [
    {
     "name": "stdout",
     "output_type": "stream",
     "text": [
      "['!', '\"', '#', '$', '%', '&', \"'\", '(', ')', '*', '+', ',', '-', '.', '/', ':', ';', '<', '=', '>', '?', '@', '[', '\\\\', ']', '^', '_', '`', '{', '|', '}', '~']\n"
     ]
    }
   ],
   "source": [
    "punct = [word for word in string.punctuation]\n",
    "print(punct)"
   ]
  },
  {
   "cell_type": "code",
   "execution_count": 3,
   "metadata": {},
   "outputs": [
    {
     "name": "stdout",
     "output_type": "stream",
     "text": [
      "['across', 'themselves', 'front', 'therefore', 'below', 'first', 'though', 'both', 'find', 'should', 'thence', 'one', 'get', 'take', 'top', 'interest', 'fill', 'over', 'you', 'above', 'eleven', 'those', 'whoever', 'her', 'what', 'may', 'until', 'often', 'amongst', 'this', 'has', 'seem', 'few', 'because', 'must', 'me', 'nothing', 'through', 'ours', 'further', 'could', 'so', 'etc', 'hers', 'empty', 'back', 'ever', 'give', 'made', 'him', 'its', 'no', 'than', 'part', 'are', 'mine', 'fire', 'within', 'eg', 'everyone', 'might', 'sixty', 'therein', 'seems', 'side', 'somehow', 'own', 'latter', 'twelve', 'become', 'something', 'too', 'hereby', 'otherwise', 'already', 'ten', 'myself', 'their', 'where', 'amoungst', 'am', 'anywhere', 'forty', 'more', 'onto', 'almost', 'becomes', 'mill', 'becoming', 'wherever', 'whereupon', 'itself', 'whereby', 'being', 'very', 'himself', 'afterwards', 'most', 'however', 'mostly', 'thus', 'that', 'all', 'whose', 'fifty', 'couldnt', 'after', 'although', 'whole', 'if', 'behind', 'when', 'inc', 'down', 'why', 'whereas', 'an', 'else', 'neither', 'any', 'anything', 'formerly', 'he', 'nor', 'ourselves', 'out', 're', 'moreover', 'some', 'between', 'two', 'upon', 'your', 'nine', 'off', 'alone', 'detail', 'elsewhere', 'to', 'once', 'bill', 'call', 'anyway', 'namely', 'seeming', 'system', 'whom', 'along', 'again', 'each', 'name', 'now', 'same', 'last', 'herein', 'cannot', 'even', 'hereupon', 'serious', 'always', 'also', 'nobody', 'at', 'enough', 'four', 'into', 'noone', 'someone', 'the', 'these', 'con', 'meanwhile', 'several', 'thick', 'toward', 'his', 'will', 'nevertheless', 'everything', 'latterly', 'while', 'three', 'hasnt', 'everywhere', 'twenty', 'others', 'please', 'hereafter', 'ltd', 'such', 'every', 'among', 'it', 'they', 'anyhow', 'under', 'per', 'sometime', 'less', 'thereafter', 'was', 'eight', 'were', 'bottom', 'keep', 'by', 'throughout', 'as', 'beside', 'ie', 'our', 'together', 'who', 'is', 'with', 'besides', 'whence', 'whatever', 'how', 'for', 'least', 'describe', 'move', 'put', 'rather', 'cry', 'a', 'my', 'sometimes', 'had', 'around', 'hence', 'thereby', 'none', 'done', 'became', 'due', 'hundred', 'and', 'she', 'would', 'which', 'other', 'here', 'many', 'third', 'except', 'nowhere', 'herself', 'beforehand', 'fifteen', 'thereupon', 'we', 'former', 'perhaps', 'or', 'there', 'un', 'be', 'yours', 'them', 'then', 'six', 'go', 'five', 'via', 'about', 'either', 'but', 'indeed', 'see', 'without', 'thin', 'cant', 'yourselves', 'whenever', 'whether', 'do', 'anyone', 'have', 'next', 'co', 'seemed', 'still', 'up', 'somewhere', 'during', 'us', 'amount', 'much', 'another', 'of', 'thru', 'i', 'full', 'on', 'against', 'can', 'not', 'show', 'only', 'before', 'wherein', 'never', 'whither', 'been', 'sincere', 'well', 'yet', 'in', 'de', 'beyond', 'whereafter', 'from', 'yourself', 'since', 'found', 'towards']\n"
     ]
    }
   ],
   "source": [
    "stop_words = list(ENGLISH_STOP_WORDS)\n",
    "print(stop_words)"
   ]
  },
  {
   "cell_type": "code",
   "execution_count": 4,
   "metadata": {},
   "outputs": [
    {
     "data": {
      "text/plain": [
       "['John like horror movie.', 'Ryan watches movie and dramatic movies.']"
      ]
     },
     "execution_count": 4,
     "metadata": {},
     "output_type": "execute_result"
    }
   ],
   "source": [
    "corpus = [\n",
    "    \"John like horror movie.\",\n",
    "   \"Ryan watches movie and dramatic movies.\"\n",
    "]\n",
    "corpus"
   ]
  },
  {
   "cell_type": "code",
   "execution_count": 5,
   "metadata": {},
   "outputs": [
    {
     "name": "stdout",
     "output_type": "stream",
     "text": [
      "['john', 'like', 'horror', 'movie', 'ryan', 'watches', 'movie', 'dramatic', 'movies']\n"
     ]
    }
   ],
   "source": [
    "pre_proc_vocab = []\n",
    "for doc in corpus:\n",
    "    doc_as_list = doc.split(\" \")\n",
    "    for word in doc_as_list:\n",
    "        word_lower = str(word).lower().replace('.','') \n",
    "        if word_lower not in stop_words:\n",
    "            pre_proc_vocab.append(word_lower)\n",
    "            \n",
    "print(pre_proc_vocab)"
   ]
  },
  {
   "cell_type": "code",
   "execution_count": 6,
   "metadata": {},
   "outputs": [
    {
     "data": {
      "text/plain": [
       "['John like horror movie.', 'Ryan watches movie and dramatic movies.']"
      ]
     },
     "execution_count": 6,
     "metadata": {},
     "output_type": "execute_result"
    }
   ],
   "source": [
    "corpus"
   ]
  },
  {
   "cell_type": "code",
   "execution_count": 7,
   "metadata": {},
   "outputs": [],
   "source": [
    "pd.set_option('display.max_columns',70)"
   ]
  },
  {
   "cell_type": "markdown",
   "metadata": {},
   "source": [
    "#### **Applying Count Vectoriser**"
   ]
  },
  {
   "cell_type": "code",
   "execution_count": 60,
   "metadata": {},
   "outputs": [
    {
     "data": {
      "text/plain": [
       "CountVectorizer(binary=True, max_df=1, ngram_range=(1, 3))"
      ]
     },
     "execution_count": 60,
     "metadata": {},
     "output_type": "execute_result"
    }
   ],
   "source": [
    "cv = CountVectorizer(binary=True,analyzer='word',ngram_range=(1,3),max_df=1)\n",
    "cv.fit(corpus)"
   ]
  },
  {
   "cell_type": "code",
   "execution_count": 61,
   "metadata": {},
   "outputs": [
    {
     "data": {
      "text/plain": [
       "<2x22 sparse matrix of type '<class 'numpy.int64'>'\n",
       "\twith 22 stored elements in Compressed Sparse Row format>"
      ]
     },
     "execution_count": 61,
     "metadata": {},
     "output_type": "execute_result"
    }
   ],
   "source": [
    "cv_corp_results = cv.transform(corpus)\n",
    "cv_corp_results"
   ]
  },
  {
   "cell_type": "code",
   "execution_count": 62,
   "metadata": {},
   "outputs": [
    {
     "data": {
      "text/html": [
       "<div>\n",
       "<style scoped>\n",
       "    .dataframe tbody tr th:only-of-type {\n",
       "        vertical-align: middle;\n",
       "    }\n",
       "\n",
       "    .dataframe tbody tr th {\n",
       "        vertical-align: top;\n",
       "    }\n",
       "\n",
       "    .dataframe thead th {\n",
       "        text-align: right;\n",
       "    }\n",
       "</style>\n",
       "<table border=\"1\" class=\"dataframe\">\n",
       "  <thead>\n",
       "    <tr style=\"text-align: right;\">\n",
       "      <th></th>\n",
       "      <th>and</th>\n",
       "      <th>and dramatic</th>\n",
       "      <th>and dramatic movies</th>\n",
       "      <th>dramatic</th>\n",
       "      <th>dramatic movies</th>\n",
       "      <th>horror</th>\n",
       "      <th>horror movie</th>\n",
       "      <th>john</th>\n",
       "      <th>john like</th>\n",
       "      <th>john like horror</th>\n",
       "      <th>like</th>\n",
       "      <th>like horror</th>\n",
       "      <th>like horror movie</th>\n",
       "      <th>movie and</th>\n",
       "      <th>movie and dramatic</th>\n",
       "      <th>movies</th>\n",
       "      <th>ryan</th>\n",
       "      <th>ryan watches</th>\n",
       "      <th>ryan watches movie</th>\n",
       "      <th>watches</th>\n",
       "      <th>watches movie</th>\n",
       "      <th>watches movie and</th>\n",
       "    </tr>\n",
       "  </thead>\n",
       "  <tbody>\n",
       "    <tr>\n",
       "      <th>0</th>\n",
       "      <td>0</td>\n",
       "      <td>0</td>\n",
       "      <td>0</td>\n",
       "      <td>0</td>\n",
       "      <td>0</td>\n",
       "      <td>1</td>\n",
       "      <td>1</td>\n",
       "      <td>1</td>\n",
       "      <td>1</td>\n",
       "      <td>1</td>\n",
       "      <td>1</td>\n",
       "      <td>1</td>\n",
       "      <td>1</td>\n",
       "      <td>0</td>\n",
       "      <td>0</td>\n",
       "      <td>0</td>\n",
       "      <td>0</td>\n",
       "      <td>0</td>\n",
       "      <td>0</td>\n",
       "      <td>0</td>\n",
       "      <td>0</td>\n",
       "      <td>0</td>\n",
       "    </tr>\n",
       "    <tr>\n",
       "      <th>1</th>\n",
       "      <td>1</td>\n",
       "      <td>1</td>\n",
       "      <td>1</td>\n",
       "      <td>1</td>\n",
       "      <td>1</td>\n",
       "      <td>0</td>\n",
       "      <td>0</td>\n",
       "      <td>0</td>\n",
       "      <td>0</td>\n",
       "      <td>0</td>\n",
       "      <td>0</td>\n",
       "      <td>0</td>\n",
       "      <td>0</td>\n",
       "      <td>1</td>\n",
       "      <td>1</td>\n",
       "      <td>1</td>\n",
       "      <td>1</td>\n",
       "      <td>1</td>\n",
       "      <td>1</td>\n",
       "      <td>1</td>\n",
       "      <td>1</td>\n",
       "      <td>1</td>\n",
       "    </tr>\n",
       "  </tbody>\n",
       "</table>\n",
       "</div>"
      ],
      "text/plain": [
       "   and  and dramatic  and dramatic movies  dramatic  dramatic movies  horror  \\\n",
       "0    0             0                    0         0                0       1   \n",
       "1    1             1                    1         1                1       0   \n",
       "\n",
       "   horror movie  john  john like  john like horror  like  like horror  \\\n",
       "0             1     1          1                 1     1            1   \n",
       "1             0     0          0                 0     0            0   \n",
       "\n",
       "   like horror movie  movie and  movie and dramatic  movies  ryan  \\\n",
       "0                  1          0                   0       0     0   \n",
       "1                  0          1                   1       1     1   \n",
       "\n",
       "   ryan watches  ryan watches movie  watches  watches movie  watches movie and  \n",
       "0             0                   0        0              0                  0  \n",
       "1             1                   1        1              1                  1  "
      ]
     },
     "execution_count": 62,
     "metadata": {},
     "output_type": "execute_result"
    }
   ],
   "source": [
    "pd.DataFrame(cv_corp_results.todense(),columns=cv.get_feature_names())"
   ]
  },
  {
   "cell_type": "markdown",
   "metadata": {},
   "source": [
    "#### **Applying Tf-IDF Vectoriser**"
   ]
  },
  {
   "cell_type": "code",
   "execution_count": 67,
   "metadata": {},
   "outputs": [
    {
     "data": {
      "text/plain": [
       "TfidfVectorizer(max_df=2, ngram_range=(1, 2))"
      ]
     },
     "execution_count": 67,
     "metadata": {},
     "output_type": "execute_result"
    }
   ],
   "source": [
    "tf = TfidfVectorizer(ngram_range=(1,2),analyzer='word',binary=False,max_df=2)\n",
    "tf.fit(corpus)"
   ]
  },
  {
   "cell_type": "code",
   "execution_count": 68,
   "metadata": {},
   "outputs": [
    {
     "data": {
      "text/plain": [
       "({'john': 6,\n",
       "  'like': 8,\n",
       "  'horror': 4,\n",
       "  'movie': 10,\n",
       "  'john like': 7,\n",
       "  'like horror': 9,\n",
       "  'horror movie': 5,\n",
       "  'ryan': 13,\n",
       "  'watches': 15,\n",
       "  'and': 0,\n",
       "  'dramatic': 2,\n",
       "  'movies': 12,\n",
       "  'ryan watches': 14,\n",
       "  'watches movie': 16,\n",
       "  'movie and': 11,\n",
       "  'and dramatic': 1,\n",
       "  'dramatic movies': 3},\n",
       " array([1.40546511, 1.40546511, 1.40546511, 1.40546511, 1.40546511,\n",
       "        1.40546511, 1.40546511, 1.40546511, 1.40546511, 1.40546511,\n",
       "        1.        , 1.40546511, 1.40546511, 1.40546511, 1.40546511,\n",
       "        1.40546511, 1.40546511]))"
      ]
     },
     "execution_count": 68,
     "metadata": {},
     "output_type": "execute_result"
    }
   ],
   "source": [
    "tf.vocabulary_, tf.idf_,"
   ]
  },
  {
   "cell_type": "code",
   "execution_count": 69,
   "metadata": {},
   "outputs": [
    {
     "data": {
      "text/plain": [
       "<2x17 sparse matrix of type '<class 'numpy.float64'>'\n",
       "\twith 18 stored elements in Compressed Sparse Row format>"
      ]
     },
     "execution_count": 69,
     "metadata": {},
     "output_type": "execute_result"
    }
   ],
   "source": [
    "tfidf_corp_results = tf.transform(corpus)\n",
    "tfidf_corp_results"
   ]
  },
  {
   "cell_type": "code",
   "execution_count": 70,
   "metadata": {},
   "outputs": [
    {
     "data": {
      "text/html": [
       "<div>\n",
       "<style scoped>\n",
       "    .dataframe tbody tr th:only-of-type {\n",
       "        vertical-align: middle;\n",
       "    }\n",
       "\n",
       "    .dataframe tbody tr th {\n",
       "        vertical-align: top;\n",
       "    }\n",
       "\n",
       "    .dataframe thead th {\n",
       "        text-align: right;\n",
       "    }\n",
       "</style>\n",
       "<table border=\"1\" class=\"dataframe\">\n",
       "  <thead>\n",
       "    <tr style=\"text-align: right;\">\n",
       "      <th></th>\n",
       "      <th>and</th>\n",
       "      <th>and dramatic</th>\n",
       "      <th>dramatic</th>\n",
       "      <th>dramatic movies</th>\n",
       "      <th>horror</th>\n",
       "      <th>horror movie</th>\n",
       "      <th>john</th>\n",
       "      <th>john like</th>\n",
       "      <th>like</th>\n",
       "      <th>like horror</th>\n",
       "      <th>movie</th>\n",
       "      <th>movie and</th>\n",
       "      <th>movies</th>\n",
       "      <th>ryan</th>\n",
       "      <th>ryan watches</th>\n",
       "      <th>watches</th>\n",
       "      <th>watches movie</th>\n",
       "    </tr>\n",
       "  </thead>\n",
       "  <tbody>\n",
       "    <tr>\n",
       "      <th>0</th>\n",
       "      <td>0.000000</td>\n",
       "      <td>0.000000</td>\n",
       "      <td>0.000000</td>\n",
       "      <td>0.000000</td>\n",
       "      <td>0.392044</td>\n",
       "      <td>0.392044</td>\n",
       "      <td>0.392044</td>\n",
       "      <td>0.392044</td>\n",
       "      <td>0.392044</td>\n",
       "      <td>0.392044</td>\n",
       "      <td>0.278943</td>\n",
       "      <td>0.000000</td>\n",
       "      <td>0.000000</td>\n",
       "      <td>0.000000</td>\n",
       "      <td>0.000000</td>\n",
       "      <td>0.000000</td>\n",
       "      <td>0.000000</td>\n",
       "    </tr>\n",
       "    <tr>\n",
       "      <th>1</th>\n",
       "      <td>0.308515</td>\n",
       "      <td>0.308515</td>\n",
       "      <td>0.308515</td>\n",
       "      <td>0.308515</td>\n",
       "      <td>0.000000</td>\n",
       "      <td>0.000000</td>\n",
       "      <td>0.000000</td>\n",
       "      <td>0.000000</td>\n",
       "      <td>0.000000</td>\n",
       "      <td>0.000000</td>\n",
       "      <td>0.219511</td>\n",
       "      <td>0.308515</td>\n",
       "      <td>0.308515</td>\n",
       "      <td>0.308515</td>\n",
       "      <td>0.308515</td>\n",
       "      <td>0.308515</td>\n",
       "      <td>0.308515</td>\n",
       "    </tr>\n",
       "  </tbody>\n",
       "</table>\n",
       "</div>"
      ],
      "text/plain": [
       "        and  and dramatic  dramatic  dramatic movies    horror  horror movie  \\\n",
       "0  0.000000      0.000000  0.000000         0.000000  0.392044      0.392044   \n",
       "1  0.308515      0.308515  0.308515         0.308515  0.000000      0.000000   \n",
       "\n",
       "       john  john like      like  like horror     movie  movie and    movies  \\\n",
       "0  0.392044   0.392044  0.392044     0.392044  0.278943   0.000000  0.000000   \n",
       "1  0.000000   0.000000  0.000000     0.000000  0.219511   0.308515  0.308515   \n",
       "\n",
       "       ryan  ryan watches   watches  watches movie  \n",
       "0  0.000000      0.000000  0.000000       0.000000  \n",
       "1  0.308515      0.308515  0.308515       0.308515  "
      ]
     },
     "execution_count": 70,
     "metadata": {},
     "output_type": "execute_result"
    }
   ],
   "source": [
    "pd.DataFrame(tfidf_corp_results.toarray(),columns=tf.get_feature_names())"
   ]
  },
  {
   "cell_type": "code",
   "execution_count": 63,
   "metadata": {},
   "outputs": [
    {
     "data": {
      "text/plain": [
       "TfidfVectorizer(min_df=2, ngram_range=(1, 2))"
      ]
     },
     "execution_count": 63,
     "metadata": {},
     "output_type": "execute_result"
    }
   ],
   "source": [
    "tf = TfidfVectorizer(ngram_range=(1,2),analyzer='word',binary=False,min_df=2)\n",
    "tf.fit(corpus)"
   ]
  },
  {
   "cell_type": "code",
   "execution_count": 64,
   "metadata": {},
   "outputs": [
    {
     "data": {
      "text/plain": [
       "({'movie': 0}, array([1.]))"
      ]
     },
     "execution_count": 64,
     "metadata": {},
     "output_type": "execute_result"
    }
   ],
   "source": [
    "tf.vocabulary_, tf.idf_,"
   ]
  },
  {
   "cell_type": "code",
   "execution_count": 65,
   "metadata": {},
   "outputs": [
    {
     "data": {
      "text/plain": [
       "<2x1 sparse matrix of type '<class 'numpy.float64'>'\n",
       "\twith 2 stored elements in Compressed Sparse Row format>"
      ]
     },
     "execution_count": 65,
     "metadata": {},
     "output_type": "execute_result"
    }
   ],
   "source": [
    "tfidf_corp_results = tf.transform(corpus)\n",
    "tfidf_corp_results"
   ]
  },
  {
   "cell_type": "code",
   "execution_count": 66,
   "metadata": {},
   "outputs": [
    {
     "data": {
      "text/html": [
       "<div>\n",
       "<style scoped>\n",
       "    .dataframe tbody tr th:only-of-type {\n",
       "        vertical-align: middle;\n",
       "    }\n",
       "\n",
       "    .dataframe tbody tr th {\n",
       "        vertical-align: top;\n",
       "    }\n",
       "\n",
       "    .dataframe thead th {\n",
       "        text-align: right;\n",
       "    }\n",
       "</style>\n",
       "<table border=\"1\" class=\"dataframe\">\n",
       "  <thead>\n",
       "    <tr style=\"text-align: right;\">\n",
       "      <th></th>\n",
       "      <th>movie</th>\n",
       "    </tr>\n",
       "  </thead>\n",
       "  <tbody>\n",
       "    <tr>\n",
       "      <th>0</th>\n",
       "      <td>1.0</td>\n",
       "    </tr>\n",
       "    <tr>\n",
       "      <th>1</th>\n",
       "      <td>1.0</td>\n",
       "    </tr>\n",
       "  </tbody>\n",
       "</table>\n",
       "</div>"
      ],
      "text/plain": [
       "   movie\n",
       "0    1.0\n",
       "1    1.0"
      ]
     },
     "execution_count": 66,
     "metadata": {},
     "output_type": "execute_result"
    }
   ],
   "source": [
    "pd.DataFrame(tfidf_corp_results.toarray(),columns=tf.get_feature_names())"
   ]
  },
  {
   "cell_type": "markdown",
   "metadata": {},
   "source": [
    "#### **Applying Tf-IDF Transformer**"
   ]
  },
  {
   "cell_type": "code",
   "execution_count": 198,
   "metadata": {},
   "outputs": [
    {
     "data": {
      "text/plain": [
       "TfidfTransformer(sublinear_tf=True)"
      ]
     },
     "execution_count": 198,
     "metadata": {},
     "output_type": "execute_result"
    }
   ],
   "source": [
    "tf_idf_tr = TfidfTransformer(sublinear_tf=True)\n",
    "tf_idf_tr.fit(cv_corp_results)"
   ]
  },
  {
   "cell_type": "code",
   "execution_count": 199,
   "metadata": {},
   "outputs": [
    {
     "data": {
      "text/plain": [
       "<2x23 sparse matrix of type '<class 'numpy.float64'>'\n",
       "\twith 24 stored elements in Compressed Sparse Row format>"
      ]
     },
     "execution_count": 199,
     "metadata": {},
     "output_type": "execute_result"
    }
   ],
   "source": [
    "tfidf_transformer_results = tf_idf_tr.transform(cv_corp_results)\n",
    "tfidf_transformer_results"
   ]
  },
  {
   "cell_type": "code",
   "execution_count": 200,
   "metadata": {},
   "outputs": [
    {
     "data": {
      "text/html": [
       "<div>\n",
       "<style scoped>\n",
       "    .dataframe tbody tr th:only-of-type {\n",
       "        vertical-align: middle;\n",
       "    }\n",
       "\n",
       "    .dataframe tbody tr th {\n",
       "        vertical-align: top;\n",
       "    }\n",
       "\n",
       "    .dataframe thead th {\n",
       "        text-align: right;\n",
       "    }\n",
       "</style>\n",
       "<table border=\"1\" class=\"dataframe\">\n",
       "  <thead>\n",
       "    <tr style=\"text-align: right;\">\n",
       "      <th></th>\n",
       "      <th>and</th>\n",
       "      <th>and dramatic</th>\n",
       "      <th>and dramatic movies</th>\n",
       "      <th>dramatic</th>\n",
       "      <th>dramatic movies</th>\n",
       "      <th>horror</th>\n",
       "      <th>horror movie</th>\n",
       "      <th>john</th>\n",
       "      <th>john like</th>\n",
       "      <th>john like horror</th>\n",
       "      <th>like</th>\n",
       "      <th>like horror</th>\n",
       "      <th>like horror movie</th>\n",
       "      <th>movie</th>\n",
       "      <th>movie and</th>\n",
       "      <th>movie and dramatic</th>\n",
       "      <th>movies</th>\n",
       "      <th>ryan</th>\n",
       "      <th>ryan watches</th>\n",
       "      <th>ryan watches movie</th>\n",
       "      <th>watches</th>\n",
       "      <th>watches movie</th>\n",
       "      <th>watches movie and</th>\n",
       "    </tr>\n",
       "  </thead>\n",
       "  <tbody>\n",
       "    <tr>\n",
       "      <th>0</th>\n",
       "      <td>0.000000</td>\n",
       "      <td>0.000000</td>\n",
       "      <td>0.000000</td>\n",
       "      <td>0.000000</td>\n",
       "      <td>0.000000</td>\n",
       "      <td>0.342871</td>\n",
       "      <td>0.342871</td>\n",
       "      <td>0.342871</td>\n",
       "      <td>0.342871</td>\n",
       "      <td>0.342871</td>\n",
       "      <td>0.342871</td>\n",
       "      <td>0.342871</td>\n",
       "      <td>0.342871</td>\n",
       "      <td>0.243956</td>\n",
       "      <td>0.000000</td>\n",
       "      <td>0.000000</td>\n",
       "      <td>0.000000</td>\n",
       "      <td>0.000000</td>\n",
       "      <td>0.000000</td>\n",
       "      <td>0.000000</td>\n",
       "      <td>0.000000</td>\n",
       "      <td>0.000000</td>\n",
       "      <td>0.000000</td>\n",
       "    </tr>\n",
       "    <tr>\n",
       "      <th>1</th>\n",
       "      <td>0.262556</td>\n",
       "      <td>0.262556</td>\n",
       "      <td>0.262556</td>\n",
       "      <td>0.262556</td>\n",
       "      <td>0.262556</td>\n",
       "      <td>0.000000</td>\n",
       "      <td>0.000000</td>\n",
       "      <td>0.000000</td>\n",
       "      <td>0.000000</td>\n",
       "      <td>0.000000</td>\n",
       "      <td>0.000000</td>\n",
       "      <td>0.000000</td>\n",
       "      <td>0.000000</td>\n",
       "      <td>0.186811</td>\n",
       "      <td>0.262556</td>\n",
       "      <td>0.262556</td>\n",
       "      <td>0.262556</td>\n",
       "      <td>0.262556</td>\n",
       "      <td>0.262556</td>\n",
       "      <td>0.262556</td>\n",
       "      <td>0.262556</td>\n",
       "      <td>0.262556</td>\n",
       "      <td>0.262556</td>\n",
       "    </tr>\n",
       "  </tbody>\n",
       "</table>\n",
       "</div>"
      ],
      "text/plain": [
       "        and  and dramatic  and dramatic movies  dramatic  dramatic movies  \\\n",
       "0  0.000000      0.000000             0.000000  0.000000         0.000000   \n",
       "1  0.262556      0.262556             0.262556  0.262556         0.262556   \n",
       "\n",
       "     horror  horror movie      john  john like  john like horror      like  \\\n",
       "0  0.342871      0.342871  0.342871   0.342871          0.342871  0.342871   \n",
       "1  0.000000      0.000000  0.000000   0.000000          0.000000  0.000000   \n",
       "\n",
       "   like horror  like horror movie     movie  movie and  movie and dramatic  \\\n",
       "0     0.342871           0.342871  0.243956   0.000000            0.000000   \n",
       "1     0.000000           0.000000  0.186811   0.262556            0.262556   \n",
       "\n",
       "     movies      ryan  ryan watches  ryan watches movie   watches  \\\n",
       "0  0.000000  0.000000      0.000000            0.000000  0.000000   \n",
       "1  0.262556  0.262556      0.262556            0.262556  0.262556   \n",
       "\n",
       "   watches movie  watches movie and  \n",
       "0       0.000000           0.000000  \n",
       "1       0.262556           0.262556  "
      ]
     },
     "execution_count": 200,
     "metadata": {},
     "output_type": "execute_result"
    }
   ],
   "source": [
    "pd.DataFrame(tfidf_transformer_results.todense(),columns=tf.get_feature_names())"
   ]
  },
  {
   "cell_type": "markdown",
   "metadata": {},
   "source": [
    "#### **On Unseen Dataset**"
   ]
  },
  {
   "cell_type": "code",
   "execution_count": 201,
   "metadata": {},
   "outputs": [],
   "source": [
    "test_data = [\"his name is horror and he likes horror movies.\",\n",
    "            \"i like working on python-like languages.\"] "
   ]
  },
  {
   "cell_type": "code",
   "execution_count": 202,
   "metadata": {},
   "outputs": [
    {
     "data": {
      "text/html": [
       "<div>\n",
       "<style scoped>\n",
       "    .dataframe tbody tr th:only-of-type {\n",
       "        vertical-align: middle;\n",
       "    }\n",
       "\n",
       "    .dataframe tbody tr th {\n",
       "        vertical-align: top;\n",
       "    }\n",
       "\n",
       "    .dataframe thead th {\n",
       "        text-align: right;\n",
       "    }\n",
       "</style>\n",
       "<table border=\"1\" class=\"dataframe\">\n",
       "  <thead>\n",
       "    <tr style=\"text-align: right;\">\n",
       "      <th></th>\n",
       "      <th>and</th>\n",
       "      <th>and dramatic</th>\n",
       "      <th>and dramatic movies</th>\n",
       "      <th>dramatic</th>\n",
       "      <th>dramatic movies</th>\n",
       "      <th>horror</th>\n",
       "      <th>horror movie</th>\n",
       "      <th>john</th>\n",
       "      <th>john like</th>\n",
       "      <th>john like horror</th>\n",
       "      <th>like</th>\n",
       "      <th>like horror</th>\n",
       "      <th>like horror movie</th>\n",
       "      <th>movie</th>\n",
       "      <th>movie and</th>\n",
       "      <th>movie and dramatic</th>\n",
       "      <th>movies</th>\n",
       "      <th>ryan</th>\n",
       "      <th>ryan watches</th>\n",
       "      <th>ryan watches movie</th>\n",
       "      <th>watches</th>\n",
       "      <th>watches movie</th>\n",
       "      <th>watches movie and</th>\n",
       "    </tr>\n",
       "  </thead>\n",
       "  <tbody>\n",
       "    <tr>\n",
       "      <th>0</th>\n",
       "      <td>1</td>\n",
       "      <td>0</td>\n",
       "      <td>0</td>\n",
       "      <td>0</td>\n",
       "      <td>0</td>\n",
       "      <td>1</td>\n",
       "      <td>0</td>\n",
       "      <td>0</td>\n",
       "      <td>0</td>\n",
       "      <td>0</td>\n",
       "      <td>0</td>\n",
       "      <td>0</td>\n",
       "      <td>0</td>\n",
       "      <td>0</td>\n",
       "      <td>0</td>\n",
       "      <td>0</td>\n",
       "      <td>1</td>\n",
       "      <td>0</td>\n",
       "      <td>0</td>\n",
       "      <td>0</td>\n",
       "      <td>0</td>\n",
       "      <td>0</td>\n",
       "      <td>0</td>\n",
       "    </tr>\n",
       "    <tr>\n",
       "      <th>1</th>\n",
       "      <td>0</td>\n",
       "      <td>0</td>\n",
       "      <td>0</td>\n",
       "      <td>0</td>\n",
       "      <td>0</td>\n",
       "      <td>0</td>\n",
       "      <td>0</td>\n",
       "      <td>0</td>\n",
       "      <td>0</td>\n",
       "      <td>0</td>\n",
       "      <td>1</td>\n",
       "      <td>0</td>\n",
       "      <td>0</td>\n",
       "      <td>0</td>\n",
       "      <td>0</td>\n",
       "      <td>0</td>\n",
       "      <td>0</td>\n",
       "      <td>0</td>\n",
       "      <td>0</td>\n",
       "      <td>0</td>\n",
       "      <td>0</td>\n",
       "      <td>0</td>\n",
       "      <td>0</td>\n",
       "    </tr>\n",
       "  </tbody>\n",
       "</table>\n",
       "</div>"
      ],
      "text/plain": [
       "   and  and dramatic  and dramatic movies  dramatic  dramatic movies  horror  \\\n",
       "0    1             0                    0         0                0       1   \n",
       "1    0             0                    0         0                0       0   \n",
       "\n",
       "   horror movie  john  john like  john like horror  like  like horror  \\\n",
       "0             0     0          0                 0     0            0   \n",
       "1             0     0          0                 0     1            0   \n",
       "\n",
       "   like horror movie  movie  movie and  movie and dramatic  movies  ryan  \\\n",
       "0                  0      0          0                   0       1     0   \n",
       "1                  0      0          0                   0       0     0   \n",
       "\n",
       "   ryan watches  ryan watches movie  watches  watches movie  watches movie and  \n",
       "0             0                   0        0              0                  0  \n",
       "1             0                   0        0              0                  0  "
      ]
     },
     "execution_count": 202,
     "metadata": {},
     "output_type": "execute_result"
    }
   ],
   "source": [
    "tt = pd.DataFrame(cv.transform(test_data).todense(),columns=cv.get_feature_names())\n",
    "tt"
   ]
  },
  {
   "cell_type": "code",
   "execution_count": 203,
   "metadata": {},
   "outputs": [
    {
     "data": {
      "text/html": [
       "<div>\n",
       "<style scoped>\n",
       "    .dataframe tbody tr th:only-of-type {\n",
       "        vertical-align: middle;\n",
       "    }\n",
       "\n",
       "    .dataframe tbody tr th {\n",
       "        vertical-align: top;\n",
       "    }\n",
       "\n",
       "    .dataframe thead th {\n",
       "        text-align: right;\n",
       "    }\n",
       "</style>\n",
       "<table border=\"1\" class=\"dataframe\">\n",
       "  <thead>\n",
       "    <tr style=\"text-align: right;\">\n",
       "      <th></th>\n",
       "      <th>and</th>\n",
       "      <th>and dramatic</th>\n",
       "      <th>and dramatic movies</th>\n",
       "      <th>dramatic</th>\n",
       "      <th>dramatic movies</th>\n",
       "      <th>horror</th>\n",
       "      <th>horror movie</th>\n",
       "      <th>john</th>\n",
       "      <th>john like</th>\n",
       "      <th>john like horror</th>\n",
       "      <th>like</th>\n",
       "      <th>like horror</th>\n",
       "      <th>like horror movie</th>\n",
       "      <th>movie</th>\n",
       "      <th>movie and</th>\n",
       "      <th>movie and dramatic</th>\n",
       "      <th>movies</th>\n",
       "      <th>ryan</th>\n",
       "      <th>ryan watches</th>\n",
       "      <th>ryan watches movie</th>\n",
       "      <th>watches</th>\n",
       "      <th>watches movie</th>\n",
       "      <th>watches movie and</th>\n",
       "    </tr>\n",
       "  </thead>\n",
       "  <tbody>\n",
       "    <tr>\n",
       "      <th>0</th>\n",
       "      <td>0.57735</td>\n",
       "      <td>0.0</td>\n",
       "      <td>0.0</td>\n",
       "      <td>0.0</td>\n",
       "      <td>0.0</td>\n",
       "      <td>0.57735</td>\n",
       "      <td>0.0</td>\n",
       "      <td>0.0</td>\n",
       "      <td>0.0</td>\n",
       "      <td>0.0</td>\n",
       "      <td>0.0</td>\n",
       "      <td>0.0</td>\n",
       "      <td>0.0</td>\n",
       "      <td>0.0</td>\n",
       "      <td>0.0</td>\n",
       "      <td>0.0</td>\n",
       "      <td>0.57735</td>\n",
       "      <td>0.0</td>\n",
       "      <td>0.0</td>\n",
       "      <td>0.0</td>\n",
       "      <td>0.0</td>\n",
       "      <td>0.0</td>\n",
       "      <td>0.0</td>\n",
       "    </tr>\n",
       "    <tr>\n",
       "      <th>1</th>\n",
       "      <td>0.00000</td>\n",
       "      <td>0.0</td>\n",
       "      <td>0.0</td>\n",
       "      <td>0.0</td>\n",
       "      <td>0.0</td>\n",
       "      <td>0.00000</td>\n",
       "      <td>0.0</td>\n",
       "      <td>0.0</td>\n",
       "      <td>0.0</td>\n",
       "      <td>0.0</td>\n",
       "      <td>1.0</td>\n",
       "      <td>0.0</td>\n",
       "      <td>0.0</td>\n",
       "      <td>0.0</td>\n",
       "      <td>0.0</td>\n",
       "      <td>0.0</td>\n",
       "      <td>0.00000</td>\n",
       "      <td>0.0</td>\n",
       "      <td>0.0</td>\n",
       "      <td>0.0</td>\n",
       "      <td>0.0</td>\n",
       "      <td>0.0</td>\n",
       "      <td>0.0</td>\n",
       "    </tr>\n",
       "  </tbody>\n",
       "</table>\n",
       "</div>"
      ],
      "text/plain": [
       "       and  and dramatic  and dramatic movies  dramatic  dramatic movies  \\\n",
       "0  0.57735           0.0                  0.0       0.0              0.0   \n",
       "1  0.00000           0.0                  0.0       0.0              0.0   \n",
       "\n",
       "    horror  horror movie  john  john like  john like horror  like  \\\n",
       "0  0.57735           0.0   0.0        0.0               0.0   0.0   \n",
       "1  0.00000           0.0   0.0        0.0               0.0   1.0   \n",
       "\n",
       "   like horror  like horror movie  movie  movie and  movie and dramatic  \\\n",
       "0          0.0                0.0    0.0        0.0                 0.0   \n",
       "1          0.0                0.0    0.0        0.0                 0.0   \n",
       "\n",
       "    movies  ryan  ryan watches  ryan watches movie  watches  watches movie  \\\n",
       "0  0.57735   0.0           0.0                 0.0      0.0            0.0   \n",
       "1  0.00000   0.0           0.0                 0.0      0.0            0.0   \n",
       "\n",
       "   watches movie and  \n",
       "0                0.0  \n",
       "1                0.0  "
      ]
     },
     "execution_count": 203,
     "metadata": {},
     "output_type": "execute_result"
    }
   ],
   "source": [
    "pd.DataFrame(tf.transform(test_data).todense(),columns=tf.get_feature_names())"
   ]
  },
  {
   "cell_type": "code",
   "execution_count": 204,
   "metadata": {},
   "outputs": [
    {
     "data": {
      "text/html": [
       "<div>\n",
       "<style scoped>\n",
       "    .dataframe tbody tr th:only-of-type {\n",
       "        vertical-align: middle;\n",
       "    }\n",
       "\n",
       "    .dataframe tbody tr th {\n",
       "        vertical-align: top;\n",
       "    }\n",
       "\n",
       "    .dataframe thead th {\n",
       "        text-align: right;\n",
       "    }\n",
       "</style>\n",
       "<table border=\"1\" class=\"dataframe\">\n",
       "  <thead>\n",
       "    <tr style=\"text-align: right;\">\n",
       "      <th></th>\n",
       "      <th>and</th>\n",
       "      <th>and dramatic</th>\n",
       "      <th>and dramatic movies</th>\n",
       "      <th>dramatic</th>\n",
       "      <th>dramatic movies</th>\n",
       "      <th>horror</th>\n",
       "      <th>horror movie</th>\n",
       "      <th>john</th>\n",
       "      <th>john like</th>\n",
       "      <th>john like horror</th>\n",
       "      <th>like</th>\n",
       "      <th>like horror</th>\n",
       "      <th>like horror movie</th>\n",
       "      <th>movie</th>\n",
       "      <th>movie and</th>\n",
       "      <th>movie and dramatic</th>\n",
       "      <th>movies</th>\n",
       "      <th>ryan</th>\n",
       "      <th>ryan watches</th>\n",
       "      <th>ryan watches movie</th>\n",
       "      <th>watches</th>\n",
       "      <th>watches movie</th>\n",
       "      <th>watches movie and</th>\n",
       "    </tr>\n",
       "  </thead>\n",
       "  <tbody>\n",
       "    <tr>\n",
       "      <th>0</th>\n",
       "      <td>0.57735</td>\n",
       "      <td>0.0</td>\n",
       "      <td>0.0</td>\n",
       "      <td>0.0</td>\n",
       "      <td>0.0</td>\n",
       "      <td>0.57735</td>\n",
       "      <td>0.0</td>\n",
       "      <td>0.0</td>\n",
       "      <td>0.0</td>\n",
       "      <td>0.0</td>\n",
       "      <td>0.0</td>\n",
       "      <td>0.0</td>\n",
       "      <td>0.0</td>\n",
       "      <td>0.0</td>\n",
       "      <td>0.0</td>\n",
       "      <td>0.0</td>\n",
       "      <td>0.57735</td>\n",
       "      <td>0.0</td>\n",
       "      <td>0.0</td>\n",
       "      <td>0.0</td>\n",
       "      <td>0.0</td>\n",
       "      <td>0.0</td>\n",
       "      <td>0.0</td>\n",
       "    </tr>\n",
       "    <tr>\n",
       "      <th>1</th>\n",
       "      <td>0.00000</td>\n",
       "      <td>0.0</td>\n",
       "      <td>0.0</td>\n",
       "      <td>0.0</td>\n",
       "      <td>0.0</td>\n",
       "      <td>0.00000</td>\n",
       "      <td>0.0</td>\n",
       "      <td>0.0</td>\n",
       "      <td>0.0</td>\n",
       "      <td>0.0</td>\n",
       "      <td>1.0</td>\n",
       "      <td>0.0</td>\n",
       "      <td>0.0</td>\n",
       "      <td>0.0</td>\n",
       "      <td>0.0</td>\n",
       "      <td>0.0</td>\n",
       "      <td>0.00000</td>\n",
       "      <td>0.0</td>\n",
       "      <td>0.0</td>\n",
       "      <td>0.0</td>\n",
       "      <td>0.0</td>\n",
       "      <td>0.0</td>\n",
       "      <td>0.0</td>\n",
       "    </tr>\n",
       "  </tbody>\n",
       "</table>\n",
       "</div>"
      ],
      "text/plain": [
       "       and  and dramatic  and dramatic movies  dramatic  dramatic movies  \\\n",
       "0  0.57735           0.0                  0.0       0.0              0.0   \n",
       "1  0.00000           0.0                  0.0       0.0              0.0   \n",
       "\n",
       "    horror  horror movie  john  john like  john like horror  like  \\\n",
       "0  0.57735           0.0   0.0        0.0               0.0   0.0   \n",
       "1  0.00000           0.0   0.0        0.0               0.0   1.0   \n",
       "\n",
       "   like horror  like horror movie  movie  movie and  movie and dramatic  \\\n",
       "0          0.0                0.0    0.0        0.0                 0.0   \n",
       "1          0.0                0.0    0.0        0.0                 0.0   \n",
       "\n",
       "    movies  ryan  ryan watches  ryan watches movie  watches  watches movie  \\\n",
       "0  0.57735   0.0           0.0                 0.0      0.0            0.0   \n",
       "1  0.00000   0.0           0.0                 0.0      0.0            0.0   \n",
       "\n",
       "   watches movie and  \n",
       "0                0.0  \n",
       "1                0.0  "
      ]
     },
     "execution_count": 204,
     "metadata": {},
     "output_type": "execute_result"
    }
   ],
   "source": [
    "pd.DataFrame(tf_idf_tr.transform(tt).todense(),columns=tf.get_feature_names())"
   ]
  },
  {
   "cell_type": "markdown",
   "metadata": {},
   "source": [
    "## **`L2, L1 and L-infinity normalization manaully`**"
   ]
  },
  {
   "cell_type": "code",
   "execution_count": 3,
   "metadata": {},
   "outputs": [],
   "source": [
    "import numpy as np"
   ]
  },
  {
   "cell_type": "markdown",
   "metadata": {},
   "source": [
    "#### **`L-2 norm`**"
   ]
  },
  {
   "cell_type": "code",
   "execution_count": 140,
   "metadata": {},
   "outputs": [],
   "source": [
    "X = np.array([[-1,0,1],[40,30,100]])"
   ]
  },
  {
   "cell_type": "code",
   "execution_count": 7,
   "metadata": {},
   "outputs": [
    {
     "data": {
      "text/plain": [
       "array([[-1,  0,  1],\n",
       "       [ 0,  1,  2]])"
      ]
     },
     "execution_count": 7,
     "metadata": {},
     "output_type": "execute_result"
    }
   ],
   "source": [
    "X"
   ]
  },
  {
   "cell_type": "code",
   "execution_count": 10,
   "metadata": {},
   "outputs": [
    {
     "data": {
      "text/plain": [
       "array([[1, 0, 1],\n",
       "       [0, 1, 4]])"
      ]
     },
     "execution_count": 10,
     "metadata": {},
     "output_type": "execute_result"
    }
   ],
   "source": [
    "X_square = X * X\n",
    "X_square"
   ]
  },
  {
   "cell_type": "code",
   "execution_count": 17,
   "metadata": {},
   "outputs": [
    {
     "data": {
      "text/plain": [
       "array([1.41421356, 2.23606798])"
      ]
     },
     "execution_count": 17,
     "metadata": {},
     "output_type": "execute_result"
    }
   ],
   "source": [
    "X_sqrt = np.sqrt((X * X).sum(axis=1))         ## L2-norm\n",
    "X_sqrt"
   ]
  },
  {
   "cell_type": "code",
   "execution_count": 66,
   "metadata": {},
   "outputs": [
    {
     "data": {
      "text/plain": [
       "array([[-0.70710678,  0.        ,  0.70710678],\n",
       "       [ 0.        ,  0.4472136 ,  0.89442719]])"
      ]
     },
     "execution_count": 66,
     "metadata": {},
     "output_type": "execute_result"
    }
   ],
   "source": [
    "X_l2_nomrd = X / X_sqrt.reshape(2,1)          ## Row normalization i.e. the length of the row vectors are 1\n",
    "X_l2_nomrd"
   ]
  },
  {
   "cell_type": "markdown",
   "metadata": {},
   "source": [
    "##### **Length or Magnitude of first row vector**"
   ]
  },
  {
   "cell_type": "code",
   "execution_count": 71,
   "metadata": {},
   "outputs": [
    {
     "data": {
      "text/plain": [
       "1.0"
      ]
     },
     "execution_count": 71,
     "metadata": {},
     "output_type": "execute_result"
    }
   ],
   "source": [
    "np.round(np.square(X_l2_nomrd[0]).sum(),3)"
   ]
  },
  {
   "cell_type": "markdown",
   "metadata": {},
   "source": [
    "##### **Length or Magnitude of second row vector**"
   ]
  },
  {
   "cell_type": "code",
   "execution_count": 72,
   "metadata": {},
   "outputs": [
    {
     "data": {
      "text/plain": [
       "1.0"
      ]
     },
     "execution_count": 72,
     "metadata": {},
     "output_type": "execute_result"
    }
   ],
   "source": [
    "np.round(np.square(X_l2_nomrd[1]).sum(),3)"
   ]
  },
  {
   "cell_type": "markdown",
   "metadata": {},
   "source": [
    "#### **`L-1 norm`**"
   ]
  },
  {
   "cell_type": "code",
   "execution_count": 29,
   "metadata": {},
   "outputs": [
    {
     "data": {
      "text/plain": [
       "array([2, 3])"
      ]
     },
     "execution_count": 29,
     "metadata": {},
     "output_type": "execute_result"
    }
   ],
   "source": [
    "X_abs_sum = np.abs(X).sum(axis=1)            ## L1-norm\n",
    "X_abs_sum"
   ]
  },
  {
   "cell_type": "code",
   "execution_count": 73,
   "metadata": {},
   "outputs": [
    {
     "data": {
      "text/plain": [
       "array([[-0.5       ,  0.        ,  0.5       ],\n",
       "       [ 0.        ,  0.33333333,  0.66666667]])"
      ]
     },
     "execution_count": 73,
     "metadata": {},
     "output_type": "execute_result"
    }
   ],
   "source": [
    "X_l1_nomrd = X / X_abs_sum.reshape(2,1)          ## Row normalization i.e. the length of the row vectors are 1\n",
    "X_l1_nomrd"
   ]
  },
  {
   "cell_type": "markdown",
   "metadata": {},
   "source": [
    "##### **Length or Magnitude of first row vector**"
   ]
  },
  {
   "cell_type": "code",
   "execution_count": 75,
   "metadata": {},
   "outputs": [
    {
     "data": {
      "text/plain": [
       "1.0"
      ]
     },
     "execution_count": 75,
     "metadata": {},
     "output_type": "execute_result"
    }
   ],
   "source": [
    "np.round(np.abs(X_l1_nomrd[0]).sum(),3)"
   ]
  },
  {
   "cell_type": "markdown",
   "metadata": {},
   "source": [
    "##### **Length or Magnitude of second row vector**"
   ]
  },
  {
   "cell_type": "code",
   "execution_count": 76,
   "metadata": {},
   "outputs": [
    {
     "data": {
      "text/plain": [
       "1.0"
      ]
     },
     "execution_count": 76,
     "metadata": {},
     "output_type": "execute_result"
    }
   ],
   "source": [
    "np.round(np.abs(X_l1_nomrd[1]).sum(),3)"
   ]
  },
  {
   "cell_type": "markdown",
   "metadata": {},
   "source": [
    "#### **`L-infinity norm`**"
   ]
  },
  {
   "cell_type": "code",
   "execution_count": 32,
   "metadata": {},
   "outputs": [
    {
     "data": {
      "text/plain": [
       "array([1, 2])"
      ]
     },
     "execution_count": 32,
     "metadata": {},
     "output_type": "execute_result"
    }
   ],
   "source": [
    "X_abs_inf_sum = np.abs(X).max(axis=1)            ## L1-norm\n",
    "X_abs_inf_sum"
   ]
  },
  {
   "cell_type": "code",
   "execution_count": 77,
   "metadata": {},
   "outputs": [
    {
     "data": {
      "text/plain": [
       "array([[-1. ,  0. ,  1. ],\n",
       "       [ 0. ,  0.5,  1. ]])"
      ]
     },
     "execution_count": 77,
     "metadata": {},
     "output_type": "execute_result"
    }
   ],
   "source": [
    "X_inf_normd = X / X_abs_inf_sum.reshape(2,1)          ## Row normalization i.e. the length of the row vectors are 1\n",
    "X_inf_normd"
   ]
  },
  {
   "cell_type": "markdown",
   "metadata": {},
   "source": [
    "##### **Length or Magnitude of first row vector**"
   ]
  },
  {
   "cell_type": "code",
   "execution_count": 79,
   "metadata": {},
   "outputs": [
    {
     "data": {
      "text/plain": [
       "1.0"
      ]
     },
     "execution_count": 79,
     "metadata": {},
     "output_type": "execute_result"
    }
   ],
   "source": [
    "np.round(np.abs(X_inf_normd[0]).max(),3)"
   ]
  },
  {
   "cell_type": "markdown",
   "metadata": {},
   "source": [
    "##### **Length or Magnitude of second row vector**"
   ]
  },
  {
   "cell_type": "code",
   "execution_count": 80,
   "metadata": {},
   "outputs": [
    {
     "data": {
      "text/plain": [
       "1.0"
      ]
     },
     "execution_count": 80,
     "metadata": {},
     "output_type": "execute_result"
    }
   ],
   "source": [
    "np.round(np.abs(X_inf_normd[1]).max(),3)"
   ]
  },
  {
   "cell_type": "markdown",
   "metadata": {},
   "source": [
    "## **`L2, L1 and L-infinity normalization using numpy package`**"
   ]
  },
  {
   "cell_type": "code",
   "execution_count": 20,
   "metadata": {},
   "outputs": [],
   "source": [
    "from numpy.linalg import norm"
   ]
  },
  {
   "cell_type": "markdown",
   "metadata": {},
   "source": [
    "#### **`L-2 norm`**"
   ]
  },
  {
   "cell_type": "code",
   "execution_count": 22,
   "metadata": {},
   "outputs": [
    {
     "data": {
      "text/plain": [
       "array([1.41421356, 2.23606798])"
      ]
     },
     "execution_count": 22,
     "metadata": {},
     "output_type": "execute_result"
    }
   ],
   "source": [
    "l2_norm = norm(X,ord=2,axis=1)\n",
    "l2_norm"
   ]
  },
  {
   "cell_type": "code",
   "execution_count": 30,
   "metadata": {},
   "outputs": [
    {
     "data": {
      "text/plain": [
       "array([[-0.70710678,  0.        ,  0.70710678],\n",
       "       [ 0.        ,  0.4472136 ,  0.89442719]])"
      ]
     },
     "execution_count": 30,
     "metadata": {},
     "output_type": "execute_result"
    }
   ],
   "source": [
    "X / l2_norm.reshape(2,1)         ## Row normalization i.e. the length of the row vectors are 1"
   ]
  },
  {
   "cell_type": "markdown",
   "metadata": {},
   "source": [
    "#### **`L-1 norm`**"
   ]
  },
  {
   "cell_type": "code",
   "execution_count": 24,
   "metadata": {},
   "outputs": [
    {
     "data": {
      "text/plain": [
       "array([2., 3.])"
      ]
     },
     "execution_count": 24,
     "metadata": {},
     "output_type": "execute_result"
    }
   ],
   "source": [
    "l1_norm = norm(X,ord=1,axis=1)\n",
    "l1_norm"
   ]
  },
  {
   "cell_type": "code",
   "execution_count": 25,
   "metadata": {},
   "outputs": [
    {
     "data": {
      "text/plain": [
       "array([[-0.5       ,  0.        ,  0.5       ],\n",
       "       [ 0.        ,  0.33333333,  0.66666667]])"
      ]
     },
     "execution_count": 25,
     "metadata": {},
     "output_type": "execute_result"
    }
   ],
   "source": [
    "X / l1_norm.reshape(2,1)         ## Row normalization i.e. the length of the row vectors are 1"
   ]
  },
  {
   "cell_type": "markdown",
   "metadata": {},
   "source": [
    "#### **`L-infinity norm`**"
   ]
  },
  {
   "cell_type": "code",
   "execution_count": 26,
   "metadata": {},
   "outputs": [
    {
     "data": {
      "text/plain": [
       "array([1., 2.])"
      ]
     },
     "execution_count": 26,
     "metadata": {},
     "output_type": "execute_result"
    }
   ],
   "source": [
    "linf_norm = norm(X,ord=np.inf,axis=1)\n",
    "linf_norm"
   ]
  },
  {
   "cell_type": "code",
   "execution_count": 27,
   "metadata": {},
   "outputs": [
    {
     "data": {
      "text/plain": [
       "array([[-1. ,  0. ,  1. ],\n",
       "       [ 0. ,  0.5,  1. ]])"
      ]
     },
     "execution_count": 27,
     "metadata": {},
     "output_type": "execute_result"
    }
   ],
   "source": [
    "X / linf_norm.reshape(2,1)         ## Row normalization i.e. the length of the row vectors are 1"
   ]
  },
  {
   "cell_type": "markdown",
   "metadata": {},
   "source": [
    "#### **Standardizing the data using Standard Scaler**"
   ]
  },
  {
   "cell_type": "code",
   "execution_count": 141,
   "metadata": {},
   "outputs": [],
   "source": [
    "from sklearn.preprocessing import StandardScaler"
   ]
  },
  {
   "cell_type": "code",
   "execution_count": 142,
   "metadata": {},
   "outputs": [],
   "source": [
    "SS = StandardScaler()"
   ]
  },
  {
   "cell_type": "code",
   "execution_count": 143,
   "metadata": {},
   "outputs": [
    {
     "data": {
      "text/plain": [
       "array([[ -1,   0,   1],\n",
       "       [ 40,  30, 100]])"
      ]
     },
     "execution_count": 143,
     "metadata": {},
     "output_type": "execute_result"
    }
   ],
   "source": [
    "X"
   ]
  },
  {
   "cell_type": "code",
   "execution_count": 144,
   "metadata": {},
   "outputs": [
    {
     "data": {
      "text/plain": [
       "(array([19.5, 15. , 50.5]), array([20.5, 15. , 49.5]))"
      ]
     },
     "execution_count": 144,
     "metadata": {},
     "output_type": "execute_result"
    }
   ],
   "source": [
    "X_mean, X_std = np.mean(X,axis=0), np.std(X,axis=0)\n",
    "X_mean, X_std"
   ]
  },
  {
   "cell_type": "code",
   "execution_count": 145,
   "metadata": {},
   "outputs": [
    {
     "data": {
      "text/plain": [
       "-1.0"
      ]
     },
     "execution_count": 145,
     "metadata": {},
     "output_type": "execute_result"
    }
   ],
   "source": [
    "(-1 -(-0.5))/0.5"
   ]
  },
  {
   "cell_type": "code",
   "execution_count": 146,
   "metadata": {},
   "outputs": [
    {
     "data": {
      "text/plain": [
       "array([[-1., -1., -1.],\n",
       "       [ 1.,  1.,  1.]])"
      ]
     },
     "execution_count": 146,
     "metadata": {},
     "output_type": "execute_result"
    }
   ],
   "source": [
    "X_ss = SS.fit_transform(X)\n",
    "X_ss"
   ]
  },
  {
   "cell_type": "code",
   "execution_count": 136,
   "metadata": {},
   "outputs": [
    {
     "data": {
      "text/plain": [
       "array([-0.5,  0.5, 50.5])"
      ]
     },
     "execution_count": 136,
     "metadata": {},
     "output_type": "execute_result"
    }
   ],
   "source": [
    "SS.mean_"
   ]
  },
  {
   "cell_type": "code",
   "execution_count": 137,
   "metadata": {},
   "outputs": [
    {
     "data": {
      "text/plain": [
       "array([2.50000e-01, 2.50000e-01, 2.45025e+03])"
      ]
     },
     "execution_count": 137,
     "metadata": {},
     "output_type": "execute_result"
    }
   ],
   "source": [
    "SS.var_"
   ]
  },
  {
   "cell_type": "code",
   "execution_count": 138,
   "metadata": {},
   "outputs": [
    {
     "data": {
      "text/plain": [
       "array([[ -1,   0,   1],\n",
       "       [  0,   1, 100]])"
      ]
     },
     "execution_count": 138,
     "metadata": {},
     "output_type": "execute_result"
    }
   ],
   "source": [
    "X"
   ]
  },
  {
   "cell_type": "code",
   "execution_count": 139,
   "metadata": {},
   "outputs": [
    {
     "data": {
      "text/plain": [
       "array([1.41421356, 2.23606798])"
      ]
     },
     "execution_count": 139,
     "metadata": {},
     "output_type": "execute_result"
    }
   ],
   "source": [
    "l2_norm"
   ]
  },
  {
   "cell_type": "markdown",
   "metadata": {},
   "source": [
    "### **Now, the difference between `Standard Scaling [-1,1]` means 0 mean and 1 standard deviation and `Normalization [0-1 scaling]` is that the length or magnitude of row vectors in case of normalization will be equals to 1 i.e. we are shrinking the size of all the vectors. Whereas, in the case of Standard Scaling the length of row vectors equals to 1 is not guaranteed.**\n",
    "\n",
    "### **Therefore, Row vector normalization is used when you are working with Cosine Similarities because cosine similarity doesn't care about the magnitude of the vectors and it only cares about the angle between them and shrinking the length of vectors doesn't impact the angles between them.**\n",
    "\n",
    "### **Here we mean to say that when you apply `normalization[0-1 scaling]`, then the component values of all the dimensions come into [0,1], there by the total length of the vector will be atmost 1 unit and all the vectors will lie within a hyper-sphere of radius 1 as the maximum value for any feature woule become 1. This way we can easily interpret when we have all the vectors within a hypersphere(n-dimensional) or circle in 2-d or sphere in 3-d of radius 1 unit.**"
   ]
  },
  {
   "cell_type": "code",
   "execution_count": 57,
   "metadata": {},
   "outputs": [
    {
     "data": {
      "text/plain": [
       "array([[1.73205081],\n",
       "       [1.73205081]])"
      ]
     },
     "execution_count": 57,
     "metadata": {},
     "output_type": "execute_result"
    }
   ],
   "source": [
    "X_ss_l2_norm = norm(x=X_ss,ord=2,axis=1).reshape(2,1)\n",
    "X_ss_l2_norm"
   ]
  },
  {
   "cell_type": "code",
   "execution_count": 82,
   "metadata": {},
   "outputs": [
    {
     "data": {
      "text/plain": [
       "array([[-0.57735027, -0.57735027, -0.57735027],\n",
       "       [ 0.57735027,  0.57735027,  0.57735027]])"
      ]
     },
     "execution_count": 82,
     "metadata": {},
     "output_type": "execute_result"
    }
   ],
   "source": [
    "X_ss_l2_normd = X_ss/X_ss_l2_norm\n",
    "X_ss_l2_normd"
   ]
  },
  {
   "cell_type": "markdown",
   "metadata": {},
   "source": [
    "##### **Length or Magnitude of first row vector**"
   ]
  },
  {
   "cell_type": "code",
   "execution_count": 83,
   "metadata": {},
   "outputs": [
    {
     "data": {
      "text/plain": [
       "1.0"
      ]
     },
     "execution_count": 83,
     "metadata": {},
     "output_type": "execute_result"
    }
   ],
   "source": [
    "np.round(np.square(X_ss_l2_normd[0]).sum(),3)"
   ]
  },
  {
   "cell_type": "markdown",
   "metadata": {},
   "source": [
    "##### **Length or Magnitude of second row vector**"
   ]
  },
  {
   "cell_type": "code",
   "execution_count": 84,
   "metadata": {},
   "outputs": [
    {
     "data": {
      "text/plain": [
       "1.0"
      ]
     },
     "execution_count": 84,
     "metadata": {},
     "output_type": "execute_result"
    }
   ],
   "source": [
    "np.round(np.square(X_ss_l2_normd[1]).sum(),3)"
   ]
  },
  {
   "cell_type": "code",
   "execution_count": 81,
   "metadata": {},
   "outputs": [
    {
     "data": {
      "text/plain": [
       "array([[-0.70710678,  0.        ,  0.70710678],\n",
       "       [ 0.        ,  0.4472136 ,  0.89442719]])"
      ]
     },
     "execution_count": 81,
     "metadata": {},
     "output_type": "execute_result"
    }
   ],
   "source": [
    "X_l2_nomrd         ## Row normalization i.e. the length of the row vectors are 1"
   ]
  },
  {
   "cell_type": "markdown",
   "metadata": {},
   "source": [
    "##### **Length or Magnitude of first row vector**"
   ]
  },
  {
   "cell_type": "code",
   "execution_count": 85,
   "metadata": {},
   "outputs": [
    {
     "data": {
      "text/plain": [
       "1.0"
      ]
     },
     "execution_count": 85,
     "metadata": {},
     "output_type": "execute_result"
    }
   ],
   "source": [
    "np.round(np.square(X_l2_nomrd[0]).sum(),3)"
   ]
  },
  {
   "cell_type": "markdown",
   "metadata": {},
   "source": [
    "##### **Length or Magnitude of second row vector**"
   ]
  },
  {
   "cell_type": "code",
   "execution_count": 86,
   "metadata": {},
   "outputs": [
    {
     "data": {
      "text/plain": [
       "1.0"
      ]
     },
     "execution_count": 86,
     "metadata": {},
     "output_type": "execute_result"
    }
   ],
   "source": [
    "np.round(np.square(X_l2_nomrd[1]).sum(),3)"
   ]
  },
  {
   "cell_type": "markdown",
   "metadata": {},
   "source": [
    "### **Above, experiment shows us that the row normalization also shrinks or stretches the length of the row vectors as 1.**"
   ]
  },
  {
   "cell_type": "markdown",
   "metadata": {},
   "source": [
    "### **Cosine similarity between two vectors depends on the angle between them and it doesn't depend upon the geometrical distance. Also cosine similarity treats two vectors as same if they both are pointing in the same direction from origin irrespective of the exact position in the n-dimensional space. We use cosine similarity only to check how do two vectors differ angularly. So it is recommended to bring all the data points into a same radius from the point and then compute cosine similarity. For this you need to perform normalization(here it is 0-1 scaling) on the rows of the data and then use cosine similarity.**\n",
    "\n",
    "## **`The Big Question – Normalize or Standardize?`**\n",
    "\n",
    "- #### **Normalization is good to use when you know that the distribution of your data does not follow a Gaussian distribution. This can be useful in algorithms that do not assume any distribution of the data like K-Nearest Neighbors and Neural Networks. Standardization, on the other hand, can be helpful in cases where the data follows a Gaussian distribution. However, this does not have to be necessarily true.** \n",
    "\n",
    "- #### **At the end of the day, the choice of using normalization or standardization will depend on your problem and the machine learning algorithm you are using. There is no hard and fast rule to tell you when to normalize or standardize your data. You can always start by fitting your model to raw, normalized and standardized data and compare the performance for best results.**\n",
    "\n",
    "- #### **It is a good practice to fit the scaler on the training data and then use it to transform the testing data. This would avoid any data leakage during the model testing process. Also, the scaling of target values is generally not required.**"
   ]
  },
  {
   "cell_type": "markdown",
   "metadata": {},
   "source": [
    "## **`What does _ mean in Python?`**\n",
    "- #### **1. Use In Interpreter. Python automatically stores the value of the last expression in the interpreter to a particular variable called \"_\". You can also assign these value to another variable if you want. You can use it as a normal variable.**"
   ]
  },
  {
   "cell_type": "code",
   "execution_count": 108,
   "metadata": {},
   "outputs": [
    {
     "data": {
      "text/plain": [
       "['Rajesh', 'sharma']"
      ]
     },
     "execution_count": 108,
     "metadata": {},
     "output_type": "execute_result"
    }
   ],
   "source": [
    "names = [\"Rajesh\",'sharma']\n",
    "names"
   ]
  },
  {
   "cell_type": "code",
   "execution_count": 109,
   "metadata": {},
   "outputs": [
    {
     "name": "stdout",
     "output_type": "stream",
     "text": [
      "['Rajesh', 'sharma']\n"
     ]
    }
   ],
   "source": [
    "print(_)"
   ]
  },
  {
   "cell_type": "code",
   "execution_count": 110,
   "metadata": {},
   "outputs": [
    {
     "name": "stdout",
     "output_type": "stream",
     "text": [
      "['Rajesh', 'sharma', 'Rajesh', 'sharma']\n"
     ]
    }
   ],
   "source": [
    "print((_ + _))"
   ]
  },
  {
   "cell_type": "code",
   "execution_count": 111,
   "metadata": {},
   "outputs": [],
   "source": [
    "nums = np.array([3,4])"
   ]
  },
  {
   "cell_type": "code",
   "execution_count": 112,
   "metadata": {},
   "outputs": [
    {
     "name": "stdout",
     "output_type": "stream",
     "text": [
      "['Rajesh', 'sharma']\n"
     ]
    }
   ],
   "source": [
    "print(_)"
   ]
  },
  {
   "cell_type": "code",
   "execution_count": 113,
   "metadata": {},
   "outputs": [
    {
     "data": {
      "text/plain": [
       "array([3, 4])"
      ]
     },
     "execution_count": 113,
     "metadata": {},
     "output_type": "execute_result"
    }
   ],
   "source": [
    "nums"
   ]
  },
  {
   "cell_type": "code",
   "execution_count": 114,
   "metadata": {},
   "outputs": [
    {
     "name": "stdout",
     "output_type": "stream",
     "text": [
      "[3 4]\n"
     ]
    }
   ],
   "source": [
    "print(_)"
   ]
  },
  {
   "cell_type": "code",
   "execution_count": 118,
   "metadata": {},
   "outputs": [
    {
     "name": "stdout",
     "output_type": "stream",
     "text": [
      "[3 4] [3 4]\n"
     ]
    }
   ],
   "source": [
    "print(_ , _)"
   ]
  },
  {
   "cell_type": "code",
   "execution_count": 116,
   "metadata": {},
   "outputs": [
    {
     "name": "stdout",
     "output_type": "stream",
     "text": [
      "[6 8]\n"
     ]
    }
   ],
   "source": [
    "print(_ + _)"
   ]
  },
  {
   "cell_type": "code",
   "execution_count": 115,
   "metadata": {},
   "outputs": [
    {
     "name": "stdout",
     "output_type": "stream",
     "text": [
      "[ 9 16]\n"
     ]
    }
   ],
   "source": [
    "print(_ * _)"
   ]
  },
  {
   "cell_type": "code",
   "execution_count": 121,
   "metadata": {},
   "outputs": [
    {
     "name": "stdout",
     "output_type": "stream",
     "text": [
      "[-3 -4]\n"
     ]
    }
   ],
   "source": [
    "print(_ - _*2)"
   ]
  },
  {
   "cell_type": "code",
   "execution_count": 122,
   "metadata": {},
   "outputs": [
    {
     "name": "stdout",
     "output_type": "stream",
     "text": [
      "[2. 2.]\n"
     ]
    }
   ],
   "source": [
    "print(_*2 / _)"
   ]
  },
  {
   "cell_type": "code",
   "execution_count": null,
   "metadata": {},
   "outputs": [],
   "source": []
  }
 ],
 "metadata": {
  "kernelspec": {
   "display_name": "Python 3",
   "language": "python",
   "name": "python3"
  },
  "language_info": {
   "codemirror_mode": {
    "name": "ipython",
    "version": 3
   },
   "file_extension": ".py",
   "mimetype": "text/x-python",
   "name": "python",
   "nbconvert_exporter": "python",
   "pygments_lexer": "ipython3",
   "version": "3.6.8"
  }
 },
 "nbformat": 4,
 "nbformat_minor": 4
}
