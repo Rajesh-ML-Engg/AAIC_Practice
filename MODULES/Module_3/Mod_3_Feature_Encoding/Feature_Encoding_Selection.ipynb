{
 "cells": [
  {
   "cell_type": "markdown",
   "metadata": {},
   "source": [
    "### ***Best Practices :: `Feature Selection`***"
   ]
  },
  {
   "cell_type": "markdown",
   "metadata": {},
   "source": [
    "---\n",
    "#### **The objective for creating this notebook is to understand below topics:**\n",
    "- **`Different types of Feature Selection Techniques`** \n",
    "- **`Which technique to be applied on which kind of dataset`**\n",
    "- **`How these techniques work and different from each other?`**\n",
    "- **`Examples`**\n",
    "---"
   ]
  },
  {
   "cell_type": "markdown",
   "metadata": {},
   "source": [
    "1. [Understanding Feature Selection](#Background)\n",
    "2. [Regression problem](#Regression_Problem)\n",
    "    1. [Case-1 : Selecting only top 4 features](#Case-1)\n",
    "        1. [Case-1.2 : Selecting only top 4 features with SelectPercentile](#Case-1.2)\n",
    "    2. [Case-2 : Selecting top 8 features instead of 4](#Case-2)\n",
    "3. [Classification Problem](#Classification_Problem)\n",
    "    1. [Case-1 : Selecting top 5 features](#Case:1)\n",
    "    2. [Case-2 : Only Categorical Explanatory Variables :: Selecting only top 5 features](#Case:2)\n",
    "        1. [Difference between Sklearn Label and Ordinal Encoder](#Diff_b/w_LE_and_OE)\n",
    "    3. [Case-3 : Categorical Explanatory & Target Variables](#Case:3)\n",
    "        1. [Case-3.1 : With Mutual Information Scoring Function](#Case:3.1)"
   ]
  },
  {
   "cell_type": "code",
   "execution_count": 1,
   "metadata": {},
   "outputs": [],
   "source": [
    "import numpy as np\n",
    "import pandas as pd\n",
    "import matplotlib.pyplot as plt\n",
    "import seaborn as sns\n",
    "import scipy"
   ]
  },
  {
   "cell_type": "markdown",
   "metadata": {},
   "source": [
    "### **Background**"
   ]
  },
  {
   "cell_type": "markdown",
   "metadata": {},
   "source": [
    "**`Feature Selection`**\n",
    "- It is the process of selecting the most relevant subset of input features from the dataset. Below are some feature selection techniques.\n",
    "\n",
    "1. **`Unsupervised`** : This type of feature selection techniques doesn't use the target variable\n",
    "    - For example, such methods uses the correlation in the input features and remove the redundant variables\n",
    "        \n",
    "        \n",
    "2. **`Supervised`** : This type of feature selection techniques uses the target variable\n",
    "    - For example, input features which are not explaining the variations in target variable are considereed as irrelevant variables thus got removed\n",
    "    \n",
    "    \n",
    "2.1. **`Wrapper`** : Search for well-performing subsets of features on a machine learning model.\n",
    "- **`Forward Feature Selection(FFS), Backword Elimination(BE), Re-cursive Feature Elimination(RFE)`**\n",
    "\n",
    "\n",
    "2.2. **`Filter`** : Select subsets of features based on their relationship with the target.\n",
    "- **`Statistical Methods like ANOVA, CHI, Kendall's, PCC and SPC`**\n",
    "\n",
    "\n",
    "2.3 **`Embedded`** : \n",
    "- Intrinsic: Algorithms that perform automatic feature selection during training.\n",
    "    - **`Decision Trees and its extensions`**\n",
    "            \n",
    "  \n",
    "- **`Dimensionality Reduction`** : Project input data into a lower-dimensional feature space."
   ]
  },
  {
   "cell_type": "markdown",
   "metadata": {},
   "source": [
    "**`SelectKBest` removes all but the highest scoring features**\n",
    "\n",
    "**`SelectPercentile` removes all but a user-specified highest scoring percentage of features**"
   ]
  },
  {
   "cell_type": "markdown",
   "metadata": {},
   "source": [
    "### **Regression_Problem**"
   ]
  },
  {
   "cell_type": "code",
   "execution_count": 2,
   "metadata": {},
   "outputs": [],
   "source": [
    "from sklearn.datasets import make_regression\n",
    "from sklearn.feature_selection import SelectKBest, SelectPercentile\n",
    "from sklearn.feature_selection import f_regression"
   ]
  },
  {
   "cell_type": "code",
   "execution_count": 3,
   "metadata": {},
   "outputs": [],
   "source": [
    "X, y = make_regression(n_samples=200,n_features=20,n_informative=10,n_targets=1,noise=0.1)"
   ]
  },
  {
   "cell_type": "code",
   "execution_count": 4,
   "metadata": {},
   "outputs": [
    {
     "name": "stdout",
     "output_type": "stream",
     "text": [
      "['F0', 'F1', 'F2', 'F3', 'F4', 'F5', 'F6', 'F7', 'F8', 'F9', 'F10', 'F11', 'F12', 'F13', 'F14', 'F15', 'F16', 'F17', 'F18', 'F19']\n",
      "(200, 20) (200,)\n"
     ]
    }
   ],
   "source": [
    "col_names = ['F'+str(val) for val in range(20)]\n",
    "print(col_names)\n",
    "\n",
    "X = pd.DataFrame(X,columns=col_names)\n",
    "\n",
    "print(X.shape, y.shape)"
   ]
  },
  {
   "cell_type": "code",
   "execution_count": 5,
   "metadata": {},
   "outputs": [
    {
     "data": {
      "text/html": [
       "<div>\n",
       "<style scoped>\n",
       "    .dataframe tbody tr th:only-of-type {\n",
       "        vertical-align: middle;\n",
       "    }\n",
       "\n",
       "    .dataframe tbody tr th {\n",
       "        vertical-align: top;\n",
       "    }\n",
       "\n",
       "    .dataframe thead th {\n",
       "        text-align: right;\n",
       "    }\n",
       "</style>\n",
       "<table border=\"1\" class=\"dataframe\">\n",
       "  <thead>\n",
       "    <tr style=\"text-align: right;\">\n",
       "      <th></th>\n",
       "      <th>F0</th>\n",
       "      <th>F1</th>\n",
       "      <th>F2</th>\n",
       "      <th>F3</th>\n",
       "      <th>F4</th>\n",
       "      <th>F5</th>\n",
       "      <th>F6</th>\n",
       "      <th>F7</th>\n",
       "      <th>F8</th>\n",
       "      <th>F9</th>\n",
       "      <th>F10</th>\n",
       "      <th>F11</th>\n",
       "      <th>F12</th>\n",
       "      <th>F13</th>\n",
       "      <th>F14</th>\n",
       "      <th>F15</th>\n",
       "      <th>F16</th>\n",
       "      <th>F17</th>\n",
       "      <th>F18</th>\n",
       "      <th>F19</th>\n",
       "    </tr>\n",
       "  </thead>\n",
       "  <tbody>\n",
       "    <tr>\n",
       "      <th>0</th>\n",
       "      <td>-0.757330</td>\n",
       "      <td>0.021543</td>\n",
       "      <td>-0.382047</td>\n",
       "      <td>-0.424698</td>\n",
       "      <td>0.855161</td>\n",
       "      <td>0.479733</td>\n",
       "      <td>-1.309680</td>\n",
       "      <td>-1.415371</td>\n",
       "      <td>0.195509</td>\n",
       "      <td>-0.009777</td>\n",
       "      <td>-1.240460</td>\n",
       "      <td>1.324242</td>\n",
       "      <td>-1.350965</td>\n",
       "      <td>0.904078</td>\n",
       "      <td>-1.678382</td>\n",
       "      <td>-0.016301</td>\n",
       "      <td>-0.867185</td>\n",
       "      <td>0.037886</td>\n",
       "      <td>-0.048874</td>\n",
       "      <td>0.049301</td>\n",
       "    </tr>\n",
       "    <tr>\n",
       "      <th>1</th>\n",
       "      <td>-0.966334</td>\n",
       "      <td>1.186909</td>\n",
       "      <td>1.261429</td>\n",
       "      <td>-1.141514</td>\n",
       "      <td>-0.526693</td>\n",
       "      <td>1.447793</td>\n",
       "      <td>0.678977</td>\n",
       "      <td>-0.381230</td>\n",
       "      <td>0.150428</td>\n",
       "      <td>0.088908</td>\n",
       "      <td>-0.457351</td>\n",
       "      <td>-0.187372</td>\n",
       "      <td>-1.022263</td>\n",
       "      <td>-0.510489</td>\n",
       "      <td>0.386336</td>\n",
       "      <td>-1.206009</td>\n",
       "      <td>0.686917</td>\n",
       "      <td>0.694388</td>\n",
       "      <td>0.129252</td>\n",
       "      <td>1.071021</td>\n",
       "    </tr>\n",
       "    <tr>\n",
       "      <th>2</th>\n",
       "      <td>0.772737</td>\n",
       "      <td>1.009507</td>\n",
       "      <td>0.220113</td>\n",
       "      <td>0.916454</td>\n",
       "      <td>-0.205978</td>\n",
       "      <td>-0.126533</td>\n",
       "      <td>0.354027</td>\n",
       "      <td>0.323832</td>\n",
       "      <td>0.946846</td>\n",
       "      <td>-0.709392</td>\n",
       "      <td>-0.378839</td>\n",
       "      <td>-0.103924</td>\n",
       "      <td>-0.190398</td>\n",
       "      <td>0.935585</td>\n",
       "      <td>-0.295847</td>\n",
       "      <td>-1.932724</td>\n",
       "      <td>0.016026</td>\n",
       "      <td>0.282284</td>\n",
       "      <td>-2.206896</td>\n",
       "      <td>1.104021</td>\n",
       "    </tr>\n",
       "    <tr>\n",
       "      <th>3</th>\n",
       "      <td>0.402620</td>\n",
       "      <td>-0.788562</td>\n",
       "      <td>0.404699</td>\n",
       "      <td>0.245258</td>\n",
       "      <td>0.887943</td>\n",
       "      <td>1.033330</td>\n",
       "      <td>-0.187278</td>\n",
       "      <td>-0.376667</td>\n",
       "      <td>0.033746</td>\n",
       "      <td>-1.542179</td>\n",
       "      <td>-0.316086</td>\n",
       "      <td>-0.577650</td>\n",
       "      <td>-0.890086</td>\n",
       "      <td>1.746512</td>\n",
       "      <td>-0.126658</td>\n",
       "      <td>-1.177587</td>\n",
       "      <td>-1.548551</td>\n",
       "      <td>1.571223</td>\n",
       "      <td>-0.041350</td>\n",
       "      <td>1.896443</td>\n",
       "    </tr>\n",
       "    <tr>\n",
       "      <th>4</th>\n",
       "      <td>1.304134</td>\n",
       "      <td>-0.588450</td>\n",
       "      <td>0.740022</td>\n",
       "      <td>0.503271</td>\n",
       "      <td>-1.178247</td>\n",
       "      <td>0.741560</td>\n",
       "      <td>-1.866449</td>\n",
       "      <td>-1.285315</td>\n",
       "      <td>0.781163</td>\n",
       "      <td>0.518518</td>\n",
       "      <td>-1.034605</td>\n",
       "      <td>0.899639</td>\n",
       "      <td>-0.226777</td>\n",
       "      <td>1.046213</td>\n",
       "      <td>1.155840</td>\n",
       "      <td>0.554213</td>\n",
       "      <td>0.612315</td>\n",
       "      <td>-1.020462</td>\n",
       "      <td>0.102381</td>\n",
       "      <td>0.786904</td>\n",
       "    </tr>\n",
       "  </tbody>\n",
       "</table>\n",
       "</div>"
      ],
      "text/plain": [
       "         F0        F1        F2        F3        F4        F5        F6  \\\n",
       "0 -0.757330  0.021543 -0.382047 -0.424698  0.855161  0.479733 -1.309680   \n",
       "1 -0.966334  1.186909  1.261429 -1.141514 -0.526693  1.447793  0.678977   \n",
       "2  0.772737  1.009507  0.220113  0.916454 -0.205978 -0.126533  0.354027   \n",
       "3  0.402620 -0.788562  0.404699  0.245258  0.887943  1.033330 -0.187278   \n",
       "4  1.304134 -0.588450  0.740022  0.503271 -1.178247  0.741560 -1.866449   \n",
       "\n",
       "         F7        F8        F9       F10       F11       F12       F13  \\\n",
       "0 -1.415371  0.195509 -0.009777 -1.240460  1.324242 -1.350965  0.904078   \n",
       "1 -0.381230  0.150428  0.088908 -0.457351 -0.187372 -1.022263 -0.510489   \n",
       "2  0.323832  0.946846 -0.709392 -0.378839 -0.103924 -0.190398  0.935585   \n",
       "3 -0.376667  0.033746 -1.542179 -0.316086 -0.577650 -0.890086  1.746512   \n",
       "4 -1.285315  0.781163  0.518518 -1.034605  0.899639 -0.226777  1.046213   \n",
       "\n",
       "        F14       F15       F16       F17       F18       F19  \n",
       "0 -1.678382 -0.016301 -0.867185  0.037886 -0.048874  0.049301  \n",
       "1  0.386336 -1.206009  0.686917  0.694388  0.129252  1.071021  \n",
       "2 -0.295847 -1.932724  0.016026  0.282284 -2.206896  1.104021  \n",
       "3 -0.126658 -1.177587 -1.548551  1.571223 -0.041350  1.896443  \n",
       "4  1.155840  0.554213  0.612315 -1.020462  0.102381  0.786904  "
      ]
     },
     "execution_count": 5,
     "metadata": {},
     "output_type": "execute_result"
    }
   ],
   "source": [
    "X.head()"
   ]
  },
  {
   "cell_type": "code",
   "execution_count": 6,
   "metadata": {},
   "outputs": [
    {
     "data": {
      "text/html": [
       "<div>\n",
       "<style scoped>\n",
       "    .dataframe tbody tr th:only-of-type {\n",
       "        vertical-align: middle;\n",
       "    }\n",
       "\n",
       "    .dataframe tbody tr th {\n",
       "        vertical-align: top;\n",
       "    }\n",
       "\n",
       "    .dataframe thead th {\n",
       "        text-align: right;\n",
       "    }\n",
       "</style>\n",
       "<table border=\"1\" class=\"dataframe\">\n",
       "  <thead>\n",
       "    <tr style=\"text-align: right;\">\n",
       "      <th></th>\n",
       "      <th>0</th>\n",
       "    </tr>\n",
       "  </thead>\n",
       "  <tbody>\n",
       "    <tr>\n",
       "      <th>0</th>\n",
       "      <td>-205.329212</td>\n",
       "    </tr>\n",
       "    <tr>\n",
       "      <th>1</th>\n",
       "      <td>43.515063</td>\n",
       "    </tr>\n",
       "    <tr>\n",
       "      <th>2</th>\n",
       "      <td>32.479889</td>\n",
       "    </tr>\n",
       "    <tr>\n",
       "      <th>3</th>\n",
       "      <td>-52.688078</td>\n",
       "    </tr>\n",
       "    <tr>\n",
       "      <th>4</th>\n",
       "      <td>-5.111374</td>\n",
       "    </tr>\n",
       "  </tbody>\n",
       "</table>\n",
       "</div>"
      ],
      "text/plain": [
       "            0\n",
       "0 -205.329212\n",
       "1   43.515063\n",
       "2   32.479889\n",
       "3  -52.688078\n",
       "4   -5.111374"
      ]
     },
     "execution_count": 6,
     "metadata": {},
     "output_type": "execute_result"
    }
   ],
   "source": [
    "pd.DataFrame(y).head()"
   ]
  },
  {
   "cell_type": "markdown",
   "metadata": {},
   "source": [
    "#### **`Case-1`**\n",
    "##### **Selecting only top 4 features**"
   ]
  },
  {
   "cell_type": "code",
   "execution_count": 7,
   "metadata": {},
   "outputs": [],
   "source": [
    "fs = SelectKBest(score_func=f_regression,k=4)"
   ]
  },
  {
   "cell_type": "markdown",
   "metadata": {},
   "source": [
    "### **F_Regression**\n",
    "\n",
    "Univariate linear regression tests.\n",
    "\n",
    "Linear model for testing the individual effect of each of many regressors. This is a scoring function to be used in a feature selection procedure, not a free standing feature selection procedure.\n",
    "\n",
    "This is done in 2 steps:\n",
    "\n",
    "    The correlation between each regressor and the target is computed, that is, ((X[:, i] - mean(X[:, i])) * (y - mean_y)) / (std(X[:, i]) * std(y)).\n",
    "\n",
    "    It is converted to an F score then to a p-value.\n"
   ]
  },
  {
   "cell_type": "code",
   "execution_count": 8,
   "metadata": {},
   "outputs": [
    {
     "data": {
      "text/plain": [
       "SelectKBest(k=4, score_func=<function f_regression at 0x0000017B99FCEEA0>)"
      ]
     },
     "execution_count": 8,
     "metadata": {},
     "output_type": "execute_result"
    }
   ],
   "source": [
    "fs.fit(X,y)"
   ]
  },
  {
   "cell_type": "code",
   "execution_count": 9,
   "metadata": {},
   "outputs": [
    {
     "data": {
      "text/html": [
       "<div>\n",
       "<style scoped>\n",
       "    .dataframe tbody tr th:only-of-type {\n",
       "        vertical-align: middle;\n",
       "    }\n",
       "\n",
       "    .dataframe tbody tr th {\n",
       "        vertical-align: top;\n",
       "    }\n",
       "\n",
       "    .dataframe thead th {\n",
       "        text-align: right;\n",
       "    }\n",
       "</style>\n",
       "<table border=\"1\" class=\"dataframe\">\n",
       "  <thead>\n",
       "    <tr style=\"text-align: right;\">\n",
       "      <th></th>\n",
       "      <th>0</th>\n",
       "      <th>1</th>\n",
       "      <th>2</th>\n",
       "      <th>3</th>\n",
       "    </tr>\n",
       "  </thead>\n",
       "  <tbody>\n",
       "    <tr>\n",
       "      <th>0</th>\n",
       "      <td>0.021543</td>\n",
       "      <td>-1.240460</td>\n",
       "      <td>1.324242</td>\n",
       "      <td>-1.678382</td>\n",
       "    </tr>\n",
       "    <tr>\n",
       "      <th>1</th>\n",
       "      <td>1.186909</td>\n",
       "      <td>-0.457351</td>\n",
       "      <td>-0.187372</td>\n",
       "      <td>0.386336</td>\n",
       "    </tr>\n",
       "    <tr>\n",
       "      <th>2</th>\n",
       "      <td>1.009507</td>\n",
       "      <td>-0.378839</td>\n",
       "      <td>-0.103924</td>\n",
       "      <td>-0.295847</td>\n",
       "    </tr>\n",
       "    <tr>\n",
       "      <th>3</th>\n",
       "      <td>-0.788562</td>\n",
       "      <td>-0.316086</td>\n",
       "      <td>-0.577650</td>\n",
       "      <td>-0.126658</td>\n",
       "    </tr>\n",
       "    <tr>\n",
       "      <th>4</th>\n",
       "      <td>-0.588450</td>\n",
       "      <td>-1.034605</td>\n",
       "      <td>0.899639</td>\n",
       "      <td>1.155840</td>\n",
       "    </tr>\n",
       "  </tbody>\n",
       "</table>\n",
       "</div>"
      ],
      "text/plain": [
       "          0         1         2         3\n",
       "0  0.021543 -1.240460  1.324242 -1.678382\n",
       "1  1.186909 -0.457351 -0.187372  0.386336\n",
       "2  1.009507 -0.378839 -0.103924 -0.295847\n",
       "3 -0.788562 -0.316086 -0.577650 -0.126658\n",
       "4 -0.588450 -1.034605  0.899639  1.155840"
      ]
     },
     "execution_count": 9,
     "metadata": {},
     "output_type": "execute_result"
    }
   ],
   "source": [
    "fs_selected_features = pd.DataFrame(fs.transform(X))\n",
    "fs_selected_features.head()"
   ]
  },
  {
   "cell_type": "code",
   "execution_count": 10,
   "metadata": {},
   "outputs": [
    {
     "data": {
      "text/html": [
       "<div>\n",
       "<style scoped>\n",
       "    .dataframe tbody tr th:only-of-type {\n",
       "        vertical-align: middle;\n",
       "    }\n",
       "\n",
       "    .dataframe tbody tr th {\n",
       "        vertical-align: top;\n",
       "    }\n",
       "\n",
       "    .dataframe thead th {\n",
       "        text-align: right;\n",
       "    }\n",
       "</style>\n",
       "<table border=\"1\" class=\"dataframe\">\n",
       "  <thead>\n",
       "    <tr style=\"text-align: right;\">\n",
       "      <th></th>\n",
       "      <th>F0</th>\n",
       "      <th>F1</th>\n",
       "      <th>F2</th>\n",
       "      <th>F3</th>\n",
       "      <th>F4</th>\n",
       "      <th>F5</th>\n",
       "      <th>F6</th>\n",
       "      <th>F7</th>\n",
       "      <th>F8</th>\n",
       "      <th>F9</th>\n",
       "      <th>F10</th>\n",
       "      <th>F11</th>\n",
       "      <th>F12</th>\n",
       "      <th>F13</th>\n",
       "      <th>F14</th>\n",
       "      <th>F15</th>\n",
       "      <th>F16</th>\n",
       "      <th>F17</th>\n",
       "      <th>F18</th>\n",
       "      <th>F19</th>\n",
       "    </tr>\n",
       "  </thead>\n",
       "  <tbody>\n",
       "    <tr>\n",
       "      <th>0</th>\n",
       "      <td>0.00001</td>\n",
       "      <td>0.0</td>\n",
       "      <td>0.90749</td>\n",
       "      <td>0.77876</td>\n",
       "      <td>0.01171</td>\n",
       "      <td>0.4739</td>\n",
       "      <td>0.00018</td>\n",
       "      <td>0.97169</td>\n",
       "      <td>0.79425</td>\n",
       "      <td>0.57944</td>\n",
       "      <td>0.0</td>\n",
       "      <td>0.0</td>\n",
       "      <td>0.5616</td>\n",
       "      <td>0.5209</td>\n",
       "      <td>0.0</td>\n",
       "      <td>0.22975</td>\n",
       "      <td>0.28536</td>\n",
       "      <td>0.13107</td>\n",
       "      <td>0.64151</td>\n",
       "      <td>0.91743</td>\n",
       "    </tr>\n",
       "  </tbody>\n",
       "</table>\n",
       "</div>"
      ],
      "text/plain": [
       "        F0   F1       F2       F3       F4      F5       F6       F7       F8  \\\n",
       "0  0.00001  0.0  0.90749  0.77876  0.01171  0.4739  0.00018  0.97169  0.79425   \n",
       "\n",
       "        F9  F10  F11     F12     F13  F14      F15      F16      F17      F18  \\\n",
       "0  0.57944  0.0  0.0  0.5616  0.5209  0.0  0.22975  0.28536  0.13107  0.64151   \n",
       "\n",
       "       F19  \n",
       "0  0.91743  "
      ]
     },
     "execution_count": 10,
     "metadata": {},
     "output_type": "execute_result"
    }
   ],
   "source": [
    "p_vals = np.round(pd.DataFrame(fs.pvalues_).T,5)\n",
    "p_vals.columns = col_names\n",
    "\n",
    "p_vals"
   ]
  },
  {
   "cell_type": "code",
   "execution_count": 11,
   "metadata": {},
   "outputs": [
    {
     "data": {
      "text/plain": [
       "['F1', 'F10', 'F11', 'F14']"
      ]
     },
     "execution_count": 11,
     "metadata": {},
     "output_type": "execute_result"
    }
   ],
   "source": [
    "loc = 1.0\n",
    "alpha = 1 - loc\n",
    "\n",
    "manual_selected_cols = []\n",
    "for feature in col_names:\n",
    "    if p_vals[feature].values == alpha:\n",
    "        manual_selected_cols.append(feature)\n",
    "\n",
    "manual_selected_cols"
   ]
  },
  {
   "cell_type": "markdown",
   "metadata": {},
   "source": [
    "#### **In the above cell, I have selected the `Level of Confidence` as 100% for testing purpose but we can select any threshold value. The only point here is that the higher this value the more relevant features are selected.**\n",
    "\n",
    "#### **The `SelectKBest` works on the basis of selecting the top-k features with minimum p-vals or maximum F-statistic.**"
   ]
  },
  {
   "cell_type": "code",
   "execution_count": 12,
   "metadata": {},
   "outputs": [
    {
     "data": {
      "text/plain": [
       "array([21.2, 23.8,  0. ,  0.1,  6.5,  0.5, 14.5,  0. ,  0.1,  0.3, 28.1,\n",
       "       46.6,  0.3,  0.4, 72.7,  1.5,  1.1,  2.3,  0.2,  0. ])"
      ]
     },
     "execution_count": 12,
     "metadata": {},
     "output_type": "execute_result"
    }
   ],
   "source": [
    "## F-value or F-statstic calculated based on the linear regression test\n",
    "np.round(fs.scores_,1)"
   ]
  },
  {
   "cell_type": "code",
   "execution_count": 13,
   "metadata": {},
   "outputs": [],
   "source": [
    "f_stats, p_vals = fs.score_func(X,y)"
   ]
  },
  {
   "cell_type": "code",
   "execution_count": 14,
   "metadata": {},
   "outputs": [
    {
     "data": {
      "text/html": [
       "<div>\n",
       "<style scoped>\n",
       "    .dataframe tbody tr th:only-of-type {\n",
       "        vertical-align: middle;\n",
       "    }\n",
       "\n",
       "    .dataframe tbody tr th {\n",
       "        vertical-align: top;\n",
       "    }\n",
       "\n",
       "    .dataframe thead th {\n",
       "        text-align: right;\n",
       "    }\n",
       "</style>\n",
       "<table border=\"1\" class=\"dataframe\">\n",
       "  <thead>\n",
       "    <tr style=\"text-align: right;\">\n",
       "      <th></th>\n",
       "      <th>0</th>\n",
       "      <th>1</th>\n",
       "      <th>2</th>\n",
       "      <th>3</th>\n",
       "      <th>4</th>\n",
       "      <th>5</th>\n",
       "      <th>6</th>\n",
       "      <th>7</th>\n",
       "      <th>8</th>\n",
       "      <th>9</th>\n",
       "      <th>10</th>\n",
       "      <th>11</th>\n",
       "      <th>12</th>\n",
       "      <th>13</th>\n",
       "      <th>14</th>\n",
       "      <th>15</th>\n",
       "      <th>16</th>\n",
       "      <th>17</th>\n",
       "      <th>18</th>\n",
       "      <th>19</th>\n",
       "    </tr>\n",
       "  </thead>\n",
       "  <tbody>\n",
       "    <tr>\n",
       "      <th>0</th>\n",
       "      <td>21.229</td>\n",
       "      <td>23.785</td>\n",
       "      <td>0.014</td>\n",
       "      <td>0.079</td>\n",
       "      <td>6.474</td>\n",
       "      <td>0.515</td>\n",
       "      <td>14.521</td>\n",
       "      <td>0.001</td>\n",
       "      <td>0.068</td>\n",
       "      <td>0.308</td>\n",
       "      <td>28.116</td>\n",
       "      <td>46.645</td>\n",
       "      <td>0.338</td>\n",
       "      <td>0.414</td>\n",
       "      <td>72.681</td>\n",
       "      <td>1.451</td>\n",
       "      <td>1.148</td>\n",
       "      <td>2.299</td>\n",
       "      <td>0.217</td>\n",
       "      <td>0.011</td>\n",
       "    </tr>\n",
       "  </tbody>\n",
       "</table>\n",
       "</div>"
      ],
      "text/plain": [
       "       0       1      2      3      4      5       6      7      8      9   \\\n",
       "0  21.229  23.785  0.014  0.079  6.474  0.515  14.521  0.001  0.068  0.308   \n",
       "\n",
       "       10      11     12     13      14     15     16     17     18     19  \n",
       "0  28.116  46.645  0.338  0.414  72.681  1.451  1.148  2.299  0.217  0.011  "
      ]
     },
     "execution_count": 14,
     "metadata": {},
     "output_type": "execute_result"
    }
   ],
   "source": [
    "pd.DataFrame(np.round(f_stats,3)).T"
   ]
  },
  {
   "cell_type": "markdown",
   "metadata": {},
   "source": [
    "#### **Here, if we see the test statistic value of features (F2, F6, F14 and F19) are extremely high as compared to others. Thus, we can say that these are the top 4 features who are rejecting the null hypothesis i.e. no linear relation exists.**"
   ]
  },
  {
   "cell_type": "code",
   "execution_count": 15,
   "metadata": {},
   "outputs": [
    {
     "data": {
      "text/html": [
       "<div>\n",
       "<style scoped>\n",
       "    .dataframe tbody tr th:only-of-type {\n",
       "        vertical-align: middle;\n",
       "    }\n",
       "\n",
       "    .dataframe tbody tr th {\n",
       "        vertical-align: top;\n",
       "    }\n",
       "\n",
       "    .dataframe thead th {\n",
       "        text-align: right;\n",
       "    }\n",
       "</style>\n",
       "<table border=\"1\" class=\"dataframe\">\n",
       "  <thead>\n",
       "    <tr style=\"text-align: right;\">\n",
       "      <th></th>\n",
       "      <th>0</th>\n",
       "      <th>1</th>\n",
       "      <th>2</th>\n",
       "      <th>3</th>\n",
       "      <th>4</th>\n",
       "      <th>5</th>\n",
       "      <th>6</th>\n",
       "      <th>7</th>\n",
       "      <th>8</th>\n",
       "      <th>9</th>\n",
       "      <th>10</th>\n",
       "      <th>11</th>\n",
       "      <th>12</th>\n",
       "      <th>13</th>\n",
       "      <th>14</th>\n",
       "      <th>15</th>\n",
       "      <th>16</th>\n",
       "      <th>17</th>\n",
       "      <th>18</th>\n",
       "      <th>19</th>\n",
       "    </tr>\n",
       "  </thead>\n",
       "  <tbody>\n",
       "    <tr>\n",
       "      <th>0</th>\n",
       "      <td>0.00001</td>\n",
       "      <td>0.0</td>\n",
       "      <td>0.90749</td>\n",
       "      <td>0.77876</td>\n",
       "      <td>0.01171</td>\n",
       "      <td>0.4739</td>\n",
       "      <td>0.00018</td>\n",
       "      <td>0.97169</td>\n",
       "      <td>0.79425</td>\n",
       "      <td>0.57944</td>\n",
       "      <td>0.0</td>\n",
       "      <td>0.0</td>\n",
       "      <td>0.5616</td>\n",
       "      <td>0.5209</td>\n",
       "      <td>0.0</td>\n",
       "      <td>0.22975</td>\n",
       "      <td>0.28536</td>\n",
       "      <td>0.13107</td>\n",
       "      <td>0.64151</td>\n",
       "      <td>0.91743</td>\n",
       "    </tr>\n",
       "  </tbody>\n",
       "</table>\n",
       "</div>"
      ],
      "text/plain": [
       "        0    1        2        3        4       5        6        7        8   \\\n",
       "0  0.00001  0.0  0.90749  0.77876  0.01171  0.4739  0.00018  0.97169  0.79425   \n",
       "\n",
       "        9    10   11      12      13   14       15       16       17       18  \\\n",
       "0  0.57944  0.0  0.0  0.5616  0.5209  0.0  0.22975  0.28536  0.13107  0.64151   \n",
       "\n",
       "        19  \n",
       "0  0.91743  "
      ]
     },
     "execution_count": 15,
     "metadata": {},
     "output_type": "execute_result"
    }
   ],
   "source": [
    "pd.DataFrame(np.round(p_vals,5)).T"
   ]
  },
  {
   "cell_type": "markdown",
   "metadata": {},
   "source": [
    "#### **P-values of features(F2, F6, F14 and F19) are also highly significant, also looking at the p-value of feature 5 suggests that it can be potentially the 5th best feature in this dataset.**"
   ]
  },
  {
   "cell_type": "code",
   "execution_count": 16,
   "metadata": {},
   "outputs": [
    {
     "data": {
      "text/html": [
       "<div>\n",
       "<style scoped>\n",
       "    .dataframe tbody tr th:only-of-type {\n",
       "        vertical-align: middle;\n",
       "    }\n",
       "\n",
       "    .dataframe tbody tr th {\n",
       "        vertical-align: top;\n",
       "    }\n",
       "\n",
       "    .dataframe thead th {\n",
       "        text-align: right;\n",
       "    }\n",
       "</style>\n",
       "<table border=\"1\" class=\"dataframe\">\n",
       "  <thead>\n",
       "    <tr style=\"text-align: right;\">\n",
       "      <th></th>\n",
       "      <th>F1</th>\n",
       "      <th>F10</th>\n",
       "      <th>F11</th>\n",
       "      <th>F14</th>\n",
       "    </tr>\n",
       "  </thead>\n",
       "  <tbody>\n",
       "    <tr>\n",
       "      <th>0</th>\n",
       "      <td>0.021543</td>\n",
       "      <td>-1.240460</td>\n",
       "      <td>1.324242</td>\n",
       "      <td>-1.678382</td>\n",
       "    </tr>\n",
       "    <tr>\n",
       "      <th>1</th>\n",
       "      <td>1.186909</td>\n",
       "      <td>-0.457351</td>\n",
       "      <td>-0.187372</td>\n",
       "      <td>0.386336</td>\n",
       "    </tr>\n",
       "    <tr>\n",
       "      <th>2</th>\n",
       "      <td>1.009507</td>\n",
       "      <td>-0.378839</td>\n",
       "      <td>-0.103924</td>\n",
       "      <td>-0.295847</td>\n",
       "    </tr>\n",
       "    <tr>\n",
       "      <th>3</th>\n",
       "      <td>-0.788562</td>\n",
       "      <td>-0.316086</td>\n",
       "      <td>-0.577650</td>\n",
       "      <td>-0.126658</td>\n",
       "    </tr>\n",
       "    <tr>\n",
       "      <th>4</th>\n",
       "      <td>-0.588450</td>\n",
       "      <td>-1.034605</td>\n",
       "      <td>0.899639</td>\n",
       "      <td>1.155840</td>\n",
       "    </tr>\n",
       "  </tbody>\n",
       "</table>\n",
       "</div>"
      ],
      "text/plain": [
       "         F1       F10       F11       F14\n",
       "0  0.021543 -1.240460  1.324242 -1.678382\n",
       "1  1.186909 -0.457351 -0.187372  0.386336\n",
       "2  1.009507 -0.378839 -0.103924 -0.295847\n",
       "3 -0.788562 -0.316086 -0.577650 -0.126658\n",
       "4 -0.588450 -1.034605  0.899639  1.155840"
      ]
     },
     "execution_count": 16,
     "metadata": {},
     "output_type": "execute_result"
    }
   ],
   "source": [
    "## Manually selected top-4 features based on self provided alpha value\n",
    "X[manual_selected_cols].head()"
   ]
  },
  {
   "cell_type": "code",
   "execution_count": 17,
   "metadata": {},
   "outputs": [
    {
     "data": {
      "text/html": [
       "<div>\n",
       "<style scoped>\n",
       "    .dataframe tbody tr th:only-of-type {\n",
       "        vertical-align: middle;\n",
       "    }\n",
       "\n",
       "    .dataframe tbody tr th {\n",
       "        vertical-align: top;\n",
       "    }\n",
       "\n",
       "    .dataframe thead th {\n",
       "        text-align: right;\n",
       "    }\n",
       "</style>\n",
       "<table border=\"1\" class=\"dataframe\">\n",
       "  <thead>\n",
       "    <tr style=\"text-align: right;\">\n",
       "      <th></th>\n",
       "      <th>0</th>\n",
       "      <th>1</th>\n",
       "      <th>2</th>\n",
       "      <th>3</th>\n",
       "    </tr>\n",
       "  </thead>\n",
       "  <tbody>\n",
       "    <tr>\n",
       "      <th>0</th>\n",
       "      <td>0.021543</td>\n",
       "      <td>-1.240460</td>\n",
       "      <td>1.324242</td>\n",
       "      <td>-1.678382</td>\n",
       "    </tr>\n",
       "    <tr>\n",
       "      <th>1</th>\n",
       "      <td>1.186909</td>\n",
       "      <td>-0.457351</td>\n",
       "      <td>-0.187372</td>\n",
       "      <td>0.386336</td>\n",
       "    </tr>\n",
       "    <tr>\n",
       "      <th>2</th>\n",
       "      <td>1.009507</td>\n",
       "      <td>-0.378839</td>\n",
       "      <td>-0.103924</td>\n",
       "      <td>-0.295847</td>\n",
       "    </tr>\n",
       "    <tr>\n",
       "      <th>3</th>\n",
       "      <td>-0.788562</td>\n",
       "      <td>-0.316086</td>\n",
       "      <td>-0.577650</td>\n",
       "      <td>-0.126658</td>\n",
       "    </tr>\n",
       "    <tr>\n",
       "      <th>4</th>\n",
       "      <td>-0.588450</td>\n",
       "      <td>-1.034605</td>\n",
       "      <td>0.899639</td>\n",
       "      <td>1.155840</td>\n",
       "    </tr>\n",
       "  </tbody>\n",
       "</table>\n",
       "</div>"
      ],
      "text/plain": [
       "          0         1         2         3\n",
       "0  0.021543 -1.240460  1.324242 -1.678382\n",
       "1  1.186909 -0.457351 -0.187372  0.386336\n",
       "2  1.009507 -0.378839 -0.103924 -0.295847\n",
       "3 -0.788562 -0.316086 -0.577650 -0.126658\n",
       "4 -0.588450 -1.034605  0.899639  1.155840"
      ]
     },
     "execution_count": 17,
     "metadata": {},
     "output_type": "execute_result"
    }
   ],
   "source": [
    "## Features returned by SelectKBest\n",
    "fs_selected_features.head()"
   ]
  },
  {
   "cell_type": "code",
   "execution_count": 18,
   "metadata": {},
   "outputs": [
    {
     "name": "stdout",
     "output_type": "stream",
     "text": [
      "Feature 0: 21.229496\n",
      "Feature 1: 23.784647\n",
      "Feature 2: 0.013538\n",
      "Feature 3: 0.079143\n",
      "Feature 4: 6.474216\n",
      "Feature 5: 0.514841\n",
      "Feature 6: 14.521323\n",
      "Feature 7: 0.001262\n",
      "Feature 8: 0.068200\n",
      "Feature 9: 0.308159\n",
      "Feature 10: 28.115545\n",
      "Feature 11: 46.644504\n",
      "Feature 12: 0.338078\n",
      "Feature 13: 0.413581\n",
      "Feature 14: 72.681090\n",
      "Feature 15: 1.451317\n",
      "Feature 16: 1.147571\n",
      "Feature 17: 2.298813\n",
      "Feature 18: 0.217434\n",
      "Feature 19: 0.010775\n"
     ]
    }
   ],
   "source": [
    "for i in range(len(fs.scores_)):\n",
    "    print('Feature %d: %f' % (i, fs.scores_[i]))"
   ]
  },
  {
   "cell_type": "code",
   "execution_count": 19,
   "metadata": {},
   "outputs": [
    {
     "data": {
      "image/png": "[encoded data removed]",
      "text/plain": [
       "<Figure size 432x288 with 1 Axes>"
      ]
     },
     "metadata": {
      "needs_background": "light"
     },
     "output_type": "display_data"
    }
   ],
   "source": [
    "plt.bar([i for i in range(len(fs.scores_))], fs.scores_)\n",
    "plt.show()"
   ]
  },
  {
   "cell_type": "markdown",
   "metadata": {},
   "source": [
    "#### **So, good here as every thing matched and doubts are solved!!**"
   ]
  },
  {
   "cell_type": "markdown",
   "metadata": {},
   "source": [
    "#### **`Case-1.2`**\n",
    "##### **Selecting only top 4 features with SelectPercentile**"
   ]
  },
  {
   "cell_type": "code",
   "execution_count": 20,
   "metadata": {},
   "outputs": [],
   "source": [
    "fs_p = SelectPercentile(score_func=f_regression,percentile=20)"
   ]
  },
  {
   "cell_type": "markdown",
   "metadata": {},
   "source": [
    "### **F_Regression**\n",
    "\n",
    "Univariate linear regression tests.\n",
    "\n",
    "Linear model for testing the individual effect of each of many regressors. This is a scoring function to be used in a feature selection procedure, not a free standing feature selection procedure.\n",
    "\n",
    "This is done in 2 steps:\n",
    "\n",
    "    The correlation between each regressor and the target is computed, that is, ((X[:, i] - mean(X[:, i])) * (y - mean_y)) / (std(X[:, i]) * std(y)).\n",
    "\n",
    "    It is converted to an F score then to a p-value.\n"
   ]
  },
  {
   "cell_type": "code",
   "execution_count": 21,
   "metadata": {},
   "outputs": [
    {
     "data": {
      "text/plain": [
       "SelectPercentile(percentile=20,\n",
       "                 score_func=<function f_regression at 0x0000017B99FCEEA0>)"
      ]
     },
     "execution_count": 21,
     "metadata": {},
     "output_type": "execute_result"
    }
   ],
   "source": [
    "fs_p.fit(X,y)"
   ]
  },
  {
   "cell_type": "code",
   "execution_count": 22,
   "metadata": {},
   "outputs": [
    {
     "data": {
      "text/html": [
       "<div>\n",
       "<style scoped>\n",
       "    .dataframe tbody tr th:only-of-type {\n",
       "        vertical-align: middle;\n",
       "    }\n",
       "\n",
       "    .dataframe tbody tr th {\n",
       "        vertical-align: top;\n",
       "    }\n",
       "\n",
       "    .dataframe thead th {\n",
       "        text-align: right;\n",
       "    }\n",
       "</style>\n",
       "<table border=\"1\" class=\"dataframe\">\n",
       "  <thead>\n",
       "    <tr style=\"text-align: right;\">\n",
       "      <th></th>\n",
       "      <th>0</th>\n",
       "      <th>1</th>\n",
       "      <th>2</th>\n",
       "      <th>3</th>\n",
       "    </tr>\n",
       "  </thead>\n",
       "  <tbody>\n",
       "    <tr>\n",
       "      <th>0</th>\n",
       "      <td>0.021543</td>\n",
       "      <td>-1.240460</td>\n",
       "      <td>1.324242</td>\n",
       "      <td>-1.678382</td>\n",
       "    </tr>\n",
       "    <tr>\n",
       "      <th>1</th>\n",
       "      <td>1.186909</td>\n",
       "      <td>-0.457351</td>\n",
       "      <td>-0.187372</td>\n",
       "      <td>0.386336</td>\n",
       "    </tr>\n",
       "    <tr>\n",
       "      <th>2</th>\n",
       "      <td>1.009507</td>\n",
       "      <td>-0.378839</td>\n",
       "      <td>-0.103924</td>\n",
       "      <td>-0.295847</td>\n",
       "    </tr>\n",
       "    <tr>\n",
       "      <th>3</th>\n",
       "      <td>-0.788562</td>\n",
       "      <td>-0.316086</td>\n",
       "      <td>-0.577650</td>\n",
       "      <td>-0.126658</td>\n",
       "    </tr>\n",
       "    <tr>\n",
       "      <th>4</th>\n",
       "      <td>-0.588450</td>\n",
       "      <td>-1.034605</td>\n",
       "      <td>0.899639</td>\n",
       "      <td>1.155840</td>\n",
       "    </tr>\n",
       "  </tbody>\n",
       "</table>\n",
       "</div>"
      ],
      "text/plain": [
       "          0         1         2         3\n",
       "0  0.021543 -1.240460  1.324242 -1.678382\n",
       "1  1.186909 -0.457351 -0.187372  0.386336\n",
       "2  1.009507 -0.378839 -0.103924 -0.295847\n",
       "3 -0.788562 -0.316086 -0.577650 -0.126658\n",
       "4 -0.588450 -1.034605  0.899639  1.155840"
      ]
     },
     "execution_count": 22,
     "metadata": {},
     "output_type": "execute_result"
    }
   ],
   "source": [
    "fs_selected_features = pd.DataFrame(fs_p.transform(X))\n",
    "fs_selected_features.head()"
   ]
  },
  {
   "cell_type": "code",
   "execution_count": 23,
   "metadata": {},
   "outputs": [
    {
     "data": {
      "text/html": [
       "<div>\n",
       "<style scoped>\n",
       "    .dataframe tbody tr th:only-of-type {\n",
       "        vertical-align: middle;\n",
       "    }\n",
       "\n",
       "    .dataframe tbody tr th {\n",
       "        vertical-align: top;\n",
       "    }\n",
       "\n",
       "    .dataframe thead th {\n",
       "        text-align: right;\n",
       "    }\n",
       "</style>\n",
       "<table border=\"1\" class=\"dataframe\">\n",
       "  <thead>\n",
       "    <tr style=\"text-align: right;\">\n",
       "      <th></th>\n",
       "      <th>F0</th>\n",
       "      <th>F1</th>\n",
       "      <th>F2</th>\n",
       "      <th>F3</th>\n",
       "      <th>F4</th>\n",
       "      <th>F5</th>\n",
       "      <th>F6</th>\n",
       "      <th>F7</th>\n",
       "      <th>F8</th>\n",
       "      <th>F9</th>\n",
       "      <th>F10</th>\n",
       "      <th>F11</th>\n",
       "      <th>F12</th>\n",
       "      <th>F13</th>\n",
       "      <th>F14</th>\n",
       "      <th>F15</th>\n",
       "      <th>F16</th>\n",
       "      <th>F17</th>\n",
       "      <th>F18</th>\n",
       "      <th>F19</th>\n",
       "    </tr>\n",
       "  </thead>\n",
       "  <tbody>\n",
       "    <tr>\n",
       "      <th>0</th>\n",
       "      <td>0.00001</td>\n",
       "      <td>0.0</td>\n",
       "      <td>0.90749</td>\n",
       "      <td>0.77876</td>\n",
       "      <td>0.01171</td>\n",
       "      <td>0.4739</td>\n",
       "      <td>0.00018</td>\n",
       "      <td>0.97169</td>\n",
       "      <td>0.79425</td>\n",
       "      <td>0.57944</td>\n",
       "      <td>0.0</td>\n",
       "      <td>0.0</td>\n",
       "      <td>0.5616</td>\n",
       "      <td>0.5209</td>\n",
       "      <td>0.0</td>\n",
       "      <td>0.22975</td>\n",
       "      <td>0.28536</td>\n",
       "      <td>0.13107</td>\n",
       "      <td>0.64151</td>\n",
       "      <td>0.91743</td>\n",
       "    </tr>\n",
       "  </tbody>\n",
       "</table>\n",
       "</div>"
      ],
      "text/plain": [
       "        F0   F1       F2       F3       F4      F5       F6       F7       F8  \\\n",
       "0  0.00001  0.0  0.90749  0.77876  0.01171  0.4739  0.00018  0.97169  0.79425   \n",
       "\n",
       "        F9  F10  F11     F12     F13  F14      F15      F16      F17      F18  \\\n",
       "0  0.57944  0.0  0.0  0.5616  0.5209  0.0  0.22975  0.28536  0.13107  0.64151   \n",
       "\n",
       "       F19  \n",
       "0  0.91743  "
      ]
     },
     "execution_count": 23,
     "metadata": {},
     "output_type": "execute_result"
    }
   ],
   "source": [
    "p_vals = np.round(pd.DataFrame(fs_p.pvalues_).T,5)\n",
    "p_vals.columns = col_names\n",
    "\n",
    "p_vals"
   ]
  },
  {
   "cell_type": "code",
   "execution_count": 24,
   "metadata": {},
   "outputs": [
    {
     "data": {
      "text/html": [
       "<div>\n",
       "<style scoped>\n",
       "    .dataframe tbody tr th:only-of-type {\n",
       "        vertical-align: middle;\n",
       "    }\n",
       "\n",
       "    .dataframe tbody tr th {\n",
       "        vertical-align: top;\n",
       "    }\n",
       "\n",
       "    .dataframe thead th {\n",
       "        text-align: right;\n",
       "    }\n",
       "</style>\n",
       "<table border=\"1\" class=\"dataframe\">\n",
       "  <thead>\n",
       "    <tr style=\"text-align: right;\">\n",
       "      <th></th>\n",
       "      <th>F0</th>\n",
       "      <th>F1</th>\n",
       "      <th>F2</th>\n",
       "      <th>F3</th>\n",
       "      <th>F4</th>\n",
       "      <th>F5</th>\n",
       "      <th>F6</th>\n",
       "      <th>F7</th>\n",
       "      <th>F8</th>\n",
       "      <th>F9</th>\n",
       "      <th>F10</th>\n",
       "      <th>F11</th>\n",
       "      <th>F12</th>\n",
       "      <th>F13</th>\n",
       "      <th>F14</th>\n",
       "      <th>F15</th>\n",
       "      <th>F16</th>\n",
       "      <th>F17</th>\n",
       "      <th>F18</th>\n",
       "      <th>F19</th>\n",
       "    </tr>\n",
       "  </thead>\n",
       "  <tbody>\n",
       "    <tr>\n",
       "      <th>0</th>\n",
       "      <td>-0.757330</td>\n",
       "      <td>0.021543</td>\n",
       "      <td>-0.382047</td>\n",
       "      <td>-0.424698</td>\n",
       "      <td>0.855161</td>\n",
       "      <td>0.479733</td>\n",
       "      <td>-1.309680</td>\n",
       "      <td>-1.415371</td>\n",
       "      <td>0.195509</td>\n",
       "      <td>-0.009777</td>\n",
       "      <td>-1.240460</td>\n",
       "      <td>1.324242</td>\n",
       "      <td>-1.350965</td>\n",
       "      <td>0.904078</td>\n",
       "      <td>-1.678382</td>\n",
       "      <td>-0.016301</td>\n",
       "      <td>-0.867185</td>\n",
       "      <td>0.037886</td>\n",
       "      <td>-0.048874</td>\n",
       "      <td>0.049301</td>\n",
       "    </tr>\n",
       "    <tr>\n",
       "      <th>1</th>\n",
       "      <td>-0.966334</td>\n",
       "      <td>1.186909</td>\n",
       "      <td>1.261429</td>\n",
       "      <td>-1.141514</td>\n",
       "      <td>-0.526693</td>\n",
       "      <td>1.447793</td>\n",
       "      <td>0.678977</td>\n",
       "      <td>-0.381230</td>\n",
       "      <td>0.150428</td>\n",
       "      <td>0.088908</td>\n",
       "      <td>-0.457351</td>\n",
       "      <td>-0.187372</td>\n",
       "      <td>-1.022263</td>\n",
       "      <td>-0.510489</td>\n",
       "      <td>0.386336</td>\n",
       "      <td>-1.206009</td>\n",
       "      <td>0.686917</td>\n",
       "      <td>0.694388</td>\n",
       "      <td>0.129252</td>\n",
       "      <td>1.071021</td>\n",
       "    </tr>\n",
       "    <tr>\n",
       "      <th>2</th>\n",
       "      <td>0.772737</td>\n",
       "      <td>1.009507</td>\n",
       "      <td>0.220113</td>\n",
       "      <td>0.916454</td>\n",
       "      <td>-0.205978</td>\n",
       "      <td>-0.126533</td>\n",
       "      <td>0.354027</td>\n",
       "      <td>0.323832</td>\n",
       "      <td>0.946846</td>\n",
       "      <td>-0.709392</td>\n",
       "      <td>-0.378839</td>\n",
       "      <td>-0.103924</td>\n",
       "      <td>-0.190398</td>\n",
       "      <td>0.935585</td>\n",
       "      <td>-0.295847</td>\n",
       "      <td>-1.932724</td>\n",
       "      <td>0.016026</td>\n",
       "      <td>0.282284</td>\n",
       "      <td>-2.206896</td>\n",
       "      <td>1.104021</td>\n",
       "    </tr>\n",
       "    <tr>\n",
       "      <th>3</th>\n",
       "      <td>0.402620</td>\n",
       "      <td>-0.788562</td>\n",
       "      <td>0.404699</td>\n",
       "      <td>0.245258</td>\n",
       "      <td>0.887943</td>\n",
       "      <td>1.033330</td>\n",
       "      <td>-0.187278</td>\n",
       "      <td>-0.376667</td>\n",
       "      <td>0.033746</td>\n",
       "      <td>-1.542179</td>\n",
       "      <td>-0.316086</td>\n",
       "      <td>-0.577650</td>\n",
       "      <td>-0.890086</td>\n",
       "      <td>1.746512</td>\n",
       "      <td>-0.126658</td>\n",
       "      <td>-1.177587</td>\n",
       "      <td>-1.548551</td>\n",
       "      <td>1.571223</td>\n",
       "      <td>-0.041350</td>\n",
       "      <td>1.896443</td>\n",
       "    </tr>\n",
       "    <tr>\n",
       "      <th>4</th>\n",
       "      <td>1.304134</td>\n",
       "      <td>-0.588450</td>\n",
       "      <td>0.740022</td>\n",
       "      <td>0.503271</td>\n",
       "      <td>-1.178247</td>\n",
       "      <td>0.741560</td>\n",
       "      <td>-1.866449</td>\n",
       "      <td>-1.285315</td>\n",
       "      <td>0.781163</td>\n",
       "      <td>0.518518</td>\n",
       "      <td>-1.034605</td>\n",
       "      <td>0.899639</td>\n",
       "      <td>-0.226777</td>\n",
       "      <td>1.046213</td>\n",
       "      <td>1.155840</td>\n",
       "      <td>0.554213</td>\n",
       "      <td>0.612315</td>\n",
       "      <td>-1.020462</td>\n",
       "      <td>0.102381</td>\n",
       "      <td>0.786904</td>\n",
       "    </tr>\n",
       "  </tbody>\n",
       "</table>\n",
       "</div>"
      ],
      "text/plain": [
       "         F0        F1        F2        F3        F4        F5        F6  \\\n",
       "0 -0.757330  0.021543 -0.382047 -0.424698  0.855161  0.479733 -1.309680   \n",
       "1 -0.966334  1.186909  1.261429 -1.141514 -0.526693  1.447793  0.678977   \n",
       "2  0.772737  1.009507  0.220113  0.916454 -0.205978 -0.126533  0.354027   \n",
       "3  0.402620 -0.788562  0.404699  0.245258  0.887943  1.033330 -0.187278   \n",
       "4  1.304134 -0.588450  0.740022  0.503271 -1.178247  0.741560 -1.866449   \n",
       "\n",
       "         F7        F8        F9       F10       F11       F12       F13  \\\n",
       "0 -1.415371  0.195509 -0.009777 -1.240460  1.324242 -1.350965  0.904078   \n",
       "1 -0.381230  0.150428  0.088908 -0.457351 -0.187372 -1.022263 -0.510489   \n",
       "2  0.323832  0.946846 -0.709392 -0.378839 -0.103924 -0.190398  0.935585   \n",
       "3 -0.376667  0.033746 -1.542179 -0.316086 -0.577650 -0.890086  1.746512   \n",
       "4 -1.285315  0.781163  0.518518 -1.034605  0.899639 -0.226777  1.046213   \n",
       "\n",
       "        F14       F15       F16       F17       F18       F19  \n",
       "0 -1.678382 -0.016301 -0.867185  0.037886 -0.048874  0.049301  \n",
       "1  0.386336 -1.206009  0.686917  0.694388  0.129252  1.071021  \n",
       "2 -0.295847 -1.932724  0.016026  0.282284 -2.206896  1.104021  \n",
       "3 -0.126658 -1.177587 -1.548551  1.571223 -0.041350  1.896443  \n",
       "4  1.155840  0.554213  0.612315 -1.020462  0.102381  0.786904  "
      ]
     },
     "execution_count": 24,
     "metadata": {},
     "output_type": "execute_result"
    }
   ],
   "source": [
    "X.head()"
   ]
  },
  {
   "cell_type": "code",
   "execution_count": 25,
   "metadata": {},
   "outputs": [
    {
     "data": {
      "text/plain": [
       "['F1', 'F10', 'F11', 'F14']"
      ]
     },
     "execution_count": 25,
     "metadata": {},
     "output_type": "execute_result"
    }
   ],
   "source": [
    "loc = 1.0\n",
    "alpha = 1 - loc\n",
    "\n",
    "manual_selected_cols = []\n",
    "for feature in col_names:\n",
    "    if p_vals[feature].values == alpha:\n",
    "        manual_selected_cols.append(feature)\n",
    "\n",
    "manual_selected_cols"
   ]
  },
  {
   "cell_type": "markdown",
   "metadata": {},
   "source": [
    "#### **In the above cell, I have selected the `Level of Confidence` as 100% for testing purpose but we can select any threshold value. The only point here is that the higher this value the more relevant features are selected.**\n",
    "\n",
    "#### **The `SelectKBest` works on the basis of selecting the top-k features with minimum p-vals or maximum F-statistic.**"
   ]
  },
  {
   "cell_type": "code",
   "execution_count": 26,
   "metadata": {},
   "outputs": [
    {
     "data": {
      "text/plain": [
       "array([21.2, 23.8,  0. ,  0.1,  6.5,  0.5, 14.5,  0. ,  0.1,  0.3, 28.1,\n",
       "       46.6,  0.3,  0.4, 72.7,  1.5,  1.1,  2.3,  0.2,  0. ])"
      ]
     },
     "execution_count": 26,
     "metadata": {},
     "output_type": "execute_result"
    }
   ],
   "source": [
    "## F-value or F-statstic calculated based on the linear regression test\n",
    "np.round(fs_p.scores_,1)"
   ]
  },
  {
   "cell_type": "code",
   "execution_count": 27,
   "metadata": {},
   "outputs": [],
   "source": [
    "f_stats, p_vals = fs_p.score_func(X,y)"
   ]
  },
  {
   "cell_type": "code",
   "execution_count": 28,
   "metadata": {},
   "outputs": [
    {
     "data": {
      "text/html": [
       "<div>\n",
       "<style scoped>\n",
       "    .dataframe tbody tr th:only-of-type {\n",
       "        vertical-align: middle;\n",
       "    }\n",
       "\n",
       "    .dataframe tbody tr th {\n",
       "        vertical-align: top;\n",
       "    }\n",
       "\n",
       "    .dataframe thead th {\n",
       "        text-align: right;\n",
       "    }\n",
       "</style>\n",
       "<table border=\"1\" class=\"dataframe\">\n",
       "  <thead>\n",
       "    <tr style=\"text-align: right;\">\n",
       "      <th></th>\n",
       "      <th>0</th>\n",
       "      <th>1</th>\n",
       "      <th>2</th>\n",
       "      <th>3</th>\n",
       "      <th>4</th>\n",
       "      <th>5</th>\n",
       "      <th>6</th>\n",
       "      <th>7</th>\n",
       "      <th>8</th>\n",
       "      <th>9</th>\n",
       "      <th>10</th>\n",
       "      <th>11</th>\n",
       "      <th>12</th>\n",
       "      <th>13</th>\n",
       "      <th>14</th>\n",
       "      <th>15</th>\n",
       "      <th>16</th>\n",
       "      <th>17</th>\n",
       "      <th>18</th>\n",
       "      <th>19</th>\n",
       "    </tr>\n",
       "  </thead>\n",
       "  <tbody>\n",
       "    <tr>\n",
       "      <th>0</th>\n",
       "      <td>21.229</td>\n",
       "      <td>23.785</td>\n",
       "      <td>0.014</td>\n",
       "      <td>0.079</td>\n",
       "      <td>6.474</td>\n",
       "      <td>0.515</td>\n",
       "      <td>14.521</td>\n",
       "      <td>0.001</td>\n",
       "      <td>0.068</td>\n",
       "      <td>0.308</td>\n",
       "      <td>28.116</td>\n",
       "      <td>46.645</td>\n",
       "      <td>0.338</td>\n",
       "      <td>0.414</td>\n",
       "      <td>72.681</td>\n",
       "      <td>1.451</td>\n",
       "      <td>1.148</td>\n",
       "      <td>2.299</td>\n",
       "      <td>0.217</td>\n",
       "      <td>0.011</td>\n",
       "    </tr>\n",
       "  </tbody>\n",
       "</table>\n",
       "</div>"
      ],
      "text/plain": [
       "       0       1      2      3      4      5       6      7      8      9   \\\n",
       "0  21.229  23.785  0.014  0.079  6.474  0.515  14.521  0.001  0.068  0.308   \n",
       "\n",
       "       10      11     12     13      14     15     16     17     18     19  \n",
       "0  28.116  46.645  0.338  0.414  72.681  1.451  1.148  2.299  0.217  0.011  "
      ]
     },
     "execution_count": 28,
     "metadata": {},
     "output_type": "execute_result"
    }
   ],
   "source": [
    "pd.DataFrame(np.round(f_stats,3)).T"
   ]
  },
  {
   "cell_type": "markdown",
   "metadata": {},
   "source": [
    "#### **Here, if we see the test statistic value of features (F2, F6, F14 and F19) are extremely high as compared to others. Thus, we can say that these are the top 4 features who are rejecting the null hypothesis i.e. no linear relation exists.**"
   ]
  },
  {
   "cell_type": "code",
   "execution_count": 29,
   "metadata": {},
   "outputs": [
    {
     "data": {
      "text/html": [
       "<div>\n",
       "<style scoped>\n",
       "    .dataframe tbody tr th:only-of-type {\n",
       "        vertical-align: middle;\n",
       "    }\n",
       "\n",
       "    .dataframe tbody tr th {\n",
       "        vertical-align: top;\n",
       "    }\n",
       "\n",
       "    .dataframe thead th {\n",
       "        text-align: right;\n",
       "    }\n",
       "</style>\n",
       "<table border=\"1\" class=\"dataframe\">\n",
       "  <thead>\n",
       "    <tr style=\"text-align: right;\">\n",
       "      <th></th>\n",
       "      <th>0</th>\n",
       "      <th>1</th>\n",
       "      <th>2</th>\n",
       "      <th>3</th>\n",
       "      <th>4</th>\n",
       "      <th>5</th>\n",
       "      <th>6</th>\n",
       "      <th>7</th>\n",
       "      <th>8</th>\n",
       "      <th>9</th>\n",
       "      <th>10</th>\n",
       "      <th>11</th>\n",
       "      <th>12</th>\n",
       "      <th>13</th>\n",
       "      <th>14</th>\n",
       "      <th>15</th>\n",
       "      <th>16</th>\n",
       "      <th>17</th>\n",
       "      <th>18</th>\n",
       "      <th>19</th>\n",
       "    </tr>\n",
       "  </thead>\n",
       "  <tbody>\n",
       "    <tr>\n",
       "      <th>0</th>\n",
       "      <td>0.00001</td>\n",
       "      <td>0.0</td>\n",
       "      <td>0.90749</td>\n",
       "      <td>0.77876</td>\n",
       "      <td>0.01171</td>\n",
       "      <td>0.4739</td>\n",
       "      <td>0.00018</td>\n",
       "      <td>0.97169</td>\n",
       "      <td>0.79425</td>\n",
       "      <td>0.57944</td>\n",
       "      <td>0.0</td>\n",
       "      <td>0.0</td>\n",
       "      <td>0.5616</td>\n",
       "      <td>0.5209</td>\n",
       "      <td>0.0</td>\n",
       "      <td>0.22975</td>\n",
       "      <td>0.28536</td>\n",
       "      <td>0.13107</td>\n",
       "      <td>0.64151</td>\n",
       "      <td>0.91743</td>\n",
       "    </tr>\n",
       "  </tbody>\n",
       "</table>\n",
       "</div>"
      ],
      "text/plain": [
       "        0    1        2        3        4       5        6        7        8   \\\n",
       "0  0.00001  0.0  0.90749  0.77876  0.01171  0.4739  0.00018  0.97169  0.79425   \n",
       "\n",
       "        9    10   11      12      13   14       15       16       17       18  \\\n",
       "0  0.57944  0.0  0.0  0.5616  0.5209  0.0  0.22975  0.28536  0.13107  0.64151   \n",
       "\n",
       "        19  \n",
       "0  0.91743  "
      ]
     },
     "execution_count": 29,
     "metadata": {},
     "output_type": "execute_result"
    }
   ],
   "source": [
    "pd.DataFrame(np.round(p_vals,5)).T"
   ]
  },
  {
   "cell_type": "markdown",
   "metadata": {},
   "source": [
    "#### **P-values of features(F2, F6, F14 and F19) are also highly significant, also looking at the p-value of feature 5 suggests that it can be potentially the 5th best feature in this dataset.**"
   ]
  },
  {
   "cell_type": "code",
   "execution_count": 30,
   "metadata": {},
   "outputs": [
    {
     "data": {
      "text/html": [
       "<div>\n",
       "<style scoped>\n",
       "    .dataframe tbody tr th:only-of-type {\n",
       "        vertical-align: middle;\n",
       "    }\n",
       "\n",
       "    .dataframe tbody tr th {\n",
       "        vertical-align: top;\n",
       "    }\n",
       "\n",
       "    .dataframe thead th {\n",
       "        text-align: right;\n",
       "    }\n",
       "</style>\n",
       "<table border=\"1\" class=\"dataframe\">\n",
       "  <thead>\n",
       "    <tr style=\"text-align: right;\">\n",
       "      <th></th>\n",
       "      <th>F1</th>\n",
       "      <th>F10</th>\n",
       "      <th>F11</th>\n",
       "      <th>F14</th>\n",
       "    </tr>\n",
       "  </thead>\n",
       "  <tbody>\n",
       "    <tr>\n",
       "      <th>0</th>\n",
       "      <td>0.021543</td>\n",
       "      <td>-1.240460</td>\n",
       "      <td>1.324242</td>\n",
       "      <td>-1.678382</td>\n",
       "    </tr>\n",
       "    <tr>\n",
       "      <th>1</th>\n",
       "      <td>1.186909</td>\n",
       "      <td>-0.457351</td>\n",
       "      <td>-0.187372</td>\n",
       "      <td>0.386336</td>\n",
       "    </tr>\n",
       "    <tr>\n",
       "      <th>2</th>\n",
       "      <td>1.009507</td>\n",
       "      <td>-0.378839</td>\n",
       "      <td>-0.103924</td>\n",
       "      <td>-0.295847</td>\n",
       "    </tr>\n",
       "    <tr>\n",
       "      <th>3</th>\n",
       "      <td>-0.788562</td>\n",
       "      <td>-0.316086</td>\n",
       "      <td>-0.577650</td>\n",
       "      <td>-0.126658</td>\n",
       "    </tr>\n",
       "    <tr>\n",
       "      <th>4</th>\n",
       "      <td>-0.588450</td>\n",
       "      <td>-1.034605</td>\n",
       "      <td>0.899639</td>\n",
       "      <td>1.155840</td>\n",
       "    </tr>\n",
       "  </tbody>\n",
       "</table>\n",
       "</div>"
      ],
      "text/plain": [
       "         F1       F10       F11       F14\n",
       "0  0.021543 -1.240460  1.324242 -1.678382\n",
       "1  1.186909 -0.457351 -0.187372  0.386336\n",
       "2  1.009507 -0.378839 -0.103924 -0.295847\n",
       "3 -0.788562 -0.316086 -0.577650 -0.126658\n",
       "4 -0.588450 -1.034605  0.899639  1.155840"
      ]
     },
     "execution_count": 30,
     "metadata": {},
     "output_type": "execute_result"
    }
   ],
   "source": [
    "## Manually selected top-4 features based on self provided alpha value\n",
    "X[manual_selected_cols].head()"
   ]
  },
  {
   "cell_type": "code",
   "execution_count": 31,
   "metadata": {},
   "outputs": [
    {
     "data": {
      "text/html": [
       "<div>\n",
       "<style scoped>\n",
       "    .dataframe tbody tr th:only-of-type {\n",
       "        vertical-align: middle;\n",
       "    }\n",
       "\n",
       "    .dataframe tbody tr th {\n",
       "        vertical-align: top;\n",
       "    }\n",
       "\n",
       "    .dataframe thead th {\n",
       "        text-align: right;\n",
       "    }\n",
       "</style>\n",
       "<table border=\"1\" class=\"dataframe\">\n",
       "  <thead>\n",
       "    <tr style=\"text-align: right;\">\n",
       "      <th></th>\n",
       "      <th>0</th>\n",
       "      <th>1</th>\n",
       "      <th>2</th>\n",
       "      <th>3</th>\n",
       "    </tr>\n",
       "  </thead>\n",
       "  <tbody>\n",
       "    <tr>\n",
       "      <th>0</th>\n",
       "      <td>0.021543</td>\n",
       "      <td>-1.240460</td>\n",
       "      <td>1.324242</td>\n",
       "      <td>-1.678382</td>\n",
       "    </tr>\n",
       "    <tr>\n",
       "      <th>1</th>\n",
       "      <td>1.186909</td>\n",
       "      <td>-0.457351</td>\n",
       "      <td>-0.187372</td>\n",
       "      <td>0.386336</td>\n",
       "    </tr>\n",
       "    <tr>\n",
       "      <th>2</th>\n",
       "      <td>1.009507</td>\n",
       "      <td>-0.378839</td>\n",
       "      <td>-0.103924</td>\n",
       "      <td>-0.295847</td>\n",
       "    </tr>\n",
       "    <tr>\n",
       "      <th>3</th>\n",
       "      <td>-0.788562</td>\n",
       "      <td>-0.316086</td>\n",
       "      <td>-0.577650</td>\n",
       "      <td>-0.126658</td>\n",
       "    </tr>\n",
       "    <tr>\n",
       "      <th>4</th>\n",
       "      <td>-0.588450</td>\n",
       "      <td>-1.034605</td>\n",
       "      <td>0.899639</td>\n",
       "      <td>1.155840</td>\n",
       "    </tr>\n",
       "  </tbody>\n",
       "</table>\n",
       "</div>"
      ],
      "text/plain": [
       "          0         1         2         3\n",
       "0  0.021543 -1.240460  1.324242 -1.678382\n",
       "1  1.186909 -0.457351 -0.187372  0.386336\n",
       "2  1.009507 -0.378839 -0.103924 -0.295847\n",
       "3 -0.788562 -0.316086 -0.577650 -0.126658\n",
       "4 -0.588450 -1.034605  0.899639  1.155840"
      ]
     },
     "execution_count": 31,
     "metadata": {},
     "output_type": "execute_result"
    }
   ],
   "source": [
    "## Features returned by SelectKBest\n",
    "fs_selected_features.head()"
   ]
  },
  {
   "cell_type": "code",
   "execution_count": 32,
   "metadata": {},
   "outputs": [
    {
     "name": "stdout",
     "output_type": "stream",
     "text": [
      "Feature 0: 21.229496\n",
      "Feature 1: 23.784647\n",
      "Feature 2: 0.013538\n",
      "Feature 3: 0.079143\n",
      "Feature 4: 6.474216\n",
      "Feature 5: 0.514841\n",
      "Feature 6: 14.521323\n",
      "Feature 7: 0.001262\n",
      "Feature 8: 0.068200\n",
      "Feature 9: 0.308159\n",
      "Feature 10: 28.115545\n",
      "Feature 11: 46.644504\n",
      "Feature 12: 0.338078\n",
      "Feature 13: 0.413581\n",
      "Feature 14: 72.681090\n",
      "Feature 15: 1.451317\n",
      "Feature 16: 1.147571\n",
      "Feature 17: 2.298813\n",
      "Feature 18: 0.217434\n",
      "Feature 19: 0.010775\n"
     ]
    }
   ],
   "source": [
    "for i in range(len(fs_p.scores_)):\n",
    "    print('Feature %d: %f' % (i, fs_p.scores_[i]))"
   ]
  },
  {
   "cell_type": "code",
   "execution_count": 33,
   "metadata": {},
   "outputs": [
    {
     "data": {
      "image/png": "[encoded data removed]",
      "text/plain": [
       "<Figure size 432x288 with 1 Axes>"
      ]
     },
     "metadata": {
      "needs_background": "light"
     },
     "output_type": "display_data"
    }
   ],
   "source": [
    "plt.bar([i for i in range(len(fs_p.scores_))], fs_p.scores_)\n",
    "plt.show()"
   ]
  },
  {
   "cell_type": "markdown",
   "metadata": {},
   "source": [
    "#### **So, good here as every thing matched and doubts are solved!!**"
   ]
  },
  {
   "cell_type": "markdown",
   "metadata": {},
   "source": [
    "#### **`Case-2`**\n",
    "##### **Selecting top 8 features instead of 4**"
   ]
  },
  {
   "cell_type": "code",
   "execution_count": 34,
   "metadata": {},
   "outputs": [],
   "source": [
    "fs = SelectKBest(score_func=f_regression,k=8)"
   ]
  },
  {
   "cell_type": "code",
   "execution_count": 35,
   "metadata": {},
   "outputs": [
    {
     "data": {
      "text/plain": [
       "SelectKBest(k=8, score_func=<function f_regression at 0x0000017B99FCEEA0>)"
      ]
     },
     "execution_count": 35,
     "metadata": {},
     "output_type": "execute_result"
    }
   ],
   "source": [
    "fs.fit(X,y)"
   ]
  },
  {
   "cell_type": "code",
   "execution_count": 36,
   "metadata": {},
   "outputs": [
    {
     "data": {
      "text/html": [
       "<div>\n",
       "<style scoped>\n",
       "    .dataframe tbody tr th:only-of-type {\n",
       "        vertical-align: middle;\n",
       "    }\n",
       "\n",
       "    .dataframe tbody tr th {\n",
       "        vertical-align: top;\n",
       "    }\n",
       "\n",
       "    .dataframe thead th {\n",
       "        text-align: right;\n",
       "    }\n",
       "</style>\n",
       "<table border=\"1\" class=\"dataframe\">\n",
       "  <thead>\n",
       "    <tr style=\"text-align: right;\">\n",
       "      <th></th>\n",
       "      <th>0</th>\n",
       "      <th>1</th>\n",
       "      <th>2</th>\n",
       "      <th>3</th>\n",
       "      <th>4</th>\n",
       "      <th>5</th>\n",
       "      <th>6</th>\n",
       "      <th>7</th>\n",
       "    </tr>\n",
       "  </thead>\n",
       "  <tbody>\n",
       "    <tr>\n",
       "      <th>0</th>\n",
       "      <td>-0.757330</td>\n",
       "      <td>0.021543</td>\n",
       "      <td>0.855161</td>\n",
       "      <td>-1.309680</td>\n",
       "      <td>-1.240460</td>\n",
       "      <td>1.324242</td>\n",
       "      <td>-1.678382</td>\n",
       "      <td>0.037886</td>\n",
       "    </tr>\n",
       "    <tr>\n",
       "      <th>1</th>\n",
       "      <td>-0.966334</td>\n",
       "      <td>1.186909</td>\n",
       "      <td>-0.526693</td>\n",
       "      <td>0.678977</td>\n",
       "      <td>-0.457351</td>\n",
       "      <td>-0.187372</td>\n",
       "      <td>0.386336</td>\n",
       "      <td>0.694388</td>\n",
       "    </tr>\n",
       "    <tr>\n",
       "      <th>2</th>\n",
       "      <td>0.772737</td>\n",
       "      <td>1.009507</td>\n",
       "      <td>-0.205978</td>\n",
       "      <td>0.354027</td>\n",
       "      <td>-0.378839</td>\n",
       "      <td>-0.103924</td>\n",
       "      <td>-0.295847</td>\n",
       "      <td>0.282284</td>\n",
       "    </tr>\n",
       "    <tr>\n",
       "      <th>3</th>\n",
       "      <td>0.402620</td>\n",
       "      <td>-0.788562</td>\n",
       "      <td>0.887943</td>\n",
       "      <td>-0.187278</td>\n",
       "      <td>-0.316086</td>\n",
       "      <td>-0.577650</td>\n",
       "      <td>-0.126658</td>\n",
       "      <td>1.571223</td>\n",
       "    </tr>\n",
       "    <tr>\n",
       "      <th>4</th>\n",
       "      <td>1.304134</td>\n",
       "      <td>-0.588450</td>\n",
       "      <td>-1.178247</td>\n",
       "      <td>-1.866449</td>\n",
       "      <td>-1.034605</td>\n",
       "      <td>0.899639</td>\n",
       "      <td>1.155840</td>\n",
       "      <td>-1.020462</td>\n",
       "    </tr>\n",
       "  </tbody>\n",
       "</table>\n",
       "</div>"
      ],
      "text/plain": [
       "          0         1         2         3         4         5         6  \\\n",
       "0 -0.757330  0.021543  0.855161 -1.309680 -1.240460  1.324242 -1.678382   \n",
       "1 -0.966334  1.186909 -0.526693  0.678977 -0.457351 -0.187372  0.386336   \n",
       "2  0.772737  1.009507 -0.205978  0.354027 -0.378839 -0.103924 -0.295847   \n",
       "3  0.402620 -0.788562  0.887943 -0.187278 -0.316086 -0.577650 -0.126658   \n",
       "4  1.304134 -0.588450 -1.178247 -1.866449 -1.034605  0.899639  1.155840   \n",
       "\n",
       "          7  \n",
       "0  0.037886  \n",
       "1  0.694388  \n",
       "2  0.282284  \n",
       "3  1.571223  \n",
       "4 -1.020462  "
      ]
     },
     "execution_count": 36,
     "metadata": {},
     "output_type": "execute_result"
    }
   ],
   "source": [
    "fs_selected_features = pd.DataFrame(fs.transform(X))\n",
    "fs_selected_features.head()"
   ]
  },
  {
   "cell_type": "code",
   "execution_count": 37,
   "metadata": {},
   "outputs": [
    {
     "data": {
      "text/html": [
       "<div>\n",
       "<style scoped>\n",
       "    .dataframe tbody tr th:only-of-type {\n",
       "        vertical-align: middle;\n",
       "    }\n",
       "\n",
       "    .dataframe tbody tr th {\n",
       "        vertical-align: top;\n",
       "    }\n",
       "\n",
       "    .dataframe thead th {\n",
       "        text-align: right;\n",
       "    }\n",
       "</style>\n",
       "<table border=\"1\" class=\"dataframe\">\n",
       "  <thead>\n",
       "    <tr style=\"text-align: right;\">\n",
       "      <th></th>\n",
       "      <th>F0</th>\n",
       "      <th>F1</th>\n",
       "      <th>F2</th>\n",
       "      <th>F3</th>\n",
       "      <th>F4</th>\n",
       "      <th>F5</th>\n",
       "      <th>F6</th>\n",
       "      <th>F7</th>\n",
       "      <th>F8</th>\n",
       "      <th>F9</th>\n",
       "      <th>F10</th>\n",
       "      <th>F11</th>\n",
       "      <th>F12</th>\n",
       "      <th>F13</th>\n",
       "      <th>F14</th>\n",
       "      <th>F15</th>\n",
       "      <th>F16</th>\n",
       "      <th>F17</th>\n",
       "      <th>F18</th>\n",
       "      <th>F19</th>\n",
       "    </tr>\n",
       "  </thead>\n",
       "  <tbody>\n",
       "    <tr>\n",
       "      <th>0</th>\n",
       "      <td>0.00001</td>\n",
       "      <td>0.0</td>\n",
       "      <td>0.90749</td>\n",
       "      <td>0.77876</td>\n",
       "      <td>0.01171</td>\n",
       "      <td>0.4739</td>\n",
       "      <td>0.00018</td>\n",
       "      <td>0.97169</td>\n",
       "      <td>0.79425</td>\n",
       "      <td>0.57944</td>\n",
       "      <td>0.0</td>\n",
       "      <td>0.0</td>\n",
       "      <td>0.5616</td>\n",
       "      <td>0.5209</td>\n",
       "      <td>0.0</td>\n",
       "      <td>0.22975</td>\n",
       "      <td>0.28536</td>\n",
       "      <td>0.13107</td>\n",
       "      <td>0.64151</td>\n",
       "      <td>0.91743</td>\n",
       "    </tr>\n",
       "  </tbody>\n",
       "</table>\n",
       "</div>"
      ],
      "text/plain": [
       "        F0   F1       F2       F3       F4      F5       F6       F7       F8  \\\n",
       "0  0.00001  0.0  0.90749  0.77876  0.01171  0.4739  0.00018  0.97169  0.79425   \n",
       "\n",
       "        F9  F10  F11     F12     F13  F14      F15      F16      F17      F18  \\\n",
       "0  0.57944  0.0  0.0  0.5616  0.5209  0.0  0.22975  0.28536  0.13107  0.64151   \n",
       "\n",
       "       F19  \n",
       "0  0.91743  "
      ]
     },
     "execution_count": 37,
     "metadata": {},
     "output_type": "execute_result"
    }
   ],
   "source": [
    "p_vals = np.round(pd.DataFrame(fs.pvalues_).T,5)\n",
    "p_vals.columns = col_names\n",
    "\n",
    "p_vals"
   ]
  },
  {
   "cell_type": "code",
   "execution_count": 38,
   "metadata": {},
   "outputs": [
    {
     "data": {
      "text/plain": [
       "['F0', 'F1', 'F6', 'F10', 'F11', 'F14']"
      ]
     },
     "execution_count": 38,
     "metadata": {},
     "output_type": "execute_result"
    }
   ],
   "source": [
    "loc = 0.99\n",
    "alpha = 1 - loc\n",
    "\n",
    "manual_selected_cols = []\n",
    "for feature in col_names:\n",
    "    if p_vals[feature].values < alpha:\n",
    "        manual_selected_cols.append(feature)\n",
    "\n",
    "manual_selected_cols"
   ]
  },
  {
   "cell_type": "markdown",
   "metadata": {},
   "source": [
    "#### **In the above cell, I have selected the `Level of Confidence` as 99% instead of 100% because I'm increasing the number of relevant features.**\n",
    "\n",
    "#### **The `SelectKBest` works on the basis of selecting the top-k features with minimum p-vals or maximum F-statistic.**"
   ]
  },
  {
   "cell_type": "code",
   "execution_count": 39,
   "metadata": {},
   "outputs": [
    {
     "data": {
      "text/plain": [
       "array([2.12294955e+01, 2.37846473e+01, 1.35376692e-02, 7.91426159e-02,\n",
       "       6.47421552e+00, 5.14840951e-01, 1.45213230e+01, 1.26248256e-03,\n",
       "       6.82004057e-02, 3.08158552e-01, 2.81155449e+01, 4.66445040e+01,\n",
       "       3.38078371e-01, 4.13581410e-01, 7.26810903e+01, 1.45131658e+00,\n",
       "       1.14757136e+00, 2.29881269e+00, 2.17434217e-01, 1.07746934e-02])"
      ]
     },
     "execution_count": 39,
     "metadata": {},
     "output_type": "execute_result"
    }
   ],
   "source": [
    "## F-value or F-statstic calculated based on the linear regression test\n",
    "fs.scores_   "
   ]
  },
  {
   "cell_type": "code",
   "execution_count": 40,
   "metadata": {},
   "outputs": [],
   "source": [
    "f_stats, p_vals = fs.score_func(X,y)"
   ]
  },
  {
   "cell_type": "code",
   "execution_count": 41,
   "metadata": {},
   "outputs": [
    {
     "data": {
      "text/html": [
       "<div>\n",
       "<style scoped>\n",
       "    .dataframe tbody tr th:only-of-type {\n",
       "        vertical-align: middle;\n",
       "    }\n",
       "\n",
       "    .dataframe tbody tr th {\n",
       "        vertical-align: top;\n",
       "    }\n",
       "\n",
       "    .dataframe thead th {\n",
       "        text-align: right;\n",
       "    }\n",
       "</style>\n",
       "<table border=\"1\" class=\"dataframe\">\n",
       "  <thead>\n",
       "    <tr style=\"text-align: right;\">\n",
       "      <th></th>\n",
       "      <th>0</th>\n",
       "      <th>1</th>\n",
       "      <th>2</th>\n",
       "      <th>3</th>\n",
       "      <th>4</th>\n",
       "      <th>5</th>\n",
       "      <th>6</th>\n",
       "      <th>7</th>\n",
       "      <th>8</th>\n",
       "      <th>9</th>\n",
       "      <th>10</th>\n",
       "      <th>11</th>\n",
       "      <th>12</th>\n",
       "      <th>13</th>\n",
       "      <th>14</th>\n",
       "      <th>15</th>\n",
       "      <th>16</th>\n",
       "      <th>17</th>\n",
       "      <th>18</th>\n",
       "      <th>19</th>\n",
       "    </tr>\n",
       "  </thead>\n",
       "  <tbody>\n",
       "    <tr>\n",
       "      <th>0</th>\n",
       "      <td>21.229</td>\n",
       "      <td>23.785</td>\n",
       "      <td>0.014</td>\n",
       "      <td>0.079</td>\n",
       "      <td>6.474</td>\n",
       "      <td>0.515</td>\n",
       "      <td>14.521</td>\n",
       "      <td>0.001</td>\n",
       "      <td>0.068</td>\n",
       "      <td>0.308</td>\n",
       "      <td>28.116</td>\n",
       "      <td>46.645</td>\n",
       "      <td>0.338</td>\n",
       "      <td>0.414</td>\n",
       "      <td>72.681</td>\n",
       "      <td>1.451</td>\n",
       "      <td>1.148</td>\n",
       "      <td>2.299</td>\n",
       "      <td>0.217</td>\n",
       "      <td>0.011</td>\n",
       "    </tr>\n",
       "  </tbody>\n",
       "</table>\n",
       "</div>"
      ],
      "text/plain": [
       "       0       1      2      3      4      5       6      7      8      9   \\\n",
       "0  21.229  23.785  0.014  0.079  6.474  0.515  14.521  0.001  0.068  0.308   \n",
       "\n",
       "       10      11     12     13      14     15     16     17     18     19  \n",
       "0  28.116  46.645  0.338  0.414  72.681  1.451  1.148  2.299  0.217  0.011  "
      ]
     },
     "execution_count": 41,
     "metadata": {},
     "output_type": "execute_result"
    }
   ],
   "source": [
    "pd.DataFrame(np.round(f_stats,3)).T"
   ]
  },
  {
   "cell_type": "markdown",
   "metadata": {},
   "source": [
    "#### **Here, if we see the test statistic values of features (F2, F5, F6, F12, F14, F17 and F19) are high as compared to others. Thus, we can say that these are the top 7 features who are rejecting the null hypothesis i.e. no linear relation exists.**"
   ]
  },
  {
   "cell_type": "code",
   "execution_count": 42,
   "metadata": {},
   "outputs": [
    {
     "data": {
      "text/html": [
       "<div>\n",
       "<style scoped>\n",
       "    .dataframe tbody tr th:only-of-type {\n",
       "        vertical-align: middle;\n",
       "    }\n",
       "\n",
       "    .dataframe tbody tr th {\n",
       "        vertical-align: top;\n",
       "    }\n",
       "\n",
       "    .dataframe thead th {\n",
       "        text-align: right;\n",
       "    }\n",
       "</style>\n",
       "<table border=\"1\" class=\"dataframe\">\n",
       "  <thead>\n",
       "    <tr style=\"text-align: right;\">\n",
       "      <th></th>\n",
       "      <th>0</th>\n",
       "      <th>1</th>\n",
       "      <th>2</th>\n",
       "      <th>3</th>\n",
       "      <th>4</th>\n",
       "      <th>5</th>\n",
       "      <th>6</th>\n",
       "      <th>7</th>\n",
       "      <th>8</th>\n",
       "      <th>9</th>\n",
       "      <th>10</th>\n",
       "      <th>11</th>\n",
       "      <th>12</th>\n",
       "      <th>13</th>\n",
       "      <th>14</th>\n",
       "      <th>15</th>\n",
       "      <th>16</th>\n",
       "      <th>17</th>\n",
       "      <th>18</th>\n",
       "      <th>19</th>\n",
       "    </tr>\n",
       "  </thead>\n",
       "  <tbody>\n",
       "    <tr>\n",
       "      <th>0</th>\n",
       "      <td>0.00001</td>\n",
       "      <td>0.0</td>\n",
       "      <td>0.90749</td>\n",
       "      <td>0.77876</td>\n",
       "      <td>0.01171</td>\n",
       "      <td>0.4739</td>\n",
       "      <td>0.00018</td>\n",
       "      <td>0.97169</td>\n",
       "      <td>0.79425</td>\n",
       "      <td>0.57944</td>\n",
       "      <td>0.0</td>\n",
       "      <td>0.0</td>\n",
       "      <td>0.5616</td>\n",
       "      <td>0.5209</td>\n",
       "      <td>0.0</td>\n",
       "      <td>0.22975</td>\n",
       "      <td>0.28536</td>\n",
       "      <td>0.13107</td>\n",
       "      <td>0.64151</td>\n",
       "      <td>0.91743</td>\n",
       "    </tr>\n",
       "  </tbody>\n",
       "</table>\n",
       "</div>"
      ],
      "text/plain": [
       "        0    1        2        3        4       5        6        7        8   \\\n",
       "0  0.00001  0.0  0.90749  0.77876  0.01171  0.4739  0.00018  0.97169  0.79425   \n",
       "\n",
       "        9    10   11      12      13   14       15       16       17       18  \\\n",
       "0  0.57944  0.0  0.0  0.5616  0.5209  0.0  0.22975  0.28536  0.13107  0.64151   \n",
       "\n",
       "        19  \n",
       "0  0.91743  "
      ]
     },
     "execution_count": 42,
     "metadata": {},
     "output_type": "execute_result"
    }
   ],
   "source": [
    "pd.DataFrame(np.round(p_vals,5)).T"
   ]
  },
  {
   "cell_type": "markdown",
   "metadata": {},
   "source": [
    "#### **P-values of features(F2, F5, F6, F12, F14, F17 and F19) are also highly significant, also looking at the p-value of feature 0 suggests that it can be potentially the 8th best feature in this dataset.**"
   ]
  },
  {
   "cell_type": "code",
   "execution_count": 43,
   "metadata": {},
   "outputs": [
    {
     "data": {
      "text/html": [
       "<div>\n",
       "<style scoped>\n",
       "    .dataframe tbody tr th:only-of-type {\n",
       "        vertical-align: middle;\n",
       "    }\n",
       "\n",
       "    .dataframe tbody tr th {\n",
       "        vertical-align: top;\n",
       "    }\n",
       "\n",
       "    .dataframe thead th {\n",
       "        text-align: right;\n",
       "    }\n",
       "</style>\n",
       "<table border=\"1\" class=\"dataframe\">\n",
       "  <thead>\n",
       "    <tr style=\"text-align: right;\">\n",
       "      <th></th>\n",
       "      <th>F0</th>\n",
       "      <th>F1</th>\n",
       "      <th>F6</th>\n",
       "      <th>F10</th>\n",
       "      <th>F11</th>\n",
       "      <th>F14</th>\n",
       "    </tr>\n",
       "  </thead>\n",
       "  <tbody>\n",
       "    <tr>\n",
       "      <th>0</th>\n",
       "      <td>-0.757330</td>\n",
       "      <td>0.021543</td>\n",
       "      <td>-1.309680</td>\n",
       "      <td>-1.240460</td>\n",
       "      <td>1.324242</td>\n",
       "      <td>-1.678382</td>\n",
       "    </tr>\n",
       "    <tr>\n",
       "      <th>1</th>\n",
       "      <td>-0.966334</td>\n",
       "      <td>1.186909</td>\n",
       "      <td>0.678977</td>\n",
       "      <td>-0.457351</td>\n",
       "      <td>-0.187372</td>\n",
       "      <td>0.386336</td>\n",
       "    </tr>\n",
       "    <tr>\n",
       "      <th>2</th>\n",
       "      <td>0.772737</td>\n",
       "      <td>1.009507</td>\n",
       "      <td>0.354027</td>\n",
       "      <td>-0.378839</td>\n",
       "      <td>-0.103924</td>\n",
       "      <td>-0.295847</td>\n",
       "    </tr>\n",
       "    <tr>\n",
       "      <th>3</th>\n",
       "      <td>0.402620</td>\n",
       "      <td>-0.788562</td>\n",
       "      <td>-0.187278</td>\n",
       "      <td>-0.316086</td>\n",
       "      <td>-0.577650</td>\n",
       "      <td>-0.126658</td>\n",
       "    </tr>\n",
       "    <tr>\n",
       "      <th>4</th>\n",
       "      <td>1.304134</td>\n",
       "      <td>-0.588450</td>\n",
       "      <td>-1.866449</td>\n",
       "      <td>-1.034605</td>\n",
       "      <td>0.899639</td>\n",
       "      <td>1.155840</td>\n",
       "    </tr>\n",
       "  </tbody>\n",
       "</table>\n",
       "</div>"
      ],
      "text/plain": [
       "         F0        F1        F6       F10       F11       F14\n",
       "0 -0.757330  0.021543 -1.309680 -1.240460  1.324242 -1.678382\n",
       "1 -0.966334  1.186909  0.678977 -0.457351 -0.187372  0.386336\n",
       "2  0.772737  1.009507  0.354027 -0.378839 -0.103924 -0.295847\n",
       "3  0.402620 -0.788562 -0.187278 -0.316086 -0.577650 -0.126658\n",
       "4  1.304134 -0.588450 -1.866449 -1.034605  0.899639  1.155840"
      ]
     },
     "execution_count": 43,
     "metadata": {},
     "output_type": "execute_result"
    }
   ],
   "source": [
    "## Manually selected top-4 features based on self provided alpha value\n",
    "X[manual_selected_cols].head()"
   ]
  },
  {
   "cell_type": "code",
   "execution_count": 44,
   "metadata": {},
   "outputs": [
    {
     "data": {
      "text/html": [
       "<div>\n",
       "<style scoped>\n",
       "    .dataframe tbody tr th:only-of-type {\n",
       "        vertical-align: middle;\n",
       "    }\n",
       "\n",
       "    .dataframe tbody tr th {\n",
       "        vertical-align: top;\n",
       "    }\n",
       "\n",
       "    .dataframe thead th {\n",
       "        text-align: right;\n",
       "    }\n",
       "</style>\n",
       "<table border=\"1\" class=\"dataframe\">\n",
       "  <thead>\n",
       "    <tr style=\"text-align: right;\">\n",
       "      <th></th>\n",
       "      <th>0</th>\n",
       "      <th>1</th>\n",
       "      <th>2</th>\n",
       "      <th>3</th>\n",
       "      <th>4</th>\n",
       "      <th>5</th>\n",
       "      <th>6</th>\n",
       "      <th>7</th>\n",
       "    </tr>\n",
       "  </thead>\n",
       "  <tbody>\n",
       "    <tr>\n",
       "      <th>0</th>\n",
       "      <td>-0.757330</td>\n",
       "      <td>0.021543</td>\n",
       "      <td>0.855161</td>\n",
       "      <td>-1.309680</td>\n",
       "      <td>-1.240460</td>\n",
       "      <td>1.324242</td>\n",
       "      <td>-1.678382</td>\n",
       "      <td>0.037886</td>\n",
       "    </tr>\n",
       "    <tr>\n",
       "      <th>1</th>\n",
       "      <td>-0.966334</td>\n",
       "      <td>1.186909</td>\n",
       "      <td>-0.526693</td>\n",
       "      <td>0.678977</td>\n",
       "      <td>-0.457351</td>\n",
       "      <td>-0.187372</td>\n",
       "      <td>0.386336</td>\n",
       "      <td>0.694388</td>\n",
       "    </tr>\n",
       "    <tr>\n",
       "      <th>2</th>\n",
       "      <td>0.772737</td>\n",
       "      <td>1.009507</td>\n",
       "      <td>-0.205978</td>\n",
       "      <td>0.354027</td>\n",
       "      <td>-0.378839</td>\n",
       "      <td>-0.103924</td>\n",
       "      <td>-0.295847</td>\n",
       "      <td>0.282284</td>\n",
       "    </tr>\n",
       "    <tr>\n",
       "      <th>3</th>\n",
       "      <td>0.402620</td>\n",
       "      <td>-0.788562</td>\n",
       "      <td>0.887943</td>\n",
       "      <td>-0.187278</td>\n",
       "      <td>-0.316086</td>\n",
       "      <td>-0.577650</td>\n",
       "      <td>-0.126658</td>\n",
       "      <td>1.571223</td>\n",
       "    </tr>\n",
       "    <tr>\n",
       "      <th>4</th>\n",
       "      <td>1.304134</td>\n",
       "      <td>-0.588450</td>\n",
       "      <td>-1.178247</td>\n",
       "      <td>-1.866449</td>\n",
       "      <td>-1.034605</td>\n",
       "      <td>0.899639</td>\n",
       "      <td>1.155840</td>\n",
       "      <td>-1.020462</td>\n",
       "    </tr>\n",
       "  </tbody>\n",
       "</table>\n",
       "</div>"
      ],
      "text/plain": [
       "          0         1         2         3         4         5         6  \\\n",
       "0 -0.757330  0.021543  0.855161 -1.309680 -1.240460  1.324242 -1.678382   \n",
       "1 -0.966334  1.186909 -0.526693  0.678977 -0.457351 -0.187372  0.386336   \n",
       "2  0.772737  1.009507 -0.205978  0.354027 -0.378839 -0.103924 -0.295847   \n",
       "3  0.402620 -0.788562  0.887943 -0.187278 -0.316086 -0.577650 -0.126658   \n",
       "4  1.304134 -0.588450 -1.178247 -1.866449 -1.034605  0.899639  1.155840   \n",
       "\n",
       "          7  \n",
       "0  0.037886  \n",
       "1  0.694388  \n",
       "2  0.282284  \n",
       "3  1.571223  \n",
       "4 -1.020462  "
      ]
     },
     "execution_count": 44,
     "metadata": {},
     "output_type": "execute_result"
    }
   ],
   "source": [
    "## Features returned by SelectKBest\n",
    "fs_selected_features.head()"
   ]
  },
  {
   "cell_type": "code",
   "execution_count": 45,
   "metadata": {},
   "outputs": [
    {
     "name": "stdout",
     "output_type": "stream",
     "text": [
      "Feature 0: 21.229496\n",
      "Feature 1: 23.784647\n",
      "Feature 2: 0.013538\n",
      "Feature 3: 0.079143\n",
      "Feature 4: 6.474216\n",
      "Feature 5: 0.514841\n",
      "Feature 6: 14.521323\n",
      "Feature 7: 0.001262\n",
      "Feature 8: 0.068200\n",
      "Feature 9: 0.308159\n",
      "Feature 10: 28.115545\n",
      "Feature 11: 46.644504\n",
      "Feature 12: 0.338078\n",
      "Feature 13: 0.413581\n",
      "Feature 14: 72.681090\n",
      "Feature 15: 1.451317\n",
      "Feature 16: 1.147571\n",
      "Feature 17: 2.298813\n",
      "Feature 18: 0.217434\n",
      "Feature 19: 0.010775\n"
     ]
    }
   ],
   "source": [
    "for i in range(len(fs.scores_)):\n",
    "    print('Feature %d: %f' % (i, fs.scores_[i]))"
   ]
  },
  {
   "cell_type": "code",
   "execution_count": 46,
   "metadata": {},
   "outputs": [
    {
     "data": {
      "image/png": "[encoded data removed]",
      "text/plain": [
       "<Figure size 432x288 with 1 Axes>"
      ]
     },
     "metadata": {
      "needs_background": "light"
     },
     "output_type": "display_data"
    }
   ],
   "source": [
    "plt.bar([i for i in range(len(fs.scores_))], fs.scores_)\n",
    "plt.show()"
   ]
  },
  {
   "cell_type": "markdown",
   "metadata": {},
   "source": [
    "#### **So, good here as everything matched and doubts are solved!!**\n",
    "##### **The point to remember here is that `SelectKBest` runs a `statistical test(passed as an input parameter)` at the backend and based on p-values or test statistics it filters the top dataset representing features.**"
   ]
  },
  {
   "cell_type": "markdown",
   "metadata": {},
   "source": [
    "### **Classification_Problem**"
   ]
  },
  {
   "cell_type": "code",
   "execution_count": 47,
   "metadata": {},
   "outputs": [],
   "source": [
    "from sklearn.datasets import make_classification\n",
    "from sklearn.feature_selection import f_classif, chi2, mutual_info_classif, mutual_info_regression"
   ]
  },
  {
   "cell_type": "code",
   "execution_count": 48,
   "metadata": {},
   "outputs": [],
   "source": [
    "X, y = make_classification(n_samples=200,n_features=15,n_informative=6,n_classes=3)"
   ]
  },
  {
   "cell_type": "code",
   "execution_count": 49,
   "metadata": {},
   "outputs": [
    {
     "data": {
      "text/plain": [
       "((200, 15), (200,))"
      ]
     },
     "execution_count": 49,
     "metadata": {},
     "output_type": "execute_result"
    }
   ],
   "source": [
    "X.shape, y.shape"
   ]
  },
  {
   "cell_type": "code",
   "execution_count": 50,
   "metadata": {},
   "outputs": [
    {
     "name": "stdout",
     "output_type": "stream",
     "text": [
      "['F0', 'F1', 'F2', 'F3', 'F4', 'F5', 'F6', 'F7', 'F8', 'F9', 'F10', 'F11', 'F12', 'F13', 'F14']\n",
      "(200, 15) (200,)\n"
     ]
    }
   ],
   "source": [
    "col_names = ['F'+str(val) for val in range(15)]\n",
    "print(col_names)\n",
    "\n",
    "X = pd.DataFrame(X,columns=col_names)\n",
    "\n",
    "print(X.shape, y.shape)"
   ]
  },
  {
   "cell_type": "code",
   "execution_count": 51,
   "metadata": {},
   "outputs": [
    {
     "data": {
      "text/html": [
       "<div>\n",
       "<style scoped>\n",
       "    .dataframe tbody tr th:only-of-type {\n",
       "        vertical-align: middle;\n",
       "    }\n",
       "\n",
       "    .dataframe tbody tr th {\n",
       "        vertical-align: top;\n",
       "    }\n",
       "\n",
       "    .dataframe thead th {\n",
       "        text-align: right;\n",
       "    }\n",
       "</style>\n",
       "<table border=\"1\" class=\"dataframe\">\n",
       "  <thead>\n",
       "    <tr style=\"text-align: right;\">\n",
       "      <th></th>\n",
       "      <th>F0</th>\n",
       "      <th>F1</th>\n",
       "      <th>F2</th>\n",
       "      <th>F3</th>\n",
       "      <th>F4</th>\n",
       "      <th>F5</th>\n",
       "      <th>F6</th>\n",
       "      <th>F7</th>\n",
       "      <th>F8</th>\n",
       "      <th>F9</th>\n",
       "      <th>F10</th>\n",
       "      <th>F11</th>\n",
       "      <th>F12</th>\n",
       "      <th>F13</th>\n",
       "      <th>F14</th>\n",
       "    </tr>\n",
       "  </thead>\n",
       "  <tbody>\n",
       "    <tr>\n",
       "      <th>0</th>\n",
       "      <td>-1.633300</td>\n",
       "      <td>1.016406</td>\n",
       "      <td>-0.189386</td>\n",
       "      <td>1.426115</td>\n",
       "      <td>0.096179</td>\n",
       "      <td>0.802883</td>\n",
       "      <td>-0.159785</td>\n",
       "      <td>1.293646</td>\n",
       "      <td>0.177365</td>\n",
       "      <td>-0.618276</td>\n",
       "      <td>0.400505</td>\n",
       "      <td>-0.735850</td>\n",
       "      <td>-0.835703</td>\n",
       "      <td>0.475676</td>\n",
       "      <td>-0.613562</td>\n",
       "    </tr>\n",
       "    <tr>\n",
       "      <th>1</th>\n",
       "      <td>-0.049484</td>\n",
       "      <td>-0.696886</td>\n",
       "      <td>-0.692619</td>\n",
       "      <td>0.560343</td>\n",
       "      <td>-2.012127</td>\n",
       "      <td>1.428074</td>\n",
       "      <td>-2.981463</td>\n",
       "      <td>-0.802555</td>\n",
       "      <td>-0.296883</td>\n",
       "      <td>-1.837010</td>\n",
       "      <td>1.191489</td>\n",
       "      <td>1.564143</td>\n",
       "      <td>-2.155706</td>\n",
       "      <td>5.199760</td>\n",
       "      <td>-0.437216</td>\n",
       "    </tr>\n",
       "    <tr>\n",
       "      <th>2</th>\n",
       "      <td>-0.553081</td>\n",
       "      <td>-1.367262</td>\n",
       "      <td>-0.477987</td>\n",
       "      <td>-0.248202</td>\n",
       "      <td>1.950332</td>\n",
       "      <td>1.094778</td>\n",
       "      <td>-0.564143</td>\n",
       "      <td>1.100157</td>\n",
       "      <td>0.430692</td>\n",
       "      <td>1.701193</td>\n",
       "      <td>-1.194579</td>\n",
       "      <td>1.542500</td>\n",
       "      <td>-0.791687</td>\n",
       "      <td>-1.645150</td>\n",
       "      <td>1.808461</td>\n",
       "    </tr>\n",
       "    <tr>\n",
       "      <th>3</th>\n",
       "      <td>0.653160</td>\n",
       "      <td>2.562366</td>\n",
       "      <td>-0.323263</td>\n",
       "      <td>0.569652</td>\n",
       "      <td>1.122597</td>\n",
       "      <td>-0.264120</td>\n",
       "      <td>-3.957733</td>\n",
       "      <td>-1.574802</td>\n",
       "      <td>0.005325</td>\n",
       "      <td>-2.021926</td>\n",
       "      <td>1.930397</td>\n",
       "      <td>-1.527048</td>\n",
       "      <td>-0.804831</td>\n",
       "      <td>3.602211</td>\n",
       "      <td>-2.286931</td>\n",
       "    </tr>\n",
       "    <tr>\n",
       "      <th>4</th>\n",
       "      <td>-0.072112</td>\n",
       "      <td>0.474796</td>\n",
       "      <td>1.142193</td>\n",
       "      <td>-0.672265</td>\n",
       "      <td>-2.755381</td>\n",
       "      <td>2.564484</td>\n",
       "      <td>-1.155946</td>\n",
       "      <td>0.972140</td>\n",
       "      <td>-5.561348</td>\n",
       "      <td>0.851046</td>\n",
       "      <td>0.632174</td>\n",
       "      <td>0.944481</td>\n",
       "      <td>0.302508</td>\n",
       "      <td>9.163319</td>\n",
       "      <td>0.954114</td>\n",
       "    </tr>\n",
       "  </tbody>\n",
       "</table>\n",
       "</div>"
      ],
      "text/plain": [
       "         F0        F1        F2        F3        F4        F5        F6  \\\n",
       "0 -1.633300  1.016406 -0.189386  1.426115  0.096179  0.802883 -0.159785   \n",
       "1 -0.049484 -0.696886 -0.692619  0.560343 -2.012127  1.428074 -2.981463   \n",
       "2 -0.553081 -1.367262 -0.477987 -0.248202  1.950332  1.094778 -0.564143   \n",
       "3  0.653160  2.562366 -0.323263  0.569652  1.122597 -0.264120 -3.957733   \n",
       "4 -0.072112  0.474796  1.142193 -0.672265 -2.755381  2.564484 -1.155946   \n",
       "\n",
       "         F7        F8        F9       F10       F11       F12       F13  \\\n",
       "0  1.293646  0.177365 -0.618276  0.400505 -0.735850 -0.835703  0.475676   \n",
       "1 -0.802555 -0.296883 -1.837010  1.191489  1.564143 -2.155706  5.199760   \n",
       "2  1.100157  0.430692  1.701193 -1.194579  1.542500 -0.791687 -1.645150   \n",
       "3 -1.574802  0.005325 -2.021926  1.930397 -1.527048 -0.804831  3.602211   \n",
       "4  0.972140 -5.561348  0.851046  0.632174  0.944481  0.302508  9.163319   \n",
       "\n",
       "        F14  \n",
       "0 -0.613562  \n",
       "1 -0.437216  \n",
       "2  1.808461  \n",
       "3 -2.286931  \n",
       "4  0.954114  "
      ]
     },
     "execution_count": 51,
     "metadata": {},
     "output_type": "execute_result"
    }
   ],
   "source": [
    "X.head()"
   ]
  },
  {
   "cell_type": "code",
   "execution_count": 52,
   "metadata": {},
   "outputs": [
    {
     "data": {
      "text/plain": [
       "(array([0, 1, 2]),\n",
       " array([67, 67, 66], dtype=int64),\n",
       "    0\n",
       " 0  2\n",
       " 1  1\n",
       " 2  1\n",
       " 3  1\n",
       " 4  0)"
      ]
     },
     "execution_count": 52,
     "metadata": {},
     "output_type": "execute_result"
    }
   ],
   "source": [
    "np.unique(y), np.bincount(y), pd.DataFrame(y).head()"
   ]
  },
  {
   "cell_type": "markdown",
   "metadata": {},
   "source": [
    "#### **`Case:1`**\n",
    "##### **Selecting only top 5 features**"
   ]
  },
  {
   "cell_type": "code",
   "execution_count": 53,
   "metadata": {},
   "outputs": [],
   "source": [
    "fs = SelectKBest(score_func=f_classif,k=5)"
   ]
  },
  {
   "cell_type": "markdown",
   "metadata": {},
   "source": [
    "### **F_Classif**\n",
    "\n",
    "Compute the ANOVA F-value for the provided sample."
   ]
  },
  {
   "cell_type": "code",
   "execution_count": 54,
   "metadata": {},
   "outputs": [
    {
     "data": {
      "text/plain": [
       "SelectKBest(k=5)"
      ]
     },
     "execution_count": 54,
     "metadata": {},
     "output_type": "execute_result"
    }
   ],
   "source": [
    "fs.fit(X,y)"
   ]
  },
  {
   "cell_type": "code",
   "execution_count": 55,
   "metadata": {},
   "outputs": [
    {
     "data": {
      "text/html": [
       "<div>\n",
       "<style scoped>\n",
       "    .dataframe tbody tr th:only-of-type {\n",
       "        vertical-align: middle;\n",
       "    }\n",
       "\n",
       "    .dataframe tbody tr th {\n",
       "        vertical-align: top;\n",
       "    }\n",
       "\n",
       "    .dataframe thead th {\n",
       "        text-align: right;\n",
       "    }\n",
       "</style>\n",
       "<table border=\"1\" class=\"dataframe\">\n",
       "  <thead>\n",
       "    <tr style=\"text-align: right;\">\n",
       "      <th></th>\n",
       "      <th>0</th>\n",
       "      <th>1</th>\n",
       "      <th>2</th>\n",
       "      <th>3</th>\n",
       "      <th>4</th>\n",
       "    </tr>\n",
       "  </thead>\n",
       "  <tbody>\n",
       "    <tr>\n",
       "      <th>0</th>\n",
       "      <td>1.016406</td>\n",
       "      <td>0.096179</td>\n",
       "      <td>0.177365</td>\n",
       "      <td>-0.618276</td>\n",
       "      <td>0.475676</td>\n",
       "    </tr>\n",
       "    <tr>\n",
       "      <th>1</th>\n",
       "      <td>-0.696886</td>\n",
       "      <td>-2.012127</td>\n",
       "      <td>-0.296883</td>\n",
       "      <td>-1.837010</td>\n",
       "      <td>5.199760</td>\n",
       "    </tr>\n",
       "    <tr>\n",
       "      <th>2</th>\n",
       "      <td>-1.367262</td>\n",
       "      <td>1.950332</td>\n",
       "      <td>0.430692</td>\n",
       "      <td>1.701193</td>\n",
       "      <td>-1.645150</td>\n",
       "    </tr>\n",
       "    <tr>\n",
       "      <th>3</th>\n",
       "      <td>2.562366</td>\n",
       "      <td>1.122597</td>\n",
       "      <td>0.005325</td>\n",
       "      <td>-2.021926</td>\n",
       "      <td>3.602211</td>\n",
       "    </tr>\n",
       "    <tr>\n",
       "      <th>4</th>\n",
       "      <td>0.474796</td>\n",
       "      <td>-2.755381</td>\n",
       "      <td>-5.561348</td>\n",
       "      <td>0.851046</td>\n",
       "      <td>9.163319</td>\n",
       "    </tr>\n",
       "  </tbody>\n",
       "</table>\n",
       "</div>"
      ],
      "text/plain": [
       "          0         1         2         3         4\n",
       "0  1.016406  0.096179  0.177365 -0.618276  0.475676\n",
       "1 -0.696886 -2.012127 -0.296883 -1.837010  5.199760\n",
       "2 -1.367262  1.950332  0.430692  1.701193 -1.645150\n",
       "3  2.562366  1.122597  0.005325 -2.021926  3.602211\n",
       "4  0.474796 -2.755381 -5.561348  0.851046  9.163319"
      ]
     },
     "execution_count": 55,
     "metadata": {},
     "output_type": "execute_result"
    }
   ],
   "source": [
    "fs_selected_features = pd.DataFrame(fs.transform(X))\n",
    "fs_selected_features.head()"
   ]
  },
  {
   "cell_type": "code",
   "execution_count": 56,
   "metadata": {},
   "outputs": [
    {
     "data": {
      "text/html": [
       "<div>\n",
       "<style scoped>\n",
       "    .dataframe tbody tr th:only-of-type {\n",
       "        vertical-align: middle;\n",
       "    }\n",
       "\n",
       "    .dataframe tbody tr th {\n",
       "        vertical-align: top;\n",
       "    }\n",
       "\n",
       "    .dataframe thead th {\n",
       "        text-align: right;\n",
       "    }\n",
       "</style>\n",
       "<table border=\"1\" class=\"dataframe\">\n",
       "  <thead>\n",
       "    <tr style=\"text-align: right;\">\n",
       "      <th></th>\n",
       "      <th>F0</th>\n",
       "      <th>F1</th>\n",
       "      <th>F2</th>\n",
       "      <th>F3</th>\n",
       "      <th>F4</th>\n",
       "      <th>F5</th>\n",
       "      <th>F6</th>\n",
       "      <th>F7</th>\n",
       "      <th>F8</th>\n",
       "      <th>F9</th>\n",
       "      <th>F10</th>\n",
       "      <th>F11</th>\n",
       "      <th>F12</th>\n",
       "      <th>F13</th>\n",
       "      <th>F14</th>\n",
       "    </tr>\n",
       "  </thead>\n",
       "  <tbody>\n",
       "    <tr>\n",
       "      <th>0</th>\n",
       "      <td>0.18937</td>\n",
       "      <td>0.0</td>\n",
       "      <td>0.9958</td>\n",
       "      <td>0.98223</td>\n",
       "      <td>0.0</td>\n",
       "      <td>0.81365</td>\n",
       "      <td>0.00004</td>\n",
       "      <td>0.358</td>\n",
       "      <td>0.0</td>\n",
       "      <td>0.0</td>\n",
       "      <td>0.25867</td>\n",
       "      <td>0.29571</td>\n",
       "      <td>0.02015</td>\n",
       "      <td>0.0</td>\n",
       "      <td>0.81619</td>\n",
       "    </tr>\n",
       "  </tbody>\n",
       "</table>\n",
       "</div>"
      ],
      "text/plain": [
       "        F0   F1      F2       F3   F4       F5       F6     F7   F8   F9  \\\n",
       "0  0.18937  0.0  0.9958  0.98223  0.0  0.81365  0.00004  0.358  0.0  0.0   \n",
       "\n",
       "       F10      F11      F12  F13      F14  \n",
       "0  0.25867  0.29571  0.02015  0.0  0.81619  "
      ]
     },
     "execution_count": 56,
     "metadata": {},
     "output_type": "execute_result"
    }
   ],
   "source": [
    "p_vals = np.round(pd.DataFrame(fs.pvalues_).T,5)\n",
    "p_vals.columns = col_names\n",
    "\n",
    "p_vals"
   ]
  },
  {
   "cell_type": "code",
   "execution_count": 57,
   "metadata": {},
   "outputs": [
    {
     "data": {
      "text/plain": [
       "['F1', 'F4', 'F6', 'F8', 'F9', 'F13']"
      ]
     },
     "execution_count": 57,
     "metadata": {},
     "output_type": "execute_result"
    }
   ],
   "source": [
    "loc = 0.99\n",
    "alpha = 1 - loc\n",
    "\n",
    "manual_selected_cols = []\n",
    "for feature in col_names:\n",
    "    if p_vals[feature].values < alpha:\n",
    "        manual_selected_cols.append(feature)\n",
    "\n",
    "manual_selected_cols"
   ]
  },
  {
   "cell_type": "markdown",
   "metadata": {},
   "source": [
    "#### **In the above cell, I have selected the `Level of Confidence` as 99% and based on it top-5 features are printed.**"
   ]
  },
  {
   "cell_type": "code",
   "execution_count": 58,
   "metadata": {},
   "outputs": [
    {
     "data": {
      "text/plain": [
       "array([1.67820234e+00, 2.58471518e+01, 4.21392814e-03, 1.79297328e-02,\n",
       "       3.28233847e+01, 2.06439470e-01, 1.06328306e+01, 1.03260193e+00,\n",
       "       3.51461069e+01, 1.34247743e+01, 1.36151650e+00, 1.22595011e+00,\n",
       "       3.98311382e+00, 2.09636010e+01, 2.03313621e-01])"
      ]
     },
     "execution_count": 58,
     "metadata": {},
     "output_type": "execute_result"
    }
   ],
   "source": [
    "## F-value or F-statstic calculated based on the linear regression test\n",
    "fs.scores_   "
   ]
  },
  {
   "cell_type": "code",
   "execution_count": 59,
   "metadata": {},
   "outputs": [],
   "source": [
    "f_stats, p_vals = fs.score_func(X,y)"
   ]
  },
  {
   "cell_type": "code",
   "execution_count": 60,
   "metadata": {},
   "outputs": [
    {
     "data": {
      "text/html": [
       "<div>\n",
       "<style scoped>\n",
       "    .dataframe tbody tr th:only-of-type {\n",
       "        vertical-align: middle;\n",
       "    }\n",
       "\n",
       "    .dataframe tbody tr th {\n",
       "        vertical-align: top;\n",
       "    }\n",
       "\n",
       "    .dataframe thead th {\n",
       "        text-align: right;\n",
       "    }\n",
       "</style>\n",
       "<table border=\"1\" class=\"dataframe\">\n",
       "  <thead>\n",
       "    <tr style=\"text-align: right;\">\n",
       "      <th></th>\n",
       "      <th>0</th>\n",
       "      <th>1</th>\n",
       "      <th>2</th>\n",
       "      <th>3</th>\n",
       "      <th>4</th>\n",
       "      <th>5</th>\n",
       "      <th>6</th>\n",
       "      <th>7</th>\n",
       "      <th>8</th>\n",
       "      <th>9</th>\n",
       "      <th>10</th>\n",
       "      <th>11</th>\n",
       "      <th>12</th>\n",
       "      <th>13</th>\n",
       "      <th>14</th>\n",
       "    </tr>\n",
       "  </thead>\n",
       "  <tbody>\n",
       "    <tr>\n",
       "      <th>0</th>\n",
       "      <td>1.678</td>\n",
       "      <td>25.847</td>\n",
       "      <td>0.004</td>\n",
       "      <td>0.018</td>\n",
       "      <td>32.823</td>\n",
       "      <td>0.206</td>\n",
       "      <td>10.633</td>\n",
       "      <td>1.033</td>\n",
       "      <td>35.146</td>\n",
       "      <td>13.425</td>\n",
       "      <td>1.362</td>\n",
       "      <td>1.226</td>\n",
       "      <td>3.983</td>\n",
       "      <td>20.964</td>\n",
       "      <td>0.203</td>\n",
       "    </tr>\n",
       "  </tbody>\n",
       "</table>\n",
       "</div>"
      ],
      "text/plain": [
       "      0       1      2      3       4      5       6      7       8       9   \\\n",
       "0  1.678  25.847  0.004  0.018  32.823  0.206  10.633  1.033  35.146  13.425   \n",
       "\n",
       "      10     11     12      13     14  \n",
       "0  1.362  1.226  3.983  20.964  0.203  "
      ]
     },
     "execution_count": 60,
     "metadata": {},
     "output_type": "execute_result"
    }
   ],
   "source": [
    "pd.DataFrame(np.round(f_stats,3)).T"
   ]
  },
  {
   "cell_type": "markdown",
   "metadata": {},
   "source": [
    "#### **Here, if we see the test statistic values of features (F8, F14, F9, F10, and F12) are high as compared to others. Thus, we can say that these are the top 5 features who are rejecting the null hypothesis i.e. no linear relation exists.**"
   ]
  },
  {
   "cell_type": "code",
   "execution_count": 61,
   "metadata": {},
   "outputs": [
    {
     "data": {
      "text/html": [
       "<div>\n",
       "<style scoped>\n",
       "    .dataframe tbody tr th:only-of-type {\n",
       "        vertical-align: middle;\n",
       "    }\n",
       "\n",
       "    .dataframe tbody tr th {\n",
       "        vertical-align: top;\n",
       "    }\n",
       "\n",
       "    .dataframe thead th {\n",
       "        text-align: right;\n",
       "    }\n",
       "</style>\n",
       "<table border=\"1\" class=\"dataframe\">\n",
       "  <thead>\n",
       "    <tr style=\"text-align: right;\">\n",
       "      <th></th>\n",
       "      <th>0</th>\n",
       "      <th>1</th>\n",
       "      <th>2</th>\n",
       "      <th>3</th>\n",
       "      <th>4</th>\n",
       "      <th>5</th>\n",
       "      <th>6</th>\n",
       "      <th>7</th>\n",
       "      <th>8</th>\n",
       "      <th>9</th>\n",
       "      <th>10</th>\n",
       "      <th>11</th>\n",
       "      <th>12</th>\n",
       "      <th>13</th>\n",
       "      <th>14</th>\n",
       "    </tr>\n",
       "  </thead>\n",
       "  <tbody>\n",
       "    <tr>\n",
       "      <th>0</th>\n",
       "      <td>0.18937</td>\n",
       "      <td>0.0</td>\n",
       "      <td>0.9958</td>\n",
       "      <td>0.98223</td>\n",
       "      <td>0.0</td>\n",
       "      <td>0.81365</td>\n",
       "      <td>0.00004</td>\n",
       "      <td>0.358</td>\n",
       "      <td>0.0</td>\n",
       "      <td>0.0</td>\n",
       "      <td>0.25867</td>\n",
       "      <td>0.29571</td>\n",
       "      <td>0.02015</td>\n",
       "      <td>0.0</td>\n",
       "      <td>0.81619</td>\n",
       "    </tr>\n",
       "  </tbody>\n",
       "</table>\n",
       "</div>"
      ],
      "text/plain": [
       "        0    1       2        3    4        5        6      7    8    9   \\\n",
       "0  0.18937  0.0  0.9958  0.98223  0.0  0.81365  0.00004  0.358  0.0  0.0   \n",
       "\n",
       "        10       11       12   13       14  \n",
       "0  0.25867  0.29571  0.02015  0.0  0.81619  "
      ]
     },
     "execution_count": 61,
     "metadata": {},
     "output_type": "execute_result"
    }
   ],
   "source": [
    "pd.DataFrame(np.round(p_vals,5)).T"
   ]
  },
  {
   "cell_type": "markdown",
   "metadata": {},
   "source": [
    "#### **P-values of features(F8, F14, F9, F10, and F12) are also highly significant.**"
   ]
  },
  {
   "cell_type": "code",
   "execution_count": 62,
   "metadata": {},
   "outputs": [
    {
     "data": {
      "text/html": [
       "<div>\n",
       "<style scoped>\n",
       "    .dataframe tbody tr th:only-of-type {\n",
       "        vertical-align: middle;\n",
       "    }\n",
       "\n",
       "    .dataframe tbody tr th {\n",
       "        vertical-align: top;\n",
       "    }\n",
       "\n",
       "    .dataframe thead th {\n",
       "        text-align: right;\n",
       "    }\n",
       "</style>\n",
       "<table border=\"1\" class=\"dataframe\">\n",
       "  <thead>\n",
       "    <tr style=\"text-align: right;\">\n",
       "      <th></th>\n",
       "      <th>F1</th>\n",
       "      <th>F4</th>\n",
       "      <th>F6</th>\n",
       "      <th>F8</th>\n",
       "      <th>F9</th>\n",
       "      <th>F13</th>\n",
       "    </tr>\n",
       "  </thead>\n",
       "  <tbody>\n",
       "    <tr>\n",
       "      <th>0</th>\n",
       "      <td>1.016406</td>\n",
       "      <td>0.096179</td>\n",
       "      <td>-0.159785</td>\n",
       "      <td>0.177365</td>\n",
       "      <td>-0.618276</td>\n",
       "      <td>0.475676</td>\n",
       "    </tr>\n",
       "    <tr>\n",
       "      <th>1</th>\n",
       "      <td>-0.696886</td>\n",
       "      <td>-2.012127</td>\n",
       "      <td>-2.981463</td>\n",
       "      <td>-0.296883</td>\n",
       "      <td>-1.837010</td>\n",
       "      <td>5.199760</td>\n",
       "    </tr>\n",
       "    <tr>\n",
       "      <th>2</th>\n",
       "      <td>-1.367262</td>\n",
       "      <td>1.950332</td>\n",
       "      <td>-0.564143</td>\n",
       "      <td>0.430692</td>\n",
       "      <td>1.701193</td>\n",
       "      <td>-1.645150</td>\n",
       "    </tr>\n",
       "    <tr>\n",
       "      <th>3</th>\n",
       "      <td>2.562366</td>\n",
       "      <td>1.122597</td>\n",
       "      <td>-3.957733</td>\n",
       "      <td>0.005325</td>\n",
       "      <td>-2.021926</td>\n",
       "      <td>3.602211</td>\n",
       "    </tr>\n",
       "    <tr>\n",
       "      <th>4</th>\n",
       "      <td>0.474796</td>\n",
       "      <td>-2.755381</td>\n",
       "      <td>-1.155946</td>\n",
       "      <td>-5.561348</td>\n",
       "      <td>0.851046</td>\n",
       "      <td>9.163319</td>\n",
       "    </tr>\n",
       "  </tbody>\n",
       "</table>\n",
       "</div>"
      ],
      "text/plain": [
       "         F1        F4        F6        F8        F9       F13\n",
       "0  1.016406  0.096179 -0.159785  0.177365 -0.618276  0.475676\n",
       "1 -0.696886 -2.012127 -2.981463 -0.296883 -1.837010  5.199760\n",
       "2 -1.367262  1.950332 -0.564143  0.430692  1.701193 -1.645150\n",
       "3  2.562366  1.122597 -3.957733  0.005325 -2.021926  3.602211\n",
       "4  0.474796 -2.755381 -1.155946 -5.561348  0.851046  9.163319"
      ]
     },
     "execution_count": 62,
     "metadata": {},
     "output_type": "execute_result"
    }
   ],
   "source": [
    "## Manually selected top-4 features based on self provided alpha value\n",
    "X[manual_selected_cols].head()"
   ]
  },
  {
   "cell_type": "code",
   "execution_count": 63,
   "metadata": {},
   "outputs": [
    {
     "data": {
      "text/html": [
       "<div>\n",
       "<style scoped>\n",
       "    .dataframe tbody tr th:only-of-type {\n",
       "        vertical-align: middle;\n",
       "    }\n",
       "\n",
       "    .dataframe tbody tr th {\n",
       "        vertical-align: top;\n",
       "    }\n",
       "\n",
       "    .dataframe thead th {\n",
       "        text-align: right;\n",
       "    }\n",
       "</style>\n",
       "<table border=\"1\" class=\"dataframe\">\n",
       "  <thead>\n",
       "    <tr style=\"text-align: right;\">\n",
       "      <th></th>\n",
       "      <th>0</th>\n",
       "      <th>1</th>\n",
       "      <th>2</th>\n",
       "      <th>3</th>\n",
       "      <th>4</th>\n",
       "    </tr>\n",
       "  </thead>\n",
       "  <tbody>\n",
       "    <tr>\n",
       "      <th>0</th>\n",
       "      <td>1.016406</td>\n",
       "      <td>0.096179</td>\n",
       "      <td>0.177365</td>\n",
       "      <td>-0.618276</td>\n",
       "      <td>0.475676</td>\n",
       "    </tr>\n",
       "    <tr>\n",
       "      <th>1</th>\n",
       "      <td>-0.696886</td>\n",
       "      <td>-2.012127</td>\n",
       "      <td>-0.296883</td>\n",
       "      <td>-1.837010</td>\n",
       "      <td>5.199760</td>\n",
       "    </tr>\n",
       "    <tr>\n",
       "      <th>2</th>\n",
       "      <td>-1.367262</td>\n",
       "      <td>1.950332</td>\n",
       "      <td>0.430692</td>\n",
       "      <td>1.701193</td>\n",
       "      <td>-1.645150</td>\n",
       "    </tr>\n",
       "    <tr>\n",
       "      <th>3</th>\n",
       "      <td>2.562366</td>\n",
       "      <td>1.122597</td>\n",
       "      <td>0.005325</td>\n",
       "      <td>-2.021926</td>\n",
       "      <td>3.602211</td>\n",
       "    </tr>\n",
       "    <tr>\n",
       "      <th>4</th>\n",
       "      <td>0.474796</td>\n",
       "      <td>-2.755381</td>\n",
       "      <td>-5.561348</td>\n",
       "      <td>0.851046</td>\n",
       "      <td>9.163319</td>\n",
       "    </tr>\n",
       "  </tbody>\n",
       "</table>\n",
       "</div>"
      ],
      "text/plain": [
       "          0         1         2         3         4\n",
       "0  1.016406  0.096179  0.177365 -0.618276  0.475676\n",
       "1 -0.696886 -2.012127 -0.296883 -1.837010  5.199760\n",
       "2 -1.367262  1.950332  0.430692  1.701193 -1.645150\n",
       "3  2.562366  1.122597  0.005325 -2.021926  3.602211\n",
       "4  0.474796 -2.755381 -5.561348  0.851046  9.163319"
      ]
     },
     "execution_count": 63,
     "metadata": {},
     "output_type": "execute_result"
    }
   ],
   "source": [
    "## Features returned by SelectKBest\n",
    "fs_selected_features.head()"
   ]
  },
  {
   "cell_type": "code",
   "execution_count": 64,
   "metadata": {},
   "outputs": [
    {
     "name": "stdout",
     "output_type": "stream",
     "text": [
      "Feature 0: 1.678202\n",
      "Feature 1: 25.847152\n",
      "Feature 2: 0.004214\n",
      "Feature 3: 0.017930\n",
      "Feature 4: 32.823385\n",
      "Feature 5: 0.206439\n",
      "Feature 6: 10.632831\n",
      "Feature 7: 1.032602\n",
      "Feature 8: 35.146107\n",
      "Feature 9: 13.424774\n",
      "Feature 10: 1.361516\n",
      "Feature 11: 1.225950\n",
      "Feature 12: 3.983114\n",
      "Feature 13: 20.963601\n",
      "Feature 14: 0.203314\n"
     ]
    }
   ],
   "source": [
    "for i in range(len(fs.scores_)):\n",
    "    print('Feature %d: %f' % (i, fs.scores_[i]))"
   ]
  },
  {
   "cell_type": "code",
   "execution_count": 65,
   "metadata": {},
   "outputs": [
    {
     "data": {
      "image/png": "[encoded data removed]",
      "text/plain": [
       "<Figure size 432x288 with 1 Axes>"
      ]
     },
     "metadata": {
      "needs_background": "light"
     },
     "output_type": "display_data"
    }
   ],
   "source": [
    "plt.bar([i for i in range(len(fs.scores_))], fs.scores_)\n",
    "plt.show()"
   ]
  },
  {
   "cell_type": "markdown",
   "metadata": {},
   "source": [
    "#### **So, good here as every thing matched and doubts are solved!!**"
   ]
  },
  {
   "cell_type": "markdown",
   "metadata": {},
   "source": [
    "#### **`Case:2`**\n",
    "##### **Only `Categorical` Explanatory Variables :: Selecting only top 5 features**"
   ]
  },
  {
   "cell_type": "code",
   "execution_count": 66,
   "metadata": {},
   "outputs": [],
   "source": [
    "import scipy.io.arff as arff\n",
    "import os"
   ]
  },
  {
   "cell_type": "code",
   "execution_count": 67,
   "metadata": {},
   "outputs": [
    {
     "name": "stdout",
     "output_type": "stream",
     "text": [
      "E:\\STUDY\\PROJECTS\\AAIC_Practice\\MODULES\\Module_3\\Mod_3_Feature_Encoding\\Autism-Child-Data.arff\n"
     ]
    }
   ],
   "source": [
    "path = os.getcwd()\n",
    "file = path + '\\\\Autism-Child-Data.arff'\n",
    "print(file)"
   ]
  },
  {
   "cell_type": "code",
   "execution_count": 68,
   "metadata": {},
   "outputs": [
    {
     "data": {
      "text/plain": [
       "Dataset: child\n",
       "\tA1_Score's type is nominal, range is ('0', '1')\n",
       "\tA2_Score's type is nominal, range is ('0', '1')\n",
       "\tA3_Score's type is nominal, range is ('0', '1')\n",
       "\tA4_Score's type is nominal, range is ('0', '1')\n",
       "\tA5_Score's type is nominal, range is ('0', '1')\n",
       "\tA6_Score's type is nominal, range is ('0', '1')\n",
       "\tA7_Score's type is nominal, range is ('0', '1')\n",
       "\tA8_Score's type is nominal, range is ('0', '1')\n",
       "\tA9_Score's type is nominal, range is ('0', '1')\n",
       "\tA10_Score's type is nominal, range is ('0', '1')\n",
       "\tage's type is numeric\n",
       "\tgender's type is nominal, range is ('m', 'f')\n",
       "\tethnicity's type is nominal, range is ('Others', 'Middle Eastern ', 'White-European', 'Black', 'South Asian', 'Asian', 'Pasifika', 'Hispanic', 'Turkish', 'Latino')\n",
       "\tjundice's type is nominal, range is ('no', 'yes')\n",
       "\taustim's type is nominal, range is ('no', 'yes')\n",
       "\tcontry_of_res's type is nominal, range is ('Jordan', 'United States', 'Egypt', 'United Kingdom', 'Bahrain', 'Austria', 'Kuwait', 'United Arab Emirates', 'Europe', 'Malta', 'Bulgaria', 'South Africa', 'India', 'Afghanistan', 'Georgia', 'New Zealand', 'Syria', 'Iraq', 'Australia', 'Saudi Arabia', 'Armenia', 'Turkey', 'Pakistan', 'Canada', 'Oman', 'Brazil', 'South Korea', 'Costa Rica', 'Sweden', 'Philippines', 'Malaysia', 'Argentina', 'Japan', 'Bangladesh', 'Qatar', 'Ireland', 'Romania', 'Netherlands', 'Lebanon', 'Germany', 'Latvia', 'Russia', 'Italy', 'China', 'Nigeria', 'U.S. Outlying Islands', 'Nepal', 'Mexico', 'Isle of Man', 'Libya', 'Ghana', 'Bhutan')\n",
       "\tused_app_before's type is nominal, range is ('no', 'yes')\n",
       "\tresult's type is numeric\n",
       "\tage_desc's type is nominal, range is ('4-11 years',)\n",
       "\trelation's type is nominal, range is ('Parent', 'Self', 'Relative', 'Health care professional', 'self')\n",
       "\tClass/ASD's type is nominal, range is ('NO', 'YES')"
      ]
     },
     "execution_count": 68,
     "metadata": {},
     "output_type": "execute_result"
    }
   ],
   "source": [
    "arff.loadarff(file)[1]"
   ]
  },
  {
   "cell_type": "code",
   "execution_count": 69,
   "metadata": {},
   "outputs": [],
   "source": [
    "def apply_decode(df_name):\n",
    "    \"\"\"\n",
    "    Description: Function created for changing the character encoding\n",
    "    \n",
    "    Input: It accepts one parameter:\n",
    "        df_name : `Pandas DataFrame`\n",
    "    \n",
    "    Return: `utf-8` encoded DataFrame\n",
    "    \"\"\"\n",
    "    for col in df_name.columns:\n",
    "        if df_name[col].dtype != 'float64':\n",
    "            df_name[col] = df_name[col].apply(lambda val : val.decode('utf-8'))\n",
    "    pd.set_option('display.max_columns',50)\n",
    "    return df_name"
   ]
  },
  {
   "cell_type": "code",
   "execution_count": 70,
   "metadata": {},
   "outputs": [
    {
     "data": {
      "text/html": [
       "<div>\n",
       "<style scoped>\n",
       "    .dataframe tbody tr th:only-of-type {\n",
       "        vertical-align: middle;\n",
       "    }\n",
       "\n",
       "    .dataframe tbody tr th {\n",
       "        vertical-align: top;\n",
       "    }\n",
       "\n",
       "    .dataframe thead th {\n",
       "        text-align: right;\n",
       "    }\n",
       "</style>\n",
       "<table border=\"1\" class=\"dataframe\">\n",
       "  <thead>\n",
       "    <tr style=\"text-align: right;\">\n",
       "      <th></th>\n",
       "      <th>A1_Score</th>\n",
       "      <th>A2_Score</th>\n",
       "      <th>A3_Score</th>\n",
       "      <th>A4_Score</th>\n",
       "      <th>A5_Score</th>\n",
       "      <th>A6_Score</th>\n",
       "      <th>A7_Score</th>\n",
       "      <th>A8_Score</th>\n",
       "      <th>A9_Score</th>\n",
       "      <th>A10_Score</th>\n",
       "      <th>...</th>\n",
       "      <th>gender</th>\n",
       "      <th>ethnicity</th>\n",
       "      <th>jundice</th>\n",
       "      <th>austim</th>\n",
       "      <th>contry_of_res</th>\n",
       "      <th>used_app_before</th>\n",
       "      <th>result</th>\n",
       "      <th>age_desc</th>\n",
       "      <th>relation</th>\n",
       "      <th>Class/ASD</th>\n",
       "    </tr>\n",
       "  </thead>\n",
       "  <tbody>\n",
       "    <tr>\n",
       "      <th>0</th>\n",
       "      <td>b'1'</td>\n",
       "      <td>b'1'</td>\n",
       "      <td>b'0'</td>\n",
       "      <td>b'0'</td>\n",
       "      <td>b'1'</td>\n",
       "      <td>b'1'</td>\n",
       "      <td>b'0'</td>\n",
       "      <td>b'1'</td>\n",
       "      <td>b'0'</td>\n",
       "      <td>b'0'</td>\n",
       "      <td>...</td>\n",
       "      <td>b'm'</td>\n",
       "      <td>b'Others'</td>\n",
       "      <td>b'no'</td>\n",
       "      <td>b'no'</td>\n",
       "      <td>b'Jordan'</td>\n",
       "      <td>b'no'</td>\n",
       "      <td>5.0</td>\n",
       "      <td>b'4-11 years'</td>\n",
       "      <td>b'Parent'</td>\n",
       "      <td>b'NO'</td>\n",
       "    </tr>\n",
       "    <tr>\n",
       "      <th>1</th>\n",
       "      <td>b'1'</td>\n",
       "      <td>b'1'</td>\n",
       "      <td>b'0'</td>\n",
       "      <td>b'0'</td>\n",
       "      <td>b'1'</td>\n",
       "      <td>b'1'</td>\n",
       "      <td>b'0'</td>\n",
       "      <td>b'1'</td>\n",
       "      <td>b'0'</td>\n",
       "      <td>b'0'</td>\n",
       "      <td>...</td>\n",
       "      <td>b'm'</td>\n",
       "      <td>b'Middle Eastern '</td>\n",
       "      <td>b'no'</td>\n",
       "      <td>b'no'</td>\n",
       "      <td>b'Jordan'</td>\n",
       "      <td>b'no'</td>\n",
       "      <td>5.0</td>\n",
       "      <td>b'4-11 years'</td>\n",
       "      <td>b'Parent'</td>\n",
       "      <td>b'NO'</td>\n",
       "    </tr>\n",
       "    <tr>\n",
       "      <th>2</th>\n",
       "      <td>b'1'</td>\n",
       "      <td>b'1'</td>\n",
       "      <td>b'0'</td>\n",
       "      <td>b'0'</td>\n",
       "      <td>b'0'</td>\n",
       "      <td>b'1'</td>\n",
       "      <td>b'1'</td>\n",
       "      <td>b'1'</td>\n",
       "      <td>b'0'</td>\n",
       "      <td>b'0'</td>\n",
       "      <td>...</td>\n",
       "      <td>b'm'</td>\n",
       "      <td>b'?'</td>\n",
       "      <td>b'no'</td>\n",
       "      <td>b'no'</td>\n",
       "      <td>b'Jordan'</td>\n",
       "      <td>b'yes'</td>\n",
       "      <td>5.0</td>\n",
       "      <td>b'4-11 years'</td>\n",
       "      <td>b'?'</td>\n",
       "      <td>b'NO'</td>\n",
       "    </tr>\n",
       "    <tr>\n",
       "      <th>3</th>\n",
       "      <td>b'0'</td>\n",
       "      <td>b'1'</td>\n",
       "      <td>b'0'</td>\n",
       "      <td>b'0'</td>\n",
       "      <td>b'1'</td>\n",
       "      <td>b'1'</td>\n",
       "      <td>b'0'</td>\n",
       "      <td>b'0'</td>\n",
       "      <td>b'0'</td>\n",
       "      <td>b'1'</td>\n",
       "      <td>...</td>\n",
       "      <td>b'f'</td>\n",
       "      <td>b'?'</td>\n",
       "      <td>b'yes'</td>\n",
       "      <td>b'no'</td>\n",
       "      <td>b'Jordan'</td>\n",
       "      <td>b'no'</td>\n",
       "      <td>4.0</td>\n",
       "      <td>b'4-11 years'</td>\n",
       "      <td>b'?'</td>\n",
       "      <td>b'NO'</td>\n",
       "    </tr>\n",
       "    <tr>\n",
       "      <th>4</th>\n",
       "      <td>b'1'</td>\n",
       "      <td>b'1'</td>\n",
       "      <td>b'1'</td>\n",
       "      <td>b'1'</td>\n",
       "      <td>b'1'</td>\n",
       "      <td>b'1'</td>\n",
       "      <td>b'1'</td>\n",
       "      <td>b'1'</td>\n",
       "      <td>b'1'</td>\n",
       "      <td>b'1'</td>\n",
       "      <td>...</td>\n",
       "      <td>b'm'</td>\n",
       "      <td>b'Others'</td>\n",
       "      <td>b'yes'</td>\n",
       "      <td>b'no'</td>\n",
       "      <td>b'United States'</td>\n",
       "      <td>b'no'</td>\n",
       "      <td>10.0</td>\n",
       "      <td>b'4-11 years'</td>\n",
       "      <td>b'Parent'</td>\n",
       "      <td>b'YES'</td>\n",
       "    </tr>\n",
       "  </tbody>\n",
       "</table>\n",
       "<p>5 rows × 21 columns</p>\n",
       "</div>"
      ],
      "text/plain": [
       "  A1_Score A2_Score A3_Score A4_Score A5_Score A6_Score A7_Score A8_Score  \\\n",
       "0     b'1'     b'1'     b'0'     b'0'     b'1'     b'1'     b'0'     b'1'   \n",
       "1     b'1'     b'1'     b'0'     b'0'     b'1'     b'1'     b'0'     b'1'   \n",
       "2     b'1'     b'1'     b'0'     b'0'     b'0'     b'1'     b'1'     b'1'   \n",
       "3     b'0'     b'1'     b'0'     b'0'     b'1'     b'1'     b'0'     b'0'   \n",
       "4     b'1'     b'1'     b'1'     b'1'     b'1'     b'1'     b'1'     b'1'   \n",
       "\n",
       "  A9_Score A10_Score  ...  gender           ethnicity jundice austim  \\\n",
       "0     b'0'      b'0'  ...    b'm'           b'Others'   b'no'  b'no'   \n",
       "1     b'0'      b'0'  ...    b'm'  b'Middle Eastern '   b'no'  b'no'   \n",
       "2     b'0'      b'0'  ...    b'm'                b'?'   b'no'  b'no'   \n",
       "3     b'0'      b'1'  ...    b'f'                b'?'  b'yes'  b'no'   \n",
       "4     b'1'      b'1'  ...    b'm'           b'Others'  b'yes'  b'no'   \n",
       "\n",
       "      contry_of_res used_app_before result       age_desc   relation Class/ASD  \n",
       "0         b'Jordan'           b'no'    5.0  b'4-11 years'  b'Parent'     b'NO'  \n",
       "1         b'Jordan'           b'no'    5.0  b'4-11 years'  b'Parent'     b'NO'  \n",
       "2         b'Jordan'          b'yes'    5.0  b'4-11 years'       b'?'     b'NO'  \n",
       "3         b'Jordan'           b'no'    4.0  b'4-11 years'       b'?'     b'NO'  \n",
       "4  b'United States'           b'no'   10.0  b'4-11 years'  b'Parent'    b'YES'  \n",
       "\n",
       "[5 rows x 21 columns]"
      ]
     },
     "execution_count": 70,
     "metadata": {},
     "output_type": "execute_result"
    }
   ],
   "source": [
    "autism_dataset = pd.DataFrame(arff.loadarff(file)[0])\n",
    "autism_dataset.head()"
   ]
  },
  {
   "cell_type": "code",
   "execution_count": 71,
   "metadata": {},
   "outputs": [],
   "source": [
    "autism_df = apply_decode(autism_dataset)"
   ]
  },
  {
   "cell_type": "code",
   "execution_count": 72,
   "metadata": {},
   "outputs": [
    {
     "data": {
      "text/html": [
       "<div>\n",
       "<style scoped>\n",
       "    .dataframe tbody tr th:only-of-type {\n",
       "        vertical-align: middle;\n",
       "    }\n",
       "\n",
       "    .dataframe tbody tr th {\n",
       "        vertical-align: top;\n",
       "    }\n",
       "\n",
       "    .dataframe thead th {\n",
       "        text-align: right;\n",
       "    }\n",
       "</style>\n",
       "<table border=\"1\" class=\"dataframe\">\n",
       "  <thead>\n",
       "    <tr style=\"text-align: right;\">\n",
       "      <th></th>\n",
       "      <th>A1_Score</th>\n",
       "      <th>A2_Score</th>\n",
       "      <th>A3_Score</th>\n",
       "      <th>A4_Score</th>\n",
       "      <th>A5_Score</th>\n",
       "      <th>A6_Score</th>\n",
       "      <th>A7_Score</th>\n",
       "      <th>A8_Score</th>\n",
       "      <th>A9_Score</th>\n",
       "      <th>A10_Score</th>\n",
       "      <th>age</th>\n",
       "      <th>gender</th>\n",
       "      <th>ethnicity</th>\n",
       "      <th>jundice</th>\n",
       "      <th>austim</th>\n",
       "      <th>contry_of_res</th>\n",
       "      <th>used_app_before</th>\n",
       "      <th>result</th>\n",
       "      <th>age_desc</th>\n",
       "      <th>relation</th>\n",
       "      <th>Class/ASD</th>\n",
       "    </tr>\n",
       "  </thead>\n",
       "  <tbody>\n",
       "    <tr>\n",
       "      <th>0</th>\n",
       "      <td>1</td>\n",
       "      <td>1</td>\n",
       "      <td>0</td>\n",
       "      <td>0</td>\n",
       "      <td>1</td>\n",
       "      <td>1</td>\n",
       "      <td>0</td>\n",
       "      <td>1</td>\n",
       "      <td>0</td>\n",
       "      <td>0</td>\n",
       "      <td>6.0</td>\n",
       "      <td>m</td>\n",
       "      <td>Others</td>\n",
       "      <td>no</td>\n",
       "      <td>no</td>\n",
       "      <td>Jordan</td>\n",
       "      <td>no</td>\n",
       "      <td>5.0</td>\n",
       "      <td>4-11 years</td>\n",
       "      <td>Parent</td>\n",
       "      <td>NO</td>\n",
       "    </tr>\n",
       "    <tr>\n",
       "      <th>1</th>\n",
       "      <td>1</td>\n",
       "      <td>1</td>\n",
       "      <td>0</td>\n",
       "      <td>0</td>\n",
       "      <td>1</td>\n",
       "      <td>1</td>\n",
       "      <td>0</td>\n",
       "      <td>1</td>\n",
       "      <td>0</td>\n",
       "      <td>0</td>\n",
       "      <td>6.0</td>\n",
       "      <td>m</td>\n",
       "      <td>Middle Eastern</td>\n",
       "      <td>no</td>\n",
       "      <td>no</td>\n",
       "      <td>Jordan</td>\n",
       "      <td>no</td>\n",
       "      <td>5.0</td>\n",
       "      <td>4-11 years</td>\n",
       "      <td>Parent</td>\n",
       "      <td>NO</td>\n",
       "    </tr>\n",
       "    <tr>\n",
       "      <th>2</th>\n",
       "      <td>1</td>\n",
       "      <td>1</td>\n",
       "      <td>0</td>\n",
       "      <td>0</td>\n",
       "      <td>0</td>\n",
       "      <td>1</td>\n",
       "      <td>1</td>\n",
       "      <td>1</td>\n",
       "      <td>0</td>\n",
       "      <td>0</td>\n",
       "      <td>6.0</td>\n",
       "      <td>m</td>\n",
       "      <td>?</td>\n",
       "      <td>no</td>\n",
       "      <td>no</td>\n",
       "      <td>Jordan</td>\n",
       "      <td>yes</td>\n",
       "      <td>5.0</td>\n",
       "      <td>4-11 years</td>\n",
       "      <td>?</td>\n",
       "      <td>NO</td>\n",
       "    </tr>\n",
       "    <tr>\n",
       "      <th>3</th>\n",
       "      <td>0</td>\n",
       "      <td>1</td>\n",
       "      <td>0</td>\n",
       "      <td>0</td>\n",
       "      <td>1</td>\n",
       "      <td>1</td>\n",
       "      <td>0</td>\n",
       "      <td>0</td>\n",
       "      <td>0</td>\n",
       "      <td>1</td>\n",
       "      <td>5.0</td>\n",
       "      <td>f</td>\n",
       "      <td>?</td>\n",
       "      <td>yes</td>\n",
       "      <td>no</td>\n",
       "      <td>Jordan</td>\n",
       "      <td>no</td>\n",
       "      <td>4.0</td>\n",
       "      <td>4-11 years</td>\n",
       "      <td>?</td>\n",
       "      <td>NO</td>\n",
       "    </tr>\n",
       "    <tr>\n",
       "      <th>4</th>\n",
       "      <td>1</td>\n",
       "      <td>1</td>\n",
       "      <td>1</td>\n",
       "      <td>1</td>\n",
       "      <td>1</td>\n",
       "      <td>1</td>\n",
       "      <td>1</td>\n",
       "      <td>1</td>\n",
       "      <td>1</td>\n",
       "      <td>1</td>\n",
       "      <td>5.0</td>\n",
       "      <td>m</td>\n",
       "      <td>Others</td>\n",
       "      <td>yes</td>\n",
       "      <td>no</td>\n",
       "      <td>United States</td>\n",
       "      <td>no</td>\n",
       "      <td>10.0</td>\n",
       "      <td>4-11 years</td>\n",
       "      <td>Parent</td>\n",
       "      <td>YES</td>\n",
       "    </tr>\n",
       "  </tbody>\n",
       "</table>\n",
       "</div>"
      ],
      "text/plain": [
       "  A1_Score A2_Score A3_Score A4_Score A5_Score A6_Score A7_Score A8_Score  \\\n",
       "0        1        1        0        0        1        1        0        1   \n",
       "1        1        1        0        0        1        1        0        1   \n",
       "2        1        1        0        0        0        1        1        1   \n",
       "3        0        1        0        0        1        1        0        0   \n",
       "4        1        1        1        1        1        1        1        1   \n",
       "\n",
       "  A9_Score A10_Score  age gender        ethnicity jundice austim  \\\n",
       "0        0         0  6.0      m           Others      no     no   \n",
       "1        0         0  6.0      m  Middle Eastern       no     no   \n",
       "2        0         0  6.0      m                ?      no     no   \n",
       "3        0         1  5.0      f                ?     yes     no   \n",
       "4        1         1  5.0      m           Others     yes     no   \n",
       "\n",
       "   contry_of_res used_app_before  result    age_desc relation Class/ASD  \n",
       "0         Jordan              no     5.0  4-11 years   Parent        NO  \n",
       "1         Jordan              no     5.0  4-11 years   Parent        NO  \n",
       "2         Jordan             yes     5.0  4-11 years        ?        NO  \n",
       "3         Jordan              no     4.0  4-11 years        ?        NO  \n",
       "4  United States              no    10.0  4-11 years   Parent       YES  "
      ]
     },
     "execution_count": 72,
     "metadata": {},
     "output_type": "execute_result"
    }
   ],
   "source": [
    "autism_df.head()"
   ]
  },
  {
   "cell_type": "code",
   "execution_count": 73,
   "metadata": {},
   "outputs": [
    {
     "data": {
      "text/html": [
       "<div>\n",
       "<style scoped>\n",
       "    .dataframe tbody tr th:only-of-type {\n",
       "        vertical-align: middle;\n",
       "    }\n",
       "\n",
       "    .dataframe tbody tr th {\n",
       "        vertical-align: top;\n",
       "    }\n",
       "\n",
       "    .dataframe thead th {\n",
       "        text-align: right;\n",
       "    }\n",
       "</style>\n",
       "<table border=\"1\" class=\"dataframe\">\n",
       "  <thead>\n",
       "    <tr style=\"text-align: right;\">\n",
       "      <th></th>\n",
       "      <th>ethnicity</th>\n",
       "      <th>contry_of_res</th>\n",
       "      <th>relation</th>\n",
       "    </tr>\n",
       "  </thead>\n",
       "  <tbody>\n",
       "    <tr>\n",
       "      <th>0</th>\n",
       "      <td>Others</td>\n",
       "      <td>Jordan</td>\n",
       "      <td>Parent</td>\n",
       "    </tr>\n",
       "    <tr>\n",
       "      <th>1</th>\n",
       "      <td>Middle Eastern</td>\n",
       "      <td>Jordan</td>\n",
       "      <td>Parent</td>\n",
       "    </tr>\n",
       "    <tr>\n",
       "      <th>2</th>\n",
       "      <td>?</td>\n",
       "      <td>Jordan</td>\n",
       "      <td>?</td>\n",
       "    </tr>\n",
       "    <tr>\n",
       "      <th>3</th>\n",
       "      <td>?</td>\n",
       "      <td>Jordan</td>\n",
       "      <td>?</td>\n",
       "    </tr>\n",
       "    <tr>\n",
       "      <th>4</th>\n",
       "      <td>Others</td>\n",
       "      <td>United States</td>\n",
       "      <td>Parent</td>\n",
       "    </tr>\n",
       "  </tbody>\n",
       "</table>\n",
       "</div>"
      ],
      "text/plain": [
       "         ethnicity  contry_of_res relation\n",
       "0           Others         Jordan   Parent\n",
       "1  Middle Eastern          Jordan   Parent\n",
       "2                ?         Jordan        ?\n",
       "3                ?         Jordan        ?\n",
       "4           Others  United States   Parent"
      ]
     },
     "execution_count": 73,
     "metadata": {},
     "output_type": "execute_result"
    }
   ],
   "source": [
    "X_category_data = autism_df[['ethnicity', 'contry_of_res', 'relation']].copy(deep=True)\n",
    "X_category_data.head()"
   ]
  },
  {
   "cell_type": "code",
   "execution_count": 74,
   "metadata": {},
   "outputs": [],
   "source": [
    "X_category_data = X_category_data.applymap(lambda val: None if val == '?' else val)"
   ]
  },
  {
   "cell_type": "code",
   "execution_count": 75,
   "metadata": {},
   "outputs": [
    {
     "data": {
      "text/plain": [
       "ethnicity        43\n",
       "contry_of_res     0\n",
       "relation         43\n",
       "dtype: int64"
      ]
     },
     "execution_count": 75,
     "metadata": {},
     "output_type": "execute_result"
    }
   ],
   "source": [
    "X_category_data.isnull().sum()"
   ]
  },
  {
   "cell_type": "code",
   "execution_count": 76,
   "metadata": {},
   "outputs": [
    {
     "data": {
      "text/plain": [
       "White-European     108\n",
       "Asian               46\n",
       "Middle Eastern      27\n",
       "South Asian         21\n",
       "Black               14\n",
       "Others              14\n",
       "Latino               8\n",
       "Hispanic             7\n",
       "Turkish              2\n",
       "Pasifika             2\n",
       "Name: ethnicity, dtype: int64"
      ]
     },
     "execution_count": 76,
     "metadata": {},
     "output_type": "execute_result"
    }
   ],
   "source": [
    "X_category_data['ethnicity'].value_counts()"
   ]
  },
  {
   "cell_type": "code",
   "execution_count": 77,
   "metadata": {},
   "outputs": [
    {
     "data": {
      "text/plain": [
       "Parent                      214\n",
       "Relative                     17\n",
       "Health care professional     13\n",
       "Self                          4\n",
       "self                          1\n",
       "Name: relation, dtype: int64"
      ]
     },
     "execution_count": 77,
     "metadata": {},
     "output_type": "execute_result"
    }
   ],
   "source": [
    "X_category_data['relation'].value_counts()"
   ]
  },
  {
   "cell_type": "code",
   "execution_count": 78,
   "metadata": {},
   "outputs": [],
   "source": [
    "X_category_data['ethnicity'].fillna(value='White-European',axis=0,inplace=True)\n",
    "X_category_data['relation'].fillna(value='Parent',axis=0,inplace=True)"
   ]
  },
  {
   "cell_type": "code",
   "execution_count": 79,
   "metadata": {},
   "outputs": [
    {
     "data": {
      "text/plain": [
       "ethnicity        0\n",
       "contry_of_res    0\n",
       "relation         0\n",
       "dtype: int64"
      ]
     },
     "execution_count": 79,
     "metadata": {},
     "output_type": "execute_result"
    }
   ],
   "source": [
    "X_category_data.isnull().sum()"
   ]
  },
  {
   "cell_type": "code",
   "execution_count": 80,
   "metadata": {},
   "outputs": [
    {
     "data": {
      "text/html": [
       "<div>\n",
       "<style scoped>\n",
       "    .dataframe tbody tr th:only-of-type {\n",
       "        vertical-align: middle;\n",
       "    }\n",
       "\n",
       "    .dataframe tbody tr th {\n",
       "        vertical-align: top;\n",
       "    }\n",
       "\n",
       "    .dataframe thead th {\n",
       "        text-align: right;\n",
       "    }\n",
       "</style>\n",
       "<table border=\"1\" class=\"dataframe\">\n",
       "  <thead>\n",
       "    <tr style=\"text-align: right;\">\n",
       "      <th></th>\n",
       "      <th>ethnicity</th>\n",
       "      <th>contry_of_res</th>\n",
       "      <th>relation</th>\n",
       "    </tr>\n",
       "  </thead>\n",
       "  <tbody>\n",
       "    <tr>\n",
       "      <th>0</th>\n",
       "      <td>Others</td>\n",
       "      <td>Jordan</td>\n",
       "      <td>Parent</td>\n",
       "    </tr>\n",
       "    <tr>\n",
       "      <th>1</th>\n",
       "      <td>Middle Eastern</td>\n",
       "      <td>Jordan</td>\n",
       "      <td>Parent</td>\n",
       "    </tr>\n",
       "    <tr>\n",
       "      <th>2</th>\n",
       "      <td>White-European</td>\n",
       "      <td>Jordan</td>\n",
       "      <td>Parent</td>\n",
       "    </tr>\n",
       "    <tr>\n",
       "      <th>3</th>\n",
       "      <td>White-European</td>\n",
       "      <td>Jordan</td>\n",
       "      <td>Parent</td>\n",
       "    </tr>\n",
       "    <tr>\n",
       "      <th>4</th>\n",
       "      <td>Others</td>\n",
       "      <td>United States</td>\n",
       "      <td>Parent</td>\n",
       "    </tr>\n",
       "  </tbody>\n",
       "</table>\n",
       "</div>"
      ],
      "text/plain": [
       "         ethnicity  contry_of_res relation\n",
       "0           Others         Jordan   Parent\n",
       "1  Middle Eastern          Jordan   Parent\n",
       "2   White-European         Jordan   Parent\n",
       "3   White-European         Jordan   Parent\n",
       "4           Others  United States   Parent"
      ]
     },
     "execution_count": 80,
     "metadata": {},
     "output_type": "execute_result"
    }
   ],
   "source": [
    "X_category_data.head()"
   ]
  },
  {
   "cell_type": "code",
   "execution_count": 81,
   "metadata": {},
   "outputs": [],
   "source": [
    "from sklearn.preprocessing import LabelEncoder, OrdinalEncoder"
   ]
  },
  {
   "cell_type": "markdown",
   "metadata": {},
   "source": [
    "#### **Diff_b/w_LE_and_OE**\n",
    "\n",
    "1. Both of these techniques performs the same function, as they do the numerical encoding on categorical data. Point to note that Ordinal Encoder sounds like it performs Ordinal numerical encoding on the data but it also fails to perform the semantic ordinal encoding.\n",
    "    - For example; hot, cold, warm are labelled as cold,hot,warm by both the techniques whereas these should be labelled as cold<warm<hot.\n",
    "    - We need to provide the explicit linking in order to perfrom semantic ordinal encoding.\n",
    "\n",
    "\n",
    "2. Scikit learn has these 2 implementations for same task because Label Encoder is created for applying encoding of Target Variable and Ordinal Encoder for features.\n",
    "    - Because, \n",
    "        - LabelEncoder learns classes_\n",
    "        - OrdinalEncoder learns categories_\n",
    "    - And,\n",
    "        - LabelEncoder expects 1D array i.e. Target Variable\n",
    "        - OrdinalEncoder expects 2D array i.e. Features"
   ]
  },
  {
   "cell_type": "code",
   "execution_count": 82,
   "metadata": {},
   "outputs": [],
   "source": [
    "le = LabelEncoder()\n",
    "oe = OrdinalEncoder()"
   ]
  },
  {
   "cell_type": "code",
   "execution_count": 83,
   "metadata": {},
   "outputs": [
    {
     "data": {
      "text/plain": [
       "LabelEncoder()"
      ]
     },
     "execution_count": 83,
     "metadata": {},
     "output_type": "execute_result"
    }
   ],
   "source": [
    "le.fit(X_category_data['ethnicity'])"
   ]
  },
  {
   "cell_type": "code",
   "execution_count": 84,
   "metadata": {},
   "outputs": [
    {
     "data": {
      "text/plain": [
       "array(['Asian', 'Black', 'Hispanic', 'Latino', 'Middle Eastern ',\n",
       "       'Others', 'Pasifika', 'South Asian', 'Turkish', 'White-European'],\n",
       "      dtype=object)"
      ]
     },
     "execution_count": 84,
     "metadata": {},
     "output_type": "execute_result"
    }
   ],
   "source": [
    "le.classes_"
   ]
  },
  {
   "cell_type": "markdown",
   "metadata": {},
   "source": [
    "#### **The above list of various categories are in the sequence of lables assigned to each category.**\n",
    "- **For example, 'Asian' -- 0, 'Black -- 1, 'Hispanic' -- 2 .... so on.**"
   ]
  },
  {
   "cell_type": "code",
   "execution_count": 85,
   "metadata": {},
   "outputs": [
    {
     "data": {
      "text/html": [
       "<div>\n",
       "<style scoped>\n",
       "    .dataframe tbody tr th:only-of-type {\n",
       "        vertical-align: middle;\n",
       "    }\n",
       "\n",
       "    .dataframe tbody tr th {\n",
       "        vertical-align: top;\n",
       "    }\n",
       "\n",
       "    .dataframe thead th {\n",
       "        text-align: right;\n",
       "    }\n",
       "</style>\n",
       "<table border=\"1\" class=\"dataframe\">\n",
       "  <thead>\n",
       "    <tr style=\"text-align: right;\">\n",
       "      <th></th>\n",
       "      <th>ethnicity</th>\n",
       "      <th>contry_of_res</th>\n",
       "      <th>relation</th>\n",
       "    </tr>\n",
       "  </thead>\n",
       "  <tbody>\n",
       "    <tr>\n",
       "      <th>0</th>\n",
       "      <td>5</td>\n",
       "      <td>Jordan</td>\n",
       "      <td>Parent</td>\n",
       "    </tr>\n",
       "    <tr>\n",
       "      <th>1</th>\n",
       "      <td>4</td>\n",
       "      <td>Jordan</td>\n",
       "      <td>Parent</td>\n",
       "    </tr>\n",
       "    <tr>\n",
       "      <th>2</th>\n",
       "      <td>9</td>\n",
       "      <td>Jordan</td>\n",
       "      <td>Parent</td>\n",
       "    </tr>\n",
       "    <tr>\n",
       "      <th>3</th>\n",
       "      <td>9</td>\n",
       "      <td>Jordan</td>\n",
       "      <td>Parent</td>\n",
       "    </tr>\n",
       "    <tr>\n",
       "      <th>4</th>\n",
       "      <td>5</td>\n",
       "      <td>United States</td>\n",
       "      <td>Parent</td>\n",
       "    </tr>\n",
       "  </tbody>\n",
       "</table>\n",
       "</div>"
      ],
      "text/plain": [
       "   ethnicity  contry_of_res relation\n",
       "0          5         Jordan   Parent\n",
       "1          4         Jordan   Parent\n",
       "2          9         Jordan   Parent\n",
       "3          9         Jordan   Parent\n",
       "4          5  United States   Parent"
      ]
     },
     "execution_count": 85,
     "metadata": {},
     "output_type": "execute_result"
    }
   ],
   "source": [
    "X_category_data['ethnicity'] = le.transform(X_category_data['ethnicity'])\n",
    "X_category_data.head()"
   ]
  },
  {
   "cell_type": "code",
   "execution_count": 86,
   "metadata": {},
   "outputs": [
    {
     "data": {
      "text/plain": [
       "LabelEncoder()"
      ]
     },
     "execution_count": 86,
     "metadata": {},
     "output_type": "execute_result"
    }
   ],
   "source": [
    "cntry_le = LabelEncoder()\n",
    "cntry_le.fit(X_category_data['contry_of_res'])"
   ]
  },
  {
   "cell_type": "code",
   "execution_count": 87,
   "metadata": {},
   "outputs": [
    {
     "data": {
      "text/plain": [
       "array(['Afghanistan', 'Argentina', 'Armenia', 'Australia', 'Austria',\n",
       "       'Bahrain', 'Bangladesh', 'Bhutan', 'Brazil', 'Bulgaria', 'Canada',\n",
       "       'China', 'Costa Rica', 'Egypt', 'Europe', 'Georgia', 'Germany',\n",
       "       'Ghana', 'India', 'Iraq', 'Ireland', 'Isle of Man', 'Italy',\n",
       "       'Japan', 'Jordan', 'Kuwait', 'Latvia', 'Lebanon', 'Libya',\n",
       "       'Malaysia', 'Malta', 'Mexico', 'Nepal', 'Netherlands',\n",
       "       'New Zealand', 'Nigeria', 'Oman', 'Pakistan', 'Philippines',\n",
       "       'Qatar', 'Romania', 'Russia', 'Saudi Arabia', 'South Africa',\n",
       "       'South Korea', 'Sweden', 'Syria', 'Turkey',\n",
       "       'U.S. Outlying Islands', 'United Arab Emirates', 'United Kingdom',\n",
       "       'United States'], dtype=object)"
      ]
     },
     "execution_count": 87,
     "metadata": {},
     "output_type": "execute_result"
    }
   ],
   "source": [
    "cntry_le.classes_"
   ]
  },
  {
   "cell_type": "code",
   "execution_count": 88,
   "metadata": {},
   "outputs": [
    {
     "data": {
      "text/html": [
       "<div>\n",
       "<style scoped>\n",
       "    .dataframe tbody tr th:only-of-type {\n",
       "        vertical-align: middle;\n",
       "    }\n",
       "\n",
       "    .dataframe tbody tr th {\n",
       "        vertical-align: top;\n",
       "    }\n",
       "\n",
       "    .dataframe thead th {\n",
       "        text-align: right;\n",
       "    }\n",
       "</style>\n",
       "<table border=\"1\" class=\"dataframe\">\n",
       "  <thead>\n",
       "    <tr style=\"text-align: right;\">\n",
       "      <th></th>\n",
       "      <th>ethnicity</th>\n",
       "      <th>contry_of_res</th>\n",
       "      <th>relation</th>\n",
       "    </tr>\n",
       "  </thead>\n",
       "  <tbody>\n",
       "    <tr>\n",
       "      <th>0</th>\n",
       "      <td>5</td>\n",
       "      <td>24</td>\n",
       "      <td>Parent</td>\n",
       "    </tr>\n",
       "    <tr>\n",
       "      <th>1</th>\n",
       "      <td>4</td>\n",
       "      <td>24</td>\n",
       "      <td>Parent</td>\n",
       "    </tr>\n",
       "    <tr>\n",
       "      <th>2</th>\n",
       "      <td>9</td>\n",
       "      <td>24</td>\n",
       "      <td>Parent</td>\n",
       "    </tr>\n",
       "    <tr>\n",
       "      <th>3</th>\n",
       "      <td>9</td>\n",
       "      <td>24</td>\n",
       "      <td>Parent</td>\n",
       "    </tr>\n",
       "    <tr>\n",
       "      <th>4</th>\n",
       "      <td>5</td>\n",
       "      <td>51</td>\n",
       "      <td>Parent</td>\n",
       "    </tr>\n",
       "  </tbody>\n",
       "</table>\n",
       "</div>"
      ],
      "text/plain": [
       "   ethnicity  contry_of_res relation\n",
       "0          5             24   Parent\n",
       "1          4             24   Parent\n",
       "2          9             24   Parent\n",
       "3          9             24   Parent\n",
       "4          5             51   Parent"
      ]
     },
     "execution_count": 88,
     "metadata": {},
     "output_type": "execute_result"
    }
   ],
   "source": [
    "X_category_data['contry_of_res'] = cntry_le.transform(X_category_data['contry_of_res'])\n",
    "X_category_data.head()"
   ]
  },
  {
   "cell_type": "code",
   "execution_count": 89,
   "metadata": {},
   "outputs": [
    {
     "data": {
      "text/plain": [
       "Parent                      257\n",
       "Relative                     17\n",
       "Health care professional     13\n",
       "Self                          5\n",
       "Name: relation, dtype: int64"
      ]
     },
     "execution_count": 89,
     "metadata": {},
     "output_type": "execute_result"
    }
   ],
   "source": [
    "X_category_data['relation'] = X_category_data['relation'].apply(lambda val: str(val).capitalize())\n",
    "X_category_data['relation'].value_counts()"
   ]
  },
  {
   "cell_type": "code",
   "execution_count": 90,
   "metadata": {},
   "outputs": [
    {
     "data": {
      "text/plain": [
       "OrdinalEncoder()"
      ]
     },
     "execution_count": 90,
     "metadata": {},
     "output_type": "execute_result"
    }
   ],
   "source": [
    "oe.fit(X_category_data[['relation']])"
   ]
  },
  {
   "cell_type": "code",
   "execution_count": 91,
   "metadata": {},
   "outputs": [
    {
     "data": {
      "text/plain": [
       "[array(['Health care professional', 'Parent', 'Relative', 'Self'],\n",
       "       dtype=object)]"
      ]
     },
     "execution_count": 91,
     "metadata": {},
     "output_type": "execute_result"
    }
   ],
   "source": [
    "oe.categories_"
   ]
  },
  {
   "cell_type": "code",
   "execution_count": 92,
   "metadata": {},
   "outputs": [
    {
     "data": {
      "text/html": [
       "<div>\n",
       "<style scoped>\n",
       "    .dataframe tbody tr th:only-of-type {\n",
       "        vertical-align: middle;\n",
       "    }\n",
       "\n",
       "    .dataframe tbody tr th {\n",
       "        vertical-align: top;\n",
       "    }\n",
       "\n",
       "    .dataframe thead th {\n",
       "        text-align: right;\n",
       "    }\n",
       "</style>\n",
       "<table border=\"1\" class=\"dataframe\">\n",
       "  <thead>\n",
       "    <tr style=\"text-align: right;\">\n",
       "      <th></th>\n",
       "      <th>ethnicity</th>\n",
       "      <th>contry_of_res</th>\n",
       "      <th>relation</th>\n",
       "    </tr>\n",
       "  </thead>\n",
       "  <tbody>\n",
       "    <tr>\n",
       "      <th>0</th>\n",
       "      <td>5</td>\n",
       "      <td>24</td>\n",
       "      <td>1.0</td>\n",
       "    </tr>\n",
       "    <tr>\n",
       "      <th>1</th>\n",
       "      <td>4</td>\n",
       "      <td>24</td>\n",
       "      <td>1.0</td>\n",
       "    </tr>\n",
       "    <tr>\n",
       "      <th>2</th>\n",
       "      <td>9</td>\n",
       "      <td>24</td>\n",
       "      <td>1.0</td>\n",
       "    </tr>\n",
       "    <tr>\n",
       "      <th>3</th>\n",
       "      <td>9</td>\n",
       "      <td>24</td>\n",
       "      <td>1.0</td>\n",
       "    </tr>\n",
       "    <tr>\n",
       "      <th>4</th>\n",
       "      <td>5</td>\n",
       "      <td>51</td>\n",
       "      <td>1.0</td>\n",
       "    </tr>\n",
       "  </tbody>\n",
       "</table>\n",
       "</div>"
      ],
      "text/plain": [
       "   ethnicity  contry_of_res  relation\n",
       "0          5             24       1.0\n",
       "1          4             24       1.0\n",
       "2          9             24       1.0\n",
       "3          9             24       1.0\n",
       "4          5             51       1.0"
      ]
     },
     "execution_count": 92,
     "metadata": {},
     "output_type": "execute_result"
    }
   ],
   "source": [
    "X_category_data['relation'] = pd.DataFrame(oe.transform(X_category_data[['relation']]))\n",
    "X_category_data.head()"
   ]
  },
  {
   "cell_type": "code",
   "execution_count": 93,
   "metadata": {},
   "outputs": [],
   "source": [
    "pred_dict = {'NO':0,'YES':1}\n",
    "y_cat_data = autism_df['Class/ASD']\n",
    "y_cat_data = y_cat_data.apply(lambda val: pred_dict.get(val))"
   ]
  },
  {
   "cell_type": "code",
   "execution_count": 94,
   "metadata": {},
   "outputs": [
    {
     "data": {
      "text/plain": [
       "((292, 3), (292,))"
      ]
     },
     "execution_count": 94,
     "metadata": {},
     "output_type": "execute_result"
    }
   ],
   "source": [
    "X_category_data.shape, y_cat_data.shape"
   ]
  },
  {
   "cell_type": "code",
   "execution_count": 95,
   "metadata": {},
   "outputs": [],
   "source": [
    "fs = SelectKBest(score_func=mutual_info_classif,k=1)"
   ]
  },
  {
   "cell_type": "markdown",
   "metadata": {},
   "source": [
    "### **Mutual_info_classif**\n",
    "\n",
    "- Estimate mutual information for a discrete target variable.\n",
    "\n",
    "- Mutual information (MI) between two random variables is a non-negative value, which measures the dependency between the variables. It is equal to zero if and only if two random variables are independent, and higher values mean higher dependency.\n",
    "\n",
    "- The term “discrete features” is used instead of naming them “categorical”, because it describes the essence more accurately.  For example, pixel intensities of an image are discrete features (but hardly categorical) and you will get better results if mark them as such. Also note, that treating a continuous variable as discrete and vice versa will usually give incorrect results, so be attentive about that.\n",
    "\n",
    "- True mutual information can’t be negative. If its estimate turns out to be negative, it is replaced by zero."
   ]
  },
  {
   "cell_type": "code",
   "execution_count": 96,
   "metadata": {},
   "outputs": [
    {
     "data": {
      "text/plain": [
       "SelectKBest(k=1,\n",
       "            score_func=<function mutual_info_classif at 0x0000017B9A35E268>)"
      ]
     },
     "execution_count": 96,
     "metadata": {},
     "output_type": "execute_result"
    }
   ],
   "source": [
    "fs.fit(X_category_data,y_cat_data)"
   ]
  },
  {
   "cell_type": "code",
   "execution_count": 97,
   "metadata": {},
   "outputs": [
    {
     "data": {
      "text/plain": [
       "array([0.01350759, 0.06914943, 0.07706504])"
      ]
     },
     "execution_count": 97,
     "metadata": {},
     "output_type": "execute_result"
    }
   ],
   "source": [
    "fs.scores_"
   ]
  },
  {
   "cell_type": "code",
   "execution_count": 98,
   "metadata": {},
   "outputs": [
    {
     "data": {
      "text/plain": [
       "array([0.00841553, 0.0201096 , 0.        ])"
      ]
     },
     "execution_count": 98,
     "metadata": {},
     "output_type": "execute_result"
    }
   ],
   "source": [
    "fs.score_func(X_category_data,y_cat_data)"
   ]
  },
  {
   "cell_type": "code",
   "execution_count": 99,
   "metadata": {},
   "outputs": [
    {
     "data": {
      "text/html": [
       "<div>\n",
       "<style scoped>\n",
       "    .dataframe tbody tr th:only-of-type {\n",
       "        vertical-align: middle;\n",
       "    }\n",
       "\n",
       "    .dataframe tbody tr th {\n",
       "        vertical-align: top;\n",
       "    }\n",
       "\n",
       "    .dataframe thead th {\n",
       "        text-align: right;\n",
       "    }\n",
       "</style>\n",
       "<table border=\"1\" class=\"dataframe\">\n",
       "  <thead>\n",
       "    <tr style=\"text-align: right;\">\n",
       "      <th></th>\n",
       "      <th>0</th>\n",
       "    </tr>\n",
       "  </thead>\n",
       "  <tbody>\n",
       "    <tr>\n",
       "      <th>0</th>\n",
       "      <td>1.0</td>\n",
       "    </tr>\n",
       "    <tr>\n",
       "      <th>1</th>\n",
       "      <td>1.0</td>\n",
       "    </tr>\n",
       "    <tr>\n",
       "      <th>2</th>\n",
       "      <td>1.0</td>\n",
       "    </tr>\n",
       "    <tr>\n",
       "      <th>3</th>\n",
       "      <td>1.0</td>\n",
       "    </tr>\n",
       "    <tr>\n",
       "      <th>4</th>\n",
       "      <td>1.0</td>\n",
       "    </tr>\n",
       "  </tbody>\n",
       "</table>\n",
       "</div>"
      ],
      "text/plain": [
       "     0\n",
       "0  1.0\n",
       "1  1.0\n",
       "2  1.0\n",
       "3  1.0\n",
       "4  1.0"
      ]
     },
     "execution_count": 99,
     "metadata": {},
     "output_type": "execute_result"
    }
   ],
   "source": [
    "pd.DataFrame(fs.transform(X_category_data)).head()"
   ]
  },
  {
   "cell_type": "code",
   "execution_count": 100,
   "metadata": {},
   "outputs": [
    {
     "name": "stdout",
     "output_type": "stream",
     "text": [
      "Feature 0: 0.013508\n",
      "Feature 1: 0.069149\n",
      "Feature 2: 0.077065\n"
     ]
    }
   ],
   "source": [
    "for i in range(len(fs.scores_)):\n",
    "    print('Feature %d: %f' % (i, fs.scores_[i]))"
   ]
  },
  {
   "cell_type": "code",
   "execution_count": 101,
   "metadata": {},
   "outputs": [
    {
     "data": {
      "image/png": "[encoded data removed]",
      "text/plain": [
       "<Figure size 432x288 with 1 Axes>"
      ]
     },
     "metadata": {
      "needs_background": "light"
     },
     "output_type": "display_data"
    }
   ],
   "source": [
    "plt.bar([i for i in range(len(fs.scores_))], fs.scores_)\n",
    "plt.show()"
   ]
  },
  {
   "cell_type": "markdown",
   "metadata": {},
   "source": [
    "#### **Feature with maximum MI score is selected as the relevant feature.**"
   ]
  },
  {
   "cell_type": "markdown",
   "metadata": {},
   "source": [
    "#### **`Case:3`**\n",
    "##### **`Categorical` Explanatory & Target Variables**"
   ]
  },
  {
   "cell_type": "code",
   "execution_count": 102,
   "metadata": {},
   "outputs": [],
   "source": [
    "from sklearn.model_selection import train_test_split\n",
    "from sklearn.impute import SimpleImputer"
   ]
  },
  {
   "cell_type": "code",
   "execution_count": 103,
   "metadata": {},
   "outputs": [],
   "source": [
    "cat_data = pd.read_csv('https://raw.githubusercontent.com/jbrownlee/Datasets/master/breast-cancer.csv',header=None)"
   ]
  },
  {
   "cell_type": "code",
   "execution_count": 104,
   "metadata": {},
   "outputs": [],
   "source": [
    "X = cat_data.iloc[:,0:-1].copy(deep=True)\n",
    "y = cat_data.iloc[:,-1].copy(deep=True)"
   ]
  },
  {
   "cell_type": "code",
   "execution_count": 105,
   "metadata": {},
   "outputs": [
    {
     "data": {
      "text/plain": [
       "((286, 9), (286,))"
      ]
     },
     "execution_count": 105,
     "metadata": {},
     "output_type": "execute_result"
    }
   ],
   "source": [
    "X.shape, y.shape"
   ]
  },
  {
   "cell_type": "code",
   "execution_count": 106,
   "metadata": {},
   "outputs": [
    {
     "data": {
      "text/plain": [
       "0    0\n",
       "1    0\n",
       "2    0\n",
       "3    0\n",
       "4    8\n",
       "5    0\n",
       "6    0\n",
       "7    1\n",
       "8    0\n",
       "dtype: int64"
      ]
     },
     "execution_count": 106,
     "metadata": {},
     "output_type": "execute_result"
    }
   ],
   "source": [
    "X.isnull().sum()"
   ]
  },
  {
   "cell_type": "code",
   "execution_count": 107,
   "metadata": {},
   "outputs": [],
   "source": [
    "si = SimpleImputer(strategy='most_frequent')"
   ]
  },
  {
   "cell_type": "code",
   "execution_count": 108,
   "metadata": {},
   "outputs": [],
   "source": [
    "X[4] = pd.DataFrame(si.fit_transform(X[[4]]))"
   ]
  },
  {
   "cell_type": "code",
   "execution_count": 109,
   "metadata": {},
   "outputs": [],
   "source": [
    "X[7] = pd.DataFrame(si.fit_transform(X[[7]]))"
   ]
  },
  {
   "cell_type": "code",
   "execution_count": 110,
   "metadata": {},
   "outputs": [
    {
     "data": {
      "text/plain": [
       "(         0          1        2      3      4    5        6           7      8\n",
       " 0  '40-49'  'premeno'  '15-19'  '0-2'  'yes'  '3'  'right'   'left_up'   'no'\n",
       " 1  '50-59'     'ge40'  '15-19'  '0-2'   'no'  '1'  'right'   'central'   'no'\n",
       " 2  '50-59'     'ge40'  '35-39'  '0-2'   'no'  '2'   'left'  'left_low'   'no'\n",
       " 3  '40-49'  'premeno'  '35-39'  '0-2'  'yes'  '3'  'right'  'left_low'  'yes'\n",
       " 4  '40-49'  'premeno'  '30-34'  '3-5'  'yes'  '2'   'left'  'right_up'   'no',\n",
       " 0       'recurrence-events'\n",
       " 1    'no-recurrence-events'\n",
       " 2       'recurrence-events'\n",
       " 3    'no-recurrence-events'\n",
       " 4       'recurrence-events'\n",
       " Name: 9, dtype: object)"
      ]
     },
     "execution_count": 110,
     "metadata": {},
     "output_type": "execute_result"
    }
   ],
   "source": [
    "X.head(), y.head()"
   ]
  },
  {
   "cell_type": "code",
   "execution_count": 111,
   "metadata": {},
   "outputs": [],
   "source": [
    "X_train, X_test, y_train, y_test = train_test_split(X,y,test_size=0.35,random_state=33,stratify=y)"
   ]
  },
  {
   "cell_type": "code",
   "execution_count": 112,
   "metadata": {},
   "outputs": [
    {
     "data": {
      "text/plain": [
       "((185, 9), (101, 9), (185,), (101,))"
      ]
     },
     "execution_count": 112,
     "metadata": {},
     "output_type": "execute_result"
    }
   ],
   "source": [
    "X_train.shape, X_test.shape, y_train.shape, y_test.shape"
   ]
  },
  {
   "cell_type": "code",
   "execution_count": 113,
   "metadata": {},
   "outputs": [],
   "source": [
    "oe = OrdinalEncoder()\n",
    "le = LabelEncoder()"
   ]
  },
  {
   "cell_type": "code",
   "execution_count": 114,
   "metadata": {},
   "outputs": [
    {
     "data": {
      "text/plain": [
       "LabelEncoder()"
      ]
     },
     "execution_count": 114,
     "metadata": {},
     "output_type": "execute_result"
    }
   ],
   "source": [
    "oe.fit(X_train)\n",
    "le.fit(y_train)"
   ]
  },
  {
   "cell_type": "code",
   "execution_count": 115,
   "metadata": {},
   "outputs": [],
   "source": [
    "X_train = oe.transform(X_train)\n",
    "X_test = oe.transform(X_test)\n",
    "\n",
    "y_train = le.transform(y_train)\n",
    "y_test = le.transform(y_test)"
   ]
  },
  {
   "cell_type": "code",
   "execution_count": 116,
   "metadata": {},
   "outputs": [
    {
     "data": {
      "text/plain": [
       "((185, 9), (101, 9), (185,), (101,))"
      ]
     },
     "execution_count": 116,
     "metadata": {},
     "output_type": "execute_result"
    }
   ],
   "source": [
    "X_train.shape, X_test.shape, y_train.shape, y_test.shape"
   ]
  },
  {
   "cell_type": "code",
   "execution_count": 117,
   "metadata": {},
   "outputs": [],
   "source": [
    "fs = SelectKBest(score_func=chi2,k='all')"
   ]
  },
  {
   "cell_type": "code",
   "execution_count": 118,
   "metadata": {},
   "outputs": [
    {
     "data": {
      "text/plain": [
       "SelectKBest(k='all', score_func=<function chi2 at 0x0000017B99FCED08>)"
      ]
     },
     "execution_count": 118,
     "metadata": {},
     "output_type": "execute_result"
    }
   ],
   "source": [
    "fs.fit(X_train,y_train)"
   ]
  },
  {
   "cell_type": "code",
   "execution_count": 119,
   "metadata": {},
   "outputs": [
    {
     "data": {
      "text/html": [
       "<div>\n",
       "<style scoped>\n",
       "    .dataframe tbody tr th:only-of-type {\n",
       "        vertical-align: middle;\n",
       "    }\n",
       "\n",
       "    .dataframe tbody tr th {\n",
       "        vertical-align: top;\n",
       "    }\n",
       "\n",
       "    .dataframe thead th {\n",
       "        text-align: right;\n",
       "    }\n",
       "</style>\n",
       "<table border=\"1\" class=\"dataframe\">\n",
       "  <thead>\n",
       "    <tr style=\"text-align: right;\">\n",
       "      <th></th>\n",
       "      <th>0</th>\n",
       "      <th>1</th>\n",
       "      <th>2</th>\n",
       "      <th>3</th>\n",
       "      <th>4</th>\n",
       "      <th>5</th>\n",
       "      <th>6</th>\n",
       "      <th>7</th>\n",
       "      <th>8</th>\n",
       "    </tr>\n",
       "  </thead>\n",
       "  <tbody>\n",
       "    <tr>\n",
       "      <th>0</th>\n",
       "      <td>3.0</td>\n",
       "      <td>0.0</td>\n",
       "      <td>7.0</td>\n",
       "      <td>0.0</td>\n",
       "      <td>0.0</td>\n",
       "      <td>1.0</td>\n",
       "      <td>0.0</td>\n",
       "      <td>1.0</td>\n",
       "      <td>0.0</td>\n",
       "    </tr>\n",
       "    <tr>\n",
       "      <th>1</th>\n",
       "      <td>2.0</td>\n",
       "      <td>0.0</td>\n",
       "      <td>3.0</td>\n",
       "      <td>0.0</td>\n",
       "      <td>0.0</td>\n",
       "      <td>2.0</td>\n",
       "      <td>0.0</td>\n",
       "      <td>1.0</td>\n",
       "      <td>0.0</td>\n",
       "    </tr>\n",
       "    <tr>\n",
       "      <th>2</th>\n",
       "      <td>3.0</td>\n",
       "      <td>2.0</td>\n",
       "      <td>5.0</td>\n",
       "      <td>0.0</td>\n",
       "      <td>0.0</td>\n",
       "      <td>2.0</td>\n",
       "      <td>0.0</td>\n",
       "      <td>1.0</td>\n",
       "      <td>0.0</td>\n",
       "    </tr>\n",
       "    <tr>\n",
       "      <th>3</th>\n",
       "      <td>3.0</td>\n",
       "      <td>0.0</td>\n",
       "      <td>4.0</td>\n",
       "      <td>0.0</td>\n",
       "      <td>0.0</td>\n",
       "      <td>2.0</td>\n",
       "      <td>0.0</td>\n",
       "      <td>4.0</td>\n",
       "      <td>0.0</td>\n",
       "    </tr>\n",
       "    <tr>\n",
       "      <th>4</th>\n",
       "      <td>2.0</td>\n",
       "      <td>2.0</td>\n",
       "      <td>3.0</td>\n",
       "      <td>0.0</td>\n",
       "      <td>0.0</td>\n",
       "      <td>1.0</td>\n",
       "      <td>0.0</td>\n",
       "      <td>1.0</td>\n",
       "      <td>0.0</td>\n",
       "    </tr>\n",
       "  </tbody>\n",
       "</table>\n",
       "</div>"
      ],
      "text/plain": [
       "     0    1    2    3    4    5    6    7    8\n",
       "0  3.0  0.0  7.0  0.0  0.0  1.0  0.0  1.0  0.0\n",
       "1  2.0  0.0  3.0  0.0  0.0  2.0  0.0  1.0  0.0\n",
       "2  3.0  2.0  5.0  0.0  0.0  2.0  0.0  1.0  0.0\n",
       "3  3.0  0.0  4.0  0.0  0.0  2.0  0.0  4.0  0.0\n",
       "4  2.0  2.0  3.0  0.0  0.0  1.0  0.0  1.0  0.0"
      ]
     },
     "execution_count": 119,
     "metadata": {},
     "output_type": "execute_result"
    }
   ],
   "source": [
    "pd.DataFrame(fs.transform(X_train)).head()"
   ]
  },
  {
   "cell_type": "code",
   "execution_count": 120,
   "metadata": {},
   "outputs": [
    {
     "data": {
      "text/html": [
       "<div>\n",
       "<style scoped>\n",
       "    .dataframe tbody tr th:only-of-type {\n",
       "        vertical-align: middle;\n",
       "    }\n",
       "\n",
       "    .dataframe tbody tr th {\n",
       "        vertical-align: top;\n",
       "    }\n",
       "\n",
       "    .dataframe thead th {\n",
       "        text-align: right;\n",
       "    }\n",
       "</style>\n",
       "<table border=\"1\" class=\"dataframe\">\n",
       "  <thead>\n",
       "    <tr style=\"text-align: right;\">\n",
       "      <th></th>\n",
       "      <th>0</th>\n",
       "      <th>1</th>\n",
       "      <th>2</th>\n",
       "      <th>3</th>\n",
       "      <th>4</th>\n",
       "      <th>5</th>\n",
       "      <th>6</th>\n",
       "      <th>7</th>\n",
       "      <th>8</th>\n",
       "    </tr>\n",
       "  </thead>\n",
       "  <tbody>\n",
       "    <tr>\n",
       "      <th>0</th>\n",
       "      <td>3.0</td>\n",
       "      <td>0.0</td>\n",
       "      <td>5.0</td>\n",
       "      <td>0.0</td>\n",
       "      <td>0.0</td>\n",
       "      <td>0.0</td>\n",
       "      <td>0.0</td>\n",
       "      <td>2.0</td>\n",
       "      <td>0.0</td>\n",
       "    </tr>\n",
       "    <tr>\n",
       "      <th>1</th>\n",
       "      <td>3.0</td>\n",
       "      <td>1.0</td>\n",
       "      <td>3.0</td>\n",
       "      <td>0.0</td>\n",
       "      <td>0.0</td>\n",
       "      <td>0.0</td>\n",
       "      <td>0.0</td>\n",
       "      <td>2.0</td>\n",
       "      <td>0.0</td>\n",
       "    </tr>\n",
       "    <tr>\n",
       "      <th>2</th>\n",
       "      <td>2.0</td>\n",
       "      <td>2.0</td>\n",
       "      <td>4.0</td>\n",
       "      <td>0.0</td>\n",
       "      <td>0.0</td>\n",
       "      <td>2.0</td>\n",
       "      <td>0.0</td>\n",
       "      <td>4.0</td>\n",
       "      <td>0.0</td>\n",
       "    </tr>\n",
       "    <tr>\n",
       "      <th>3</th>\n",
       "      <td>2.0</td>\n",
       "      <td>2.0</td>\n",
       "      <td>6.0</td>\n",
       "      <td>6.0</td>\n",
       "      <td>1.0</td>\n",
       "      <td>1.0</td>\n",
       "      <td>1.0</td>\n",
       "      <td>4.0</td>\n",
       "      <td>1.0</td>\n",
       "    </tr>\n",
       "    <tr>\n",
       "      <th>4</th>\n",
       "      <td>3.0</td>\n",
       "      <td>2.0</td>\n",
       "      <td>4.0</td>\n",
       "      <td>0.0</td>\n",
       "      <td>0.0</td>\n",
       "      <td>0.0</td>\n",
       "      <td>1.0</td>\n",
       "      <td>2.0</td>\n",
       "      <td>0.0</td>\n",
       "    </tr>\n",
       "  </tbody>\n",
       "</table>\n",
       "</div>"
      ],
      "text/plain": [
       "     0    1    2    3    4    5    6    7    8\n",
       "0  3.0  0.0  5.0  0.0  0.0  0.0  0.0  2.0  0.0\n",
       "1  3.0  1.0  3.0  0.0  0.0  0.0  0.0  2.0  0.0\n",
       "2  2.0  2.0  4.0  0.0  0.0  2.0  0.0  4.0  0.0\n",
       "3  2.0  2.0  6.0  6.0  1.0  1.0  1.0  4.0  1.0\n",
       "4  3.0  2.0  4.0  0.0  0.0  0.0  1.0  2.0  0.0"
      ]
     },
     "execution_count": 120,
     "metadata": {},
     "output_type": "execute_result"
    }
   ],
   "source": [
    "pd.DataFrame(fs.transform(X_test)).head()"
   ]
  },
  {
   "cell_type": "code",
   "execution_count": 121,
   "metadata": {},
   "outputs": [
    {
     "name": "stdout",
     "output_type": "stream",
     "text": [
      "Feature 0: 0.004460\n",
      "Feature 1: 0.043274\n",
      "Feature 2: 4.807863\n",
      "Feature 3: 61.981838\n",
      "Feature 4: 10.479021\n",
      "Feature 5: 6.011364\n",
      "Feature 6: 0.294110\n",
      "Feature 7: 1.365009\n",
      "Feature 8: 9.455277\n"
     ]
    }
   ],
   "source": [
    "for i in range(len(fs.scores_)):\n",
    "    print('Feature %d: %f' % (i, fs.scores_[i]))"
   ]
  },
  {
   "cell_type": "code",
   "execution_count": 122,
   "metadata": {},
   "outputs": [
    {
     "data": {
      "image/png": "[encoded data removed]",
      "text/plain": [
       "<Figure size 432x288 with 1 Axes>"
      ]
     },
     "metadata": {
      "needs_background": "light"
     },
     "output_type": "display_data"
    }
   ],
   "source": [
    "plt.bar([i for i in range(len(fs.scores_))], fs.scores_)\n",
    "plt.show()"
   ]
  },
  {
   "cell_type": "markdown",
   "metadata": {},
   "source": [
    "#### **`Case:3.1`**\n",
    "##### **With Mutual Information Scoring Function**"
   ]
  },
  {
   "cell_type": "code",
   "execution_count": 123,
   "metadata": {},
   "outputs": [],
   "source": [
    "fs = SelectKBest(score_func=mutual_info_classif,k='all')"
   ]
  },
  {
   "cell_type": "code",
   "execution_count": 124,
   "metadata": {},
   "outputs": [
    {
     "data": {
      "text/plain": [
       "SelectKBest(k='all',\n",
       "            score_func=<function mutual_info_classif at 0x0000017B9A35E268>)"
      ]
     },
     "execution_count": 124,
     "metadata": {},
     "output_type": "execute_result"
    }
   ],
   "source": [
    "fs.fit(X_train,y_train)"
   ]
  },
  {
   "cell_type": "code",
   "execution_count": 125,
   "metadata": {},
   "outputs": [
    {
     "data": {
      "text/html": [
       "<div>\n",
       "<style scoped>\n",
       "    .dataframe tbody tr th:only-of-type {\n",
       "        vertical-align: middle;\n",
       "    }\n",
       "\n",
       "    .dataframe tbody tr th {\n",
       "        vertical-align: top;\n",
       "    }\n",
       "\n",
       "    .dataframe thead th {\n",
       "        text-align: right;\n",
       "    }\n",
       "</style>\n",
       "<table border=\"1\" class=\"dataframe\">\n",
       "  <thead>\n",
       "    <tr style=\"text-align: right;\">\n",
       "      <th></th>\n",
       "      <th>0</th>\n",
       "      <th>1</th>\n",
       "      <th>2</th>\n",
       "      <th>3</th>\n",
       "      <th>4</th>\n",
       "      <th>5</th>\n",
       "      <th>6</th>\n",
       "      <th>7</th>\n",
       "      <th>8</th>\n",
       "    </tr>\n",
       "  </thead>\n",
       "  <tbody>\n",
       "    <tr>\n",
       "      <th>0</th>\n",
       "      <td>3.0</td>\n",
       "      <td>0.0</td>\n",
       "      <td>7.0</td>\n",
       "      <td>0.0</td>\n",
       "      <td>0.0</td>\n",
       "      <td>1.0</td>\n",
       "      <td>0.0</td>\n",
       "      <td>1.0</td>\n",
       "      <td>0.0</td>\n",
       "    </tr>\n",
       "    <tr>\n",
       "      <th>1</th>\n",
       "      <td>2.0</td>\n",
       "      <td>0.0</td>\n",
       "      <td>3.0</td>\n",
       "      <td>0.0</td>\n",
       "      <td>0.0</td>\n",
       "      <td>2.0</td>\n",
       "      <td>0.0</td>\n",
       "      <td>1.0</td>\n",
       "      <td>0.0</td>\n",
       "    </tr>\n",
       "    <tr>\n",
       "      <th>2</th>\n",
       "      <td>3.0</td>\n",
       "      <td>2.0</td>\n",
       "      <td>5.0</td>\n",
       "      <td>0.0</td>\n",
       "      <td>0.0</td>\n",
       "      <td>2.0</td>\n",
       "      <td>0.0</td>\n",
       "      <td>1.0</td>\n",
       "      <td>0.0</td>\n",
       "    </tr>\n",
       "    <tr>\n",
       "      <th>3</th>\n",
       "      <td>3.0</td>\n",
       "      <td>0.0</td>\n",
       "      <td>4.0</td>\n",
       "      <td>0.0</td>\n",
       "      <td>0.0</td>\n",
       "      <td>2.0</td>\n",
       "      <td>0.0</td>\n",
       "      <td>4.0</td>\n",
       "      <td>0.0</td>\n",
       "    </tr>\n",
       "    <tr>\n",
       "      <th>4</th>\n",
       "      <td>2.0</td>\n",
       "      <td>2.0</td>\n",
       "      <td>3.0</td>\n",
       "      <td>0.0</td>\n",
       "      <td>0.0</td>\n",
       "      <td>1.0</td>\n",
       "      <td>0.0</td>\n",
       "      <td>1.0</td>\n",
       "      <td>0.0</td>\n",
       "    </tr>\n",
       "  </tbody>\n",
       "</table>\n",
       "</div>"
      ],
      "text/plain": [
       "     0    1    2    3    4    5    6    7    8\n",
       "0  3.0  0.0  7.0  0.0  0.0  1.0  0.0  1.0  0.0\n",
       "1  2.0  0.0  3.0  0.0  0.0  2.0  0.0  1.0  0.0\n",
       "2  3.0  2.0  5.0  0.0  0.0  2.0  0.0  1.0  0.0\n",
       "3  3.0  0.0  4.0  0.0  0.0  2.0  0.0  4.0  0.0\n",
       "4  2.0  2.0  3.0  0.0  0.0  1.0  0.0  1.0  0.0"
      ]
     },
     "execution_count": 125,
     "metadata": {},
     "output_type": "execute_result"
    }
   ],
   "source": [
    "pd.DataFrame(fs.transform(X_train)).head()"
   ]
  },
  {
   "cell_type": "code",
   "execution_count": 126,
   "metadata": {},
   "outputs": [
    {
     "data": {
      "text/html": [
       "<div>\n",
       "<style scoped>\n",
       "    .dataframe tbody tr th:only-of-type {\n",
       "        vertical-align: middle;\n",
       "    }\n",
       "\n",
       "    .dataframe tbody tr th {\n",
       "        vertical-align: top;\n",
       "    }\n",
       "\n",
       "    .dataframe thead th {\n",
       "        text-align: right;\n",
       "    }\n",
       "</style>\n",
       "<table border=\"1\" class=\"dataframe\">\n",
       "  <thead>\n",
       "    <tr style=\"text-align: right;\">\n",
       "      <th></th>\n",
       "      <th>0</th>\n",
       "      <th>1</th>\n",
       "      <th>2</th>\n",
       "      <th>3</th>\n",
       "      <th>4</th>\n",
       "      <th>5</th>\n",
       "      <th>6</th>\n",
       "      <th>7</th>\n",
       "      <th>8</th>\n",
       "    </tr>\n",
       "  </thead>\n",
       "  <tbody>\n",
       "    <tr>\n",
       "      <th>0</th>\n",
       "      <td>3.0</td>\n",
       "      <td>0.0</td>\n",
       "      <td>5.0</td>\n",
       "      <td>0.0</td>\n",
       "      <td>0.0</td>\n",
       "      <td>0.0</td>\n",
       "      <td>0.0</td>\n",
       "      <td>2.0</td>\n",
       "      <td>0.0</td>\n",
       "    </tr>\n",
       "    <tr>\n",
       "      <th>1</th>\n",
       "      <td>3.0</td>\n",
       "      <td>1.0</td>\n",
       "      <td>3.0</td>\n",
       "      <td>0.0</td>\n",
       "      <td>0.0</td>\n",
       "      <td>0.0</td>\n",
       "      <td>0.0</td>\n",
       "      <td>2.0</td>\n",
       "      <td>0.0</td>\n",
       "    </tr>\n",
       "    <tr>\n",
       "      <th>2</th>\n",
       "      <td>2.0</td>\n",
       "      <td>2.0</td>\n",
       "      <td>4.0</td>\n",
       "      <td>0.0</td>\n",
       "      <td>0.0</td>\n",
       "      <td>2.0</td>\n",
       "      <td>0.0</td>\n",
       "      <td>4.0</td>\n",
       "      <td>0.0</td>\n",
       "    </tr>\n",
       "    <tr>\n",
       "      <th>3</th>\n",
       "      <td>2.0</td>\n",
       "      <td>2.0</td>\n",
       "      <td>6.0</td>\n",
       "      <td>6.0</td>\n",
       "      <td>1.0</td>\n",
       "      <td>1.0</td>\n",
       "      <td>1.0</td>\n",
       "      <td>4.0</td>\n",
       "      <td>1.0</td>\n",
       "    </tr>\n",
       "    <tr>\n",
       "      <th>4</th>\n",
       "      <td>3.0</td>\n",
       "      <td>2.0</td>\n",
       "      <td>4.0</td>\n",
       "      <td>0.0</td>\n",
       "      <td>0.0</td>\n",
       "      <td>0.0</td>\n",
       "      <td>1.0</td>\n",
       "      <td>2.0</td>\n",
       "      <td>0.0</td>\n",
       "    </tr>\n",
       "  </tbody>\n",
       "</table>\n",
       "</div>"
      ],
      "text/plain": [
       "     0    1    2    3    4    5    6    7    8\n",
       "0  3.0  0.0  5.0  0.0  0.0  0.0  0.0  2.0  0.0\n",
       "1  3.0  1.0  3.0  0.0  0.0  0.0  0.0  2.0  0.0\n",
       "2  2.0  2.0  4.0  0.0  0.0  2.0  0.0  4.0  0.0\n",
       "3  2.0  2.0  6.0  6.0  1.0  1.0  1.0  4.0  1.0\n",
       "4  3.0  2.0  4.0  0.0  0.0  0.0  1.0  2.0  0.0"
      ]
     },
     "execution_count": 126,
     "metadata": {},
     "output_type": "execute_result"
    }
   ],
   "source": [
    "pd.DataFrame(fs.transform(X_test)).head()"
   ]
  },
  {
   "cell_type": "code",
   "execution_count": 127,
   "metadata": {},
   "outputs": [
    {
     "name": "stdout",
     "output_type": "stream",
     "text": [
      "Feature 0: 0.076694\n",
      "Feature 1: 0.000000\n",
      "Feature 2: 0.013526\n",
      "Feature 3: 0.037180\n",
      "Feature 4: 0.106637\n",
      "Feature 5: 0.109097\n",
      "Feature 6: 0.000000\n",
      "Feature 7: 0.000000\n",
      "Feature 8: 0.052100\n"
     ]
    }
   ],
   "source": [
    "for i in range(len(fs.scores_)):\n",
    "    print('Feature %d: %f' % (i, fs.scores_[i]))"
   ]
  },
  {
   "cell_type": "code",
   "execution_count": 128,
   "metadata": {},
   "outputs": [
    {
     "data": {
      "image/png": "[encoded data removed]",
      "text/plain": [
       "<Figure size 432x288 with 1 Axes>"
      ]
     },
     "metadata": {
      "needs_background": "light"
     },
     "output_type": "display_data"
    }
   ],
   "source": [
    "plt.bar([i for i in range(len(fs.scores_))], fs.scores_)\n",
    "plt.show()"
   ]
  },
  {
   "cell_type": "code",
   "execution_count": 130,
   "metadata": {},
   "outputs": [
    {
     "data": {
      "text/plain": [
       "array([[3., 0., 7., ..., 0., 1., 0.],\n",
       "       [2., 0., 3., ..., 0., 1., 0.],\n",
       "       [3., 2., 5., ..., 0., 1., 0.],\n",
       "       ...,\n",
       "       [2., 0., 5., ..., 0., 2., 1.],\n",
       "       [4., 0., 4., ..., 1., 4., 0.],\n",
       "       [3., 2., 4., ..., 1., 1., 1.]])"
      ]
     },
     "execution_count": 130,
     "metadata": {},
     "output_type": "execute_result"
    }
   ],
   "source": [
    "X_train"
   ]
  },
  {
   "cell_type": "markdown",
   "metadata": {},
   "source": [
    "### **Feature_Forward_Selection**"
   ]
  },
  {
   "cell_type": "code",
   "execution_count": 131,
   "metadata": {},
   "outputs": [],
   "source": [
    "from mlxtend.feature_selection import SequentialFeatureSelector as SFS\n",
    "from sklearn.tree import DecisionTreeClassifier"
   ]
  },
  {
   "cell_type": "code",
   "execution_count": 141,
   "metadata": {},
   "outputs": [
    {
     "data": {
      "text/plain": [
       "((185, 9), (185,))"
      ]
     },
     "execution_count": 141,
     "metadata": {},
     "output_type": "execute_result"
    }
   ],
   "source": [
    "X_train.shape, y_train.shape"
   ]
  },
  {
   "cell_type": "code",
   "execution_count": 132,
   "metadata": {},
   "outputs": [],
   "source": [
    "dt = DecisionTreeClassifier()"
   ]
  },
  {
   "cell_type": "code",
   "execution_count": 134,
   "metadata": {},
   "outputs": [],
   "source": [
    "ffs = SFS(estimator=dt,k_features=4,verbose=1,scoring='accuracy',cv=10)"
   ]
  },
  {
   "cell_type": "code",
   "execution_count": 135,
   "metadata": {},
   "outputs": [
    {
     "name": "stderr",
     "output_type": "stream",
     "text": [
      "[Parallel(n_jobs=1)]: Using backend SequentialBackend with 1 concurrent workers.\n",
      "[Parallel(n_jobs=1)]: Done   9 out of   9 | elapsed:    0.3s finished\n",
      "Features: 1/4[Parallel(n_jobs=1)]: Using backend SequentialBackend with 1 concurrent workers.\n",
      "[Parallel(n_jobs=1)]: Done   8 out of   8 | elapsed:    0.4s finished\n",
      "Features: 2/4[Parallel(n_jobs=1)]: Using backend SequentialBackend with 1 concurrent workers.\n",
      "[Parallel(n_jobs=1)]: Done   7 out of   7 | elapsed:    0.2s finished\n",
      "Features: 3/4[Parallel(n_jobs=1)]: Using backend SequentialBackend with 1 concurrent workers.\n",
      "[Parallel(n_jobs=1)]: Done   6 out of   6 | elapsed:    0.2s finished\n",
      "Features: 4/4"
     ]
    },
    {
     "data": {
      "text/plain": [
       "SequentialFeatureSelector(cv=10, estimator=DecisionTreeClassifier(),\n",
       "                          k_features=4, scoring='accuracy', verbose=1)"
      ]
     },
     "execution_count": 135,
     "metadata": {},
     "output_type": "execute_result"
    }
   ],
   "source": [
    "ffs.fit(X_train,y_train)"
   ]
  },
  {
   "cell_type": "code",
   "execution_count": 142,
   "metadata": {},
   "outputs": [
    {
     "data": {
      "text/plain": [
       "(('0', '3', '4', '5'),\n",
       " (0, 3, 4, 5),\n",
       " 4,\n",
       " 0.7342105263157895,\n",
       " {1: {'feature_idx': (0,),\n",
       "   'cv_scores': array([0.68421053, 0.68421053, 0.68421053, 0.68421053, 0.68421053,\n",
       "          0.72222222, 0.72222222, 0.72222222, 0.72222222, 0.72222222]),\n",
       "   'avg_score': 0.703216374269006,\n",
       "   'feature_names': ('0',)},\n",
       "  2: {'feature_idx': (0, 4),\n",
       "   'cv_scores': array([0.73684211, 0.68421053, 0.68421053, 0.78947368, 0.68421053,\n",
       "          0.72222222, 0.77777778, 0.61111111, 0.77777778, 0.66666667]),\n",
       "   'avg_score': 0.7134502923976609,\n",
       "   'feature_names': ('0', '4')},\n",
       "  3: {'feature_idx': (0, 4, 5),\n",
       "   'cv_scores': array([0.73684211, 0.57894737, 0.78947368, 0.78947368, 0.68421053,\n",
       "          0.61111111, 0.77777778, 0.83333333, 0.83333333, 0.61111111]),\n",
       "   'avg_score': 0.724561403508772,\n",
       "   'feature_names': ('0', '4', '5')},\n",
       "  4: {'feature_idx': (0, 3, 4, 5),\n",
       "   'cv_scores': array([0.78947368, 0.63157895, 0.84210526, 0.78947368, 0.78947368,\n",
       "          0.61111111, 0.77777778, 0.77777778, 0.72222222, 0.61111111]),\n",
       "   'avg_score': 0.7342105263157895,\n",
       "   'feature_names': ('0', '3', '4', '5')}})"
      ]
     },
     "execution_count": 142,
     "metadata": {},
     "output_type": "execute_result"
    }
   ],
   "source": [
    "ffs.k_feature_names_, ffs.k_feature_idx_, ffs.k_features, ffs.k_score_, ffs.subsets_"
   ]
  },
  {
   "cell_type": "code",
   "execution_count": 143,
   "metadata": {},
   "outputs": [
    {
     "data": {
      "text/plain": [
       "{1: {'feature_idx': (0,),\n",
       "  'cv_scores': array([0.68421053, 0.68421053, 0.68421053, 0.68421053, 0.68421053,\n",
       "         0.72222222, 0.72222222, 0.72222222, 0.72222222, 0.72222222]),\n",
       "  'avg_score': 0.703216374269006,\n",
       "  'feature_names': ('0',),\n",
       "  'ci_bound': 0.014115889413033223,\n",
       "  'std_dev': 0.01900584795321636,\n",
       "  'std_err': 0.006335282651072119},\n",
       " 2: {'feature_idx': (0, 4),\n",
       "  'cv_scores': array([0.73684211, 0.68421053, 0.68421053, 0.78947368, 0.68421053,\n",
       "         0.72222222, 0.77777778, 0.61111111, 0.77777778, 0.66666667]),\n",
       "  'avg_score': 0.7134502923976609,\n",
       "  'feature_names': ('0', '4'),\n",
       "  'ci_bound': 0.0406167147817032,\n",
       "  'std_dev': 0.054686961828098415,\n",
       "  'std_err': 0.018228987276032803},\n",
       " 3: {'feature_idx': (0, 4, 5),\n",
       "  'cv_scores': array([0.73684211, 0.57894737, 0.78947368, 0.78947368, 0.68421053,\n",
       "         0.61111111, 0.77777778, 0.83333333, 0.83333333, 0.61111111]),\n",
       "  'avg_score': 0.724561403508772,\n",
       "  'feature_names': ('0', '4', '5'),\n",
       "  'ci_bound': 0.06792728161477092,\n",
       "  'std_dev': 0.09145832391217575,\n",
       "  'std_err': 0.03048610797072525},\n",
       " 4: {'feature_idx': (0, 3, 4, 5),\n",
       "  'cv_scores': array([0.78947368, 0.63157895, 0.84210526, 0.78947368, 0.78947368,\n",
       "         0.61111111, 0.77777778, 0.77777778, 0.72222222, 0.61111111]),\n",
       "  'avg_score': 0.7342105263157895,\n",
       "  'feature_names': ('0', '3', '4', '5'),\n",
       "  'ci_bound': 0.060147565158498284,\n",
       "  'std_dev': 0.08098359548659505,\n",
       "  'std_err': 0.026994531828865014}}"
      ]
     },
     "execution_count": 143,
     "metadata": {},
     "output_type": "execute_result"
    }
   ],
   "source": [
    "ffs.get_metric_dict()"
   ]
  },
  {
   "cell_type": "code",
   "execution_count": 148,
   "metadata": {},
   "outputs": [
    {
     "data": {
      "image/png": "[encoded data removed]",
      "text/plain": [
       "<Figure size 432x288 with 1 Axes>"
      ]
     },
     "metadata": {
      "needs_background": "light"
     },
     "output_type": "display_data"
    }
   ],
   "source": [
    "from mlxtend.plotting import plot_sequential_feature_selection as plot_sfs\n",
    "import matplotlib.pyplot as plt\n",
    "fig1 = plot_sfs(ffs.get_metric_dict(), kind='std_dev')\n",
    "plt.title('Sequential Forward Selection (w. StdErr)')\n",
    "plt.grid()\n",
    "plt.show()"
   ]
  },
  {
   "cell_type": "code",
   "execution_count": null,
   "metadata": {},
   "outputs": [],
   "source": []
  },
  {
   "cell_type": "code",
   "execution_count": null,
   "metadata": {},
   "outputs": [],
   "source": []
  },
  {
   "cell_type": "markdown",
   "metadata": {},
   "source": [
    "### **Backward_Elimination**"
   ]
  },
  {
   "cell_type": "code",
   "execution_count": 149,
   "metadata": {},
   "outputs": [],
   "source": [
    "from mlxtend.feature_selection import SequentialFeatureSelector as SFS\n",
    "from sklearn.tree import DecisionTreeClassifier"
   ]
  },
  {
   "cell_type": "code",
   "execution_count": 150,
   "metadata": {},
   "outputs": [
    {
     "data": {
      "text/plain": [
       "((185, 9), (185,))"
      ]
     },
     "execution_count": 150,
     "metadata": {},
     "output_type": "execute_result"
    }
   ],
   "source": [
    "X_train.shape, y_train.shape"
   ]
  },
  {
   "cell_type": "code",
   "execution_count": 151,
   "metadata": {},
   "outputs": [],
   "source": [
    "dt = DecisionTreeClassifier()"
   ]
  },
  {
   "cell_type": "code",
   "execution_count": 152,
   "metadata": {},
   "outputs": [],
   "source": [
    "be = SFS(estimator=dt,k_features=4,verbose=1,scoring='accuracy',cv=10,forward=False,floating=False)"
   ]
  },
  {
   "cell_type": "code",
   "execution_count": 153,
   "metadata": {},
   "outputs": [
    {
     "name": "stderr",
     "output_type": "stream",
     "text": [
      "[Parallel(n_jobs=1)]: Using backend SequentialBackend with 1 concurrent workers.\n",
      "[Parallel(n_jobs=1)]: Done   9 out of   9 | elapsed:    0.5s finished\n",
      "Features: 8/4[Parallel(n_jobs=1)]: Using backend SequentialBackend with 1 concurrent workers.\n",
      "[Parallel(n_jobs=1)]: Done   8 out of   8 | elapsed:    0.4s finished\n",
      "Features: 7/4[Parallel(n_jobs=1)]: Using backend SequentialBackend with 1 concurrent workers.\n",
      "[Parallel(n_jobs=1)]: Done   7 out of   7 | elapsed:    0.5s finished\n",
      "Features: 6/4[Parallel(n_jobs=1)]: Using backend SequentialBackend with 1 concurrent workers.\n",
      "[Parallel(n_jobs=1)]: Done   6 out of   6 | elapsed:    0.2s finished\n",
      "Features: 5/4[Parallel(n_jobs=1)]: Using backend SequentialBackend with 1 concurrent workers.\n",
      "[Parallel(n_jobs=1)]: Done   5 out of   5 | elapsed:    0.2s finished\n",
      "Features: 4/4"
     ]
    },
    {
     "data": {
      "text/plain": [
       "SequentialFeatureSelector(cv=10, estimator=DecisionTreeClassifier(),\n",
       "                          forward=False, k_features=4, scoring='accuracy',\n",
       "                          verbose=1)"
      ]
     },
     "execution_count": 153,
     "metadata": {},
     "output_type": "execute_result"
    }
   ],
   "source": [
    "be.fit(X_train,y_train)"
   ]
  },
  {
   "cell_type": "code",
   "execution_count": 154,
   "metadata": {},
   "outputs": [
    {
     "data": {
      "text/plain": [
       "(('0', '1', '4', '6'),\n",
       " (0, 1, 4, 6),\n",
       " 4,\n",
       " 0.7508771929824561,\n",
       " {9: {'feature_idx': (0, 1, 2, 3, 4, 5, 6, 7, 8),\n",
       "   'cv_scores': array([0.57894737, 0.42105263, 0.68421053, 0.52631579, 0.63157895,\n",
       "          0.5       , 0.55555556, 0.55555556, 0.61111111, 0.38888889]),\n",
       "   'avg_score': 0.5453216374269007,\n",
       "   'feature_names': ('0', '1', '2', '3', '4', '5', '6', '7', '8')},\n",
       "  8: {'feature_idx': (0, 1, 2, 3, 4, 5, 6, 8),\n",
       "   'cv_scores': array([0.78947368, 0.36842105, 0.78947368, 0.63157895, 0.73684211,\n",
       "          0.5       , 0.72222222, 0.61111111, 0.66666667, 0.66666667]),\n",
       "   'avg_score': 0.6482456140350878,\n",
       "   'feature_names': ('0', '1', '2', '3', '4', '5', '6', '8')},\n",
       "  7: {'feature_idx': (0, 1, 2, 3, 4, 6, 8),\n",
       "   'cv_scores': array([0.84210526, 0.73684211, 0.84210526, 0.68421053, 0.78947368,\n",
       "          0.61111111, 0.66666667, 0.66666667, 0.77777778, 0.72222222]),\n",
       "   'avg_score': 0.7339181286549707,\n",
       "   'feature_names': ('0', '1', '2', '3', '4', '6', '8')},\n",
       "  6: {'feature_idx': (0, 1, 2, 4, 6, 8),\n",
       "   'cv_scores': array([0.73684211, 0.63157895, 0.84210526, 0.73684211, 0.78947368,\n",
       "          0.61111111, 0.61111111, 0.61111111, 0.83333333, 0.72222222]),\n",
       "   'avg_score': 0.7125730994152046,\n",
       "   'feature_names': ('0', '1', '2', '4', '6', '8')},\n",
       "  5: {'feature_idx': (0, 1, 4, 6, 8),\n",
       "   'cv_scores': array([0.78947368, 0.73684211, 0.78947368, 0.78947368, 0.73684211,\n",
       "          0.77777778, 0.77777778, 0.66666667, 0.83333333, 0.5       ]),\n",
       "   'avg_score': 0.739766081871345,\n",
       "   'feature_names': ('0', '1', '4', '6', '8')},\n",
       "  4: {'feature_idx': (0, 1, 4, 6),\n",
       "   'cv_scores': array([0.84210526, 0.73684211, 0.78947368, 0.78947368, 0.68421053,\n",
       "          0.72222222, 0.72222222, 0.72222222, 0.88888889, 0.61111111]),\n",
       "   'avg_score': 0.7508771929824561,\n",
       "   'feature_names': ('0', '1', '4', '6')}})"
      ]
     },
     "execution_count": 154,
     "metadata": {},
     "output_type": "execute_result"
    }
   ],
   "source": [
    "be.k_feature_names_, be.k_feature_idx_, be.k_features, be.k_score_, be.subsets_"
   ]
  },
  {
   "cell_type": "code",
   "execution_count": 155,
   "metadata": {},
   "outputs": [
    {
     "data": {
      "text/plain": [
       "{9: {'feature_idx': (0, 1, 2, 3, 4, 5, 6, 7, 8),\n",
       "  'cv_scores': array([0.57894737, 0.42105263, 0.68421053, 0.52631579, 0.63157895,\n",
       "         0.5       , 0.55555556, 0.55555556, 0.61111111, 0.38888889]),\n",
       "  'avg_score': 0.5453216374269007,\n",
       "  'feature_names': ('0', '1', '2', '3', '4', '5', '6', '7', '8'),\n",
       "  'ci_bound': 0.06420413943845679,\n",
       "  'std_dev': 0.08644542872429625,\n",
       "  'std_err': 0.02881514290809875},\n",
       " 8: {'feature_idx': (0, 1, 2, 3, 4, 5, 6, 8),\n",
       "  'cv_scores': array([0.78947368, 0.36842105, 0.78947368, 0.63157895, 0.73684211,\n",
       "         0.5       , 0.72222222, 0.61111111, 0.66666667, 0.66666667]),\n",
       "  'avg_score': 0.6482456140350878,\n",
       "  'feature_names': ('0', '1', '2', '3', '4', '5', '6', '8'),\n",
       "  'ci_bound': 0.09271324142647652,\n",
       "  'std_dev': 0.12483051674905507,\n",
       "  'std_err': 0.04161017224968502},\n",
       " 7: {'feature_idx': (0, 1, 2, 3, 4, 6, 8),\n",
       "  'cv_scores': array([0.84210526, 0.73684211, 0.84210526, 0.68421053, 0.78947368,\n",
       "         0.61111111, 0.66666667, 0.66666667, 0.77777778, 0.72222222]),\n",
       "  'avg_score': 0.7339181286549707,\n",
       "  'feature_names': ('0', '1', '2', '3', '4', '6', '8'),\n",
       "  'ci_bound': 0.05516226242958802,\n",
       "  'std_dev': 0.07427130815605389,\n",
       "  'std_err': 0.024757102718684625},\n",
       " 6: {'feature_idx': (0, 1, 2, 4, 6, 8),\n",
       "  'cv_scores': array([0.73684211, 0.63157895, 0.84210526, 0.73684211, 0.78947368,\n",
       "         0.61111111, 0.61111111, 0.61111111, 0.83333333, 0.72222222]),\n",
       "  'avg_score': 0.7125730994152046,\n",
       "  'feature_names': ('0', '1', '2', '4', '6', '8'),\n",
       "  'ci_bound': 0.06474397457008324,\n",
       "  'std_dev': 0.087172270946652,\n",
       "  'std_err': 0.029057423648883998},\n",
       " 5: {'feature_idx': (0, 1, 4, 6, 8),\n",
       "  'cv_scores': array([0.78947368, 0.73684211, 0.78947368, 0.78947368, 0.73684211,\n",
       "         0.77777778, 0.77777778, 0.66666667, 0.83333333, 0.5       ]),\n",
       "  'avg_score': 0.739766081871345,\n",
       "  'feature_names': ('0', '1', '4', '6', '8'),\n",
       "  'ci_bound': 0.0672167709236587,\n",
       "  'std_dev': 0.09050168152363837,\n",
       "  'std_err': 0.030167227174546125},\n",
       " 4: {'feature_idx': (0, 1, 4, 6),\n",
       "  'cv_scores': array([0.84210526, 0.73684211, 0.78947368, 0.78947368, 0.68421053,\n",
       "         0.72222222, 0.72222222, 0.72222222, 0.88888889, 0.61111111]),\n",
       "  'avg_score': 0.7508771929824561,\n",
       "  'feature_names': ('0', '1', '4', '6'),\n",
       "  'ci_bound': 0.05606792901564542,\n",
       "  'std_dev': 0.07549071140633881,\n",
       "  'std_err': 0.025163570468779605}}"
      ]
     },
     "execution_count": 155,
     "metadata": {},
     "output_type": "execute_result"
    }
   ],
   "source": [
    "be.get_metric_dict()"
   ]
  },
  {
   "cell_type": "code",
   "execution_count": 157,
   "metadata": {},
   "outputs": [
    {
     "data": {
      "image/png": "[encoded data removed]",
      "text/plain": [
       "<Figure size 432x288 with 1 Axes>"
      ]
     },
     "metadata": {
      "needs_background": "light"
     },
     "output_type": "display_data"
    }
   ],
   "source": [
    "from mlxtend.plotting import plot_sequential_feature_selection as plot_sfs\n",
    "import matplotlib.pyplot as plt\n",
    "fig1 = plot_sfs(be.get_metric_dict(), kind='std_dev')\n",
    "plt.title('Backward Elimination (w. StdErr)')\n",
    "plt.grid()\n",
    "plt.show()"
   ]
  },
  {
   "cell_type": "code",
   "execution_count": null,
   "metadata": {},
   "outputs": [],
   "source": []
  },
  {
   "cell_type": "code",
   "execution_count": null,
   "metadata": {},
   "outputs": [],
   "source": []
  },
  {
   "cell_type": "markdown",
   "metadata": {},
   "source": [
    "### **Bi-Directional_Elimination**\n",
    "##### **Also known as Step-wise Selection**"
   ]
  },
  {
   "cell_type": "code",
   "execution_count": 158,
   "metadata": {},
   "outputs": [],
   "source": [
    "from mlxtend.feature_selection import SequentialFeatureSelector as SFS\n",
    "from sklearn.tree import DecisionTreeClassifier"
   ]
  },
  {
   "cell_type": "code",
   "execution_count": 159,
   "metadata": {},
   "outputs": [
    {
     "data": {
      "text/plain": [
       "((185, 9), (185,))"
      ]
     },
     "execution_count": 159,
     "metadata": {},
     "output_type": "execute_result"
    }
   ],
   "source": [
    "X_train.shape, y_train.shape"
   ]
  },
  {
   "cell_type": "code",
   "execution_count": 160,
   "metadata": {},
   "outputs": [],
   "source": [
    "dt = DecisionTreeClassifier()"
   ]
  },
  {
   "cell_type": "code",
   "execution_count": 162,
   "metadata": {},
   "outputs": [],
   "source": [
    "bde = SFS(estimator=dt,k_features=4,verbose=1,scoring='accuracy',cv=10,forward=True,floating=True)"
   ]
  },
  {
   "cell_type": "code",
   "execution_count": 163,
   "metadata": {},
   "outputs": [
    {
     "name": "stderr",
     "output_type": "stream",
     "text": [
      "[Parallel(n_jobs=1)]: Using backend SequentialBackend with 1 concurrent workers.\n",
      "[Parallel(n_jobs=1)]: Done   9 out of   9 | elapsed:    0.4s finished\n",
      "Features: 1/4[Parallel(n_jobs=1)]: Using backend SequentialBackend with 1 concurrent workers.\n",
      "[Parallel(n_jobs=1)]: Done   8 out of   8 | elapsed:    0.4s finished\n",
      "[Parallel(n_jobs=1)]: Using backend SequentialBackend with 1 concurrent workers.\n",
      "[Parallel(n_jobs=1)]: Done   1 out of   1 | elapsed:    0.0s finished\n",
      "Features: 2/4[Parallel(n_jobs=1)]: Using backend SequentialBackend with 1 concurrent workers.\n",
      "[Parallel(n_jobs=1)]: Done   7 out of   7 | elapsed:    0.4s finished\n",
      "[Parallel(n_jobs=1)]: Using backend SequentialBackend with 1 concurrent workers.\n",
      "[Parallel(n_jobs=1)]: Done   2 out of   2 | elapsed:    0.0s finished\n",
      "[Parallel(n_jobs=1)]: Using backend SequentialBackend with 1 concurrent workers.\n",
      "[Parallel(n_jobs=1)]: Done   1 out of   1 | elapsed:    0.0s finished\n",
      "Features: 2/4[Parallel(n_jobs=1)]: Using backend SequentialBackend with 1 concurrent workers.\n",
      "[Parallel(n_jobs=1)]: Done   7 out of   7 | elapsed:    0.3s finished\n",
      "[Parallel(n_jobs=1)]: Using backend SequentialBackend with 1 concurrent workers.\n",
      "[Parallel(n_jobs=1)]: Done   2 out of   2 | elapsed:    0.0s finished\n",
      "Features: 3/4[Parallel(n_jobs=1)]: Using backend SequentialBackend with 1 concurrent workers.\n",
      "[Parallel(n_jobs=1)]: Done   6 out of   6 | elapsed:    0.4s finished\n",
      "[Parallel(n_jobs=1)]: Using backend SequentialBackend with 1 concurrent workers.\n",
      "[Parallel(n_jobs=1)]: Done   3 out of   3 | elapsed:    0.1s finished\n",
      "Features: 4/4"
     ]
    },
    {
     "data": {
      "text/plain": [
       "SequentialFeatureSelector(cv=10, estimator=DecisionTreeClassifier(),\n",
       "                          floating=True, k_features=4, scoring='accuracy',\n",
       "                          verbose=1)"
      ]
     },
     "execution_count": 163,
     "metadata": {},
     "output_type": "execute_result"
    }
   ],
   "source": [
    "bde.fit(X_train,y_train)"
   ]
  },
  {
   "cell_type": "code",
   "execution_count": 164,
   "metadata": {},
   "outputs": [
    {
     "data": {
      "text/plain": [
       "(('1', '3', '4', '5'),\n",
       " (1, 3, 4, 5),\n",
       " 4,\n",
       " 0.7403508771929824,\n",
       " {1: {'feature_idx': (0,),\n",
       "   'cv_scores': array([0.68421053, 0.68421053, 0.68421053, 0.68421053, 0.68421053,\n",
       "          0.72222222, 0.72222222, 0.72222222, 0.72222222, 0.72222222]),\n",
       "   'avg_score': 0.703216374269006,\n",
       "   'feature_names': ('0',)},\n",
       "  2: {'feature_idx': (4, 5),\n",
       "   'cv_scores': array([0.84210526, 0.68421053, 0.78947368, 0.84210526, 0.63157895,\n",
       "          0.66666667, 0.72222222, 0.83333333, 0.83333333, 0.66666667]),\n",
       "   'avg_score': 0.7511695906432749,\n",
       "   'feature_names': ('4', '5')},\n",
       "  3: {'feature_idx': (3, 4, 5),\n",
       "   'cv_scores': array([0.89473684, 0.73684211, 0.84210526, 0.84210526, 0.73684211,\n",
       "          0.66666667, 0.77777778, 0.83333333, 0.66666667, 0.66666667]),\n",
       "   'avg_score': 0.766374269005848,\n",
       "   'feature_names': ('3', '4', '5')},\n",
       "  4: {'feature_idx': (1, 3, 4, 5),\n",
       "   'cv_scores': array([0.89473684, 0.68421053, 0.84210526, 0.63157895, 0.68421053,\n",
       "          0.66666667, 0.77777778, 0.72222222, 0.77777778, 0.72222222]),\n",
       "   'avg_score': 0.7403508771929824,\n",
       "   'feature_names': ('1', '3', '4', '5')}})"
      ]
     },
     "execution_count": 164,
     "metadata": {},
     "output_type": "execute_result"
    }
   ],
   "source": [
    "bde.k_feature_names_, bde.k_feature_idx_, bde.k_features, bde.k_score_, bde.subsets_"
   ]
  },
  {
   "cell_type": "code",
   "execution_count": 165,
   "metadata": {},
   "outputs": [
    {
     "data": {
      "text/plain": [
       "{1: {'feature_idx': (0,),\n",
       "  'cv_scores': array([0.68421053, 0.68421053, 0.68421053, 0.68421053, 0.68421053,\n",
       "         0.72222222, 0.72222222, 0.72222222, 0.72222222, 0.72222222]),\n",
       "  'avg_score': 0.703216374269006,\n",
       "  'feature_names': ('0',),\n",
       "  'ci_bound': 0.014115889413033223,\n",
       "  'std_dev': 0.01900584795321636,\n",
       "  'std_err': 0.006335282651072119},\n",
       " 2: {'feature_idx': (4, 5),\n",
       "  'cv_scores': array([0.84210526, 0.68421053, 0.78947368, 0.84210526, 0.63157895,\n",
       "         0.66666667, 0.72222222, 0.83333333, 0.83333333, 0.66666667]),\n",
       "  'avg_score': 0.7511695906432749,\n",
       "  'feature_names': ('4', '5'),\n",
       "  'ci_bound': 0.06006910393311974,\n",
       "  'std_dev': 0.08087795410076846,\n",
       "  'std_err': 0.026959318033589485},\n",
       " 3: {'feature_idx': (3, 4, 5),\n",
       "  'cv_scores': array([0.89473684, 0.73684211, 0.84210526, 0.84210526, 0.73684211,\n",
       "         0.66666667, 0.77777778, 0.83333333, 0.66666667, 0.66666667]),\n",
       "  'avg_score': 0.766374269005848,\n",
       "  'feature_names': ('3', '4', '5'),\n",
       "  'ci_bound': 0.05947734563318215,\n",
       "  'std_dev': 0.08008120173578583,\n",
       "  'std_err': 0.026693733911928606},\n",
       " 4: {'feature_idx': (1, 3, 4, 5),\n",
       "  'cv_scores': array([0.89473684, 0.68421053, 0.84210526, 0.63157895, 0.68421053,\n",
       "         0.66666667, 0.77777778, 0.72222222, 0.77777778, 0.72222222]),\n",
       "  'avg_score': 0.7403508771929824,\n",
       "  'feature_names': ('1', '3', '4', '5'),\n",
       "  'ci_bound': 0.05810844722714184,\n",
       "  'std_dev': 0.07823809612569363,\n",
       "  'std_err': 0.02607936537523121}}"
      ]
     },
     "execution_count": 165,
     "metadata": {},
     "output_type": "execute_result"
    }
   ],
   "source": [
    "bde.get_metric_dict()"
   ]
  },
  {
   "cell_type": "code",
   "execution_count": 166,
   "metadata": {},
   "outputs": [
    {
     "data": {
      "image/png": "[encoded data removed]",
      "text/plain": [
       "<Figure size 432x288 with 1 Axes>"
      ]
     },
     "metadata": {
      "needs_background": "light"
     },
     "output_type": "display_data"
    }
   ],
   "source": [
    "from mlxtend.plotting import plot_sequential_feature_selection as plot_sfs\n",
    "import matplotlib.pyplot as plt\n",
    "fig1 = plot_sfs(bde.get_metric_dict(), kind='std_dev')\n",
    "plt.title('Bi-Directional Elimination (w. StdErr)')\n",
    "plt.grid()\n",
    "plt.show()"
   ]
  },
  {
   "cell_type": "code",
   "execution_count": null,
   "metadata": {},
   "outputs": [],
   "source": []
  }
 ],
 "metadata": {
  "kernelspec": {
   "display_name": "Python 3",
   "language": "python",
   "name": "python3"
  },
  "language_info": {
   "codemirror_mode": {
    "name": "ipython",
    "version": 3
   },
   "file_extension": ".py",
   "mimetype": "text/x-python",
   "name": "python",
   "nbconvert_exporter": "python",
   "pygments_lexer": "ipython3",
   "version": "3.6.8"
  }
 },
 "nbformat": 4,
 "nbformat_minor": 4
}
