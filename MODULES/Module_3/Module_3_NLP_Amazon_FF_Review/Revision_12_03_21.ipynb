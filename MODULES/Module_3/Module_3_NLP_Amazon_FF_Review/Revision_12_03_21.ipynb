{
 "cells": [
  {
   "cell_type": "code",
   "execution_count": 1,
   "metadata": {},
   "outputs": [],
   "source": [
    "import string\n",
    "import numpy as np\n",
    "import pandas as pd\n",
    "from sklearn.feature_extraction.text import ENGLISH_STOP_WORDS\n",
    "from sklearn.feature_extraction.text import CountVectorizer, TfidfVectorizer, TfidfTransformer"
   ]
  },
  {
   "cell_type": "code",
   "execution_count": 2,
   "metadata": {},
   "outputs": [
    {
     "name": "stdout",
     "output_type": "stream",
     "text": [
      "['!', '\"', '#', '$', '%', '&', \"'\", '(', ')', '*', '+', ',', '-', '.', '/', ':', ';', '<', '=', '>', '?', '@', '[', '\\\\', ']', '^', '_', '`', '{', '|', '}', '~']\n"
     ]
    }
   ],
   "source": [
    "punct = [word for word in string.punctuation]\n",
    "print(punct)"
   ]
  },
  {
   "cell_type": "code",
   "execution_count": 3,
   "metadata": {},
   "outputs": [
    {
     "name": "stdout",
     "output_type": "stream",
     "text": [
      "['across', 'themselves', 'front', 'therefore', 'below', 'first', 'though', 'both', 'find', 'should', 'thence', 'one', 'get', 'take', 'top', 'interest', 'fill', 'over', 'you', 'above', 'eleven', 'those', 'whoever', 'her', 'what', 'may', 'until', 'often', 'amongst', 'this', 'has', 'seem', 'few', 'because', 'must', 'me', 'nothing', 'through', 'ours', 'further', 'could', 'so', 'etc', 'hers', 'empty', 'back', 'ever', 'give', 'made', 'him', 'its', 'no', 'than', 'part', 'are', 'mine', 'fire', 'within', 'eg', 'everyone', 'might', 'sixty', 'therein', 'seems', 'side', 'somehow', 'own', 'latter', 'twelve', 'become', 'something', 'too', 'hereby', 'otherwise', 'already', 'ten', 'myself', 'their', 'where', 'amoungst', 'am', 'anywhere', 'forty', 'more', 'onto', 'almost', 'becomes', 'mill', 'becoming', 'wherever', 'whereupon', 'itself', 'whereby', 'being', 'very', 'himself', 'afterwards', 'most', 'however', 'mostly', 'thus', 'that', 'all', 'whose', 'fifty', 'couldnt', 'after', 'although', 'whole', 'if', 'behind', 'when', 'inc', 'down', 'why', 'whereas', 'an', 'else', 'neither', 'any', 'anything', 'formerly', 'he', 'nor', 'ourselves', 'out', 're', 'moreover', 'some', 'between', 'two', 'upon', 'your', 'nine', 'off', 'alone', 'detail', 'elsewhere', 'to', 'once', 'bill', 'call', 'anyway', 'namely', 'seeming', 'system', 'whom', 'along', 'again', 'each', 'name', 'now', 'same', 'last', 'herein', 'cannot', 'even', 'hereupon', 'serious', 'always', 'also', 'nobody', 'at', 'enough', 'four', 'into', 'noone', 'someone', 'the', 'these', 'con', 'meanwhile', 'several', 'thick', 'toward', 'his', 'will', 'nevertheless', 'everything', 'latterly', 'while', 'three', 'hasnt', 'everywhere', 'twenty', 'others', 'please', 'hereafter', 'ltd', 'such', 'every', 'among', 'it', 'they', 'anyhow', 'under', 'per', 'sometime', 'less', 'thereafter', 'was', 'eight', 'were', 'bottom', 'keep', 'by', 'throughout', 'as', 'beside', 'ie', 'our', 'together', 'who', 'is', 'with', 'besides', 'whence', 'whatever', 'how', 'for', 'least', 'describe', 'move', 'put', 'rather', 'cry', 'a', 'my', 'sometimes', 'had', 'around', 'hence', 'thereby', 'none', 'done', 'became', 'due', 'hundred', 'and', 'she', 'would', 'which', 'other', 'here', 'many', 'third', 'except', 'nowhere', 'herself', 'beforehand', 'fifteen', 'thereupon', 'we', 'former', 'perhaps', 'or', 'there', 'un', 'be', 'yours', 'them', 'then', 'six', 'go', 'five', 'via', 'about', 'either', 'but', 'indeed', 'see', 'without', 'thin', 'cant', 'yourselves', 'whenever', 'whether', 'do', 'anyone', 'have', 'next', 'co', 'seemed', 'still', 'up', 'somewhere', 'during', 'us', 'amount', 'much', 'another', 'of', 'thru', 'i', 'full', 'on', 'against', 'can', 'not', 'show', 'only', 'before', 'wherein', 'never', 'whither', 'been', 'sincere', 'well', 'yet', 'in', 'de', 'beyond', 'whereafter', 'from', 'yourself', 'since', 'found', 'towards']\n"
     ]
    }
   ],
   "source": [
    "stop_words = list(ENGLISH_STOP_WORDS)\n",
    "print(stop_words)"
   ]
  },
  {
   "cell_type": "code",
   "execution_count": 4,
   "metadata": {},
   "outputs": [
    {
     "data": {
      "text/plain": [
       "['John like horror movie.', 'Ryan watches movie and dramatic movies.']"
      ]
     },
     "execution_count": 4,
     "metadata": {},
     "output_type": "execute_result"
    }
   ],
   "source": [
    "corpus = [\n",
    "    \"John like horror movie.\",\n",
    "   \"Ryan watches movie and dramatic movies.\"\n",
    "]\n",
    "corpus"
   ]
  },
  {
   "cell_type": "code",
   "execution_count": 5,
   "metadata": {},
   "outputs": [
    {
     "name": "stdout",
     "output_type": "stream",
     "text": [
      "['john', 'like', 'horror', 'movie', 'ryan', 'watches', 'movie', 'dramatic', 'movies']\n"
     ]
    }
   ],
   "source": [
    "pre_proc_vocab = []\n",
    "for doc in corpus:\n",
    "    doc_as_list = doc.split(\" \")\n",
    "    for word in doc_as_list:\n",
    "        word_lower = str(word).lower().replace('.','') \n",
    "        if word_lower not in stop_words:\n",
    "            pre_proc_vocab.append(word_lower)\n",
    "            \n",
    "print(pre_proc_vocab)"
   ]
  },
  {
   "cell_type": "code",
   "execution_count": 6,
   "metadata": {},
   "outputs": [
    {
     "data": {
      "text/plain": [
       "['John like horror movie.', 'Ryan watches movie and dramatic movies.']"
      ]
     },
     "execution_count": 6,
     "metadata": {},
     "output_type": "execute_result"
    }
   ],
   "source": [
    "corpus"
   ]
  },
  {
   "cell_type": "code",
   "execution_count": 7,
   "metadata": {},
   "outputs": [],
   "source": [
    "pd.set_option('display.max_columns',70)"
   ]
  },
  {
   "cell_type": "markdown",
   "metadata": {},
   "source": [
    "#### **Applying Count Vectoriser**"
   ]
  },
  {
   "cell_type": "code",
   "execution_count": 60,
   "metadata": {},
   "outputs": [
    {
     "data": {
      "text/plain": [
       "CountVectorizer(binary=True, max_df=1, ngram_range=(1, 3))"
      ]
     },
     "execution_count": 60,
     "metadata": {},
     "output_type": "execute_result"
    }
   ],
   "source": [
    "cv = CountVectorizer(binary=True,analyzer='word',ngram_range=(1,3),max_df=1)\n",
    "cv.fit(corpus)"
   ]
  },
  {
   "cell_type": "code",
   "execution_count": 61,
   "metadata": {},
   "outputs": [
    {
     "data": {
      "text/plain": [
       "<2x22 sparse matrix of type '<class 'numpy.int64'>'\n",
       "\twith 22 stored elements in Compressed Sparse Row format>"
      ]
     },
     "execution_count": 61,
     "metadata": {},
     "output_type": "execute_result"
    }
   ],
   "source": [
    "cv_corp_results = cv.transform(corpus)\n",
    "cv_corp_results"
   ]
  },
  {
   "cell_type": "code",
   "execution_count": 62,
   "metadata": {},
   "outputs": [
    {
     "data": {
      "text/html": [
       "<div>\n",
       "<style scoped>\n",
       "    .dataframe tbody tr th:only-of-type {\n",
       "        vertical-align: middle;\n",
       "    }\n",
       "\n",
       "    .dataframe tbody tr th {\n",
       "        vertical-align: top;\n",
       "    }\n",
       "\n",
       "    .dataframe thead th {\n",
       "        text-align: right;\n",
       "    }\n",
       "</style>\n",
       "<table border=\"1\" class=\"dataframe\">\n",
       "  <thead>\n",
       "    <tr style=\"text-align: right;\">\n",
       "      <th></th>\n",
       "      <th>and</th>\n",
       "      <th>and dramatic</th>\n",
       "      <th>and dramatic movies</th>\n",
       "      <th>dramatic</th>\n",
       "      <th>dramatic movies</th>\n",
       "      <th>horror</th>\n",
       "      <th>horror movie</th>\n",
       "      <th>john</th>\n",
       "      <th>john like</th>\n",
       "      <th>john like horror</th>\n",
       "      <th>like</th>\n",
       "      <th>like horror</th>\n",
       "      <th>like horror movie</th>\n",
       "      <th>movie and</th>\n",
       "      <th>movie and dramatic</th>\n",
       "      <th>movies</th>\n",
       "      <th>ryan</th>\n",
       "      <th>ryan watches</th>\n",
       "      <th>ryan watches movie</th>\n",
       "      <th>watches</th>\n",
       "      <th>watches movie</th>\n",
       "      <th>watches movie and</th>\n",
       "    </tr>\n",
       "  </thead>\n",
       "  <tbody>\n",
       "    <tr>\n",
       "      <th>0</th>\n",
       "      <td>0</td>\n",
       "      <td>0</td>\n",
       "      <td>0</td>\n",
       "      <td>0</td>\n",
       "      <td>0</td>\n",
       "      <td>1</td>\n",
       "      <td>1</td>\n",
       "      <td>1</td>\n",
       "      <td>1</td>\n",
       "      <td>1</td>\n",
       "      <td>1</td>\n",
       "      <td>1</td>\n",
       "      <td>1</td>\n",
       "      <td>0</td>\n",
       "      <td>0</td>\n",
       "      <td>0</td>\n",
       "      <td>0</td>\n",
       "      <td>0</td>\n",
       "      <td>0</td>\n",
       "      <td>0</td>\n",
       "      <td>0</td>\n",
       "      <td>0</td>\n",
       "    </tr>\n",
       "    <tr>\n",
       "      <th>1</th>\n",
       "      <td>1</td>\n",
       "      <td>1</td>\n",
       "      <td>1</td>\n",
       "      <td>1</td>\n",
       "      <td>1</td>\n",
       "      <td>0</td>\n",
       "      <td>0</td>\n",
       "      <td>0</td>\n",
       "      <td>0</td>\n",
       "      <td>0</td>\n",
       "      <td>0</td>\n",
       "      <td>0</td>\n",
       "      <td>0</td>\n",
       "      <td>1</td>\n",
       "      <td>1</td>\n",
       "      <td>1</td>\n",
       "      <td>1</td>\n",
       "      <td>1</td>\n",
       "      <td>1</td>\n",
       "      <td>1</td>\n",
       "      <td>1</td>\n",
       "      <td>1</td>\n",
       "    </tr>\n",
       "  </tbody>\n",
       "</table>\n",
       "</div>"
      ],
      "text/plain": [
       "   and  and dramatic  and dramatic movies  dramatic  dramatic movies  horror  \\\n",
       "0    0             0                    0         0                0       1   \n",
       "1    1             1                    1         1                1       0   \n",
       "\n",
       "   horror movie  john  john like  john like horror  like  like horror  \\\n",
       "0             1     1          1                 1     1            1   \n",
       "1             0     0          0                 0     0            0   \n",
       "\n",
       "   like horror movie  movie and  movie and dramatic  movies  ryan  \\\n",
       "0                  1          0                   0       0     0   \n",
       "1                  0          1                   1       1     1   \n",
       "\n",
       "   ryan watches  ryan watches movie  watches  watches movie  watches movie and  \n",
       "0             0                   0        0              0                  0  \n",
       "1             1                   1        1              1                  1  "
      ]
     },
     "execution_count": 62,
     "metadata": {},
     "output_type": "execute_result"
    }
   ],
   "source": [
    "pd.DataFrame(cv_corp_results.todense(),columns=cv.get_feature_names())"
   ]
  },
  {
   "cell_type": "markdown",
   "metadata": {},
   "source": [
    "#### **Applying Tf-IDF Vectoriser**"
   ]
  },
  {
   "cell_type": "code",
   "execution_count": 67,
   "metadata": {},
   "outputs": [
    {
     "data": {
      "text/plain": [
       "TfidfVectorizer(max_df=2, ngram_range=(1, 2))"
      ]
     },
     "execution_count": 67,
     "metadata": {},
     "output_type": "execute_result"
    }
   ],
   "source": [
    "tf = TfidfVectorizer(ngram_range=(1,2),analyzer='word',binary=False,max_df=2)\n",
    "tf.fit(corpus)"
   ]
  },
  {
   "cell_type": "code",
   "execution_count": 68,
   "metadata": {},
   "outputs": [
    {
     "data": {
      "text/plain": [
       "({'john': 6,\n",
       "  'like': 8,\n",
       "  'horror': 4,\n",
       "  'movie': 10,\n",
       "  'john like': 7,\n",
       "  'like horror': 9,\n",
       "  'horror movie': 5,\n",
       "  'ryan': 13,\n",
       "  'watches': 15,\n",
       "  'and': 0,\n",
       "  'dramatic': 2,\n",
       "  'movies': 12,\n",
       "  'ryan watches': 14,\n",
       "  'watches movie': 16,\n",
       "  'movie and': 11,\n",
       "  'and dramatic': 1,\n",
       "  'dramatic movies': 3},\n",
       " array([1.40546511, 1.40546511, 1.40546511, 1.40546511, 1.40546511,\n",
       "        1.40546511, 1.40546511, 1.40546511, 1.40546511, 1.40546511,\n",
       "        1.        , 1.40546511, 1.40546511, 1.40546511, 1.40546511,\n",
       "        1.40546511, 1.40546511]))"
      ]
     },
     "execution_count": 68,
     "metadata": {},
     "output_type": "execute_result"
    }
   ],
   "source": [
    "tf.vocabulary_, tf.idf_,"
   ]
  },
  {
   "cell_type": "code",
   "execution_count": 69,
   "metadata": {},
   "outputs": [
    {
     "data": {
      "text/plain": [
       "<2x17 sparse matrix of type '<class 'numpy.float64'>'\n",
       "\twith 18 stored elements in Compressed Sparse Row format>"
      ]
     },
     "execution_count": 69,
     "metadata": {},
     "output_type": "execute_result"
    }
   ],
   "source": [
    "tfidf_corp_results = tf.transform(corpus)\n",
    "tfidf_corp_results"
   ]
  },
  {
   "cell_type": "code",
   "execution_count": 70,
   "metadata": {},
   "outputs": [
    {
     "data": {
      "text/html": [
       "<div>\n",
       "<style scoped>\n",
       "    .dataframe tbody tr th:only-of-type {\n",
       "        vertical-align: middle;\n",
       "    }\n",
       "\n",
       "    .dataframe tbody tr th {\n",
       "        vertical-align: top;\n",
       "    }\n",
       "\n",
       "    .dataframe thead th {\n",
       "        text-align: right;\n",
       "    }\n",
       "</style>\n",
       "<table border=\"1\" class=\"dataframe\">\n",
       "  <thead>\n",
       "    <tr style=\"text-align: right;\">\n",
       "      <th></th>\n",
       "      <th>and</th>\n",
       "      <th>and dramatic</th>\n",
       "      <th>dramatic</th>\n",
       "      <th>dramatic movies</th>\n",
       "      <th>horror</th>\n",
       "      <th>horror movie</th>\n",
       "      <th>john</th>\n",
       "      <th>john like</th>\n",
       "      <th>like</th>\n",
       "      <th>like horror</th>\n",
       "      <th>movie</th>\n",
       "      <th>movie and</th>\n",
       "      <th>movies</th>\n",
       "      <th>ryan</th>\n",
       "      <th>ryan watches</th>\n",
       "      <th>watches</th>\n",
       "      <th>watches movie</th>\n",
       "    </tr>\n",
       "  </thead>\n",
       "  <tbody>\n",
       "    <tr>\n",
       "      <th>0</th>\n",
       "      <td>0.000000</td>\n",
       "      <td>0.000000</td>\n",
       "      <td>0.000000</td>\n",
       "      <td>0.000000</td>\n",
       "      <td>0.392044</td>\n",
       "      <td>0.392044</td>\n",
       "      <td>0.392044</td>\n",
       "      <td>0.392044</td>\n",
       "      <td>0.392044</td>\n",
       "      <td>0.392044</td>\n",
       "      <td>0.278943</td>\n",
       "      <td>0.000000</td>\n",
       "      <td>0.000000</td>\n",
       "      <td>0.000000</td>\n",
       "      <td>0.000000</td>\n",
       "      <td>0.000000</td>\n",
       "      <td>0.000000</td>\n",
       "    </tr>\n",
       "    <tr>\n",
       "      <th>1</th>\n",
       "      <td>0.308515</td>\n",
       "      <td>0.308515</td>\n",
       "      <td>0.308515</td>\n",
       "      <td>0.308515</td>\n",
       "      <td>0.000000</td>\n",
       "      <td>0.000000</td>\n",
       "      <td>0.000000</td>\n",
       "      <td>0.000000</td>\n",
       "      <td>0.000000</td>\n",
       "      <td>0.000000</td>\n",
       "      <td>0.219511</td>\n",
       "      <td>0.308515</td>\n",
       "      <td>0.308515</td>\n",
       "      <td>0.308515</td>\n",
       "      <td>0.308515</td>\n",
       "      <td>0.308515</td>\n",
       "      <td>0.308515</td>\n",
       "    </tr>\n",
       "  </tbody>\n",
       "</table>\n",
       "</div>"
      ],
      "text/plain": [
       "        and  and dramatic  dramatic  dramatic movies    horror  horror movie  \\\n",
       "0  0.000000      0.000000  0.000000         0.000000  0.392044      0.392044   \n",
       "1  0.308515      0.308515  0.308515         0.308515  0.000000      0.000000   \n",
       "\n",
       "       john  john like      like  like horror     movie  movie and    movies  \\\n",
       "0  0.392044   0.392044  0.392044     0.392044  0.278943   0.000000  0.000000   \n",
       "1  0.000000   0.000000  0.000000     0.000000  0.219511   0.308515  0.308515   \n",
       "\n",
       "       ryan  ryan watches   watches  watches movie  \n",
       "0  0.000000      0.000000  0.000000       0.000000  \n",
       "1  0.308515      0.308515  0.308515       0.308515  "
      ]
     },
     "execution_count": 70,
     "metadata": {},
     "output_type": "execute_result"
    }
   ],
   "source": [
    "pd.DataFrame(tfidf_corp_results.toarray(),columns=tf.get_feature_names())"
   ]
  },
  {
   "cell_type": "code",
   "execution_count": 63,
   "metadata": {},
   "outputs": [
    {
     "data": {
      "text/plain": [
       "TfidfVectorizer(min_df=2, ngram_range=(1, 2))"
      ]
     },
     "execution_count": 63,
     "metadata": {},
     "output_type": "execute_result"
    }
   ],
   "source": [
    "tf = TfidfVectorizer(ngram_range=(1,2),analyzer='word',binary=False,min_df=2)\n",
    "tf.fit(corpus)"
   ]
  },
  {
   "cell_type": "code",
   "execution_count": 64,
   "metadata": {},
   "outputs": [
    {
     "data": {
      "text/plain": [
       "({'movie': 0}, array([1.]))"
      ]
     },
     "execution_count": 64,
     "metadata": {},
     "output_type": "execute_result"
    }
   ],
   "source": [
    "tf.vocabulary_, tf.idf_,"
   ]
  },
  {
   "cell_type": "code",
   "execution_count": 65,
   "metadata": {},
   "outputs": [
    {
     "data": {
      "text/plain": [
       "<2x1 sparse matrix of type '<class 'numpy.float64'>'\n",
       "\twith 2 stored elements in Compressed Sparse Row format>"
      ]
     },
     "execution_count": 65,
     "metadata": {},
     "output_type": "execute_result"
    }
   ],
   "source": [
    "tfidf_corp_results = tf.transform(corpus)\n",
    "tfidf_corp_results"
   ]
  },
  {
   "cell_type": "code",
   "execution_count": 66,
   "metadata": {},
   "outputs": [
    {
     "data": {
      "text/html": [
       "<div>\n",
       "<style scoped>\n",
       "    .dataframe tbody tr th:only-of-type {\n",
       "        vertical-align: middle;\n",
       "    }\n",
       "\n",
       "    .dataframe tbody tr th {\n",
       "        vertical-align: top;\n",
       "    }\n",
       "\n",
       "    .dataframe thead th {\n",
       "        text-align: right;\n",
       "    }\n",
       "</style>\n",
       "<table border=\"1\" class=\"dataframe\">\n",
       "  <thead>\n",
       "    <tr style=\"text-align: right;\">\n",
       "      <th></th>\n",
       "      <th>movie</th>\n",
       "    </tr>\n",
       "  </thead>\n",
       "  <tbody>\n",
       "    <tr>\n",
       "      <th>0</th>\n",
       "      <td>1.0</td>\n",
       "    </tr>\n",
       "    <tr>\n",
       "      <th>1</th>\n",
       "      <td>1.0</td>\n",
       "    </tr>\n",
       "  </tbody>\n",
       "</table>\n",
       "</div>"
      ],
      "text/plain": [
       "   movie\n",
       "0    1.0\n",
       "1    1.0"
      ]
     },
     "execution_count": 66,
     "metadata": {},
     "output_type": "execute_result"
    }
   ],
   "source": [
    "pd.DataFrame(tfidf_corp_results.toarray(),columns=tf.get_feature_names())"
   ]
  },
  {
   "cell_type": "markdown",
   "metadata": {},
   "source": [
    "#### **Applying Tf-IDF Transformer**"
   ]
  },
  {
   "cell_type": "code",
   "execution_count": 198,
   "metadata": {},
   "outputs": [
    {
     "data": {
      "text/plain": [
       "TfidfTransformer(sublinear_tf=True)"
      ]
     },
     "execution_count": 198,
     "metadata": {},
     "output_type": "execute_result"
    }
   ],
   "source": [
    "tf_idf_tr = TfidfTransformer(sublinear_tf=True)\n",
    "tf_idf_tr.fit(cv_corp_results)"
   ]
  },
  {
   "cell_type": "code",
   "execution_count": 199,
   "metadata": {},
   "outputs": [
    {
     "data": {
      "text/plain": [
       "<2x23 sparse matrix of type '<class 'numpy.float64'>'\n",
       "\twith 24 stored elements in Compressed Sparse Row format>"
      ]
     },
     "execution_count": 199,
     "metadata": {},
     "output_type": "execute_result"
    }
   ],
   "source": [
    "tfidf_transformer_results = tf_idf_tr.transform(cv_corp_results)\n",
    "tfidf_transformer_results"
   ]
  },
  {
   "cell_type": "code",
   "execution_count": 200,
   "metadata": {},
   "outputs": [
    {
     "data": {
      "text/html": [
       "<div>\n",
       "<style scoped>\n",
       "    .dataframe tbody tr th:only-of-type {\n",
       "        vertical-align: middle;\n",
       "    }\n",
       "\n",
       "    .dataframe tbody tr th {\n",
       "        vertical-align: top;\n",
       "    }\n",
       "\n",
       "    .dataframe thead th {\n",
       "        text-align: right;\n",
       "    }\n",
       "</style>\n",
       "<table border=\"1\" class=\"dataframe\">\n",
       "  <thead>\n",
       "    <tr style=\"text-align: right;\">\n",
       "      <th></th>\n",
       "      <th>and</th>\n",
       "      <th>and dramatic</th>\n",
       "      <th>and dramatic movies</th>\n",
       "      <th>dramatic</th>\n",
       "      <th>dramatic movies</th>\n",
       "      <th>horror</th>\n",
       "      <th>horror movie</th>\n",
       "      <th>john</th>\n",
       "      <th>john like</th>\n",
       "      <th>john like horror</th>\n",
       "      <th>like</th>\n",
       "      <th>like horror</th>\n",
       "      <th>like horror movie</th>\n",
       "      <th>movie</th>\n",
       "      <th>movie and</th>\n",
       "      <th>movie and dramatic</th>\n",
       "      <th>movies</th>\n",
       "      <th>ryan</th>\n",
       "      <th>ryan watches</th>\n",
       "      <th>ryan watches movie</th>\n",
       "      <th>watches</th>\n",
       "      <th>watches movie</th>\n",
       "      <th>watches movie and</th>\n",
       "    </tr>\n",
       "  </thead>\n",
       "  <tbody>\n",
       "    <tr>\n",
       "      <th>0</th>\n",
       "      <td>0.000000</td>\n",
       "      <td>0.000000</td>\n",
       "      <td>0.000000</td>\n",
       "      <td>0.000000</td>\n",
       "      <td>0.000000</td>\n",
       "      <td>0.342871</td>\n",
       "      <td>0.342871</td>\n",
       "      <td>0.342871</td>\n",
       "      <td>0.342871</td>\n",
       "      <td>0.342871</td>\n",
       "      <td>0.342871</td>\n",
       "      <td>0.342871</td>\n",
       "      <td>0.342871</td>\n",
       "      <td>0.243956</td>\n",
       "      <td>0.000000</td>\n",
       "      <td>0.000000</td>\n",
       "      <td>0.000000</td>\n",
       "      <td>0.000000</td>\n",
       "      <td>0.000000</td>\n",
       "      <td>0.000000</td>\n",
       "      <td>0.000000</td>\n",
       "      <td>0.000000</td>\n",
       "      <td>0.000000</td>\n",
       "    </tr>\n",
       "    <tr>\n",
       "      <th>1</th>\n",
       "      <td>0.262556</td>\n",
       "      <td>0.262556</td>\n",
       "      <td>0.262556</td>\n",
       "      <td>0.262556</td>\n",
       "      <td>0.262556</td>\n",
       "      <td>0.000000</td>\n",
       "      <td>0.000000</td>\n",
       "      <td>0.000000</td>\n",
       "      <td>0.000000</td>\n",
       "      <td>0.000000</td>\n",
       "      <td>0.000000</td>\n",
       "      <td>0.000000</td>\n",
       "      <td>0.000000</td>\n",
       "      <td>0.186811</td>\n",
       "      <td>0.262556</td>\n",
       "      <td>0.262556</td>\n",
       "      <td>0.262556</td>\n",
       "      <td>0.262556</td>\n",
       "      <td>0.262556</td>\n",
       "      <td>0.262556</td>\n",
       "      <td>0.262556</td>\n",
       "      <td>0.262556</td>\n",
       "      <td>0.262556</td>\n",
       "    </tr>\n",
       "  </tbody>\n",
       "</table>\n",
       "</div>"
      ],
      "text/plain": [
       "        and  and dramatic  and dramatic movies  dramatic  dramatic movies  \\\n",
       "0  0.000000      0.000000             0.000000  0.000000         0.000000   \n",
       "1  0.262556      0.262556             0.262556  0.262556         0.262556   \n",
       "\n",
       "     horror  horror movie      john  john like  john like horror      like  \\\n",
       "0  0.342871      0.342871  0.342871   0.342871          0.342871  0.342871   \n",
       "1  0.000000      0.000000  0.000000   0.000000          0.000000  0.000000   \n",
       "\n",
       "   like horror  like horror movie     movie  movie and  movie and dramatic  \\\n",
       "0     0.342871           0.342871  0.243956   0.000000            0.000000   \n",
       "1     0.000000           0.000000  0.186811   0.262556            0.262556   \n",
       "\n",
       "     movies      ryan  ryan watches  ryan watches movie   watches  \\\n",
       "0  0.000000  0.000000      0.000000            0.000000  0.000000   \n",
       "1  0.262556  0.262556      0.262556            0.262556  0.262556   \n",
       "\n",
       "   watches movie  watches movie and  \n",
       "0       0.000000           0.000000  \n",
       "1       0.262556           0.262556  "
      ]
     },
     "execution_count": 200,
     "metadata": {},
     "output_type": "execute_result"
    }
   ],
   "source": [
    "pd.DataFrame(tfidf_transformer_results.todense(),columns=tf.get_feature_names())"
   ]
  },
  {
   "cell_type": "markdown",
   "metadata": {},
   "source": [
    "#### **On Unseen Dataset**"
   ]
  },
  {
   "cell_type": "code",
   "execution_count": 201,
   "metadata": {},
   "outputs": [],
   "source": [
    "test_data = [\"his name is horror and he likes horror movies.\",\n",
    "            \"i like working on python-like languages.\"] "
   ]
  },
  {
   "cell_type": "code",
   "execution_count": 202,
   "metadata": {},
   "outputs": [
    {
     "data": {
      "text/html": [
       "<div>\n",
       "<style scoped>\n",
       "    .dataframe tbody tr th:only-of-type {\n",
       "        vertical-align: middle;\n",
       "    }\n",
       "\n",
       "    .dataframe tbody tr th {\n",
       "        vertical-align: top;\n",
       "    }\n",
       "\n",
       "    .dataframe thead th {\n",
       "        text-align: right;\n",
       "    }\n",
       "</style>\n",
       "<table border=\"1\" class=\"dataframe\">\n",
       "  <thead>\n",
       "    <tr style=\"text-align: right;\">\n",
       "      <th></th>\n",
       "      <th>and</th>\n",
       "      <th>and dramatic</th>\n",
       "      <th>and dramatic movies</th>\n",
       "      <th>dramatic</th>\n",
       "      <th>dramatic movies</th>\n",
       "      <th>horror</th>\n",
       "      <th>horror movie</th>\n",
       "      <th>john</th>\n",
       "      <th>john like</th>\n",
       "      <th>john like horror</th>\n",
       "      <th>like</th>\n",
       "      <th>like horror</th>\n",
       "      <th>like horror movie</th>\n",
       "      <th>movie</th>\n",
       "      <th>movie and</th>\n",
       "      <th>movie and dramatic</th>\n",
       "      <th>movies</th>\n",
       "      <th>ryan</th>\n",
       "      <th>ryan watches</th>\n",
       "      <th>ryan watches movie</th>\n",
       "      <th>watches</th>\n",
       "      <th>watches movie</th>\n",
       "      <th>watches movie and</th>\n",
       "    </tr>\n",
       "  </thead>\n",
       "  <tbody>\n",
       "    <tr>\n",
       "      <th>0</th>\n",
       "      <td>1</td>\n",
       "      <td>0</td>\n",
       "      <td>0</td>\n",
       "      <td>0</td>\n",
       "      <td>0</td>\n",
       "      <td>1</td>\n",
       "      <td>0</td>\n",
       "      <td>0</td>\n",
       "      <td>0</td>\n",
       "      <td>0</td>\n",
       "      <td>0</td>\n",
       "      <td>0</td>\n",
       "      <td>0</td>\n",
       "      <td>0</td>\n",
       "      <td>0</td>\n",
       "      <td>0</td>\n",
       "      <td>1</td>\n",
       "      <td>0</td>\n",
       "      <td>0</td>\n",
       "      <td>0</td>\n",
       "      <td>0</td>\n",
       "      <td>0</td>\n",
       "      <td>0</td>\n",
       "    </tr>\n",
       "    <tr>\n",
       "      <th>1</th>\n",
       "      <td>0</td>\n",
       "      <td>0</td>\n",
       "      <td>0</td>\n",
       "      <td>0</td>\n",
       "      <td>0</td>\n",
       "      <td>0</td>\n",
       "      <td>0</td>\n",
       "      <td>0</td>\n",
       "      <td>0</td>\n",
       "      <td>0</td>\n",
       "      <td>1</td>\n",
       "      <td>0</td>\n",
       "      <td>0</td>\n",
       "      <td>0</td>\n",
       "      <td>0</td>\n",
       "      <td>0</td>\n",
       "      <td>0</td>\n",
       "      <td>0</td>\n",
       "      <td>0</td>\n",
       "      <td>0</td>\n",
       "      <td>0</td>\n",
       "      <td>0</td>\n",
       "      <td>0</td>\n",
       "    </tr>\n",
       "  </tbody>\n",
       "</table>\n",
       "</div>"
      ],
      "text/plain": [
       "   and  and dramatic  and dramatic movies  dramatic  dramatic movies  horror  \\\n",
       "0    1             0                    0         0                0       1   \n",
       "1    0             0                    0         0                0       0   \n",
       "\n",
       "   horror movie  john  john like  john like horror  like  like horror  \\\n",
       "0             0     0          0                 0     0            0   \n",
       "1             0     0          0                 0     1            0   \n",
       "\n",
       "   like horror movie  movie  movie and  movie and dramatic  movies  ryan  \\\n",
       "0                  0      0          0                   0       1     0   \n",
       "1                  0      0          0                   0       0     0   \n",
       "\n",
       "   ryan watches  ryan watches movie  watches  watches movie  watches movie and  \n",
       "0             0                   0        0              0                  0  \n",
       "1             0                   0        0              0                  0  "
      ]
     },
     "execution_count": 202,
     "metadata": {},
     "output_type": "execute_result"
    }
   ],
   "source": [
    "tt = pd.DataFrame(cv.transform(test_data).todense(),columns=cv.get_feature_names())\n",
    "tt"
   ]
  },
  {
   "cell_type": "code",
   "execution_count": 203,
   "metadata": {},
   "outputs": [
    {
     "data": {
      "text/html": [
       "<div>\n",
       "<style scoped>\n",
       "    .dataframe tbody tr th:only-of-type {\n",
       "        vertical-align: middle;\n",
       "    }\n",
       "\n",
       "    .dataframe tbody tr th {\n",
       "        vertical-align: top;\n",
       "    }\n",
       "\n",
       "    .dataframe thead th {\n",
       "        text-align: right;\n",
       "    }\n",
       "</style>\n",
       "<table border=\"1\" class=\"dataframe\">\n",
       "  <thead>\n",
       "    <tr style=\"text-align: right;\">\n",
       "      <th></th>\n",
       "      <th>and</th>\n",
       "      <th>and dramatic</th>\n",
       "      <th>and dramatic movies</th>\n",
       "      <th>dramatic</th>\n",
       "      <th>dramatic movies</th>\n",
       "      <th>horror</th>\n",
       "      <th>horror movie</th>\n",
       "      <th>john</th>\n",
       "      <th>john like</th>\n",
       "      <th>john like horror</th>\n",
       "      <th>like</th>\n",
       "      <th>like horror</th>\n",
       "      <th>like horror movie</th>\n",
       "      <th>movie</th>\n",
       "      <th>movie and</th>\n",
       "      <th>movie and dramatic</th>\n",
       "      <th>movies</th>\n",
       "      <th>ryan</th>\n",
       "      <th>ryan watches</th>\n",
       "      <th>ryan watches movie</th>\n",
       "      <th>watches</th>\n",
       "      <th>watches movie</th>\n",
       "      <th>watches movie and</th>\n",
       "    </tr>\n",
       "  </thead>\n",
       "  <tbody>\n",
       "    <tr>\n",
       "      <th>0</th>\n",
       "      <td>0.57735</td>\n",
       "      <td>0.0</td>\n",
       "      <td>0.0</td>\n",
       "      <td>0.0</td>\n",
       "      <td>0.0</td>\n",
       "      <td>0.57735</td>\n",
       "      <td>0.0</td>\n",
       "      <td>0.0</td>\n",
       "      <td>0.0</td>\n",
       "      <td>0.0</td>\n",
       "      <td>0.0</td>\n",
       "      <td>0.0</td>\n",
       "      <td>0.0</td>\n",
       "      <td>0.0</td>\n",
       "      <td>0.0</td>\n",
       "      <td>0.0</td>\n",
       "      <td>0.57735</td>\n",
       "      <td>0.0</td>\n",
       "      <td>0.0</td>\n",
       "      <td>0.0</td>\n",
       "      <td>0.0</td>\n",
       "      <td>0.0</td>\n",
       "      <td>0.0</td>\n",
       "    </tr>\n",
       "    <tr>\n",
       "      <th>1</th>\n",
       "      <td>0.00000</td>\n",
       "      <td>0.0</td>\n",
       "      <td>0.0</td>\n",
       "      <td>0.0</td>\n",
       "      <td>0.0</td>\n",
       "      <td>0.00000</td>\n",
       "      <td>0.0</td>\n",
       "      <td>0.0</td>\n",
       "      <td>0.0</td>\n",
       "      <td>0.0</td>\n",
       "      <td>1.0</td>\n",
       "      <td>0.0</td>\n",
       "      <td>0.0</td>\n",
       "      <td>0.0</td>\n",
       "      <td>0.0</td>\n",
       "      <td>0.0</td>\n",
       "      <td>0.00000</td>\n",
       "      <td>0.0</td>\n",
       "      <td>0.0</td>\n",
       "      <td>0.0</td>\n",
       "      <td>0.0</td>\n",
       "      <td>0.0</td>\n",
       "      <td>0.0</td>\n",
       "    </tr>\n",
       "  </tbody>\n",
       "</table>\n",
       "</div>"
      ],
      "text/plain": [
       "       and  and dramatic  and dramatic movies  dramatic  dramatic movies  \\\n",
       "0  0.57735           0.0                  0.0       0.0              0.0   \n",
       "1  0.00000           0.0                  0.0       0.0              0.0   \n",
       "\n",
       "    horror  horror movie  john  john like  john like horror  like  \\\n",
       "0  0.57735           0.0   0.0        0.0               0.0   0.0   \n",
       "1  0.00000           0.0   0.0        0.0               0.0   1.0   \n",
       "\n",
       "   like horror  like horror movie  movie  movie and  movie and dramatic  \\\n",
       "0          0.0                0.0    0.0        0.0                 0.0   \n",
       "1          0.0                0.0    0.0        0.0                 0.0   \n",
       "\n",
       "    movies  ryan  ryan watches  ryan watches movie  watches  watches movie  \\\n",
       "0  0.57735   0.0           0.0                 0.0      0.0            0.0   \n",
       "1  0.00000   0.0           0.0                 0.0      0.0            0.0   \n",
       "\n",
       "   watches movie and  \n",
       "0                0.0  \n",
       "1                0.0  "
      ]
     },
     "execution_count": 203,
     "metadata": {},
     "output_type": "execute_result"
    }
   ],
   "source": [
    "pd.DataFrame(tf.transform(test_data).todense(),columns=tf.get_feature_names())"
   ]
  },
  {
   "cell_type": "code",
   "execution_count": 204,
   "metadata": {},
   "outputs": [
    {
     "data": {
      "text/html": [
       "<div>\n",
       "<style scoped>\n",
       "    .dataframe tbody tr th:only-of-type {\n",
       "        vertical-align: middle;\n",
       "    }\n",
       "\n",
       "    .dataframe tbody tr th {\n",
       "        vertical-align: top;\n",
       "    }\n",
       "\n",
       "    .dataframe thead th {\n",
       "        text-align: right;\n",
       "    }\n",
       "</style>\n",
       "<table border=\"1\" class=\"dataframe\">\n",
       "  <thead>\n",
       "    <tr style=\"text-align: right;\">\n",
       "      <th></th>\n",
       "      <th>and</th>\n",
       "      <th>and dramatic</th>\n",
       "      <th>and dramatic movies</th>\n",
       "      <th>dramatic</th>\n",
       "      <th>dramatic movies</th>\n",
       "      <th>horror</th>\n",
       "      <th>horror movie</th>\n",
       "      <th>john</th>\n",
       "      <th>john like</th>\n",
       "      <th>john like horror</th>\n",
       "      <th>like</th>\n",
       "      <th>like horror</th>\n",
       "      <th>like horror movie</th>\n",
       "      <th>movie</th>\n",
       "      <th>movie and</th>\n",
       "      <th>movie and dramatic</th>\n",
       "      <th>movies</th>\n",
       "      <th>ryan</th>\n",
       "      <th>ryan watches</th>\n",
       "      <th>ryan watches movie</th>\n",
       "      <th>watches</th>\n",
       "      <th>watches movie</th>\n",
       "      <th>watches movie and</th>\n",
       "    </tr>\n",
       "  </thead>\n",
       "  <tbody>\n",
       "    <tr>\n",
       "      <th>0</th>\n",
       "      <td>0.57735</td>\n",
       "      <td>0.0</td>\n",
       "      <td>0.0</td>\n",
       "      <td>0.0</td>\n",
       "      <td>0.0</td>\n",
       "      <td>0.57735</td>\n",
       "      <td>0.0</td>\n",
       "      <td>0.0</td>\n",
       "      <td>0.0</td>\n",
       "      <td>0.0</td>\n",
       "      <td>0.0</td>\n",
       "      <td>0.0</td>\n",
       "      <td>0.0</td>\n",
       "      <td>0.0</td>\n",
       "      <td>0.0</td>\n",
       "      <td>0.0</td>\n",
       "      <td>0.57735</td>\n",
       "      <td>0.0</td>\n",
       "      <td>0.0</td>\n",
       "      <td>0.0</td>\n",
       "      <td>0.0</td>\n",
       "      <td>0.0</td>\n",
       "      <td>0.0</td>\n",
       "    </tr>\n",
       "    <tr>\n",
       "      <th>1</th>\n",
       "      <td>0.00000</td>\n",
       "      <td>0.0</td>\n",
       "      <td>0.0</td>\n",
       "      <td>0.0</td>\n",
       "      <td>0.0</td>\n",
       "      <td>0.00000</td>\n",
       "      <td>0.0</td>\n",
       "      <td>0.0</td>\n",
       "      <td>0.0</td>\n",
       "      <td>0.0</td>\n",
       "      <td>1.0</td>\n",
       "      <td>0.0</td>\n",
       "      <td>0.0</td>\n",
       "      <td>0.0</td>\n",
       "      <td>0.0</td>\n",
       "      <td>0.0</td>\n",
       "      <td>0.00000</td>\n",
       "      <td>0.0</td>\n",
       "      <td>0.0</td>\n",
       "      <td>0.0</td>\n",
       "      <td>0.0</td>\n",
       "      <td>0.0</td>\n",
       "      <td>0.0</td>\n",
       "    </tr>\n",
       "  </tbody>\n",
       "</table>\n",
       "</div>"
      ],
      "text/plain": [
       "       and  and dramatic  and dramatic movies  dramatic  dramatic movies  \\\n",
       "0  0.57735           0.0                  0.0       0.0              0.0   \n",
       "1  0.00000           0.0                  0.0       0.0              0.0   \n",
       "\n",
       "    horror  horror movie  john  john like  john like horror  like  \\\n",
       "0  0.57735           0.0   0.0        0.0               0.0   0.0   \n",
       "1  0.00000           0.0   0.0        0.0               0.0   1.0   \n",
       "\n",
       "   like horror  like horror movie  movie  movie and  movie and dramatic  \\\n",
       "0          0.0                0.0    0.0        0.0                 0.0   \n",
       "1          0.0                0.0    0.0        0.0                 0.0   \n",
       "\n",
       "    movies  ryan  ryan watches  ryan watches movie  watches  watches movie  \\\n",
       "0  0.57735   0.0           0.0                 0.0      0.0            0.0   \n",
       "1  0.00000   0.0           0.0                 0.0      0.0            0.0   \n",
       "\n",
       "   watches movie and  \n",
       "0                0.0  \n",
       "1                0.0  "
      ]
     },
     "execution_count": 204,
     "metadata": {},
     "output_type": "execute_result"
    }
   ],
   "source": [
    "pd.DataFrame(tf_idf_tr.transform(tt).todense(),columns=tf.get_feature_names())"
   ]
  }
 ],
 "metadata": {
  "kernelspec": {
   "display_name": "Python 3",
   "language": "python",
   "name": "python3"
  },
  "language_info": {
   "codemirror_mode": {
    "name": "ipython",
    "version": 3
   },
   "file_extension": ".py",
   "mimetype": "text/x-python",
   "name": "python",
   "nbconvert_exporter": "python",
   "pygments_lexer": "ipython3",
   "version": "3.6.8"
  }
 },
 "nbformat": 4,
 "nbformat_minor": 4
}
