{
 "cells": [
  {
   "cell_type": "code",
   "execution_count": 1,
   "metadata": {},
   "outputs": [],
   "source": [
    "import numpy as np\n",
    "import pandas as pd\n",
    "import matplotlib.pyplot as plt\n",
    "import seaborn as sns\n",
    "import scipy\n",
    "import statsmodels as stm\n",
    "\n",
    "from sklearn.datasets import load_breast_cancer, load_iris\n",
    "from sklearn.neighbors import LocalOutlierFactor\n",
    "from sklearn.ensemble import IsolationForest\n",
    "\n",
    "%matplotlib inline"
   ]
  },
  {
   "cell_type": "code",
   "execution_count": 3,
   "metadata": {},
   "outputs": [],
   "source": [
    "pd.set_option('display.max_rows',151)"
   ]
  },
  {
   "cell_type": "markdown",
   "metadata": {},
   "source": [
    "#### **Datasets**"
   ]
  },
  {
   "cell_type": "code",
   "execution_count": 4,
   "metadata": {},
   "outputs": [],
   "source": [
    "cancer_dataset, iris_dataset = load_breast_cancer(), load_iris()"
   ]
  },
  {
   "cell_type": "markdown",
   "metadata": {},
   "source": [
    "##### **1. Cancer Dataset**\n",
    "##### **Segregating Features and Labels**"
   ]
  },
  {
   "cell_type": "code",
   "execution_count": 5,
   "metadata": {},
   "outputs": [],
   "source": [
    "X_cancer_df = pd.DataFrame(cancer_dataset.data, columns=cancer_dataset.feature_names)\n",
    "y_cancer_df = pd.DataFrame(cancer_dataset.target, columns=['Label'])"
   ]
  },
  {
   "cell_type": "code",
   "execution_count": 6,
   "metadata": {},
   "outputs": [
    {
     "data": {
      "text/plain": [
       "(569, 30)"
      ]
     },
     "execution_count": 6,
     "metadata": {},
     "output_type": "execute_result"
    }
   ],
   "source": [
    "X_cancer_df.shape"
   ]
  },
  {
   "cell_type": "code",
   "execution_count": 7,
   "metadata": {},
   "outputs": [
    {
     "data": {
      "text/plain": [
       "array(['malignant', 'benign'], dtype='<U9')"
      ]
     },
     "execution_count": 7,
     "metadata": {},
     "output_type": "execute_result"
    }
   ],
   "source": [
    "cancer_dataset.target_names"
   ]
  },
  {
   "cell_type": "code",
   "execution_count": 8,
   "metadata": {},
   "outputs": [
    {
     "data": {
      "text/plain": [
       "((569, 1),\n",
       " Label\n",
       " 1        357\n",
       " 0        212\n",
       " dtype: int64)"
      ]
     },
     "execution_count": 8,
     "metadata": {},
     "output_type": "execute_result"
    }
   ],
   "source": [
    "y_cancer_df.shape, y_cancer_df.value_counts()"
   ]
  },
  {
   "cell_type": "markdown",
   "metadata": {},
   "source": [
    "##### **2. Iris Dataset**\n",
    "##### **Segregating Features and Labels**"
   ]
  },
  {
   "cell_type": "code",
   "execution_count": 9,
   "metadata": {},
   "outputs": [],
   "source": [
    "X_iris_df = pd.DataFrame(iris_dataset.data,columns=iris_dataset.feature_names)\n",
    "y_iris_df = pd.DataFrame(iris_dataset.target,columns=['Label'])"
   ]
  },
  {
   "cell_type": "code",
   "execution_count": 10,
   "metadata": {},
   "outputs": [
    {
     "data": {
      "text/plain": [
       "((150, 4),\n",
       "    sepal length (cm)  sepal width (cm)  petal length (cm)  petal width (cm)\n",
       " 0                5.1               3.5                1.4               0.2\n",
       " 1                4.9               3.0                1.4               0.2\n",
       " 2                4.7               3.2                1.3               0.2\n",
       " 3                4.6               3.1                1.5               0.2\n",
       " 4                5.0               3.6                1.4               0.2)"
      ]
     },
     "execution_count": 10,
     "metadata": {},
     "output_type": "execute_result"
    }
   ],
   "source": [
    "X_iris_df.shape, X_iris_df.head()"
   ]
  },
  {
   "cell_type": "code",
   "execution_count": 11,
   "metadata": {},
   "outputs": [
    {
     "data": {
      "text/plain": [
       "((150,), array(['setosa', 'versicolor', 'virginica'], dtype='<U10'))"
      ]
     },
     "execution_count": 11,
     "metadata": {},
     "output_type": "execute_result"
    }
   ],
   "source": [
    "iris_dataset.target.shape, iris_dataset.target_names"
   ]
  },
  {
   "cell_type": "code",
   "execution_count": 12,
   "metadata": {},
   "outputs": [
    {
     "data": {
      "text/plain": [
       "((150, 1),\n",
       " Label\n",
       " 2        50\n",
       " 1        50\n",
       " 0        50\n",
       " dtype: int64)"
      ]
     },
     "execution_count": 12,
     "metadata": {},
     "output_type": "execute_result"
    }
   ],
   "source": [
    "y_iris_df.shape, y_iris_df.value_counts()"
   ]
  },
  {
   "cell_type": "code",
   "execution_count": null,
   "metadata": {},
   "outputs": [],
   "source": []
  },
  {
   "cell_type": "code",
   "execution_count": 41,
   "metadata": {},
   "outputs": [],
   "source": [
    "iso_for = IsolationForest(n_estimators=15,max_samples=25,contamination=0.05,max_features=2,bootstrap=True,random_state=41)"
   ]
  },
  {
   "cell_type": "code",
   "execution_count": 42,
   "metadata": {},
   "outputs": [
    {
     "data": {
      "text/plain": [
       "IsolationForest(bootstrap=True, contamination=0.05, max_features=2,\n",
       "                max_samples=25, n_estimators=15, random_state=41)"
      ]
     },
     "execution_count": 42,
     "metadata": {},
     "output_type": "execute_result"
    }
   ],
   "source": [
    "iso_for.fit(X_iris_df)"
   ]
  },
  {
   "cell_type": "code",
   "execution_count": 43,
   "metadata": {},
   "outputs": [
    {
     "data": {
      "text/plain": [
       "[ExtraTreeRegressor(max_depth=5, max_features=1, random_state=716905170),\n",
       " ExtraTreeRegressor(max_depth=5, max_features=1, random_state=180789943),\n",
       " ExtraTreeRegressor(max_depth=5, max_features=1, random_state=1315178973),\n",
       " ExtraTreeRegressor(max_depth=5, max_features=1, random_state=1681872075),\n",
       " ExtraTreeRegressor(max_depth=5, max_features=1, random_state=280069627),\n",
       " ExtraTreeRegressor(max_depth=5, max_features=1, random_state=1055549073),\n",
       " ExtraTreeRegressor(max_depth=5, max_features=1, random_state=1764538871),\n",
       " ExtraTreeRegressor(max_depth=5, max_features=1, random_state=405848271),\n",
       " ExtraTreeRegressor(max_depth=5, max_features=1, random_state=1224622560),\n",
       " ExtraTreeRegressor(max_depth=5, max_features=1, random_state=2088199739),\n",
       " ExtraTreeRegressor(max_depth=5, max_features=1, random_state=1220789893),\n",
       " ExtraTreeRegressor(max_depth=5, max_features=1, random_state=271136312),\n",
       " ExtraTreeRegressor(max_depth=5, max_features=1, random_state=1321442735),\n",
       " ExtraTreeRegressor(max_depth=5, max_features=1, random_state=454001309),\n",
       " ExtraTreeRegressor(max_depth=5, max_features=1, random_state=2135786185)]"
      ]
     },
     "execution_count": 43,
     "metadata": {},
     "output_type": "execute_result"
    }
   ],
   "source": [
    "iso_for.estimators_"
   ]
  },
  {
   "cell_type": "code",
   "execution_count": 44,
   "metadata": {},
   "outputs": [
    {
     "data": {
      "text/plain": [
       "[array([1, 0]),\n",
       " array([0, 1]),\n",
       " array([0, 3]),\n",
       " array([1, 0]),\n",
       " array([2, 0]),\n",
       " array([2, 3]),\n",
       " array([1, 2]),\n",
       " array([2, 1]),\n",
       " array([2, 3]),\n",
       " array([0, 2]),\n",
       " array([3, 2]),\n",
       " array([2, 3]),\n",
       " array([0, 2]),\n",
       " array([2, 3]),\n",
       " array([3, 0])]"
      ]
     },
     "execution_count": 44,
     "metadata": {},
     "output_type": "execute_result"
    }
   ],
   "source": [
    "iso_for.estimators_features_"
   ]
  },
  {
   "cell_type": "code",
   "execution_count": 45,
   "metadata": {},
   "outputs": [
    {
     "data": {
      "text/plain": [
       "[array([ 88,  29, 146,  21,  26,  26,  52,  90,  36, 141,  47, 141,  77,\n",
       "         67, 115, 120, 133, 120,   3, 121,  41, 118, 136, 149, 130]),\n",
       " array([  8, 113,  84,  71,  13, 108,  54, 101,  37, 102,   3,  73, 115,\n",
       "         23, 104,  98,  95,  93,  69,  53,  93,  44, 135,  55,   5]),\n",
       " array([  4,  15,  36,  27,  25,  40, 138, 116, 127,  25,  64,  86, 120,\n",
       "        116,  33,  31, 125,  80, 102, 102, 145, 120,  43,  97,  50]),\n",
       " array([ 95, 122, 144,  20, 101,   5,  39, 109,  30, 144, 136,  39, 143,\n",
       "         40,  38, 127, 107,  98,  39,   3,  98,  31,  88, 140,  14]),\n",
       " array([ 67,  82,  87,  56,  18,  14,  73,  47,  40, 118,  23,  35,  35,\n",
       "        142, 139,  48, 125, 132, 112,  56,  60,  73, 110, 107,  41]),\n",
       " array([ 62,  42, 112, 142, 130,   2,  91,  41,  76,   4,  74,  62,  90,\n",
       "         31, 145, 102, 147,  10,  41,  39,   6, 131,  25, 136, 127]),\n",
       " array([ 53, 102,  45, 116, 123,  78, 115,  22, 148,  22,  93,  12,  72,\n",
       "        139,  59,  98,  63,  77,  72,  31, 104,  59,  60, 129,  52]),\n",
       " array([  1, 111,  35, 125, 100,  73,  74, 118,   2, 116,  85, 102,  31,\n",
       "         51,  53, 131, 118,  14, 135, 136, 113,  69,  97,  15,  83]),\n",
       " array([  3, 147,  30,  70,  42,  20,  64,  75,  40, 120, 125,  81,  46,\n",
       "        134,  52,  15,  95,  78, 148, 114, 147, 124,  83,  13,  97]),\n",
       " array([148,  61, 136,  14,  38, 124,  22,   8,  18,  57,  70,  91, 140,\n",
       "        137,  27,  88, 130,  74,  24,  92,  29, 128,  60,  78,  21]),\n",
       " array([126,  97,  64,  12, 142, 115, 142, 106,  96,  77,  87,   8,  18,\n",
       "        107, 124,   5,  28, 122, 108,  61,   4,  62,  31,  42, 109]),\n",
       " array([ 52, 106,  41,  38, 144, 144,  97, 138,  62,  19,  19,  84,  83,\n",
       "         28, 110,  60, 104, 102, 130, 128,  66,   9,  83,  21,  60]),\n",
       " array([102,  90,  29, 100, 101, 131,  81,  53,  44,  56,  85,  62,  93,\n",
       "         32,   9,   9, 148,  43,  75, 129, 105, 137,  17,  18, 114]),\n",
       " array([ 68, 144, 143,  23,  75, 103,  46,  72, 142,  56, 119,  26,  97,\n",
       "         97,  48,  77,  47,  43, 126,  27,  35,  82, 142,  27,  14]),\n",
       " array([ 86, 139,  71,  69, 137,  39, 108,  60,  60, 127,  24,  81,  60,\n",
       "         79,  14, 102,  48,  46,  97,  20, 144,  92,   7,  94,  97])]"
      ]
     },
     "execution_count": 45,
     "metadata": {},
     "output_type": "execute_result"
    }
   ],
   "source": [
    "iso_for.estimators_samples_"
   ]
  },
  {
   "cell_type": "code",
   "execution_count": 46,
   "metadata": {},
   "outputs": [
    {
     "data": {
      "text/plain": [
       "(25,)"
      ]
     },
     "execution_count": 46,
     "metadata": {},
     "output_type": "execute_result"
    }
   ],
   "source": [
    "iso_for.estimators_samples_[0].shape"
   ]
  },
  {
   "cell_type": "code",
   "execution_count": 47,
   "metadata": {},
   "outputs": [
    {
     "data": {
      "text/plain": [
       "-0.6031896746731866"
      ]
     },
     "execution_count": 47,
     "metadata": {},
     "output_type": "execute_result"
    }
   ],
   "source": [
    "iso_for.offset_"
   ]
  },
  {
   "cell_type": "code",
   "execution_count": null,
   "metadata": {},
   "outputs": [],
   "source": []
  }
 ],
 "metadata": {
  "kernelspec": {
   "display_name": "Python 3",
   "language": "python",
   "name": "python3"
  },
  "language_info": {
   "codemirror_mode": {
    "name": "ipython",
    "version": 3
   },
   "file_extension": ".py",
   "mimetype": "text/x-python",
   "name": "python",
   "nbconvert_exporter": "python",
   "pygments_lexer": "ipython3",
   "version": "3.6.8"
  }
 },
 "nbformat": 4,
 "nbformat_minor": 4
}
