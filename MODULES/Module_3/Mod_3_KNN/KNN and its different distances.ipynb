{
 "cells": [
  {
   "cell_type": "markdown",
   "metadata": {},
   "source": [
    "# ***Understanding `KNN` w.r.t different `Distance metrics`***"
   ]
  },
  {
   "cell_type": "markdown",
   "metadata": {},
   "source": [
    "---\n",
    "#### **Before I jump on to KNN or other similar distance dependent algorithms lets first take a moment to understand the various distance metrics.** \n",
    "#### **`My objective for creating this notebook is understanding the various distances which we can leverage while working on a usecase because there is no single distance metric that can be applied in every problem.`**"
   ]
  },
  {
   "cell_type": "markdown",
   "metadata": {},
   "source": [
    "---\n",
    "#### **Notebook Contents**\n",
    "1. [Libraries Import](#Packages_Import)\n",
    "2. [Distance Calculations](#Distance_Calculations)\n",
    "    1. [CASE-I : Entire variable as an one row vector](#CASE-I)\n",
    "        1. [Euclidean Distance](#1.1.Euclidean_Distance)\n",
    "        2. [Manhattan Distance](#1.2.Manhattan_Distance)\n",
    "    2. [CASE-II : Entire variable as an one column vector](#CASE-II)\n",
    "        1. [Euclidean Distance](#2.1.Euclidean_Distance)\n",
    "        2. [Manhattan Distance](#2.2.Manhattan_Distance)\n",
    "    3. [CASE-II : Entire variable as an one column vector](#CASE-II)\n",
    "        1. [Euclidean Distance](#3.1.Euclidean_Distance)\n",
    "        2. [Manhattan Distance](#3.2.Manhattan_Distance)\n",
    "        3. [Chebyshev Distance](#3.3.Chebyshev_Distance)\n",
    "        4. [Mahalanobis Distance](#3.4.Mahalanobis_Distance)\n",
    "    4. [CASE-IV : Working with DataFrame object](#CASE-IV)\n",
    "    5. [CASE-V : Applying Mahalanobis Distance Metric on Breast Cancer](#CASE-V)\n",
    "        1. [Hypothesis Testing](#Hypothesis_Testing)\n",
    "            1. [CASE-1 : Only +ve observations](#CASE-1)\n",
    "            2. [CASE-2 : Only -ve observations](#CASE-2)\n",
    "    6. [Calculate Euclidean Distance](#Calculate_Euclidean_Distance)\n",
    "        1. [Case-1 : Self Implementation](#Case-1)\n",
    "        2. [Case-2 : Using Scipy](#Case-2)\n",
    "    7. [**`Radius Neighbors`**](#Radius_Neighbors)\n",
    "        1. [Case:1 : Using large Radius](#Case:1)\n",
    "        2. [Case:2 : Different values of Radius & Nearest Neighbors](#Case:2)\n",
    "    8. [**`KNN`** : Using precomputed Mahalanobis Distance](#KNN)"
   ]
  },
  {
   "cell_type": "markdown",
   "metadata": {},
   "source": [
    "#### **Packages_Import**"
   ]
  },
  {
   "cell_type": "code",
   "execution_count": 127,
   "metadata": {},
   "outputs": [],
   "source": [
    "import numpy as np\n",
    "import pandas as pd\n",
    "import matplotlib.pyplot as plt\n",
    "import seaborn as sns\n",
    "import scipy\n",
    "import statsmodels as stm\n",
    "\n",
    "from sklearn.datasets import load_breast_cancer\n",
    "from sklearn.neighbors import KNeighborsClassifier, DistanceMetric, RadiusNeighborsClassifier, RadiusNeighborsTransformer\n",
    "\n",
    "%matplotlib inline"
   ]
  },
  {
   "cell_type": "markdown",
   "metadata": {},
   "source": [
    "### **Distance_Calculations**"
   ]
  },
  {
   "cell_type": "markdown",
   "metadata": {},
   "source": [
    "#### **CASE-I**\n",
    "##### **Entire variable as an one row vector**"
   ]
  },
  {
   "cell_type": "code",
   "execution_count": 2,
   "metadata": {},
   "outputs": [
    {
     "data": {
      "text/plain": [
       "(array([[1, 2, 3]]), array([[3, 4, 5]]))"
      ]
     },
     "execution_count": 2,
     "metadata": {},
     "output_type": "execute_result"
    }
   ],
   "source": [
    "X = np.array([[1,2,3]])\n",
    "Y = np.array([[3,4,5]])\n",
    "X,Y"
   ]
  },
  {
   "cell_type": "code",
   "execution_count": 3,
   "metadata": {},
   "outputs": [
    {
     "data": {
      "text/plain": [
       "((1, 3), (1, 3), 2, 2)"
      ]
     },
     "execution_count": 3,
     "metadata": {},
     "output_type": "execute_result"
    }
   ],
   "source": [
    "X.shape, Y.shape, X.ndim, Y.ndim"
   ]
  },
  {
   "cell_type": "markdown",
   "metadata": {},
   "source": [
    "#### **1.1.Euclidean_Distance**"
   ]
  },
  {
   "cell_type": "code",
   "execution_count": 4,
   "metadata": {},
   "outputs": [],
   "source": [
    "eu_dist = DistanceMetric.get_metric('euclidean')"
   ]
  },
  {
   "cell_type": "code",
   "execution_count": 5,
   "metadata": {},
   "outputs": [
    {
     "data": {
      "text/plain": [
       "array([[3.46410162]])"
      ]
     },
     "execution_count": 5,
     "metadata": {},
     "output_type": "execute_result"
    }
   ],
   "source": [
    "#Pair-wise distance\n",
    "eu_dist.pairwise(X,Y)"
   ]
  },
  {
   "cell_type": "code",
   "execution_count": 6,
   "metadata": {},
   "outputs": [
    {
     "data": {
      "text/plain": [
       "(array([[1, 4, 9]], dtype=int32), array([[ 9, 16, 25]], dtype=int32))"
      ]
     },
     "execution_count": 6,
     "metadata": {},
     "output_type": "execute_result"
    }
   ],
   "source": [
    "#Reduced distance is squared values in case of Euclidean\n",
    "eu_dist.dist_to_rdist(X), eu_dist.dist_to_rdist(Y)"
   ]
  },
  {
   "cell_type": "code",
   "execution_count": 7,
   "metadata": {},
   "outputs": [
    {
     "data": {
      "text/plain": [
       "(array([[1.        , 1.41421356, 1.73205081]]),\n",
       " array([[1.73205081, 2.        , 2.23606798]]))"
      ]
     },
     "execution_count": 7,
     "metadata": {},
     "output_type": "execute_result"
    }
   ],
   "source": [
    "#Reduced distance is squared root of values in case of Euclidean\n",
    "eu_dist.rdist_to_dist(X), eu_dist.rdist_to_dist(Y)"
   ]
  },
  {
   "cell_type": "markdown",
   "metadata": {},
   "source": [
    "#### **1.2.Manhattan_Distance**"
   ]
  },
  {
   "cell_type": "code",
   "execution_count": 8,
   "metadata": {},
   "outputs": [],
   "source": [
    "man_hat_dist = DistanceMetric.get_metric('manhattan')"
   ]
  },
  {
   "cell_type": "code",
   "execution_count": 9,
   "metadata": {},
   "outputs": [
    {
     "data": {
      "text/plain": [
       "array([[6.]])"
      ]
     },
     "execution_count": 9,
     "metadata": {},
     "output_type": "execute_result"
    }
   ],
   "source": [
    "man_hat_dist.pairwise(X,Y)"
   ]
  },
  {
   "cell_type": "code",
   "execution_count": 10,
   "metadata": {},
   "outputs": [
    {
     "data": {
      "text/plain": [
       "(array([[1, 2, 3]]), array([[3, 4, 5]]))"
      ]
     },
     "execution_count": 10,
     "metadata": {},
     "output_type": "execute_result"
    }
   ],
   "source": [
    "#Reduced distance is same values in case of Manhattan\n",
    "man_hat_dist.dist_to_rdist(X), man_hat_dist.dist_to_rdist(Y)"
   ]
  },
  {
   "cell_type": "code",
   "execution_count": 11,
   "metadata": {},
   "outputs": [
    {
     "data": {
      "text/plain": [
       "(array([[1, 2, 3]]), array([[3, 4, 5]]))"
      ]
     },
     "execution_count": 11,
     "metadata": {},
     "output_type": "execute_result"
    }
   ],
   "source": [
    "#Reduced distance is same values in case of Manhattan\n",
    "man_hat_dist.rdist_to_dist(X), man_hat_dist.rdist_to_dist(Y)"
   ]
  },
  {
   "cell_type": "markdown",
   "metadata": {},
   "source": [
    "#### **CASE-II**\n",
    "##### **Entire variable as an one column vector**"
   ]
  },
  {
   "cell_type": "code",
   "execution_count": 12,
   "metadata": {},
   "outputs": [],
   "source": [
    "XX = X.copy().reshape(3,1)\n",
    "YY = Y.copy().reshape(3,1)"
   ]
  },
  {
   "cell_type": "code",
   "execution_count": 13,
   "metadata": {},
   "outputs": [
    {
     "data": {
      "text/plain": [
       "(array([[1],\n",
       "        [2],\n",
       "        [3]]),\n",
       " array([[3],\n",
       "        [4],\n",
       "        [5]]))"
      ]
     },
     "execution_count": 13,
     "metadata": {},
     "output_type": "execute_result"
    }
   ],
   "source": [
    "XX,YY"
   ]
  },
  {
   "cell_type": "markdown",
   "metadata": {},
   "source": [
    "#### **2.1.Euclidean_Distance**"
   ]
  },
  {
   "cell_type": "code",
   "execution_count": 14,
   "metadata": {},
   "outputs": [
    {
     "data": {
      "text/plain": [
       "array([[2., 3., 4.],\n",
       "       [1., 2., 3.],\n",
       "       [0., 1., 2.]])"
      ]
     },
     "execution_count": 14,
     "metadata": {},
     "output_type": "execute_result"
    }
   ],
   "source": [
    "eu_dist.pairwise(XX,YY)"
   ]
  },
  {
   "cell_type": "code",
   "execution_count": 15,
   "metadata": {},
   "outputs": [
    {
     "data": {
      "text/plain": [
       "(array([[1],\n",
       "        [4],\n",
       "        [9]], dtype=int32),\n",
       " array([[ 9],\n",
       "        [16],\n",
       "        [25]], dtype=int32))"
      ]
     },
     "execution_count": 15,
     "metadata": {},
     "output_type": "execute_result"
    }
   ],
   "source": [
    "eu_dist.dist_to_rdist(XX), eu_dist.dist_to_rdist(YY)"
   ]
  },
  {
   "cell_type": "markdown",
   "metadata": {},
   "source": [
    "#### **2.2.Manhattan_Distance**"
   ]
  },
  {
   "cell_type": "code",
   "execution_count": 16,
   "metadata": {},
   "outputs": [
    {
     "data": {
      "text/plain": [
       "array([[2., 3., 4.],\n",
       "       [1., 2., 3.],\n",
       "       [0., 1., 2.]])"
      ]
     },
     "execution_count": 16,
     "metadata": {},
     "output_type": "execute_result"
    }
   ],
   "source": [
    "man_hat_dist.pairwise(XX,YY)"
   ]
  },
  {
   "cell_type": "code",
   "execution_count": 17,
   "metadata": {},
   "outputs": [
    {
     "data": {
      "text/plain": [
       "(array([[1],\n",
       "        [2],\n",
       "        [3]]),\n",
       " array([[3],\n",
       "        [4],\n",
       "        [5]]))"
      ]
     },
     "execution_count": 17,
     "metadata": {},
     "output_type": "execute_result"
    }
   ],
   "source": [
    "man_hat_dist.dist_to_rdist(XX), man_hat_dist.dist_to_rdist(YY)"
   ]
  },
  {
   "cell_type": "markdown",
   "metadata": {},
   "source": [
    "#### **CASE-III**\n",
    "##### **Working with real-valued integer variables**"
   ]
  },
  {
   "cell_type": "code",
   "execution_count": 18,
   "metadata": {},
   "outputs": [
    {
     "data": {
      "text/plain": [
       "(array([ 7,  8,  9, 10,  6,  5,  7]),\n",
       " array([23, 24, 29, 35, 21, 20, 25]),\n",
       " (7,),\n",
       " 1,\n",
       " (7,),\n",
       " 1)"
      ]
     },
     "execution_count": 18,
     "metadata": {},
     "output_type": "execute_result"
    }
   ],
   "source": [
    "shoe_size = np.array([7,8,9,10,6,5,7])\n",
    "body_mass = np.array([23,24,29,35,21,20,25])\n",
    "shoe_size, body_mass, shoe_size.shape, shoe_size.ndim, body_mass.shape, body_mass.ndim"
   ]
  },
  {
   "cell_type": "code",
   "execution_count": 19,
   "metadata": {},
   "outputs": [
    {
     "data": {
      "image/png": "[encoded data removed]",
      "text/plain": [
       "<Figure size 576x396 with 1 Axes>"
      ]
     },
     "metadata": {},
     "output_type": "display_data"
    }
   ],
   "source": [
    "with plt.style.context('seaborn'):\n",
    "    sns.scatterplot(x=shoe_size,y=body_mass,palette='inferno')\n",
    "    plt.xlabel('Shoe Size')\n",
    "    plt.ylabel('Body Mass')"
   ]
  },
  {
   "cell_type": "code",
   "execution_count": 20,
   "metadata": {},
   "outputs": [
    {
     "data": {
      "text/plain": [
       "([5, 20], [6, 21])"
      ]
     },
     "execution_count": 20,
     "metadata": {},
     "output_type": "execute_result"
    }
   ],
   "source": [
    "[shoe_size[5],body_mass[5]], [shoe_size[4],body_mass[4]]"
   ]
  },
  {
   "cell_type": "markdown",
   "metadata": {},
   "source": [
    "#### **3.1.Euclidean_Distance**"
   ]
  },
  {
   "cell_type": "code",
   "execution_count": 21,
   "metadata": {},
   "outputs": [
    {
     "data": {
      "text/plain": [
       "array([[1.41421356]])"
      ]
     },
     "execution_count": 21,
     "metadata": {},
     "output_type": "execute_result"
    }
   ],
   "source": [
    "eu_dist.pairwise([[shoe_size[5],body_mass[5]]], [[shoe_size[4],body_mass[4]]])"
   ]
  },
  {
   "cell_type": "markdown",
   "metadata": {},
   "source": [
    "#### **3.2.Manhattan_Distance**"
   ]
  },
  {
   "cell_type": "code",
   "execution_count": 22,
   "metadata": {},
   "outputs": [
    {
     "data": {
      "text/plain": [
       "array([[2.]])"
      ]
     },
     "execution_count": 22,
     "metadata": {},
     "output_type": "execute_result"
    }
   ],
   "source": [
    "man_hat_dist.pairwise([[shoe_size[5],body_mass[5]]], [[shoe_size[4],body_mass[4]]])"
   ]
  },
  {
   "cell_type": "markdown",
   "metadata": {},
   "source": [
    "#### **3.3.Chebyshev_Distance**"
   ]
  },
  {
   "cell_type": "code",
   "execution_count": 23,
   "metadata": {},
   "outputs": [],
   "source": [
    "chby_dist = DistanceMetric.get_metric('chebyshev')"
   ]
  },
  {
   "cell_type": "code",
   "execution_count": 24,
   "metadata": {},
   "outputs": [
    {
     "data": {
      "text/plain": [
       "array([[1.]])"
      ]
     },
     "execution_count": 24,
     "metadata": {},
     "output_type": "execute_result"
    }
   ],
   "source": [
    "chby_dist.pairwise([[shoe_size[5],body_mass[5]]], [[shoe_size[4],body_mass[4]]])"
   ]
  },
  {
   "cell_type": "code",
   "execution_count": 25,
   "metadata": {},
   "outputs": [
    {
     "data": {
      "text/plain": [
       "(array([[ 7,  8,  9, 10,  6,  5,  7]]), array([[23, 24, 29, 35, 21, 20, 25]]))"
      ]
     },
     "execution_count": 25,
     "metadata": {},
     "output_type": "execute_result"
    }
   ],
   "source": [
    "shoe_size.reshape((1,7)),body_mass.reshape((1,7))"
   ]
  },
  {
   "cell_type": "code",
   "execution_count": 26,
   "metadata": {},
   "outputs": [
    {
     "data": {
      "text/plain": [
       "array([[25.]])"
      ]
     },
     "execution_count": 26,
     "metadata": {},
     "output_type": "execute_result"
    }
   ],
   "source": [
    "chby_dist.pairwise(shoe_size.reshape((1,7)),body_mass.reshape((1,7))) ## 35 - 10 = 25 that is the max distance"
   ]
  },
  {
   "cell_type": "markdown",
   "metadata": {},
   "source": [
    "#### **3.4.Mahalanobis_Distance**"
   ]
  },
  {
   "cell_type": "code",
   "execution_count": 27,
   "metadata": {},
   "outputs": [],
   "source": [
    "body_data_df = pd.DataFrame({'shoe_size':shoe_size, 'body_mass':body_mass})"
   ]
  },
  {
   "cell_type": "code",
   "execution_count": 28,
   "metadata": {},
   "outputs": [
    {
     "data": {
      "text/html": [
       "<div>\n",
       "<style scoped>\n",
       "    .dataframe tbody tr th:only-of-type {\n",
       "        vertical-align: middle;\n",
       "    }\n",
       "\n",
       "    .dataframe tbody tr th {\n",
       "        vertical-align: top;\n",
       "    }\n",
       "\n",
       "    .dataframe thead th {\n",
       "        text-align: right;\n",
       "    }\n",
       "</style>\n",
       "<table border=\"1\" class=\"dataframe\">\n",
       "  <thead>\n",
       "    <tr style=\"text-align: right;\">\n",
       "      <th></th>\n",
       "      <th>shoe_size</th>\n",
       "      <th>body_mass</th>\n",
       "    </tr>\n",
       "  </thead>\n",
       "  <tbody>\n",
       "    <tr>\n",
       "      <th>shoe_size</th>\n",
       "      <td>1.000000</td>\n",
       "      <td>0.879253</td>\n",
       "    </tr>\n",
       "    <tr>\n",
       "      <th>body_mass</th>\n",
       "      <td>0.879253</td>\n",
       "      <td>1.000000</td>\n",
       "    </tr>\n",
       "  </tbody>\n",
       "</table>\n",
       "</div>"
      ],
      "text/plain": [
       "           shoe_size  body_mass\n",
       "shoe_size   1.000000   0.879253\n",
       "body_mass   0.879253   1.000000"
      ]
     },
     "execution_count": 28,
     "metadata": {},
     "output_type": "execute_result"
    }
   ],
   "source": [
    "np.square(body_data_df.corr())"
   ]
  },
  {
   "cell_type": "code",
   "execution_count": 29,
   "metadata": {},
   "outputs": [
    {
     "data": {
      "text/plain": [
       "array([[1.       , 0.8792535],\n",
       "       [0.8792535, 1.       ]])"
      ]
     },
     "execution_count": 29,
     "metadata": {},
     "output_type": "execute_result"
    }
   ],
   "source": [
    "np.square(np.corrcoef(shoe_size,body_mass))"
   ]
  },
  {
   "cell_type": "code",
   "execution_count": 30,
   "metadata": {},
   "outputs": [],
   "source": [
    "## Calculating Mahalanobis Distance ::: (X - mu) * inv(cov(X)) * (X - mu).T\n",
    "x_min_mu = body_data_df - np.mean(body_data_df)\n",
    "inv_cov_x = pd.DataFrame(scipy.linalg.inv(body_data_df.cov()))\n",
    "x_min_mu_T = x_min_mu.T"
   ]
  },
  {
   "cell_type": "code",
   "execution_count": 31,
   "metadata": {},
   "outputs": [
    {
     "data": {
      "text/plain": [
       "((7, 2), (2, 2), (2, 7))"
      ]
     },
     "execution_count": 31,
     "metadata": {},
     "output_type": "execute_result"
    }
   ],
   "source": [
    "x_min_mu.shape, inv_cov_x.shape, x_min_mu_T.shape"
   ]
  },
  {
   "cell_type": "code",
   "execution_count": 32,
   "metadata": {},
   "outputs": [
    {
     "data": {
      "text/html": [
       "<div>\n",
       "<style scoped>\n",
       "    .dataframe tbody tr th:only-of-type {\n",
       "        vertical-align: middle;\n",
       "    }\n",
       "\n",
       "    .dataframe tbody tr th {\n",
       "        vertical-align: top;\n",
       "    }\n",
       "\n",
       "    .dataframe thead th {\n",
       "        text-align: right;\n",
       "    }\n",
       "</style>\n",
       "<table border=\"1\" class=\"dataframe\">\n",
       "  <thead>\n",
       "    <tr style=\"text-align: right;\">\n",
       "      <th></th>\n",
       "      <th>0</th>\n",
       "      <th>1</th>\n",
       "      <th>2</th>\n",
       "      <th>3</th>\n",
       "      <th>4</th>\n",
       "      <th>5</th>\n",
       "      <th>6</th>\n",
       "    </tr>\n",
       "  </thead>\n",
       "  <tbody>\n",
       "    <tr>\n",
       "      <th>0</th>\n",
       "      <td>0.416337</td>\n",
       "      <td>0.875584</td>\n",
       "      <td>0.014185</td>\n",
       "      <td>-1.177375</td>\n",
       "      <td>0.287251</td>\n",
       "      <td>-0.171996</td>\n",
       "      <td>-0.243986</td>\n",
       "    </tr>\n",
       "    <tr>\n",
       "      <th>1</th>\n",
       "      <td>0.875584</td>\n",
       "      <td>2.705124</td>\n",
       "      <td>0.959986</td>\n",
       "      <td>-1.678823</td>\n",
       "      <td>-0.060287</td>\n",
       "      <td>-1.889828</td>\n",
       "      <td>-0.911756</td>\n",
       "    </tr>\n",
       "    <tr>\n",
       "      <th>2</th>\n",
       "      <td>0.014185</td>\n",
       "      <td>0.959986</td>\n",
       "      <td>1.002187</td>\n",
       "      <td>0.818488</td>\n",
       "      <td>-0.705715</td>\n",
       "      <td>-1.651516</td>\n",
       "      <td>-0.437615</td>\n",
       "    </tr>\n",
       "    <tr>\n",
       "      <th>3</th>\n",
       "      <td>-1.177375</td>\n",
       "      <td>-1.678823</td>\n",
       "      <td>0.818488</td>\n",
       "      <td>4.065489</td>\n",
       "      <td>-1.425616</td>\n",
       "      <td>-0.924168</td>\n",
       "      <td>0.322005</td>\n",
       "    </tr>\n",
       "    <tr>\n",
       "      <th>4</th>\n",
       "      <td>0.287251</td>\n",
       "      <td>-0.060287</td>\n",
       "      <td>-0.705715</td>\n",
       "      <td>-1.425616</td>\n",
       "      <td>0.709262</td>\n",
       "      <td>1.056800</td>\n",
       "      <td>0.138306</td>\n",
       "    </tr>\n",
       "    <tr>\n",
       "      <th>5</th>\n",
       "      <td>-0.171996</td>\n",
       "      <td>-1.889828</td>\n",
       "      <td>-1.651516</td>\n",
       "      <td>-0.924168</td>\n",
       "      <td>1.056800</td>\n",
       "      <td>2.774632</td>\n",
       "      <td>0.806076</td>\n",
       "    </tr>\n",
       "    <tr>\n",
       "      <th>6</th>\n",
       "      <td>-0.243986</td>\n",
       "      <td>-0.911756</td>\n",
       "      <td>-0.437615</td>\n",
       "      <td>0.322005</td>\n",
       "      <td>0.138306</td>\n",
       "      <td>0.806076</td>\n",
       "      <td>0.326970</td>\n",
       "    </tr>\n",
       "  </tbody>\n",
       "</table>\n",
       "</div>"
      ],
      "text/plain": [
       "          0         1         2         3         4         5         6\n",
       "0  0.416337  0.875584  0.014185 -1.177375  0.287251 -0.171996 -0.243986\n",
       "1  0.875584  2.705124  0.959986 -1.678823 -0.060287 -1.889828 -0.911756\n",
       "2  0.014185  0.959986  1.002187  0.818488 -0.705715 -1.651516 -0.437615\n",
       "3 -1.177375 -1.678823  0.818488  4.065489 -1.425616 -0.924168  0.322005\n",
       "4  0.287251 -0.060287 -0.705715 -1.425616  0.709262  1.056800  0.138306\n",
       "5 -0.171996 -1.889828 -1.651516 -0.924168  1.056800  2.774632  0.806076\n",
       "6 -0.243986 -0.911756 -0.437615  0.322005  0.138306  0.806076  0.326970"
      ]
     },
     "execution_count": 32,
     "metadata": {},
     "output_type": "execute_result"
    }
   ],
   "source": [
    "mahanalobis_dists_matrix = pd.DataFrame(np.dot(np.dot(x_min_mu,inv_cov_x),x_min_mu_T))\n",
    "mahanalobis_dists_matrix"
   ]
  },
  {
   "cell_type": "code",
   "execution_count": 33,
   "metadata": {},
   "outputs": [
    {
     "data": {
      "text/plain": [
       "array([0.41633666, 2.70512442, 1.00218689, 4.0654885 , 0.70926178,\n",
       "       2.77463207, 0.32696968])"
      ]
     },
     "execution_count": 33,
     "metadata": {},
     "output_type": "execute_result"
    }
   ],
   "source": [
    "np.diagonal(mahanalobis_dists_matrix)"
   ]
  },
  {
   "cell_type": "markdown",
   "metadata": {},
   "source": [
    "#### **CASE-IV**\n",
    "##### **Working with DataFrame object**\n",
    "\n",
    "##### Understood **`Mahalanobis Distance`** via link :: https://www.machinelearningplus.com/statistics/mahalanobis-distance/"
   ]
  },
  {
   "cell_type": "code",
   "execution_count": 34,
   "metadata": {},
   "outputs": [
    {
     "data": {
      "text/plain": [
       "((500, 3),\n",
       " 2,\n",
       "    carat  depth  price\n",
       " 0   0.23   61.5    326\n",
       " 1   0.21   59.8    326\n",
       " 2   0.23   56.9    327\n",
       " 3   0.29   62.4    334\n",
       " 4   0.31   63.3    335)"
      ]
     },
     "execution_count": 34,
     "metadata": {},
     "output_type": "execute_result"
    }
   ],
   "source": [
    "filepath = 'https://raw.githubusercontent.com/selva86/datasets/master/diamonds.csv'\n",
    "df = pd.read_csv(filepath).iloc[0:500, [0,4,6]]\n",
    "df.shape, df.ndim, df.head()"
   ]
  },
  {
   "cell_type": "code",
   "execution_count": 36,
   "metadata": {},
   "outputs": [
    {
     "data": {
      "text/html": [
       "<div>\n",
       "<style scoped>\n",
       "    .dataframe tbody tr th:only-of-type {\n",
       "        vertical-align: middle;\n",
       "    }\n",
       "\n",
       "    .dataframe tbody tr th {\n",
       "        vertical-align: top;\n",
       "    }\n",
       "\n",
       "    .dataframe thead th {\n",
       "        text-align: right;\n",
       "    }\n",
       "</style>\n",
       "<table border=\"1\" class=\"dataframe\">\n",
       "  <thead>\n",
       "    <tr style=\"text-align: right;\">\n",
       "      <th></th>\n",
       "      <th>carat</th>\n",
       "      <th>depth</th>\n",
       "      <th>price</th>\n",
       "      <th>mahala</th>\n",
       "    </tr>\n",
       "  </thead>\n",
       "  <tbody>\n",
       "    <tr>\n",
       "      <th>0</th>\n",
       "      <td>0.23</td>\n",
       "      <td>61.5</td>\n",
       "      <td>326</td>\n",
       "      <td>3.766898</td>\n",
       "    </tr>\n",
       "    <tr>\n",
       "      <th>1</th>\n",
       "      <td>0.21</td>\n",
       "      <td>59.8</td>\n",
       "      <td>326</td>\n",
       "      <td>5.040171</td>\n",
       "    </tr>\n",
       "    <tr>\n",
       "      <th>2</th>\n",
       "      <td>0.23</td>\n",
       "      <td>56.9</td>\n",
       "      <td>327</td>\n",
       "      <td>11.473766</td>\n",
       "    </tr>\n",
       "    <tr>\n",
       "      <th>3</th>\n",
       "      <td>0.29</td>\n",
       "      <td>62.4</td>\n",
       "      <td>334</td>\n",
       "      <td>3.876022</td>\n",
       "    </tr>\n",
       "    <tr>\n",
       "      <th>4</th>\n",
       "      <td>0.31</td>\n",
       "      <td>63.3</td>\n",
       "      <td>335</td>\n",
       "      <td>4.661105</td>\n",
       "    </tr>\n",
       "  </tbody>\n",
       "</table>\n",
       "</div>"
      ],
      "text/plain": [
       "   carat  depth  price     mahala\n",
       "0   0.23   61.5    326   3.766898\n",
       "1   0.21   59.8    326   5.040171\n",
       "2   0.23   56.9    327  11.473766\n",
       "3   0.29   62.4    334   3.876022\n",
       "4   0.31   63.3    335   4.661105"
      ]
     },
     "execution_count": 36,
     "metadata": {},
     "output_type": "execute_result"
    }
   ],
   "source": [
    "def mahalanobis(x=None, data=None):\n",
    "    \"\"\"This function generates the Mahalanobis Distance\"\"\"\n",
    "    x_min_mu = x - np.mean(data)\n",
    "    cov = np.cov(data.values.T)\n",
    "    inv_cov_x = scipy.linalg.inv(cov)\n",
    "    first_term = np.dot(x_min_mu, inv_cov_x)\n",
    "    mahal_dist = np.dot(first_term, x_min_mu.T)\n",
    "    return mahal_dist.diagonal(), inv_cov_x\n",
    "\n",
    "df_x = df[['carat', 'depth', 'price']].head(500)\n",
    "df_x['mahala'],VI = mahalanobis(x=df_x, data=df[['carat', 'depth', 'price']])\n",
    "df_x.head()"
   ]
  },
  {
   "cell_type": "markdown",
   "metadata": {},
   "source": [
    "##### **Manual Calculation**"
   ]
  },
  {
   "cell_type": "code",
   "execution_count": 37,
   "metadata": {},
   "outputs": [
    {
     "data": {
      "text/plain": [
       "(500, 500)"
      ]
     },
     "execution_count": 37,
     "metadata": {},
     "output_type": "execute_result"
    }
   ],
   "source": [
    "pd.DataFrame(((df - np.mean(df)).values @ scipy.linalg.inv(df.cov().values)) @ ((df - np.mean(df)).T).values).shape"
   ]
  },
  {
   "cell_type": "code",
   "execution_count": 38,
   "metadata": {},
   "outputs": [
    {
     "data": {
      "text/html": [
       "<div>\n",
       "<style scoped>\n",
       "    .dataframe tbody tr th:only-of-type {\n",
       "        vertical-align: middle;\n",
       "    }\n",
       "\n",
       "    .dataframe tbody tr th {\n",
       "        vertical-align: top;\n",
       "    }\n",
       "\n",
       "    .dataframe thead th {\n",
       "        text-align: right;\n",
       "    }\n",
       "</style>\n",
       "<table border=\"1\" class=\"dataframe\">\n",
       "  <thead>\n",
       "    <tr style=\"text-align: right;\">\n",
       "      <th></th>\n",
       "      <th>0</th>\n",
       "      <th>1</th>\n",
       "      <th>2</th>\n",
       "      <th>3</th>\n",
       "      <th>4</th>\n",
       "      <th>5</th>\n",
       "      <th>6</th>\n",
       "      <th>7</th>\n",
       "      <th>8</th>\n",
       "      <th>9</th>\n",
       "      <th>...</th>\n",
       "      <th>490</th>\n",
       "      <th>491</th>\n",
       "      <th>492</th>\n",
       "      <th>493</th>\n",
       "      <th>494</th>\n",
       "      <th>495</th>\n",
       "      <th>496</th>\n",
       "      <th>497</th>\n",
       "      <th>498</th>\n",
       "      <th>499</th>\n",
       "    </tr>\n",
       "  </thead>\n",
       "  <tbody>\n",
       "    <tr>\n",
       "      <th>0</th>\n",
       "      <td>3.766898</td>\n",
       "      <td>3.916408</td>\n",
       "      <td>3.985651</td>\n",
       "      <td>3.509290</td>\n",
       "      <td>3.396797</td>\n",
       "      <td>3.658189</td>\n",
       "      <td>3.682101</td>\n",
       "      <td>3.631782</td>\n",
       "      <td>3.615154</td>\n",
       "      <td>3.852411</td>\n",
       "      <td>...</td>\n",
       "      <td>-1.050648</td>\n",
       "      <td>-0.877226</td>\n",
       "      <td>-0.622280</td>\n",
       "      <td>-1.042334</td>\n",
       "      <td>-1.070403</td>\n",
       "      <td>-1.030892</td>\n",
       "      <td>-0.963937</td>\n",
       "      <td>-0.877226</td>\n",
       "      <td>-0.901139</td>\n",
       "      <td>-1.741025</td>\n",
       "    </tr>\n",
       "    <tr>\n",
       "      <th>1</th>\n",
       "      <td>3.916408</td>\n",
       "      <td>5.040171</td>\n",
       "      <td>6.724389</td>\n",
       "      <td>3.101321</td>\n",
       "      <td>2.465016</td>\n",
       "      <td>3.068993</td>\n",
       "      <td>3.374325</td>\n",
       "      <td>3.531883</td>\n",
       "      <td>1.749026</td>\n",
       "      <td>5.185921</td>\n",
       "      <td>...</td>\n",
       "      <td>-1.410516</td>\n",
       "      <td>0.018579</td>\n",
       "      <td>-0.652447</td>\n",
       "      <td>-0.519087</td>\n",
       "      <td>-1.270134</td>\n",
       "      <td>-1.550898</td>\n",
       "      <td>-0.695969</td>\n",
       "      <td>0.018579</td>\n",
       "      <td>-0.286753</td>\n",
       "      <td>-3.158284</td>\n",
       "    </tr>\n",
       "    <tr>\n",
       "      <th>2</th>\n",
       "      <td>3.985651</td>\n",
       "      <td>6.724389</td>\n",
       "      <td>11.473766</td>\n",
       "      <td>2.590670</td>\n",
       "      <td>1.152378</td>\n",
       "      <td>1.861321</td>\n",
       "      <td>2.675488</td>\n",
       "      <td>3.354030</td>\n",
       "      <td>-1.915498</td>\n",
       "      <td>7.378499</td>\n",
       "      <td>...</td>\n",
       "      <td>-2.302683</td>\n",
       "      <td>1.250222</td>\n",
       "      <td>-1.827926</td>\n",
       "      <td>0.332080</td>\n",
       "      <td>-1.799468</td>\n",
       "      <td>-2.805898</td>\n",
       "      <td>-0.526231</td>\n",
       "      <td>1.250222</td>\n",
       "      <td>0.436055</td>\n",
       "      <td>-4.643153</td>\n",
       "    </tr>\n",
       "    <tr>\n",
       "      <th>3</th>\n",
       "      <td>3.509290</td>\n",
       "      <td>3.101321</td>\n",
       "      <td>2.590670</td>\n",
       "      <td>3.876022</td>\n",
       "      <td>4.122082</td>\n",
       "      <td>3.776873</td>\n",
       "      <td>3.677306</td>\n",
       "      <td>3.664491</td>\n",
       "      <td>4.162841</td>\n",
       "      <td>3.059893</td>\n",
       "      <td>...</td>\n",
       "      <td>-1.102714</td>\n",
       "      <td>-1.610250</td>\n",
       "      <td>-1.599009</td>\n",
       "      <td>-1.351889</td>\n",
       "      <td>-1.127734</td>\n",
       "      <td>-1.077694</td>\n",
       "      <td>-1.356482</td>\n",
       "      <td>-1.610250</td>\n",
       "      <td>-1.510683</td>\n",
       "      <td>-0.159136</td>\n",
       "    </tr>\n",
       "    <tr>\n",
       "      <th>4</th>\n",
       "      <td>3.396797</td>\n",
       "      <td>2.465016</td>\n",
       "      <td>1.152378</td>\n",
       "      <td>4.122082</td>\n",
       "      <td>4.661105</td>\n",
       "      <td>4.052604</td>\n",
       "      <td>3.808965</td>\n",
       "      <td>3.714524</td>\n",
       "      <td>5.067003</td>\n",
       "      <td>2.338280</td>\n",
       "      <td>...</td>\n",
       "      <td>-0.959251</td>\n",
       "      <td>-2.134672</td>\n",
       "      <td>-1.774606</td>\n",
       "      <td>-1.635491</td>\n",
       "      <td>-1.053732</td>\n",
       "      <td>-0.864771</td>\n",
       "      <td>-1.546962</td>\n",
       "      <td>-2.134672</td>\n",
       "      <td>-1.891033</td>\n",
       "      <td>0.751059</td>\n",
       "    </tr>\n",
       "    <tr>\n",
       "      <th>...</th>\n",
       "      <td>...</td>\n",
       "      <td>...</td>\n",
       "      <td>...</td>\n",
       "      <td>...</td>\n",
       "      <td>...</td>\n",
       "      <td>...</td>\n",
       "      <td>...</td>\n",
       "      <td>...</td>\n",
       "      <td>...</td>\n",
       "      <td>...</td>\n",
       "      <td>...</td>\n",
       "      <td>...</td>\n",
       "      <td>...</td>\n",
       "      <td>...</td>\n",
       "      <td>...</td>\n",
       "      <td>...</td>\n",
       "      <td>...</td>\n",
       "      <td>...</td>\n",
       "      <td>...</td>\n",
       "      <td>...</td>\n",
       "      <td>...</td>\n",
       "    </tr>\n",
       "    <tr>\n",
       "      <th>495</th>\n",
       "      <td>-1.030892</td>\n",
       "      <td>-1.550898</td>\n",
       "      <td>-2.805898</td>\n",
       "      <td>-1.077694</td>\n",
       "      <td>-0.864771</td>\n",
       "      <td>-0.577531</td>\n",
       "      <td>-0.770679</td>\n",
       "      <td>-1.059940</td>\n",
       "      <td>0.449597</td>\n",
       "      <td>-1.818682</td>\n",
       "      <td>...</td>\n",
       "      <td>0.841224</td>\n",
       "      <td>0.128070</td>\n",
       "      <td>1.506881</td>\n",
       "      <td>0.086455</td>\n",
       "      <td>0.656987</td>\n",
       "      <td>1.025460</td>\n",
       "      <td>0.484647</td>\n",
       "      <td>0.128070</td>\n",
       "      <td>0.321217</td>\n",
       "      <td>0.229034</td>\n",
       "    </tr>\n",
       "    <tr>\n",
       "      <th>496</th>\n",
       "      <td>-0.963937</td>\n",
       "      <td>-0.695969</td>\n",
       "      <td>-0.526231</td>\n",
       "      <td>-1.356482</td>\n",
       "      <td>-1.546962</td>\n",
       "      <td>-1.124048</td>\n",
       "      <td>-1.076651</td>\n",
       "      <td>-1.143898</td>\n",
       "      <td>-1.233603</td>\n",
       "      <td>-0.745033</td>\n",
       "      <td>...</td>\n",
       "      <td>0.459676</td>\n",
       "      <td>0.775041</td>\n",
       "      <td>1.138503</td>\n",
       "      <td>0.504528</td>\n",
       "      <td>0.434705</td>\n",
       "      <td>0.484647</td>\n",
       "      <td>0.617359</td>\n",
       "      <td>0.775041</td>\n",
       "      <td>0.727644</td>\n",
       "      <td>-0.653359</td>\n",
       "    </tr>\n",
       "    <tr>\n",
       "      <th>497</th>\n",
       "      <td>-0.877226</td>\n",
       "      <td>0.018579</td>\n",
       "      <td>1.250222</td>\n",
       "      <td>-1.610250</td>\n",
       "      <td>-2.134672</td>\n",
       "      <td>-1.516238</td>\n",
       "      <td>-1.285177</td>\n",
       "      <td>-1.208840</td>\n",
       "      <td>-2.467239</td>\n",
       "      <td>0.113445</td>\n",
       "      <td>...</td>\n",
       "      <td>0.211608</td>\n",
       "      <td>1.338474</td>\n",
       "      <td>1.057637</td>\n",
       "      <td>0.840807</td>\n",
       "      <td>0.295147</td>\n",
       "      <td>0.128070</td>\n",
       "      <td>0.775041</td>\n",
       "      <td>1.338474</td>\n",
       "      <td>1.107413</td>\n",
       "      <td>-1.519558</td>\n",
       "    </tr>\n",
       "    <tr>\n",
       "      <th>498</th>\n",
       "      <td>-0.901139</td>\n",
       "      <td>-0.286753</td>\n",
       "      <td>0.436055</td>\n",
       "      <td>-1.510683</td>\n",
       "      <td>-1.891033</td>\n",
       "      <td>-1.321054</td>\n",
       "      <td>-1.175901</td>\n",
       "      <td>-1.178855</td>\n",
       "      <td>-1.866096</td>\n",
       "      <td>-0.270001</td>\n",
       "      <td>...</td>\n",
       "      <td>0.347875</td>\n",
       "      <td>1.107413</td>\n",
       "      <td>1.189201</td>\n",
       "      <td>0.691496</td>\n",
       "      <td>0.374533</td>\n",
       "      <td>0.321217</td>\n",
       "      <td>0.727644</td>\n",
       "      <td>1.107413</td>\n",
       "      <td>0.962261</td>\n",
       "      <td>-1.204418</td>\n",
       "    </tr>\n",
       "    <tr>\n",
       "      <th>499</th>\n",
       "      <td>-1.741025</td>\n",
       "      <td>-3.158284</td>\n",
       "      <td>-4.643153</td>\n",
       "      <td>-0.159136</td>\n",
       "      <td>0.751059</td>\n",
       "      <td>-0.777156</td>\n",
       "      <td>-1.092296</td>\n",
       "      <td>-1.001465</td>\n",
       "      <td>0.323868</td>\n",
       "      <td>-3.098677</td>\n",
       "      <td>...</td>\n",
       "      <td>0.212840</td>\n",
       "      <td>-1.519558</td>\n",
       "      <td>-2.113962</td>\n",
       "      <td>-0.449826</td>\n",
       "      <td>0.196647</td>\n",
       "      <td>0.229034</td>\n",
       "      <td>-0.653359</td>\n",
       "      <td>-1.519558</td>\n",
       "      <td>-1.204418</td>\n",
       "      <td>4.333325</td>\n",
       "    </tr>\n",
       "  </tbody>\n",
       "</table>\n",
       "<p>500 rows × 500 columns</p>\n",
       "</div>"
      ],
      "text/plain": [
       "          0         1          2         3         4         5         6    \\\n",
       "0    3.766898  3.916408   3.985651  3.509290  3.396797  3.658189  3.682101   \n",
       "1    3.916408  5.040171   6.724389  3.101321  2.465016  3.068993  3.374325   \n",
       "2    3.985651  6.724389  11.473766  2.590670  1.152378  1.861321  2.675488   \n",
       "3    3.509290  3.101321   2.590670  3.876022  4.122082  3.776873  3.677306   \n",
       "4    3.396797  2.465016   1.152378  4.122082  4.661105  4.052604  3.808965   \n",
       "..        ...       ...        ...       ...       ...       ...       ...   \n",
       "495 -1.030892 -1.550898  -2.805898 -1.077694 -0.864771 -0.577531 -0.770679   \n",
       "496 -0.963937 -0.695969  -0.526231 -1.356482 -1.546962 -1.124048 -1.076651   \n",
       "497 -0.877226  0.018579   1.250222 -1.610250 -2.134672 -1.516238 -1.285177   \n",
       "498 -0.901139 -0.286753   0.436055 -1.510683 -1.891033 -1.321054 -1.175901   \n",
       "499 -1.741025 -3.158284  -4.643153 -0.159136  0.751059 -0.777156 -1.092296   \n",
       "\n",
       "          7         8         9    ...       490       491       492  \\\n",
       "0    3.631782  3.615154  3.852411  ... -1.050648 -0.877226 -0.622280   \n",
       "1    3.531883  1.749026  5.185921  ... -1.410516  0.018579 -0.652447   \n",
       "2    3.354030 -1.915498  7.378499  ... -2.302683  1.250222 -1.827926   \n",
       "3    3.664491  4.162841  3.059893  ... -1.102714 -1.610250 -1.599009   \n",
       "4    3.714524  5.067003  2.338280  ... -0.959251 -2.134672 -1.774606   \n",
       "..        ...       ...       ...  ...       ...       ...       ...   \n",
       "495 -1.059940  0.449597 -1.818682  ...  0.841224  0.128070  1.506881   \n",
       "496 -1.143898 -1.233603 -0.745033  ...  0.459676  0.775041  1.138503   \n",
       "497 -1.208840 -2.467239  0.113445  ...  0.211608  1.338474  1.057637   \n",
       "498 -1.178855 -1.866096 -0.270001  ...  0.347875  1.107413  1.189201   \n",
       "499 -1.001465  0.323868 -3.098677  ...  0.212840 -1.519558 -2.113962   \n",
       "\n",
       "          493       494       495       496       497       498       499  \n",
       "0   -1.042334 -1.070403 -1.030892 -0.963937 -0.877226 -0.901139 -1.741025  \n",
       "1   -0.519087 -1.270134 -1.550898 -0.695969  0.018579 -0.286753 -3.158284  \n",
       "2    0.332080 -1.799468 -2.805898 -0.526231  1.250222  0.436055 -4.643153  \n",
       "3   -1.351889 -1.127734 -1.077694 -1.356482 -1.610250 -1.510683 -0.159136  \n",
       "4   -1.635491 -1.053732 -0.864771 -1.546962 -2.134672 -1.891033  0.751059  \n",
       "..        ...       ...       ...       ...       ...       ...       ...  \n",
       "495  0.086455  0.656987  1.025460  0.484647  0.128070  0.321217  0.229034  \n",
       "496  0.504528  0.434705  0.484647  0.617359  0.775041  0.727644 -0.653359  \n",
       "497  0.840807  0.295147  0.128070  0.775041  1.338474  1.107413 -1.519558  \n",
       "498  0.691496  0.374533  0.321217  0.727644  1.107413  0.962261 -1.204418  \n",
       "499 -0.449826  0.196647  0.229034 -0.653359 -1.519558 -1.204418  4.333325  \n",
       "\n",
       "[500 rows x 500 columns]"
      ]
     },
     "execution_count": 38,
     "metadata": {},
     "output_type": "execute_result"
    }
   ],
   "source": [
    "pd.DataFrame(((df - np.mean(df)).values @ scipy.linalg.inv(df.cov().values)) @ ((df - np.mean(df)).T).values)"
   ]
  },
  {
   "cell_type": "markdown",
   "metadata": {},
   "source": [
    "### **So, good here as everything matched!!**"
   ]
  },
  {
   "cell_type": "markdown",
   "metadata": {},
   "source": [
    "#### **CASE-V**\n",
    "##### **Applying Mahalanobis Distance Metric on Breast Cancer**"
   ]
  },
  {
   "cell_type": "code",
   "execution_count": 40,
   "metadata": {},
   "outputs": [],
   "source": [
    "cancer = load_breast_cancer()"
   ]
  },
  {
   "cell_type": "code",
   "execution_count": 41,
   "metadata": {},
   "outputs": [
    {
     "data": {
      "text/html": [
       "<div>\n",
       "<style scoped>\n",
       "    .dataframe tbody tr th:only-of-type {\n",
       "        vertical-align: middle;\n",
       "    }\n",
       "\n",
       "    .dataframe tbody tr th {\n",
       "        vertical-align: top;\n",
       "    }\n",
       "\n",
       "    .dataframe thead th {\n",
       "        text-align: right;\n",
       "    }\n",
       "</style>\n",
       "<table border=\"1\" class=\"dataframe\">\n",
       "  <thead>\n",
       "    <tr style=\"text-align: right;\">\n",
       "      <th></th>\n",
       "      <th>mean radius</th>\n",
       "      <th>mean texture</th>\n",
       "      <th>mean perimeter</th>\n",
       "      <th>mean area</th>\n",
       "      <th>mean smoothness</th>\n",
       "      <th>mean compactness</th>\n",
       "      <th>mean concavity</th>\n",
       "      <th>mean concave points</th>\n",
       "      <th>mean symmetry</th>\n",
       "      <th>mean fractal dimension</th>\n",
       "      <th>...</th>\n",
       "      <th>worst radius</th>\n",
       "      <th>worst texture</th>\n",
       "      <th>worst perimeter</th>\n",
       "      <th>worst area</th>\n",
       "      <th>worst smoothness</th>\n",
       "      <th>worst compactness</th>\n",
       "      <th>worst concavity</th>\n",
       "      <th>worst concave points</th>\n",
       "      <th>worst symmetry</th>\n",
       "      <th>worst fractal dimension</th>\n",
       "    </tr>\n",
       "  </thead>\n",
       "  <tbody>\n",
       "    <tr>\n",
       "      <th>0</th>\n",
       "      <td>17.99</td>\n",
       "      <td>10.38</td>\n",
       "      <td>122.80</td>\n",
       "      <td>1001.0</td>\n",
       "      <td>0.11840</td>\n",
       "      <td>0.27760</td>\n",
       "      <td>0.3001</td>\n",
       "      <td>0.14710</td>\n",
       "      <td>0.2419</td>\n",
       "      <td>0.07871</td>\n",
       "      <td>...</td>\n",
       "      <td>25.38</td>\n",
       "      <td>17.33</td>\n",
       "      <td>184.60</td>\n",
       "      <td>2019.0</td>\n",
       "      <td>0.1622</td>\n",
       "      <td>0.6656</td>\n",
       "      <td>0.7119</td>\n",
       "      <td>0.2654</td>\n",
       "      <td>0.4601</td>\n",
       "      <td>0.11890</td>\n",
       "    </tr>\n",
       "    <tr>\n",
       "      <th>1</th>\n",
       "      <td>20.57</td>\n",
       "      <td>17.77</td>\n",
       "      <td>132.90</td>\n",
       "      <td>1326.0</td>\n",
       "      <td>0.08474</td>\n",
       "      <td>0.07864</td>\n",
       "      <td>0.0869</td>\n",
       "      <td>0.07017</td>\n",
       "      <td>0.1812</td>\n",
       "      <td>0.05667</td>\n",
       "      <td>...</td>\n",
       "      <td>24.99</td>\n",
       "      <td>23.41</td>\n",
       "      <td>158.80</td>\n",
       "      <td>1956.0</td>\n",
       "      <td>0.1238</td>\n",
       "      <td>0.1866</td>\n",
       "      <td>0.2416</td>\n",
       "      <td>0.1860</td>\n",
       "      <td>0.2750</td>\n",
       "      <td>0.08902</td>\n",
       "    </tr>\n",
       "    <tr>\n",
       "      <th>2</th>\n",
       "      <td>19.69</td>\n",
       "      <td>21.25</td>\n",
       "      <td>130.00</td>\n",
       "      <td>1203.0</td>\n",
       "      <td>0.10960</td>\n",
       "      <td>0.15990</td>\n",
       "      <td>0.1974</td>\n",
       "      <td>0.12790</td>\n",
       "      <td>0.2069</td>\n",
       "      <td>0.05999</td>\n",
       "      <td>...</td>\n",
       "      <td>23.57</td>\n",
       "      <td>25.53</td>\n",
       "      <td>152.50</td>\n",
       "      <td>1709.0</td>\n",
       "      <td>0.1444</td>\n",
       "      <td>0.4245</td>\n",
       "      <td>0.4504</td>\n",
       "      <td>0.2430</td>\n",
       "      <td>0.3613</td>\n",
       "      <td>0.08758</td>\n",
       "    </tr>\n",
       "    <tr>\n",
       "      <th>3</th>\n",
       "      <td>11.42</td>\n",
       "      <td>20.38</td>\n",
       "      <td>77.58</td>\n",
       "      <td>386.1</td>\n",
       "      <td>0.14250</td>\n",
       "      <td>0.28390</td>\n",
       "      <td>0.2414</td>\n",
       "      <td>0.10520</td>\n",
       "      <td>0.2597</td>\n",
       "      <td>0.09744</td>\n",
       "      <td>...</td>\n",
       "      <td>14.91</td>\n",
       "      <td>26.50</td>\n",
       "      <td>98.87</td>\n",
       "      <td>567.7</td>\n",
       "      <td>0.2098</td>\n",
       "      <td>0.8663</td>\n",
       "      <td>0.6869</td>\n",
       "      <td>0.2575</td>\n",
       "      <td>0.6638</td>\n",
       "      <td>0.17300</td>\n",
       "    </tr>\n",
       "    <tr>\n",
       "      <th>4</th>\n",
       "      <td>20.29</td>\n",
       "      <td>14.34</td>\n",
       "      <td>135.10</td>\n",
       "      <td>1297.0</td>\n",
       "      <td>0.10030</td>\n",
       "      <td>0.13280</td>\n",
       "      <td>0.1980</td>\n",
       "      <td>0.10430</td>\n",
       "      <td>0.1809</td>\n",
       "      <td>0.05883</td>\n",
       "      <td>...</td>\n",
       "      <td>22.54</td>\n",
       "      <td>16.67</td>\n",
       "      <td>152.20</td>\n",
       "      <td>1575.0</td>\n",
       "      <td>0.1374</td>\n",
       "      <td>0.2050</td>\n",
       "      <td>0.4000</td>\n",
       "      <td>0.1625</td>\n",
       "      <td>0.2364</td>\n",
       "      <td>0.07678</td>\n",
       "    </tr>\n",
       "  </tbody>\n",
       "</table>\n",
       "<p>5 rows × 30 columns</p>\n",
       "</div>"
      ],
      "text/plain": [
       "   mean radius  mean texture  mean perimeter  mean area  mean smoothness  \\\n",
       "0        17.99         10.38          122.80     1001.0          0.11840   \n",
       "1        20.57         17.77          132.90     1326.0          0.08474   \n",
       "2        19.69         21.25          130.00     1203.0          0.10960   \n",
       "3        11.42         20.38           77.58      386.1          0.14250   \n",
       "4        20.29         14.34          135.10     1297.0          0.10030   \n",
       "\n",
       "   mean compactness  mean concavity  mean concave points  mean symmetry  \\\n",
       "0           0.27760          0.3001              0.14710         0.2419   \n",
       "1           0.07864          0.0869              0.07017         0.1812   \n",
       "2           0.15990          0.1974              0.12790         0.2069   \n",
       "3           0.28390          0.2414              0.10520         0.2597   \n",
       "4           0.13280          0.1980              0.10430         0.1809   \n",
       "\n",
       "   mean fractal dimension  ...  worst radius  worst texture  worst perimeter  \\\n",
       "0                 0.07871  ...         25.38          17.33           184.60   \n",
       "1                 0.05667  ...         24.99          23.41           158.80   \n",
       "2                 0.05999  ...         23.57          25.53           152.50   \n",
       "3                 0.09744  ...         14.91          26.50            98.87   \n",
       "4                 0.05883  ...         22.54          16.67           152.20   \n",
       "\n",
       "   worst area  worst smoothness  worst compactness  worst concavity  \\\n",
       "0      2019.0            0.1622             0.6656           0.7119   \n",
       "1      1956.0            0.1238             0.1866           0.2416   \n",
       "2      1709.0            0.1444             0.4245           0.4504   \n",
       "3       567.7            0.2098             0.8663           0.6869   \n",
       "4      1575.0            0.1374             0.2050           0.4000   \n",
       "\n",
       "   worst concave points  worst symmetry  worst fractal dimension  \n",
       "0                0.2654          0.4601                  0.11890  \n",
       "1                0.1860          0.2750                  0.08902  \n",
       "2                0.2430          0.3613                  0.08758  \n",
       "3                0.2575          0.6638                  0.17300  \n",
       "4                0.1625          0.2364                  0.07678  \n",
       "\n",
       "[5 rows x 30 columns]"
      ]
     },
     "execution_count": 41,
     "metadata": {},
     "output_type": "execute_result"
    }
   ],
   "source": [
    "cancer_df = pd.DataFrame(cancer.data,columns=cancer.feature_names)\n",
    "cancer_df.head()"
   ]
  },
  {
   "cell_type": "code",
   "execution_count": 42,
   "metadata": {},
   "outputs": [
    {
     "data": {
      "text/html": [
       "<div>\n",
       "<style scoped>\n",
       "    .dataframe tbody tr th:only-of-type {\n",
       "        vertical-align: middle;\n",
       "    }\n",
       "\n",
       "    .dataframe tbody tr th {\n",
       "        vertical-align: top;\n",
       "    }\n",
       "\n",
       "    .dataframe thead th {\n",
       "        text-align: right;\n",
       "    }\n",
       "</style>\n",
       "<table border=\"1\" class=\"dataframe\">\n",
       "  <thead>\n",
       "    <tr style=\"text-align: right;\">\n",
       "      <th></th>\n",
       "      <th>Label</th>\n",
       "    </tr>\n",
       "  </thead>\n",
       "  <tbody>\n",
       "    <tr>\n",
       "      <th>0</th>\n",
       "      <td>0</td>\n",
       "    </tr>\n",
       "    <tr>\n",
       "      <th>1</th>\n",
       "      <td>0</td>\n",
       "    </tr>\n",
       "    <tr>\n",
       "      <th>2</th>\n",
       "      <td>0</td>\n",
       "    </tr>\n",
       "    <tr>\n",
       "      <th>3</th>\n",
       "      <td>0</td>\n",
       "    </tr>\n",
       "    <tr>\n",
       "      <th>4</th>\n",
       "      <td>0</td>\n",
       "    </tr>\n",
       "  </tbody>\n",
       "</table>\n",
       "</div>"
      ],
      "text/plain": [
       "   Label\n",
       "0      0\n",
       "1      0\n",
       "2      0\n",
       "3      0\n",
       "4      0"
      ]
     },
     "execution_count": 42,
     "metadata": {},
     "output_type": "execute_result"
    }
   ],
   "source": [
    "y = pd.DataFrame(cancer.target,columns=['Label'])\n",
    "y.head()"
   ]
  },
  {
   "cell_type": "code",
   "execution_count": 43,
   "metadata": {},
   "outputs": [
    {
     "data": {
      "text/html": [
       "<div>\n",
       "<style scoped>\n",
       "    .dataframe tbody tr th:only-of-type {\n",
       "        vertical-align: middle;\n",
       "    }\n",
       "\n",
       "    .dataframe tbody tr th {\n",
       "        vertical-align: top;\n",
       "    }\n",
       "\n",
       "    .dataframe thead th {\n",
       "        text-align: right;\n",
       "    }\n",
       "</style>\n",
       "<table border=\"1\" class=\"dataframe\">\n",
       "  <thead>\n",
       "    <tr style=\"text-align: right;\">\n",
       "      <th></th>\n",
       "      <th>mean radius</th>\n",
       "      <th>mean texture</th>\n",
       "      <th>mean perimeter</th>\n",
       "      <th>mean area</th>\n",
       "      <th>mean smoothness</th>\n",
       "      <th>mean compactness</th>\n",
       "      <th>mean concavity</th>\n",
       "      <th>mean concave points</th>\n",
       "      <th>mean symmetry</th>\n",
       "      <th>mean fractal dimension</th>\n",
       "      <th>...</th>\n",
       "      <th>worst texture</th>\n",
       "      <th>worst perimeter</th>\n",
       "      <th>worst area</th>\n",
       "      <th>worst smoothness</th>\n",
       "      <th>worst compactness</th>\n",
       "      <th>worst concavity</th>\n",
       "      <th>worst concave points</th>\n",
       "      <th>worst symmetry</th>\n",
       "      <th>worst fractal dimension</th>\n",
       "      <th>Label</th>\n",
       "    </tr>\n",
       "  </thead>\n",
       "  <tbody>\n",
       "    <tr>\n",
       "      <th>0</th>\n",
       "      <td>17.99</td>\n",
       "      <td>10.38</td>\n",
       "      <td>122.80</td>\n",
       "      <td>1001.0</td>\n",
       "      <td>0.11840</td>\n",
       "      <td>0.27760</td>\n",
       "      <td>0.3001</td>\n",
       "      <td>0.14710</td>\n",
       "      <td>0.2419</td>\n",
       "      <td>0.07871</td>\n",
       "      <td>...</td>\n",
       "      <td>17.33</td>\n",
       "      <td>184.60</td>\n",
       "      <td>2019.0</td>\n",
       "      <td>0.1622</td>\n",
       "      <td>0.6656</td>\n",
       "      <td>0.7119</td>\n",
       "      <td>0.2654</td>\n",
       "      <td>0.4601</td>\n",
       "      <td>0.11890</td>\n",
       "      <td>0</td>\n",
       "    </tr>\n",
       "    <tr>\n",
       "      <th>1</th>\n",
       "      <td>20.57</td>\n",
       "      <td>17.77</td>\n",
       "      <td>132.90</td>\n",
       "      <td>1326.0</td>\n",
       "      <td>0.08474</td>\n",
       "      <td>0.07864</td>\n",
       "      <td>0.0869</td>\n",
       "      <td>0.07017</td>\n",
       "      <td>0.1812</td>\n",
       "      <td>0.05667</td>\n",
       "      <td>...</td>\n",
       "      <td>23.41</td>\n",
       "      <td>158.80</td>\n",
       "      <td>1956.0</td>\n",
       "      <td>0.1238</td>\n",
       "      <td>0.1866</td>\n",
       "      <td>0.2416</td>\n",
       "      <td>0.1860</td>\n",
       "      <td>0.2750</td>\n",
       "      <td>0.08902</td>\n",
       "      <td>0</td>\n",
       "    </tr>\n",
       "    <tr>\n",
       "      <th>2</th>\n",
       "      <td>19.69</td>\n",
       "      <td>21.25</td>\n",
       "      <td>130.00</td>\n",
       "      <td>1203.0</td>\n",
       "      <td>0.10960</td>\n",
       "      <td>0.15990</td>\n",
       "      <td>0.1974</td>\n",
       "      <td>0.12790</td>\n",
       "      <td>0.2069</td>\n",
       "      <td>0.05999</td>\n",
       "      <td>...</td>\n",
       "      <td>25.53</td>\n",
       "      <td>152.50</td>\n",
       "      <td>1709.0</td>\n",
       "      <td>0.1444</td>\n",
       "      <td>0.4245</td>\n",
       "      <td>0.4504</td>\n",
       "      <td>0.2430</td>\n",
       "      <td>0.3613</td>\n",
       "      <td>0.08758</td>\n",
       "      <td>0</td>\n",
       "    </tr>\n",
       "    <tr>\n",
       "      <th>3</th>\n",
       "      <td>11.42</td>\n",
       "      <td>20.38</td>\n",
       "      <td>77.58</td>\n",
       "      <td>386.1</td>\n",
       "      <td>0.14250</td>\n",
       "      <td>0.28390</td>\n",
       "      <td>0.2414</td>\n",
       "      <td>0.10520</td>\n",
       "      <td>0.2597</td>\n",
       "      <td>0.09744</td>\n",
       "      <td>...</td>\n",
       "      <td>26.50</td>\n",
       "      <td>98.87</td>\n",
       "      <td>567.7</td>\n",
       "      <td>0.2098</td>\n",
       "      <td>0.8663</td>\n",
       "      <td>0.6869</td>\n",
       "      <td>0.2575</td>\n",
       "      <td>0.6638</td>\n",
       "      <td>0.17300</td>\n",
       "      <td>0</td>\n",
       "    </tr>\n",
       "    <tr>\n",
       "      <th>4</th>\n",
       "      <td>20.29</td>\n",
       "      <td>14.34</td>\n",
       "      <td>135.10</td>\n",
       "      <td>1297.0</td>\n",
       "      <td>0.10030</td>\n",
       "      <td>0.13280</td>\n",
       "      <td>0.1980</td>\n",
       "      <td>0.10430</td>\n",
       "      <td>0.1809</td>\n",
       "      <td>0.05883</td>\n",
       "      <td>...</td>\n",
       "      <td>16.67</td>\n",
       "      <td>152.20</td>\n",
       "      <td>1575.0</td>\n",
       "      <td>0.1374</td>\n",
       "      <td>0.2050</td>\n",
       "      <td>0.4000</td>\n",
       "      <td>0.1625</td>\n",
       "      <td>0.2364</td>\n",
       "      <td>0.07678</td>\n",
       "      <td>0</td>\n",
       "    </tr>\n",
       "  </tbody>\n",
       "</table>\n",
       "<p>5 rows × 31 columns</p>\n",
       "</div>"
      ],
      "text/plain": [
       "   mean radius  mean texture  mean perimeter  mean area  mean smoothness  \\\n",
       "0        17.99         10.38          122.80     1001.0          0.11840   \n",
       "1        20.57         17.77          132.90     1326.0          0.08474   \n",
       "2        19.69         21.25          130.00     1203.0          0.10960   \n",
       "3        11.42         20.38           77.58      386.1          0.14250   \n",
       "4        20.29         14.34          135.10     1297.0          0.10030   \n",
       "\n",
       "   mean compactness  mean concavity  mean concave points  mean symmetry  \\\n",
       "0           0.27760          0.3001              0.14710         0.2419   \n",
       "1           0.07864          0.0869              0.07017         0.1812   \n",
       "2           0.15990          0.1974              0.12790         0.2069   \n",
       "3           0.28390          0.2414              0.10520         0.2597   \n",
       "4           0.13280          0.1980              0.10430         0.1809   \n",
       "\n",
       "   mean fractal dimension  ...  worst texture  worst perimeter  worst area  \\\n",
       "0                 0.07871  ...          17.33           184.60      2019.0   \n",
       "1                 0.05667  ...          23.41           158.80      1956.0   \n",
       "2                 0.05999  ...          25.53           152.50      1709.0   \n",
       "3                 0.09744  ...          26.50            98.87       567.7   \n",
       "4                 0.05883  ...          16.67           152.20      1575.0   \n",
       "\n",
       "   worst smoothness  worst compactness  worst concavity  worst concave points  \\\n",
       "0            0.1622             0.6656           0.7119                0.2654   \n",
       "1            0.1238             0.1866           0.2416                0.1860   \n",
       "2            0.1444             0.4245           0.4504                0.2430   \n",
       "3            0.2098             0.8663           0.6869                0.2575   \n",
       "4            0.1374             0.2050           0.4000                0.1625   \n",
       "\n",
       "   worst symmetry  worst fractal dimension  Label  \n",
       "0          0.4601                  0.11890      0  \n",
       "1          0.2750                  0.08902      0  \n",
       "2          0.3613                  0.08758      0  \n",
       "3          0.6638                  0.17300      0  \n",
       "4          0.2364                  0.07678      0  \n",
       "\n",
       "[5 rows x 31 columns]"
      ]
     },
     "execution_count": 43,
     "metadata": {},
     "output_type": "execute_result"
    }
   ],
   "source": [
    "cancer_df = pd.concat([cancer_df,y],axis=1).copy(deep=True)\n",
    "cancer_df.head()"
   ]
  },
  {
   "cell_type": "code",
   "execution_count": 44,
   "metadata": {},
   "outputs": [],
   "source": [
    "from sklearn.model_selection import train_test_split\n",
    "from sklearn.metrics import accuracy_score, precision_score, recall_score"
   ]
  },
  {
   "cell_type": "code",
   "execution_count": 45,
   "metadata": {},
   "outputs": [],
   "source": [
    "X_train, X_test, y_train, y_test = train_test_split(cancer_df.iloc[:, 0:-1],cancer_df['Label'],test_size=0.40,random_state=42,\n",
    "                                                    stratify=cancer_df['Label'])"
   ]
  },
  {
   "cell_type": "code",
   "execution_count": 46,
   "metadata": {},
   "outputs": [
    {
     "data": {
      "text/plain": [
       "((341, 30), (228, 30), (341,), (228,))"
      ]
     },
     "execution_count": 46,
     "metadata": {},
     "output_type": "execute_result"
    }
   ],
   "source": [
    "X_train.shape, X_test.shape, y_train.shape, y_test.shape"
   ]
  },
  {
   "cell_type": "markdown",
   "metadata": {},
   "source": [
    "#### **Seggregating the positive and negative observations**"
   ]
  },
  {
   "cell_type": "markdown",
   "metadata": {},
   "source": [
    "##### **Only positivies**"
   ]
  },
  {
   "cell_type": "code",
   "execution_count": 47,
   "metadata": {},
   "outputs": [
    {
     "data": {
      "text/plain": [
       "(214, 31)"
      ]
     },
     "execution_count": 47,
     "metadata": {},
     "output_type": "execute_result"
    }
   ],
   "source": [
    "train_df = pd.concat([X_train,y_train],axis=1).copy(deep=True)\n",
    "train_df_pos = train_df[train_df['Label']==1].copy(deep=True)\n",
    "train_df_pos.shape"
   ]
  },
  {
   "cell_type": "code",
   "execution_count": 48,
   "metadata": {},
   "outputs": [
    {
     "data": {
      "text/html": [
       "<div>\n",
       "<style scoped>\n",
       "    .dataframe tbody tr th:only-of-type {\n",
       "        vertical-align: middle;\n",
       "    }\n",
       "\n",
       "    .dataframe tbody tr th {\n",
       "        vertical-align: top;\n",
       "    }\n",
       "\n",
       "    .dataframe thead th {\n",
       "        text-align: right;\n",
       "    }\n",
       "</style>\n",
       "<table border=\"1\" class=\"dataframe\">\n",
       "  <thead>\n",
       "    <tr style=\"text-align: right;\">\n",
       "      <th></th>\n",
       "      <th>mean radius</th>\n",
       "      <th>mean texture</th>\n",
       "      <th>mean perimeter</th>\n",
       "      <th>mean area</th>\n",
       "      <th>mean smoothness</th>\n",
       "      <th>mean compactness</th>\n",
       "      <th>mean concavity</th>\n",
       "      <th>mean concave points</th>\n",
       "      <th>mean symmetry</th>\n",
       "      <th>mean fractal dimension</th>\n",
       "      <th>...</th>\n",
       "      <th>worst texture</th>\n",
       "      <th>worst perimeter</th>\n",
       "      <th>worst area</th>\n",
       "      <th>worst smoothness</th>\n",
       "      <th>worst compactness</th>\n",
       "      <th>worst concavity</th>\n",
       "      <th>worst concave points</th>\n",
       "      <th>worst symmetry</th>\n",
       "      <th>worst fractal dimension</th>\n",
       "      <th>Label</th>\n",
       "    </tr>\n",
       "  </thead>\n",
       "  <tbody>\n",
       "    <tr>\n",
       "      <th>525</th>\n",
       "      <td>8.571</td>\n",
       "      <td>13.10</td>\n",
       "      <td>54.53</td>\n",
       "      <td>221.3</td>\n",
       "      <td>0.10360</td>\n",
       "      <td>0.07632</td>\n",
       "      <td>0.025650</td>\n",
       "      <td>0.015100</td>\n",
       "      <td>0.1678</td>\n",
       "      <td>0.07126</td>\n",
       "      <td>...</td>\n",
       "      <td>18.45</td>\n",
       "      <td>63.30</td>\n",
       "      <td>275.6</td>\n",
       "      <td>0.1641</td>\n",
       "      <td>0.22350</td>\n",
       "      <td>0.175400</td>\n",
       "      <td>0.08512</td>\n",
       "      <td>0.2983</td>\n",
       "      <td>0.10490</td>\n",
       "      <td>1</td>\n",
       "    </tr>\n",
       "    <tr>\n",
       "      <th>58</th>\n",
       "      <td>13.050</td>\n",
       "      <td>19.31</td>\n",
       "      <td>82.61</td>\n",
       "      <td>527.2</td>\n",
       "      <td>0.08060</td>\n",
       "      <td>0.03789</td>\n",
       "      <td>0.000692</td>\n",
       "      <td>0.004167</td>\n",
       "      <td>0.1819</td>\n",
       "      <td>0.05501</td>\n",
       "      <td>...</td>\n",
       "      <td>22.25</td>\n",
       "      <td>90.24</td>\n",
       "      <td>624.1</td>\n",
       "      <td>0.1021</td>\n",
       "      <td>0.06191</td>\n",
       "      <td>0.001845</td>\n",
       "      <td>0.01111</td>\n",
       "      <td>0.2439</td>\n",
       "      <td>0.06289</td>\n",
       "      <td>1</td>\n",
       "    </tr>\n",
       "    <tr>\n",
       "      <th>342</th>\n",
       "      <td>11.060</td>\n",
       "      <td>14.96</td>\n",
       "      <td>71.49</td>\n",
       "      <td>373.9</td>\n",
       "      <td>0.10330</td>\n",
       "      <td>0.09097</td>\n",
       "      <td>0.053970</td>\n",
       "      <td>0.033410</td>\n",
       "      <td>0.1776</td>\n",
       "      <td>0.06907</td>\n",
       "      <td>...</td>\n",
       "      <td>19.90</td>\n",
       "      <td>79.76</td>\n",
       "      <td>440.0</td>\n",
       "      <td>0.1418</td>\n",
       "      <td>0.22100</td>\n",
       "      <td>0.229900</td>\n",
       "      <td>0.10750</td>\n",
       "      <td>0.3301</td>\n",
       "      <td>0.09080</td>\n",
       "      <td>1</td>\n",
       "    </tr>\n",
       "    <tr>\n",
       "      <th>413</th>\n",
       "      <td>14.990</td>\n",
       "      <td>22.11</td>\n",
       "      <td>97.53</td>\n",
       "      <td>693.7</td>\n",
       "      <td>0.08515</td>\n",
       "      <td>0.10250</td>\n",
       "      <td>0.068590</td>\n",
       "      <td>0.038760</td>\n",
       "      <td>0.1944</td>\n",
       "      <td>0.05913</td>\n",
       "      <td>...</td>\n",
       "      <td>31.55</td>\n",
       "      <td>110.20</td>\n",
       "      <td>867.1</td>\n",
       "      <td>0.1077</td>\n",
       "      <td>0.33450</td>\n",
       "      <td>0.311400</td>\n",
       "      <td>0.13080</td>\n",
       "      <td>0.3163</td>\n",
       "      <td>0.09251</td>\n",
       "      <td>1</td>\n",
       "    </tr>\n",
       "    <tr>\n",
       "      <th>559</th>\n",
       "      <td>11.510</td>\n",
       "      <td>23.93</td>\n",
       "      <td>74.52</td>\n",
       "      <td>403.5</td>\n",
       "      <td>0.09261</td>\n",
       "      <td>0.10210</td>\n",
       "      <td>0.111200</td>\n",
       "      <td>0.041050</td>\n",
       "      <td>0.1388</td>\n",
       "      <td>0.06570</td>\n",
       "      <td>...</td>\n",
       "      <td>37.16</td>\n",
       "      <td>82.28</td>\n",
       "      <td>474.2</td>\n",
       "      <td>0.1298</td>\n",
       "      <td>0.25170</td>\n",
       "      <td>0.363000</td>\n",
       "      <td>0.09653</td>\n",
       "      <td>0.2112</td>\n",
       "      <td>0.08732</td>\n",
       "      <td>1</td>\n",
       "    </tr>\n",
       "  </tbody>\n",
       "</table>\n",
       "<p>5 rows × 31 columns</p>\n",
       "</div>"
      ],
      "text/plain": [
       "     mean radius  mean texture  mean perimeter  mean area  mean smoothness  \\\n",
       "525        8.571         13.10           54.53      221.3          0.10360   \n",
       "58        13.050         19.31           82.61      527.2          0.08060   \n",
       "342       11.060         14.96           71.49      373.9          0.10330   \n",
       "413       14.990         22.11           97.53      693.7          0.08515   \n",
       "559       11.510         23.93           74.52      403.5          0.09261   \n",
       "\n",
       "     mean compactness  mean concavity  mean concave points  mean symmetry  \\\n",
       "525           0.07632        0.025650             0.015100         0.1678   \n",
       "58            0.03789        0.000692             0.004167         0.1819   \n",
       "342           0.09097        0.053970             0.033410         0.1776   \n",
       "413           0.10250        0.068590             0.038760         0.1944   \n",
       "559           0.10210        0.111200             0.041050         0.1388   \n",
       "\n",
       "     mean fractal dimension  ...  worst texture  worst perimeter  worst area  \\\n",
       "525                 0.07126  ...          18.45            63.30       275.6   \n",
       "58                  0.05501  ...          22.25            90.24       624.1   \n",
       "342                 0.06907  ...          19.90            79.76       440.0   \n",
       "413                 0.05913  ...          31.55           110.20       867.1   \n",
       "559                 0.06570  ...          37.16            82.28       474.2   \n",
       "\n",
       "     worst smoothness  worst compactness  worst concavity  \\\n",
       "525            0.1641            0.22350         0.175400   \n",
       "58             0.1021            0.06191         0.001845   \n",
       "342            0.1418            0.22100         0.229900   \n",
       "413            0.1077            0.33450         0.311400   \n",
       "559            0.1298            0.25170         0.363000   \n",
       "\n",
       "     worst concave points  worst symmetry  worst fractal dimension  Label  \n",
       "525               0.08512          0.2983                  0.10490      1  \n",
       "58                0.01111          0.2439                  0.06289      1  \n",
       "342               0.10750          0.3301                  0.09080      1  \n",
       "413               0.13080          0.3163                  0.09251      1  \n",
       "559               0.09653          0.2112                  0.08732      1  \n",
       "\n",
       "[5 rows x 31 columns]"
      ]
     },
     "execution_count": 48,
     "metadata": {},
     "output_type": "execute_result"
    }
   ],
   "source": [
    "train_df_pos.head()"
   ]
  },
  {
   "cell_type": "markdown",
   "metadata": {},
   "source": [
    "##### **Only negatives**"
   ]
  },
  {
   "cell_type": "code",
   "execution_count": 49,
   "metadata": {},
   "outputs": [
    {
     "data": {
      "text/plain": [
       "(127, 31)"
      ]
     },
     "execution_count": 49,
     "metadata": {},
     "output_type": "execute_result"
    }
   ],
   "source": [
    "train_df_neg = train_df[train_df['Label']==0].copy(deep=True)\n",
    "train_df_neg.shape"
   ]
  },
  {
   "cell_type": "code",
   "execution_count": 50,
   "metadata": {},
   "outputs": [
    {
     "data": {
      "text/html": [
       "<div>\n",
       "<style scoped>\n",
       "    .dataframe tbody tr th:only-of-type {\n",
       "        vertical-align: middle;\n",
       "    }\n",
       "\n",
       "    .dataframe tbody tr th {\n",
       "        vertical-align: top;\n",
       "    }\n",
       "\n",
       "    .dataframe thead th {\n",
       "        text-align: right;\n",
       "    }\n",
       "</style>\n",
       "<table border=\"1\" class=\"dataframe\">\n",
       "  <thead>\n",
       "    <tr style=\"text-align: right;\">\n",
       "      <th></th>\n",
       "      <th>mean radius</th>\n",
       "      <th>mean texture</th>\n",
       "      <th>mean perimeter</th>\n",
       "      <th>mean area</th>\n",
       "      <th>mean smoothness</th>\n",
       "      <th>mean compactness</th>\n",
       "      <th>mean concavity</th>\n",
       "      <th>mean concave points</th>\n",
       "      <th>mean symmetry</th>\n",
       "      <th>mean fractal dimension</th>\n",
       "      <th>...</th>\n",
       "      <th>worst texture</th>\n",
       "      <th>worst perimeter</th>\n",
       "      <th>worst area</th>\n",
       "      <th>worst smoothness</th>\n",
       "      <th>worst compactness</th>\n",
       "      <th>worst concavity</th>\n",
       "      <th>worst concave points</th>\n",
       "      <th>worst symmetry</th>\n",
       "      <th>worst fractal dimension</th>\n",
       "      <th>Label</th>\n",
       "    </tr>\n",
       "  </thead>\n",
       "  <tbody>\n",
       "    <tr>\n",
       "      <th>39</th>\n",
       "      <td>13.48</td>\n",
       "      <td>20.82</td>\n",
       "      <td>88.40</td>\n",
       "      <td>559.2</td>\n",
       "      <td>0.10160</td>\n",
       "      <td>0.12550</td>\n",
       "      <td>0.1063</td>\n",
       "      <td>0.05439</td>\n",
       "      <td>0.1720</td>\n",
       "      <td>0.06419</td>\n",
       "      <td>...</td>\n",
       "      <td>26.02</td>\n",
       "      <td>107.3</td>\n",
       "      <td>740.4</td>\n",
       "      <td>0.1610</td>\n",
       "      <td>0.4225</td>\n",
       "      <td>0.5030</td>\n",
       "      <td>0.2258</td>\n",
       "      <td>0.2807</td>\n",
       "      <td>0.10710</td>\n",
       "      <td>0</td>\n",
       "    </tr>\n",
       "    <tr>\n",
       "      <th>229</th>\n",
       "      <td>12.83</td>\n",
       "      <td>22.33</td>\n",
       "      <td>85.26</td>\n",
       "      <td>503.2</td>\n",
       "      <td>0.10880</td>\n",
       "      <td>0.17990</td>\n",
       "      <td>0.1695</td>\n",
       "      <td>0.06861</td>\n",
       "      <td>0.2123</td>\n",
       "      <td>0.07254</td>\n",
       "      <td>...</td>\n",
       "      <td>30.15</td>\n",
       "      <td>105.3</td>\n",
       "      <td>706.0</td>\n",
       "      <td>0.1777</td>\n",
       "      <td>0.5343</td>\n",
       "      <td>0.6282</td>\n",
       "      <td>0.1977</td>\n",
       "      <td>0.3407</td>\n",
       "      <td>0.12430</td>\n",
       "      <td>0</td>\n",
       "    </tr>\n",
       "    <tr>\n",
       "      <th>40</th>\n",
       "      <td>13.44</td>\n",
       "      <td>21.58</td>\n",
       "      <td>86.18</td>\n",
       "      <td>563.0</td>\n",
       "      <td>0.08162</td>\n",
       "      <td>0.06031</td>\n",
       "      <td>0.0311</td>\n",
       "      <td>0.02031</td>\n",
       "      <td>0.1784</td>\n",
       "      <td>0.05587</td>\n",
       "      <td>...</td>\n",
       "      <td>30.25</td>\n",
       "      <td>102.5</td>\n",
       "      <td>787.9</td>\n",
       "      <td>0.1094</td>\n",
       "      <td>0.2043</td>\n",
       "      <td>0.2085</td>\n",
       "      <td>0.1112</td>\n",
       "      <td>0.2994</td>\n",
       "      <td>0.07146</td>\n",
       "      <td>0</td>\n",
       "    </tr>\n",
       "    <tr>\n",
       "      <th>172</th>\n",
       "      <td>15.46</td>\n",
       "      <td>11.89</td>\n",
       "      <td>102.50</td>\n",
       "      <td>736.9</td>\n",
       "      <td>0.12570</td>\n",
       "      <td>0.15550</td>\n",
       "      <td>0.2032</td>\n",
       "      <td>0.10970</td>\n",
       "      <td>0.1966</td>\n",
       "      <td>0.07069</td>\n",
       "      <td>...</td>\n",
       "      <td>17.04</td>\n",
       "      <td>125.0</td>\n",
       "      <td>1102.0</td>\n",
       "      <td>0.1531</td>\n",
       "      <td>0.3583</td>\n",
       "      <td>0.5830</td>\n",
       "      <td>0.1827</td>\n",
       "      <td>0.3216</td>\n",
       "      <td>0.10100</td>\n",
       "      <td>0</td>\n",
       "    </tr>\n",
       "    <tr>\n",
       "      <th>213</th>\n",
       "      <td>17.42</td>\n",
       "      <td>25.56</td>\n",
       "      <td>114.50</td>\n",
       "      <td>948.0</td>\n",
       "      <td>0.10060</td>\n",
       "      <td>0.11460</td>\n",
       "      <td>0.1682</td>\n",
       "      <td>0.06597</td>\n",
       "      <td>0.1308</td>\n",
       "      <td>0.05866</td>\n",
       "      <td>...</td>\n",
       "      <td>28.07</td>\n",
       "      <td>120.4</td>\n",
       "      <td>1021.0</td>\n",
       "      <td>0.1243</td>\n",
       "      <td>0.1793</td>\n",
       "      <td>0.2803</td>\n",
       "      <td>0.1099</td>\n",
       "      <td>0.1603</td>\n",
       "      <td>0.06818</td>\n",
       "      <td>0</td>\n",
       "    </tr>\n",
       "  </tbody>\n",
       "</table>\n",
       "<p>5 rows × 31 columns</p>\n",
       "</div>"
      ],
      "text/plain": [
       "     mean radius  mean texture  mean perimeter  mean area  mean smoothness  \\\n",
       "39         13.48         20.82           88.40      559.2          0.10160   \n",
       "229        12.83         22.33           85.26      503.2          0.10880   \n",
       "40         13.44         21.58           86.18      563.0          0.08162   \n",
       "172        15.46         11.89          102.50      736.9          0.12570   \n",
       "213        17.42         25.56          114.50      948.0          0.10060   \n",
       "\n",
       "     mean compactness  mean concavity  mean concave points  mean symmetry  \\\n",
       "39            0.12550          0.1063              0.05439         0.1720   \n",
       "229           0.17990          0.1695              0.06861         0.2123   \n",
       "40            0.06031          0.0311              0.02031         0.1784   \n",
       "172           0.15550          0.2032              0.10970         0.1966   \n",
       "213           0.11460          0.1682              0.06597         0.1308   \n",
       "\n",
       "     mean fractal dimension  ...  worst texture  worst perimeter  worst area  \\\n",
       "39                  0.06419  ...          26.02            107.3       740.4   \n",
       "229                 0.07254  ...          30.15            105.3       706.0   \n",
       "40                  0.05587  ...          30.25            102.5       787.9   \n",
       "172                 0.07069  ...          17.04            125.0      1102.0   \n",
       "213                 0.05866  ...          28.07            120.4      1021.0   \n",
       "\n",
       "     worst smoothness  worst compactness  worst concavity  \\\n",
       "39             0.1610             0.4225           0.5030   \n",
       "229            0.1777             0.5343           0.6282   \n",
       "40             0.1094             0.2043           0.2085   \n",
       "172            0.1531             0.3583           0.5830   \n",
       "213            0.1243             0.1793           0.2803   \n",
       "\n",
       "     worst concave points  worst symmetry  worst fractal dimension  Label  \n",
       "39                 0.2258          0.2807                  0.10710      0  \n",
       "229                0.1977          0.3407                  0.12430      0  \n",
       "40                 0.1112          0.2994                  0.07146      0  \n",
       "172                0.1827          0.3216                  0.10100      0  \n",
       "213                0.1099          0.1603                  0.06818      0  \n",
       "\n",
       "[5 rows x 31 columns]"
      ]
     },
     "execution_count": 50,
     "metadata": {},
     "output_type": "execute_result"
    }
   ],
   "source": [
    "train_df_neg.head()"
   ]
  },
  {
   "cell_type": "markdown",
   "metadata": {},
   "source": [
    "##### **Distance calculation for positive observations**"
   ]
  },
  {
   "cell_type": "code",
   "execution_count": 51,
   "metadata": {},
   "outputs": [],
   "source": [
    "train_df_pos_mh_dist = ((train_df_pos.iloc[:,0:-1] - np.mean(train_df_pos.iloc[:,0:-1])).values\\\n",
    "                        @ scipy.linalg.inv(train_df_pos.iloc[:,0:-1].cov().values))\\\n",
    "@ ((train_df_pos.iloc[:,0:-1] - np.mean(train_df_pos.iloc[:,0:-1])).T).values"
   ]
  },
  {
   "cell_type": "code",
   "execution_count": 52,
   "metadata": {},
   "outputs": [],
   "source": [
    "train_df_pos['mahal_dist'] = train_df_pos_mh_dist.diagonal()"
   ]
  },
  {
   "cell_type": "code",
   "execution_count": 53,
   "metadata": {},
   "outputs": [
    {
     "data": {
      "text/html": [
       "<div>\n",
       "<style scoped>\n",
       "    .dataframe tbody tr th:only-of-type {\n",
       "        vertical-align: middle;\n",
       "    }\n",
       "\n",
       "    .dataframe tbody tr th {\n",
       "        vertical-align: top;\n",
       "    }\n",
       "\n",
       "    .dataframe thead th {\n",
       "        text-align: right;\n",
       "    }\n",
       "</style>\n",
       "<table border=\"1\" class=\"dataframe\">\n",
       "  <thead>\n",
       "    <tr style=\"text-align: right;\">\n",
       "      <th></th>\n",
       "      <th>mean radius</th>\n",
       "      <th>mean texture</th>\n",
       "      <th>mean perimeter</th>\n",
       "      <th>mean area</th>\n",
       "      <th>mean smoothness</th>\n",
       "      <th>mean compactness</th>\n",
       "      <th>mean concavity</th>\n",
       "      <th>mean concave points</th>\n",
       "      <th>mean symmetry</th>\n",
       "      <th>mean fractal dimension</th>\n",
       "      <th>...</th>\n",
       "      <th>worst perimeter</th>\n",
       "      <th>worst area</th>\n",
       "      <th>worst smoothness</th>\n",
       "      <th>worst compactness</th>\n",
       "      <th>worst concavity</th>\n",
       "      <th>worst concave points</th>\n",
       "      <th>worst symmetry</th>\n",
       "      <th>worst fractal dimension</th>\n",
       "      <th>Label</th>\n",
       "      <th>mahal_dist</th>\n",
       "    </tr>\n",
       "  </thead>\n",
       "  <tbody>\n",
       "    <tr>\n",
       "      <th>525</th>\n",
       "      <td>8.571</td>\n",
       "      <td>13.10</td>\n",
       "      <td>54.53</td>\n",
       "      <td>221.3</td>\n",
       "      <td>0.10360</td>\n",
       "      <td>0.07632</td>\n",
       "      <td>0.025650</td>\n",
       "      <td>0.015100</td>\n",
       "      <td>0.1678</td>\n",
       "      <td>0.07126</td>\n",
       "      <td>...</td>\n",
       "      <td>63.30</td>\n",
       "      <td>275.6</td>\n",
       "      <td>0.1641</td>\n",
       "      <td>0.22350</td>\n",
       "      <td>0.175400</td>\n",
       "      <td>0.08512</td>\n",
       "      <td>0.2983</td>\n",
       "      <td>0.10490</td>\n",
       "      <td>1</td>\n",
       "      <td>25.772521</td>\n",
       "    </tr>\n",
       "    <tr>\n",
       "      <th>58</th>\n",
       "      <td>13.050</td>\n",
       "      <td>19.31</td>\n",
       "      <td>82.61</td>\n",
       "      <td>527.2</td>\n",
       "      <td>0.08060</td>\n",
       "      <td>0.03789</td>\n",
       "      <td>0.000692</td>\n",
       "      <td>0.004167</td>\n",
       "      <td>0.1819</td>\n",
       "      <td>0.05501</td>\n",
       "      <td>...</td>\n",
       "      <td>90.24</td>\n",
       "      <td>624.1</td>\n",
       "      <td>0.1021</td>\n",
       "      <td>0.06191</td>\n",
       "      <td>0.001845</td>\n",
       "      <td>0.01111</td>\n",
       "      <td>0.2439</td>\n",
       "      <td>0.06289</td>\n",
       "      <td>1</td>\n",
       "      <td>14.048632</td>\n",
       "    </tr>\n",
       "    <tr>\n",
       "      <th>342</th>\n",
       "      <td>11.060</td>\n",
       "      <td>14.96</td>\n",
       "      <td>71.49</td>\n",
       "      <td>373.9</td>\n",
       "      <td>0.10330</td>\n",
       "      <td>0.09097</td>\n",
       "      <td>0.053970</td>\n",
       "      <td>0.033410</td>\n",
       "      <td>0.1776</td>\n",
       "      <td>0.06907</td>\n",
       "      <td>...</td>\n",
       "      <td>79.76</td>\n",
       "      <td>440.0</td>\n",
       "      <td>0.1418</td>\n",
       "      <td>0.22100</td>\n",
       "      <td>0.229900</td>\n",
       "      <td>0.10750</td>\n",
       "      <td>0.3301</td>\n",
       "      <td>0.09080</td>\n",
       "      <td>1</td>\n",
       "      <td>15.908549</td>\n",
       "    </tr>\n",
       "    <tr>\n",
       "      <th>413</th>\n",
       "      <td>14.990</td>\n",
       "      <td>22.11</td>\n",
       "      <td>97.53</td>\n",
       "      <td>693.7</td>\n",
       "      <td>0.08515</td>\n",
       "      <td>0.10250</td>\n",
       "      <td>0.068590</td>\n",
       "      <td>0.038760</td>\n",
       "      <td>0.1944</td>\n",
       "      <td>0.05913</td>\n",
       "      <td>...</td>\n",
       "      <td>110.20</td>\n",
       "      <td>867.1</td>\n",
       "      <td>0.1077</td>\n",
       "      <td>0.33450</td>\n",
       "      <td>0.311400</td>\n",
       "      <td>0.13080</td>\n",
       "      <td>0.3163</td>\n",
       "      <td>0.09251</td>\n",
       "      <td>1</td>\n",
       "      <td>37.715504</td>\n",
       "    </tr>\n",
       "    <tr>\n",
       "      <th>559</th>\n",
       "      <td>11.510</td>\n",
       "      <td>23.93</td>\n",
       "      <td>74.52</td>\n",
       "      <td>403.5</td>\n",
       "      <td>0.09261</td>\n",
       "      <td>0.10210</td>\n",
       "      <td>0.111200</td>\n",
       "      <td>0.041050</td>\n",
       "      <td>0.1388</td>\n",
       "      <td>0.06570</td>\n",
       "      <td>...</td>\n",
       "      <td>82.28</td>\n",
       "      <td>474.2</td>\n",
       "      <td>0.1298</td>\n",
       "      <td>0.25170</td>\n",
       "      <td>0.363000</td>\n",
       "      <td>0.09653</td>\n",
       "      <td>0.2112</td>\n",
       "      <td>0.08732</td>\n",
       "      <td>1</td>\n",
       "      <td>28.900581</td>\n",
       "    </tr>\n",
       "  </tbody>\n",
       "</table>\n",
       "<p>5 rows × 32 columns</p>\n",
       "</div>"
      ],
      "text/plain": [
       "     mean radius  mean texture  mean perimeter  mean area  mean smoothness  \\\n",
       "525        8.571         13.10           54.53      221.3          0.10360   \n",
       "58        13.050         19.31           82.61      527.2          0.08060   \n",
       "342       11.060         14.96           71.49      373.9          0.10330   \n",
       "413       14.990         22.11           97.53      693.7          0.08515   \n",
       "559       11.510         23.93           74.52      403.5          0.09261   \n",
       "\n",
       "     mean compactness  mean concavity  mean concave points  mean symmetry  \\\n",
       "525           0.07632        0.025650             0.015100         0.1678   \n",
       "58            0.03789        0.000692             0.004167         0.1819   \n",
       "342           0.09097        0.053970             0.033410         0.1776   \n",
       "413           0.10250        0.068590             0.038760         0.1944   \n",
       "559           0.10210        0.111200             0.041050         0.1388   \n",
       "\n",
       "     mean fractal dimension  ...  worst perimeter  worst area  \\\n",
       "525                 0.07126  ...            63.30       275.6   \n",
       "58                  0.05501  ...            90.24       624.1   \n",
       "342                 0.06907  ...            79.76       440.0   \n",
       "413                 0.05913  ...           110.20       867.1   \n",
       "559                 0.06570  ...            82.28       474.2   \n",
       "\n",
       "     worst smoothness  worst compactness  worst concavity  \\\n",
       "525            0.1641            0.22350         0.175400   \n",
       "58             0.1021            0.06191         0.001845   \n",
       "342            0.1418            0.22100         0.229900   \n",
       "413            0.1077            0.33450         0.311400   \n",
       "559            0.1298            0.25170         0.363000   \n",
       "\n",
       "     worst concave points  worst symmetry  worst fractal dimension  Label  \\\n",
       "525               0.08512          0.2983                  0.10490      1   \n",
       "58                0.01111          0.2439                  0.06289      1   \n",
       "342               0.10750          0.3301                  0.09080      1   \n",
       "413               0.13080          0.3163                  0.09251      1   \n",
       "559               0.09653          0.2112                  0.08732      1   \n",
       "\n",
       "     mahal_dist  \n",
       "525   25.772521  \n",
       "58    14.048632  \n",
       "342   15.908549  \n",
       "413   37.715504  \n",
       "559   28.900581  \n",
       "\n",
       "[5 rows x 32 columns]"
      ]
     },
     "execution_count": 53,
     "metadata": {},
     "output_type": "execute_result"
    }
   ],
   "source": [
    "train_df_pos.head()"
   ]
  },
  {
   "cell_type": "markdown",
   "metadata": {},
   "source": [
    "##### **Distance calculation for negative observations**"
   ]
  },
  {
   "cell_type": "code",
   "execution_count": 54,
   "metadata": {},
   "outputs": [],
   "source": [
    "train_df_neg_mh_dist = ((train_df_neg.iloc[:,0:-1] - np.mean(train_df_neg.iloc[:,0:-1])).values\\\n",
    "                        @ scipy.linalg.inv(train_df_neg.iloc[:,0:-1].cov().values))\\\n",
    "@ ((train_df_neg.iloc[:,0:-1] - np.mean(train_df_neg.iloc[:,0:-1])).T).values"
   ]
  },
  {
   "cell_type": "code",
   "execution_count": 55,
   "metadata": {},
   "outputs": [],
   "source": [
    "train_df_neg['mahal_dist'] = train_df_neg_mh_dist.diagonal()"
   ]
  },
  {
   "cell_type": "code",
   "execution_count": 56,
   "metadata": {},
   "outputs": [
    {
     "data": {
      "text/html": [
       "<div>\n",
       "<style scoped>\n",
       "    .dataframe tbody tr th:only-of-type {\n",
       "        vertical-align: middle;\n",
       "    }\n",
       "\n",
       "    .dataframe tbody tr th {\n",
       "        vertical-align: top;\n",
       "    }\n",
       "\n",
       "    .dataframe thead th {\n",
       "        text-align: right;\n",
       "    }\n",
       "</style>\n",
       "<table border=\"1\" class=\"dataframe\">\n",
       "  <thead>\n",
       "    <tr style=\"text-align: right;\">\n",
       "      <th></th>\n",
       "      <th>mean radius</th>\n",
       "      <th>mean texture</th>\n",
       "      <th>mean perimeter</th>\n",
       "      <th>mean area</th>\n",
       "      <th>mean smoothness</th>\n",
       "      <th>mean compactness</th>\n",
       "      <th>mean concavity</th>\n",
       "      <th>mean concave points</th>\n",
       "      <th>mean symmetry</th>\n",
       "      <th>mean fractal dimension</th>\n",
       "      <th>...</th>\n",
       "      <th>worst perimeter</th>\n",
       "      <th>worst area</th>\n",
       "      <th>worst smoothness</th>\n",
       "      <th>worst compactness</th>\n",
       "      <th>worst concavity</th>\n",
       "      <th>worst concave points</th>\n",
       "      <th>worst symmetry</th>\n",
       "      <th>worst fractal dimension</th>\n",
       "      <th>Label</th>\n",
       "      <th>mahal_dist</th>\n",
       "    </tr>\n",
       "  </thead>\n",
       "  <tbody>\n",
       "    <tr>\n",
       "      <th>39</th>\n",
       "      <td>13.48</td>\n",
       "      <td>20.82</td>\n",
       "      <td>88.40</td>\n",
       "      <td>559.2</td>\n",
       "      <td>0.10160</td>\n",
       "      <td>0.12550</td>\n",
       "      <td>0.1063</td>\n",
       "      <td>0.05439</td>\n",
       "      <td>0.1720</td>\n",
       "      <td>0.06419</td>\n",
       "      <td>...</td>\n",
       "      <td>107.3</td>\n",
       "      <td>740.4</td>\n",
       "      <td>0.1610</td>\n",
       "      <td>0.4225</td>\n",
       "      <td>0.5030</td>\n",
       "      <td>0.2258</td>\n",
       "      <td>0.2807</td>\n",
       "      <td>0.10710</td>\n",
       "      <td>0</td>\n",
       "      <td>30.536895</td>\n",
       "    </tr>\n",
       "    <tr>\n",
       "      <th>229</th>\n",
       "      <td>12.83</td>\n",
       "      <td>22.33</td>\n",
       "      <td>85.26</td>\n",
       "      <td>503.2</td>\n",
       "      <td>0.10880</td>\n",
       "      <td>0.17990</td>\n",
       "      <td>0.1695</td>\n",
       "      <td>0.06861</td>\n",
       "      <td>0.2123</td>\n",
       "      <td>0.07254</td>\n",
       "      <td>...</td>\n",
       "      <td>105.3</td>\n",
       "      <td>706.0</td>\n",
       "      <td>0.1777</td>\n",
       "      <td>0.5343</td>\n",
       "      <td>0.6282</td>\n",
       "      <td>0.1977</td>\n",
       "      <td>0.3407</td>\n",
       "      <td>0.12430</td>\n",
       "      <td>0</td>\n",
       "      <td>16.274117</td>\n",
       "    </tr>\n",
       "    <tr>\n",
       "      <th>40</th>\n",
       "      <td>13.44</td>\n",
       "      <td>21.58</td>\n",
       "      <td>86.18</td>\n",
       "      <td>563.0</td>\n",
       "      <td>0.08162</td>\n",
       "      <td>0.06031</td>\n",
       "      <td>0.0311</td>\n",
       "      <td>0.02031</td>\n",
       "      <td>0.1784</td>\n",
       "      <td>0.05587</td>\n",
       "      <td>...</td>\n",
       "      <td>102.5</td>\n",
       "      <td>787.9</td>\n",
       "      <td>0.1094</td>\n",
       "      <td>0.2043</td>\n",
       "      <td>0.2085</td>\n",
       "      <td>0.1112</td>\n",
       "      <td>0.2994</td>\n",
       "      <td>0.07146</td>\n",
       "      <td>0</td>\n",
       "      <td>18.579436</td>\n",
       "    </tr>\n",
       "    <tr>\n",
       "      <th>172</th>\n",
       "      <td>15.46</td>\n",
       "      <td>11.89</td>\n",
       "      <td>102.50</td>\n",
       "      <td>736.9</td>\n",
       "      <td>0.12570</td>\n",
       "      <td>0.15550</td>\n",
       "      <td>0.2032</td>\n",
       "      <td>0.10970</td>\n",
       "      <td>0.1966</td>\n",
       "      <td>0.07069</td>\n",
       "      <td>...</td>\n",
       "      <td>125.0</td>\n",
       "      <td>1102.0</td>\n",
       "      <td>0.1531</td>\n",
       "      <td>0.3583</td>\n",
       "      <td>0.5830</td>\n",
       "      <td>0.1827</td>\n",
       "      <td>0.3216</td>\n",
       "      <td>0.10100</td>\n",
       "      <td>0</td>\n",
       "      <td>23.159218</td>\n",
       "    </tr>\n",
       "    <tr>\n",
       "      <th>213</th>\n",
       "      <td>17.42</td>\n",
       "      <td>25.56</td>\n",
       "      <td>114.50</td>\n",
       "      <td>948.0</td>\n",
       "      <td>0.10060</td>\n",
       "      <td>0.11460</td>\n",
       "      <td>0.1682</td>\n",
       "      <td>0.06597</td>\n",
       "      <td>0.1308</td>\n",
       "      <td>0.05866</td>\n",
       "      <td>...</td>\n",
       "      <td>120.4</td>\n",
       "      <td>1021.0</td>\n",
       "      <td>0.1243</td>\n",
       "      <td>0.1793</td>\n",
       "      <td>0.2803</td>\n",
       "      <td>0.1099</td>\n",
       "      <td>0.1603</td>\n",
       "      <td>0.06818</td>\n",
       "      <td>0</td>\n",
       "      <td>104.139972</td>\n",
       "    </tr>\n",
       "  </tbody>\n",
       "</table>\n",
       "<p>5 rows × 32 columns</p>\n",
       "</div>"
      ],
      "text/plain": [
       "     mean radius  mean texture  mean perimeter  mean area  mean smoothness  \\\n",
       "39         13.48         20.82           88.40      559.2          0.10160   \n",
       "229        12.83         22.33           85.26      503.2          0.10880   \n",
       "40         13.44         21.58           86.18      563.0          0.08162   \n",
       "172        15.46         11.89          102.50      736.9          0.12570   \n",
       "213        17.42         25.56          114.50      948.0          0.10060   \n",
       "\n",
       "     mean compactness  mean concavity  mean concave points  mean symmetry  \\\n",
       "39            0.12550          0.1063              0.05439         0.1720   \n",
       "229           0.17990          0.1695              0.06861         0.2123   \n",
       "40            0.06031          0.0311              0.02031         0.1784   \n",
       "172           0.15550          0.2032              0.10970         0.1966   \n",
       "213           0.11460          0.1682              0.06597         0.1308   \n",
       "\n",
       "     mean fractal dimension  ...  worst perimeter  worst area  \\\n",
       "39                  0.06419  ...            107.3       740.4   \n",
       "229                 0.07254  ...            105.3       706.0   \n",
       "40                  0.05587  ...            102.5       787.9   \n",
       "172                 0.07069  ...            125.0      1102.0   \n",
       "213                 0.05866  ...            120.4      1021.0   \n",
       "\n",
       "     worst smoothness  worst compactness  worst concavity  \\\n",
       "39             0.1610             0.4225           0.5030   \n",
       "229            0.1777             0.5343           0.6282   \n",
       "40             0.1094             0.2043           0.2085   \n",
       "172            0.1531             0.3583           0.5830   \n",
       "213            0.1243             0.1793           0.2803   \n",
       "\n",
       "     worst concave points  worst symmetry  worst fractal dimension  Label  \\\n",
       "39                 0.2258          0.2807                  0.10710      0   \n",
       "229                0.1977          0.3407                  0.12430      0   \n",
       "40                 0.1112          0.2994                  0.07146      0   \n",
       "172                0.1827          0.3216                  0.10100      0   \n",
       "213                0.1099          0.1603                  0.06818      0   \n",
       "\n",
       "     mahal_dist  \n",
       "39    30.536895  \n",
       "229   16.274117  \n",
       "40    18.579436  \n",
       "172   23.159218  \n",
       "213  104.139972  \n",
       "\n",
       "[5 rows x 32 columns]"
      ]
     },
     "execution_count": 56,
     "metadata": {},
     "output_type": "execute_result"
    }
   ],
   "source": [
    "train_df_neg.head()"
   ]
  },
  {
   "cell_type": "markdown",
   "metadata": {},
   "source": [
    "### **Hypothesis_Testing**"
   ]
  },
  {
   "cell_type": "markdown",
   "metadata": {},
   "source": [
    "##### **Find Chi-square test Critical Value**"
   ]
  },
  {
   "cell_type": "code",
   "execution_count": 57,
   "metadata": {},
   "outputs": [
    {
     "data": {
      "text/plain": [
       "9.21034037197618"
      ]
     },
     "execution_count": 57,
     "metadata": {},
     "output_type": "execute_result"
    }
   ],
   "source": [
    "from scipy.stats import chi2\n",
    "chi2.ppf((1-0.01), df=2)"
   ]
  },
  {
   "cell_type": "markdown",
   "metadata": {},
   "source": [
    "##### **Find Chi-square P-Value**"
   ]
  },
  {
   "cell_type": "code",
   "execution_count": 58,
   "metadata": {},
   "outputs": [
    {
     "data": {
      "text/plain": [
       "0.0017467471362611064"
      ]
     },
     "execution_count": 58,
     "metadata": {},
     "output_type": "execute_result"
    }
   ],
   "source": [
    "1 - chi2.cdf(12.7,df=2)"
   ]
  },
  {
   "cell_type": "markdown",
   "metadata": {},
   "source": [
    "#### **CASE-1**\n",
    "##### **Only +ve observations**"
   ]
  },
  {
   "cell_type": "markdown",
   "metadata": {},
   "source": [
    "#### **Here, first I'll perform the test on positive observations considering the `null hypothesis` as TRUE or POSITIVE and the `alternate hypothesis` as FALSE or negative.**\n",
    "\n",
    "##### **Means,**\n",
    "- **`Ho = All are positive observations`**\n",
    "- **`Ha = All are not positive observations`**"
   ]
  },
  {
   "cell_type": "code",
   "execution_count": 59,
   "metadata": {},
   "outputs": [
    {
     "data": {
      "text/plain": [
       "30"
      ]
     },
     "execution_count": 59,
     "metadata": {},
     "output_type": "execute_result"
    }
   ],
   "source": [
    "dof = train_df_pos.iloc[:,0:-1].shape[1]-1\n",
    "dof"
   ]
  },
  {
   "cell_type": "code",
   "execution_count": 60,
   "metadata": {},
   "outputs": [
    {
     "data": {
      "text/plain": [
       "50.89218131151707"
      ]
     },
     "execution_count": 60,
     "metadata": {},
     "output_type": "execute_result"
    }
   ],
   "source": [
    "c_val = chi2.ppf((1-0.01), df=dof)\n",
    "c_val"
   ]
  },
  {
   "cell_type": "markdown",
   "metadata": {},
   "source": [
    "#### **So, above is the critical value and if mahalanobis distance is greater than this value then we will reject the null hypothesis.**"
   ]
  },
  {
   "cell_type": "code",
   "execution_count": 61,
   "metadata": {},
   "outputs": [],
   "source": [
    "train_df_pos['p_val'] = 1 - chi2.cdf(train_df_pos['mahal_dist'], df=dof)"
   ]
  },
  {
   "cell_type": "code",
   "execution_count": 62,
   "metadata": {},
   "outputs": [
    {
     "data": {
      "text/html": [
       "<div>\n",
       "<style scoped>\n",
       "    .dataframe tbody tr th:only-of-type {\n",
       "        vertical-align: middle;\n",
       "    }\n",
       "\n",
       "    .dataframe tbody tr th {\n",
       "        vertical-align: top;\n",
       "    }\n",
       "\n",
       "    .dataframe thead th {\n",
       "        text-align: right;\n",
       "    }\n",
       "</style>\n",
       "<table border=\"1\" class=\"dataframe\">\n",
       "  <thead>\n",
       "    <tr style=\"text-align: right;\">\n",
       "      <th></th>\n",
       "      <th>mean radius</th>\n",
       "      <th>mean texture</th>\n",
       "      <th>mean perimeter</th>\n",
       "      <th>mean area</th>\n",
       "      <th>mean smoothness</th>\n",
       "      <th>mean compactness</th>\n",
       "      <th>mean concavity</th>\n",
       "      <th>mean concave points</th>\n",
       "      <th>mean symmetry</th>\n",
       "      <th>mean fractal dimension</th>\n",
       "      <th>...</th>\n",
       "      <th>worst area</th>\n",
       "      <th>worst smoothness</th>\n",
       "      <th>worst compactness</th>\n",
       "      <th>worst concavity</th>\n",
       "      <th>worst concave points</th>\n",
       "      <th>worst symmetry</th>\n",
       "      <th>worst fractal dimension</th>\n",
       "      <th>Label</th>\n",
       "      <th>mahal_dist</th>\n",
       "      <th>p_val</th>\n",
       "    </tr>\n",
       "  </thead>\n",
       "  <tbody>\n",
       "    <tr>\n",
       "      <th>525</th>\n",
       "      <td>8.571</td>\n",
       "      <td>13.10</td>\n",
       "      <td>54.53</td>\n",
       "      <td>221.3</td>\n",
       "      <td>0.10360</td>\n",
       "      <td>0.07632</td>\n",
       "      <td>0.025650</td>\n",
       "      <td>0.015100</td>\n",
       "      <td>0.1678</td>\n",
       "      <td>0.07126</td>\n",
       "      <td>...</td>\n",
       "      <td>275.6</td>\n",
       "      <td>0.1641</td>\n",
       "      <td>0.22350</td>\n",
       "      <td>0.175400</td>\n",
       "      <td>0.08512</td>\n",
       "      <td>0.2983</td>\n",
       "      <td>0.10490</td>\n",
       "      <td>1</td>\n",
       "      <td>25.772521</td>\n",
       "      <td>0.686690</td>\n",
       "    </tr>\n",
       "    <tr>\n",
       "      <th>58</th>\n",
       "      <td>13.050</td>\n",
       "      <td>19.31</td>\n",
       "      <td>82.61</td>\n",
       "      <td>527.2</td>\n",
       "      <td>0.08060</td>\n",
       "      <td>0.03789</td>\n",
       "      <td>0.000692</td>\n",
       "      <td>0.004167</td>\n",
       "      <td>0.1819</td>\n",
       "      <td>0.05501</td>\n",
       "      <td>...</td>\n",
       "      <td>624.1</td>\n",
       "      <td>0.1021</td>\n",
       "      <td>0.06191</td>\n",
       "      <td>0.001845</td>\n",
       "      <td>0.01111</td>\n",
       "      <td>0.2439</td>\n",
       "      <td>0.06289</td>\n",
       "      <td>1</td>\n",
       "      <td>14.048632</td>\n",
       "      <td>0.994108</td>\n",
       "    </tr>\n",
       "    <tr>\n",
       "      <th>342</th>\n",
       "      <td>11.060</td>\n",
       "      <td>14.96</td>\n",
       "      <td>71.49</td>\n",
       "      <td>373.9</td>\n",
       "      <td>0.10330</td>\n",
       "      <td>0.09097</td>\n",
       "      <td>0.053970</td>\n",
       "      <td>0.033410</td>\n",
       "      <td>0.1776</td>\n",
       "      <td>0.06907</td>\n",
       "      <td>...</td>\n",
       "      <td>440.0</td>\n",
       "      <td>0.1418</td>\n",
       "      <td>0.22100</td>\n",
       "      <td>0.229900</td>\n",
       "      <td>0.10750</td>\n",
       "      <td>0.3301</td>\n",
       "      <td>0.09080</td>\n",
       "      <td>1</td>\n",
       "      <td>15.908549</td>\n",
       "      <td>0.983504</td>\n",
       "    </tr>\n",
       "    <tr>\n",
       "      <th>413</th>\n",
       "      <td>14.990</td>\n",
       "      <td>22.11</td>\n",
       "      <td>97.53</td>\n",
       "      <td>693.7</td>\n",
       "      <td>0.08515</td>\n",
       "      <td>0.10250</td>\n",
       "      <td>0.068590</td>\n",
       "      <td>0.038760</td>\n",
       "      <td>0.1944</td>\n",
       "      <td>0.05913</td>\n",
       "      <td>...</td>\n",
       "      <td>867.1</td>\n",
       "      <td>0.1077</td>\n",
       "      <td>0.33450</td>\n",
       "      <td>0.311400</td>\n",
       "      <td>0.13080</td>\n",
       "      <td>0.3163</td>\n",
       "      <td>0.09251</td>\n",
       "      <td>1</td>\n",
       "      <td>37.715504</td>\n",
       "      <td>0.157192</td>\n",
       "    </tr>\n",
       "    <tr>\n",
       "      <th>559</th>\n",
       "      <td>11.510</td>\n",
       "      <td>23.93</td>\n",
       "      <td>74.52</td>\n",
       "      <td>403.5</td>\n",
       "      <td>0.09261</td>\n",
       "      <td>0.10210</td>\n",
       "      <td>0.111200</td>\n",
       "      <td>0.041050</td>\n",
       "      <td>0.1388</td>\n",
       "      <td>0.06570</td>\n",
       "      <td>...</td>\n",
       "      <td>474.2</td>\n",
       "      <td>0.1298</td>\n",
       "      <td>0.25170</td>\n",
       "      <td>0.363000</td>\n",
       "      <td>0.09653</td>\n",
       "      <td>0.2112</td>\n",
       "      <td>0.08732</td>\n",
       "      <td>1</td>\n",
       "      <td>28.900581</td>\n",
       "      <td>0.522824</td>\n",
       "    </tr>\n",
       "  </tbody>\n",
       "</table>\n",
       "<p>5 rows × 33 columns</p>\n",
       "</div>"
      ],
      "text/plain": [
       "     mean radius  mean texture  mean perimeter  mean area  mean smoothness  \\\n",
       "525        8.571         13.10           54.53      221.3          0.10360   \n",
       "58        13.050         19.31           82.61      527.2          0.08060   \n",
       "342       11.060         14.96           71.49      373.9          0.10330   \n",
       "413       14.990         22.11           97.53      693.7          0.08515   \n",
       "559       11.510         23.93           74.52      403.5          0.09261   \n",
       "\n",
       "     mean compactness  mean concavity  mean concave points  mean symmetry  \\\n",
       "525           0.07632        0.025650             0.015100         0.1678   \n",
       "58            0.03789        0.000692             0.004167         0.1819   \n",
       "342           0.09097        0.053970             0.033410         0.1776   \n",
       "413           0.10250        0.068590             0.038760         0.1944   \n",
       "559           0.10210        0.111200             0.041050         0.1388   \n",
       "\n",
       "     mean fractal dimension  ...  worst area  worst smoothness  \\\n",
       "525                 0.07126  ...       275.6            0.1641   \n",
       "58                  0.05501  ...       624.1            0.1021   \n",
       "342                 0.06907  ...       440.0            0.1418   \n",
       "413                 0.05913  ...       867.1            0.1077   \n",
       "559                 0.06570  ...       474.2            0.1298   \n",
       "\n",
       "     worst compactness  worst concavity  worst concave points  worst symmetry  \\\n",
       "525            0.22350         0.175400               0.08512          0.2983   \n",
       "58             0.06191         0.001845               0.01111          0.2439   \n",
       "342            0.22100         0.229900               0.10750          0.3301   \n",
       "413            0.33450         0.311400               0.13080          0.3163   \n",
       "559            0.25170         0.363000               0.09653          0.2112   \n",
       "\n",
       "     worst fractal dimension  Label  mahal_dist     p_val  \n",
       "525                  0.10490      1   25.772521  0.686690  \n",
       "58                   0.06289      1   14.048632  0.994108  \n",
       "342                  0.09080      1   15.908549  0.983504  \n",
       "413                  0.09251      1   37.715504  0.157192  \n",
       "559                  0.08732      1   28.900581  0.522824  \n",
       "\n",
       "[5 rows x 33 columns]"
      ]
     },
     "execution_count": 62,
     "metadata": {},
     "output_type": "execute_result"
    }
   ],
   "source": [
    "train_df_pos.head()"
   ]
  },
  {
   "cell_type": "code",
   "execution_count": 63,
   "metadata": {},
   "outputs": [
    {
     "data": {
      "text/plain": [
       "(214, 33)"
      ]
     },
     "execution_count": 63,
     "metadata": {},
     "output_type": "execute_result"
    }
   ],
   "source": [
    "train_df_pos.shape"
   ]
  },
  {
   "cell_type": "code",
   "execution_count": 64,
   "metadata": {},
   "outputs": [
    {
     "data": {
      "text/plain": [
       "(26, 33)"
      ]
     },
     "execution_count": 64,
     "metadata": {},
     "output_type": "execute_result"
    }
   ],
   "source": [
    "train_df_pos[train_df_pos['p_val'] < 0.01].shape"
   ]
  },
  {
   "cell_type": "code",
   "execution_count": 65,
   "metadata": {},
   "outputs": [
    {
     "data": {
      "text/plain": [
       "array([ 81.02384852,  72.07114302,  52.08522329,  62.90183841,\n",
       "        69.0939475 ,  66.10649304,  66.76169799,  76.36211933,\n",
       "       118.79639287, 145.94310336,  59.52453926,  73.90722389,\n",
       "        68.33222003,  96.34523381,  54.67357222, 154.13771741,\n",
       "        76.20390925, 100.12061258,  74.13167215,  58.07212966,\n",
       "       194.52697533,  54.58637054, 129.41505176,  60.14696292,\n",
       "        89.70806506,  54.60903334])"
      ]
     },
     "execution_count": 65,
     "metadata": {},
     "output_type": "execute_result"
    }
   ],
   "source": [
    "rej_null_hyp = train_df_pos[train_df_pos['p_val'] < 0.01]['mahal_dist'].values\n",
    "rej_null_hyp"
   ]
  },
  {
   "cell_type": "code",
   "execution_count": 66,
   "metadata": {},
   "outputs": [
    {
     "data": {
      "text/plain": [
       "(52.085223289182096, 194.5269753331549)"
      ]
     },
     "execution_count": 66,
     "metadata": {},
     "output_type": "execute_result"
    }
   ],
   "source": [
    "rej_null_hyp.min(), rej_null_hyp.max()"
   ]
  },
  {
   "cell_type": "code",
   "execution_count": 67,
   "metadata": {},
   "outputs": [
    {
     "data": {
      "text/plain": [
       "(6.167006044471601, 50.03579960395341)"
      ]
     },
     "execution_count": 67,
     "metadata": {},
     "output_type": "execute_result"
    }
   ],
   "source": [
    "train_df_pos[train_df_pos['p_val'] >= 0.01]['mahal_dist'].min(), train_df_pos[train_df_pos['p_val'] >= 0.01]['mahal_dist'].max()"
   ]
  },
  {
   "cell_type": "markdown",
   "metadata": {},
   "source": [
    "#### **So, the null hypothesis got rejected based on the above 26 observations where the mahalanobis distance is greater than the critical value thus the distance ended up in the rejection region.**"
   ]
  },
  {
   "cell_type": "markdown",
   "metadata": {},
   "source": [
    "#### **CASE-2**\n",
    "##### **Only -ve observations**"
   ]
  },
  {
   "cell_type": "markdown",
   "metadata": {},
   "source": [
    "#### **Now, I'll perform the test on negative observations considering the `null hypothesis` as FALSE or NEGATIVE and the `alternate hypothesis` as TRUE or POSITIVE.**\n",
    "\n",
    "##### **Means,**\n",
    "- **`Ho = All are negative observations`**\n",
    "- **`Ha = All are not negative observations`**"
   ]
  },
  {
   "cell_type": "code",
   "execution_count": 68,
   "metadata": {},
   "outputs": [],
   "source": [
    "train_df_neg['p_val'] = 1 - chi2.cdf(train_df_neg['mahal_dist'], df=dof)"
   ]
  },
  {
   "cell_type": "code",
   "execution_count": 69,
   "metadata": {},
   "outputs": [
    {
     "data": {
      "text/html": [
       "<div>\n",
       "<style scoped>\n",
       "    .dataframe tbody tr th:only-of-type {\n",
       "        vertical-align: middle;\n",
       "    }\n",
       "\n",
       "    .dataframe tbody tr th {\n",
       "        vertical-align: top;\n",
       "    }\n",
       "\n",
       "    .dataframe thead th {\n",
       "        text-align: right;\n",
       "    }\n",
       "</style>\n",
       "<table border=\"1\" class=\"dataframe\">\n",
       "  <thead>\n",
       "    <tr style=\"text-align: right;\">\n",
       "      <th></th>\n",
       "      <th>mean radius</th>\n",
       "      <th>mean texture</th>\n",
       "      <th>mean perimeter</th>\n",
       "      <th>mean area</th>\n",
       "      <th>mean smoothness</th>\n",
       "      <th>mean compactness</th>\n",
       "      <th>mean concavity</th>\n",
       "      <th>mean concave points</th>\n",
       "      <th>mean symmetry</th>\n",
       "      <th>mean fractal dimension</th>\n",
       "      <th>...</th>\n",
       "      <th>worst area</th>\n",
       "      <th>worst smoothness</th>\n",
       "      <th>worst compactness</th>\n",
       "      <th>worst concavity</th>\n",
       "      <th>worst concave points</th>\n",
       "      <th>worst symmetry</th>\n",
       "      <th>worst fractal dimension</th>\n",
       "      <th>Label</th>\n",
       "      <th>mahal_dist</th>\n",
       "      <th>p_val</th>\n",
       "    </tr>\n",
       "  </thead>\n",
       "  <tbody>\n",
       "    <tr>\n",
       "      <th>39</th>\n",
       "      <td>13.48</td>\n",
       "      <td>20.82</td>\n",
       "      <td>88.40</td>\n",
       "      <td>559.2</td>\n",
       "      <td>0.10160</td>\n",
       "      <td>0.12550</td>\n",
       "      <td>0.1063</td>\n",
       "      <td>0.05439</td>\n",
       "      <td>0.1720</td>\n",
       "      <td>0.06419</td>\n",
       "      <td>...</td>\n",
       "      <td>740.4</td>\n",
       "      <td>0.1610</td>\n",
       "      <td>0.4225</td>\n",
       "      <td>0.5030</td>\n",
       "      <td>0.2258</td>\n",
       "      <td>0.2807</td>\n",
       "      <td>0.10710</td>\n",
       "      <td>0</td>\n",
       "      <td>30.536895</td>\n",
       "      <td>4.384197e-01</td>\n",
       "    </tr>\n",
       "    <tr>\n",
       "      <th>229</th>\n",
       "      <td>12.83</td>\n",
       "      <td>22.33</td>\n",
       "      <td>85.26</td>\n",
       "      <td>503.2</td>\n",
       "      <td>0.10880</td>\n",
       "      <td>0.17990</td>\n",
       "      <td>0.1695</td>\n",
       "      <td>0.06861</td>\n",
       "      <td>0.2123</td>\n",
       "      <td>0.07254</td>\n",
       "      <td>...</td>\n",
       "      <td>706.0</td>\n",
       "      <td>0.1777</td>\n",
       "      <td>0.5343</td>\n",
       "      <td>0.6282</td>\n",
       "      <td>0.1977</td>\n",
       "      <td>0.3407</td>\n",
       "      <td>0.12430</td>\n",
       "      <td>0</td>\n",
       "      <td>16.274117</td>\n",
       "      <td>9.803018e-01</td>\n",
       "    </tr>\n",
       "    <tr>\n",
       "      <th>40</th>\n",
       "      <td>13.44</td>\n",
       "      <td>21.58</td>\n",
       "      <td>86.18</td>\n",
       "      <td>563.0</td>\n",
       "      <td>0.08162</td>\n",
       "      <td>0.06031</td>\n",
       "      <td>0.0311</td>\n",
       "      <td>0.02031</td>\n",
       "      <td>0.1784</td>\n",
       "      <td>0.05587</td>\n",
       "      <td>...</td>\n",
       "      <td>787.9</td>\n",
       "      <td>0.1094</td>\n",
       "      <td>0.2043</td>\n",
       "      <td>0.2085</td>\n",
       "      <td>0.1112</td>\n",
       "      <td>0.2994</td>\n",
       "      <td>0.07146</td>\n",
       "      <td>0</td>\n",
       "      <td>18.579436</td>\n",
       "      <td>9.483792e-01</td>\n",
       "    </tr>\n",
       "    <tr>\n",
       "      <th>172</th>\n",
       "      <td>15.46</td>\n",
       "      <td>11.89</td>\n",
       "      <td>102.50</td>\n",
       "      <td>736.9</td>\n",
       "      <td>0.12570</td>\n",
       "      <td>0.15550</td>\n",
       "      <td>0.2032</td>\n",
       "      <td>0.10970</td>\n",
       "      <td>0.1966</td>\n",
       "      <td>0.07069</td>\n",
       "      <td>...</td>\n",
       "      <td>1102.0</td>\n",
       "      <td>0.1531</td>\n",
       "      <td>0.3583</td>\n",
       "      <td>0.5830</td>\n",
       "      <td>0.1827</td>\n",
       "      <td>0.3216</td>\n",
       "      <td>0.10100</td>\n",
       "      <td>0</td>\n",
       "      <td>23.159218</td>\n",
       "      <td>8.086583e-01</td>\n",
       "    </tr>\n",
       "    <tr>\n",
       "      <th>213</th>\n",
       "      <td>17.42</td>\n",
       "      <td>25.56</td>\n",
       "      <td>114.50</td>\n",
       "      <td>948.0</td>\n",
       "      <td>0.10060</td>\n",
       "      <td>0.11460</td>\n",
       "      <td>0.1682</td>\n",
       "      <td>0.06597</td>\n",
       "      <td>0.1308</td>\n",
       "      <td>0.05866</td>\n",
       "      <td>...</td>\n",
       "      <td>1021.0</td>\n",
       "      <td>0.1243</td>\n",
       "      <td>0.1793</td>\n",
       "      <td>0.2803</td>\n",
       "      <td>0.1099</td>\n",
       "      <td>0.1603</td>\n",
       "      <td>0.06818</td>\n",
       "      <td>0</td>\n",
       "      <td>104.139972</td>\n",
       "      <td>4.075721e-10</td>\n",
       "    </tr>\n",
       "  </tbody>\n",
       "</table>\n",
       "<p>5 rows × 33 columns</p>\n",
       "</div>"
      ],
      "text/plain": [
       "     mean radius  mean texture  mean perimeter  mean area  mean smoothness  \\\n",
       "39         13.48         20.82           88.40      559.2          0.10160   \n",
       "229        12.83         22.33           85.26      503.2          0.10880   \n",
       "40         13.44         21.58           86.18      563.0          0.08162   \n",
       "172        15.46         11.89          102.50      736.9          0.12570   \n",
       "213        17.42         25.56          114.50      948.0          0.10060   \n",
       "\n",
       "     mean compactness  mean concavity  mean concave points  mean symmetry  \\\n",
       "39            0.12550          0.1063              0.05439         0.1720   \n",
       "229           0.17990          0.1695              0.06861         0.2123   \n",
       "40            0.06031          0.0311              0.02031         0.1784   \n",
       "172           0.15550          0.2032              0.10970         0.1966   \n",
       "213           0.11460          0.1682              0.06597         0.1308   \n",
       "\n",
       "     mean fractal dimension  ...  worst area  worst smoothness  \\\n",
       "39                  0.06419  ...       740.4            0.1610   \n",
       "229                 0.07254  ...       706.0            0.1777   \n",
       "40                  0.05587  ...       787.9            0.1094   \n",
       "172                 0.07069  ...      1102.0            0.1531   \n",
       "213                 0.05866  ...      1021.0            0.1243   \n",
       "\n",
       "     worst compactness  worst concavity  worst concave points  worst symmetry  \\\n",
       "39              0.4225           0.5030                0.2258          0.2807   \n",
       "229             0.5343           0.6282                0.1977          0.3407   \n",
       "40              0.2043           0.2085                0.1112          0.2994   \n",
       "172             0.3583           0.5830                0.1827          0.3216   \n",
       "213             0.1793           0.2803                0.1099          0.1603   \n",
       "\n",
       "     worst fractal dimension  Label  mahal_dist         p_val  \n",
       "39                   0.10710      0   30.536895  4.384197e-01  \n",
       "229                  0.12430      0   16.274117  9.803018e-01  \n",
       "40                   0.07146      0   18.579436  9.483792e-01  \n",
       "172                  0.10100      0   23.159218  8.086583e-01  \n",
       "213                  0.06818      0  104.139972  4.075721e-10  \n",
       "\n",
       "[5 rows x 33 columns]"
      ]
     },
     "execution_count": 69,
     "metadata": {},
     "output_type": "execute_result"
    }
   ],
   "source": [
    "train_df_neg.head()"
   ]
  },
  {
   "cell_type": "code",
   "execution_count": 70,
   "metadata": {},
   "outputs": [
    {
     "data": {
      "text/plain": [
       "(127, 33)"
      ]
     },
     "execution_count": 70,
     "metadata": {},
     "output_type": "execute_result"
    }
   ],
   "source": [
    "train_df_neg.shape"
   ]
  },
  {
   "cell_type": "code",
   "execution_count": 71,
   "metadata": {},
   "outputs": [
    {
     "data": {
      "text/plain": [
       "(14, 33)"
      ]
     },
     "execution_count": 71,
     "metadata": {},
     "output_type": "execute_result"
    }
   ],
   "source": [
    "train_df_neg[train_df_neg['p_val'] < 0.01].shape"
   ]
  },
  {
   "cell_type": "code",
   "execution_count": 72,
   "metadata": {},
   "outputs": [
    {
     "data": {
      "text/plain": [
       "array([104.13997248,  65.26593056,  57.53158832,  74.66179609,\n",
       "        55.42755962,  79.93825875,  52.30118131,  67.52958184,\n",
       "        58.82178158,  52.2838042 ,  61.00788787, 102.21571179,\n",
       "        60.01309311,  70.31700251])"
      ]
     },
     "execution_count": 72,
     "metadata": {},
     "output_type": "execute_result"
    }
   ],
   "source": [
    "rej_null_hyp_neg = train_df_neg[train_df_neg['p_val'] < 0.01]['mahal_dist'].values\n",
    "rej_null_hyp_neg"
   ]
  },
  {
   "cell_type": "code",
   "execution_count": 73,
   "metadata": {},
   "outputs": [
    {
     "data": {
      "text/plain": [
       "(52.28380420063802, 104.13997248029511)"
      ]
     },
     "execution_count": 73,
     "metadata": {},
     "output_type": "execute_result"
    }
   ],
   "source": [
    "rej_null_hyp_neg.min(), rej_null_hyp_neg.max()"
   ]
  },
  {
   "cell_type": "code",
   "execution_count": 74,
   "metadata": {},
   "outputs": [
    {
     "data": {
      "text/plain": [
       "(8.361142675252562, 49.68938504959755)"
      ]
     },
     "execution_count": 74,
     "metadata": {},
     "output_type": "execute_result"
    }
   ],
   "source": [
    "train_df_neg[train_df_neg['p_val'] >= 0.01]['mahal_dist'].min(), train_df_neg[train_df_neg['p_val'] >= 0.01]['mahal_dist'].max()"
   ]
  },
  {
   "cell_type": "markdown",
   "metadata": {},
   "source": [
    "#### **So, the null hypothesis got rejected based on the above 14 observations where the mahalanobis distance is greater than the critical value thus the distance ended up in the rejection region.**"
   ]
  },
  {
   "cell_type": "markdown",
   "metadata": {},
   "source": [
    "#### **Calculate_Euclidean_Distance**\n",
    "##### **Euclidean Distance :: It performs the pairwise difference and not takes the distribution into account.**"
   ]
  },
  {
   "cell_type": "code",
   "execution_count": 75,
   "metadata": {},
   "outputs": [],
   "source": [
    "x1 = np.array([1,2,3,4,5])\n",
    "x2 = np.array([5,6,7,8,9])"
   ]
  },
  {
   "cell_type": "markdown",
   "metadata": {},
   "source": [
    "#### **Case-1**\n",
    "##### **Self implementation**"
   ]
  },
  {
   "cell_type": "code",
   "execution_count": 97,
   "metadata": {},
   "outputs": [],
   "source": [
    "def calc_euclidean_dist(vec1, vec2):\n",
    "    \"\"\"\n",
    "    Description: This function is created for calculating the Euclidean Distance between 2 vectors.\n",
    "\n",
    "    Input parameters : It accepts below 2 parameters:\n",
    "        1. vec1 : np.array\n",
    "            First vector\n",
    "        2. vec2 : np.array\n",
    "            Second vector\n",
    "    \n",
    "    Output : It returns the pandas dataframe with the input vectors and calculated Euclidean Distance\n",
    "    \"\"\"\n",
    "    data_points = list(zip(x1,x2))\n",
    "    point_a = data_points[0]\n",
    "    distances = []\n",
    "    for i in range(len(data_points)):\n",
    "        euc_dist = np.sqrt(np.sum(np.square(np.array(data_points[0]) - np.array(data_points[i]))))\n",
    "        distances.append(euc_dist)\n",
    "    euc_df = pd.DataFrame({'vec1':vec1,'vec2':vec2,'euclidean_dist':distances})\n",
    "    return euc_df"
   ]
  },
  {
   "cell_type": "code",
   "execution_count": 98,
   "metadata": {},
   "outputs": [
    {
     "data": {
      "text/html": [
       "<div>\n",
       "<style scoped>\n",
       "    .dataframe tbody tr th:only-of-type {\n",
       "        vertical-align: middle;\n",
       "    }\n",
       "\n",
       "    .dataframe tbody tr th {\n",
       "        vertical-align: top;\n",
       "    }\n",
       "\n",
       "    .dataframe thead th {\n",
       "        text-align: right;\n",
       "    }\n",
       "</style>\n",
       "<table border=\"1\" class=\"dataframe\">\n",
       "  <thead>\n",
       "    <tr style=\"text-align: right;\">\n",
       "      <th></th>\n",
       "      <th>vec1</th>\n",
       "      <th>vec2</th>\n",
       "      <th>euclidean_dist</th>\n",
       "    </tr>\n",
       "  </thead>\n",
       "  <tbody>\n",
       "    <tr>\n",
       "      <th>0</th>\n",
       "      <td>1</td>\n",
       "      <td>5</td>\n",
       "      <td>0.000000</td>\n",
       "    </tr>\n",
       "    <tr>\n",
       "      <th>1</th>\n",
       "      <td>2</td>\n",
       "      <td>6</td>\n",
       "      <td>1.414214</td>\n",
       "    </tr>\n",
       "    <tr>\n",
       "      <th>2</th>\n",
       "      <td>3</td>\n",
       "      <td>7</td>\n",
       "      <td>2.828427</td>\n",
       "    </tr>\n",
       "    <tr>\n",
       "      <th>3</th>\n",
       "      <td>4</td>\n",
       "      <td>8</td>\n",
       "      <td>4.242641</td>\n",
       "    </tr>\n",
       "    <tr>\n",
       "      <th>4</th>\n",
       "      <td>5</td>\n",
       "      <td>9</td>\n",
       "      <td>5.656854</td>\n",
       "    </tr>\n",
       "  </tbody>\n",
       "</table>\n",
       "</div>"
      ],
      "text/plain": [
       "   vec1  vec2  euclidean_dist\n",
       "0     1     5        0.000000\n",
       "1     2     6        1.414214\n",
       "2     3     7        2.828427\n",
       "3     4     8        4.242641\n",
       "4     5     9        5.656854"
      ]
     },
     "execution_count": 98,
     "metadata": {},
     "output_type": "execute_result"
    }
   ],
   "source": [
    "calc_euclidean_dist(x1,x2)"
   ]
  },
  {
   "cell_type": "markdown",
   "metadata": {},
   "source": [
    "#### **Case-2**\n",
    "##### **Using Scipy**"
   ]
  },
  {
   "cell_type": "code",
   "execution_count": 99,
   "metadata": {},
   "outputs": [],
   "source": [
    "from scipy.spatial.distance import pdist, squareform"
   ]
  },
  {
   "cell_type": "code",
   "execution_count": 100,
   "metadata": {},
   "outputs": [],
   "source": [
    "distances = pdist(pd.DataFrame({'x1':x1,'x2':x2}), metric='euclidean')\n",
    "dist_matrix = pd.DataFrame(squareform(distances))"
   ]
  },
  {
   "cell_type": "code",
   "execution_count": 101,
   "metadata": {},
   "outputs": [
    {
     "data": {
      "text/html": [
       "<div>\n",
       "<style scoped>\n",
       "    .dataframe tbody tr th:only-of-type {\n",
       "        vertical-align: middle;\n",
       "    }\n",
       "\n",
       "    .dataframe tbody tr th {\n",
       "        vertical-align: top;\n",
       "    }\n",
       "\n",
       "    .dataframe thead th {\n",
       "        text-align: right;\n",
       "    }\n",
       "</style>\n",
       "<table border=\"1\" class=\"dataframe\">\n",
       "  <thead>\n",
       "    <tr style=\"text-align: right;\">\n",
       "      <th></th>\n",
       "      <th>0</th>\n",
       "    </tr>\n",
       "  </thead>\n",
       "  <tbody>\n",
       "    <tr>\n",
       "      <th>0</th>\n",
       "      <td>0.000000</td>\n",
       "    </tr>\n",
       "    <tr>\n",
       "      <th>1</th>\n",
       "      <td>1.414214</td>\n",
       "    </tr>\n",
       "    <tr>\n",
       "      <th>2</th>\n",
       "      <td>2.828427</td>\n",
       "    </tr>\n",
       "    <tr>\n",
       "      <th>3</th>\n",
       "      <td>4.242641</td>\n",
       "    </tr>\n",
       "    <tr>\n",
       "      <th>4</th>\n",
       "      <td>5.656854</td>\n",
       "    </tr>\n",
       "  </tbody>\n",
       "</table>\n",
       "</div>"
      ],
      "text/plain": [
       "          0\n",
       "0  0.000000\n",
       "1  1.414214\n",
       "2  2.828427\n",
       "3  4.242641\n",
       "4  5.656854"
      ]
     },
     "execution_count": 101,
     "metadata": {},
     "output_type": "execute_result"
    }
   ],
   "source": [
    "pd.DataFrame(dist_matrix.iloc[0:5,0])"
   ]
  },
  {
   "cell_type": "markdown",
   "metadata": {},
   "source": [
    "#### **So, good here as the results matched!!**"
   ]
  },
  {
   "cell_type": "markdown",
   "metadata": {},
   "source": [
    "## **Radius_Neighbors**"
   ]
  },
  {
   "cell_type": "markdown",
   "metadata": {},
   "source": [
    "##### Reference Link of Fixed Nearest Neighbors :: \n",
    "- https://machinelearningmastery.com/radius-neighbors-classifier-algorithm-with-python/\n",
    "- **Julia Blog** :: https://jaantollander.com/post/searching-for-fixed-radius-near-neighbors-with-cell-lists-algorithm/"
   ]
  },
  {
   "cell_type": "code",
   "execution_count": 688,
   "metadata": {},
   "outputs": [
    {
     "data": {
      "image/jpeg": "[encoded data removed]",
      "text/plain": [
       "<IPython.core.display.Image object>"
      ]
     },
     "execution_count": 688,
     "metadata": {
      "image/jpeg": {
       "height": 700,
       "width": 700
      }
     },
     "output_type": "execute_result"
    }
   ],
   "source": [
    "from IPython.display import Image\n",
    "from IPython.core.display import HTML \n",
    "\n",
    "path = 'E:\\STUDY\\PROJECTS\\AAIC_Practice\\MODULES\\Module_3\\Mod_3_KNN\\Refer_Notes\\\\'\n",
    "Image(filename = path + \"Fixed_NN.jpg\", width=700, height=700)"
   ]
  },
  {
   "cell_type": "markdown",
   "metadata": {},
   "source": [
    "- **RadiusNN is an extension of KNN and both are similar in a way of storing the entire train dataset in the training phase, however, they both uses the training dataset for prediction in a different manner.**\n",
    "\n",
    "- **`Instead of locating the k-neighbors, the Radius Neighbors Classifier locates all examples in the training dataset that are within a given radius of the new example. The radius neighbors are then used to make a prediction for the new example.`**\n",
    "\n",
    "- **The radius is defined in the feature space and generally assumes that the input variables are numeric and scaled to the range 0-1, e.g. normalized.**\n",
    "\n",
    "- **Given a fixed radius, dense regions of the feature space will contribute more information and sparse regions will contribute less information. It is this latter case that is most desirable and it prevents examples very far in feature space from the new example from contributing to the prediction.**\n",
    "\n",
    "- **The radius-based approach to locating neighbors is appropriate for those datasets where it is desirable for the contribution of neighbors to be proportional to the density of examples in the feature space.**\n",
    "\n",
    "- **The Radius Neighbors Classifier may be more appropriate for prediction problems where there are sparse regions of the feature space.**\n",
    "\n",
    "- **Given that the radius is fixed in all dimensions of the feature space, it will become less effective as the number of input features is increased, which causes examples in the feature space to spread further and further apart. This property is referred to as the curse of dimensionality.**"
   ]
  },
  {
   "cell_type": "code",
   "execution_count": 170,
   "metadata": {},
   "outputs": [],
   "source": [
    "X_train, X_test, y_train, y_test = train_test_split(cancer_df.iloc[:,0:-1], cancer_df.iloc[:,-1], test_size=0.25,random_state=33)"
   ]
  },
  {
   "cell_type": "code",
   "execution_count": 171,
   "metadata": {},
   "outputs": [
    {
     "data": {
      "text/plain": [
       "((426, 30), (143, 30), (426,), (143,))"
      ]
     },
     "execution_count": 171,
     "metadata": {},
     "output_type": "execute_result"
    }
   ],
   "source": [
    "X_train.shape, X_test.shape, y_train.shape, y_test.shape"
   ]
  },
  {
   "cell_type": "code",
   "execution_count": 205,
   "metadata": {},
   "outputs": [],
   "source": [
    "from sklearn.preprocessing import MinMaxScaler"
   ]
  },
  {
   "cell_type": "code",
   "execution_count": 194,
   "metadata": {},
   "outputs": [],
   "source": [
    "mms = MinMaxScaler()\n",
    "mms.fit(X_train)\n",
    "X_train_mms = mms.transform(X_train)\n",
    "X_test_mms = mms.transform(X_test)"
   ]
  },
  {
   "cell_type": "code",
   "execution_count": 195,
   "metadata": {},
   "outputs": [
    {
     "data": {
      "text/html": [
       "<div>\n",
       "<style scoped>\n",
       "    .dataframe tbody tr th:only-of-type {\n",
       "        vertical-align: middle;\n",
       "    }\n",
       "\n",
       "    .dataframe tbody tr th {\n",
       "        vertical-align: top;\n",
       "    }\n",
       "\n",
       "    .dataframe thead th {\n",
       "        text-align: right;\n",
       "    }\n",
       "</style>\n",
       "<table border=\"1\" class=\"dataframe\">\n",
       "  <thead>\n",
       "    <tr style=\"text-align: right;\">\n",
       "      <th></th>\n",
       "      <th>0</th>\n",
       "      <th>1</th>\n",
       "      <th>2</th>\n",
       "      <th>3</th>\n",
       "      <th>4</th>\n",
       "      <th>5</th>\n",
       "      <th>6</th>\n",
       "      <th>7</th>\n",
       "      <th>8</th>\n",
       "      <th>9</th>\n",
       "      <th>...</th>\n",
       "      <th>20</th>\n",
       "      <th>21</th>\n",
       "      <th>22</th>\n",
       "      <th>23</th>\n",
       "      <th>24</th>\n",
       "      <th>25</th>\n",
       "      <th>26</th>\n",
       "      <th>27</th>\n",
       "      <th>28</th>\n",
       "      <th>29</th>\n",
       "    </tr>\n",
       "  </thead>\n",
       "  <tbody>\n",
       "    <tr>\n",
       "      <th>0</th>\n",
       "      <td>0.636992</td>\n",
       "      <td>0.408184</td>\n",
       "      <td>0.622003</td>\n",
       "      <td>0.487593</td>\n",
       "      <td>0.287343</td>\n",
       "      <td>0.287467</td>\n",
       "      <td>0.229808</td>\n",
       "      <td>0.406952</td>\n",
       "      <td>0.281818</td>\n",
       "      <td>0.118155</td>\n",
       "      <td>...</td>\n",
       "      <td>0.582711</td>\n",
       "      <td>0.382463</td>\n",
       "      <td>0.551771</td>\n",
       "      <td>0.391958</td>\n",
       "      <td>0.406326</td>\n",
       "      <td>0.204044</td>\n",
       "      <td>0.215815</td>\n",
       "      <td>0.606529</td>\n",
       "      <td>0.205639</td>\n",
       "      <td>0.079716</td>\n",
       "    </tr>\n",
       "    <tr>\n",
       "      <th>1</th>\n",
       "      <td>0.284869</td>\n",
       "      <td>0.409537</td>\n",
       "      <td>0.302052</td>\n",
       "      <td>0.159618</td>\n",
       "      <td>0.642185</td>\n",
       "      <td>0.533157</td>\n",
       "      <td>0.435976</td>\n",
       "      <td>0.488918</td>\n",
       "      <td>0.651515</td>\n",
       "      <td>0.504002</td>\n",
       "      <td>...</td>\n",
       "      <td>0.268943</td>\n",
       "      <td>0.498667</td>\n",
       "      <td>0.277852</td>\n",
       "      <td>0.136183</td>\n",
       "      <td>0.654626</td>\n",
       "      <td>0.497531</td>\n",
       "      <td>0.430511</td>\n",
       "      <td>0.707904</td>\n",
       "      <td>0.554416</td>\n",
       "      <td>0.341388</td>\n",
       "    </tr>\n",
       "    <tr>\n",
       "      <th>2</th>\n",
       "      <td>0.108240</td>\n",
       "      <td>0.106865</td>\n",
       "      <td>0.122314</td>\n",
       "      <td>0.044624</td>\n",
       "      <td>1.000000</td>\n",
       "      <td>0.627323</td>\n",
       "      <td>0.228189</td>\n",
       "      <td>0.274543</td>\n",
       "      <td>0.665657</td>\n",
       "      <td>0.949031</td>\n",
       "      <td>...</td>\n",
       "      <td>0.083600</td>\n",
       "      <td>0.116205</td>\n",
       "      <td>0.092833</td>\n",
       "      <td>0.028264</td>\n",
       "      <td>0.786040</td>\n",
       "      <td>0.307371</td>\n",
       "      <td>0.167652</td>\n",
       "      <td>0.352234</td>\n",
       "      <td>0.290221</td>\n",
       "      <td>0.459584</td>\n",
       "    </tr>\n",
       "    <tr>\n",
       "      <th>3</th>\n",
       "      <td>0.334091</td>\n",
       "      <td>0.212039</td>\n",
       "      <td>0.317808</td>\n",
       "      <td>0.198388</td>\n",
       "      <td>0.218753</td>\n",
       "      <td>0.121373</td>\n",
       "      <td>0.082880</td>\n",
       "      <td>0.153894</td>\n",
       "      <td>0.330303</td>\n",
       "      <td>0.189975</td>\n",
       "      <td>...</td>\n",
       "      <td>0.274991</td>\n",
       "      <td>0.254797</td>\n",
       "      <td>0.252951</td>\n",
       "      <td>0.138812</td>\n",
       "      <td>0.319157</td>\n",
       "      <td>0.094993</td>\n",
       "      <td>0.089217</td>\n",
       "      <td>0.256117</td>\n",
       "      <td>0.228509</td>\n",
       "      <td>0.112483</td>\n",
       "    </tr>\n",
       "    <tr>\n",
       "      <th>4</th>\n",
       "      <td>0.519144</td>\n",
       "      <td>0.348326</td>\n",
       "      <td>0.486559</td>\n",
       "      <td>0.355673</td>\n",
       "      <td>0.213202</td>\n",
       "      <td>0.146739</td>\n",
       "      <td>0.171037</td>\n",
       "      <td>0.292525</td>\n",
       "      <td>0.539899</td>\n",
       "      <td>0.006108</td>\n",
       "      <td>...</td>\n",
       "      <td>0.450018</td>\n",
       "      <td>0.421375</td>\n",
       "      <td>0.392400</td>\n",
       "      <td>0.264402</td>\n",
       "      <td>0.237932</td>\n",
       "      <td>0.090142</td>\n",
       "      <td>0.179633</td>\n",
       "      <td>0.407216</td>\n",
       "      <td>0.653785</td>\n",
       "      <td>0.038742</td>\n",
       "    </tr>\n",
       "  </tbody>\n",
       "</table>\n",
       "<p>5 rows × 30 columns</p>\n",
       "</div>"
      ],
      "text/plain": [
       "         0         1         2         3         4         5         6   \\\n",
       "0  0.636992  0.408184  0.622003  0.487593  0.287343  0.287467  0.229808   \n",
       "1  0.284869  0.409537  0.302052  0.159618  0.642185  0.533157  0.435976   \n",
       "2  0.108240  0.106865  0.122314  0.044624  1.000000  0.627323  0.228189   \n",
       "3  0.334091  0.212039  0.317808  0.198388  0.218753  0.121373  0.082880   \n",
       "4  0.519144  0.348326  0.486559  0.355673  0.213202  0.146739  0.171037   \n",
       "\n",
       "         7         8         9   ...        20        21        22        23  \\\n",
       "0  0.406952  0.281818  0.118155  ...  0.582711  0.382463  0.551771  0.391958   \n",
       "1  0.488918  0.651515  0.504002  ...  0.268943  0.498667  0.277852  0.136183   \n",
       "2  0.274543  0.665657  0.949031  ...  0.083600  0.116205  0.092833  0.028264   \n",
       "3  0.153894  0.330303  0.189975  ...  0.274991  0.254797  0.252951  0.138812   \n",
       "4  0.292525  0.539899  0.006108  ...  0.450018  0.421375  0.392400  0.264402   \n",
       "\n",
       "         24        25        26        27        28        29  \n",
       "0  0.406326  0.204044  0.215815  0.606529  0.205639  0.079716  \n",
       "1  0.654626  0.497531  0.430511  0.707904  0.554416  0.341388  \n",
       "2  0.786040  0.307371  0.167652  0.352234  0.290221  0.459584  \n",
       "3  0.319157  0.094993  0.089217  0.256117  0.228509  0.112483  \n",
       "4  0.237932  0.090142  0.179633  0.407216  0.653785  0.038742  \n",
       "\n",
       "[5 rows x 30 columns]"
      ]
     },
     "execution_count": 195,
     "metadata": {},
     "output_type": "execute_result"
    }
   ],
   "source": [
    "pd.DataFrame(X_train_mms).head()"
   ]
  },
  {
   "cell_type": "code",
   "execution_count": 200,
   "metadata": {},
   "outputs": [
    {
     "data": {
      "text/plain": [
       "(array([0, 1]), array([158, 268], dtype=int64))"
      ]
     },
     "execution_count": 200,
     "metadata": {},
     "output_type": "execute_result"
    }
   ],
   "source": [
    "np.unique(y_train), np.bincount(y_train)"
   ]
  },
  {
   "cell_type": "code",
   "execution_count": 196,
   "metadata": {},
   "outputs": [
    {
     "data": {
      "text/html": [
       "<div>\n",
       "<style scoped>\n",
       "    .dataframe tbody tr th:only-of-type {\n",
       "        vertical-align: middle;\n",
       "    }\n",
       "\n",
       "    .dataframe tbody tr th {\n",
       "        vertical-align: top;\n",
       "    }\n",
       "\n",
       "    .dataframe thead th {\n",
       "        text-align: right;\n",
       "    }\n",
       "</style>\n",
       "<table border=\"1\" class=\"dataframe\">\n",
       "  <thead>\n",
       "    <tr style=\"text-align: right;\">\n",
       "      <th></th>\n",
       "      <th>0</th>\n",
       "      <th>1</th>\n",
       "      <th>2</th>\n",
       "      <th>3</th>\n",
       "      <th>4</th>\n",
       "      <th>5</th>\n",
       "      <th>6</th>\n",
       "      <th>7</th>\n",
       "      <th>8</th>\n",
       "      <th>9</th>\n",
       "      <th>...</th>\n",
       "      <th>20</th>\n",
       "      <th>21</th>\n",
       "      <th>22</th>\n",
       "      <th>23</th>\n",
       "      <th>24</th>\n",
       "      <th>25</th>\n",
       "      <th>26</th>\n",
       "      <th>27</th>\n",
       "      <th>28</th>\n",
       "      <th>29</th>\n",
       "    </tr>\n",
       "  </thead>\n",
       "  <tbody>\n",
       "    <tr>\n",
       "      <th>0</th>\n",
       "      <td>0.550381</td>\n",
       "      <td>0.356442</td>\n",
       "      <td>0.541151</td>\n",
       "      <td>0.403181</td>\n",
       "      <td>0.316087</td>\n",
       "      <td>0.267530</td>\n",
       "      <td>0.349437</td>\n",
       "      <td>0.404130</td>\n",
       "      <td>0.321717</td>\n",
       "      <td>0.148062</td>\n",
       "      <td>...</td>\n",
       "      <td>0.475987</td>\n",
       "      <td>0.406183</td>\n",
       "      <td>0.445690</td>\n",
       "      <td>0.299302</td>\n",
       "      <td>0.413590</td>\n",
       "      <td>0.178916</td>\n",
       "      <td>0.275240</td>\n",
       "      <td>0.512027</td>\n",
       "      <td>0.152800</td>\n",
       "      <td>0.124762</td>\n",
       "    </tr>\n",
       "    <tr>\n",
       "      <th>1</th>\n",
       "      <td>0.210564</td>\n",
       "      <td>0.257017</td>\n",
       "      <td>0.206413</td>\n",
       "      <td>0.107953</td>\n",
       "      <td>0.462781</td>\n",
       "      <td>0.231520</td>\n",
       "      <td>0.047631</td>\n",
       "      <td>0.097282</td>\n",
       "      <td>0.295455</td>\n",
       "      <td>0.329823</td>\n",
       "      <td>...</td>\n",
       "      <td>0.172536</td>\n",
       "      <td>0.392857</td>\n",
       "      <td>0.160616</td>\n",
       "      <td>0.078107</td>\n",
       "      <td>0.463118</td>\n",
       "      <td>0.147384</td>\n",
       "      <td>0.061565</td>\n",
       "      <td>0.220000</td>\n",
       "      <td>0.200710</td>\n",
       "      <td>0.169085</td>\n",
       "    </tr>\n",
       "    <tr>\n",
       "      <th>2</th>\n",
       "      <td>0.197785</td>\n",
       "      <td>0.395671</td>\n",
       "      <td>0.187686</td>\n",
       "      <td>0.100445</td>\n",
       "      <td>0.389434</td>\n",
       "      <td>0.123919</td>\n",
       "      <td>0.021001</td>\n",
       "      <td>0.056247</td>\n",
       "      <td>0.280303</td>\n",
       "      <td>0.241786</td>\n",
       "      <td>...</td>\n",
       "      <td>0.157595</td>\n",
       "      <td>0.450426</td>\n",
       "      <td>0.143682</td>\n",
       "      <td>0.067047</td>\n",
       "      <td>0.376610</td>\n",
       "      <td>0.081022</td>\n",
       "      <td>0.028610</td>\n",
       "      <td>0.147973</td>\n",
       "      <td>0.277997</td>\n",
       "      <td>0.105194</td>\n",
       "    </tr>\n",
       "    <tr>\n",
       "      <th>3</th>\n",
       "      <td>0.373373</td>\n",
       "      <td>0.355090</td>\n",
       "      <td>0.361620</td>\n",
       "      <td>0.227953</td>\n",
       "      <td>0.330657</td>\n",
       "      <td>0.196522</td>\n",
       "      <td>0.160038</td>\n",
       "      <td>0.258808</td>\n",
       "      <td>0.215657</td>\n",
       "      <td>0.158382</td>\n",
       "      <td>...</td>\n",
       "      <td>0.287442</td>\n",
       "      <td>0.438699</td>\n",
       "      <td>0.266398</td>\n",
       "      <td>0.147070</td>\n",
       "      <td>0.333025</td>\n",
       "      <td>0.108188</td>\n",
       "      <td>0.135783</td>\n",
       "      <td>0.349485</td>\n",
       "      <td>0.158320</td>\n",
       "      <td>0.070786</td>\n",
       "    </tr>\n",
       "    <tr>\n",
       "      <th>4</th>\n",
       "      <td>0.375740</td>\n",
       "      <td>0.176530</td>\n",
       "      <td>0.363900</td>\n",
       "      <td>0.230498</td>\n",
       "      <td>0.183071</td>\n",
       "      <td>0.202779</td>\n",
       "      <td>0.129902</td>\n",
       "      <td>0.168374</td>\n",
       "      <td>0.316667</td>\n",
       "      <td>0.141744</td>\n",
       "      <td>...</td>\n",
       "      <td>0.329064</td>\n",
       "      <td>0.165245</td>\n",
       "      <td>0.306738</td>\n",
       "      <td>0.177300</td>\n",
       "      <td>0.233309</td>\n",
       "      <td>0.244307</td>\n",
       "      <td>0.251677</td>\n",
       "      <td>0.394158</td>\n",
       "      <td>0.221215</td>\n",
       "      <td>0.180708</td>\n",
       "    </tr>\n",
       "  </tbody>\n",
       "</table>\n",
       "<p>5 rows × 30 columns</p>\n",
       "</div>"
      ],
      "text/plain": [
       "         0         1         2         3         4         5         6   \\\n",
       "0  0.550381  0.356442  0.541151  0.403181  0.316087  0.267530  0.349437   \n",
       "1  0.210564  0.257017  0.206413  0.107953  0.462781  0.231520  0.047631   \n",
       "2  0.197785  0.395671  0.187686  0.100445  0.389434  0.123919  0.021001   \n",
       "3  0.373373  0.355090  0.361620  0.227953  0.330657  0.196522  0.160038   \n",
       "4  0.375740  0.176530  0.363900  0.230498  0.183071  0.202779  0.129902   \n",
       "\n",
       "         7         8         9   ...        20        21        22        23  \\\n",
       "0  0.404130  0.321717  0.148062  ...  0.475987  0.406183  0.445690  0.299302   \n",
       "1  0.097282  0.295455  0.329823  ...  0.172536  0.392857  0.160616  0.078107   \n",
       "2  0.056247  0.280303  0.241786  ...  0.157595  0.450426  0.143682  0.067047   \n",
       "3  0.258808  0.215657  0.158382  ...  0.287442  0.438699  0.266398  0.147070   \n",
       "4  0.168374  0.316667  0.141744  ...  0.329064  0.165245  0.306738  0.177300   \n",
       "\n",
       "         24        25        26        27        28        29  \n",
       "0  0.413590  0.178916  0.275240  0.512027  0.152800  0.124762  \n",
       "1  0.463118  0.147384  0.061565  0.220000  0.200710  0.169085  \n",
       "2  0.376610  0.081022  0.028610  0.147973  0.277997  0.105194  \n",
       "3  0.333025  0.108188  0.135783  0.349485  0.158320  0.070786  \n",
       "4  0.233309  0.244307  0.251677  0.394158  0.221215  0.180708  \n",
       "\n",
       "[5 rows x 30 columns]"
      ]
     },
     "execution_count": 196,
     "metadata": {},
     "output_type": "execute_result"
    }
   ],
   "source": [
    "pd.DataFrame(X_test_mms).head()"
   ]
  },
  {
   "cell_type": "markdown",
   "metadata": {},
   "source": [
    "#### **Case:1**\n",
    "##### **Radius is larger than 1**"
   ]
  },
  {
   "cell_type": "code",
   "execution_count": 257,
   "metadata": {},
   "outputs": [
    {
     "name": "stdout",
     "output_type": "stream",
     "text": [
      "[1 1 1 1 1 1 1 1 1 1 1 1 1 1 1 1 1 1 1 1 1 1 1 1 1 1 1 1 1 1 1 1 1 1 1 1 1\n",
      " 1 1 1 1 1 1 1 1 1 1 1 1 1 1 1 1 1 1 1 1 1 1 1 1 1 1 1 1 1 1 1 1 1 1 1 1 1\n",
      " 1 1 1 1 1 1 1 1 1 1 1 1 1 1 1 1 1 1 1 1 1 1 1 1 1 1 1 1 1 1 1 1 1 1 1 1 1\n",
      " 1 1 1 1 1 1 1 1 1 1 1 1 1 1 1 1 1 1 1 1 1 1 1 1 1 1 1 1 1 1 1 1]\n",
      "0.6223776223776224\n"
     ]
    }
   ],
   "source": [
    "rnc1 = RadiusNeighborsClassifier(radius=3,n_neighbors=5,weights='uniform',algorithm='kd_tree',\n",
    "                                leaf_size=30,p=2,metric='minkowski',outlier_label=0)\n",
    "rnc1.fit(X_train_mms, y_train)\n",
    "print(rnc1.predict(pd.DataFrame(X_test_mms)))\n",
    "print(rnc1.score(pd.DataFrame(X_test_mms),y_test))"
   ]
  },
  {
   "cell_type": "markdown",
   "metadata": {},
   "source": [
    "#### **Here, as the dominating class is 1 thus with a radius of 3 we are considering the entire training dataset to label the test dataset. Hence, all are labelled as 1 because all the training points are inside the radius of 3.**"
   ]
  },
  {
   "cell_type": "markdown",
   "metadata": {},
   "source": [
    "#### **Case:2**\n",
    "##### **Different values of Radius and Nearest Neighbors**\n",
    "\n",
    "#### ***`NOTE :: I'm making an assumption here that is if the nearest neighbors of a point are not found within the given radius then it will be marked as -ve i.e. 0.`***"
   ]
  },
  {
   "cell_type": "code",
   "execution_count": 288,
   "metadata": {},
   "outputs": [
    {
     "name": "stdout",
     "output_type": "stream",
     "text": [
      "\n",
      "### Run -- 1 with Nearest Neighbors -- 7 and Radius -- 0.8 ###\n",
      "[0 1 1 1 1 1 1 1 1 1 1 0 1 1 1 0 1 1 1 1 0 1 1 1 0 0 0 1 1 1 1 1 1 1 1 0 0\n",
      " 1 1 1 1 1 1 1 1 1 1 1 1 1 1 0 1 1 1 1 1 0 1 1 0 0 1 0 1 1 1 1 1 0 1 1 1 0\n",
      " 0 0 0 0 0 1 0 1 1 0 1 0 1 0 1 1 1 0 0 1 0 1 1 0 1 1 0 1 1 1 1 0 1 0 1 0 1\n",
      " 0 1 0 1 1 0 1 0 0 1 0 1 1 0 0 1 1 0 1 1 1 1 1 1 0 1 0 1 1 1 0 0]\n",
      "Accuracy Score is 0.944\n",
      "\n",
      "### Run -- 2 with Nearest Neighbors -- 9 and Radius -- 0.9 ###\n",
      "[0 1 1 1 1 1 1 1 1 1 1 1 1 1 1 0 1 1 1 1 0 1 1 1 0 0 0 1 1 1 1 1 1 1 1 1 0\n",
      " 1 1 1 1 1 1 1 1 1 1 1 1 1 1 0 1 1 1 1 1 0 1 1 0 0 1 0 1 1 1 1 1 0 1 1 1 0\n",
      " 0 0 0 0 0 1 0 1 1 0 1 0 1 0 1 1 1 0 0 1 0 1 1 0 1 1 0 1 1 1 1 0 1 0 1 0 1\n",
      " 0 1 0 1 1 0 1 0 0 1 1 1 1 0 0 1 1 0 1 1 1 1 1 1 0 1 0 1 1 1 0 0]\n",
      "Accuracy Score is 0.923\n",
      "\n",
      "### Run -- 3 with Nearest Neighbors -- 11 and Radius -- 1.0 ###\n",
      "[0 1 1 1 1 1 1 1 1 1 1 1 1 1 1 1 1 1 1 1 1 1 1 1 0 0 0 1 1 1 1 1 1 1 1 1 0\n",
      " 1 1 1 1 1 1 1 1 1 1 1 1 1 1 0 1 1 1 1 1 0 1 1 0 0 1 0 1 1 1 1 1 0 1 1 1 0\n",
      " 0 1 0 1 0 1 0 1 1 0 1 0 1 0 1 1 1 0 1 1 1 1 1 0 1 1 0 1 1 1 1 0 1 0 1 0 1\n",
      " 0 1 1 1 1 0 1 0 0 1 1 1 1 0 0 1 1 0 1 1 1 1 1 1 0 1 0 1 1 1 0 0]\n",
      "Accuracy Score is 0.874\n",
      "\n",
      "### Run -- 4 with Nearest Neighbors -- 13 and Radius -- 1.2 ###\n",
      "[1 1 1 1 1 1 1 1 1 1 1 1 1 1 1 1 1 1 1 1 1 1 1 1 0 1 1 1 1 1 1 1 1 1 1 1 0\n",
      " 1 1 1 1 1 1 1 1 1 1 1 1 1 1 0 1 1 1 1 1 0 1 1 1 0 1 0 1 1 1 1 1 0 1 1 1 0\n",
      " 1 1 0 1 0 1 1 1 1 0 1 0 1 0 1 1 1 1 1 1 1 1 1 1 1 1 1 1 1 1 1 0 1 1 1 0 1\n",
      " 0 1 1 1 1 0 1 0 0 1 1 1 1 1 0 1 1 0 1 1 1 1 1 1 1 1 1 1 1 1 0 0]\n",
      "Accuracy Score is 0.783\n",
      "\n",
      "### Run -- 5 with Nearest Neighbors -- 15 and Radius -- 1.5 ###\n",
      "[1 1 1 1 1 1 1 1 1 1 1 1 1 1 1 1 1 1 1 1 1 1 1 1 0 1 1 1 1 1 1 1 1 1 1 1 1\n",
      " 1 1 1 1 1 1 1 1 1 1 1 1 1 1 0 1 1 1 1 1 0 1 1 1 1 1 0 1 1 1 1 1 1 1 1 1 0\n",
      " 1 1 0 1 1 1 1 1 1 0 1 1 1 0 1 1 1 1 1 1 1 1 1 1 1 1 1 1 1 1 1 0 1 1 1 0 1\n",
      " 1 1 1 1 1 1 1 1 1 1 1 1 1 1 0 1 1 0 1 1 1 1 1 1 1 1 1 1 1 1 1 0]\n",
      "Accuracy Score is 0.713\n"
     ]
    }
   ],
   "source": [
    "k = [7,9,11,13,15]\n",
    "radius = [0.8,0.9,1.0,1.2,1.5]\n",
    "for idx,(n,r) in enumerate(list(zip(k,radius))):\n",
    "    print(\"\\n### Run -- {} with Nearest Neighbors -- {} and Radius -- {} ###\".format(idx+1,n,r))\n",
    "    rnc1 = RadiusNeighborsClassifier(radius=r,n_neighbors=n,weights='uniform',algorithm='kd_tree',\n",
    "                                leaf_size=15,p=2,metric='minkowski',outlier_label=0)\n",
    "    rnc1.fit(X_train_mms, y_train)\n",
    "    print(rnc1.predict(pd.DataFrame(X_test_mms)))\n",
    "    print(\"Accuracy Score is {}\".format(np.round(rnc1.score(pd.DataFrame(X_test_mms),y_test),3)))"
   ]
  },
  {
   "cell_type": "markdown",
   "metadata": {},
   "source": [
    "#### **So, the accuracy is clearly dropping down with the increase in radius.**"
   ]
  },
  {
   "cell_type": "markdown",
   "metadata": {},
   "source": [
    "#### **NN_Distances_and_Indices**\n",
    "##### **Distance to every Nearest Neighbor and their indices**\n",
    "\n",
    "- **The `Radius Neighbors` function finds the neighbors within a given radius of a point or points.**\n",
    "- **It return the indices and distances of each point from the dataset lying in a ball with size ``radius`` around the points of the query array. Points lying on the boundary are included in the results.**\n",
    "- **The result points are *not* necessarily sorted by distance to their query point.**"
   ]
  },
  {
   "cell_type": "code",
   "execution_count": 292,
   "metadata": {},
   "outputs": [],
   "source": [
    "distances_to_each_nn, indices_of_nn = rnc1.radius_neighbors(X_test_st,radius=0.8)"
   ]
  },
  {
   "cell_type": "code",
   "execution_count": 293,
   "metadata": {},
   "outputs": [
    {
     "data": {
      "text/plain": [
       "((143,), (143,))"
      ]
     },
     "execution_count": 293,
     "metadata": {},
     "output_type": "execute_result"
    }
   ],
   "source": [
    "distances_to_each_nn.shape, indices_of_nn.shape"
   ]
  },
  {
   "cell_type": "markdown",
   "metadata": {},
   "source": [
    "#### **So, till now we are good because 143 data points exist in the test dataset.**"
   ]
  },
  {
   "cell_type": "code",
   "execution_count": 294,
   "metadata": {},
   "outputs": [
    {
     "data": {
      "text/plain": [
       "array([0.55038099, 0.35644234, 0.54115127, 0.40318134, 0.31608683,\n",
       "       0.2675296 , 0.34943715, 0.40412964, 0.32171717, 0.14806234,\n",
       "       0.26847728, 0.32903112, 0.22970362, 0.16133929, 0.30720332,\n",
       "       0.18752065, 0.12830808, 0.36200038, 0.18815124, 0.11477551,\n",
       "       0.47598719, 0.40618337, 0.44568953, 0.29930201, 0.41359044,\n",
       "       0.1789155 , 0.27523962, 0.51202749, 0.15279968, 0.12476197])"
      ]
     },
     "execution_count": 294,
     "metadata": {},
     "output_type": "execute_result"
    }
   ],
   "source": [
    "X_test_st[0]"
   ]
  },
  {
   "cell_type": "code",
   "execution_count": 297,
   "metadata": {},
   "outputs": [
    {
     "data": {
      "text/plain": [
       "107"
      ]
     },
     "execution_count": 297,
     "metadata": {},
     "output_type": "execute_result"
    }
   ],
   "source": [
    "len(distances_to_each_nn[0])"
   ]
  },
  {
   "cell_type": "markdown",
   "metadata": {},
   "source": [
    "#### **Here, the first point in the test dataset has 107 Radius Nearest Neighbors.**"
   ]
  },
  {
   "cell_type": "code",
   "execution_count": 298,
   "metadata": {},
   "outputs": [
    {
     "data": {
      "text/plain": [
       "array([0.77485119, 0.79928181, 0.75381767, 0.70104903, 0.78250427,\n",
       "       0.66317849, 0.663835  , 0.59951726, 0.73479384, 0.63464298,\n",
       "       0.68966113, 0.73084904, 0.75086833, 0.76285138, 0.60855405,\n",
       "       0.7042115 , 0.65302504, 0.77355881, 0.7643015 , 0.69141421,\n",
       "       0.50073962, 0.64050169, 0.72027237, 0.72954823, 0.7175256 ,\n",
       "       0.70404708, 0.56169357, 0.61452768, 0.62009898, 0.61641988,\n",
       "       0.7451911 , 0.63563298, 0.58947877, 0.6019377 , 0.52353405,\n",
       "       0.53506146, 0.61081914, 0.62331693, 0.52414384, 0.52262196,\n",
       "       0.72080903, 0.46332191, 0.60930924, 0.44142947, 0.60589131,\n",
       "       0.45932364, 0.6261524 , 0.40951519, 0.60013706, 0.44445524,\n",
       "       0.74071954, 0.43127356, 0.49096904, 0.77621701, 0.56782249,\n",
       "       0.66669249, 0.6931883 , 0.55817302, 0.62487651, 0.78417201,\n",
       "       0.56344947, 0.77031498, 0.73625407, 0.72129064, 0.72113906,\n",
       "       0.63343834, 0.78740412, 0.57786836, 0.74541704, 0.7393466 ,\n",
       "       0.39731962, 0.77010967, 0.74216385, 0.68700304, 0.72430201,\n",
       "       0.66556779, 0.58060416, 0.40485425, 0.61051576, 0.68552695,\n",
       "       0.5759053 , 0.64410966, 0.4960889 , 0.52578606, 0.48918407,\n",
       "       0.79324096, 0.48277944, 0.75340673, 0.5322959 , 0.72316033,\n",
       "       0.68425833, 0.69591922, 0.389545  , 0.58881879, 0.44132117,\n",
       "       0.78901245, 0.7205242 , 0.54556867, 0.6572326 , 0.46841819,\n",
       "       0.68788622, 0.48553522, 0.73903593, 0.79735253, 0.54686117,\n",
       "       0.58888114, 0.51697856])"
      ]
     },
     "execution_count": 298,
     "metadata": {},
     "output_type": "execute_result"
    }
   ],
   "source": [
    "distances_to_each_nn[0]"
   ]
  },
  {
   "cell_type": "markdown",
   "metadata": {},
   "source": [
    "#### **Above are the distances of first test point to its 107 Radius Nearest Neighbors.**"
   ]
  },
  {
   "cell_type": "code",
   "execution_count": 296,
   "metadata": {},
   "outputs": [
    {
     "data": {
      "text/plain": [
       "array([ 35,  93, 168, 294, 298,  27,  98, 354, 193, 407, 166, 151, 109,\n",
       "        59,  14,  26,  57, 148, 248,  44, 423, 130, 323, 310, 341, 165,\n",
       "       378, 229, 351,  30,  52, 223, 270, 120, 226, 283,  78,  94, 140,\n",
       "        54, 314, 333, 318, 102, 107,   0, 144,  43,  36, 312, 376, 306,\n",
       "        58, 234, 345, 297, 254, 338, 179, 105, 260, 128, 125, 370, 220,\n",
       "       307, 422, 377, 389, 143, 126,  15, 190,  18, 204,  45, 295, 189,\n",
       "        74, 181, 369, 374, 121,  28, 247,  75,  24, 340, 394, 324, 408,\n",
       "       208, 316, 116, 327,  95, 183, 246, 110, 404,  13, 343, 360,  37,\n",
       "       170, 296, 319], dtype=int64)"
      ]
     },
     "execution_count": 296,
     "metadata": {},
     "output_type": "execute_result"
    }
   ],
   "source": [
    "indices_of_nn[0]"
   ]
  },
  {
   "cell_type": "markdown",
   "metadata": {},
   "source": [
    "#### **Above are the training data points indices of first test point 107 Radius Nearest Neighbors.**"
   ]
  },
  {
   "cell_type": "code",
   "execution_count": 302,
   "metadata": {},
   "outputs": [
    {
     "data": {
      "text/html": [
       "<div>\n",
       "<style scoped>\n",
       "    .dataframe tbody tr th:only-of-type {\n",
       "        vertical-align: middle;\n",
       "    }\n",
       "\n",
       "    .dataframe tbody tr th {\n",
       "        vertical-align: top;\n",
       "    }\n",
       "\n",
       "    .dataframe thead th {\n",
       "        text-align: right;\n",
       "    }\n",
       "</style>\n",
       "<table border=\"1\" class=\"dataframe\">\n",
       "  <thead>\n",
       "    <tr style=\"text-align: right;\">\n",
       "      <th></th>\n",
       "      <th>0</th>\n",
       "      <th>1</th>\n",
       "      <th>2</th>\n",
       "      <th>3</th>\n",
       "      <th>4</th>\n",
       "      <th>5</th>\n",
       "      <th>6</th>\n",
       "      <th>7</th>\n",
       "      <th>8</th>\n",
       "      <th>9</th>\n",
       "      <th>...</th>\n",
       "      <th>20</th>\n",
       "      <th>21</th>\n",
       "      <th>22</th>\n",
       "      <th>23</th>\n",
       "      <th>24</th>\n",
       "      <th>25</th>\n",
       "      <th>26</th>\n",
       "      <th>27</th>\n",
       "      <th>28</th>\n",
       "      <th>29</th>\n",
       "    </tr>\n",
       "  </thead>\n",
       "  <tbody>\n",
       "    <tr>\n",
       "      <th>0</th>\n",
       "      <td>0.291495</td>\n",
       "      <td>0.373013</td>\n",
       "      <td>0.291549</td>\n",
       "      <td>0.166872</td>\n",
       "      <td>0.240262</td>\n",
       "      <td>0.274584</td>\n",
       "      <td>0.254456</td>\n",
       "      <td>0.183481</td>\n",
       "      <td>0.253535</td>\n",
       "      <td>0.215670</td>\n",
       "      <td>...</td>\n",
       "      <td>0.244397</td>\n",
       "      <td>0.358209</td>\n",
       "      <td>0.251457</td>\n",
       "      <td>0.123845</td>\n",
       "      <td>0.422175</td>\n",
       "      <td>0.317849</td>\n",
       "      <td>0.359744</td>\n",
       "      <td>0.405842</td>\n",
       "      <td>0.196569</td>\n",
       "      <td>0.174207</td>\n",
       "    </tr>\n",
       "    <tr>\n",
       "      <th>1</th>\n",
       "      <td>0.385205</td>\n",
       "      <td>0.235712</td>\n",
       "      <td>0.380001</td>\n",
       "      <td>0.243097</td>\n",
       "      <td>0.260184</td>\n",
       "      <td>0.234648</td>\n",
       "      <td>0.177064</td>\n",
       "      <td>0.213225</td>\n",
       "      <td>0.269697</td>\n",
       "      <td>0.208509</td>\n",
       "      <td>...</td>\n",
       "      <td>0.350053</td>\n",
       "      <td>0.219083</td>\n",
       "      <td>0.335126</td>\n",
       "      <td>0.197675</td>\n",
       "      <td>0.514627</td>\n",
       "      <td>0.296698</td>\n",
       "      <td>0.265735</td>\n",
       "      <td>0.430241</td>\n",
       "      <td>0.364550</td>\n",
       "      <td>0.277037</td>\n",
       "    </tr>\n",
       "    <tr>\n",
       "      <th>2</th>\n",
       "      <td>0.441053</td>\n",
       "      <td>0.202570</td>\n",
       "      <td>0.420911</td>\n",
       "      <td>0.286872</td>\n",
       "      <td>0.314798</td>\n",
       "      <td>0.146433</td>\n",
       "      <td>0.129597</td>\n",
       "      <td>0.238526</td>\n",
       "      <td>0.328788</td>\n",
       "      <td>0.139217</td>\n",
       "      <td>...</td>\n",
       "      <td>0.334045</td>\n",
       "      <td>0.152985</td>\n",
       "      <td>0.295782</td>\n",
       "      <td>0.182609</td>\n",
       "      <td>0.424156</td>\n",
       "      <td>0.105568</td>\n",
       "      <td>0.155511</td>\n",
       "      <td>0.466323</td>\n",
       "      <td>0.144716</td>\n",
       "      <td>0.112220</td>\n",
       "    </tr>\n",
       "    <tr>\n",
       "      <th>3</th>\n",
       "      <td>0.413129</td>\n",
       "      <td>0.142712</td>\n",
       "      <td>0.402253</td>\n",
       "      <td>0.262227</td>\n",
       "      <td>0.318267</td>\n",
       "      <td>0.230783</td>\n",
       "      <td>0.167331</td>\n",
       "      <td>0.310141</td>\n",
       "      <td>0.381818</td>\n",
       "      <td>0.153117</td>\n",
       "      <td>...</td>\n",
       "      <td>0.340448</td>\n",
       "      <td>0.192697</td>\n",
       "      <td>0.318193</td>\n",
       "      <td>0.181282</td>\n",
       "      <td>0.337648</td>\n",
       "      <td>0.162616</td>\n",
       "      <td>0.136502</td>\n",
       "      <td>0.472165</td>\n",
       "      <td>0.228115</td>\n",
       "      <td>0.101779</td>\n",
       "    </tr>\n",
       "    <tr>\n",
       "      <th>4</th>\n",
       "      <td>0.381419</td>\n",
       "      <td>0.237741</td>\n",
       "      <td>0.379656</td>\n",
       "      <td>0.231559</td>\n",
       "      <td>0.359996</td>\n",
       "      <td>0.358935</td>\n",
       "      <td>0.181074</td>\n",
       "      <td>0.321066</td>\n",
       "      <td>0.307071</td>\n",
       "      <td>0.394482</td>\n",
       "      <td>...</td>\n",
       "      <td>0.314123</td>\n",
       "      <td>0.224147</td>\n",
       "      <td>0.295284</td>\n",
       "      <td>0.165086</td>\n",
       "      <td>0.279535</td>\n",
       "      <td>0.184640</td>\n",
       "      <td>0.148243</td>\n",
       "      <td>0.349828</td>\n",
       "      <td>0.120465</td>\n",
       "      <td>0.198831</td>\n",
       "    </tr>\n",
       "    <tr>\n",
       "      <th>...</th>\n",
       "      <td>...</td>\n",
       "      <td>...</td>\n",
       "      <td>...</td>\n",
       "      <td>...</td>\n",
       "      <td>...</td>\n",
       "      <td>...</td>\n",
       "      <td>...</td>\n",
       "      <td>...</td>\n",
       "      <td>...</td>\n",
       "      <td>...</td>\n",
       "      <td>...</td>\n",
       "      <td>...</td>\n",
       "      <td>...</td>\n",
       "      <td>...</td>\n",
       "      <td>...</td>\n",
       "      <td>...</td>\n",
       "      <td>...</td>\n",
       "      <td>...</td>\n",
       "      <td>...</td>\n",
       "      <td>...</td>\n",
       "      <td>...</td>\n",
       "    </tr>\n",
       "    <tr>\n",
       "      <th>102</th>\n",
       "      <td>0.475129</td>\n",
       "      <td>0.482584</td>\n",
       "      <td>0.476885</td>\n",
       "      <td>0.320594</td>\n",
       "      <td>0.566855</td>\n",
       "      <td>0.399423</td>\n",
       "      <td>0.566839</td>\n",
       "      <td>0.628855</td>\n",
       "      <td>0.600000</td>\n",
       "      <td>0.291912</td>\n",
       "      <td>...</td>\n",
       "      <td>0.460690</td>\n",
       "      <td>0.534915</td>\n",
       "      <td>0.426764</td>\n",
       "      <td>0.284801</td>\n",
       "      <td>0.609060</td>\n",
       "      <td>0.318819</td>\n",
       "      <td>0.446326</td>\n",
       "      <td>0.634708</td>\n",
       "      <td>0.387224</td>\n",
       "      <td>0.194432</td>\n",
       "    </tr>\n",
       "    <tr>\n",
       "      <th>103</th>\n",
       "      <td>0.364854</td>\n",
       "      <td>0.144403</td>\n",
       "      <td>0.376132</td>\n",
       "      <td>0.217434</td>\n",
       "      <td>0.402319</td>\n",
       "      <td>0.503711</td>\n",
       "      <td>0.340056</td>\n",
       "      <td>0.329326</td>\n",
       "      <td>0.518182</td>\n",
       "      <td>0.507582</td>\n",
       "      <td>...</td>\n",
       "      <td>0.303451</td>\n",
       "      <td>0.168443</td>\n",
       "      <td>0.317197</td>\n",
       "      <td>0.153362</td>\n",
       "      <td>0.396421</td>\n",
       "      <td>0.326193</td>\n",
       "      <td>0.257109</td>\n",
       "      <td>0.380756</td>\n",
       "      <td>0.248620</td>\n",
       "      <td>0.242104</td>\n",
       "    </tr>\n",
       "    <tr>\n",
       "      <th>104</th>\n",
       "      <td>0.383312</td>\n",
       "      <td>0.542103</td>\n",
       "      <td>0.374611</td>\n",
       "      <td>0.243097</td>\n",
       "      <td>0.395381</td>\n",
       "      <td>0.240200</td>\n",
       "      <td>0.289634</td>\n",
       "      <td>0.342551</td>\n",
       "      <td>0.296465</td>\n",
       "      <td>0.309183</td>\n",
       "      <td>...</td>\n",
       "      <td>0.376379</td>\n",
       "      <td>0.565032</td>\n",
       "      <td>0.352557</td>\n",
       "      <td>0.212544</td>\n",
       "      <td>0.626230</td>\n",
       "      <td>0.202103</td>\n",
       "      <td>0.321805</td>\n",
       "      <td>0.524399</td>\n",
       "      <td>0.214511</td>\n",
       "      <td>0.257207</td>\n",
       "    </tr>\n",
       "    <tr>\n",
       "      <th>105</th>\n",
       "      <td>0.439159</td>\n",
       "      <td>0.411566</td>\n",
       "      <td>0.440260</td>\n",
       "      <td>0.289841</td>\n",
       "      <td>0.535137</td>\n",
       "      <td>0.334090</td>\n",
       "      <td>0.421904</td>\n",
       "      <td>0.417198</td>\n",
       "      <td>0.408586</td>\n",
       "      <td>0.323505</td>\n",
       "      <td>...</td>\n",
       "      <td>0.348630</td>\n",
       "      <td>0.351546</td>\n",
       "      <td>0.315205</td>\n",
       "      <td>0.194160</td>\n",
       "      <td>0.471703</td>\n",
       "      <td>0.178818</td>\n",
       "      <td>0.267093</td>\n",
       "      <td>0.359794</td>\n",
       "      <td>0.230678</td>\n",
       "      <td>0.159695</td>\n",
       "    </tr>\n",
       "    <tr>\n",
       "      <th>106</th>\n",
       "      <td>0.594870</td>\n",
       "      <td>0.456544</td>\n",
       "      <td>0.588142</td>\n",
       "      <td>0.437116</td>\n",
       "      <td>0.381505</td>\n",
       "      <td>0.344825</td>\n",
       "      <td>0.435272</td>\n",
       "      <td>0.533717</td>\n",
       "      <td>0.469192</td>\n",
       "      <td>0.187026</td>\n",
       "      <td>...</td>\n",
       "      <td>0.458556</td>\n",
       "      <td>0.490938</td>\n",
       "      <td>0.456148</td>\n",
       "      <td>0.277182</td>\n",
       "      <td>0.356138</td>\n",
       "      <td>0.207731</td>\n",
       "      <td>0.305831</td>\n",
       "      <td>0.627148</td>\n",
       "      <td>0.199132</td>\n",
       "      <td>0.136647</td>\n",
       "    </tr>\n",
       "  </tbody>\n",
       "</table>\n",
       "<p>107 rows × 30 columns</p>\n",
       "</div>"
      ],
      "text/plain": [
       "           0         1         2         3         4         5         6   \\\n",
       "0    0.291495  0.373013  0.291549  0.166872  0.240262  0.274584  0.254456   \n",
       "1    0.385205  0.235712  0.380001  0.243097  0.260184  0.234648  0.177064   \n",
       "2    0.441053  0.202570  0.420911  0.286872  0.314798  0.146433  0.129597   \n",
       "3    0.413129  0.142712  0.402253  0.262227  0.318267  0.230783  0.167331   \n",
       "4    0.381419  0.237741  0.379656  0.231559  0.359996  0.358935  0.181074   \n",
       "..        ...       ...       ...       ...       ...       ...       ...   \n",
       "102  0.475129  0.482584  0.476885  0.320594  0.566855  0.399423  0.566839   \n",
       "103  0.364854  0.144403  0.376132  0.217434  0.402319  0.503711  0.340056   \n",
       "104  0.383312  0.542103  0.374611  0.243097  0.395381  0.240200  0.289634   \n",
       "105  0.439159  0.411566  0.440260  0.289841  0.535137  0.334090  0.421904   \n",
       "106  0.594870  0.456544  0.588142  0.437116  0.381505  0.344825  0.435272   \n",
       "\n",
       "           7         8         9   ...        20        21        22  \\\n",
       "0    0.183481  0.253535  0.215670  ...  0.244397  0.358209  0.251457   \n",
       "1    0.213225  0.269697  0.208509  ...  0.350053  0.219083  0.335126   \n",
       "2    0.238526  0.328788  0.139217  ...  0.334045  0.152985  0.295782   \n",
       "3    0.310141  0.381818  0.153117  ...  0.340448  0.192697  0.318193   \n",
       "4    0.321066  0.307071  0.394482  ...  0.314123  0.224147  0.295284   \n",
       "..        ...       ...       ...  ...       ...       ...       ...   \n",
       "102  0.628855  0.600000  0.291912  ...  0.460690  0.534915  0.426764   \n",
       "103  0.329326  0.518182  0.507582  ...  0.303451  0.168443  0.317197   \n",
       "104  0.342551  0.296465  0.309183  ...  0.376379  0.565032  0.352557   \n",
       "105  0.417198  0.408586  0.323505  ...  0.348630  0.351546  0.315205   \n",
       "106  0.533717  0.469192  0.187026  ...  0.458556  0.490938  0.456148   \n",
       "\n",
       "           23        24        25        26        27        28        29  \n",
       "0    0.123845  0.422175  0.317849  0.359744  0.405842  0.196569  0.174207  \n",
       "1    0.197675  0.514627  0.296698  0.265735  0.430241  0.364550  0.277037  \n",
       "2    0.182609  0.424156  0.105568  0.155511  0.466323  0.144716  0.112220  \n",
       "3    0.181282  0.337648  0.162616  0.136502  0.472165  0.228115  0.101779  \n",
       "4    0.165086  0.279535  0.184640  0.148243  0.349828  0.120465  0.198831  \n",
       "..        ...       ...       ...       ...       ...       ...       ...  \n",
       "102  0.284801  0.609060  0.318819  0.446326  0.634708  0.387224  0.194432  \n",
       "103  0.153362  0.396421  0.326193  0.257109  0.380756  0.248620  0.242104  \n",
       "104  0.212544  0.626230  0.202103  0.321805  0.524399  0.214511  0.257207  \n",
       "105  0.194160  0.471703  0.178818  0.267093  0.359794  0.230678  0.159695  \n",
       "106  0.277182  0.356138  0.207731  0.305831  0.627148  0.199132  0.136647  \n",
       "\n",
       "[107 rows x 30 columns]"
      ]
     },
     "execution_count": 302,
     "metadata": {},
     "output_type": "execute_result"
    }
   ],
   "source": [
    "pd.DataFrame(X_train_mms[indices_of_nn[0],:])"
   ]
  },
  {
   "cell_type": "markdown",
   "metadata": {},
   "source": [
    "#### **Above are the 107 Radius Nearest Neighbors of first test point from training data.**"
   ]
  },
  {
   "cell_type": "markdown",
   "metadata": {},
   "source": [
    "### **KNN**\n",
    "##### **Using pre-computed Mahalanobis Distance**\n",
    "\n",
    "#### ***`NOTE :: Sklearn implementation expects the distances to be +ve valued when using metric as 'precomputed' and algorithm also should be set as 'auto' or 'ball_tree'.`***"
   ]
  },
  {
   "cell_type": "code",
   "execution_count": 643,
   "metadata": {},
   "outputs": [
    {
     "data": {
      "text/html": [
       "<div>\n",
       "<style scoped>\n",
       "    .dataframe tbody tr th:only-of-type {\n",
       "        vertical-align: middle;\n",
       "    }\n",
       "\n",
       "    .dataframe tbody tr th {\n",
       "        vertical-align: top;\n",
       "    }\n",
       "\n",
       "    .dataframe thead th {\n",
       "        text-align: right;\n",
       "    }\n",
       "</style>\n",
       "<table border=\"1\" class=\"dataframe\">\n",
       "  <thead>\n",
       "    <tr style=\"text-align: right;\">\n",
       "      <th></th>\n",
       "      <th>mean radius</th>\n",
       "      <th>mean texture</th>\n",
       "      <th>mean perimeter</th>\n",
       "      <th>mean area</th>\n",
       "      <th>mean smoothness</th>\n",
       "      <th>mean compactness</th>\n",
       "      <th>mean concavity</th>\n",
       "      <th>mean concave points</th>\n",
       "      <th>mean symmetry</th>\n",
       "      <th>mean fractal dimension</th>\n",
       "      <th>...</th>\n",
       "      <th>worst radius</th>\n",
       "      <th>worst texture</th>\n",
       "      <th>worst perimeter</th>\n",
       "      <th>worst area</th>\n",
       "      <th>worst smoothness</th>\n",
       "      <th>worst compactness</th>\n",
       "      <th>worst concavity</th>\n",
       "      <th>worst concave points</th>\n",
       "      <th>worst symmetry</th>\n",
       "      <th>worst fractal dimension</th>\n",
       "    </tr>\n",
       "  </thead>\n",
       "  <tbody>\n",
       "    <tr>\n",
       "      <th>0</th>\n",
       "      <td>17.99</td>\n",
       "      <td>10.38</td>\n",
       "      <td>122.80</td>\n",
       "      <td>1001.0</td>\n",
       "      <td>0.11840</td>\n",
       "      <td>0.27760</td>\n",
       "      <td>0.3001</td>\n",
       "      <td>0.14710</td>\n",
       "      <td>0.2419</td>\n",
       "      <td>0.07871</td>\n",
       "      <td>...</td>\n",
       "      <td>25.38</td>\n",
       "      <td>17.33</td>\n",
       "      <td>184.60</td>\n",
       "      <td>2019.0</td>\n",
       "      <td>0.1622</td>\n",
       "      <td>0.6656</td>\n",
       "      <td>0.7119</td>\n",
       "      <td>0.2654</td>\n",
       "      <td>0.4601</td>\n",
       "      <td>0.11890</td>\n",
       "    </tr>\n",
       "    <tr>\n",
       "      <th>1</th>\n",
       "      <td>20.57</td>\n",
       "      <td>17.77</td>\n",
       "      <td>132.90</td>\n",
       "      <td>1326.0</td>\n",
       "      <td>0.08474</td>\n",
       "      <td>0.07864</td>\n",
       "      <td>0.0869</td>\n",
       "      <td>0.07017</td>\n",
       "      <td>0.1812</td>\n",
       "      <td>0.05667</td>\n",
       "      <td>...</td>\n",
       "      <td>24.99</td>\n",
       "      <td>23.41</td>\n",
       "      <td>158.80</td>\n",
       "      <td>1956.0</td>\n",
       "      <td>0.1238</td>\n",
       "      <td>0.1866</td>\n",
       "      <td>0.2416</td>\n",
       "      <td>0.1860</td>\n",
       "      <td>0.2750</td>\n",
       "      <td>0.08902</td>\n",
       "    </tr>\n",
       "    <tr>\n",
       "      <th>2</th>\n",
       "      <td>19.69</td>\n",
       "      <td>21.25</td>\n",
       "      <td>130.00</td>\n",
       "      <td>1203.0</td>\n",
       "      <td>0.10960</td>\n",
       "      <td>0.15990</td>\n",
       "      <td>0.1974</td>\n",
       "      <td>0.12790</td>\n",
       "      <td>0.2069</td>\n",
       "      <td>0.05999</td>\n",
       "      <td>...</td>\n",
       "      <td>23.57</td>\n",
       "      <td>25.53</td>\n",
       "      <td>152.50</td>\n",
       "      <td>1709.0</td>\n",
       "      <td>0.1444</td>\n",
       "      <td>0.4245</td>\n",
       "      <td>0.4504</td>\n",
       "      <td>0.2430</td>\n",
       "      <td>0.3613</td>\n",
       "      <td>0.08758</td>\n",
       "    </tr>\n",
       "    <tr>\n",
       "      <th>3</th>\n",
       "      <td>11.42</td>\n",
       "      <td>20.38</td>\n",
       "      <td>77.58</td>\n",
       "      <td>386.1</td>\n",
       "      <td>0.14250</td>\n",
       "      <td>0.28390</td>\n",
       "      <td>0.2414</td>\n",
       "      <td>0.10520</td>\n",
       "      <td>0.2597</td>\n",
       "      <td>0.09744</td>\n",
       "      <td>...</td>\n",
       "      <td>14.91</td>\n",
       "      <td>26.50</td>\n",
       "      <td>98.87</td>\n",
       "      <td>567.7</td>\n",
       "      <td>0.2098</td>\n",
       "      <td>0.8663</td>\n",
       "      <td>0.6869</td>\n",
       "      <td>0.2575</td>\n",
       "      <td>0.6638</td>\n",
       "      <td>0.17300</td>\n",
       "    </tr>\n",
       "    <tr>\n",
       "      <th>4</th>\n",
       "      <td>20.29</td>\n",
       "      <td>14.34</td>\n",
       "      <td>135.10</td>\n",
       "      <td>1297.0</td>\n",
       "      <td>0.10030</td>\n",
       "      <td>0.13280</td>\n",
       "      <td>0.1980</td>\n",
       "      <td>0.10430</td>\n",
       "      <td>0.1809</td>\n",
       "      <td>0.05883</td>\n",
       "      <td>...</td>\n",
       "      <td>22.54</td>\n",
       "      <td>16.67</td>\n",
       "      <td>152.20</td>\n",
       "      <td>1575.0</td>\n",
       "      <td>0.1374</td>\n",
       "      <td>0.2050</td>\n",
       "      <td>0.4000</td>\n",
       "      <td>0.1625</td>\n",
       "      <td>0.2364</td>\n",
       "      <td>0.07678</td>\n",
       "    </tr>\n",
       "  </tbody>\n",
       "</table>\n",
       "<p>5 rows × 30 columns</p>\n",
       "</div>"
      ],
      "text/plain": [
       "   mean radius  mean texture  mean perimeter  mean area  mean smoothness  \\\n",
       "0        17.99         10.38          122.80     1001.0          0.11840   \n",
       "1        20.57         17.77          132.90     1326.0          0.08474   \n",
       "2        19.69         21.25          130.00     1203.0          0.10960   \n",
       "3        11.42         20.38           77.58      386.1          0.14250   \n",
       "4        20.29         14.34          135.10     1297.0          0.10030   \n",
       "\n",
       "   mean compactness  mean concavity  mean concave points  mean symmetry  \\\n",
       "0           0.27760          0.3001              0.14710         0.2419   \n",
       "1           0.07864          0.0869              0.07017         0.1812   \n",
       "2           0.15990          0.1974              0.12790         0.2069   \n",
       "3           0.28390          0.2414              0.10520         0.2597   \n",
       "4           0.13280          0.1980              0.10430         0.1809   \n",
       "\n",
       "   mean fractal dimension  ...  worst radius  worst texture  worst perimeter  \\\n",
       "0                 0.07871  ...         25.38          17.33           184.60   \n",
       "1                 0.05667  ...         24.99          23.41           158.80   \n",
       "2                 0.05999  ...         23.57          25.53           152.50   \n",
       "3                 0.09744  ...         14.91          26.50            98.87   \n",
       "4                 0.05883  ...         22.54          16.67           152.20   \n",
       "\n",
       "   worst area  worst smoothness  worst compactness  worst concavity  \\\n",
       "0      2019.0            0.1622             0.6656           0.7119   \n",
       "1      1956.0            0.1238             0.1866           0.2416   \n",
       "2      1709.0            0.1444             0.4245           0.4504   \n",
       "3       567.7            0.2098             0.8663           0.6869   \n",
       "4      1575.0            0.1374             0.2050           0.4000   \n",
       "\n",
       "   worst concave points  worst symmetry  worst fractal dimension  \n",
       "0                0.2654          0.4601                  0.11890  \n",
       "1                0.1860          0.2750                  0.08902  \n",
       "2                0.2430          0.3613                  0.08758  \n",
       "3                0.2575          0.6638                  0.17300  \n",
       "4                0.1625          0.2364                  0.07678  \n",
       "\n",
       "[5 rows x 30 columns]"
      ]
     },
     "execution_count": 643,
     "metadata": {},
     "output_type": "execute_result"
    }
   ],
   "source": [
    "cancer_pre_comp = pd.DataFrame(cancer.data,columns=cancer.feature_names)\n",
    "cancer_pre_comp_y = cancer.target\n",
    "cancer_pre_comp.head()"
   ]
  },
  {
   "cell_type": "code",
   "execution_count": 644,
   "metadata": {},
   "outputs": [
    {
     "data": {
      "text/plain": [
       "((569, 30), (569,))"
      ]
     },
     "execution_count": 644,
     "metadata": {},
     "output_type": "execute_result"
    }
   ],
   "source": [
    "cancer_pre_comp.shape, cancer_pre_comp_y.shape"
   ]
  },
  {
   "cell_type": "code",
   "execution_count": 645,
   "metadata": {},
   "outputs": [
    {
     "data": {
      "text/plain": [
       "(569, 569)"
      ]
     },
     "execution_count": 645,
     "metadata": {},
     "output_type": "execute_result"
    }
   ],
   "source": [
    "cancer_pre_comp_mahala = np.dot(np.dot((cancer_pre_comp - cancer_pre_comp.mean()),scipy.linalg.inv(cancer_pre_comp.cov())),\n",
    "                                (cancer_pre_comp - cancer_pre_comp.mean()).T)\n",
    "\n",
    "cancer_pre_comp_mahala = np.square(pd.DataFrame(cancer_pre_comp_mahala))\n",
    "cancer_pre_comp_mahala.shape"
   ]
  },
  {
   "cell_type": "code",
   "execution_count": 577,
   "metadata": {},
   "outputs": [
    {
     "data": {
      "text/html": [
       "<div>\n",
       "<style scoped>\n",
       "    .dataframe tbody tr th:only-of-type {\n",
       "        vertical-align: middle;\n",
       "    }\n",
       "\n",
       "    .dataframe tbody tr th {\n",
       "        vertical-align: top;\n",
       "    }\n",
       "\n",
       "    .dataframe thead th {\n",
       "        text-align: right;\n",
       "    }\n",
       "</style>\n",
       "<table border=\"1\" class=\"dataframe\">\n",
       "  <thead>\n",
       "    <tr style=\"text-align: right;\">\n",
       "      <th></th>\n",
       "      <th>0</th>\n",
       "      <th>1</th>\n",
       "      <th>2</th>\n",
       "      <th>3</th>\n",
       "      <th>4</th>\n",
       "      <th>5</th>\n",
       "      <th>6</th>\n",
       "      <th>7</th>\n",
       "      <th>8</th>\n",
       "      <th>9</th>\n",
       "      <th>...</th>\n",
       "      <th>559</th>\n",
       "      <th>560</th>\n",
       "      <th>561</th>\n",
       "      <th>562</th>\n",
       "      <th>563</th>\n",
       "      <th>564</th>\n",
       "      <th>565</th>\n",
       "      <th>566</th>\n",
       "      <th>567</th>\n",
       "      <th>568</th>\n",
       "    </tr>\n",
       "  </thead>\n",
       "  <tbody>\n",
       "    <tr>\n",
       "      <th>0</th>\n",
       "      <td>8546.335317</td>\n",
       "      <td>217.013675</td>\n",
       "      <td>44.919530</td>\n",
       "      <td>221.166696</td>\n",
       "      <td>38.085944</td>\n",
       "      <td>78.517852</td>\n",
       "      <td>1.480728</td>\n",
       "      <td>0.001700</td>\n",
       "      <td>56.781209</td>\n",
       "      <td>294.259693</td>\n",
       "      <td>...</td>\n",
       "      <td>29.117099</td>\n",
       "      <td>124.330720</td>\n",
       "      <td>17.073991</td>\n",
       "      <td>3.005635</td>\n",
       "      <td>227.759297</td>\n",
       "      <td>155.022400</td>\n",
       "      <td>53.660826</td>\n",
       "      <td>209.751168</td>\n",
       "      <td>500.498869</td>\n",
       "      <td>62.169825</td>\n",
       "    </tr>\n",
       "    <tr>\n",
       "      <th>1</th>\n",
       "      <td>217.013675</td>\n",
       "      <td>1320.319427</td>\n",
       "      <td>13.357036</td>\n",
       "      <td>30.453245</td>\n",
       "      <td>27.211435</td>\n",
       "      <td>44.175538</td>\n",
       "      <td>144.354281</td>\n",
       "      <td>117.855969</td>\n",
       "      <td>143.087941</td>\n",
       "      <td>19.378655</td>\n",
       "      <td>...</td>\n",
       "      <td>81.923149</td>\n",
       "      <td>2.480059</td>\n",
       "      <td>76.044445</td>\n",
       "      <td>275.310078</td>\n",
       "      <td>2.859145</td>\n",
       "      <td>46.867769</td>\n",
       "      <td>4.692703</td>\n",
       "      <td>1.661354</td>\n",
       "      <td>253.960333</td>\n",
       "      <td>73.731489</td>\n",
       "    </tr>\n",
       "    <tr>\n",
       "      <th>2</th>\n",
       "      <td>44.919530</td>\n",
       "      <td>13.357036</td>\n",
       "      <td>555.204880</td>\n",
       "      <td>340.240745</td>\n",
       "      <td>8.547820</td>\n",
       "      <td>17.050733</td>\n",
       "      <td>17.587972</td>\n",
       "      <td>0.760843</td>\n",
       "      <td>105.741951</td>\n",
       "      <td>23.333257</td>\n",
       "      <td>...</td>\n",
       "      <td>39.740936</td>\n",
       "      <td>3.217149</td>\n",
       "      <td>20.497976</td>\n",
       "      <td>53.366196</td>\n",
       "      <td>33.927606</td>\n",
       "      <td>324.595525</td>\n",
       "      <td>11.018575</td>\n",
       "      <td>2.903173</td>\n",
       "      <td>0.025573</td>\n",
       "      <td>0.465489</td>\n",
       "    </tr>\n",
       "    <tr>\n",
       "      <th>3</th>\n",
       "      <td>221.166696</td>\n",
       "      <td>30.453245</td>\n",
       "      <td>340.240745</td>\n",
       "      <td>12586.119449</td>\n",
       "      <td>347.417854</td>\n",
       "      <td>370.360081</td>\n",
       "      <td>32.206953</td>\n",
       "      <td>162.945973</td>\n",
       "      <td>296.481382</td>\n",
       "      <td>311.063107</td>\n",
       "      <td>...</td>\n",
       "      <td>69.812071</td>\n",
       "      <td>7.157341</td>\n",
       "      <td>0.073780</td>\n",
       "      <td>317.955698</td>\n",
       "      <td>76.504651</td>\n",
       "      <td>12.054075</td>\n",
       "      <td>10.398115</td>\n",
       "      <td>114.662743</td>\n",
       "      <td>375.978392</td>\n",
       "      <td>18.100875</td>\n",
       "    </tr>\n",
       "    <tr>\n",
       "      <th>4</th>\n",
       "      <td>38.085944</td>\n",
       "      <td>27.211435</td>\n",
       "      <td>8.547820</td>\n",
       "      <td>347.417854</td>\n",
       "      <td>717.905001</td>\n",
       "      <td>3.477353</td>\n",
       "      <td>9.061761</td>\n",
       "      <td>1.978279</td>\n",
       "      <td>65.744538</td>\n",
       "      <td>0.227664</td>\n",
       "      <td>...</td>\n",
       "      <td>31.012196</td>\n",
       "      <td>12.607838</td>\n",
       "      <td>110.235593</td>\n",
       "      <td>38.506831</td>\n",
       "      <td>193.734088</td>\n",
       "      <td>97.526327</td>\n",
       "      <td>14.566005</td>\n",
       "      <td>6.908617</td>\n",
       "      <td>1.764818</td>\n",
       "      <td>11.744336</td>\n",
       "    </tr>\n",
       "  </tbody>\n",
       "</table>\n",
       "<p>5 rows × 569 columns</p>\n",
       "</div>"
      ],
      "text/plain": [
       "           0            1           2             3           4           5    \\\n",
       "0  8546.335317   217.013675   44.919530    221.166696   38.085944   78.517852   \n",
       "1   217.013675  1320.319427   13.357036     30.453245   27.211435   44.175538   \n",
       "2    44.919530    13.357036  555.204880    340.240745    8.547820   17.050733   \n",
       "3   221.166696    30.453245  340.240745  12586.119449  347.417854  370.360081   \n",
       "4    38.085944    27.211435    8.547820    347.417854  717.905001    3.477353   \n",
       "\n",
       "          6           7           8           9    ...        559         560  \\\n",
       "0    1.480728    0.001700   56.781209  294.259693  ...  29.117099  124.330720   \n",
       "1  144.354281  117.855969  143.087941   19.378655  ...  81.923149    2.480059   \n",
       "2   17.587972    0.760843  105.741951   23.333257  ...  39.740936    3.217149   \n",
       "3   32.206953  162.945973  296.481382  311.063107  ...  69.812071    7.157341   \n",
       "4    9.061761    1.978279   65.744538    0.227664  ...  31.012196   12.607838   \n",
       "\n",
       "          561         562         563         564        565         566  \\\n",
       "0   17.073991    3.005635  227.759297  155.022400  53.660826  209.751168   \n",
       "1   76.044445  275.310078    2.859145   46.867769   4.692703    1.661354   \n",
       "2   20.497976   53.366196   33.927606  324.595525  11.018575    2.903173   \n",
       "3    0.073780  317.955698   76.504651   12.054075  10.398115  114.662743   \n",
       "4  110.235593   38.506831  193.734088   97.526327  14.566005    6.908617   \n",
       "\n",
       "          567        568  \n",
       "0  500.498869  62.169825  \n",
       "1  253.960333  73.731489  \n",
       "2    0.025573   0.465489  \n",
       "3  375.978392  18.100875  \n",
       "4    1.764818  11.744336  \n",
       "\n",
       "[5 rows x 569 columns]"
      ]
     },
     "execution_count": 577,
     "metadata": {},
     "output_type": "execute_result"
    }
   ],
   "source": [
    "cancer_pre_comp_mahala.head()"
   ]
  },
  {
   "cell_type": "code",
   "execution_count": 674,
   "metadata": {},
   "outputs": [],
   "source": [
    "knc = KNeighborsClassifier(n_neighbors=9,weights='distance',algorithm='brute',metric='precomputed')"
   ]
  },
  {
   "cell_type": "code",
   "execution_count": 675,
   "metadata": {},
   "outputs": [
    {
     "data": {
      "text/plain": [
       "KNeighborsClassifier(algorithm='brute', metric='precomputed', n_neighbors=9,\n",
       "                     weights='distance')"
      ]
     },
     "execution_count": 675,
     "metadata": {},
     "output_type": "execute_result"
    }
   ],
   "source": [
    "knc.fit(cancer_pre_comp_mahala,cancer_pre_comp_y)"
   ]
  },
  {
   "cell_type": "code",
   "execution_count": 676,
   "metadata": {},
   "outputs": [],
   "source": [
    "dists, indxs = knc.kneighbors(cancer_pre_comp_mahala,n_neighbors=9)"
   ]
  },
  {
   "cell_type": "code",
   "execution_count": 677,
   "metadata": {},
   "outputs": [
    {
     "data": {
      "text/plain": [
       "(array([2.79474991e-05, 1.65500188e-04, 2.62864771e-04, 5.28682818e-04,\n",
       "        5.34360407e-04, 5.62853142e-04, 6.25889956e-04, 1.91934304e-03,\n",
       "        2.30086972e-03]),\n",
       " array([173, 271, 144, 334, 331,  28, 475, 359, 153], dtype=int64))"
      ]
     },
     "execution_count": 677,
     "metadata": {},
     "output_type": "execute_result"
    }
   ],
   "source": [
    "dists[34], indxs[34]"
   ]
  },
  {
   "cell_type": "code",
   "execution_count": 678,
   "metadata": {},
   "outputs": [
    {
     "data": {
      "text/plain": [
       "(2.7947499113078438e-05,\n",
       " 0.00016550018833273196,\n",
       " 0.0002628647705171907,\n",
       " 0.0005286828181794098,\n",
       " 0.0005343604065472748,\n",
       " 0.0005628531423005402,\n",
       " 0.0006258899556841858)"
      ]
     },
     "execution_count": 678,
     "metadata": {},
     "output_type": "execute_result"
    }
   ],
   "source": [
    "cancer_pre_comp_mahala.iloc[34,173],cancer_pre_comp_mahala.iloc[34,271],cancer_pre_comp_mahala.iloc[34,144],cancer_pre_comp_mahala.iloc[34,334],\\\n",
    "cancer_pre_comp_mahala.iloc[34,331],cancer_pre_comp_mahala.iloc[34,28],cancer_pre_comp_mahala.iloc[34,475]"
   ]
  },
  {
   "cell_type": "code",
   "execution_count": 679,
   "metadata": {},
   "outputs": [
    {
     "name": "stdout",
     "output_type": "stream",
     "text": [
      "[1, 1, 1, 1, 1, 0, 1, 1, 1]\n",
      "Prediction is :: Cancerous\n"
     ]
    }
   ],
   "source": [
    "cnts = []\n",
    "for idx in indxs[34]:\n",
    "    cnts.append(cancer_pre_comp_y[idx])\n",
    "\n",
    "print(cnts)\n",
    "if cnts.count(0) > cnts.count(1):\n",
    "    print(\"Prediction is :: Non Cancerous\")\n",
    "else:\n",
    "    print(\"Prediction is :: Cancerous\")"
   ]
  },
  {
   "cell_type": "code",
   "execution_count": 680,
   "metadata": {},
   "outputs": [
    {
     "data": {
      "text/plain": [
       "array([1])"
      ]
     },
     "execution_count": 680,
     "metadata": {},
     "output_type": "execute_result"
    }
   ],
   "source": [
    "knc.predict(np.array(cancer_pre_comp_mahala.iloc[34,:]).reshape(1,-1))"
   ]
  },
  {
   "cell_type": "code",
   "execution_count": 681,
   "metadata": {},
   "outputs": [
    {
     "data": {
      "text/plain": [
       "array([[0.03307214, 0.96692786]])"
      ]
     },
     "execution_count": 681,
     "metadata": {},
     "output_type": "execute_result"
    }
   ],
   "source": [
    "knc.predict_proba(np.array(cancer_pre_comp_mahala.iloc[34,:]).reshape(1,-1))"
   ]
  },
  {
   "cell_type": "markdown",
   "metadata": {},
   "source": [
    "#### **When we are using the precomputed distance matrix then 'predict' and 'predict_proba' function accepts test data input in the shape of (number of test observations, number of train data observations). For example, if we are trying ot test only 1 new unseen observation and used 569 training observations then the expected shape is (1,569).**"
   ]
  },
  {
   "cell_type": "markdown",
   "metadata": {},
   "source": [
    "### **Conclusion**\n",
    "\n",
    "1. **We can use Radius or Fixed Neighbors when we want to give weightage only to the nearby points within fixed distance.**\n",
    "2. **We can use Radius or Fixed Neighbors to find the outliers if we are sure that points outside of a particular radius are outliers. This can give better results with data of high sparcity.**\n",
    "3. **With Radius NN the features needs to be normalized. And, we can calculate the distances and indices of NN using `Nearest_neighbors` function.**\n",
    "4. **The time and space complexity looks to be same for both Radius NN and KNN, its just that we can get better results using Radius NN if we want to find the neighbors only in close proximity.**\n",
    "5. **If we are using `metric == 'precomputed'` then in sklearn only `'brute'` algorithm is supported otherwise select `'auto'`. Make sure the shape of test set would be (n_test , n_train).**\n",
    "6. **With KNN we can compute the NN distances and their indices using `kneighbors` function.**"
   ]
  }
 ],
 "metadata": {
  "kernelspec": {
   "display_name": "Python 3",
   "language": "python",
   "name": "python3"
  },
  "language_info": {
   "codemirror_mode": {
    "name": "ipython",
    "version": 3
   },
   "file_extension": ".py",
   "mimetype": "text/x-python",
   "name": "python",
   "nbconvert_exporter": "python",
   "pygments_lexer": "ipython3",
   "version": "3.6.8"
  }
 },
 "nbformat": 4,
 "nbformat_minor": 4
}
