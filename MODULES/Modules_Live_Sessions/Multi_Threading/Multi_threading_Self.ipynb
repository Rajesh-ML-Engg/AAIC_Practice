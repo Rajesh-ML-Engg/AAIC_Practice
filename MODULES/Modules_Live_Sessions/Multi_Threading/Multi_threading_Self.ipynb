{
 "cells": [
  {
   "cell_type": "code",
   "execution_count": 1,
   "metadata": {},
   "outputs": [
    {
     "name": "stdout",
     "output_type": "stream",
     "text": [
      "\n",
      "Host Name:                 DESKTOP-QEB4LQ1\n",
      "OS Name:                   Microsoft Windows 10 Pro\n",
      "OS Version:                10.0.18363 N/A Build 18363\n",
      "OS Manufacturer:           Microsoft Corporation\n",
      "OS Configuration:          Standalone Workstation\n",
      "OS Build Type:             Multiprocessor Free\n",
      "Registered Owner:          raj.shr2609@gmail.com\n",
      "Registered Organization:   \n",
      "Product ID:                00330-80000-00000-AA366\n",
      "Original Install Date:     25-09-2020, 21:29:08\n",
      "System Boot Time:          13-02-2021, 20:32:45\n",
      "System Manufacturer:       ASUSTeK COMPUTER INC.\n",
      "System Model:              K56CA\n",
      "System Type:               x64-based PC\n",
      "Processor(s):              1 Processor(s) Installed.\n",
      "                           [01]: Intel64 Family 6 Model 58 Stepping 9 GenuineIntel ~1701 Mhz\n",
      "BIOS Version:              American Megatrends Inc. K56CA.202, 02-07-2012\n",
      "Windows Directory:         C:\\Windows\n",
      "System Directory:          C:\\Windows\\system32\n",
      "Boot Device:               \\Device\\HarddiskVolume1\n",
      "System Locale:             en-us;English (United States)\n",
      "Input Locale:              00004009\n",
      "Time Zone:                 (UTC+05:30) Chennai, Kolkata, Mumbai, New Delhi\n",
      "Total Physical Memory:     7,886 MB\n",
      "Available Physical Memory: 446 MB\n",
      "Virtual Memory: Max Size:  13,006 MB\n",
      "Virtual Memory: Available: 3,546 MB\n",
      "Virtual Memory: In Use:    9,460 MB\n",
      "Page File Location(s):     C:\\pagefile.sys\n",
      "Domain:                    WORKGROUP\n",
      "Logon Server:              \\\\DESKTOP-QEB4LQ1\n",
      "Hotfix(s):                 15 Hotfix(s) Installed.\n",
      "                           [01]: KB4601056\n",
      "                           [02]: KB4513661\n",
      "                           [03]: KB4516115\n",
      "                           [04]: KB4517245\n",
      "                           [05]: KB4528759\n",
      "                           [06]: KB4535680\n",
      "                           [07]: KB4561600\n",
      "                           [08]: KB4576751\n",
      "                           [09]: KB4576754\n",
      "                           [10]: KB4577670\n",
      "                           [11]: KB4580325\n",
      "                           [12]: KB4586863\n",
      "                           [13]: KB4598479\n",
      "                           [14]: KB4601395\n",
      "                           [15]: KB5001028\n",
      "Network Card(s):           5 NIC(s) Installed.\n",
      "                           [01]: Qualcomm Atheros AR9485WB-EG Wireless Network Adapter\n",
      "                                 Connection Name: Wi-Fi\n",
      "                                 Status:          Media disconnected\n",
      "                           [02]: Realtek PCIe GbE Family Controller\n",
      "                                 Connection Name: Ethernet\n",
      "                                 Status:          Media disconnected\n",
      "                           [03]: Kaspersky Security Data Escort Adapter\n",
      "                                 Connection Name: Ethernet 2\n",
      "                                 Status:          Media disconnected\n",
      "                           [04]: Realtek RTL8192EU Wireless LAN 802.11n USB 2.0 Network Adapter\n",
      "                                 Connection Name: Wi-Fi 2\n",
      "                                 DHCP Enabled:    Yes\n",
      "                                 DHCP Server:     192.168.0.1\n",
      "                                 IP address(es)\n",
      "                                 [01]: 192.168.0.104\n",
      "                                 [02]: fe80::e5ed:3377:bc0f:d69b\n",
      "                           [05]: Hyper-V Virtual Ethernet Adapter\n",
      "                                 Connection Name: vEthernet (Default Switch)\n",
      "                                 DHCP Enabled:    No\n",
      "                                 IP address(es)\n",
      "                                 [01]: 192.168.146.17\n",
      "                                 [02]: fe80::e13b:d9b6:b67f:5b96\n",
      "Hyper-V Requirements:      A hypervisor has been detected. Features required for Hyper-V will not be displayed.\n"
     ]
    }
   ],
   "source": [
    "!systeminfo"
   ]
  },
  {
   "cell_type": "code",
   "execution_count": 12,
   "metadata": {},
   "outputs": [],
   "source": [
    "import pandas as pd"
   ]
  },
  {
   "cell_type": "code",
   "execution_count": 80,
   "metadata": {},
   "outputs": [
    {
     "name": "stdout",
     "output_type": "stream",
     "text": [
      "Name                                      NumberOfCores  NumberOfEnabledCore  NumberOfLogicalProcessors  OtherFamilyDescription  ProcessorId       ProcessorType  \n",
      "\n",
      "Intel(R) Core(TM) i5-3317U CPU @ 1.70GHz  2              2                    4                                                  BFEBFBFF000306A9  3              \n",
      "\n",
      "\n",
      "\n"
     ]
    }
   ],
   "source": [
    "!WMIC CPU Get Name, NumberOfCores, NumberOfEnabledCore, NumberOfLogicalProcessors, OtherFamilyDescription, ProcessorId, ProcessorType"
   ]
  }
 ],
 "metadata": {
  "kernelspec": {
   "display_name": "Python 3",
   "language": "python",
   "name": "python3"
  },
  "language_info": {
   "codemirror_mode": {
    "name": "ipython",
    "version": 3
   },
   "file_extension": ".py",
   "mimetype": "text/x-python",
   "name": "python",
   "nbconvert_exporter": "python",
   "pygments_lexer": "ipython3",
   "version": "3.6.8"
  }
 },
 "nbformat": 4,
 "nbformat_minor": 4
}
