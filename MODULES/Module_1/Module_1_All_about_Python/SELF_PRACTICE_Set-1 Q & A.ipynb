{
 "cells": [
  {
   "cell_type": "markdown",
   "metadata": {},
   "source": [
    "## **``SET-1 Questions and Answers``**"
   ]
  },
  {
   "cell_type": "markdown",
   "metadata": {},
   "source": [
    "#### **1. Print the odd and even numbers from 1 to 20 in a single for loop with a tag of odd and even.**"
   ]
  },
  {
   "cell_type": "code",
   "execution_count": 1,
   "metadata": {},
   "outputs": [],
   "source": [
    "nums = [num for num in range(1,21)]"
   ]
  },
  {
   "cell_type": "code",
   "execution_count": 2,
   "metadata": {},
   "outputs": [
    {
     "data": {
      "text/plain": [
       "[1, 2, 3, 4, 5, 6, 7, 8, 9, 10, 11, 12, 13, 14, 15, 16, 17, 18, 19, 20]"
      ]
     },
     "execution_count": 2,
     "metadata": {},
     "output_type": "execute_result"
    }
   ],
   "source": [
    "nums"
   ]
  },
  {
   "cell_type": "code",
   "execution_count": 3,
   "metadata": {},
   "outputs": [
    {
     "name": "stdout",
     "output_type": "stream",
     "text": [
      "Odd number :: 1\n",
      "Even number :: 2\n",
      "Odd number :: 3\n",
      "Even number :: 4\n",
      "Odd number :: 5\n",
      "Even number :: 6\n",
      "Odd number :: 7\n",
      "Even number :: 8\n",
      "Odd number :: 9\n",
      "Even number :: 10\n",
      "Odd number :: 11\n",
      "Even number :: 12\n",
      "Odd number :: 13\n",
      "Even number :: 14\n",
      "Odd number :: 15\n",
      "Even number :: 16\n",
      "Odd number :: 17\n",
      "Even number :: 18\n",
      "Odd number :: 19\n",
      "Even number :: 20\n"
     ]
    }
   ],
   "source": [
    "for num in nums:\n",
    "    if num % 2 == 0:\n",
    "        print(\"Even number :: {}\".format(num))\n",
    "        continue\n",
    "    print(\"Odd number :: {}\".format(num))"
   ]
  },
  {
   "cell_type": "markdown",
   "metadata": {},
   "source": [
    "#### **2. Print the odd and even numbers from 1 to 20 via LIST COMPREHENSION.**"
   ]
  },
  {
   "cell_type": "code",
   "execution_count": 4,
   "metadata": {},
   "outputs": [],
   "source": [
    "even_nums = [num for num in range(1,21) if num%2 == 0]\n",
    "\n",
    "odd_nums = [num for num in range(1,21) if num%2 != 0]"
   ]
  },
  {
   "cell_type": "code",
   "execution_count": 5,
   "metadata": {},
   "outputs": [
    {
     "data": {
      "text/plain": [
       "([2, 4, 6, 8, 10, 12, 14, 16, 18, 20], [1, 3, 5, 7, 9, 11, 13, 15, 17, 19])"
      ]
     },
     "execution_count": 5,
     "metadata": {},
     "output_type": "execute_result"
    }
   ],
   "source": [
    "even_nums, odd_nums"
   ]
  },
  {
   "cell_type": "markdown",
   "metadata": {},
   "source": [
    "#### **3. Print the multiple of 4 till 40 along with multiple of 2 via LIST COMPREHENSION.**"
   ]
  },
  {
   "cell_type": "code",
   "execution_count": 6,
   "metadata": {},
   "outputs": [
    {
     "data": {
      "text/plain": [
       "[\"4's muls: 4 |||| 2's muls: 2\",\n",
       " \"4's muls: 8 |||| 2's muls: 4\",\n",
       " \"4's muls: 12 |||| 2's muls: 6\",\n",
       " \"4's muls: 16 |||| 2's muls: 8\",\n",
       " \"4's muls: 20 |||| 2's muls: 10\",\n",
       " \"4's muls: 24 |||| 2's muls: 12\",\n",
       " \"4's muls: 28 |||| 2's muls: 14\",\n",
       " \"4's muls: 32 |||| 2's muls: 16\",\n",
       " \"4's muls: 36 |||| 2's muls: 18\",\n",
       " \"4's muls: 40 |||| 2's muls: 20\"]"
      ]
     },
     "execution_count": 6,
     "metadata": {},
     "output_type": "execute_result"
    }
   ],
   "source": [
    "[(\"4's muls: {} |||| 2's muls: {}\".format(num,int(num/2))) for num in range(4,41) if num%4 == 0]"
   ]
  },
  {
   "cell_type": "markdown",
   "metadata": {},
   "source": [
    "#### **4. Print the numbers which are multiples of 4 from range 4 to 40 and which gives quotient greater than 10 after dividing 50 by the number.**"
   ]
  },
  {
   "cell_type": "code",
   "execution_count": 7,
   "metadata": {},
   "outputs": [
    {
     "data": {
      "text/plain": [
       "[4, 8, 12, 16]"
      ]
     },
     "execution_count": 7,
     "metadata": {},
     "output_type": "execute_result"
    }
   ],
   "source": [
    "[num for num in range(4,41) if num%4 == 0 if 50//num > 2]"
   ]
  },
  {
   "cell_type": "code",
   "execution_count": 8,
   "metadata": {},
   "outputs": [
    {
     "data": {
      "text/plain": [
       "12"
      ]
     },
     "execution_count": 8,
     "metadata": {},
     "output_type": "execute_result"
    }
   ],
   "source": [
    "50//4         # --> Floor division"
   ]
  },
  {
   "cell_type": "markdown",
   "metadata": {},
   "source": [
    "#### **5. Edit the tuple via LIST and STARRED Expression.**"
   ]
  },
  {
   "cell_type": "code",
   "execution_count": 9,
   "metadata": {},
   "outputs": [],
   "source": [
    "tup1 = (2,3,4,5,6)"
   ]
  },
  {
   "cell_type": "code",
   "execution_count": 10,
   "metadata": {},
   "outputs": [
    {
     "data": {
      "text/plain": [
       "(2, 3, 4, 5, 6)"
      ]
     },
     "execution_count": 10,
     "metadata": {},
     "output_type": "execute_result"
    }
   ],
   "source": [
    "tup1"
   ]
  },
  {
   "cell_type": "code",
   "execution_count": 11,
   "metadata": {},
   "outputs": [
    {
     "data": {
      "text/plain": [
       "3"
      ]
     },
     "execution_count": 11,
     "metadata": {},
     "output_type": "execute_result"
    }
   ],
   "source": [
    "tup1[1]"
   ]
  },
  {
   "cell_type": "code",
   "execution_count": 12,
   "metadata": {},
   "outputs": [
    {
     "data": {
      "text/plain": [
       "(5, 6)"
      ]
     },
     "execution_count": 12,
     "metadata": {},
     "output_type": "execute_result"
    }
   ],
   "source": [
    "tup1[3:]"
   ]
  },
  {
   "cell_type": "code",
   "execution_count": 13,
   "metadata": {},
   "outputs": [
    {
     "ename": "TypeError",
     "evalue": "'tuple' object does not support item assignment",
     "output_type": "error",
     "traceback": [
      "\u001b[1;31m---------------------------------------------------------------------------\u001b[0m",
      "\u001b[1;31mTypeError\u001b[0m                                 Traceback (most recent call last)",
      "\u001b[1;32m<ipython-input-13-e5db0fcff5df>\u001b[0m in \u001b[0;36m<module>\u001b[1;34m\u001b[0m\n\u001b[1;32m----> 1\u001b[1;33m \u001b[0mtup1\u001b[0m\u001b[1;33m[\u001b[0m\u001b[1;36m3\u001b[0m\u001b[1;33m]\u001b[0m \u001b[1;33m=\u001b[0m \u001b[1;36m7\u001b[0m\u001b[1;33m\u001b[0m\u001b[1;33m\u001b[0m\u001b[0m\n\u001b[0m",
      "\u001b[1;31mTypeError\u001b[0m: 'tuple' object does not support item assignment"
     ]
    }
   ],
   "source": [
    "tup1[3] = 7"
   ]
  },
  {
   "cell_type": "markdown",
   "metadata": {},
   "source": [
    "#### **Via LIST**"
   ]
  },
  {
   "cell_type": "code",
   "execution_count": 14,
   "metadata": {},
   "outputs": [],
   "source": [
    "tup1 = list(tup1)"
   ]
  },
  {
   "cell_type": "code",
   "execution_count": 15,
   "metadata": {},
   "outputs": [],
   "source": [
    "tup1[3] = 999"
   ]
  },
  {
   "cell_type": "code",
   "execution_count": 16,
   "metadata": {},
   "outputs": [],
   "source": [
    "tup1 = tuple(tup1)"
   ]
  },
  {
   "cell_type": "code",
   "execution_count": 17,
   "metadata": {},
   "outputs": [
    {
     "data": {
      "text/plain": [
       "(2, 3, 4, 999, 6)"
      ]
     },
     "execution_count": 17,
     "metadata": {},
     "output_type": "execute_result"
    }
   ],
   "source": [
    "tup1"
   ]
  },
  {
   "cell_type": "markdown",
   "metadata": {},
   "source": [
    "#### **Via STARRED Expression**"
   ]
  },
  {
   "cell_type": "code",
   "execution_count": 18,
   "metadata": {},
   "outputs": [
    {
     "data": {
      "text/plain": [
       "(2, 3, 4, 999, 6)"
      ]
     },
     "execution_count": 18,
     "metadata": {},
     "output_type": "execute_result"
    }
   ],
   "source": [
    "(*tup1,)"
   ]
  },
  {
   "cell_type": "code",
   "execution_count": 19,
   "metadata": {},
   "outputs": [],
   "source": [
    "name = \"raman\""
   ]
  },
  {
   "cell_type": "code",
   "execution_count": 20,
   "metadata": {},
   "outputs": [
    {
     "data": {
      "text/plain": [
       "('raman', 2, 3, 4, 999, 6)"
      ]
     },
     "execution_count": 20,
     "metadata": {},
     "output_type": "execute_result"
    }
   ],
   "source": [
    "(name, *tup1)"
   ]
  },
  {
   "cell_type": "code",
   "execution_count": 21,
   "metadata": {},
   "outputs": [
    {
     "data": {
      "text/plain": [
       "(2, 3, 4, 999, 6, 'ramanramanraman')"
      ]
     },
     "execution_count": 21,
     "metadata": {},
     "output_type": "execute_result"
    }
   ],
   "source": [
    "(*tup1, name*3)"
   ]
  },
  {
   "cell_type": "markdown",
   "metadata": {},
   "source": [
    "#### **6. Print Fibonacci Series via FOR Loop, Recursive Function and MAP Function.**"
   ]
  },
  {
   "cell_type": "markdown",
   "metadata": {},
   "source": [
    "##### **CASE-I**"
   ]
  },
  {
   "cell_type": "code",
   "execution_count": 22,
   "metadata": {},
   "outputs": [],
   "source": [
    "nums = range(0,11,1)"
   ]
  },
  {
   "cell_type": "code",
   "execution_count": 23,
   "metadata": {},
   "outputs": [
    {
     "data": {
      "text/plain": [
       "range(0, 11)"
      ]
     },
     "execution_count": 23,
     "metadata": {},
     "output_type": "execute_result"
    }
   ],
   "source": [
    "nums"
   ]
  },
  {
   "cell_type": "code",
   "execution_count": 24,
   "metadata": {},
   "outputs": [
    {
     "name": "stdout",
     "output_type": "stream",
     "text": [
      "0\n",
      "1\n",
      "1\n",
      "2\n",
      "3\n",
      "5\n",
      "8\n",
      "13\n",
      "21\n",
      "34\n",
      "55\n"
     ]
    }
   ],
   "source": [
    "num0 = 0\n",
    "num1 = 1\n",
    "for num in nums:\n",
    "    if num == 0:\n",
    "        print(num)\n",
    "        p_val0 = num\n",
    "    elif num == 1:\n",
    "        print(num1)\n",
    "        p_val1 = num\n",
    "    else:\n",
    "        res = (p_val0 + p_val1)\n",
    "        print(res)\n",
    "        p_val0 = p_val1\n",
    "        p_val1 = res"
   ]
  },
  {
   "cell_type": "markdown",
   "metadata": {},
   "source": [
    "##### **CASE-II**"
   ]
  },
  {
   "cell_type": "code",
   "execution_count": 25,
   "metadata": {},
   "outputs": [],
   "source": [
    "def fibonacci(num):\n",
    "    return 0 if num == 0 else 1 if num == 1 else fibonacci(num-1) + fibonacci(num-2)"
   ]
  },
  {
   "cell_type": "code",
   "execution_count": 26,
   "metadata": {},
   "outputs": [
    {
     "name": "stdout",
     "output_type": "stream",
     "text": [
      "0\n",
      "1\n",
      "1\n",
      "2\n",
      "3\n",
      "5\n",
      "8\n",
      "13\n",
      "21\n",
      "34\n",
      "55\n"
     ]
    }
   ],
   "source": [
    "for num in nums:\n",
    "    print(fibonacci(num))"
   ]
  },
  {
   "cell_type": "markdown",
   "metadata": {},
   "source": [
    "##### **CASE-III**"
   ]
  },
  {
   "cell_type": "code",
   "execution_count": 27,
   "metadata": {},
   "outputs": [
    {
     "data": {
      "text/plain": [
       "[0, 1, 1, 2, 3, 5, 8, 13, 21, 34, 55]"
      ]
     },
     "execution_count": 27,
     "metadata": {},
     "output_type": "execute_result"
    }
   ],
   "source": [
    "list(map(fibonacci,nums))"
   ]
  },
  {
   "cell_type": "markdown",
   "metadata": {},
   "source": [
    "#### **7. Print the Factorial of a number via LAMBDA, Recursive Function and MAP Function.**"
   ]
  },
  {
   "cell_type": "markdown",
   "metadata": {},
   "source": [
    "##### **CASE-I : LAMBDA and REDUCE**"
   ]
  },
  {
   "cell_type": "code",
   "execution_count": 28,
   "metadata": {},
   "outputs": [],
   "source": [
    "from functools import reduce"
   ]
  },
  {
   "cell_type": "code",
   "execution_count": 29,
   "metadata": {},
   "outputs": [],
   "source": [
    "num = 6"
   ]
  },
  {
   "cell_type": "code",
   "execution_count": 30,
   "metadata": {},
   "outputs": [
    {
     "data": {
      "text/plain": [
       "720"
      ]
     },
     "execution_count": 30,
     "metadata": {},
     "output_type": "execute_result"
    }
   ],
   "source": [
    "reduce(lambda x , y : x*y, [i+1 for i in range(num)])"
   ]
  },
  {
   "cell_type": "markdown",
   "metadata": {},
   "source": [
    "##### **CASE-II : RECURSIVE**"
   ]
  },
  {
   "cell_type": "code",
   "execution_count": 31,
   "metadata": {},
   "outputs": [],
   "source": [
    "def factorial(num):\n",
    "    return 1 if num <=1 else num * factorial(num-1)"
   ]
  },
  {
   "cell_type": "code",
   "execution_count": 32,
   "metadata": {},
   "outputs": [
    {
     "name": "stdout",
     "output_type": "stream",
     "text": [
      "720\n"
     ]
    }
   ],
   "source": [
    "print(factorial(num))"
   ]
  },
  {
   "cell_type": "markdown",
   "metadata": {},
   "source": [
    "##### **CASE-III : MAP Function**"
   ]
  },
  {
   "cell_type": "code",
   "execution_count": 33,
   "metadata": {},
   "outputs": [],
   "source": [
    "nums_lst = [5,6,7,8]"
   ]
  },
  {
   "cell_type": "code",
   "execution_count": 34,
   "metadata": {},
   "outputs": [],
   "source": [
    "facts = list(map(factorial,nums_lst))"
   ]
  },
  {
   "cell_type": "code",
   "execution_count": 35,
   "metadata": {},
   "outputs": [
    {
     "data": {
      "text/plain": [
       "['Number is 5 and Factorial is 120',\n",
       " 'Number is 6 and Factorial is 720',\n",
       " 'Number is 7 and Factorial is 5040',\n",
       " 'Number is 8 and Factorial is 40320']"
      ]
     },
     "execution_count": 35,
     "metadata": {},
     "output_type": "execute_result"
    }
   ],
   "source": [
    "[\"Number is {} and Factorial is {}\".format(nums_lst[i], facts[i]) for i in range(len(nums_lst))]"
   ]
  },
  {
   "cell_type": "markdown",
   "metadata": {},
   "source": [
    "#### **8. Print one First name with multiple last names using ARBITARY Function or STARRED Expression.**"
   ]
  },
  {
   "cell_type": "markdown",
   "metadata": {},
   "source": [
    "##### **ARBITARY Function**"
   ]
  },
  {
   "cell_type": "code",
   "execution_count": 36,
   "metadata": {},
   "outputs": [],
   "source": [
    "def display_full_name(*last_names):\n",
    "    for l_name in last_names:\n",
    "        print(\"First name is Rajesh and Last Name is {}\".format(l_name))"
   ]
  },
  {
   "cell_type": "code",
   "execution_count": 37,
   "metadata": {},
   "outputs": [
    {
     "name": "stdout",
     "output_type": "stream",
     "text": [
      "First name is Rajesh and Last Name is sehwag\n",
      "First name is Rajesh and Last Name is dhoni\n",
      "First name is Rajesh and Last Name is dravid\n"
     ]
    }
   ],
   "source": [
    "display_full_name('sehwag','dhoni','dravid')"
   ]
  },
  {
   "cell_type": "markdown",
   "metadata": {},
   "source": [
    "##### **FOR LOOP**"
   ]
  },
  {
   "cell_type": "code",
   "execution_count": 38,
   "metadata": {},
   "outputs": [
    {
     "name": "stdout",
     "output_type": "stream",
     "text": [
      "rajesh sharma\n",
      "rajesh dhoni\n",
      "rajesh gangully\n"
     ]
    }
   ],
   "source": [
    "for name in ('sharma','dhoni','gangully'):\n",
    "    print(\"{} {}\".format('rajesh',name))"
   ]
  },
  {
   "cell_type": "markdown",
   "metadata": {},
   "source": [
    "##### **MAP and LAMBDA**"
   ]
  },
  {
   "cell_type": "code",
   "execution_count": 39,
   "metadata": {},
   "outputs": [
    {
     "data": {
      "text/plain": [
       "['rajesh sharma', 'rajesh dhoni', 'rajesh gangully']"
      ]
     },
     "execution_count": 39,
     "metadata": {},
     "output_type": "execute_result"
    }
   ],
   "source": [
    "list(map(lambda x: 'rajesh ' + str(x),('sharma','dhoni','gangully')))"
   ]
  },
  {
   "cell_type": "markdown",
   "metadata": {},
   "source": [
    "##### **STARRED Expression**"
   ]
  },
  {
   "cell_type": "code",
   "execution_count": 40,
   "metadata": {},
   "outputs": [
    {
     "data": {
      "text/plain": [
       "('rajesh', 'sharma', 'verma', 'churma')"
      ]
     },
     "execution_count": 40,
     "metadata": {},
     "output_type": "execute_result"
    }
   ],
   "source": [
    "'rajesh', *('sharma','verma','churma')"
   ]
  },
  {
   "cell_type": "markdown",
   "metadata": {},
   "source": [
    "#### **9. Print different names using KEYWORD Arguments.**"
   ]
  },
  {
   "cell_type": "code",
   "execution_count": 41,
   "metadata": {},
   "outputs": [],
   "source": [
    "def display_names(**kwargs):\n",
    "    for i in range(len(kwargs['f_name'])):\n",
    "        print(kwargs['f_name'][i], kwargs['m_name'][i], kwargs['l_name'][i])"
   ]
  },
  {
   "cell_type": "code",
   "execution_count": 42,
   "metadata": {},
   "outputs": [
    {
     "name": "stdout",
     "output_type": "stream",
     "text": [
      "raj kumar sharma\n"
     ]
    }
   ],
   "source": [
    "display_names(f_name=['raj'],m_name=['kumar'],l_name=['sharma'])"
   ]
  },
  {
   "cell_type": "code",
   "execution_count": 43,
   "metadata": {},
   "outputs": [
    {
     "name": "stdout",
     "output_type": "stream",
     "text": [
      "raj kumar sharma\n",
      "aro chumed chumda\n"
     ]
    }
   ],
   "source": [
    "display_names(f_name=['raj','aro'],m_name=['kumar','chumed'],l_name=['sharma','chumda'])"
   ]
  },
  {
   "cell_type": "markdown",
   "metadata": {},
   "source": [
    "#### **10. Print the HCF using FOR Loop and LIST COMPREHENSION.**"
   ]
  },
  {
   "cell_type": "markdown",
   "metadata": {},
   "source": [
    "##### **CASE-I**"
   ]
  },
  {
   "cell_type": "code",
   "execution_count": 44,
   "metadata": {},
   "outputs": [],
   "source": [
    "num1, num2 = 10, 20"
   ]
  },
  {
   "cell_type": "code",
   "execution_count": 45,
   "metadata": {},
   "outputs": [
    {
     "name": "stdout",
     "output_type": "stream",
     "text": [
      "HCF of 10 and 20 is 10\n"
     ]
    }
   ],
   "source": [
    "if num1 < num2:\n",
    "    smaller = num1\n",
    "else:\n",
    "    smaller = num2\n",
    "\n",
    "hcf = []\n",
    "for i in range(1,smaller+1):\n",
    "    if num1%i==0 & num2%i==0:\n",
    "        hcf.append(i)\n",
    "\n",
    "print(\"HCF of {} and {} is {}\".format(num1,num2,hcf[-1]))"
   ]
  },
  {
   "cell_type": "code",
   "execution_count": 46,
   "metadata": {},
   "outputs": [
    {
     "data": {
      "text/plain": [
       "[1, 2, 5, 10]"
      ]
     },
     "execution_count": 46,
     "metadata": {},
     "output_type": "execute_result"
    }
   ],
   "source": [
    "hcf"
   ]
  },
  {
   "cell_type": "markdown",
   "metadata": {},
   "source": [
    "##### **LIST COMPREHENSION**"
   ]
  },
  {
   "cell_type": "code",
   "execution_count": 47,
   "metadata": {},
   "outputs": [
    {
     "name": "stdout",
     "output_type": "stream",
     "text": [
      "HCF of 10 and 20 is 10\n",
      "LCM of 10 and 20 is 2\n"
     ]
    }
   ],
   "source": [
    "hcf_lc = []\n",
    "[hcf_lc.append(i) if num1%i==0 & num2%i==0 else 0 for i in range(1,min(num1,num2)+1)]\n",
    "print(\"HCF of {} and {} is {}\".format(num1,num2,hcf_lc[-1]))\n",
    "print(\"LCM of {} and {} is {}\".format(num1,num2,hcf_lc[1]))"
   ]
  },
  {
   "cell_type": "code",
   "execution_count": 48,
   "metadata": {},
   "outputs": [
    {
     "data": {
      "text/plain": [
       "[1, 2, 5, 10]"
      ]
     },
     "execution_count": 48,
     "metadata": {},
     "output_type": "execute_result"
    }
   ],
   "source": [
    "hcf_lc"
   ]
  },
  {
   "cell_type": "markdown",
   "metadata": {},
   "source": [
    "#### **10.How to transpose a MATRIX using LISTS**"
   ]
  },
  {
   "cell_type": "code",
   "execution_count": 49,
   "metadata": {},
   "outputs": [],
   "source": [
    "matrix = [\n",
    "    [1,2,3,4],\n",
    "    [5,6,7,8],\n",
    "    [9,10,11,12]\n",
    "]"
   ]
  },
  {
   "cell_type": "markdown",
   "metadata": {},
   "source": [
    "##### **CASE-I: Using WHILE Loop**"
   ]
  },
  {
   "cell_type": "code",
   "execution_count": 50,
   "metadata": {},
   "outputs": [
    {
     "name": "stdout",
     "output_type": "stream",
     "text": [
      "1 0\n",
      "5 1\n",
      "9 2\n",
      "2 0\n",
      "6 1\n",
      "10 2\n",
      "3 0\n",
      "7 1\n",
      "11 2\n",
      "4 0\n",
      "8 1\n",
      "12 2\n"
     ]
    }
   ],
   "source": [
    "temp_matrix = []\n",
    "matrix_transposed = []\n",
    "\n",
    "j=0\n",
    "while j in range(0,len(matrix[0])):\n",
    "    i=0\n",
    "    for row in matrix:\n",
    "        print(row[j],i)\n",
    "        temp_matrix.append(row[j])\n",
    "        i+=1\n",
    "    j+=1\n",
    "\n",
    "j=0\n",
    "for i in range(0,len(matrix[0])):\n",
    "    matrix_transposed.append(temp_matrix[j:j+3])\n",
    "    j += len(matrix)"
   ]
  },
  {
   "cell_type": "code",
   "execution_count": 51,
   "metadata": {},
   "outputs": [
    {
     "data": {
      "text/plain": [
       "[1, 5, 9, 2, 6, 10, 3, 7, 11, 4, 8, 12]"
      ]
     },
     "execution_count": 51,
     "metadata": {},
     "output_type": "execute_result"
    }
   ],
   "source": [
    "temp_matrix"
   ]
  },
  {
   "cell_type": "code",
   "execution_count": 52,
   "metadata": {},
   "outputs": [
    {
     "data": {
      "text/plain": [
       "[[1, 5, 9], [2, 6, 10], [3, 7, 11], [4, 8, 12]]"
      ]
     },
     "execution_count": 52,
     "metadata": {},
     "output_type": "execute_result"
    }
   ],
   "source": [
    "matrix_transposed"
   ]
  },
  {
   "cell_type": "code",
   "execution_count": 53,
   "metadata": {},
   "outputs": [
    {
     "data": {
      "text/plain": [
       "[[1, 2, 3, 4], [5, 6, 7, 8], [9, 10, 11, 12]]"
      ]
     },
     "execution_count": 53,
     "metadata": {},
     "output_type": "execute_result"
    }
   ],
   "source": [
    "matrix"
   ]
  },
  {
   "cell_type": "markdown",
   "metadata": {},
   "source": [
    "##### **CASE-II: Only FOR Loop**"
   ]
  },
  {
   "cell_type": "code",
   "execution_count": 54,
   "metadata": {},
   "outputs": [
    {
     "name": "stdout",
     "output_type": "stream",
     "text": [
      "1\n",
      "5\n",
      "9\n",
      "----\n",
      "2\n",
      "6\n",
      "10\n",
      "----\n",
      "3\n",
      "7\n",
      "11\n",
      "----\n",
      "4\n",
      "8\n",
      "12\n",
      "----\n"
     ]
    }
   ],
   "source": [
    "tmat = []\n",
    "for i in range(len(matrix[0])):\n",
    "    lst = []\n",
    "    for row in matrix:\n",
    "        print(row[i])\n",
    "        lst.append(row[i])\n",
    "    print('----')\n",
    "    tmat.append(lst)"
   ]
  },
  {
   "cell_type": "code",
   "execution_count": 55,
   "metadata": {},
   "outputs": [
    {
     "data": {
      "text/plain": [
       "[[1, 5, 9], [2, 6, 10], [3, 7, 11], [4, 8, 12]]"
      ]
     },
     "execution_count": 55,
     "metadata": {},
     "output_type": "execute_result"
    }
   ],
   "source": [
    "tmat"
   ]
  },
  {
   "cell_type": "markdown",
   "metadata": {},
   "source": [
    "##### **CASE-III: Via LIST COMPREHENSION**"
   ]
  },
  {
   "cell_type": "code",
   "execution_count": 56,
   "metadata": {},
   "outputs": [],
   "source": [
    "trans_mat = []\n",
    "tmp_mat = [row[i] for i in range(len(matrix[0])) for row in matrix]\n",
    "\n",
    "j=0\n",
    "for i in range(0,len(matrix[0])):\n",
    "    trans_mat.append(tmp_mat[j:j+3])\n",
    "    j += len(matrix)"
   ]
  },
  {
   "cell_type": "code",
   "execution_count": 57,
   "metadata": {},
   "outputs": [
    {
     "data": {
      "text/plain": [
       "[[1, 5, 9], [2, 6, 10], [3, 7, 11], [4, 8, 12]]"
      ]
     },
     "execution_count": 57,
     "metadata": {},
     "output_type": "execute_result"
    }
   ],
   "source": [
    "trans_mat"
   ]
  },
  {
   "cell_type": "markdown",
   "metadata": {},
   "source": [
    "#### **11.Perform BINARY SEARCH**"
   ]
  },
  {
   "cell_type": "code",
   "execution_count": 58,
   "metadata": {},
   "outputs": [],
   "source": [
    "import numpy as np\n",
    "import pandas as pd"
   ]
  },
  {
   "cell_type": "code",
   "execution_count": 59,
   "metadata": {},
   "outputs": [],
   "source": [
    "player_score = np.random.randint(29,159,11)"
   ]
  },
  {
   "cell_type": "code",
   "execution_count": 60,
   "metadata": {},
   "outputs": [
    {
     "data": {
      "text/plain": [
       "array([ 66,  91,  48,  65,  59, 107,  40, 131,  65, 123,  53])"
      ]
     },
     "execution_count": 60,
     "metadata": {},
     "output_type": "execute_result"
    }
   ],
   "source": [
    "player_score"
   ]
  },
  {
   "cell_type": "code",
   "execution_count": 61,
   "metadata": {},
   "outputs": [],
   "source": [
    "player_score.sort()"
   ]
  },
  {
   "cell_type": "code",
   "execution_count": 62,
   "metadata": {},
   "outputs": [
    {
     "data": {
      "text/plain": [
       "array([ 40,  48,  53,  59,  65,  65,  66,  91, 107, 123, 131])"
      ]
     },
     "execution_count": 62,
     "metadata": {},
     "output_type": "execute_result"
    }
   ],
   "source": [
    "player_score"
   ]
  },
  {
   "cell_type": "code",
   "execution_count": 63,
   "metadata": {},
   "outputs": [],
   "source": [
    "def binary_search(array,val):\n",
    "    l = 1\n",
    "    r = len(array)\n",
    "    print(\"Entered array \", array,'\\n')\n",
    "    print(\"Value to search \", val,'\\n')\n",
    "    if l < r:\n",
    "        arr_mid_idx = int(np.ceil(r/2))\n",
    "        print(\"Smaller Array Mid val IDX \", arr_mid_idx,'\\n')\n",
    "        arr_mid_value = array[arr_mid_idx]\n",
    "        print(\"Smaller Array Mid value \", arr_mid_value,'\\n')\n",
    "        if val < arr_mid_value:\n",
    "            new_array = array[0:arr_mid_idx]\n",
    "            binary_search(new_array,val)\n",
    "        elif val > arr_mid_value:\n",
    "            new_array = array[arr_mid_idx:]\n",
    "            binary_search(new_array,val)\n",
    "        elif val == arr_mid_value:\n",
    "            print(\"{} found\".format(val))\n",
    "        else:\n",
    "            print(\"{} not found\".format(val))\n",
    "    elif (l == r) & (val == array[0]):\n",
    "        print(\"{} found\".format(val))\n",
    "    else:\n",
    "        print(\"{} not found\".format(val))"
   ]
  },
  {
   "cell_type": "code",
   "execution_count": 64,
   "metadata": {},
   "outputs": [
    {
     "name": "stdout",
     "output_type": "stream",
     "text": [
      "Entered array  [ 40  48  53  59  65  65  66  91 107 123 131] \n",
      "\n",
      "Value to search  190 \n",
      "\n",
      "Smaller Array Mid val IDX  6 \n",
      "\n",
      "Smaller Array Mid value  66 \n",
      "\n",
      "Entered array  [ 66  91 107 123 131] \n",
      "\n",
      "Value to search  190 \n",
      "\n",
      "Smaller Array Mid val IDX  3 \n",
      "\n",
      "Smaller Array Mid value  123 \n",
      "\n",
      "Entered array  [123 131] \n",
      "\n",
      "Value to search  190 \n",
      "\n",
      "Smaller Array Mid val IDX  1 \n",
      "\n",
      "Smaller Array Mid value  131 \n",
      "\n",
      "Entered array  [131] \n",
      "\n",
      "Value to search  190 \n",
      "\n",
      "190 not found\n"
     ]
    }
   ],
   "source": [
    "binary_search(player_score,190)"
   ]
  },
  {
   "cell_type": "markdown",
   "metadata": {},
   "source": [
    "#### **12. Find common elements in two arrays**"
   ]
  },
  {
   "cell_type": "code",
   "execution_count": 65,
   "metadata": {},
   "outputs": [],
   "source": [
    "A = np.random.randint(30, 5000, 4000)"
   ]
  },
  {
   "cell_type": "code",
   "execution_count": 66,
   "metadata": {},
   "outputs": [],
   "source": [
    "B = np.random.randint(30, 5000, 4000)"
   ]
  },
  {
   "cell_type": "code",
   "execution_count": 67,
   "metadata": {},
   "outputs": [
    {
     "data": {
      "text/plain": [
       "array([ 458, 2892, 3244,  264, 3421, 3217, 3478, 2607, 3955, 2376])"
      ]
     },
     "execution_count": 67,
     "metadata": {},
     "output_type": "execute_result"
    }
   ],
   "source": [
    "A[0:10]"
   ]
  },
  {
   "cell_type": "code",
   "execution_count": 68,
   "metadata": {},
   "outputs": [
    {
     "data": {
      "text/plain": [
       "array([4122, 2447,  353, 2477,  537, 4761, 4323, 3079, 1445,  111])"
      ]
     },
     "execution_count": 68,
     "metadata": {},
     "output_type": "execute_result"
    }
   ],
   "source": [
    "B[0:10]"
   ]
  },
  {
   "cell_type": "markdown",
   "metadata": {},
   "source": [
    "##### **Approach-1**"
   ]
  },
  {
   "cell_type": "code",
   "execution_count": 69,
   "metadata": {},
   "outputs": [],
   "source": [
    "def cross_prod_tup(arr1,arr2):\n",
    "    cross_prod = []\n",
    "    common_elements = []\n",
    "    for i in range(len(arr1)):\n",
    "        for j in range(len(arr2)):\n",
    "            cross_prod.append((arr1[i], arr2[j]))\n",
    "            \n",
    "    for val in cross_prod:\n",
    "        if val[0] == val[1]:\n",
    "            common_elements.append(val[0])\n",
    "    return set(common_elements)"
   ]
  },
  {
   "cell_type": "code",
   "execution_count": 70,
   "metadata": {},
   "outputs": [
    {
     "name": "stdout",
     "output_type": "stream",
     "text": [
      "32.3 s ± 5.99 s per loop (mean ± std. dev. of 7 runs, 1 loop each)\n"
     ]
    }
   ],
   "source": [
    "%%timeit\n",
    "cross_prod_tup(A,B)"
   ]
  },
  {
   "cell_type": "markdown",
   "metadata": {},
   "source": [
    "##### **Approach-2**"
   ]
  },
  {
   "cell_type": "code",
   "execution_count": 71,
   "metadata": {},
   "outputs": [],
   "source": [
    "set_A = set(A)\n",
    "set_B = set(B)"
   ]
  },
  {
   "cell_type": "code",
   "execution_count": 72,
   "metadata": {},
   "outputs": [
    {
     "name": "stdout",
     "output_type": "stream",
     "text": [
      "1.69 ms ± 223 µs per loop (mean ± std. dev. of 7 runs, 1000 loops each)\n"
     ]
    }
   ],
   "source": [
    "%%timeit\n",
    "list(filter(lambda x : x in set_A,set_B))"
   ]
  },
  {
   "cell_type": "markdown",
   "metadata": {},
   "source": [
    "##### **Approach-3**"
   ]
  },
  {
   "cell_type": "code",
   "execution_count": 73,
   "metadata": {},
   "outputs": [
    {
     "name": "stdout",
     "output_type": "stream",
     "text": [
      "2.25 ms ± 134 µs per loop (mean ± std. dev. of 7 runs, 100 loops each)\n"
     ]
    }
   ],
   "source": [
    "%%timeit\n",
    "set_A.intersection(B)"
   ]
  },
  {
   "cell_type": "markdown",
   "metadata": {},
   "source": [
    "##### **Approach-4**"
   ]
  },
  {
   "cell_type": "code",
   "execution_count": 74,
   "metadata": {},
   "outputs": [
    {
     "name": "stdout",
     "output_type": "stream",
     "text": [
      "448 µs ± 98.3 µs per loop (mean ± std. dev. of 7 runs, 1000 loops each)\n"
     ]
    }
   ],
   "source": [
    "%%timeit\n",
    "set_A & set_B"
   ]
  },
  {
   "cell_type": "markdown",
   "metadata": {},
   "source": [
    "#### **13. HASH in Python**\n",
    "##### **HASH in detail: https://www.journaldev.com/17357/python-hash-function**"
   ]
  },
  {
   "cell_type": "code",
   "execution_count": 75,
   "metadata": {},
   "outputs": [
    {
     "data": {
      "text/plain": [
       "3487364"
      ]
     },
     "execution_count": 75,
     "metadata": {},
     "output_type": "execute_result"
    }
   ],
   "source": [
    "hash(3487364)"
   ]
  },
  {
   "cell_type": "code",
   "execution_count": 76,
   "metadata": {},
   "outputs": [
    {
     "data": {
      "text/plain": [
       "654238644410231826"
      ]
     },
     "execution_count": 76,
     "metadata": {},
     "output_type": "execute_result"
    }
   ],
   "source": [
    "hash(189090213902949847832748234)"
   ]
  },
  {
   "cell_type": "code",
   "execution_count": 5,
   "metadata": {},
   "outputs": [
    {
     "data": {
      "text/plain": [
       "6948892566641039714"
      ]
     },
     "execution_count": 5,
     "metadata": {},
     "output_type": "execute_result"
    }
   ],
   "source": [
    "hash('My name is Rajesh SHarma')"
   ]
  },
  {
   "cell_type": "code",
   "execution_count": 2,
   "metadata": {},
   "outputs": [
    {
     "data": {
      "text/plain": [
       "-2921062826119943623"
      ]
     },
     "execution_count": 2,
     "metadata": {},
     "output_type": "execute_result"
    }
   ],
   "source": [
    "hash('My name is Rajesh Sharma')"
   ]
  },
  {
   "cell_type": "code",
   "execution_count": 3,
   "metadata": {},
   "outputs": [
    {
     "data": {
      "text/plain": [
       "-2921062826119943623"
      ]
     },
     "execution_count": 3,
     "metadata": {},
     "output_type": "execute_result"
    }
   ],
   "source": [
    "hash('My name is Rajesh Sharma')"
   ]
  },
  {
   "cell_type": "code",
   "execution_count": 80,
   "metadata": {},
   "outputs": [
    {
     "name": "stdin",
     "output_type": "stream",
     "text": [
      "Once deleted, variables cannot be recovered. Proceed (y/[n])?  n\n"
     ]
    },
    {
     "name": "stdout",
     "output_type": "stream",
     "text": [
      "Nothing done.\n"
     ]
    }
   ],
   "source": [
    "%reset"
   ]
  }
 ],
 "metadata": {
  "kernelspec": {
   "display_name": "Python 3",
   "language": "python",
   "name": "python3"
  },
  "language_info": {
   "codemirror_mode": {
    "name": "ipython",
    "version": 3
   },
   "file_extension": ".py",
   "mimetype": "text/x-python",
   "name": "python",
   "nbconvert_exporter": "python",
   "pygments_lexer": "ipython3",
   "version": "3.6.8"
  }
 },
 "nbformat": 4,
 "nbformat_minor": 4
}
