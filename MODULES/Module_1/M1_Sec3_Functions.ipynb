{
 "cells": [
  {
   "cell_type": "markdown",
   "metadata": {},
   "source": [
    "### **``Functions``**"
   ]
  },
  {
   "cell_type": "code",
   "execution_count": 15,
   "metadata": {},
   "outputs": [],
   "source": [
    "def print_name(name):\n",
    "    \"\"\"This function prints the name of the person.\"\"\"\n",
    "    print(name)"
   ]
  },
  {
   "cell_type": "code",
   "execution_count": 16,
   "metadata": {},
   "outputs": [
    {
     "name": "stdout",
     "output_type": "stream",
     "text": [
      "Rajesh\n"
     ]
    }
   ],
   "source": [
    "print_name('Rajesh')"
   ]
  },
  {
   "cell_type": "code",
   "execution_count": 17,
   "metadata": {},
   "outputs": [
    {
     "data": {
      "text/plain": [
       "'This function prints the name of the person.'"
      ]
     },
     "execution_count": 17,
     "metadata": {},
     "output_type": "execute_result"
    }
   ],
   "source": [
    "print_name.__doc__"
   ]
  },
  {
   "cell_type": "markdown",
   "metadata": {},
   "source": [
    "#### **Write a python program to find the HCF(Highest common factor of two numbers.**"
   ]
  },
  {
   "cell_type": "code",
   "execution_count": 18,
   "metadata": {},
   "outputs": [],
   "source": [
    "num1 = 98\n",
    "num2 = 78"
   ]
  },
  {
   "cell_type": "code",
   "execution_count": 19,
   "metadata": {},
   "outputs": [],
   "source": [
    "def compute_hcf(num1, num2):\n",
    "    \"\"\"\n",
    "    This function will compute the HCF of the given numbers.\n",
    "    \"\"\"\n",
    "    if num1 > num2:\n",
    "        smaller = num2\n",
    "    else:\n",
    "        smaller = num1\n",
    "\n",
    "    hcf = []\n",
    "\n",
    "    for num in range(1,smaller+1):\n",
    "        if num1%num == 0 and num2%num == 0:\n",
    "            hcf.append(num)\n",
    "    return hcf[-1]"
   ]
  },
  {
   "cell_type": "code",
   "execution_count": 20,
   "metadata": {},
   "outputs": [
    {
     "name": "stdout",
     "output_type": "stream",
     "text": [
      "HCF of 98 and 78 is 2\n"
     ]
    }
   ],
   "source": [
    "print(\"HCF of 98 and 78 is {}\".format(compute_hcf(num1,num2)))"
   ]
  },
  {
   "cell_type": "code",
   "execution_count": 21,
   "metadata": {},
   "outputs": [],
   "source": [
    "num1, num2 = 4,16"
   ]
  },
  {
   "cell_type": "code",
   "execution_count": 22,
   "metadata": {},
   "outputs": [
    {
     "name": "stdout",
     "output_type": "stream",
     "text": [
      "HCF of 4 and 16 is 4\n"
     ]
    }
   ],
   "source": [
    "print(\"HCF of {} and {} is {}\".format(num1, num2, compute_hcf(num1,num2)))"
   ]
  },
  {
   "cell_type": "code",
   "execution_count": 23,
   "metadata": {},
   "outputs": [],
   "source": [
    "num1, num2 = 16, 96"
   ]
  },
  {
   "cell_type": "code",
   "execution_count": 24,
   "metadata": {},
   "outputs": [
    {
     "name": "stdout",
     "output_type": "stream",
     "text": [
      "HCF of 16 and 96 is 16\n"
     ]
    }
   ],
   "source": [
    "print(\"HCF of {} and {} is {}\".format(num1, num2, compute_hcf(num1,num2)))"
   ]
  },
  {
   "cell_type": "markdown",
   "metadata": {},
   "source": [
    "##### **ABS**"
   ]
  },
  {
   "cell_type": "code",
   "execution_count": 25,
   "metadata": {},
   "outputs": [
    {
     "data": {
      "text/plain": [
       "44545"
      ]
     },
     "execution_count": 25,
     "metadata": {},
     "output_type": "execute_result"
    }
   ],
   "source": [
    "abs(-44545)"
   ]
  },
  {
   "cell_type": "code",
   "execution_count": 26,
   "metadata": {},
   "outputs": [
    {
     "ename": "TypeError",
     "evalue": "bad operand type for abs(): 'str'",
     "output_type": "error",
     "traceback": [
      "\u001b[1;31m---------------------------------------------------------------------------\u001b[0m",
      "\u001b[1;31mTypeError\u001b[0m                                 Traceback (most recent call last)",
      "\u001b[1;32m<ipython-input-26-d32c8fa15d21>\u001b[0m in \u001b[0;36m<module>\u001b[1;34m\u001b[0m\n\u001b[1;32m----> 1\u001b[1;33m \u001b[0mabs\u001b[0m\u001b[1;33m(\u001b[0m\u001b[1;34m'Function name'\u001b[0m\u001b[1;33m)\u001b[0m\u001b[1;33m\u001b[0m\u001b[1;33m\u001b[0m\u001b[0m\n\u001b[0m",
      "\u001b[1;31mTypeError\u001b[0m: bad operand type for abs(): 'str'"
     ]
    }
   ],
   "source": [
    "abs('Function name')"
   ]
  },
  {
   "cell_type": "code",
   "execution_count": 27,
   "metadata": {},
   "outputs": [
    {
     "data": {
      "text/plain": [
       "89.8475"
      ]
     },
     "execution_count": 27,
     "metadata": {},
     "output_type": "execute_result"
    }
   ],
   "source": [
    "abs(-89.8475)"
   ]
  },
  {
   "cell_type": "markdown",
   "metadata": {},
   "source": [
    "##### **DIVMOD**"
   ]
  },
  {
   "cell_type": "code",
   "execution_count": 28,
   "metadata": {},
   "outputs": [
    {
     "data": {
      "text/plain": [
       "(2, 0)"
      ]
     },
     "execution_count": 28,
     "metadata": {},
     "output_type": "execute_result"
    }
   ],
   "source": [
    "divmod(4,2)             # Returns quotient and remainder"
   ]
  },
  {
   "cell_type": "code",
   "execution_count": 29,
   "metadata": {},
   "outputs": [
    {
     "data": {
      "text/plain": [
       "(2, 2)"
      ]
     },
     "execution_count": 29,
     "metadata": {},
     "output_type": "execute_result"
    }
   ],
   "source": [
    "divmod(8,3)"
   ]
  },
  {
   "cell_type": "markdown",
   "metadata": {},
   "source": [
    "##### **ALL**"
   ]
  },
  {
   "cell_type": "code",
   "execution_count": 30,
   "metadata": {},
   "outputs": [
    {
     "data": {
      "text/plain": [
       "True"
      ]
     },
     "execution_count": 30,
     "metadata": {},
     "output_type": "execute_result"
    }
   ],
   "source": [
    "all([1,2,3,4])                # it returns the bool(x) or bool for all values of x"
   ]
  },
  {
   "cell_type": "code",
   "execution_count": 31,
   "metadata": {},
   "outputs": [
    {
     "data": {
      "text/plain": [
       "True"
      ]
     },
     "execution_count": 31,
     "metadata": {},
     "output_type": "execute_result"
    }
   ],
   "source": [
    "all([1,2,3,4,])"
   ]
  },
  {
   "cell_type": "code",
   "execution_count": 32,
   "metadata": {},
   "outputs": [
    {
     "data": {
      "text/plain": [
       "False"
      ]
     },
     "execution_count": 32,
     "metadata": {},
     "output_type": "execute_result"
    }
   ],
   "source": [
    "all([1,2,3,4,0])              # 0 in python is False internally thus it returned False"
   ]
  },
  {
   "cell_type": "code",
   "execution_count": 33,
   "metadata": {},
   "outputs": [
    {
     "data": {
      "text/plain": [
       "False"
      ]
     },
     "execution_count": 33,
     "metadata": {},
     "output_type": "execute_result"
    }
   ],
   "source": [
    "all([False,1,2,3,4])"
   ]
  },
  {
   "cell_type": "code",
   "execution_count": 34,
   "metadata": {},
   "outputs": [
    {
     "data": {
      "text/plain": [
       "True"
      ]
     },
     "execution_count": 34,
     "metadata": {},
     "output_type": "execute_result"
    }
   ],
   "source": [
    "bool(7)"
   ]
  },
  {
   "cell_type": "code",
   "execution_count": 35,
   "metadata": {},
   "outputs": [
    {
     "data": {
      "text/plain": [
       "True"
      ]
     },
     "execution_count": 35,
     "metadata": {},
     "output_type": "execute_result"
    }
   ],
   "source": [
    "bool('X')"
   ]
  },
  {
   "cell_type": "code",
   "execution_count": 36,
   "metadata": {},
   "outputs": [
    {
     "data": {
      "text/plain": [
       "False"
      ]
     },
     "execution_count": 36,
     "metadata": {},
     "output_type": "execute_result"
    }
   ],
   "source": [
    "bool(0)"
   ]
  },
  {
   "cell_type": "code",
   "execution_count": 37,
   "metadata": {},
   "outputs": [
    {
     "data": {
      "text/plain": [
       "True"
      ]
     },
     "execution_count": 37,
     "metadata": {},
     "output_type": "execute_result"
    }
   ],
   "source": [
    "bool(-1)"
   ]
  },
  {
   "cell_type": "markdown",
   "metadata": {},
   "source": [
    "##### **DIR**"
   ]
  },
  {
   "cell_type": "code",
   "execution_count": 38,
   "metadata": {},
   "outputs": [],
   "source": [
    "import pandas"
   ]
  },
  {
   "cell_type": "code",
   "execution_count": 39,
   "metadata": {},
   "outputs": [
    {
     "name": "stdout",
     "output_type": "stream",
     "text": [
      "['BooleanDtype', 'Categorical', 'CategoricalDtype', 'CategoricalIndex', 'DataFrame', 'DateOffset', 'DatetimeIndex', 'DatetimeTZDtype', 'ExcelFile', 'ExcelWriter', 'Float64Index', 'Grouper', 'HDFStore', 'Index', 'IndexSlice', 'Int16Dtype', 'Int32Dtype', 'Int64Dtype', 'Int64Index', 'Int8Dtype', 'Interval', 'IntervalDtype', 'IntervalIndex', 'MultiIndex', 'NA', 'NaT', 'NamedAgg', 'Panel', 'Period', 'PeriodDtype', 'PeriodIndex', 'RangeIndex', 'Series', 'SparseArray', 'SparseDataFrame', 'SparseDtype', 'SparseSeries', 'StringDtype', 'Timedelta', 'TimedeltaIndex', 'Timestamp', 'UInt16Dtype', 'UInt32Dtype', 'UInt64Dtype', 'UInt64Index', 'UInt8Dtype', '__Datetime', '__DatetimeSub', '__SparseArray', '__SparseArraySub', '__builtins__', '__cached__', '__doc__', '__docformat__', '__file__', '__git_version__', '__loader__', '__name__', '__numpy', '__package__', '__path__', '__spec__', '__version__', '_config', '_hashtable', '_is_numpy_dev', '_lib', '_libs', '_np_version_under1p16', '_np_version_under1p17', '_np_version_under1p18', '_testing', '_tslib', '_typing', '_version', 'api', 'array', 'arrays', 'bdate_range', 'compat', 'concat', 'core', 'crosstab', 'cut', 'date_range', 'datetime', 'describe_option', 'errors', 'eval', 'factorize', 'get_dummies', 'get_option', 'infer_freq', 'interval_range', 'io', 'isna', 'isnull', 'json_normalize', 'lreshape', 'melt', 'merge', 'merge_asof', 'merge_ordered', 'notna', 'notnull', 'np', 'offsets', 'option_context', 'options', 'pandas', 'period_range', 'pivot', 'pivot_table', 'plotting', 'qcut', 'read_clipboard', 'read_csv', 'read_excel', 'read_feather', 'read_fwf', 'read_gbq', 'read_hdf', 'read_html', 'read_json', 'read_orc', 'read_parquet', 'read_pickle', 'read_sas', 'read_spss', 'read_sql', 'read_sql_query', 'read_sql_table', 'read_stata', 'read_table', 'reset_option', 'set_eng_float_format', 'set_option', 'show_versions', 'test', 'testing', 'timedelta_range', 'to_datetime', 'to_numeric', 'to_pickle', 'to_timedelta', 'tseries', 'unique', 'util', 'value_counts', 'wide_to_long']\n"
     ]
    }
   ],
   "source": [
    "print(dir(pandas))"
   ]
  },
  {
   "cell_type": "markdown",
   "metadata": {},
   "source": [
    "##### **ENUMERATE**"
   ]
  },
  {
   "cell_type": "code",
   "execution_count": 40,
   "metadata": {},
   "outputs": [
    {
     "name": "stdout",
     "output_type": "stream",
     "text": [
      "0  ||  10\n",
      "1  ||  20\n",
      "2  ||  30\n",
      "3  ||  40\n",
      "4  ||  50\n"
     ]
    }
   ],
   "source": [
    "numbers = [10,20,30,40,50]\n",
    "\n",
    "for num1 , num2 in enumerate(numbers):\n",
    "    print(num1, ' || ', num2)"
   ]
  },
  {
   "cell_type": "code",
   "execution_count": 41,
   "metadata": {},
   "outputs": [
    {
     "name": "stdout",
     "output_type": "stream",
     "text": [
      "Index ---> 0 && Number ---> 10\n",
      "Index ---> 1 && Number ---> 20\n",
      "Index ---> 2 && Number ---> 30\n",
      "Index ---> 3 && Number ---> 40\n",
      "Index ---> 4 && Number ---> 50\n"
     ]
    }
   ],
   "source": [
    "for idx, num in enumerate(numbers):\n",
    "    print(\"Index ---> {} && Number ---> {}\".format(idx,num))"
   ]
  },
  {
   "cell_type": "markdown",
   "metadata": {},
   "source": [
    "###### **We can also change the starting point of the index**"
   ]
  },
  {
   "cell_type": "code",
   "execution_count": 42,
   "metadata": {},
   "outputs": [
    {
     "name": "stdout",
     "output_type": "stream",
     "text": [
      "500  |||  10\n",
      "501  |||  20\n",
      "502  |||  30\n",
      "503  |||  40\n",
      "504  |||  50\n"
     ]
    }
   ],
   "source": [
    "for idx, num in enumerate(numbers,500):\n",
    "    print(idx, ' ||| ', num)"
   ]
  },
  {
   "cell_type": "markdown",
   "metadata": {},
   "source": [
    "#### **``FILTER``**\n",
    "##### **It works or applies function on every element.**"
   ]
  },
  {
   "cell_type": "code",
   "execution_count": 43,
   "metadata": {},
   "outputs": [],
   "source": [
    "def fil_f(num):\n",
    "    return num >= abs(num)"
   ]
  },
  {
   "cell_type": "code",
   "execution_count": 44,
   "metadata": {},
   "outputs": [
    {
     "data": {
      "text/plain": [
       "[1, 2, 3, 4, 5, 6, 7, 8, 9]"
      ]
     },
     "execution_count": 44,
     "metadata": {},
     "output_type": "execute_result"
    }
   ],
   "source": [
    "list(filter(fil_f,[1,2,3,4,5,6,7,8,9]))"
   ]
  },
  {
   "cell_type": "code",
   "execution_count": 45,
   "metadata": {},
   "outputs": [
    {
     "data": {
      "text/plain": [
       "(1, 2, 3, 4, 5, 6, 7, 8, 9)"
      ]
     },
     "execution_count": 45,
     "metadata": {},
     "output_type": "execute_result"
    }
   ],
   "source": [
    "tuple(filter(fil_f,[1,2,3,4,5,6,7,8,9]))"
   ]
  },
  {
   "cell_type": "code",
   "execution_count": 46,
   "metadata": {},
   "outputs": [
    {
     "data": {
      "text/plain": [
       "{1, 2, 3, 4, 5, 6, 7, 8, 9}"
      ]
     },
     "execution_count": 46,
     "metadata": {},
     "output_type": "execute_result"
    }
   ],
   "source": [
    "set(filter(fil_f,[1,2,3,4,5,6,7,8,9]))"
   ]
  },
  {
   "cell_type": "code",
   "execution_count": 47,
   "metadata": {},
   "outputs": [
    {
     "data": {
      "text/plain": [
       "{0, 1, 2, 3, 4, 5, 6, 7, 8, 9}"
      ]
     },
     "execution_count": 47,
     "metadata": {},
     "output_type": "execute_result"
    }
   ],
   "source": [
    "set(filter(fil_f,[1,2,3,4,5,6,7,8,9,0,-1,-2,-3,-4]))"
   ]
  },
  {
   "cell_type": "markdown",
   "metadata": {},
   "source": [
    "#### **``ISINSTANCE``**\n",
    "##### **We can check whether the object belongs to the particular class or category.**"
   ]
  },
  {
   "cell_type": "code",
   "execution_count": 48,
   "metadata": {},
   "outputs": [],
   "source": [
    "scores = {10,39,89,99,105,175}"
   ]
  },
  {
   "cell_type": "code",
   "execution_count": 49,
   "metadata": {},
   "outputs": [
    {
     "data": {
      "text/plain": [
       "False"
      ]
     },
     "execution_count": 49,
     "metadata": {},
     "output_type": "execute_result"
    }
   ],
   "source": [
    "isinstance(scores,list)"
   ]
  },
  {
   "cell_type": "code",
   "execution_count": 50,
   "metadata": {},
   "outputs": [
    {
     "data": {
      "text/plain": [
       "False"
      ]
     },
     "execution_count": 50,
     "metadata": {},
     "output_type": "execute_result"
    }
   ],
   "source": [
    "isinstance(scores,dict)"
   ]
  },
  {
   "cell_type": "code",
   "execution_count": 51,
   "metadata": {},
   "outputs": [
    {
     "data": {
      "text/plain": [
       "False"
      ]
     },
     "execution_count": 51,
     "metadata": {},
     "output_type": "execute_result"
    }
   ],
   "source": [
    "isinstance(scores,tuple)"
   ]
  },
  {
   "cell_type": "code",
   "execution_count": 52,
   "metadata": {},
   "outputs": [
    {
     "data": {
      "text/plain": [
       "True"
      ]
     },
     "execution_count": 52,
     "metadata": {},
     "output_type": "execute_result"
    }
   ],
   "source": [
    "isinstance(scores,set)"
   ]
  },
  {
   "cell_type": "markdown",
   "metadata": {},
   "source": [
    "#### **``MAP``**\n",
    "##### **Applies the function on every element.**"
   ]
  },
  {
   "cell_type": "code",
   "execution_count": 53,
   "metadata": {},
   "outputs": [],
   "source": [
    "def divide_num_by_4(num):\n",
    "    return num/4"
   ]
  },
  {
   "cell_type": "code",
   "execution_count": 54,
   "metadata": {},
   "outputs": [
    {
     "data": {
      "text/plain": [
       "[24.75, 9.75, 26.25, 2.5, 43.75, 22.25]"
      ]
     },
     "execution_count": 54,
     "metadata": {},
     "output_type": "execute_result"
    }
   ],
   "source": [
    "list(map(divide_num_by_4,scores))"
   ]
  },
  {
   "cell_type": "markdown",
   "metadata": {},
   "source": [
    "#### **``REDUCE``**\n",
    "##### **It works as a rolling function and applies the function on two elements.**"
   ]
  },
  {
   "cell_type": "code",
   "execution_count": 55,
   "metadata": {},
   "outputs": [],
   "source": [
    "from functools import reduce"
   ]
  },
  {
   "cell_type": "code",
   "execution_count": 56,
   "metadata": {},
   "outputs": [],
   "source": [
    "def cume(val1, val2):\n",
    "    return val1+val2"
   ]
  },
  {
   "cell_type": "code",
   "execution_count": 57,
   "metadata": {},
   "outputs": [],
   "source": [
    "nums = [1,2,3,4,5]"
   ]
  },
  {
   "cell_type": "code",
   "execution_count": 58,
   "metadata": {},
   "outputs": [
    {
     "data": {
      "text/plain": [
       "15"
      ]
     },
     "execution_count": 58,
     "metadata": {},
     "output_type": "execute_result"
    }
   ],
   "source": [
    "reduce(cume,nums)"
   ]
  },
  {
   "cell_type": "markdown",
   "metadata": {},
   "source": [
    "#### **``KEYWORD ARGUMENTS``**"
   ]
  },
  {
   "cell_type": "code",
   "execution_count": 59,
   "metadata": {},
   "outputs": [],
   "source": [
    "def hello_world(**kwargs):\n",
    "    return (kwargs['first_name'], kwargs['middle_name'],kwargs['last_name'])"
   ]
  },
  {
   "cell_type": "code",
   "execution_count": 60,
   "metadata": {},
   "outputs": [
    {
     "data": {
      "text/plain": [
       "('Rajesh', 'Kumar', 'sharma')"
      ]
     },
     "execution_count": 60,
     "metadata": {},
     "output_type": "execute_result"
    }
   ],
   "source": [
    "hello_world(first_name='Rajesh',middle_name='Kumar',last_name='sharma',an_name='titu')"
   ]
  },
  {
   "cell_type": "code",
   "execution_count": 61,
   "metadata": {},
   "outputs": [
    {
     "name": "stdout",
     "output_type": "stream",
     "text": [
      "1.14 µs ± 215 ns per loop (mean ± std. dev. of 7 runs, 1000000 loops each)\n"
     ]
    }
   ],
   "source": [
    "%timeit hello_world(first_name='Rajesh',middle_name='Kumar',last_name='sharma')"
   ]
  },
  {
   "cell_type": "code",
   "execution_count": 62,
   "metadata": {},
   "outputs": [],
   "source": [
    "def hello_world(**kwargs):\n",
    "    print (kwargs['first_name'], kwargs['middle_name'],kwargs['last_name'])"
   ]
  },
  {
   "cell_type": "code",
   "execution_count": 63,
   "metadata": {},
   "outputs": [
    {
     "name": "stdout",
     "output_type": "stream",
     "text": [
      "Rajesh Kumar sharma\n"
     ]
    }
   ],
   "source": [
    "hello_world(first_name='Rajesh',middle_name='Kumar',last_name='sharma')"
   ]
  },
  {
   "cell_type": "code",
   "execution_count": 64,
   "metadata": {},
   "outputs": [
    {
     "name": "stdout",
     "output_type": "stream",
     "text": [
      "Rajesh Kumar sharma\n"
     ]
    }
   ],
   "source": [
    "hello_world(first_name='Rajesh',middle_name='Kumar',last_name='sharma',an_name='titu')"
   ]
  },
  {
   "cell_type": "markdown",
   "metadata": {},
   "source": [
    "#### **``Arbitary Arguments``**"
   ]
  },
  {
   "cell_type": "code",
   "execution_count": 65,
   "metadata": {},
   "outputs": [],
   "source": [
    "def name_printing(*names):\n",
    "    for l_name in names:\n",
    "        print(\"First name is Rajesh and Last name is {0}\".format(l_name))"
   ]
  },
  {
   "cell_type": "code",
   "execution_count": 66,
   "metadata": {},
   "outputs": [
    {
     "name": "stdout",
     "output_type": "stream",
     "text": [
      "First name is Rajesh and Last name is sharma\n",
      "First name is Rajesh and Last name is kumar\n",
      "First name is Rajesh and Last name is kapoor\n"
     ]
    }
   ],
   "source": [
    "name_printing('sharma','kumar','kapoor')"
   ]
  },
  {
   "cell_type": "markdown",
   "metadata": {},
   "source": [
    "#### **``RECURSIVE FUNCTIONS``**\n",
    "##### **Function calling itself is a recursive functions.**\n",
    "##### **These functions are more expensive in memory consumption and hard to debug.**"
   ]
  },
  {
   "cell_type": "code",
   "execution_count": 67,
   "metadata": {},
   "outputs": [],
   "source": [
    "def factorial(num):\n",
    "    return num if num == 1 else num * factorial(num-1)"
   ]
  },
  {
   "cell_type": "code",
   "execution_count": 68,
   "metadata": {},
   "outputs": [
    {
     "data": {
      "text/plain": [
       "120"
      ]
     },
     "execution_count": 68,
     "metadata": {},
     "output_type": "execute_result"
    }
   ],
   "source": [
    "factorial(5)"
   ]
  },
  {
   "cell_type": "code",
   "execution_count": 69,
   "metadata": {},
   "outputs": [],
   "source": [
    "def fibonacci(num):\n",
    "    return num if num <=1 else fibonacci(num-1) + fibonacci(num-2)"
   ]
  },
  {
   "cell_type": "code",
   "execution_count": 70,
   "metadata": {},
   "outputs": [],
   "source": [
    "nums = range(0,10)"
   ]
  },
  {
   "cell_type": "code",
   "execution_count": 71,
   "metadata": {},
   "outputs": [
    {
     "name": "stdout",
     "output_type": "stream",
     "text": [
      "0\n",
      "1\n",
      "1\n",
      "2\n",
      "3\n",
      "5\n",
      "8\n",
      "13\n",
      "21\n",
      "34\n"
     ]
    }
   ],
   "source": [
    "for num in nums:\n",
    "    print(fibonacci(num))"
   ]
  },
  {
   "cell_type": "markdown",
   "metadata": {},
   "source": [
    "#### **``LAMBDA Functions``**"
   ]
  },
  {
   "cell_type": "code",
   "execution_count": 72,
   "metadata": {},
   "outputs": [],
   "source": [
    "sqr = lambda x: x**2"
   ]
  },
  {
   "cell_type": "code",
   "execution_count": 73,
   "metadata": {},
   "outputs": [
    {
     "data": {
      "text/plain": [
       "[0, 1, 4, 9, 16, 25, 36, 49, 64, 81]"
      ]
     },
     "execution_count": 73,
     "metadata": {},
     "output_type": "execute_result"
    }
   ],
   "source": [
    "[sqr(num) for num in nums]"
   ]
  },
  {
   "cell_type": "code",
   "execution_count": 74,
   "metadata": {},
   "outputs": [],
   "source": [
    "sum_of_2s = lambda x,y : x+y"
   ]
  },
  {
   "cell_type": "code",
   "execution_count": 75,
   "metadata": {},
   "outputs": [
    {
     "data": {
      "text/plain": [
       "8"
      ]
     },
     "execution_count": 75,
     "metadata": {},
     "output_type": "execute_result"
    }
   ],
   "source": [
    "sum_of_2s(3,5)"
   ]
  },
  {
   "cell_type": "code",
   "execution_count": 76,
   "metadata": {},
   "outputs": [],
   "source": [
    "nums = [1,2,3,4,5,6,7,8,9]"
   ]
  },
  {
   "cell_type": "code",
   "execution_count": 77,
   "metadata": {},
   "outputs": [
    {
     "data": {
      "text/plain": [
       "[1, 2, 3, 4, 5, 6, 7, 8, 9]"
      ]
     },
     "execution_count": 77,
     "metadata": {},
     "output_type": "execute_result"
    }
   ],
   "source": [
    "nums"
   ]
  },
  {
   "cell_type": "code",
   "execution_count": 78,
   "metadata": {},
   "outputs": [],
   "source": [
    "from functools import reduce"
   ]
  },
  {
   "cell_type": "code",
   "execution_count": 79,
   "metadata": {},
   "outputs": [],
   "source": [
    "sum_list = reduce(lambda x,y:x+y,nums)"
   ]
  },
  {
   "cell_type": "code",
   "execution_count": 80,
   "metadata": {},
   "outputs": [
    {
     "data": {
      "text/plain": [
       "45"
      ]
     },
     "execution_count": 80,
     "metadata": {},
     "output_type": "execute_result"
    }
   ],
   "source": [
    "sum_list"
   ]
  },
  {
   "cell_type": "code",
   "execution_count": 81,
   "metadata": {},
   "outputs": [
    {
     "data": {
      "text/plain": [
       "[1, 2, 3, 4, 5, 6, 7, 8, 9]"
      ]
     },
     "execution_count": 81,
     "metadata": {},
     "output_type": "execute_result"
    }
   ],
   "source": [
    "nums"
   ]
  },
  {
   "cell_type": "code",
   "execution_count": 82,
   "metadata": {},
   "outputs": [
    {
     "data": {
      "text/plain": [
       "10.0"
      ]
     },
     "execution_count": 82,
     "metadata": {},
     "output_type": "execute_result"
    }
   ],
   "source": [
    "reduce(lambda x,y:x+y,map(lambda x : x/2,filter(lambda x: x%2==0,nums)))"
   ]
  },
  {
   "cell_type": "markdown",
   "metadata": {},
   "source": [
    "#### **``FILE HANDLING``**"
   ]
  },
  {
   "cell_type": "code",
   "execution_count": 83,
   "metadata": {},
   "outputs": [],
   "source": [
    "f = open('test_file.txt','x')"
   ]
  },
  {
   "cell_type": "code",
   "execution_count": 84,
   "metadata": {},
   "outputs": [
    {
     "data": {
      "text/plain": [
       "55"
      ]
     },
     "execution_count": 84,
     "metadata": {},
     "output_type": "execute_result"
    }
   ],
   "source": [
    "f.write(\"I'm Rajesh Sharma and one day I'll be a Data Scientist.\")"
   ]
  },
  {
   "cell_type": "code",
   "execution_count": 85,
   "metadata": {},
   "outputs": [],
   "source": [
    "f.close()"
   ]
  },
  {
   "cell_type": "markdown",
   "metadata": {},
   "source": [
    "##### **SCENARIO-1**"
   ]
  },
  {
   "cell_type": "code",
   "execution_count": 86,
   "metadata": {},
   "outputs": [],
   "source": [
    "f1 = open('test_file.txt','r')"
   ]
  },
  {
   "cell_type": "code",
   "execution_count": 87,
   "metadata": {},
   "outputs": [
    {
     "data": {
      "text/plain": [
       "\"I'm Rajesh Sharma and one day I'll be a Data Scientist.\""
      ]
     },
     "execution_count": 87,
     "metadata": {},
     "output_type": "execute_result"
    }
   ],
   "source": [
    "f1.read()"
   ]
  },
  {
   "cell_type": "markdown",
   "metadata": {},
   "source": [
    "##### **SCENARIO-2**"
   ]
  },
  {
   "cell_type": "code",
   "execution_count": 88,
   "metadata": {},
   "outputs": [
    {
     "data": {
      "text/plain": [
       "55"
      ]
     },
     "execution_count": 88,
     "metadata": {},
     "output_type": "execute_result"
    }
   ],
   "source": [
    "f1.tell()"
   ]
  },
  {
   "cell_type": "code",
   "execution_count": 89,
   "metadata": {},
   "outputs": [
    {
     "data": {
      "text/plain": [
       "1"
      ]
     },
     "execution_count": 89,
     "metadata": {},
     "output_type": "execute_result"
    }
   ],
   "source": [
    "f1.seek(1)"
   ]
  },
  {
   "cell_type": "code",
   "execution_count": 90,
   "metadata": {},
   "outputs": [
    {
     "data": {
      "text/plain": [
       "1"
      ]
     },
     "execution_count": 90,
     "metadata": {},
     "output_type": "execute_result"
    }
   ],
   "source": [
    "f1.tell()"
   ]
  },
  {
   "cell_type": "code",
   "execution_count": 91,
   "metadata": {},
   "outputs": [
    {
     "data": {
      "text/plain": [
       "\"'m Ra\""
      ]
     },
     "execution_count": 91,
     "metadata": {},
     "output_type": "execute_result"
    }
   ],
   "source": [
    "f1.read(5)"
   ]
  },
  {
   "cell_type": "code",
   "execution_count": 92,
   "metadata": {},
   "outputs": [
    {
     "data": {
      "text/plain": [
       "50"
      ]
     },
     "execution_count": 92,
     "metadata": {},
     "output_type": "execute_result"
    }
   ],
   "source": [
    "f1.seek(50)"
   ]
  },
  {
   "cell_type": "code",
   "execution_count": 93,
   "metadata": {},
   "outputs": [
    {
     "data": {
      "text/plain": [
       "'tist.'"
      ]
     },
     "execution_count": 93,
     "metadata": {},
     "output_type": "execute_result"
    }
   ],
   "source": [
    "f1.read()"
   ]
  },
  {
   "cell_type": "code",
   "execution_count": 94,
   "metadata": {},
   "outputs": [
    {
     "data": {
      "text/plain": [
       "55"
      ]
     },
     "execution_count": 94,
     "metadata": {},
     "output_type": "execute_result"
    }
   ],
   "source": [
    "f1.tell()"
   ]
  },
  {
   "cell_type": "code",
   "execution_count": 95,
   "metadata": {},
   "outputs": [
    {
     "data": {
      "text/plain": [
       "list"
      ]
     },
     "execution_count": 95,
     "metadata": {},
     "output_type": "execute_result"
    }
   ],
   "source": [
    "type(f1.readlines())"
   ]
  },
  {
   "cell_type": "code",
   "execution_count": 96,
   "metadata": {},
   "outputs": [
    {
     "data": {
      "text/plain": [
       "str"
      ]
     },
     "execution_count": 96,
     "metadata": {},
     "output_type": "execute_result"
    }
   ],
   "source": [
    "type(f1.readline())"
   ]
  },
  {
   "cell_type": "code",
   "execution_count": 97,
   "metadata": {},
   "outputs": [
    {
     "data": {
      "text/plain": [
       "20"
      ]
     },
     "execution_count": 97,
     "metadata": {},
     "output_type": "execute_result"
    }
   ],
   "source": [
    "f1.seek(20)"
   ]
  },
  {
   "cell_type": "code",
   "execution_count": 98,
   "metadata": {},
   "outputs": [
    {
     "data": {
      "text/plain": [
       "[\"d one day I'll be a Data Scientist.\"]"
      ]
     },
     "execution_count": 98,
     "metadata": {},
     "output_type": "execute_result"
    }
   ],
   "source": [
    "f1.readlines()"
   ]
  },
  {
   "cell_type": "code",
   "execution_count": 99,
   "metadata": {},
   "outputs": [
    {
     "data": {
      "text/plain": [
       "''"
      ]
     },
     "execution_count": 99,
     "metadata": {},
     "output_type": "execute_result"
    }
   ],
   "source": [
    "f1.readline()"
   ]
  },
  {
   "cell_type": "code",
   "execution_count": 100,
   "metadata": {},
   "outputs": [
    {
     "data": {
      "text/plain": [
       "20"
      ]
     },
     "execution_count": 100,
     "metadata": {},
     "output_type": "execute_result"
    }
   ],
   "source": [
    "f1.seek(20)"
   ]
  },
  {
   "cell_type": "code",
   "execution_count": 101,
   "metadata": {},
   "outputs": [
    {
     "data": {
      "text/plain": [
       "\"d one day I'll be a Data Scientist.\""
      ]
     },
     "execution_count": 101,
     "metadata": {},
     "output_type": "execute_result"
    }
   ],
   "source": [
    "f1.readline()"
   ]
  },
  {
   "cell_type": "code",
   "execution_count": 102,
   "metadata": {},
   "outputs": [],
   "source": [
    "f1.close()"
   ]
  },
  {
   "cell_type": "code",
   "execution_count": 103,
   "metadata": {},
   "outputs": [],
   "source": [
    "import os"
   ]
  },
  {
   "cell_type": "code",
   "execution_count": 104,
   "metadata": {},
   "outputs": [
    {
     "data": {
      "text/plain": [
       "['ArithmeticError',\n",
       " 'AssertionError',\n",
       " 'AttributeError',\n",
       " 'BaseException',\n",
       " 'BlockingIOError',\n",
       " 'BrokenPipeError',\n",
       " 'BufferError',\n",
       " 'BytesWarning',\n",
       " 'ChildProcessError',\n",
       " 'ConnectionAbortedError',\n",
       " 'ConnectionError',\n",
       " 'ConnectionRefusedError',\n",
       " 'ConnectionResetError',\n",
       " 'DeprecationWarning',\n",
       " 'EOFError',\n",
       " 'Ellipsis',\n",
       " 'EnvironmentError',\n",
       " 'Exception',\n",
       " 'False',\n",
       " 'FileExistsError',\n",
       " 'FileNotFoundError',\n",
       " 'FloatingPointError',\n",
       " 'FutureWarning',\n",
       " 'GeneratorExit',\n",
       " 'IOError',\n",
       " 'ImportError',\n",
       " 'ImportWarning',\n",
       " 'IndentationError',\n",
       " 'IndexError',\n",
       " 'InterruptedError',\n",
       " 'IsADirectoryError',\n",
       " 'KeyError',\n",
       " 'KeyboardInterrupt',\n",
       " 'LookupError',\n",
       " 'MemoryError',\n",
       " 'ModuleNotFoundError',\n",
       " 'NameError',\n",
       " 'None',\n",
       " 'NotADirectoryError',\n",
       " 'NotImplemented',\n",
       " 'NotImplementedError',\n",
       " 'OSError',\n",
       " 'OverflowError',\n",
       " 'PendingDeprecationWarning',\n",
       " 'PermissionError',\n",
       " 'ProcessLookupError',\n",
       " 'RecursionError',\n",
       " 'ReferenceError',\n",
       " 'ResourceWarning',\n",
       " 'RuntimeError',\n",
       " 'RuntimeWarning',\n",
       " 'StopAsyncIteration',\n",
       " 'StopIteration',\n",
       " 'SyntaxError',\n",
       " 'SyntaxWarning',\n",
       " 'SystemError',\n",
       " 'SystemExit',\n",
       " 'TabError',\n",
       " 'TimeoutError',\n",
       " 'True',\n",
       " 'TypeError',\n",
       " 'UnboundLocalError',\n",
       " 'UnicodeDecodeError',\n",
       " 'UnicodeEncodeError',\n",
       " 'UnicodeError',\n",
       " 'UnicodeTranslateError',\n",
       " 'UnicodeWarning',\n",
       " 'UserWarning',\n",
       " 'ValueError',\n",
       " 'Warning',\n",
       " 'WindowsError',\n",
       " 'ZeroDivisionError',\n",
       " '__IPYTHON__',\n",
       " '__build_class__',\n",
       " '__debug__',\n",
       " '__doc__',\n",
       " '__import__',\n",
       " '__loader__',\n",
       " '__name__',\n",
       " '__package__',\n",
       " '__spec__',\n",
       " 'abs',\n",
       " 'all',\n",
       " 'any',\n",
       " 'ascii',\n",
       " 'bin',\n",
       " 'bool',\n",
       " 'bytearray',\n",
       " 'bytes',\n",
       " 'callable',\n",
       " 'chr',\n",
       " 'classmethod',\n",
       " 'compile',\n",
       " 'complex',\n",
       " 'copyright',\n",
       " 'credits',\n",
       " 'delattr',\n",
       " 'dict',\n",
       " 'dir',\n",
       " 'display',\n",
       " 'divmod',\n",
       " 'enumerate',\n",
       " 'eval',\n",
       " 'exec',\n",
       " 'filter',\n",
       " 'float',\n",
       " 'format',\n",
       " 'frozenset',\n",
       " 'get_ipython',\n",
       " 'getattr',\n",
       " 'globals',\n",
       " 'hasattr',\n",
       " 'hash',\n",
       " 'help',\n",
       " 'hex',\n",
       " 'id',\n",
       " 'input',\n",
       " 'int',\n",
       " 'isinstance',\n",
       " 'issubclass',\n",
       " 'iter',\n",
       " 'len',\n",
       " 'license',\n",
       " 'list',\n",
       " 'locals',\n",
       " 'map',\n",
       " 'max',\n",
       " 'memoryview',\n",
       " 'min',\n",
       " 'next',\n",
       " 'object',\n",
       " 'oct',\n",
       " 'open',\n",
       " 'ord',\n",
       " 'pow',\n",
       " 'print',\n",
       " 'property',\n",
       " 'range',\n",
       " 'repr',\n",
       " 'reversed',\n",
       " 'round',\n",
       " 'set',\n",
       " 'setattr',\n",
       " 'slice',\n",
       " 'sorted',\n",
       " 'staticmethod',\n",
       " 'str',\n",
       " 'sum',\n",
       " 'super',\n",
       " 'tuple',\n",
       " 'type',\n",
       " 'vars',\n",
       " 'zip']"
      ]
     },
     "execution_count": 104,
     "metadata": {},
     "output_type": "execute_result"
    }
   ],
   "source": [
    "dir(__builtins__)"
   ]
  },
  {
   "cell_type": "code",
   "execution_count": 105,
   "metadata": {},
   "outputs": [
    {
     "data": {
      "text/plain": [
       "['DirEntry',\n",
       " 'F_OK',\n",
       " 'MutableMapping',\n",
       " 'O_APPEND',\n",
       " 'O_BINARY',\n",
       " 'O_CREAT',\n",
       " 'O_EXCL',\n",
       " 'O_NOINHERIT',\n",
       " 'O_RANDOM',\n",
       " 'O_RDONLY',\n",
       " 'O_RDWR',\n",
       " 'O_SEQUENTIAL',\n",
       " 'O_SHORT_LIVED',\n",
       " 'O_TEMPORARY',\n",
       " 'O_TEXT',\n",
       " 'O_TRUNC',\n",
       " 'O_WRONLY',\n",
       " 'P_DETACH',\n",
       " 'P_NOWAIT',\n",
       " 'P_NOWAITO',\n",
       " 'P_OVERLAY',\n",
       " 'P_WAIT',\n",
       " 'PathLike',\n",
       " 'R_OK',\n",
       " 'SEEK_CUR',\n",
       " 'SEEK_END',\n",
       " 'SEEK_SET',\n",
       " 'TMP_MAX',\n",
       " 'W_OK',\n",
       " 'X_OK',\n",
       " '_Environ',\n",
       " '__all__',\n",
       " '__builtins__',\n",
       " '__cached__',\n",
       " '__doc__',\n",
       " '__file__',\n",
       " '__loader__',\n",
       " '__name__',\n",
       " '__package__',\n",
       " '__spec__',\n",
       " '_execvpe',\n",
       " '_exists',\n",
       " '_exit',\n",
       " '_fspath',\n",
       " '_get_exports_list',\n",
       " '_putenv',\n",
       " '_unsetenv',\n",
       " '_wrap_close',\n",
       " 'abc',\n",
       " 'abort',\n",
       " 'access',\n",
       " 'altsep',\n",
       " 'chdir',\n",
       " 'chmod',\n",
       " 'close',\n",
       " 'closerange',\n",
       " 'cpu_count',\n",
       " 'curdir',\n",
       " 'defpath',\n",
       " 'device_encoding',\n",
       " 'devnull',\n",
       " 'dup',\n",
       " 'dup2',\n",
       " 'environ',\n",
       " 'errno',\n",
       " 'error',\n",
       " 'execl',\n",
       " 'execle',\n",
       " 'execlp',\n",
       " 'execlpe',\n",
       " 'execv',\n",
       " 'execve',\n",
       " 'execvp',\n",
       " 'execvpe',\n",
       " 'extsep',\n",
       " 'fdopen',\n",
       " 'fsdecode',\n",
       " 'fsencode',\n",
       " 'fspath',\n",
       " 'fstat',\n",
       " 'fsync',\n",
       " 'ftruncate',\n",
       " 'get_exec_path',\n",
       " 'get_handle_inheritable',\n",
       " 'get_inheritable',\n",
       " 'get_terminal_size',\n",
       " 'getcwd',\n",
       " 'getcwdb',\n",
       " 'getenv',\n",
       " 'getlogin',\n",
       " 'getpid',\n",
       " 'getppid',\n",
       " 'isatty',\n",
       " 'kill',\n",
       " 'linesep',\n",
       " 'link',\n",
       " 'listdir',\n",
       " 'lseek',\n",
       " 'lstat',\n",
       " 'makedirs',\n",
       " 'mkdir',\n",
       " 'name',\n",
       " 'open',\n",
       " 'pardir',\n",
       " 'path',\n",
       " 'pathsep',\n",
       " 'pipe',\n",
       " 'popen',\n",
       " 'putenv',\n",
       " 'read',\n",
       " 'readlink',\n",
       " 'remove',\n",
       " 'removedirs',\n",
       " 'rename',\n",
       " 'renames',\n",
       " 'replace',\n",
       " 'rmdir',\n",
       " 'scandir',\n",
       " 'sep',\n",
       " 'set_handle_inheritable',\n",
       " 'set_inheritable',\n",
       " 'spawnl',\n",
       " 'spawnle',\n",
       " 'spawnv',\n",
       " 'spawnve',\n",
       " 'st',\n",
       " 'startfile',\n",
       " 'stat',\n",
       " 'stat_float_times',\n",
       " 'stat_result',\n",
       " 'statvfs_result',\n",
       " 'strerror',\n",
       " 'supports_bytes_environ',\n",
       " 'supports_dir_fd',\n",
       " 'supports_effective_ids',\n",
       " 'supports_fd',\n",
       " 'supports_follow_symlinks',\n",
       " 'symlink',\n",
       " 'sys',\n",
       " 'system',\n",
       " 'terminal_size',\n",
       " 'times',\n",
       " 'times_result',\n",
       " 'truncate',\n",
       " 'umask',\n",
       " 'uname_result',\n",
       " 'unlink',\n",
       " 'urandom',\n",
       " 'utime',\n",
       " 'waitpid',\n",
       " 'walk',\n",
       " 'write']"
      ]
     },
     "execution_count": 105,
     "metadata": {},
     "output_type": "execute_result"
    }
   ],
   "source": [
    "dir(os)"
   ]
  },
  {
   "cell_type": "code",
   "execution_count": 106,
   "metadata": {},
   "outputs": [],
   "source": [
    "os.rename('test_file.txt','file_manipulations.txt')"
   ]
  },
  {
   "cell_type": "code",
   "execution_count": 107,
   "metadata": {},
   "outputs": [
    {
     "ename": "ValueError",
     "evalue": "I/O operation on closed file.",
     "output_type": "error",
     "traceback": [
      "\u001b[1;31m---------------------------------------------------------------------------\u001b[0m",
      "\u001b[1;31mValueError\u001b[0m                                Traceback (most recent call last)",
      "\u001b[1;32m<ipython-input-107-22c8a5cc1142>\u001b[0m in \u001b[0;36m<module>\u001b[1;34m\u001b[0m\n\u001b[1;32m----> 1\u001b[1;33m \u001b[0mf1\u001b[0m\u001b[1;33m.\u001b[0m\u001b[0mread\u001b[0m\u001b[1;33m(\u001b[0m\u001b[1;33m)\u001b[0m               \u001b[1;31m# because file is closed\u001b[0m\u001b[1;33m\u001b[0m\u001b[1;33m\u001b[0m\u001b[0m\n\u001b[0m",
      "\u001b[1;31mValueError\u001b[0m: I/O operation on closed file."
     ]
    }
   ],
   "source": [
    "f1.read()               # because file is closed"
   ]
  },
  {
   "cell_type": "code",
   "execution_count": 108,
   "metadata": {},
   "outputs": [
    {
     "data": {
      "text/plain": [
       "'E:\\\\STUDY\\\\GIT\\\\aaic_practice\\\\MODULES\\\\Module_1_All_about_Python'"
      ]
     },
     "execution_count": 108,
     "metadata": {},
     "output_type": "execute_result"
    }
   ],
   "source": [
    "os.getcwd()"
   ]
  },
  {
   "cell_type": "code",
   "execution_count": 109,
   "metadata": {},
   "outputs": [],
   "source": [
    "os.chdir('E:\\\\STUDY\\\\PROJECTS\\\\AAIC_Practice')"
   ]
  },
  {
   "cell_type": "code",
   "execution_count": 110,
   "metadata": {},
   "outputs": [
    {
     "data": {
      "text/plain": [
       "'E:\\\\STUDY\\\\PROJECTS\\\\AAIC_Practice'"
      ]
     },
     "execution_count": 110,
     "metadata": {},
     "output_type": "execute_result"
    }
   ],
   "source": [
    "os.getcwd()"
   ]
  },
  {
   "cell_type": "code",
   "execution_count": 111,
   "metadata": {},
   "outputs": [],
   "source": [
    "os.mkdir('VIDEO_PRACTICE_TEST')"
   ]
  },
  {
   "cell_type": "code",
   "execution_count": 112,
   "metadata": {},
   "outputs": [
    {
     "data": {
      "text/plain": [
       "['ASSIGNMENTS', 'INTERVIEW_Qs', 'MODULES', 'VIDEO_PRACTICE_TEST']"
      ]
     },
     "execution_count": 112,
     "metadata": {},
     "output_type": "execute_result"
    }
   ],
   "source": [
    "os.listdir()"
   ]
  },
  {
   "cell_type": "code",
   "execution_count": 113,
   "metadata": {},
   "outputs": [],
   "source": [
    "os.rmdir('VIDEO_PRACTICE_TEST')"
   ]
  },
  {
   "cell_type": "code",
   "execution_count": 114,
   "metadata": {},
   "outputs": [],
   "source": [
    "os.mkdir('VIDEO_PRACTICE_TEST2')"
   ]
  },
  {
   "cell_type": "code",
   "execution_count": 115,
   "metadata": {},
   "outputs": [
    {
     "data": {
      "text/plain": [
       "['ASSIGNMENTS', 'INTERVIEW_Qs', 'MODULES', 'VIDEO_PRACTICE_TEST2']"
      ]
     },
     "execution_count": 115,
     "metadata": {},
     "output_type": "execute_result"
    }
   ],
   "source": [
    "os.listdir()"
   ]
  },
  {
   "cell_type": "code",
   "execution_count": 116,
   "metadata": {},
   "outputs": [],
   "source": [
    "lines = [\"This is not a hellow world!!\", \"This is much more than a hello world!!\", \"Thats my feelings for DS, ML and DL.\"]"
   ]
  },
  {
   "cell_type": "code",
   "execution_count": 117,
   "metadata": {},
   "outputs": [],
   "source": [
    "with open('test_file2.txt','x') as f_test:\n",
    "    f_test.writelines(lines)"
   ]
  },
  {
   "cell_type": "code",
   "execution_count": 118,
   "metadata": {},
   "outputs": [
    {
     "data": {
      "text/plain": [
       "'E:\\\\STUDY\\\\PROJECTS\\\\AAIC_Practice'"
      ]
     },
     "execution_count": 118,
     "metadata": {},
     "output_type": "execute_result"
    }
   ],
   "source": [
    "os.getcwd()"
   ]
  },
  {
   "cell_type": "code",
   "execution_count": 119,
   "metadata": {},
   "outputs": [],
   "source": [
    "import shutil"
   ]
  },
  {
   "cell_type": "code",
   "execution_count": 120,
   "metadata": {},
   "outputs": [
    {
     "data": {
      "text/plain": [
       "'E:\\\\STUDY\\\\PROJECTS\\\\AAIC_Practice\\\\VIDEO_PRACTICE_TEST2\\\\test_file2.txt'"
      ]
     },
     "execution_count": 120,
     "metadata": {},
     "output_type": "execute_result"
    }
   ],
   "source": [
    "shutil.move('test_file2.txt',os.getcwd()+\"\\\\VIDEO_PRACTICE_TEST2\")"
   ]
  },
  {
   "cell_type": "code",
   "execution_count": 121,
   "metadata": {},
   "outputs": [
    {
     "data": {
      "text/plain": [
       "'E:\\\\STUDY\\\\PROJECTS\\\\AAIC_Practice'"
      ]
     },
     "execution_count": 121,
     "metadata": {},
     "output_type": "execute_result"
    }
   ],
   "source": [
    "os.getcwd()"
   ]
  },
  {
   "cell_type": "code",
   "execution_count": 122,
   "metadata": {},
   "outputs": [
    {
     "ename": "OSError",
     "evalue": "[WinError 145] The directory is not empty: 'VIDEO_PRACTICE_TEST2'",
     "output_type": "error",
     "traceback": [
      "\u001b[1;31m---------------------------------------------------------------------------\u001b[0m",
      "\u001b[1;31mOSError\u001b[0m                                   Traceback (most recent call last)",
      "\u001b[1;32m<ipython-input-122-7db81dea85f2>\u001b[0m in \u001b[0;36m<module>\u001b[1;34m\u001b[0m\n\u001b[1;32m----> 1\u001b[1;33m \u001b[0mos\u001b[0m\u001b[1;33m.\u001b[0m\u001b[0mrmdir\u001b[0m\u001b[1;33m(\u001b[0m\u001b[1;34m'VIDEO_PRACTICE_TEST2'\u001b[0m\u001b[1;33m)\u001b[0m           \u001b[1;31m# As said it only deletes a empty directory\u001b[0m\u001b[1;33m\u001b[0m\u001b[1;33m\u001b[0m\u001b[0m\n\u001b[0m",
      "\u001b[1;31mOSError\u001b[0m: [WinError 145] The directory is not empty: 'VIDEO_PRACTICE_TEST2'"
     ]
    }
   ],
   "source": [
    "os.rmdir('VIDEO_PRACTICE_TEST2')           # As said it only deletes a empty directory"
   ]
  },
  {
   "cell_type": "code",
   "execution_count": null,
   "metadata": {},
   "outputs": [],
   "source": [
    "shutil.rmtree('VIDEO_PRACTICE_TEST2')      # This can delete a non-empty directory"
   ]
  },
  {
   "cell_type": "markdown",
   "metadata": {},
   "source": [
    "#### **``DEBUGGER``**"
   ]
  },
  {
   "cell_type": "code",
   "execution_count": 123,
   "metadata": {},
   "outputs": [
    {
     "data": {
      "text/plain": [
       "['Error',\n",
       " 'ExecError',\n",
       " 'ReadError',\n",
       " 'RegistryError',\n",
       " 'SameFileError',\n",
       " 'SpecialFileError',\n",
       " '_ARCHIVE_FORMATS',\n",
       " '_BZ2_SUPPORTED',\n",
       " '_LZMA_SUPPORTED',\n",
       " '_UNPACK_FORMATS',\n",
       " '_ZLIB_SUPPORTED',\n",
       " '__all__',\n",
       " '__builtins__',\n",
       " '__cached__',\n",
       " '__doc__',\n",
       " '__file__',\n",
       " '__loader__',\n",
       " '__name__',\n",
       " '__package__',\n",
       " '__spec__',\n",
       " '_basename',\n",
       " '_check_unpack_options',\n",
       " '_copyxattr',\n",
       " '_destinsrc',\n",
       " '_ensure_directory',\n",
       " '_find_unpack_format',\n",
       " '_get_gid',\n",
       " '_get_uid',\n",
       " '_make_tarball',\n",
       " '_make_zipfile',\n",
       " '_ntuple_diskusage',\n",
       " '_rmtree_safe_fd',\n",
       " '_rmtree_unsafe',\n",
       " '_samefile',\n",
       " '_unpack_tarfile',\n",
       " '_unpack_zipfile',\n",
       " '_use_fd_functions',\n",
       " 'chown',\n",
       " 'collections',\n",
       " 'copy',\n",
       " 'copy2',\n",
       " 'copyfile',\n",
       " 'copyfileobj',\n",
       " 'copymode',\n",
       " 'copystat',\n",
       " 'copytree',\n",
       " 'disk_usage',\n",
       " 'errno',\n",
       " 'fnmatch',\n",
       " 'get_archive_formats',\n",
       " 'get_terminal_size',\n",
       " 'get_unpack_formats',\n",
       " 'getgrnam',\n",
       " 'getpwnam',\n",
       " 'ignore_patterns',\n",
       " 'make_archive',\n",
       " 'move',\n",
       " 'nt',\n",
       " 'os',\n",
       " 'register_archive_format',\n",
       " 'register_unpack_format',\n",
       " 'rmtree',\n",
       " 'stat',\n",
       " 'sys',\n",
       " 'unpack_archive',\n",
       " 'unregister_archive_format',\n",
       " 'unregister_unpack_format',\n",
       " 'which']"
      ]
     },
     "execution_count": 123,
     "metadata": {},
     "output_type": "execute_result"
    }
   ],
   "source": [
    "dir(shutil)"
   ]
  },
  {
   "cell_type": "code",
   "execution_count": 124,
   "metadata": {},
   "outputs": [],
   "source": [
    "import pdb"
   ]
  },
  {
   "cell_type": "code",
   "execution_count": 125,
   "metadata": {},
   "outputs": [
    {
     "data": {
      "text/plain": [
       "['Pdb',\n",
       " 'Restart',\n",
       " 'TESTCMD',\n",
       " '__all__',\n",
       " '__builtins__',\n",
       " '__cached__',\n",
       " '__doc__',\n",
       " '__file__',\n",
       " '__loader__',\n",
       " '__name__',\n",
       " '__package__',\n",
       " '__spec__',\n",
       " '_rstr',\n",
       " '_usage',\n",
       " 'bdb',\n",
       " 'cmd',\n",
       " 'code',\n",
       " 'dis',\n",
       " 'find_function',\n",
       " 'getsourcelines',\n",
       " 'glob',\n",
       " 'help',\n",
       " 'inspect',\n",
       " 'lasti2lineno',\n",
       " 'line_prefix',\n",
       " 'linecache',\n",
       " 'main',\n",
       " 'os',\n",
       " 'pm',\n",
       " 'post_mortem',\n",
       " 'pprint',\n",
       " 're',\n",
       " 'run',\n",
       " 'runcall',\n",
       " 'runctx',\n",
       " 'runeval',\n",
       " 'set_trace',\n",
       " 'signal',\n",
       " 'sys',\n",
       " 'test',\n",
       " 'traceback']"
      ]
     },
     "execution_count": 125,
     "metadata": {},
     "output_type": "execute_result"
    }
   ],
   "source": [
    "dir(pdb)"
   ]
  },
  {
   "cell_type": "code",
   "execution_count": 126,
   "metadata": {},
   "outputs": [],
   "source": [
    "test_ones = [1,2,3,4,5,6,7,8,9]"
   ]
  },
  {
   "cell_type": "code",
   "execution_count": 127,
   "metadata": {},
   "outputs": [
    {
     "data": {
      "text/plain": [
       "[2, 3, 4, 5, 6, 7, 8, 9]"
      ]
     },
     "execution_count": 127,
     "metadata": {},
     "output_type": "execute_result"
    }
   ],
   "source": [
    "test_ones[1:]"
   ]
  },
  {
   "cell_type": "code",
   "execution_count": 128,
   "metadata": {},
   "outputs": [],
   "source": [
    "test_ones[1:4] = [1]"
   ]
  },
  {
   "cell_type": "code",
   "execution_count": 129,
   "metadata": {},
   "outputs": [
    {
     "data": {
      "text/plain": [
       "[1, 1, 5, 6, 7, 8, 9]"
      ]
     },
     "execution_count": 129,
     "metadata": {},
     "output_type": "execute_result"
    }
   ],
   "source": [
    "test_ones"
   ]
  },
  {
   "cell_type": "code",
   "execution_count": 130,
   "metadata": {},
   "outputs": [],
   "source": [
    "ones = [val for val in range(1,11)]"
   ]
  },
  {
   "cell_type": "code",
   "execution_count": 131,
   "metadata": {},
   "outputs": [
    {
     "data": {
      "text/plain": [
       "[1, 2, 3, 4, 5, 6, 7, 8, 9, 10]"
      ]
     },
     "execution_count": 131,
     "metadata": {},
     "output_type": "execute_result"
    }
   ],
   "source": [
    "ones"
   ]
  },
  {
   "cell_type": "code",
   "execution_count": 132,
   "metadata": {},
   "outputs": [],
   "source": [
    "ones[1:] = [1]"
   ]
  },
  {
   "cell_type": "code",
   "execution_count": 133,
   "metadata": {},
   "outputs": [
    {
     "data": {
      "text/plain": [
       "[1, 1]"
      ]
     },
     "execution_count": 133,
     "metadata": {},
     "output_type": "execute_result"
    }
   ],
   "source": [
    "ones"
   ]
  },
  {
   "cell_type": "code",
   "execution_count": 134,
   "metadata": {},
   "outputs": [],
   "source": [
    "import numpy as np"
   ]
  },
  {
   "cell_type": "code",
   "execution_count": 135,
   "metadata": {},
   "outputs": [],
   "source": [
    "np_ones = np.arange(1,11)"
   ]
  },
  {
   "cell_type": "code",
   "execution_count": 136,
   "metadata": {},
   "outputs": [
    {
     "data": {
      "text/plain": [
       "array([ 1,  2,  3,  4,  5,  6,  7,  8,  9, 10])"
      ]
     },
     "execution_count": 136,
     "metadata": {},
     "output_type": "execute_result"
    }
   ],
   "source": [
    "np_ones"
   ]
  },
  {
   "cell_type": "code",
   "execution_count": 137,
   "metadata": {},
   "outputs": [],
   "source": [
    "np_ones[1:] = [1] "
   ]
  },
  {
   "cell_type": "code",
   "execution_count": 143,
   "metadata": {},
   "outputs": [
    {
     "data": {
      "text/plain": [
       "array([1, 1, 1, 1, 1, 1, 1, 1, 1, 1])"
      ]
     },
     "execution_count": 143,
     "metadata": {},
     "output_type": "execute_result"
    }
   ],
   "source": [
    "np_ones"
   ]
  },
  {
   "cell_type": "code",
   "execution_count": 139,
   "metadata": {},
   "outputs": [
    {
     "data": {
      "text/plain": [
       "array([1, 1, 1])"
      ]
     },
     "execution_count": 139,
     "metadata": {},
     "output_type": "execute_result"
    }
   ],
   "source": [
    "np_ones[1:4]"
   ]
  },
  {
   "cell_type": "code",
   "execution_count": 140,
   "metadata": {},
   "outputs": [
    {
     "data": {
      "text/plain": [
       "10"
      ]
     },
     "execution_count": 140,
     "metadata": {},
     "output_type": "execute_result"
    }
   ],
   "source": [
    "len(np_ones)"
   ]
  },
  {
   "cell_type": "code",
   "execution_count": 147,
   "metadata": {},
   "outputs": [],
   "source": [
    "np_ones = [1,2,3,4,5]"
   ]
  },
  {
   "cell_type": "code",
   "execution_count": 154,
   "metadata": {},
   "outputs": [],
   "source": [
    "def multiple_of_4(val):\n",
    "    for n in range(1,len(val)+1,1):\n",
    "        pdb.set_trace()\n",
    "        print(n*4)"
   ]
  },
  {
   "cell_type": "code",
   "execution_count": 156,
   "metadata": {},
   "outputs": [
    {
     "name": "stdout",
     "output_type": "stream",
     "text": [
      "> \u001b[1;32m<ipython-input-154-281fd9f942ac>\u001b[0m(4)\u001b[0;36mmultiple_of_4\u001b[1;34m()\u001b[0m\n",
      "\u001b[1;32m      1 \u001b[1;33m\u001b[1;32mdef\u001b[0m \u001b[0mmultiple_of_4\u001b[0m\u001b[1;33m(\u001b[0m\u001b[0mval\u001b[0m\u001b[1;33m)\u001b[0m\u001b[1;33m:\u001b[0m\u001b[1;33m\u001b[0m\u001b[1;33m\u001b[0m\u001b[0m\n",
      "\u001b[0m\u001b[1;32m      2 \u001b[1;33m    \u001b[1;32mfor\u001b[0m \u001b[0mn\u001b[0m \u001b[1;32min\u001b[0m \u001b[0mrange\u001b[0m\u001b[1;33m(\u001b[0m\u001b[1;36m1\u001b[0m\u001b[1;33m,\u001b[0m\u001b[0mlen\u001b[0m\u001b[1;33m(\u001b[0m\u001b[0mval\u001b[0m\u001b[1;33m)\u001b[0m\u001b[1;33m+\u001b[0m\u001b[1;36m1\u001b[0m\u001b[1;33m,\u001b[0m\u001b[1;36m1\u001b[0m\u001b[1;33m)\u001b[0m\u001b[1;33m:\u001b[0m\u001b[1;33m\u001b[0m\u001b[1;33m\u001b[0m\u001b[0m\n",
      "\u001b[0m\u001b[1;32m      3 \u001b[1;33m        \u001b[0mpdb\u001b[0m\u001b[1;33m.\u001b[0m\u001b[0mset_trace\u001b[0m\u001b[1;33m(\u001b[0m\u001b[1;33m)\u001b[0m\u001b[1;33m\u001b[0m\u001b[1;33m\u001b[0m\u001b[0m\n",
      "\u001b[0m\u001b[1;32m----> 4 \u001b[1;33m        \u001b[0mprint\u001b[0m\u001b[1;33m(\u001b[0m\u001b[0mn\u001b[0m\u001b[1;33m*\u001b[0m\u001b[1;36m4\u001b[0m\u001b[1;33m)\u001b[0m\u001b[1;33m\u001b[0m\u001b[1;33m\u001b[0m\u001b[0m\n",
      "\u001b[0m\n"
     ]
    },
    {
     "name": "stdin",
     "output_type": "stream",
     "text": [
      "ipdb>  h\n"
     ]
    },
    {
     "name": "stdout",
     "output_type": "stream",
     "text": [
      "\n",
      "Documented commands (type help <topic>):\n",
      "========================================\n",
      "EOF    cl         disable  interact  next    psource  rv           undisplay\n",
      "a      clear      display  j         p       q        s            unt      \n",
      "alias  commands   down     jump      pdef    quit     skip_hidden  until    \n",
      "args   condition  enable   l         pdoc    r        source       up       \n",
      "b      cont       exit     list      pfile   restart  step         w        \n",
      "break  continue   h        ll        pinfo   return   tbreak       whatis   \n",
      "bt     d          help     longlist  pinfo2  retval   u            where    \n",
      "c      debug      ignore   n         pp      run      unalias    \n",
      "\n",
      "Miscellaneous help topics:\n",
      "==========================\n",
      "exec  pdb\n",
      "\n"
     ]
    },
    {
     "name": "stdin",
     "output_type": "stream",
     "text": [
      "ipdb>  c\n"
     ]
    },
    {
     "name": "stdout",
     "output_type": "stream",
     "text": [
      "4\n",
      "> \u001b[1;32m<ipython-input-154-281fd9f942ac>\u001b[0m(3)\u001b[0;36mmultiple_of_4\u001b[1;34m()\u001b[0m\n",
      "\u001b[1;32m      1 \u001b[1;33m\u001b[1;32mdef\u001b[0m \u001b[0mmultiple_of_4\u001b[0m\u001b[1;33m(\u001b[0m\u001b[0mval\u001b[0m\u001b[1;33m)\u001b[0m\u001b[1;33m:\u001b[0m\u001b[1;33m\u001b[0m\u001b[1;33m\u001b[0m\u001b[0m\n",
      "\u001b[0m\u001b[1;32m      2 \u001b[1;33m    \u001b[1;32mfor\u001b[0m \u001b[0mn\u001b[0m \u001b[1;32min\u001b[0m \u001b[0mrange\u001b[0m\u001b[1;33m(\u001b[0m\u001b[1;36m1\u001b[0m\u001b[1;33m,\u001b[0m\u001b[0mlen\u001b[0m\u001b[1;33m(\u001b[0m\u001b[0mval\u001b[0m\u001b[1;33m)\u001b[0m\u001b[1;33m+\u001b[0m\u001b[1;36m1\u001b[0m\u001b[1;33m,\u001b[0m\u001b[1;36m1\u001b[0m\u001b[1;33m)\u001b[0m\u001b[1;33m:\u001b[0m\u001b[1;33m\u001b[0m\u001b[1;33m\u001b[0m\u001b[0m\n",
      "\u001b[0m\u001b[1;32m----> 3 \u001b[1;33m        \u001b[0mpdb\u001b[0m\u001b[1;33m.\u001b[0m\u001b[0mset_trace\u001b[0m\u001b[1;33m(\u001b[0m\u001b[1;33m)\u001b[0m\u001b[1;33m\u001b[0m\u001b[1;33m\u001b[0m\u001b[0m\n",
      "\u001b[0m\u001b[1;32m      4 \u001b[1;33m        \u001b[0mprint\u001b[0m\u001b[1;33m(\u001b[0m\u001b[0mn\u001b[0m\u001b[1;33m*\u001b[0m\u001b[1;36m4\u001b[0m\u001b[1;33m)\u001b[0m\u001b[1;33m\u001b[0m\u001b[1;33m\u001b[0m\u001b[0m\n",
      "\u001b[0m\n"
     ]
    },
    {
     "name": "stdin",
     "output_type": "stream",
     "text": [
      "ipdb>  c\n"
     ]
    },
    {
     "name": "stdout",
     "output_type": "stream",
     "text": [
      "8\n",
      "> \u001b[1;32m<ipython-input-154-281fd9f942ac>\u001b[0m(4)\u001b[0;36mmultiple_of_4\u001b[1;34m()\u001b[0m\n",
      "\u001b[1;32m      1 \u001b[1;33m\u001b[1;32mdef\u001b[0m \u001b[0mmultiple_of_4\u001b[0m\u001b[1;33m(\u001b[0m\u001b[0mval\u001b[0m\u001b[1;33m)\u001b[0m\u001b[1;33m:\u001b[0m\u001b[1;33m\u001b[0m\u001b[1;33m\u001b[0m\u001b[0m\n",
      "\u001b[0m\u001b[1;32m      2 \u001b[1;33m    \u001b[1;32mfor\u001b[0m \u001b[0mn\u001b[0m \u001b[1;32min\u001b[0m \u001b[0mrange\u001b[0m\u001b[1;33m(\u001b[0m\u001b[1;36m1\u001b[0m\u001b[1;33m,\u001b[0m\u001b[0mlen\u001b[0m\u001b[1;33m(\u001b[0m\u001b[0mval\u001b[0m\u001b[1;33m)\u001b[0m\u001b[1;33m+\u001b[0m\u001b[1;36m1\u001b[0m\u001b[1;33m,\u001b[0m\u001b[1;36m1\u001b[0m\u001b[1;33m)\u001b[0m\u001b[1;33m:\u001b[0m\u001b[1;33m\u001b[0m\u001b[1;33m\u001b[0m\u001b[0m\n",
      "\u001b[0m\u001b[1;32m      3 \u001b[1;33m        \u001b[0mpdb\u001b[0m\u001b[1;33m.\u001b[0m\u001b[0mset_trace\u001b[0m\u001b[1;33m(\u001b[0m\u001b[1;33m)\u001b[0m\u001b[1;33m\u001b[0m\u001b[1;33m\u001b[0m\u001b[0m\n",
      "\u001b[0m\u001b[1;32m----> 4 \u001b[1;33m        \u001b[0mprint\u001b[0m\u001b[1;33m(\u001b[0m\u001b[0mn\u001b[0m\u001b[1;33m*\u001b[0m\u001b[1;36m4\u001b[0m\u001b[1;33m)\u001b[0m\u001b[1;33m\u001b[0m\u001b[1;33m\u001b[0m\u001b[0m\n",
      "\u001b[0m\n"
     ]
    },
    {
     "name": "stdin",
     "output_type": "stream",
     "text": [
      "ipdb>  c\n"
     ]
    },
    {
     "name": "stdout",
     "output_type": "stream",
     "text": [
      "12\n",
      "> \u001b[1;32m<ipython-input-154-281fd9f942ac>\u001b[0m(3)\u001b[0;36mmultiple_of_4\u001b[1;34m()\u001b[0m\n",
      "\u001b[1;32m      1 \u001b[1;33m\u001b[1;32mdef\u001b[0m \u001b[0mmultiple_of_4\u001b[0m\u001b[1;33m(\u001b[0m\u001b[0mval\u001b[0m\u001b[1;33m)\u001b[0m\u001b[1;33m:\u001b[0m\u001b[1;33m\u001b[0m\u001b[1;33m\u001b[0m\u001b[0m\n",
      "\u001b[0m\u001b[1;32m      2 \u001b[1;33m    \u001b[1;32mfor\u001b[0m \u001b[0mn\u001b[0m \u001b[1;32min\u001b[0m \u001b[0mrange\u001b[0m\u001b[1;33m(\u001b[0m\u001b[1;36m1\u001b[0m\u001b[1;33m,\u001b[0m\u001b[0mlen\u001b[0m\u001b[1;33m(\u001b[0m\u001b[0mval\u001b[0m\u001b[1;33m)\u001b[0m\u001b[1;33m+\u001b[0m\u001b[1;36m1\u001b[0m\u001b[1;33m,\u001b[0m\u001b[1;36m1\u001b[0m\u001b[1;33m)\u001b[0m\u001b[1;33m:\u001b[0m\u001b[1;33m\u001b[0m\u001b[1;33m\u001b[0m\u001b[0m\n",
      "\u001b[0m\u001b[1;32m----> 3 \u001b[1;33m        \u001b[0mpdb\u001b[0m\u001b[1;33m.\u001b[0m\u001b[0mset_trace\u001b[0m\u001b[1;33m(\u001b[0m\u001b[1;33m)\u001b[0m\u001b[1;33m\u001b[0m\u001b[1;33m\u001b[0m\u001b[0m\n",
      "\u001b[0m\u001b[1;32m      4 \u001b[1;33m        \u001b[0mprint\u001b[0m\u001b[1;33m(\u001b[0m\u001b[0mn\u001b[0m\u001b[1;33m*\u001b[0m\u001b[1;36m4\u001b[0m\u001b[1;33m)\u001b[0m\u001b[1;33m\u001b[0m\u001b[1;33m\u001b[0m\u001b[0m\n",
      "\u001b[0m\n"
     ]
    },
    {
     "name": "stdin",
     "output_type": "stream",
     "text": [
      "ipdb>  c\n"
     ]
    },
    {
     "name": "stdout",
     "output_type": "stream",
     "text": [
      "16\n",
      "> \u001b[1;32m<ipython-input-154-281fd9f942ac>\u001b[0m(4)\u001b[0;36mmultiple_of_4\u001b[1;34m()\u001b[0m\n",
      "\u001b[1;32m      1 \u001b[1;33m\u001b[1;32mdef\u001b[0m \u001b[0mmultiple_of_4\u001b[0m\u001b[1;33m(\u001b[0m\u001b[0mval\u001b[0m\u001b[1;33m)\u001b[0m\u001b[1;33m:\u001b[0m\u001b[1;33m\u001b[0m\u001b[1;33m\u001b[0m\u001b[0m\n",
      "\u001b[0m\u001b[1;32m      2 \u001b[1;33m    \u001b[1;32mfor\u001b[0m \u001b[0mn\u001b[0m \u001b[1;32min\u001b[0m \u001b[0mrange\u001b[0m\u001b[1;33m(\u001b[0m\u001b[1;36m1\u001b[0m\u001b[1;33m,\u001b[0m\u001b[0mlen\u001b[0m\u001b[1;33m(\u001b[0m\u001b[0mval\u001b[0m\u001b[1;33m)\u001b[0m\u001b[1;33m+\u001b[0m\u001b[1;36m1\u001b[0m\u001b[1;33m,\u001b[0m\u001b[1;36m1\u001b[0m\u001b[1;33m)\u001b[0m\u001b[1;33m:\u001b[0m\u001b[1;33m\u001b[0m\u001b[1;33m\u001b[0m\u001b[0m\n",
      "\u001b[0m\u001b[1;32m      3 \u001b[1;33m        \u001b[0mpdb\u001b[0m\u001b[1;33m.\u001b[0m\u001b[0mset_trace\u001b[0m\u001b[1;33m(\u001b[0m\u001b[1;33m)\u001b[0m\u001b[1;33m\u001b[0m\u001b[1;33m\u001b[0m\u001b[0m\n",
      "\u001b[0m\u001b[1;32m----> 4 \u001b[1;33m        \u001b[0mprint\u001b[0m\u001b[1;33m(\u001b[0m\u001b[0mn\u001b[0m\u001b[1;33m*\u001b[0m\u001b[1;36m4\u001b[0m\u001b[1;33m)\u001b[0m\u001b[1;33m\u001b[0m\u001b[1;33m\u001b[0m\u001b[0m\n",
      "\u001b[0m\n"
     ]
    },
    {
     "name": "stdin",
     "output_type": "stream",
     "text": [
      "ipdb>  c\n"
     ]
    },
    {
     "name": "stdout",
     "output_type": "stream",
     "text": [
      "20\n"
     ]
    }
   ],
   "source": [
    "multiple_of_4(np_ones)"
   ]
  },
  {
   "cell_type": "code",
   "execution_count": 157,
   "metadata": {},
   "outputs": [
    {
     "name": "stdout",
     "output_type": "stream",
     "text": [
      "> \u001b[1;32m<ipython-input-154-281fd9f942ac>\u001b[0m(4)\u001b[0;36mmultiple_of_4\u001b[1;34m()\u001b[0m\n",
      "\u001b[1;32m      1 \u001b[1;33m\u001b[1;32mdef\u001b[0m \u001b[0mmultiple_of_4\u001b[0m\u001b[1;33m(\u001b[0m\u001b[0mval\u001b[0m\u001b[1;33m)\u001b[0m\u001b[1;33m:\u001b[0m\u001b[1;33m\u001b[0m\u001b[1;33m\u001b[0m\u001b[0m\n",
      "\u001b[0m\u001b[1;32m      2 \u001b[1;33m    \u001b[1;32mfor\u001b[0m \u001b[0mn\u001b[0m \u001b[1;32min\u001b[0m \u001b[0mrange\u001b[0m\u001b[1;33m(\u001b[0m\u001b[1;36m1\u001b[0m\u001b[1;33m,\u001b[0m\u001b[0mlen\u001b[0m\u001b[1;33m(\u001b[0m\u001b[0mval\u001b[0m\u001b[1;33m)\u001b[0m\u001b[1;33m+\u001b[0m\u001b[1;36m1\u001b[0m\u001b[1;33m,\u001b[0m\u001b[1;36m1\u001b[0m\u001b[1;33m)\u001b[0m\u001b[1;33m:\u001b[0m\u001b[1;33m\u001b[0m\u001b[1;33m\u001b[0m\u001b[0m\n",
      "\u001b[0m\u001b[1;32m      3 \u001b[1;33m        \u001b[0mpdb\u001b[0m\u001b[1;33m.\u001b[0m\u001b[0mset_trace\u001b[0m\u001b[1;33m(\u001b[0m\u001b[1;33m)\u001b[0m\u001b[1;33m\u001b[0m\u001b[1;33m\u001b[0m\u001b[0m\n",
      "\u001b[0m\u001b[1;32m----> 4 \u001b[1;33m        \u001b[0mprint\u001b[0m\u001b[1;33m(\u001b[0m\u001b[0mn\u001b[0m\u001b[1;33m*\u001b[0m\u001b[1;36m4\u001b[0m\u001b[1;33m)\u001b[0m\u001b[1;33m\u001b[0m\u001b[1;33m\u001b[0m\u001b[0m\n",
      "\u001b[0m\n"
     ]
    },
    {
     "name": "stdin",
     "output_type": "stream",
     "text": [
      "ipdb>  locals()\n"
     ]
    },
    {
     "name": "stdout",
     "output_type": "stream",
     "text": [
      "{'n': 1, 'val': [1, 2, 3, 4, 5]}\n"
     ]
    },
    {
     "name": "stdin",
     "output_type": "stream",
     "text": [
      "ipdb>  c\n"
     ]
    },
    {
     "name": "stdout",
     "output_type": "stream",
     "text": [
      "4\n",
      "> \u001b[1;32m<ipython-input-154-281fd9f942ac>\u001b[0m(3)\u001b[0;36mmultiple_of_4\u001b[1;34m()\u001b[0m\n",
      "\u001b[1;32m      1 \u001b[1;33m\u001b[1;32mdef\u001b[0m \u001b[0mmultiple_of_4\u001b[0m\u001b[1;33m(\u001b[0m\u001b[0mval\u001b[0m\u001b[1;33m)\u001b[0m\u001b[1;33m:\u001b[0m\u001b[1;33m\u001b[0m\u001b[1;33m\u001b[0m\u001b[0m\n",
      "\u001b[0m\u001b[1;32m      2 \u001b[1;33m    \u001b[1;32mfor\u001b[0m \u001b[0mn\u001b[0m \u001b[1;32min\u001b[0m \u001b[0mrange\u001b[0m\u001b[1;33m(\u001b[0m\u001b[1;36m1\u001b[0m\u001b[1;33m,\u001b[0m\u001b[0mlen\u001b[0m\u001b[1;33m(\u001b[0m\u001b[0mval\u001b[0m\u001b[1;33m)\u001b[0m\u001b[1;33m+\u001b[0m\u001b[1;36m1\u001b[0m\u001b[1;33m,\u001b[0m\u001b[1;36m1\u001b[0m\u001b[1;33m)\u001b[0m\u001b[1;33m:\u001b[0m\u001b[1;33m\u001b[0m\u001b[1;33m\u001b[0m\u001b[0m\n",
      "\u001b[0m\u001b[1;32m----> 3 \u001b[1;33m        \u001b[0mpdb\u001b[0m\u001b[1;33m.\u001b[0m\u001b[0mset_trace\u001b[0m\u001b[1;33m(\u001b[0m\u001b[1;33m)\u001b[0m\u001b[1;33m\u001b[0m\u001b[1;33m\u001b[0m\u001b[0m\n",
      "\u001b[0m\u001b[1;32m      4 \u001b[1;33m        \u001b[0mprint\u001b[0m\u001b[1;33m(\u001b[0m\u001b[0mn\u001b[0m\u001b[1;33m*\u001b[0m\u001b[1;36m4\u001b[0m\u001b[1;33m)\u001b[0m\u001b[1;33m\u001b[0m\u001b[1;33m\u001b[0m\u001b[0m\n",
      "\u001b[0m\n"
     ]
    },
    {
     "name": "stdin",
     "output_type": "stream",
     "text": [
      "ipdb>  c\n"
     ]
    },
    {
     "name": "stdout",
     "output_type": "stream",
     "text": [
      "8\n",
      "> \u001b[1;32m<ipython-input-154-281fd9f942ac>\u001b[0m(4)\u001b[0;36mmultiple_of_4\u001b[1;34m()\u001b[0m\n",
      "\u001b[1;32m      1 \u001b[1;33m\u001b[1;32mdef\u001b[0m \u001b[0mmultiple_of_4\u001b[0m\u001b[1;33m(\u001b[0m\u001b[0mval\u001b[0m\u001b[1;33m)\u001b[0m\u001b[1;33m:\u001b[0m\u001b[1;33m\u001b[0m\u001b[1;33m\u001b[0m\u001b[0m\n",
      "\u001b[0m\u001b[1;32m      2 \u001b[1;33m    \u001b[1;32mfor\u001b[0m \u001b[0mn\u001b[0m \u001b[1;32min\u001b[0m \u001b[0mrange\u001b[0m\u001b[1;33m(\u001b[0m\u001b[1;36m1\u001b[0m\u001b[1;33m,\u001b[0m\u001b[0mlen\u001b[0m\u001b[1;33m(\u001b[0m\u001b[0mval\u001b[0m\u001b[1;33m)\u001b[0m\u001b[1;33m+\u001b[0m\u001b[1;36m1\u001b[0m\u001b[1;33m,\u001b[0m\u001b[1;36m1\u001b[0m\u001b[1;33m)\u001b[0m\u001b[1;33m:\u001b[0m\u001b[1;33m\u001b[0m\u001b[1;33m\u001b[0m\u001b[0m\n",
      "\u001b[0m\u001b[1;32m      3 \u001b[1;33m        \u001b[0mpdb\u001b[0m\u001b[1;33m.\u001b[0m\u001b[0mset_trace\u001b[0m\u001b[1;33m(\u001b[0m\u001b[1;33m)\u001b[0m\u001b[1;33m\u001b[0m\u001b[1;33m\u001b[0m\u001b[0m\n",
      "\u001b[0m\u001b[1;32m----> 4 \u001b[1;33m        \u001b[0mprint\u001b[0m\u001b[1;33m(\u001b[0m\u001b[0mn\u001b[0m\u001b[1;33m*\u001b[0m\u001b[1;36m4\u001b[0m\u001b[1;33m)\u001b[0m\u001b[1;33m\u001b[0m\u001b[1;33m\u001b[0m\u001b[0m\n",
      "\u001b[0m\n"
     ]
    },
    {
     "name": "stdin",
     "output_type": "stream",
     "text": [
      "ipdb>  locals()\n"
     ]
    },
    {
     "name": "stdout",
     "output_type": "stream",
     "text": [
      "{'n': 3, 'val': [1, 2, 3, 4, 5]}\n"
     ]
    },
    {
     "name": "stdin",
     "output_type": "stream",
     "text": [
      "ipdb>  globals()\n"
     ]
    },
    {
     "name": "stdout",
     "output_type": "stream",
     "text": [
      "{'__name__': '__main__', '__doc__': 'Automatically created module for IPython interactive environment', '__package__': None, '__loader__': None, '__spec__': None, '__builtin__': <module 'builtins' (built-in)>, '__builtins__': <module 'builtins' (built-in)>, '_ih': ['', 'def print_name(name):\\n    \"\"\"This function prints the name of the person.\"\"\"\\n    print(name)', \"print_name('Rajesh')\", 'print_name.__doc__', 'num1 = 98\\nnum2 = 78', 'def compute_hcf(num1, num2):\\n    \"\"\"\\n    This function will compute the HCF of the given numbers.\\n    \"\"\"\\n    if num1 > num2:\\n        smaller = num2\\n    else:\\n        smaller = num1\\n\\n    hcf = []\\n\\n    for num in range(1,smaller+1):\\n        if num1%num == 0 and num2%num == 0:\\n            hcf.append(num)\\n    return hcf[-1]', 'print(\"HCF of 98 and 78 is {}\".format(compute_hcf(num1,num2)))', 'num1, num2 = 4,16', 'print(\"HCF of {} and {} is {}\".format(num1, num2, compute_hcf(num1,num2)))', 'num1, num2 = 16, 96', 'print(\"HCF of {} and {} is {}\".format(num1, num2, compute_hcf(num1,num2)))', 'abs(-44545)', \"abs('Function name')\", 'os.getcwd()', 'len(np_ones)', 'def print_name(name):\\n    \"\"\"This function prints the name of the person.\"\"\"\\n    print(name)', \"print_name('Rajesh')\", 'print_name.__doc__', 'num1 = 98\\nnum2 = 78', 'def compute_hcf(num1, num2):\\n    \"\"\"\\n    This function will compute the HCF of the given numbers.\\n    \"\"\"\\n    if num1 > num2:\\n        smaller = num2\\n    else:\\n        smaller = num1\\n\\n    hcf = []\\n\\n    for num in range(1,smaller+1):\\n        if num1%num == 0 and num2%num == 0:\\n            hcf.append(num)\\n    return hcf[-1]', 'print(\"HCF of 98 and 78 is {}\".format(compute_hcf(num1,num2)))', 'num1, num2 = 4,16', 'print(\"HCF of {} and {} is {}\".format(num1, num2, compute_hcf(num1,num2)))', 'num1, num2 = 16, 96', 'print(\"HCF of {} and {} is {}\".format(num1, num2, compute_hcf(num1,num2)))', 'abs(-44545)', \"abs('Function name')\", 'abs(-89.8475)', 'divmod(4,2)             # Returns quotient and remainder', 'divmod(8,3)', 'all([1,2,3,4])                # it returns the bool(x) or bool for all values of x', 'all([1,2,3,4,])', 'all([1,2,3,4,0])              # 0 in python is False internally thus it returned False', 'all([False,1,2,3,4])', 'bool(7)', \"bool('X')\", 'bool(0)', 'bool(-1)', 'import pandas', 'print(dir(pandas))', \"numbers = [10,20,30,40,50]\\n\\nfor num1 , num2 in enumerate(numbers):\\n    print(num1, ' || ', num2)\", 'for idx, num in enumerate(numbers):\\n    print(\"Index ---> {} && Number ---> {}\".format(idx,num))', \"for idx, num in enumerate(numbers,500):\\n    print(idx, ' ||| ', num)\", 'def fil_f(num):\\n    return num >= abs(num)', 'list(filter(fil_f,[1,2,3,4,5,6,7,8,9]))', 'tuple(filter(fil_f,[1,2,3,4,5,6,7,8,9]))', 'set(filter(fil_f,[1,2,3,4,5,6,7,8,9]))', 'set(filter(fil_f,[1,2,3,4,5,6,7,8,9,0,-1,-2,-3,-4]))', 'scores = {10,39,89,99,105,175}', 'isinstance(scores,list)', 'isinstance(scores,dict)', 'isinstance(scores,tuple)', 'isinstance(scores,set)', 'def divide_num_by_4(num):\\n    return num/4', 'list(map(divide_num_by_4,scores))', 'from functools import reduce', 'def cume(val1, val2):\\n    return val1+val2', 'nums = [1,2,3,4,5]', 'reduce(cume,nums)', \"def hello_world(**kwargs):\\n    return (kwargs['first_name'], kwargs['middle_name'],kwargs['last_name'])\", \"hello_world(first_name='Rajesh',middle_name='Kumar',last_name='sharma',an_name='titu')\", 'get_ipython().run_line_magic(\\'timeit\\', \"hello_world(first_name=\\'Rajesh\\',middle_name=\\'Kumar\\',last_name=\\'sharma\\')\")', \"def hello_world(**kwargs):\\n    print (kwargs['first_name'], kwargs['middle_name'],kwargs['last_name'])\", \"hello_world(first_name='Rajesh',middle_name='Kumar',last_name='sharma')\", \"hello_world(first_name='Rajesh',middle_name='Kumar',last_name='sharma',an_name='titu')\", 'def name_printing(*names):\\n    for l_name in names:\\n        print(\"First name is Rajesh and Last name is {0}\".format(l_name))', \"name_printing('sharma','kumar','kapoor')\", 'def factorial(num):\\n    return num if num == 1 else num * factorial(num-1)', 'factorial(5)', 'def fibonacci(num):\\n    return num if num <=1 else fibonacci(num-1) + fibonacci(num-2)', 'nums = range(0,10)', 'for num in nums:\\n    print(fibonacci(num))', 'sqr = lambda x: x**2', '[sqr(num) for num in nums]', 'sum_of_2s = lambda x,y : x+y', 'sum_of_2s(3,5)', 'nums = [1,2,3,4,5,6,7,8,9]', 'nums', 'from functools import reduce', 'sum_list = reduce(lambda x,y:x+y,nums)', 'sum_list', 'nums', 'reduce(lambda x,y:x+y,map(lambda x : x/2,filter(lambda x: x%2==0,nums)))', \"f = open('test_file.txt','x')\", 'f.write(\"I\\'m Rajesh Sharma and one day I\\'ll be a Data Scientist.\")', 'f.close()', \"f1 = open('test_file.txt','r')\", 'f1.read()', 'f1.tell()', 'f1.seek(1)', 'f1.tell()', 'f1.read(5)', 'f1.seek(50)', 'f1.read()', 'f1.tell()', 'type(f1.readlines())', 'type(f1.readline())', 'f1.seek(20)', 'f1.readlines()', 'f1.readline()', 'f1.seek(20)', 'f1.readline()', 'f1.close()', 'import os', 'dir(__builtins__)', 'dir(os)', \"os.rename('test_file.txt','file_manipulations.txt')\", 'f1.read()               # because file is closed', 'os.getcwd()', \"os.chdir('E:\\\\\\\\STUDY\\\\\\\\PROJECTS\\\\\\\\AAIC_Practice')\", 'os.getcwd()', \"os.mkdir('VIDEO_PRACTICE_TEST')\", 'os.listdir()', \"os.rmdir('VIDEO_PRACTICE_TEST')\", \"os.mkdir('VIDEO_PRACTICE_TEST2')\", 'os.listdir()', 'lines = [\"This is not a hellow world!!\", \"This is much more than a hello world!!\", \"Thats my feelings for DS, ML and DL.\"]', \"with open('test_file2.txt','x') as f_test:\\n    f_test.writelines(lines)\", 'os.getcwd()', 'import shutil', 'shutil.move(\\'test_file2.txt\\',os.getcwd()+\"\\\\\\\\VIDEO_PRACTICE_TEST2\")', 'os.getcwd()', \"os.rmdir('VIDEO_PRACTICE_TEST2')           # As said it only deletes a empty directory\", 'dir(shutil)', 'import pdb', 'dir(pdb)', 'test_ones = [1,2,3,4,5,6,7,8,9]', 'test_ones[1:]', 'test_ones[1:4] = [1]', 'test_ones', 'ones = [val for val in range(1,11)]', 'ones', 'ones[1:] = [1]', 'ones', 'import numpy as np', 'np_ones = np.arange(1,11)', 'np_ones', 'np_ones[1:] = [1] ', 'np_ones', 'np_ones[1:4]', 'len(np_ones)', 'def multiple_of_4(val):\\n    for n in range(1,len(val)+1,1):\\n        pdb.set_trace()\\n        print(n*4)', 'multiple_of_4(np_ones)', 'np_ones', 'def multiple_of_4(val):\\n    for n in range(1,len(val)+1,1):\\n        pdb.set_trace()\\n        print(n*4)', 'multiple_of_4(np_ones)', 'multiple_of_4(np_ones)', 'np_ones = [1,2,3,4,5]', 'def multiple_of_4(val):\\n    for n in range(1,len(val)+1,1):\\n        pdb.set_trace()\\n        print(n*4)', 'multiple_of_4(np_ones)', 'def multiple_of_4(val):\\n    for n in range(1,len(val)+1,1):\\n        pdb.set_trace()\\n        print(n*4)', 'multiple_of_4(np_ones)', 'def multiple_of_4(val):\\n    for n in range(1,len(val)+1,1):\\n#         pdb.set_trace()\\n        print(n*4)', 'multiple_of_4(np_ones)', 'def multiple_of_4(val):\\n    for n in range(1,len(val)+1,1):\\n        pdb.set_trace()\\n        print(n*4)', 'multiple_of_4(np_ones)', 'multiple_of_4(np_ones)', 'multiple_of_4(np_ones)'], '_oh': {3: 'This function prints the name of the person.', 11: 44545, 17: 'This function prints the name of the person.', 25: 44545, 27: 89.8475, 28: (2, 0), 29: (2, 2), 30: True, 31: True, 32: False, 33: False, 34: True, 35: True, 36: False, 37: True, 44: [1, 2, 3, 4, 5, 6, 7, 8, 9], 45: (1, 2, 3, 4, 5, 6, 7, 8, 9), 46: {1, 2, 3, 4, 5, 6, 7, 8, 9}, 47: {0, 1, 2, 3, 4, 5, 6, 7, 8, 9}, 49: False, 50: False, 51: False, 52: True, 54: [24.75, 9.75, 26.25, 2.5, 43.75, 22.25], 58: 15, 60: ('Rajesh', 'Kumar', 'sharma'), 68: 120, 73: [0, 1, 4, 9, 16, 25, 36, 49, 64, 81], 75: 8, 77: [1, 2, 3, 4, 5, 6, 7, 8, 9], 80: 45, 81: [1, 2, 3, 4, 5, 6, 7, 8, 9], 82: 10.0, 84: 55, 87: \"I'm Rajesh Sharma and one day I'll be a Data Scientist.\", 88: 55, 89: 1, 90: 1, 91: \"'m Ra\", 92: 50, 93: 'tist.', 94: 55, 95: <class 'list'>, 96: <class 'str'>, 97: 20, 98: [\"d one day I'll be a Data Scientist.\"], 99: '', 100: 20, 101: \"d one day I'll be a Data Scientist.\", 104: ['ArithmeticError', 'AssertionError', 'AttributeError', 'BaseException', 'BlockingIOError', 'BrokenPipeError', 'BufferError', 'BytesWarning', 'ChildProcessError', 'ConnectionAbortedError', 'ConnectionError', 'ConnectionRefusedError', 'ConnectionResetError', 'DeprecationWarning', 'EOFError', 'Ellipsis', 'EnvironmentError', 'Exception', 'False', 'FileExistsError', 'FileNotFoundError', 'FloatingPointError', 'FutureWarning', 'GeneratorExit', 'IOError', 'ImportError', 'ImportWarning', 'IndentationError', 'IndexError', 'InterruptedError', 'IsADirectoryError', 'KeyError', 'KeyboardInterrupt', 'LookupError', 'MemoryError', 'ModuleNotFoundError', 'NameError', 'None', 'NotADirectoryError', 'NotImplemented', 'NotImplementedError', 'OSError', 'OverflowError', 'PendingDeprecationWarning', 'PermissionError', 'ProcessLookupError', 'RecursionError', 'ReferenceError', 'ResourceWarning', 'RuntimeError', 'RuntimeWarning', 'StopAsyncIteration', 'StopIteration', 'SyntaxError', 'SyntaxWarning', 'SystemError', 'SystemExit', 'TabError', 'TimeoutError', 'True', 'TypeError', 'UnboundLocalError', 'UnicodeDecodeError', 'UnicodeEncodeError', 'UnicodeError', 'UnicodeTranslateError', 'UnicodeWarning', 'UserWarning', 'ValueError', 'Warning', 'WindowsError', 'ZeroDivisionError', '__IPYTHON__', '__build_class__', '__debug__', '__doc__', '__import__', '__loader__', '__name__', '__package__', '__spec__', 'abs', 'all', 'any', 'ascii', 'bin', 'bool', 'bytearray', 'bytes', 'callable', 'chr', 'classmethod', 'compile', 'complex', 'copyright', 'credits', 'delattr', 'dict', 'dir', 'display', 'divmod', 'enumerate', 'eval', 'exec', 'filter', 'float', 'format', 'frozenset', 'get_ipython', 'getattr', 'globals', 'hasattr', 'hash', 'help', 'hex', 'id', 'input', 'int', 'isinstance', 'issubclass', 'iter', 'len', 'license', 'list', 'locals', 'map', 'max', 'memoryview', 'min', 'next', 'object', 'oct', 'open', 'ord', 'pow', 'print', 'property', 'range', 'repr', 'reversed', 'round', 'set', 'setattr', 'slice', 'sorted', 'staticmethod', 'str', 'sum', 'super', 'tuple', 'type', 'vars', 'zip'], 105: ['DirEntry', 'F_OK', 'MutableMapping', 'O_APPEND', 'O_BINARY', 'O_CREAT', 'O_EXCL', 'O_NOINHERIT', 'O_RANDOM', 'O_RDONLY', 'O_RDWR', 'O_SEQUENTIAL', 'O_SHORT_LIVED', 'O_TEMPORARY', 'O_TEXT', 'O_TRUNC', 'O_WRONLY', 'P_DETACH', 'P_NOWAIT', 'P_NOWAITO', 'P_OVERLAY', 'P_WAIT', 'PathLike', 'R_OK', 'SEEK_CUR', 'SEEK_END', 'SEEK_SET', 'TMP_MAX', 'W_OK', 'X_OK', '_Environ', '__all__', '__builtins__', '__cached__', '__doc__', '__file__', '__loader__', '__name__', '__package__', '__spec__', '_execvpe', '_exists', '_exit', '_fspath', '_get_exports_list', '_putenv', '_unsetenv', '_wrap_close', 'abc', 'abort', 'access', 'altsep', 'chdir', 'chmod', 'close', 'closerange', 'cpu_count', 'curdir', 'defpath', 'device_encoding', 'devnull', 'dup', 'dup2', 'environ', 'errno', 'error', 'execl', 'execle', 'execlp', 'execlpe', 'execv', 'execve', 'execvp', 'execvpe', 'extsep', 'fdopen', 'fsdecode', 'fsencode', 'fspath', 'fstat', 'fsync', 'ftruncate', 'get_exec_path', 'get_handle_inheritable', 'get_inheritable', 'get_terminal_size', 'getcwd', 'getcwdb', 'getenv', 'getlogin', 'getpid', 'getppid', 'isatty', 'kill', 'linesep', 'link', 'listdir', 'lseek', 'lstat', 'makedirs', 'mkdir', 'name', 'open', 'pardir', 'path', 'pathsep', 'pipe', 'popen', 'putenv', 'read', 'readlink', 'remove', 'removedirs', 'rename', 'renames', 'replace', 'rmdir', 'scandir', 'sep', 'set_handle_inheritable', 'set_inheritable', 'spawnl', 'spawnle', 'spawnv', 'spawnve', 'st', 'startfile', 'stat', 'stat_float_times', 'stat_result', 'statvfs_result', 'strerror', 'supports_bytes_environ', 'supports_dir_fd', 'supports_effective_ids', 'supports_fd', 'supports_follow_symlinks', 'symlink', 'sys', 'system', 'terminal_size', 'times', 'times_result', 'truncate', 'umask', 'uname_result', 'unlink', 'urandom', 'utime', 'waitpid', 'walk', 'write'], 108: 'E:\\\\STUDY\\\\GIT\\\\aaic_practice\\\\MODULES\\\\Module_1_All_about_Python', 110: 'E:\\\\STUDY\\\\PROJECTS\\\\AAIC_Practice', 112: ['ASSIGNMENTS', 'INTERVIEW_Qs', 'MODULES', 'VIDEO_PRACTICE_TEST'], 115: ['ASSIGNMENTS', 'INTERVIEW_Qs', 'MODULES', 'VIDEO_PRACTICE_TEST2'], 118: 'E:\\\\STUDY\\\\PROJECTS\\\\AAIC_Practice', 120: 'E:\\\\STUDY\\\\PROJECTS\\\\AAIC_Practice\\\\VIDEO_PRACTICE_TEST2\\\\test_file2.txt', 121: 'E:\\\\STUDY\\\\PROJECTS\\\\AAIC_Practice', 123: ['Error', 'ExecError', 'ReadError', 'RegistryError', 'SameFileError', 'SpecialFileError', '_ARCHIVE_FORMATS', '_BZ2_SUPPORTED', '_LZMA_SUPPORTED', '_UNPACK_FORMATS', '_ZLIB_SUPPORTED', '__all__', '__builtins__', '__cached__', '__doc__', '__file__', '__loader__', '__name__', '__package__', '__spec__', '_basename', '_check_unpack_options', '_copyxattr', '_destinsrc', '_ensure_directory', '_find_unpack_format', '_get_gid', '_get_uid', '_make_tarball', '_make_zipfile', '_ntuple_diskusage', '_rmtree_safe_fd', '_rmtree_unsafe', '_samefile', '_unpack_tarfile', '_unpack_zipfile', '_use_fd_functions', 'chown', 'collections', 'copy', 'copy2', 'copyfile', 'copyfileobj', 'copymode', 'copystat', 'copytree', 'disk_usage', 'errno', 'fnmatch', 'get_archive_formats', 'get_terminal_size', 'get_unpack_formats', 'getgrnam', 'getpwnam', 'ignore_patterns', 'make_archive', 'move', 'nt', 'os', 'register_archive_format', 'register_unpack_format', 'rmtree', 'stat', 'sys', 'unpack_archive', 'unregister_archive_format', 'unregister_unpack_format', 'which'], 125: ['Pdb', 'Restart', 'TESTCMD', '__all__', '__builtins__', '__cached__', '__doc__', '__file__', '__loader__', '__name__', '__package__', '__spec__', '_rstr', '_usage', 'bdb', 'cmd', 'code', 'dis', 'find_function', 'getsourcelines', 'glob', 'help', 'inspect', 'lasti2lineno', 'line_prefix', 'linecache', 'main', 'os', 'pm', 'post_mortem', 'pprint', 're', 'run', 'runcall', 'runctx', 'runeval', 'set_trace', 'signal', 'sys', 'test', 'traceback'], 127: [2, 3, 4, 5, 6, 7, 8, 9], 129: [1, 1, 5, 6, 7, 8, 9], 131: [1, 1], 133: [1, 1], 136: array([1, 1, 1, 1, 1, 1, 1, 1, 1, 1]), 138: array([1, 1, 1, 1, 1, 1, 1, 1, 1, 1]), 139: array([1, 1, 1]), 140: 10, 143: array([1, 1, 1, 1, 1, 1, 1, 1, 1, 1])}, '_dh': ['E:\\\\STUDY\\\\GIT\\\\aaic_practice\\\\MODULES\\\\Module_1_All_about_Python'], 'In': ['', 'def print_name(name):\\n    \"\"\"This function prints the name of the person.\"\"\"\\n    print(name)', \"print_name('Rajesh')\", 'print_name.__doc__', 'num1 = 98\\nnum2 = 78', 'def compute_hcf(num1, num2):\\n    \"\"\"\\n    This function will compute the HCF of the given numbers.\\n    \"\"\"\\n    if num1 > num2:\\n        smaller = num2\\n    else:\\n        smaller = num1\\n\\n    hcf = []\\n\\n    for num in range(1,smaller+1):\\n        if num1%num == 0 and num2%num == 0:\\n            hcf.append(num)\\n    return hcf[-1]', 'print(\"HCF of 98 and 78 is {}\".format(compute_hcf(num1,num2)))', 'num1, num2 = 4,16', 'print(\"HCF of {} and {} is {}\".format(num1, num2, compute_hcf(num1,num2)))', 'num1, num2 = 16, 96', 'print(\"HCF of {} and {} is {}\".format(num1, num2, compute_hcf(num1,num2)))', 'abs(-44545)', \"abs('Function name')\", 'os.getcwd()', 'len(np_ones)', 'def print_name(name):\\n    \"\"\"This function prints the name of the person.\"\"\"\\n    print(name)', \"print_name('Rajesh')\", 'print_name.__doc__', 'num1 = 98\\nnum2 = 78', 'def compute_hcf(num1, num2):\\n    \"\"\"\\n    This function will compute the HCF of the given numbers.\\n    \"\"\"\\n    if num1 > num2:\\n        smaller = num2\\n    else:\\n        smaller = num1\\n\\n    hcf = []\\n\\n    for num in range(1,smaller+1):\\n        if num1%num == 0 and num2%num == 0:\\n            hcf.append(num)\\n    return hcf[-1]', 'print(\"HCF of 98 and 78 is {}\".format(compute_hcf(num1,num2)))', 'num1, num2 = 4,16', 'print(\"HCF of {} and {} is {}\".format(num1, num2, compute_hcf(num1,num2)))', 'num1, num2 = 16, 96', 'print(\"HCF of {} and {} is {}\".format(num1, num2, compute_hcf(num1,num2)))', 'abs(-44545)', \"abs('Function name')\", 'abs(-89.8475)', 'divmod(4,2)             # Returns quotient and remainder', 'divmod(8,3)', 'all([1,2,3,4])                # it returns the bool(x) or bool for all values of x', 'all([1,2,3,4,])', 'all([1,2,3,4,0])              # 0 in python is False internally thus it returned False', 'all([False,1,2,3,4])', 'bool(7)', \"bool('X')\", 'bool(0)', 'bool(-1)', 'import pandas', 'print(dir(pandas))', \"numbers = [10,20,30,40,50]\\n\\nfor num1 , num2 in enumerate(numbers):\\n    print(num1, ' || ', num2)\", 'for idx, num in enumerate(numbers):\\n    print(\"Index ---> {} && Number ---> {}\".format(idx,num))', \"for idx, num in enumerate(numbers,500):\\n    print(idx, ' ||| ', num)\", 'def fil_f(num):\\n    return num >= abs(num)', 'list(filter(fil_f,[1,2,3,4,5,6,7,8,9]))', 'tuple(filter(fil_f,[1,2,3,4,5,6,7,8,9]))', 'set(filter(fil_f,[1,2,3,4,5,6,7,8,9]))', 'set(filter(fil_f,[1,2,3,4,5,6,7,8,9,0,-1,-2,-3,-4]))', 'scores = {10,39,89,99,105,175}', 'isinstance(scores,list)', 'isinstance(scores,dict)', 'isinstance(scores,tuple)', 'isinstance(scores,set)', 'def divide_num_by_4(num):\\n    return num/4', 'list(map(divide_num_by_4,scores))', 'from functools import reduce', 'def cume(val1, val2):\\n    return val1+val2', 'nums = [1,2,3,4,5]', 'reduce(cume,nums)', \"def hello_world(**kwargs):\\n    return (kwargs['first_name'], kwargs['middle_name'],kwargs['last_name'])\", \"hello_world(first_name='Rajesh',middle_name='Kumar',last_name='sharma',an_name='titu')\", 'get_ipython().run_line_magic(\\'timeit\\', \"hello_world(first_name=\\'Rajesh\\',middle_name=\\'Kumar\\',last_name=\\'sharma\\')\")', \"def hello_world(**kwargs):\\n    print (kwargs['first_name'], kwargs['middle_name'],kwargs['last_name'])\", \"hello_world(first_name='Rajesh',middle_name='Kumar',last_name='sharma')\", \"hello_world(first_name='Rajesh',middle_name='Kumar',last_name='sharma',an_name='titu')\", 'def name_printing(*names):\\n    for l_name in names:\\n        print(\"First name is Rajesh and Last name is {0}\".format(l_name))', \"name_printing('sharma','kumar','kapoor')\", 'def factorial(num):\\n    return num if num == 1 else num * factorial(num-1)', 'factorial(5)', 'def fibonacci(num):\\n    return num if num <=1 else fibonacci(num-1) + fibonacci(num-2)', 'nums = range(0,10)', 'for num in nums:\\n    print(fibonacci(num))', 'sqr = lambda x: x**2', '[sqr(num) for num in nums]', 'sum_of_2s = lambda x,y : x+y', 'sum_of_2s(3,5)', 'nums = [1,2,3,4,5,6,7,8,9]', 'nums', 'from functools import reduce', 'sum_list = reduce(lambda x,y:x+y,nums)', 'sum_list', 'nums', 'reduce(lambda x,y:x+y,map(lambda x : x/2,filter(lambda x: x%2==0,nums)))', \"f = open('test_file.txt','x')\", 'f.write(\"I\\'m Rajesh Sharma and one day I\\'ll be a Data Scientist.\")', 'f.close()', \"f1 = open('test_file.txt','r')\", 'f1.read()', 'f1.tell()', 'f1.seek(1)', 'f1.tell()', 'f1.read(5)', 'f1.seek(50)', 'f1.read()', 'f1.tell()', 'type(f1.readlines())', 'type(f1.readline())', 'f1.seek(20)', 'f1.readlines()', 'f1.readline()', 'f1.seek(20)', 'f1.readline()', 'f1.close()', 'import os', 'dir(__builtins__)', 'dir(os)', \"os.rename('test_file.txt','file_manipulations.txt')\", 'f1.read()               # because file is closed', 'os.getcwd()', \"os.chdir('E:\\\\\\\\STUDY\\\\\\\\PROJECTS\\\\\\\\AAIC_Practice')\", 'os.getcwd()', \"os.mkdir('VIDEO_PRACTICE_TEST')\", 'os.listdir()', \"os.rmdir('VIDEO_PRACTICE_TEST')\", \"os.mkdir('VIDEO_PRACTICE_TEST2')\", 'os.listdir()', 'lines = [\"This is not a hellow world!!\", \"This is much more than a hello world!!\", \"Thats my feelings for DS, ML and DL.\"]', \"with open('test_file2.txt','x') as f_test:\\n    f_test.writelines(lines)\", 'os.getcwd()', 'import shutil', 'shutil.move(\\'test_file2.txt\\',os.getcwd()+\"\\\\\\\\VIDEO_PRACTICE_TEST2\")', 'os.getcwd()', \"os.rmdir('VIDEO_PRACTICE_TEST2')           # As said it only deletes a empty directory\", 'dir(shutil)', 'import pdb', 'dir(pdb)', 'test_ones = [1,2,3,4,5,6,7,8,9]', 'test_ones[1:]', 'test_ones[1:4] = [1]', 'test_ones', 'ones = [val for val in range(1,11)]', 'ones', 'ones[1:] = [1]', 'ones', 'import numpy as np', 'np_ones = np.arange(1,11)', 'np_ones', 'np_ones[1:] = [1] ', 'np_ones', 'np_ones[1:4]', 'len(np_ones)', 'def multiple_of_4(val):\\n    for n in range(1,len(val)+1,1):\\n        pdb.set_trace()\\n        print(n*4)', 'multiple_of_4(np_ones)', 'np_ones', 'def multiple_of_4(val):\\n    for n in range(1,len(val)+1,1):\\n        pdb.set_trace()\\n        print(n*4)', 'multiple_of_4(np_ones)', 'multiple_of_4(np_ones)', 'np_ones = [1,2,3,4,5]', 'def multiple_of_4(val):\\n    for n in range(1,len(val)+1,1):\\n        pdb.set_trace()\\n        print(n*4)', 'multiple_of_4(np_ones)', 'def multiple_of_4(val):\\n    for n in range(1,len(val)+1,1):\\n        pdb.set_trace()\\n        print(n*4)', 'multiple_of_4(np_ones)', 'def multiple_of_4(val):\\n    for n in range(1,len(val)+1,1):\\n#         pdb.set_trace()\\n        print(n*4)', 'multiple_of_4(np_ones)', 'def multiple_of_4(val):\\n    for n in range(1,len(val)+1,1):\\n        pdb.set_trace()\\n        print(n*4)', 'multiple_of_4(np_ones)', 'multiple_of_4(np_ones)', 'multiple_of_4(np_ones)'], 'Out': {3: 'This function prints the name of the person.', 11: 44545, 17: 'This function prints the name of the person.', 25: 44545, 27: 89.8475, 28: (2, 0), 29: (2, 2), 30: True, 31: True, 32: False, 33: False, 34: True, 35: True, 36: False, 37: True, 44: [1, 2, 3, 4, 5, 6, 7, 8, 9], 45: (1, 2, 3, 4, 5, 6, 7, 8, 9), 46: {1, 2, 3, 4, 5, 6, 7, 8, 9}, 47: {0, 1, 2, 3, 4, 5, 6, 7, 8, 9}, 49: False, 50: False, 51: False, 52: True, 54: [24.75, 9.75, 26.25, 2.5, 43.75, 22.25], 58: 15, 60: ('Rajesh', 'Kumar', 'sharma'), 68: 120, 73: [0, 1, 4, 9, 16, 25, 36, 49, 64, 81], 75: 8, 77: [1, 2, 3, 4, 5, 6, 7, 8, 9], 80: 45, 81: [1, 2, 3, 4, 5, 6, 7, 8, 9], 82: 10.0, 84: 55, 87: \"I'm Rajesh Sharma and one day I'll be a Data Scientist.\", 88: 55, 89: 1, 90: 1, 91: \"'m Ra\", 92: 50, 93: 'tist.', 94: 55, 95: <class 'list'>, 96: <class 'str'>, 97: 20, 98: [\"d one day I'll be a Data Scientist.\"], 99: '', 100: 20, 101: \"d one day I'll be a Data Scientist.\", 104: ['ArithmeticError', 'AssertionError', 'AttributeError', 'BaseException', 'BlockingIOError', 'BrokenPipeError', 'BufferError', 'BytesWarning', 'ChildProcessError', 'ConnectionAbortedError', 'ConnectionError', 'ConnectionRefusedError', 'ConnectionResetError', 'DeprecationWarning', 'EOFError', 'Ellipsis', 'EnvironmentError', 'Exception', 'False', 'FileExistsError', 'FileNotFoundError', 'FloatingPointError', 'FutureWarning', 'GeneratorExit', 'IOError', 'ImportError', 'ImportWarning', 'IndentationError', 'IndexError', 'InterruptedError', 'IsADirectoryError', 'KeyError', 'KeyboardInterrupt', 'LookupError', 'MemoryError', 'ModuleNotFoundError', 'NameError', 'None', 'NotADirectoryError', 'NotImplemented', 'NotImplementedError', 'OSError', 'OverflowError', 'PendingDeprecationWarning', 'PermissionError', 'ProcessLookupError', 'RecursionError', 'ReferenceError', 'ResourceWarning', 'RuntimeError', 'RuntimeWarning', 'StopAsyncIteration', 'StopIteration', 'SyntaxError', 'SyntaxWarning', 'SystemError', 'SystemExit', 'TabError', 'TimeoutError', 'True', 'TypeError', 'UnboundLocalError', 'UnicodeDecodeError', 'UnicodeEncodeError', 'UnicodeError', 'UnicodeTranslateError', 'UnicodeWarning', 'UserWarning', 'ValueError', 'Warning', 'WindowsError', 'ZeroDivisionError', '__IPYTHON__', '__build_class__', '__debug__', '__doc__', '__import__', '__loader__', '__name__', '__package__', '__spec__', 'abs', 'all', 'any', 'ascii', 'bin', 'bool', 'bytearray', 'bytes', 'callable', 'chr', 'classmethod', 'compile', 'complex', 'copyright', 'credits', 'delattr', 'dict', 'dir', 'display', 'divmod', 'enumerate', 'eval', 'exec', 'filter', 'float', 'format', 'frozenset', 'get_ipython', 'getattr', 'globals', 'hasattr', 'hash', 'help', 'hex', 'id', 'input', 'int', 'isinstance', 'issubclass', 'iter', 'len', 'license', 'list', 'locals', 'map', 'max', 'memoryview', 'min', 'next', 'object', 'oct', 'open', 'ord', 'pow', 'print', 'property', 'range', 'repr', 'reversed', 'round', 'set', 'setattr', 'slice', 'sorted', 'staticmethod', 'str', 'sum', 'super', 'tuple', 'type', 'vars', 'zip'], 105: ['DirEntry', 'F_OK', 'MutableMapping', 'O_APPEND', 'O_BINARY', 'O_CREAT', 'O_EXCL', 'O_NOINHERIT', 'O_RANDOM', 'O_RDONLY', 'O_RDWR', 'O_SEQUENTIAL', 'O_SHORT_LIVED', 'O_TEMPORARY', 'O_TEXT', 'O_TRUNC', 'O_WRONLY', 'P_DETACH', 'P_NOWAIT', 'P_NOWAITO', 'P_OVERLAY', 'P_WAIT', 'PathLike', 'R_OK', 'SEEK_CUR', 'SEEK_END', 'SEEK_SET', 'TMP_MAX', 'W_OK', 'X_OK', '_Environ', '__all__', '__builtins__', '__cached__', '__doc__', '__file__', '__loader__', '__name__', '__package__', '__spec__', '_execvpe', '_exists', '_exit', '_fspath', '_get_exports_list', '_putenv', '_unsetenv', '_wrap_close', 'abc', 'abort', 'access', 'altsep', 'chdir', 'chmod', 'close', 'closerange', 'cpu_count', 'curdir', 'defpath', 'device_encoding', 'devnull', 'dup', 'dup2', 'environ', 'errno', 'error', 'execl', 'execle', 'execlp', 'execlpe', 'execv', 'execve', 'execvp', 'execvpe', 'extsep', 'fdopen', 'fsdecode', 'fsencode', 'fspath', 'fstat', 'fsync', 'ftruncate', 'get_exec_path', 'get_handle_inheritable', 'get_inheritable', 'get_terminal_size', 'getcwd', 'getcwdb', 'getenv', 'getlogin', 'getpid', 'getppid', 'isatty', 'kill', 'linesep', 'link', 'listdir', 'lseek', 'lstat', 'makedirs', 'mkdir', 'name', 'open', 'pardir', 'path', 'pathsep', 'pipe', 'popen', 'putenv', 'read', 'readlink', 'remove', 'removedirs', 'rename', 'renames', 'replace', 'rmdir', 'scandir', 'sep', 'set_handle_inheritable', 'set_inheritable', 'spawnl', 'spawnle', 'spawnv', 'spawnve', 'st', 'startfile', 'stat', 'stat_float_times', 'stat_result', 'statvfs_result', 'strerror', 'supports_bytes_environ', 'supports_dir_fd', 'supports_effective_ids', 'supports_fd', 'supports_follow_symlinks', 'symlink', 'sys', 'system', 'terminal_size', 'times', 'times_result', 'truncate', 'umask', 'uname_result', 'unlink', 'urandom', 'utime', 'waitpid', 'walk', 'write'], 108: 'E:\\\\STUDY\\\\GIT\\\\aaic_practice\\\\MODULES\\\\Module_1_All_about_Python', 110: 'E:\\\\STUDY\\\\PROJECTS\\\\AAIC_Practice', 112: ['ASSIGNMENTS', 'INTERVIEW_Qs', 'MODULES', 'VIDEO_PRACTICE_TEST'], 115: ['ASSIGNMENTS', 'INTERVIEW_Qs', 'MODULES', 'VIDEO_PRACTICE_TEST2'], 118: 'E:\\\\STUDY\\\\PROJECTS\\\\AAIC_Practice', 120: 'E:\\\\STUDY\\\\PROJECTS\\\\AAIC_Practice\\\\VIDEO_PRACTICE_TEST2\\\\test_file2.txt', 121: 'E:\\\\STUDY\\\\PROJECTS\\\\AAIC_Practice', 123: ['Error', 'ExecError', 'ReadError', 'RegistryError', 'SameFileError', 'SpecialFileError', '_ARCHIVE_FORMATS', '_BZ2_SUPPORTED', '_LZMA_SUPPORTED', '_UNPACK_FORMATS', '_ZLIB_SUPPORTED', '__all__', '__builtins__', '__cached__', '__doc__', '__file__', '__loader__', '__name__', '__package__', '__spec__', '_basename', '_check_unpack_options', '_copyxattr', '_destinsrc', '_ensure_directory', '_find_unpack_format', '_get_gid', '_get_uid', '_make_tarball', '_make_zipfile', '_ntuple_diskusage', '_rmtree_safe_fd', '_rmtree_unsafe', '_samefile', '_unpack_tarfile', '_unpack_zipfile', '_use_fd_functions', 'chown', 'collections', 'copy', 'copy2', 'copyfile', 'copyfileobj', 'copymode', 'copystat', 'copytree', 'disk_usage', 'errno', 'fnmatch', 'get_archive_formats', 'get_terminal_size', 'get_unpack_formats', 'getgrnam', 'getpwnam', 'ignore_patterns', 'make_archive', 'move', 'nt', 'os', 'register_archive_format', 'register_unpack_format', 'rmtree', 'stat', 'sys', 'unpack_archive', 'unregister_archive_format', 'unregister_unpack_format', 'which'], 125: ['Pdb', 'Restart', 'TESTCMD', '__all__', '__builtins__', '__cached__', '__doc__', '__file__', '__loader__', '__name__', '__package__', '__spec__', '_rstr', '_usage', 'bdb', 'cmd', 'code', 'dis', 'find_function', 'getsourcelines', 'glob', 'help', 'inspect', 'lasti2lineno', 'line_prefix', 'linecache', 'main', 'os', 'pm', 'post_mortem', 'pprint', 're', 'run', 'runcall', 'runctx', 'runeval', 'set_trace', 'signal', 'sys', 'test', 'traceback'], 127: [2, 3, 4, 5, 6, 7, 8, 9], 129: [1, 1, 5, 6, 7, 8, 9], 131: [1, 1], 133: [1, 1], 136: array([1, 1, 1, 1, 1, 1, 1, 1, 1, 1]), 138: array([1, 1, 1, 1, 1, 1, 1, 1, 1, 1]), 139: array([1, 1, 1]), 140: 10, 143: array([1, 1, 1, 1, 1, 1, 1, 1, 1, 1])}, 'get_ipython': <bound method InteractiveShell.get_ipython of <ipykernel.zmqshell.ZMQInteractiveShell object at 0x000001E757DC3438>>, 'exit': <IPython.core.autocall.ZMQExitAutocall object at 0x000001E757E65B38>, 'quit': <IPython.core.autocall.ZMQExitAutocall object at 0x000001E757E65B38>, '_': array([1, 1, 1, 1, 1, 1, 1, 1, 1, 1]), '__': 10, '___': array([1, 1, 1]), '_i': 'multiple_of_4(np_ones)', '_ii': 'multiple_of_4(np_ones)', '_iii': 'def multiple_of_4(val):\\n    for n in range(1,len(val)+1,1):\\n        pdb.set_trace()\\n        print(n*4)', '_i1': 'def print_name(name):\\n    \"\"\"This function prints the name of the person.\"\"\"\\n    print(name)', 'print_name': <function print_name at 0x000001E757EBA048>, '_i2': \"print_name('Rajesh')\", '_i3': 'print_name.__doc__', '_3': 'This function prints the name of the person.', '_i4': 'num1 = 98\\nnum2 = 78', 'num1': 4, 'num2': 50, '_i5': 'def compute_hcf(num1, num2):\\n    \"\"\"\\n    This function will compute the HCF of the given numbers.\\n    \"\"\"\\n    if num1 > num2:\\n        smaller = num2\\n    else:\\n        smaller = num1\\n\\n    hcf = []\\n\\n    for num in range(1,smaller+1):\\n        if num1%num == 0 and num2%num == 0:\\n            hcf.append(num)\\n    return hcf[-1]', 'compute_hcf': <function compute_hcf at 0x000001E757EBA8C8>, '_i6': 'print(\"HCF of 98 and 78 is {}\".format(compute_hcf(num1,num2)))', '_i7': 'num1, num2 = 4,16', '_i8': 'print(\"HCF of {} and {} is {}\".format(num1, num2, compute_hcf(num1,num2)))', '_i9': 'num1, num2 = 16, 96', '_i10': 'print(\"HCF of {} and {} is {}\".format(num1, num2, compute_hcf(num1,num2)))', '_i11': 'abs(-44545)', '_11': 44545, '_i12': \"abs('Function name')\", '_i13': 'os.getcwd()', '_i14': 'len(np_ones)', '_i15': 'def print_name(name):\\n    \"\"\"This function prints the name of the person.\"\"\"\\n    print(name)', '_i16': \"print_name('Rajesh')\", '_i17': 'print_name.__doc__', '_17': 'This function prints the name of the person.', '_i18': 'num1 = 98\\nnum2 = 78', '_i19': 'def compute_hcf(num1, num2):\\n    \"\"\"\\n    This function will compute the HCF of the given numbers.\\n    \"\"\"\\n    if num1 > num2:\\n        smaller = num2\\n    else:\\n        smaller = num1\\n\\n    hcf = []\\n\\n    for num in range(1,smaller+1):\\n        if num1%num == 0 and num2%num == 0:\\n            hcf.append(num)\\n    return hcf[-1]', '_i20': 'print(\"HCF of 98 and 78 is {}\".format(compute_hcf(num1,num2)))', '_i21': 'num1, num2 = 4,16', '_i22': 'print(\"HCF of {} and {} is {}\".format(num1, num2, compute_hcf(num1,num2)))', '_i23': 'num1, num2 = 16, 96', '_i24': 'print(\"HCF of {} and {} is {}\".format(num1, num2, compute_hcf(num1,num2)))', '_i25': 'abs(-44545)', '_25': 44545, '_i26': \"abs('Function name')\", '_i27': 'abs(-89.8475)', '_27': 89.8475, '_i28': 'divmod(4,2)             # Returns quotient and remainder', '_28': (2, 0), '_i29': 'divmod(8,3)', '_29': (2, 2), '_i30': 'all([1,2,3,4])                # it returns the bool(x) or bool for all values of x', '_30': True, '_i31': 'all([1,2,3,4,])', '_31': True, '_i32': 'all([1,2,3,4,0])              # 0 in python is False internally thus it returned False', '_32': False, '_i33': 'all([False,1,2,3,4])', '_33': False, '_i34': 'bool(7)', '_34': True, '_i35': \"bool('X')\", '_35': True, '_i36': 'bool(0)', '_36': False, '_i37': 'bool(-1)', '_37': True, '_i38': 'import pandas', 'pandas': <module 'pandas' from 'c:\\\\users\\\\rajsh\\\\appdata\\\\local\\\\programs\\\\python\\\\python36\\\\lib\\\\site-packages\\\\pandas\\\\__init__.py'>, '_i39': 'print(dir(pandas))', '_i40': \"numbers = [10,20,30,40,50]\\n\\nfor num1 , num2 in enumerate(numbers):\\n    print(num1, ' || ', num2)\", 'numbers': [10, 20, 30, 40, 50], '_i41': 'for idx, num in enumerate(numbers):\\n    print(\"Index ---> {} && Number ---> {}\".format(idx,num))', 'idx': 504, 'num': 9, '_i42': \"for idx, num in enumerate(numbers,500):\\n    print(idx, ' ||| ', num)\", '_i43': 'def fil_f(num):\\n    return num >= abs(num)', 'fil_f': <function fil_f at 0x000001E76007D620>, '_i44': 'list(filter(fil_f,[1,2,3,4,5,6,7,8,9]))', '_44': [1, 2, 3, 4, 5, 6, 7, 8, 9], '_i45': 'tuple(filter(fil_f,[1,2,3,4,5,6,7,8,9]))', '_45': (1, 2, 3, 4, 5, 6, 7, 8, 9), '_i46': 'set(filter(fil_f,[1,2,3,4,5,6,7,8,9]))', '_46': {1, 2, 3, 4, 5, 6, 7, 8, 9}, '_i47': 'set(filter(fil_f,[1,2,3,4,5,6,7,8,9,0,-1,-2,-3,-4]))', '_47': {0, 1, 2, 3, 4, 5, 6, 7, 8, 9}, '_i48': 'scores = {10,39,89,99,105,175}', 'scores': {99, 39, 105, 10, 175, 89}, '_i49': 'isinstance(scores,list)', '_49': False, '_i50': 'isinstance(scores,dict)', '_50': False, '_i51': 'isinstance(scores,tuple)', '_51': False, '_i52': 'isinstance(scores,set)', '_52': True, '_i53': 'def divide_num_by_4(num):\\n    return num/4', 'divide_num_by_4': <function divide_num_by_4 at 0x000001E757EACBF8>, '_i54': 'list(map(divide_num_by_4,scores))', '_54': [24.75, 9.75, 26.25, 2.5, 43.75, 22.25], '_i55': 'from functools import reduce', 'reduce': <built-in function reduce>, '_i56': 'def cume(val1, val2):\\n    return val1+val2', 'cume': <function cume at 0x000001E7600876A8>, '_i57': 'nums = [1,2,3,4,5]', 'nums': [1, 2, 3, 4, 5, 6, 7, 8, 9], '_i58': 'reduce(cume,nums)', '_58': 15, '_i59': \"def hello_world(**kwargs):\\n    return (kwargs['first_name'], kwargs['middle_name'],kwargs['last_name'])\", 'hello_world': <function hello_world at 0x000001E76009DC80>, '_i60': \"hello_world(first_name='Rajesh',middle_name='Kumar',last_name='sharma',an_name='titu')\", '_60': ('Rajesh', 'Kumar', 'sharma'), '_i61': \"%timeit hello_world(first_name='Rajesh',middle_name='Kumar',last_name='sharma')\", '_i62': \"def hello_world(**kwargs):\\n    print (kwargs['first_name'], kwargs['middle_name'],kwargs['last_name'])\", '_i63': \"hello_world(first_name='Rajesh',middle_name='Kumar',last_name='sharma')\", '_i64': \"hello_world(first_name='Rajesh',middle_name='Kumar',last_name='sharma',an_name='titu')\", '_i65': 'def name_printing(*names):\\n    for l_name in names:\\n        print(\"First name is Rajesh and Last name is {0}\".format(l_name))', 'name_printing': <function name_printing at 0x000001E7600A2730>, '_i66': \"name_printing('sharma','kumar','kapoor')\", '_i67': 'def factorial(num):\\n    return num if num == 1 else num * factorial(num-1)', 'factorial': <function factorial at 0x000001E7600A2B70>, '_i68': 'factorial(5)', '_68': 120, '_i69': 'def fibonacci(num):\\n    return num if num <=1 else fibonacci(num-1) + fibonacci(num-2)', 'fibonacci': <function fibonacci at 0x000001E7600A82F0>, '_i70': 'nums = range(0,10)', '_i71': 'for num in nums:\\n    print(fibonacci(num))', '_i72': 'sqr = lambda x: x**2', 'sqr': <function <lambda> at 0x000001E7600A8B70>, '_i73': '[sqr(num) for num in nums]', '_73': [0, 1, 4, 9, 16, 25, 36, 49, 64, 81], '_i74': 'sum_of_2s = lambda x,y : x+y', 'sum_of_2s': <function <lambda> at 0x000001E7600AD1E0>, '_i75': 'sum_of_2s(3,5)', '_75': 8, '_i76': 'nums = [1,2,3,4,5,6,7,8,9]', '_i77': 'nums', '_77': [1, 2, 3, 4, 5, 6, 7, 8, 9], '_i78': 'from functools import reduce', '_i79': 'sum_list = reduce(lambda x,y:x+y,nums)', 'sum_list': 45, '_i80': 'sum_list', '_80': 45, '_i81': 'nums', '_81': [1, 2, 3, 4, 5, 6, 7, 8, 9], '_i82': 'reduce(lambda x,y:x+y,map(lambda x : x/2,filter(lambda x: x%2==0,nums)))', '_82': 10.0, '_i83': \"f = open('test_file.txt','x')\", 'f': <_io.TextIOWrapper name='test_file.txt' mode='x' encoding='cp1252'>, '_i84': 'f.write(\"I\\'m Rajesh Sharma and one day I\\'ll be a Data Scientist.\")', '_84': 55, '_i85': 'f.close()', '_i86': \"f1 = open('test_file.txt','r')\", 'f1': <_io.TextIOWrapper name='test_file.txt' mode='r' encoding='cp1252'>, '_i87': 'f1.read()', '_87': \"I'm Rajesh Sharma and one day I'll be a Data Scientist.\", '_i88': 'f1.tell()', '_88': 55, '_i89': 'f1.seek(1)', '_89': 1, '_i90': 'f1.tell()', '_90': 1, '_i91': 'f1.read(5)', '_91': \"'m Ra\", '_i92': 'f1.seek(50)', '_92': 50, '_i93': 'f1.read()', '_93': 'tist.', '_i94': 'f1.tell()', '_94': 55, '_i95': 'type(f1.readlines())', '_95': <class 'list'>, '_i96': 'type(f1.readline())', '_96': <class 'str'>, '_i97': 'f1.seek(20)', '_97': 20, '_i98': 'f1.readlines()', '_98': [\"d one day I'll be a Data Scientist.\"], '_i99': 'f1.readline()', '_99': '', '_i100': 'f1.seek(20)', '_100': 20, '_i101': 'f1.readline()', '_101': \"d one day I'll be a Data Scientist.\", '_i102': 'f1.close()', '_i103': 'import os', 'os': <module 'os' from 'c:\\\\users\\\\rajsh\\\\appdata\\\\local\\\\programs\\\\python\\\\python36\\\\lib\\\\os.py'>, '_i104': 'dir(__builtins__)', '_104': ['ArithmeticError', 'AssertionError', 'AttributeError', 'BaseException', 'BlockingIOError', 'BrokenPipeError', 'BufferError', 'BytesWarning', 'ChildProcessError', 'ConnectionAbortedError', 'ConnectionError', 'ConnectionRefusedError', 'ConnectionResetError', 'DeprecationWarning', 'EOFError', 'Ellipsis', 'EnvironmentError', 'Exception', 'False', 'FileExistsError', 'FileNotFoundError', 'FloatingPointError', 'FutureWarning', 'GeneratorExit', 'IOError', 'ImportError', 'ImportWarning', 'IndentationError', 'IndexError', 'InterruptedError', 'IsADirectoryError', 'KeyError', 'KeyboardInterrupt', 'LookupError', 'MemoryError', 'ModuleNotFoundError', 'NameError', 'None', 'NotADirectoryError', 'NotImplemented', 'NotImplementedError', 'OSError', 'OverflowError', 'PendingDeprecationWarning', 'PermissionError', 'ProcessLookupError', 'RecursionError', 'ReferenceError', 'ResourceWarning', 'RuntimeError', 'RuntimeWarning', 'StopAsyncIteration', 'StopIteration', 'SyntaxError', 'SyntaxWarning', 'SystemError', 'SystemExit', 'TabError', 'TimeoutError', 'True', 'TypeError', 'UnboundLocalError', 'UnicodeDecodeError', 'UnicodeEncodeError', 'UnicodeError', 'UnicodeTranslateError', 'UnicodeWarning', 'UserWarning', 'ValueError', 'Warning', 'WindowsError', 'ZeroDivisionError', '__IPYTHON__', '__build_class__', '__debug__', '__doc__', '__import__', '__loader__', '__name__', '__package__', '__spec__', 'abs', 'all', 'any', 'ascii', 'bin', 'bool', 'bytearray', 'bytes', 'callable', 'chr', 'classmethod', 'compile', 'complex', 'copyright', 'credits', 'delattr', 'dict', 'dir', 'display', 'divmod', 'enumerate', 'eval', 'exec', 'filter', 'float', 'format', 'frozenset', 'get_ipython', 'getattr', 'globals', 'hasattr', 'hash', 'help', 'hex', 'id', 'input', 'int', 'isinstance', 'issubclass', 'iter', 'len', 'license', 'list', 'locals', 'map', 'max', 'memoryview', 'min', 'next', 'object', 'oct', 'open', 'ord', 'pow', 'print', 'property', 'range', 'repr', 'reversed', 'round', 'set', 'setattr', 'slice', 'sorted', 'staticmethod', 'str', 'sum', 'super', 'tuple', 'type', 'vars', 'zip'], '_i105': 'dir(os)', '_105': ['DirEntry', 'F_OK', 'MutableMapping', 'O_APPEND', 'O_BINARY', 'O_CREAT', 'O_EXCL', 'O_NOINHERIT', 'O_RANDOM', 'O_RDONLY', 'O_RDWR', 'O_SEQUENTIAL', 'O_SHORT_LIVED', 'O_TEMPORARY', 'O_TEXT', 'O_TRUNC', 'O_WRONLY', 'P_DETACH', 'P_NOWAIT', 'P_NOWAITO', 'P_OVERLAY', 'P_WAIT', 'PathLike', 'R_OK', 'SEEK_CUR', 'SEEK_END', 'SEEK_SET', 'TMP_MAX', 'W_OK', 'X_OK', '_Environ', '__all__', '__builtins__', '__cached__', '__doc__', '__file__', '__loader__', '__name__', '__package__', '__spec__', '_execvpe', '_exists', '_exit', '_fspath', '_get_exports_list', '_putenv', '_unsetenv', '_wrap_close', 'abc', 'abort', 'access', 'altsep', 'chdir', 'chmod', 'close', 'closerange', 'cpu_count', 'curdir', 'defpath', 'device_encoding', 'devnull', 'dup', 'dup2', 'environ', 'errno', 'error', 'execl', 'execle', 'execlp', 'execlpe', 'execv', 'execve', 'execvp', 'execvpe', 'extsep', 'fdopen', 'fsdecode', 'fsencode', 'fspath', 'fstat', 'fsync', 'ftruncate', 'get_exec_path', 'get_handle_inheritable', 'get_inheritable', 'get_terminal_size', 'getcwd', 'getcwdb', 'getenv', 'getlogin', 'getpid', 'getppid', 'isatty', 'kill', 'linesep', 'link', 'listdir', 'lseek', 'lstat', 'makedirs', 'mkdir', 'name', 'open', 'pardir', 'path', 'pathsep', 'pipe', 'popen', 'putenv', 'read', 'readlink', 'remove', 'removedirs', 'rename', 'renames', 'replace', 'rmdir', 'scandir', 'sep', 'set_handle_inheritable', 'set_inheritable', 'spawnl', 'spawnle', 'spawnv', 'spawnve', 'st', 'startfile', 'stat', 'stat_float_times', 'stat_result', 'statvfs_result', 'strerror', 'supports_bytes_environ', 'supports_dir_fd', 'supports_effective_ids', 'supports_fd', 'supports_follow_symlinks', 'symlink', 'sys', 'system', 'terminal_size', 'times', 'times_result', 'truncate', 'umask', 'uname_result', 'unlink', 'urandom', 'utime', 'waitpid', 'walk', 'write'], '_i106': \"os.rename('test_file.txt','file_manipulations.txt')\", '_i107': 'f1.read()               # because file is closed', '_i108': 'os.getcwd()', '_108': 'E:\\\\STUDY\\\\GIT\\\\aaic_practice\\\\MODULES\\\\Module_1_All_about_Python', '_i109': \"os.chdir('E:\\\\\\\\STUDY\\\\\\\\PROJECTS\\\\\\\\AAIC_Practice')\", '_i110': 'os.getcwd()', '_110': 'E:\\\\STUDY\\\\PROJECTS\\\\AAIC_Practice', '_i111': \"os.mkdir('VIDEO_PRACTICE_TEST')\", '_i112': 'os.listdir()', '_112': ['ASSIGNMENTS', 'INTERVIEW_Qs', 'MODULES', 'VIDEO_PRACTICE_TEST'], '_i113': \"os.rmdir('VIDEO_PRACTICE_TEST')\", '_i114': \"os.mkdir('VIDEO_PRACTICE_TEST2')\", '_i115': 'os.listdir()', '_115': ['ASSIGNMENTS', 'INTERVIEW_Qs', 'MODULES', 'VIDEO_PRACTICE_TEST2'], '_i116': 'lines = [\"This is not a hellow world!!\", \"This is much more than a hello world!!\", \"Thats my feelings for DS, ML and DL.\"]', 'lines': ['This is not a hellow world!!', 'This is much more than a hello world!!', 'Thats my feelings for DS, ML and DL.'], '_i117': \"with open('test_file2.txt','x') as f_test:\\n    f_test.writelines(lines)\", 'f_test': <_io.TextIOWrapper name='test_file2.txt' mode='x' encoding='cp1252'>, '_i118': 'os.getcwd()', '_118': 'E:\\\\STUDY\\\\PROJECTS\\\\AAIC_Practice', '_i119': 'import shutil', 'shutil': <module 'shutil' from 'c:\\\\users\\\\rajsh\\\\appdata\\\\local\\\\programs\\\\python\\\\python36\\\\lib\\\\shutil.py'>, '_i120': 'shutil.move(\\'test_file2.txt\\',os.getcwd()+\"\\\\\\\\VIDEO_PRACTICE_TEST2\")', '_120': 'E:\\\\STUDY\\\\PROJECTS\\\\AAIC_Practice\\\\VIDEO_PRACTICE_TEST2\\\\test_file2.txt', '_i121': 'os.getcwd()', '_121': 'E:\\\\STUDY\\\\PROJECTS\\\\AAIC_Practice', '_i122': \"os.rmdir('VIDEO_PRACTICE_TEST2')           # As said it only deletes a empty directory\", '_i123': 'dir(shutil)', '_123': ['Error', 'ExecError', 'ReadError', 'RegistryError', 'SameFileError', 'SpecialFileError', '_ARCHIVE_FORMATS', '_BZ2_SUPPORTED', '_LZMA_SUPPORTED', '_UNPACK_FORMATS', '_ZLIB_SUPPORTED', '__all__', '__builtins__', '__cached__', '__doc__', '__file__', '__loader__', '__name__', '__package__', '__spec__', '_basename', '_check_unpack_options', '_copyxattr', '_destinsrc', '_ensure_directory', '_find_unpack_format', '_get_gid', '_get_uid', '_make_tarball', '_make_zipfile', '_ntuple_diskusage', '_rmtree_safe_fd', '_rmtree_unsafe', '_samefile', '_unpack_tarfile', '_unpack_zipfile', '_use_fd_functions', 'chown', 'collections', 'copy', 'copy2', 'copyfile', 'copyfileobj', 'copymode', 'copystat', 'copytree', 'disk_usage', 'errno', 'fnmatch', 'get_archive_formats', 'get_terminal_size', 'get_unpack_formats', 'getgrnam', 'getpwnam', 'ignore_patterns', 'make_archive', 'move', 'nt', 'os', 'register_archive_format', 'register_unpack_format', 'rmtree', 'stat', 'sys', 'unpack_archive', 'unregister_archive_format', 'unregister_unpack_format', 'which'], '_i124': 'import pdb', 'pdb': <module 'pdb' from 'c:\\\\users\\\\rajsh\\\\appdata\\\\local\\\\programs\\\\python\\\\python36\\\\lib\\\\pdb.py'>, '_i125': 'dir(pdb)', '_125': ['Pdb', 'Restart', 'TESTCMD', '__all__', '__builtins__', '__cached__', '__doc__', '__file__', '__loader__', '__name__', '__package__', '__spec__', '_rstr', '_usage', 'bdb', 'cmd', 'code', 'dis', 'find_function', 'getsourcelines', 'glob', 'help', 'inspect', 'lasti2lineno', 'line_prefix', 'linecache', 'main', 'os', 'pm', 'post_mortem', 'pprint', 're', 'run', 'runcall', 'runctx', 'runeval', 'set_trace', 'signal', 'sys', 'test', 'traceback'], '_i126': 'test_ones = [1,2,3,4,5,6,7,8,9]', 'test_ones': [1, 1, 5, 6, 7, 8, 9], '_i127': 'test_ones[1:]', '_127': [2, 3, 4, 5, 6, 7, 8, 9], '_i128': 'test_ones[1:4] = [1]', '_i129': 'test_ones', '_129': [1, 1, 5, 6, 7, 8, 9], '_i130': 'ones = [val for val in range(1,11)]', 'ones': [1, 1], '_i131': 'ones', '_131': [1, 1], '_i132': 'ones[1:] = [1]', '_i133': 'ones', '_133': [1, 1], '_i134': 'import numpy as np', 'np': <module 'numpy' from 'c:\\\\users\\\\rajsh\\\\appdata\\\\local\\\\programs\\\\python\\\\python36\\\\lib\\\\site-packages\\\\numpy\\\\__init__.py'>, '_i135': 'np_ones = np.arange(1,11)', 'np_ones': [1, 2, 3, 4, 5], '_i136': 'np_ones', '_136': array([1, 1, 1, 1, 1, 1, 1, 1, 1, 1]), '_i137': 'np_ones[1:] = [1] ', '_i138': 'np_ones', '_138': array([1, 1, 1, 1, 1, 1, 1, 1, 1, 1]), '_i139': 'np_ones[1:4]', '_139': array([1, 1, 1]), '_i140': 'len(np_ones)', '_140': 10, '_i141': 'def multiple_of_4(val):\\n    for n in range(1,len(val)+1,1):\\n        pdb.set_trace()\\n        print(n*4)', 'multiple_of_4': <function multiple_of_4 at 0x000001E76007DAE8>, '_i142': 'multiple_of_4(np_ones)', '_i143': 'np_ones', '_143': array([1, 1, 1, 1, 1, 1, 1, 1, 1, 1]), '_i144': 'def multiple_of_4(val):\\n    for n in range(1,len(val)+1,1):\\n        pdb.set_trace()\\n        print(n*4)', '_i145': 'multiple_of_4(np_ones)', '_i146': 'multiple_of_4(np_ones)', '_i147': 'np_ones = [1,2,3,4,5]', '_i148': 'def multiple_of_4(val):\\n    for n in range(1,len(val)+1,1):\\n        pdb.set_trace()\\n        print(n*4)', '_i149': 'multiple_of_4(np_ones)', '_i150': 'def multiple_of_4(val):\\n    for n in range(1,len(val)+1,1):\\n        pdb.set_trace()\\n        print(n*4)', '_i151': 'multiple_of_4(np_ones)', '_i152': 'def multiple_of_4(val):\\n    for n in range(1,len(val)+1,1):\\n#         pdb.set_trace()\\n        print(n*4)', '_i153': 'multiple_of_4(np_ones)', '_i154': 'def multiple_of_4(val):\\n    for n in range(1,len(val)+1,1):\\n        pdb.set_trace()\\n        print(n*4)', '_i155': 'multiple_of_4(np_ones)', '_i156': 'multiple_of_4(np_ones)', '_i157': 'multiple_of_4(np_ones)'}\n"
     ]
    },
    {
     "name": "stdin",
     "output_type": "stream",
     "text": [
      "ipdb>  locals()\n"
     ]
    },
    {
     "name": "stdout",
     "output_type": "stream",
     "text": [
      "{'n': 3, 'val': [1, 2, 3, 4, 5]}\n"
     ]
    },
    {
     "name": "stdin",
     "output_type": "stream",
     "text": [
      "ipdb>  c\n"
     ]
    },
    {
     "name": "stdout",
     "output_type": "stream",
     "text": [
      "12\n",
      "> \u001b[1;32m<ipython-input-154-281fd9f942ac>\u001b[0m(3)\u001b[0;36mmultiple_of_4\u001b[1;34m()\u001b[0m\n",
      "\u001b[1;32m      1 \u001b[1;33m\u001b[1;32mdef\u001b[0m \u001b[0mmultiple_of_4\u001b[0m\u001b[1;33m(\u001b[0m\u001b[0mval\u001b[0m\u001b[1;33m)\u001b[0m\u001b[1;33m:\u001b[0m\u001b[1;33m\u001b[0m\u001b[1;33m\u001b[0m\u001b[0m\n",
      "\u001b[0m\u001b[1;32m      2 \u001b[1;33m    \u001b[1;32mfor\u001b[0m \u001b[0mn\u001b[0m \u001b[1;32min\u001b[0m \u001b[0mrange\u001b[0m\u001b[1;33m(\u001b[0m\u001b[1;36m1\u001b[0m\u001b[1;33m,\u001b[0m\u001b[0mlen\u001b[0m\u001b[1;33m(\u001b[0m\u001b[0mval\u001b[0m\u001b[1;33m)\u001b[0m\u001b[1;33m+\u001b[0m\u001b[1;36m1\u001b[0m\u001b[1;33m,\u001b[0m\u001b[1;36m1\u001b[0m\u001b[1;33m)\u001b[0m\u001b[1;33m:\u001b[0m\u001b[1;33m\u001b[0m\u001b[1;33m\u001b[0m\u001b[0m\n",
      "\u001b[0m\u001b[1;32m----> 3 \u001b[1;33m        \u001b[0mpdb\u001b[0m\u001b[1;33m.\u001b[0m\u001b[0mset_trace\u001b[0m\u001b[1;33m(\u001b[0m\u001b[1;33m)\u001b[0m\u001b[1;33m\u001b[0m\u001b[1;33m\u001b[0m\u001b[0m\n",
      "\u001b[0m\u001b[1;32m      4 \u001b[1;33m        \u001b[0mprint\u001b[0m\u001b[1;33m(\u001b[0m\u001b[0mn\u001b[0m\u001b[1;33m*\u001b[0m\u001b[1;36m4\u001b[0m\u001b[1;33m)\u001b[0m\u001b[1;33m\u001b[0m\u001b[1;33m\u001b[0m\u001b[0m\n",
      "\u001b[0m\n"
     ]
    },
    {
     "name": "stdin",
     "output_type": "stream",
     "text": [
      "ipdb>  c\n"
     ]
    },
    {
     "name": "stdout",
     "output_type": "stream",
     "text": [
      "16\n",
      "> \u001b[1;32m<ipython-input-154-281fd9f942ac>\u001b[0m(4)\u001b[0;36mmultiple_of_4\u001b[1;34m()\u001b[0m\n",
      "\u001b[1;32m      1 \u001b[1;33m\u001b[1;32mdef\u001b[0m \u001b[0mmultiple_of_4\u001b[0m\u001b[1;33m(\u001b[0m\u001b[0mval\u001b[0m\u001b[1;33m)\u001b[0m\u001b[1;33m:\u001b[0m\u001b[1;33m\u001b[0m\u001b[1;33m\u001b[0m\u001b[0m\n",
      "\u001b[0m\u001b[1;32m      2 \u001b[1;33m    \u001b[1;32mfor\u001b[0m \u001b[0mn\u001b[0m \u001b[1;32min\u001b[0m \u001b[0mrange\u001b[0m\u001b[1;33m(\u001b[0m\u001b[1;36m1\u001b[0m\u001b[1;33m,\u001b[0m\u001b[0mlen\u001b[0m\u001b[1;33m(\u001b[0m\u001b[0mval\u001b[0m\u001b[1;33m)\u001b[0m\u001b[1;33m+\u001b[0m\u001b[1;36m1\u001b[0m\u001b[1;33m,\u001b[0m\u001b[1;36m1\u001b[0m\u001b[1;33m)\u001b[0m\u001b[1;33m:\u001b[0m\u001b[1;33m\u001b[0m\u001b[1;33m\u001b[0m\u001b[0m\n",
      "\u001b[0m\u001b[1;32m      3 \u001b[1;33m        \u001b[0mpdb\u001b[0m\u001b[1;33m.\u001b[0m\u001b[0mset_trace\u001b[0m\u001b[1;33m(\u001b[0m\u001b[1;33m)\u001b[0m\u001b[1;33m\u001b[0m\u001b[1;33m\u001b[0m\u001b[0m\n",
      "\u001b[0m\u001b[1;32m----> 4 \u001b[1;33m        \u001b[0mprint\u001b[0m\u001b[1;33m(\u001b[0m\u001b[0mn\u001b[0m\u001b[1;33m*\u001b[0m\u001b[1;36m4\u001b[0m\u001b[1;33m)\u001b[0m\u001b[1;33m\u001b[0m\u001b[1;33m\u001b[0m\u001b[0m\n",
      "\u001b[0m\n"
     ]
    },
    {
     "name": "stdin",
     "output_type": "stream",
     "text": [
      "ipdb>  c\n"
     ]
    },
    {
     "name": "stdout",
     "output_type": "stream",
     "text": [
      "20\n"
     ]
    }
   ],
   "source": [
    "multiple_of_4(np_ones)"
   ]
  },
  {
   "cell_type": "markdown",
   "metadata": {},
   "source": [
    "#### **Current Scope Global Variables**"
   ]
  },
  {
   "cell_type": "code",
   "execution_count": 158,
   "metadata": {},
   "outputs": [
    {
     "data": {
      "text/plain": [
       "{'__name__': '__main__',\n",
       " '__doc__': 'Automatically created module for IPython interactive environment',\n",
       " '__package__': None,\n",
       " '__loader__': None,\n",
       " '__spec__': None,\n",
       " '__builtin__': <module 'builtins' (built-in)>,\n",
       " '__builtins__': <module 'builtins' (built-in)>,\n",
       " '_ih': ['',\n",
       "  'def print_name(name):\\n    \"\"\"This function prints the name of the person.\"\"\"\\n    print(name)',\n",
       "  \"print_name('Rajesh')\",\n",
       "  'print_name.__doc__',\n",
       "  'num1 = 98\\nnum2 = 78',\n",
       "  'def compute_hcf(num1, num2):\\n    \"\"\"\\n    This function will compute the HCF of the given numbers.\\n    \"\"\"\\n    if num1 > num2:\\n        smaller = num2\\n    else:\\n        smaller = num1\\n\\n    hcf = []\\n\\n    for num in range(1,smaller+1):\\n        if num1%num == 0 and num2%num == 0:\\n            hcf.append(num)\\n    return hcf[-1]',\n",
       "  'print(\"HCF of 98 and 78 is {}\".format(compute_hcf(num1,num2)))',\n",
       "  'num1, num2 = 4,16',\n",
       "  'print(\"HCF of {} and {} is {}\".format(num1, num2, compute_hcf(num1,num2)))',\n",
       "  'num1, num2 = 16, 96',\n",
       "  'print(\"HCF of {} and {} is {}\".format(num1, num2, compute_hcf(num1,num2)))',\n",
       "  'abs(-44545)',\n",
       "  \"abs('Function name')\",\n",
       "  'os.getcwd()',\n",
       "  'len(np_ones)',\n",
       "  'def print_name(name):\\n    \"\"\"This function prints the name of the person.\"\"\"\\n    print(name)',\n",
       "  \"print_name('Rajesh')\",\n",
       "  'print_name.__doc__',\n",
       "  'num1 = 98\\nnum2 = 78',\n",
       "  'def compute_hcf(num1, num2):\\n    \"\"\"\\n    This function will compute the HCF of the given numbers.\\n    \"\"\"\\n    if num1 > num2:\\n        smaller = num2\\n    else:\\n        smaller = num1\\n\\n    hcf = []\\n\\n    for num in range(1,smaller+1):\\n        if num1%num == 0 and num2%num == 0:\\n            hcf.append(num)\\n    return hcf[-1]',\n",
       "  'print(\"HCF of 98 and 78 is {}\".format(compute_hcf(num1,num2)))',\n",
       "  'num1, num2 = 4,16',\n",
       "  'print(\"HCF of {} and {} is {}\".format(num1, num2, compute_hcf(num1,num2)))',\n",
       "  'num1, num2 = 16, 96',\n",
       "  'print(\"HCF of {} and {} is {}\".format(num1, num2, compute_hcf(num1,num2)))',\n",
       "  'abs(-44545)',\n",
       "  \"abs('Function name')\",\n",
       "  'abs(-89.8475)',\n",
       "  'divmod(4,2)             # Returns quotient and remainder',\n",
       "  'divmod(8,3)',\n",
       "  'all([1,2,3,4])                # it returns the bool(x) or bool for all values of x',\n",
       "  'all([1,2,3,4,])',\n",
       "  'all([1,2,3,4,0])              # 0 in python is False internally thus it returned False',\n",
       "  'all([False,1,2,3,4])',\n",
       "  'bool(7)',\n",
       "  \"bool('X')\",\n",
       "  'bool(0)',\n",
       "  'bool(-1)',\n",
       "  'import pandas',\n",
       "  'print(dir(pandas))',\n",
       "  \"numbers = [10,20,30,40,50]\\n\\nfor num1 , num2 in enumerate(numbers):\\n    print(num1, ' || ', num2)\",\n",
       "  'for idx, num in enumerate(numbers):\\n    print(\"Index ---> {} && Number ---> {}\".format(idx,num))',\n",
       "  \"for idx, num in enumerate(numbers,500):\\n    print(idx, ' ||| ', num)\",\n",
       "  'def fil_f(num):\\n    return num >= abs(num)',\n",
       "  'list(filter(fil_f,[1,2,3,4,5,6,7,8,9]))',\n",
       "  'tuple(filter(fil_f,[1,2,3,4,5,6,7,8,9]))',\n",
       "  'set(filter(fil_f,[1,2,3,4,5,6,7,8,9]))',\n",
       "  'set(filter(fil_f,[1,2,3,4,5,6,7,8,9,0,-1,-2,-3,-4]))',\n",
       "  'scores = {10,39,89,99,105,175}',\n",
       "  'isinstance(scores,list)',\n",
       "  'isinstance(scores,dict)',\n",
       "  'isinstance(scores,tuple)',\n",
       "  'isinstance(scores,set)',\n",
       "  'def divide_num_by_4(num):\\n    return num/4',\n",
       "  'list(map(divide_num_by_4,scores))',\n",
       "  'from functools import reduce',\n",
       "  'def cume(val1, val2):\\n    return val1+val2',\n",
       "  'nums = [1,2,3,4,5]',\n",
       "  'reduce(cume,nums)',\n",
       "  \"def hello_world(**kwargs):\\n    return (kwargs['first_name'], kwargs['middle_name'],kwargs['last_name'])\",\n",
       "  \"hello_world(first_name='Rajesh',middle_name='Kumar',last_name='sharma',an_name='titu')\",\n",
       "  'get_ipython().run_line_magic(\\'timeit\\', \"hello_world(first_name=\\'Rajesh\\',middle_name=\\'Kumar\\',last_name=\\'sharma\\')\")',\n",
       "  \"def hello_world(**kwargs):\\n    print (kwargs['first_name'], kwargs['middle_name'],kwargs['last_name'])\",\n",
       "  \"hello_world(first_name='Rajesh',middle_name='Kumar',last_name='sharma')\",\n",
       "  \"hello_world(first_name='Rajesh',middle_name='Kumar',last_name='sharma',an_name='titu')\",\n",
       "  'def name_printing(*names):\\n    for l_name in names:\\n        print(\"First name is Rajesh and Last name is {0}\".format(l_name))',\n",
       "  \"name_printing('sharma','kumar','kapoor')\",\n",
       "  'def factorial(num):\\n    return num if num == 1 else num * factorial(num-1)',\n",
       "  'factorial(5)',\n",
       "  'def fibonacci(num):\\n    return num if num <=1 else fibonacci(num-1) + fibonacci(num-2)',\n",
       "  'nums = range(0,10)',\n",
       "  'for num in nums:\\n    print(fibonacci(num))',\n",
       "  'sqr = lambda x: x**2',\n",
       "  '[sqr(num) for num in nums]',\n",
       "  'sum_of_2s = lambda x,y : x+y',\n",
       "  'sum_of_2s(3,5)',\n",
       "  'nums = [1,2,3,4,5,6,7,8,9]',\n",
       "  'nums',\n",
       "  'from functools import reduce',\n",
       "  'sum_list = reduce(lambda x,y:x+y,nums)',\n",
       "  'sum_list',\n",
       "  'nums',\n",
       "  'reduce(lambda x,y:x+y,map(lambda x : x/2,filter(lambda x: x%2==0,nums)))',\n",
       "  \"f = open('test_file.txt','x')\",\n",
       "  'f.write(\"I\\'m Rajesh Sharma and one day I\\'ll be a Data Scientist.\")',\n",
       "  'f.close()',\n",
       "  \"f1 = open('test_file.txt','r')\",\n",
       "  'f1.read()',\n",
       "  'f1.tell()',\n",
       "  'f1.seek(1)',\n",
       "  'f1.tell()',\n",
       "  'f1.read(5)',\n",
       "  'f1.seek(50)',\n",
       "  'f1.read()',\n",
       "  'f1.tell()',\n",
       "  'type(f1.readlines())',\n",
       "  'type(f1.readline())',\n",
       "  'f1.seek(20)',\n",
       "  'f1.readlines()',\n",
       "  'f1.readline()',\n",
       "  'f1.seek(20)',\n",
       "  'f1.readline()',\n",
       "  'f1.close()',\n",
       "  'import os',\n",
       "  'dir(__builtins__)',\n",
       "  'dir(os)',\n",
       "  \"os.rename('test_file.txt','file_manipulations.txt')\",\n",
       "  'f1.read()               # because file is closed',\n",
       "  'os.getcwd()',\n",
       "  \"os.chdir('E:\\\\\\\\STUDY\\\\\\\\PROJECTS\\\\\\\\AAIC_Practice')\",\n",
       "  'os.getcwd()',\n",
       "  \"os.mkdir('VIDEO_PRACTICE_TEST')\",\n",
       "  'os.listdir()',\n",
       "  \"os.rmdir('VIDEO_PRACTICE_TEST')\",\n",
       "  \"os.mkdir('VIDEO_PRACTICE_TEST2')\",\n",
       "  'os.listdir()',\n",
       "  'lines = [\"This is not a hellow world!!\", \"This is much more than a hello world!!\", \"Thats my feelings for DS, ML and DL.\"]',\n",
       "  \"with open('test_file2.txt','x') as f_test:\\n    f_test.writelines(lines)\",\n",
       "  'os.getcwd()',\n",
       "  'import shutil',\n",
       "  'shutil.move(\\'test_file2.txt\\',os.getcwd()+\"\\\\\\\\VIDEO_PRACTICE_TEST2\")',\n",
       "  'os.getcwd()',\n",
       "  \"os.rmdir('VIDEO_PRACTICE_TEST2')           # As said it only deletes a empty directory\",\n",
       "  'dir(shutil)',\n",
       "  'import pdb',\n",
       "  'dir(pdb)',\n",
       "  'test_ones = [1,2,3,4,5,6,7,8,9]',\n",
       "  'test_ones[1:]',\n",
       "  'test_ones[1:4] = [1]',\n",
       "  'test_ones',\n",
       "  'ones = [val for val in range(1,11)]',\n",
       "  'ones',\n",
       "  'ones[1:] = [1]',\n",
       "  'ones',\n",
       "  'import numpy as np',\n",
       "  'np_ones = np.arange(1,11)',\n",
       "  'np_ones',\n",
       "  'np_ones[1:] = [1] ',\n",
       "  'np_ones',\n",
       "  'np_ones[1:4]',\n",
       "  'len(np_ones)',\n",
       "  'def multiple_of_4(val):\\n    for n in range(1,len(val)+1,1):\\n        pdb.set_trace()\\n        print(n*4)',\n",
       "  'multiple_of_4(np_ones)',\n",
       "  'np_ones',\n",
       "  'def multiple_of_4(val):\\n    for n in range(1,len(val)+1,1):\\n        pdb.set_trace()\\n        print(n*4)',\n",
       "  'multiple_of_4(np_ones)',\n",
       "  'multiple_of_4(np_ones)',\n",
       "  'np_ones = [1,2,3,4,5]',\n",
       "  'def multiple_of_4(val):\\n    for n in range(1,len(val)+1,1):\\n        pdb.set_trace()\\n        print(n*4)',\n",
       "  'multiple_of_4(np_ones)',\n",
       "  'def multiple_of_4(val):\\n    for n in range(1,len(val)+1,1):\\n        pdb.set_trace()\\n        print(n*4)',\n",
       "  'multiple_of_4(np_ones)',\n",
       "  'def multiple_of_4(val):\\n    for n in range(1,len(val)+1,1):\\n#         pdb.set_trace()\\n        print(n*4)',\n",
       "  'multiple_of_4(np_ones)',\n",
       "  'def multiple_of_4(val):\\n    for n in range(1,len(val)+1,1):\\n        pdb.set_trace()\\n        print(n*4)',\n",
       "  'multiple_of_4(np_ones)',\n",
       "  'multiple_of_4(np_ones)',\n",
       "  'multiple_of_4(np_ones)',\n",
       "  'globals()'],\n",
       " '_oh': {3: 'This function prints the name of the person.',\n",
       "  11: 44545,\n",
       "  17: 'This function prints the name of the person.',\n",
       "  25: 44545,\n",
       "  27: 89.8475,\n",
       "  28: (2, 0),\n",
       "  29: (2, 2),\n",
       "  30: True,\n",
       "  31: True,\n",
       "  32: False,\n",
       "  33: False,\n",
       "  34: True,\n",
       "  35: True,\n",
       "  36: False,\n",
       "  37: True,\n",
       "  44: [1, 2, 3, 4, 5, 6, 7, 8, 9],\n",
       "  45: (1, 2, 3, 4, 5, 6, 7, 8, 9),\n",
       "  46: {1, 2, 3, 4, 5, 6, 7, 8, 9},\n",
       "  47: {0, 1, 2, 3, 4, 5, 6, 7, 8, 9},\n",
       "  49: False,\n",
       "  50: False,\n",
       "  51: False,\n",
       "  52: True,\n",
       "  54: [24.75, 9.75, 26.25, 2.5, 43.75, 22.25],\n",
       "  58: 15,\n",
       "  60: ('Rajesh', 'Kumar', 'sharma'),\n",
       "  68: 120,\n",
       "  73: [0, 1, 4, 9, 16, 25, 36, 49, 64, 81],\n",
       "  75: 8,\n",
       "  77: [1, 2, 3, 4, 5, 6, 7, 8, 9],\n",
       "  80: 45,\n",
       "  81: [1, 2, 3, 4, 5, 6, 7, 8, 9],\n",
       "  82: 10.0,\n",
       "  84: 55,\n",
       "  87: \"I'm Rajesh Sharma and one day I'll be a Data Scientist.\",\n",
       "  88: 55,\n",
       "  89: 1,\n",
       "  90: 1,\n",
       "  91: \"'m Ra\",\n",
       "  92: 50,\n",
       "  93: 'tist.',\n",
       "  94: 55,\n",
       "  95: list,\n",
       "  96: str,\n",
       "  97: 20,\n",
       "  98: [\"d one day I'll be a Data Scientist.\"],\n",
       "  99: '',\n",
       "  100: 20,\n",
       "  101: \"d one day I'll be a Data Scientist.\",\n",
       "  104: ['ArithmeticError',\n",
       "   'AssertionError',\n",
       "   'AttributeError',\n",
       "   'BaseException',\n",
       "   'BlockingIOError',\n",
       "   'BrokenPipeError',\n",
       "   'BufferError',\n",
       "   'BytesWarning',\n",
       "   'ChildProcessError',\n",
       "   'ConnectionAbortedError',\n",
       "   'ConnectionError',\n",
       "   'ConnectionRefusedError',\n",
       "   'ConnectionResetError',\n",
       "   'DeprecationWarning',\n",
       "   'EOFError',\n",
       "   'Ellipsis',\n",
       "   'EnvironmentError',\n",
       "   'Exception',\n",
       "   'False',\n",
       "   'FileExistsError',\n",
       "   'FileNotFoundError',\n",
       "   'FloatingPointError',\n",
       "   'FutureWarning',\n",
       "   'GeneratorExit',\n",
       "   'IOError',\n",
       "   'ImportError',\n",
       "   'ImportWarning',\n",
       "   'IndentationError',\n",
       "   'IndexError',\n",
       "   'InterruptedError',\n",
       "   'IsADirectoryError',\n",
       "   'KeyError',\n",
       "   'KeyboardInterrupt',\n",
       "   'LookupError',\n",
       "   'MemoryError',\n",
       "   'ModuleNotFoundError',\n",
       "   'NameError',\n",
       "   'None',\n",
       "   'NotADirectoryError',\n",
       "   'NotImplemented',\n",
       "   'NotImplementedError',\n",
       "   'OSError',\n",
       "   'OverflowError',\n",
       "   'PendingDeprecationWarning',\n",
       "   'PermissionError',\n",
       "   'ProcessLookupError',\n",
       "   'RecursionError',\n",
       "   'ReferenceError',\n",
       "   'ResourceWarning',\n",
       "   'RuntimeError',\n",
       "   'RuntimeWarning',\n",
       "   'StopAsyncIteration',\n",
       "   'StopIteration',\n",
       "   'SyntaxError',\n",
       "   'SyntaxWarning',\n",
       "   'SystemError',\n",
       "   'SystemExit',\n",
       "   'TabError',\n",
       "   'TimeoutError',\n",
       "   'True',\n",
       "   'TypeError',\n",
       "   'UnboundLocalError',\n",
       "   'UnicodeDecodeError',\n",
       "   'UnicodeEncodeError',\n",
       "   'UnicodeError',\n",
       "   'UnicodeTranslateError',\n",
       "   'UnicodeWarning',\n",
       "   'UserWarning',\n",
       "   'ValueError',\n",
       "   'Warning',\n",
       "   'WindowsError',\n",
       "   'ZeroDivisionError',\n",
       "   '__IPYTHON__',\n",
       "   '__build_class__',\n",
       "   '__debug__',\n",
       "   '__doc__',\n",
       "   '__import__',\n",
       "   '__loader__',\n",
       "   '__name__',\n",
       "   '__package__',\n",
       "   '__spec__',\n",
       "   'abs',\n",
       "   'all',\n",
       "   'any',\n",
       "   'ascii',\n",
       "   'bin',\n",
       "   'bool',\n",
       "   'bytearray',\n",
       "   'bytes',\n",
       "   'callable',\n",
       "   'chr',\n",
       "   'classmethod',\n",
       "   'compile',\n",
       "   'complex',\n",
       "   'copyright',\n",
       "   'credits',\n",
       "   'delattr',\n",
       "   'dict',\n",
       "   'dir',\n",
       "   'display',\n",
       "   'divmod',\n",
       "   'enumerate',\n",
       "   'eval',\n",
       "   'exec',\n",
       "   'filter',\n",
       "   'float',\n",
       "   'format',\n",
       "   'frozenset',\n",
       "   'get_ipython',\n",
       "   'getattr',\n",
       "   'globals',\n",
       "   'hasattr',\n",
       "   'hash',\n",
       "   'help',\n",
       "   'hex',\n",
       "   'id',\n",
       "   'input',\n",
       "   'int',\n",
       "   'isinstance',\n",
       "   'issubclass',\n",
       "   'iter',\n",
       "   'len',\n",
       "   'license',\n",
       "   'list',\n",
       "   'locals',\n",
       "   'map',\n",
       "   'max',\n",
       "   'memoryview',\n",
       "   'min',\n",
       "   'next',\n",
       "   'object',\n",
       "   'oct',\n",
       "   'open',\n",
       "   'ord',\n",
       "   'pow',\n",
       "   'print',\n",
       "   'property',\n",
       "   'range',\n",
       "   'repr',\n",
       "   'reversed',\n",
       "   'round',\n",
       "   'set',\n",
       "   'setattr',\n",
       "   'slice',\n",
       "   'sorted',\n",
       "   'staticmethod',\n",
       "   'str',\n",
       "   'sum',\n",
       "   'super',\n",
       "   'tuple',\n",
       "   'type',\n",
       "   'vars',\n",
       "   'zip'],\n",
       "  105: ['DirEntry',\n",
       "   'F_OK',\n",
       "   'MutableMapping',\n",
       "   'O_APPEND',\n",
       "   'O_BINARY',\n",
       "   'O_CREAT',\n",
       "   'O_EXCL',\n",
       "   'O_NOINHERIT',\n",
       "   'O_RANDOM',\n",
       "   'O_RDONLY',\n",
       "   'O_RDWR',\n",
       "   'O_SEQUENTIAL',\n",
       "   'O_SHORT_LIVED',\n",
       "   'O_TEMPORARY',\n",
       "   'O_TEXT',\n",
       "   'O_TRUNC',\n",
       "   'O_WRONLY',\n",
       "   'P_DETACH',\n",
       "   'P_NOWAIT',\n",
       "   'P_NOWAITO',\n",
       "   'P_OVERLAY',\n",
       "   'P_WAIT',\n",
       "   'PathLike',\n",
       "   'R_OK',\n",
       "   'SEEK_CUR',\n",
       "   'SEEK_END',\n",
       "   'SEEK_SET',\n",
       "   'TMP_MAX',\n",
       "   'W_OK',\n",
       "   'X_OK',\n",
       "   '_Environ',\n",
       "   '__all__',\n",
       "   '__builtins__',\n",
       "   '__cached__',\n",
       "   '__doc__',\n",
       "   '__file__',\n",
       "   '__loader__',\n",
       "   '__name__',\n",
       "   '__package__',\n",
       "   '__spec__',\n",
       "   '_execvpe',\n",
       "   '_exists',\n",
       "   '_exit',\n",
       "   '_fspath',\n",
       "   '_get_exports_list',\n",
       "   '_putenv',\n",
       "   '_unsetenv',\n",
       "   '_wrap_close',\n",
       "   'abc',\n",
       "   'abort',\n",
       "   'access',\n",
       "   'altsep',\n",
       "   'chdir',\n",
       "   'chmod',\n",
       "   'close',\n",
       "   'closerange',\n",
       "   'cpu_count',\n",
       "   'curdir',\n",
       "   'defpath',\n",
       "   'device_encoding',\n",
       "   'devnull',\n",
       "   'dup',\n",
       "   'dup2',\n",
       "   'environ',\n",
       "   'errno',\n",
       "   'error',\n",
       "   'execl',\n",
       "   'execle',\n",
       "   'execlp',\n",
       "   'execlpe',\n",
       "   'execv',\n",
       "   'execve',\n",
       "   'execvp',\n",
       "   'execvpe',\n",
       "   'extsep',\n",
       "   'fdopen',\n",
       "   'fsdecode',\n",
       "   'fsencode',\n",
       "   'fspath',\n",
       "   'fstat',\n",
       "   'fsync',\n",
       "   'ftruncate',\n",
       "   'get_exec_path',\n",
       "   'get_handle_inheritable',\n",
       "   'get_inheritable',\n",
       "   'get_terminal_size',\n",
       "   'getcwd',\n",
       "   'getcwdb',\n",
       "   'getenv',\n",
       "   'getlogin',\n",
       "   'getpid',\n",
       "   'getppid',\n",
       "   'isatty',\n",
       "   'kill',\n",
       "   'linesep',\n",
       "   'link',\n",
       "   'listdir',\n",
       "   'lseek',\n",
       "   'lstat',\n",
       "   'makedirs',\n",
       "   'mkdir',\n",
       "   'name',\n",
       "   'open',\n",
       "   'pardir',\n",
       "   'path',\n",
       "   'pathsep',\n",
       "   'pipe',\n",
       "   'popen',\n",
       "   'putenv',\n",
       "   'read',\n",
       "   'readlink',\n",
       "   'remove',\n",
       "   'removedirs',\n",
       "   'rename',\n",
       "   'renames',\n",
       "   'replace',\n",
       "   'rmdir',\n",
       "   'scandir',\n",
       "   'sep',\n",
       "   'set_handle_inheritable',\n",
       "   'set_inheritable',\n",
       "   'spawnl',\n",
       "   'spawnle',\n",
       "   'spawnv',\n",
       "   'spawnve',\n",
       "   'st',\n",
       "   'startfile',\n",
       "   'stat',\n",
       "   'stat_float_times',\n",
       "   'stat_result',\n",
       "   'statvfs_result',\n",
       "   'strerror',\n",
       "   'supports_bytes_environ',\n",
       "   'supports_dir_fd',\n",
       "   'supports_effective_ids',\n",
       "   'supports_fd',\n",
       "   'supports_follow_symlinks',\n",
       "   'symlink',\n",
       "   'sys',\n",
       "   'system',\n",
       "   'terminal_size',\n",
       "   'times',\n",
       "   'times_result',\n",
       "   'truncate',\n",
       "   'umask',\n",
       "   'uname_result',\n",
       "   'unlink',\n",
       "   'urandom',\n",
       "   'utime',\n",
       "   'waitpid',\n",
       "   'walk',\n",
       "   'write'],\n",
       "  108: 'E:\\\\STUDY\\\\GIT\\\\aaic_practice\\\\MODULES\\\\Module_1_All_about_Python',\n",
       "  110: 'E:\\\\STUDY\\\\PROJECTS\\\\AAIC_Practice',\n",
       "  112: ['ASSIGNMENTS', 'INTERVIEW_Qs', 'MODULES', 'VIDEO_PRACTICE_TEST'],\n",
       "  115: ['ASSIGNMENTS', 'INTERVIEW_Qs', 'MODULES', 'VIDEO_PRACTICE_TEST2'],\n",
       "  118: 'E:\\\\STUDY\\\\PROJECTS\\\\AAIC_Practice',\n",
       "  120: 'E:\\\\STUDY\\\\PROJECTS\\\\AAIC_Practice\\\\VIDEO_PRACTICE_TEST2\\\\test_file2.txt',\n",
       "  121: 'E:\\\\STUDY\\\\PROJECTS\\\\AAIC_Practice',\n",
       "  123: ['Error',\n",
       "   'ExecError',\n",
       "   'ReadError',\n",
       "   'RegistryError',\n",
       "   'SameFileError',\n",
       "   'SpecialFileError',\n",
       "   '_ARCHIVE_FORMATS',\n",
       "   '_BZ2_SUPPORTED',\n",
       "   '_LZMA_SUPPORTED',\n",
       "   '_UNPACK_FORMATS',\n",
       "   '_ZLIB_SUPPORTED',\n",
       "   '__all__',\n",
       "   '__builtins__',\n",
       "   '__cached__',\n",
       "   '__doc__',\n",
       "   '__file__',\n",
       "   '__loader__',\n",
       "   '__name__',\n",
       "   '__package__',\n",
       "   '__spec__',\n",
       "   '_basename',\n",
       "   '_check_unpack_options',\n",
       "   '_copyxattr',\n",
       "   '_destinsrc',\n",
       "   '_ensure_directory',\n",
       "   '_find_unpack_format',\n",
       "   '_get_gid',\n",
       "   '_get_uid',\n",
       "   '_make_tarball',\n",
       "   '_make_zipfile',\n",
       "   '_ntuple_diskusage',\n",
       "   '_rmtree_safe_fd',\n",
       "   '_rmtree_unsafe',\n",
       "   '_samefile',\n",
       "   '_unpack_tarfile',\n",
       "   '_unpack_zipfile',\n",
       "   '_use_fd_functions',\n",
       "   'chown',\n",
       "   'collections',\n",
       "   'copy',\n",
       "   'copy2',\n",
       "   'copyfile',\n",
       "   'copyfileobj',\n",
       "   'copymode',\n",
       "   'copystat',\n",
       "   'copytree',\n",
       "   'disk_usage',\n",
       "   'errno',\n",
       "   'fnmatch',\n",
       "   'get_archive_formats',\n",
       "   'get_terminal_size',\n",
       "   'get_unpack_formats',\n",
       "   'getgrnam',\n",
       "   'getpwnam',\n",
       "   'ignore_patterns',\n",
       "   'make_archive',\n",
       "   'move',\n",
       "   'nt',\n",
       "   'os',\n",
       "   'register_archive_format',\n",
       "   'register_unpack_format',\n",
       "   'rmtree',\n",
       "   'stat',\n",
       "   'sys',\n",
       "   'unpack_archive',\n",
       "   'unregister_archive_format',\n",
       "   'unregister_unpack_format',\n",
       "   'which'],\n",
       "  125: ['Pdb',\n",
       "   'Restart',\n",
       "   'TESTCMD',\n",
       "   '__all__',\n",
       "   '__builtins__',\n",
       "   '__cached__',\n",
       "   '__doc__',\n",
       "   '__file__',\n",
       "   '__loader__',\n",
       "   '__name__',\n",
       "   '__package__',\n",
       "   '__spec__',\n",
       "   '_rstr',\n",
       "   '_usage',\n",
       "   'bdb',\n",
       "   'cmd',\n",
       "   'code',\n",
       "   'dis',\n",
       "   'find_function',\n",
       "   'getsourcelines',\n",
       "   'glob',\n",
       "   'help',\n",
       "   'inspect',\n",
       "   'lasti2lineno',\n",
       "   'line_prefix',\n",
       "   'linecache',\n",
       "   'main',\n",
       "   'os',\n",
       "   'pm',\n",
       "   'post_mortem',\n",
       "   'pprint',\n",
       "   're',\n",
       "   'run',\n",
       "   'runcall',\n",
       "   'runctx',\n",
       "   'runeval',\n",
       "   'set_trace',\n",
       "   'signal',\n",
       "   'sys',\n",
       "   'test',\n",
       "   'traceback'],\n",
       "  127: [2, 3, 4, 5, 6, 7, 8, 9],\n",
       "  129: [1, 1, 5, 6, 7, 8, 9],\n",
       "  131: [1, 1],\n",
       "  133: [1, 1],\n",
       "  136: array([1, 1, 1, 1, 1, 1, 1, 1, 1, 1]),\n",
       "  138: array([1, 1, 1, 1, 1, 1, 1, 1, 1, 1]),\n",
       "  139: array([1, 1, 1]),\n",
       "  140: 10,\n",
       "  143: array([1, 1, 1, 1, 1, 1, 1, 1, 1, 1])},\n",
       " '_dh': ['E:\\\\STUDY\\\\GIT\\\\aaic_practice\\\\MODULES\\\\Module_1_All_about_Python'],\n",
       " 'In': ['',\n",
       "  'def print_name(name):\\n    \"\"\"This function prints the name of the person.\"\"\"\\n    print(name)',\n",
       "  \"print_name('Rajesh')\",\n",
       "  'print_name.__doc__',\n",
       "  'num1 = 98\\nnum2 = 78',\n",
       "  'def compute_hcf(num1, num2):\\n    \"\"\"\\n    This function will compute the HCF of the given numbers.\\n    \"\"\"\\n    if num1 > num2:\\n        smaller = num2\\n    else:\\n        smaller = num1\\n\\n    hcf = []\\n\\n    for num in range(1,smaller+1):\\n        if num1%num == 0 and num2%num == 0:\\n            hcf.append(num)\\n    return hcf[-1]',\n",
       "  'print(\"HCF of 98 and 78 is {}\".format(compute_hcf(num1,num2)))',\n",
       "  'num1, num2 = 4,16',\n",
       "  'print(\"HCF of {} and {} is {}\".format(num1, num2, compute_hcf(num1,num2)))',\n",
       "  'num1, num2 = 16, 96',\n",
       "  'print(\"HCF of {} and {} is {}\".format(num1, num2, compute_hcf(num1,num2)))',\n",
       "  'abs(-44545)',\n",
       "  \"abs('Function name')\",\n",
       "  'os.getcwd()',\n",
       "  'len(np_ones)',\n",
       "  'def print_name(name):\\n    \"\"\"This function prints the name of the person.\"\"\"\\n    print(name)',\n",
       "  \"print_name('Rajesh')\",\n",
       "  'print_name.__doc__',\n",
       "  'num1 = 98\\nnum2 = 78',\n",
       "  'def compute_hcf(num1, num2):\\n    \"\"\"\\n    This function will compute the HCF of the given numbers.\\n    \"\"\"\\n    if num1 > num2:\\n        smaller = num2\\n    else:\\n        smaller = num1\\n\\n    hcf = []\\n\\n    for num in range(1,smaller+1):\\n        if num1%num == 0 and num2%num == 0:\\n            hcf.append(num)\\n    return hcf[-1]',\n",
       "  'print(\"HCF of 98 and 78 is {}\".format(compute_hcf(num1,num2)))',\n",
       "  'num1, num2 = 4,16',\n",
       "  'print(\"HCF of {} and {} is {}\".format(num1, num2, compute_hcf(num1,num2)))',\n",
       "  'num1, num2 = 16, 96',\n",
       "  'print(\"HCF of {} and {} is {}\".format(num1, num2, compute_hcf(num1,num2)))',\n",
       "  'abs(-44545)',\n",
       "  \"abs('Function name')\",\n",
       "  'abs(-89.8475)',\n",
       "  'divmod(4,2)             # Returns quotient and remainder',\n",
       "  'divmod(8,3)',\n",
       "  'all([1,2,3,4])                # it returns the bool(x) or bool for all values of x',\n",
       "  'all([1,2,3,4,])',\n",
       "  'all([1,2,3,4,0])              # 0 in python is False internally thus it returned False',\n",
       "  'all([False,1,2,3,4])',\n",
       "  'bool(7)',\n",
       "  \"bool('X')\",\n",
       "  'bool(0)',\n",
       "  'bool(-1)',\n",
       "  'import pandas',\n",
       "  'print(dir(pandas))',\n",
       "  \"numbers = [10,20,30,40,50]\\n\\nfor num1 , num2 in enumerate(numbers):\\n    print(num1, ' || ', num2)\",\n",
       "  'for idx, num in enumerate(numbers):\\n    print(\"Index ---> {} && Number ---> {}\".format(idx,num))',\n",
       "  \"for idx, num in enumerate(numbers,500):\\n    print(idx, ' ||| ', num)\",\n",
       "  'def fil_f(num):\\n    return num >= abs(num)',\n",
       "  'list(filter(fil_f,[1,2,3,4,5,6,7,8,9]))',\n",
       "  'tuple(filter(fil_f,[1,2,3,4,5,6,7,8,9]))',\n",
       "  'set(filter(fil_f,[1,2,3,4,5,6,7,8,9]))',\n",
       "  'set(filter(fil_f,[1,2,3,4,5,6,7,8,9,0,-1,-2,-3,-4]))',\n",
       "  'scores = {10,39,89,99,105,175}',\n",
       "  'isinstance(scores,list)',\n",
       "  'isinstance(scores,dict)',\n",
       "  'isinstance(scores,tuple)',\n",
       "  'isinstance(scores,set)',\n",
       "  'def divide_num_by_4(num):\\n    return num/4',\n",
       "  'list(map(divide_num_by_4,scores))',\n",
       "  'from functools import reduce',\n",
       "  'def cume(val1, val2):\\n    return val1+val2',\n",
       "  'nums = [1,2,3,4,5]',\n",
       "  'reduce(cume,nums)',\n",
       "  \"def hello_world(**kwargs):\\n    return (kwargs['first_name'], kwargs['middle_name'],kwargs['last_name'])\",\n",
       "  \"hello_world(first_name='Rajesh',middle_name='Kumar',last_name='sharma',an_name='titu')\",\n",
       "  'get_ipython().run_line_magic(\\'timeit\\', \"hello_world(first_name=\\'Rajesh\\',middle_name=\\'Kumar\\',last_name=\\'sharma\\')\")',\n",
       "  \"def hello_world(**kwargs):\\n    print (kwargs['first_name'], kwargs['middle_name'],kwargs['last_name'])\",\n",
       "  \"hello_world(first_name='Rajesh',middle_name='Kumar',last_name='sharma')\",\n",
       "  \"hello_world(first_name='Rajesh',middle_name='Kumar',last_name='sharma',an_name='titu')\",\n",
       "  'def name_printing(*names):\\n    for l_name in names:\\n        print(\"First name is Rajesh and Last name is {0}\".format(l_name))',\n",
       "  \"name_printing('sharma','kumar','kapoor')\",\n",
       "  'def factorial(num):\\n    return num if num == 1 else num * factorial(num-1)',\n",
       "  'factorial(5)',\n",
       "  'def fibonacci(num):\\n    return num if num <=1 else fibonacci(num-1) + fibonacci(num-2)',\n",
       "  'nums = range(0,10)',\n",
       "  'for num in nums:\\n    print(fibonacci(num))',\n",
       "  'sqr = lambda x: x**2',\n",
       "  '[sqr(num) for num in nums]',\n",
       "  'sum_of_2s = lambda x,y : x+y',\n",
       "  'sum_of_2s(3,5)',\n",
       "  'nums = [1,2,3,4,5,6,7,8,9]',\n",
       "  'nums',\n",
       "  'from functools import reduce',\n",
       "  'sum_list = reduce(lambda x,y:x+y,nums)',\n",
       "  'sum_list',\n",
       "  'nums',\n",
       "  'reduce(lambda x,y:x+y,map(lambda x : x/2,filter(lambda x: x%2==0,nums)))',\n",
       "  \"f = open('test_file.txt','x')\",\n",
       "  'f.write(\"I\\'m Rajesh Sharma and one day I\\'ll be a Data Scientist.\")',\n",
       "  'f.close()',\n",
       "  \"f1 = open('test_file.txt','r')\",\n",
       "  'f1.read()',\n",
       "  'f1.tell()',\n",
       "  'f1.seek(1)',\n",
       "  'f1.tell()',\n",
       "  'f1.read(5)',\n",
       "  'f1.seek(50)',\n",
       "  'f1.read()',\n",
       "  'f1.tell()',\n",
       "  'type(f1.readlines())',\n",
       "  'type(f1.readline())',\n",
       "  'f1.seek(20)',\n",
       "  'f1.readlines()',\n",
       "  'f1.readline()',\n",
       "  'f1.seek(20)',\n",
       "  'f1.readline()',\n",
       "  'f1.close()',\n",
       "  'import os',\n",
       "  'dir(__builtins__)',\n",
       "  'dir(os)',\n",
       "  \"os.rename('test_file.txt','file_manipulations.txt')\",\n",
       "  'f1.read()               # because file is closed',\n",
       "  'os.getcwd()',\n",
       "  \"os.chdir('E:\\\\\\\\STUDY\\\\\\\\PROJECTS\\\\\\\\AAIC_Practice')\",\n",
       "  'os.getcwd()',\n",
       "  \"os.mkdir('VIDEO_PRACTICE_TEST')\",\n",
       "  'os.listdir()',\n",
       "  \"os.rmdir('VIDEO_PRACTICE_TEST')\",\n",
       "  \"os.mkdir('VIDEO_PRACTICE_TEST2')\",\n",
       "  'os.listdir()',\n",
       "  'lines = [\"This is not a hellow world!!\", \"This is much more than a hello world!!\", \"Thats my feelings for DS, ML and DL.\"]',\n",
       "  \"with open('test_file2.txt','x') as f_test:\\n    f_test.writelines(lines)\",\n",
       "  'os.getcwd()',\n",
       "  'import shutil',\n",
       "  'shutil.move(\\'test_file2.txt\\',os.getcwd()+\"\\\\\\\\VIDEO_PRACTICE_TEST2\")',\n",
       "  'os.getcwd()',\n",
       "  \"os.rmdir('VIDEO_PRACTICE_TEST2')           # As said it only deletes a empty directory\",\n",
       "  'dir(shutil)',\n",
       "  'import pdb',\n",
       "  'dir(pdb)',\n",
       "  'test_ones = [1,2,3,4,5,6,7,8,9]',\n",
       "  'test_ones[1:]',\n",
       "  'test_ones[1:4] = [1]',\n",
       "  'test_ones',\n",
       "  'ones = [val for val in range(1,11)]',\n",
       "  'ones',\n",
       "  'ones[1:] = [1]',\n",
       "  'ones',\n",
       "  'import numpy as np',\n",
       "  'np_ones = np.arange(1,11)',\n",
       "  'np_ones',\n",
       "  'np_ones[1:] = [1] ',\n",
       "  'np_ones',\n",
       "  'np_ones[1:4]',\n",
       "  'len(np_ones)',\n",
       "  'def multiple_of_4(val):\\n    for n in range(1,len(val)+1,1):\\n        pdb.set_trace()\\n        print(n*4)',\n",
       "  'multiple_of_4(np_ones)',\n",
       "  'np_ones',\n",
       "  'def multiple_of_4(val):\\n    for n in range(1,len(val)+1,1):\\n        pdb.set_trace()\\n        print(n*4)',\n",
       "  'multiple_of_4(np_ones)',\n",
       "  'multiple_of_4(np_ones)',\n",
       "  'np_ones = [1,2,3,4,5]',\n",
       "  'def multiple_of_4(val):\\n    for n in range(1,len(val)+1,1):\\n        pdb.set_trace()\\n        print(n*4)',\n",
       "  'multiple_of_4(np_ones)',\n",
       "  'def multiple_of_4(val):\\n    for n in range(1,len(val)+1,1):\\n        pdb.set_trace()\\n        print(n*4)',\n",
       "  'multiple_of_4(np_ones)',\n",
       "  'def multiple_of_4(val):\\n    for n in range(1,len(val)+1,1):\\n#         pdb.set_trace()\\n        print(n*4)',\n",
       "  'multiple_of_4(np_ones)',\n",
       "  'def multiple_of_4(val):\\n    for n in range(1,len(val)+1,1):\\n        pdb.set_trace()\\n        print(n*4)',\n",
       "  'multiple_of_4(np_ones)',\n",
       "  'multiple_of_4(np_ones)',\n",
       "  'multiple_of_4(np_ones)',\n",
       "  'globals()'],\n",
       " 'Out': {3: 'This function prints the name of the person.',\n",
       "  11: 44545,\n",
       "  17: 'This function prints the name of the person.',\n",
       "  25: 44545,\n",
       "  27: 89.8475,\n",
       "  28: (2, 0),\n",
       "  29: (2, 2),\n",
       "  30: True,\n",
       "  31: True,\n",
       "  32: False,\n",
       "  33: False,\n",
       "  34: True,\n",
       "  35: True,\n",
       "  36: False,\n",
       "  37: True,\n",
       "  44: [1, 2, 3, 4, 5, 6, 7, 8, 9],\n",
       "  45: (1, 2, 3, 4, 5, 6, 7, 8, 9),\n",
       "  46: {1, 2, 3, 4, 5, 6, 7, 8, 9},\n",
       "  47: {0, 1, 2, 3, 4, 5, 6, 7, 8, 9},\n",
       "  49: False,\n",
       "  50: False,\n",
       "  51: False,\n",
       "  52: True,\n",
       "  54: [24.75, 9.75, 26.25, 2.5, 43.75, 22.25],\n",
       "  58: 15,\n",
       "  60: ('Rajesh', 'Kumar', 'sharma'),\n",
       "  68: 120,\n",
       "  73: [0, 1, 4, 9, 16, 25, 36, 49, 64, 81],\n",
       "  75: 8,\n",
       "  77: [1, 2, 3, 4, 5, 6, 7, 8, 9],\n",
       "  80: 45,\n",
       "  81: [1, 2, 3, 4, 5, 6, 7, 8, 9],\n",
       "  82: 10.0,\n",
       "  84: 55,\n",
       "  87: \"I'm Rajesh Sharma and one day I'll be a Data Scientist.\",\n",
       "  88: 55,\n",
       "  89: 1,\n",
       "  90: 1,\n",
       "  91: \"'m Ra\",\n",
       "  92: 50,\n",
       "  93: 'tist.',\n",
       "  94: 55,\n",
       "  95: list,\n",
       "  96: str,\n",
       "  97: 20,\n",
       "  98: [\"d one day I'll be a Data Scientist.\"],\n",
       "  99: '',\n",
       "  100: 20,\n",
       "  101: \"d one day I'll be a Data Scientist.\",\n",
       "  104: ['ArithmeticError',\n",
       "   'AssertionError',\n",
       "   'AttributeError',\n",
       "   'BaseException',\n",
       "   'BlockingIOError',\n",
       "   'BrokenPipeError',\n",
       "   'BufferError',\n",
       "   'BytesWarning',\n",
       "   'ChildProcessError',\n",
       "   'ConnectionAbortedError',\n",
       "   'ConnectionError',\n",
       "   'ConnectionRefusedError',\n",
       "   'ConnectionResetError',\n",
       "   'DeprecationWarning',\n",
       "   'EOFError',\n",
       "   'Ellipsis',\n",
       "   'EnvironmentError',\n",
       "   'Exception',\n",
       "   'False',\n",
       "   'FileExistsError',\n",
       "   'FileNotFoundError',\n",
       "   'FloatingPointError',\n",
       "   'FutureWarning',\n",
       "   'GeneratorExit',\n",
       "   'IOError',\n",
       "   'ImportError',\n",
       "   'ImportWarning',\n",
       "   'IndentationError',\n",
       "   'IndexError',\n",
       "   'InterruptedError',\n",
       "   'IsADirectoryError',\n",
       "   'KeyError',\n",
       "   'KeyboardInterrupt',\n",
       "   'LookupError',\n",
       "   'MemoryError',\n",
       "   'ModuleNotFoundError',\n",
       "   'NameError',\n",
       "   'None',\n",
       "   'NotADirectoryError',\n",
       "   'NotImplemented',\n",
       "   'NotImplementedError',\n",
       "   'OSError',\n",
       "   'OverflowError',\n",
       "   'PendingDeprecationWarning',\n",
       "   'PermissionError',\n",
       "   'ProcessLookupError',\n",
       "   'RecursionError',\n",
       "   'ReferenceError',\n",
       "   'ResourceWarning',\n",
       "   'RuntimeError',\n",
       "   'RuntimeWarning',\n",
       "   'StopAsyncIteration',\n",
       "   'StopIteration',\n",
       "   'SyntaxError',\n",
       "   'SyntaxWarning',\n",
       "   'SystemError',\n",
       "   'SystemExit',\n",
       "   'TabError',\n",
       "   'TimeoutError',\n",
       "   'True',\n",
       "   'TypeError',\n",
       "   'UnboundLocalError',\n",
       "   'UnicodeDecodeError',\n",
       "   'UnicodeEncodeError',\n",
       "   'UnicodeError',\n",
       "   'UnicodeTranslateError',\n",
       "   'UnicodeWarning',\n",
       "   'UserWarning',\n",
       "   'ValueError',\n",
       "   'Warning',\n",
       "   'WindowsError',\n",
       "   'ZeroDivisionError',\n",
       "   '__IPYTHON__',\n",
       "   '__build_class__',\n",
       "   '__debug__',\n",
       "   '__doc__',\n",
       "   '__import__',\n",
       "   '__loader__',\n",
       "   '__name__',\n",
       "   '__package__',\n",
       "   '__spec__',\n",
       "   'abs',\n",
       "   'all',\n",
       "   'any',\n",
       "   'ascii',\n",
       "   'bin',\n",
       "   'bool',\n",
       "   'bytearray',\n",
       "   'bytes',\n",
       "   'callable',\n",
       "   'chr',\n",
       "   'classmethod',\n",
       "   'compile',\n",
       "   'complex',\n",
       "   'copyright',\n",
       "   'credits',\n",
       "   'delattr',\n",
       "   'dict',\n",
       "   'dir',\n",
       "   'display',\n",
       "   'divmod',\n",
       "   'enumerate',\n",
       "   'eval',\n",
       "   'exec',\n",
       "   'filter',\n",
       "   'float',\n",
       "   'format',\n",
       "   'frozenset',\n",
       "   'get_ipython',\n",
       "   'getattr',\n",
       "   'globals',\n",
       "   'hasattr',\n",
       "   'hash',\n",
       "   'help',\n",
       "   'hex',\n",
       "   'id',\n",
       "   'input',\n",
       "   'int',\n",
       "   'isinstance',\n",
       "   'issubclass',\n",
       "   'iter',\n",
       "   'len',\n",
       "   'license',\n",
       "   'list',\n",
       "   'locals',\n",
       "   'map',\n",
       "   'max',\n",
       "   'memoryview',\n",
       "   'min',\n",
       "   'next',\n",
       "   'object',\n",
       "   'oct',\n",
       "   'open',\n",
       "   'ord',\n",
       "   'pow',\n",
       "   'print',\n",
       "   'property',\n",
       "   'range',\n",
       "   'repr',\n",
       "   'reversed',\n",
       "   'round',\n",
       "   'set',\n",
       "   'setattr',\n",
       "   'slice',\n",
       "   'sorted',\n",
       "   'staticmethod',\n",
       "   'str',\n",
       "   'sum',\n",
       "   'super',\n",
       "   'tuple',\n",
       "   'type',\n",
       "   'vars',\n",
       "   'zip'],\n",
       "  105: ['DirEntry',\n",
       "   'F_OK',\n",
       "   'MutableMapping',\n",
       "   'O_APPEND',\n",
       "   'O_BINARY',\n",
       "   'O_CREAT',\n",
       "   'O_EXCL',\n",
       "   'O_NOINHERIT',\n",
       "   'O_RANDOM',\n",
       "   'O_RDONLY',\n",
       "   'O_RDWR',\n",
       "   'O_SEQUENTIAL',\n",
       "   'O_SHORT_LIVED',\n",
       "   'O_TEMPORARY',\n",
       "   'O_TEXT',\n",
       "   'O_TRUNC',\n",
       "   'O_WRONLY',\n",
       "   'P_DETACH',\n",
       "   'P_NOWAIT',\n",
       "   'P_NOWAITO',\n",
       "   'P_OVERLAY',\n",
       "   'P_WAIT',\n",
       "   'PathLike',\n",
       "   'R_OK',\n",
       "   'SEEK_CUR',\n",
       "   'SEEK_END',\n",
       "   'SEEK_SET',\n",
       "   'TMP_MAX',\n",
       "   'W_OK',\n",
       "   'X_OK',\n",
       "   '_Environ',\n",
       "   '__all__',\n",
       "   '__builtins__',\n",
       "   '__cached__',\n",
       "   '__doc__',\n",
       "   '__file__',\n",
       "   '__loader__',\n",
       "   '__name__',\n",
       "   '__package__',\n",
       "   '__spec__',\n",
       "   '_execvpe',\n",
       "   '_exists',\n",
       "   '_exit',\n",
       "   '_fspath',\n",
       "   '_get_exports_list',\n",
       "   '_putenv',\n",
       "   '_unsetenv',\n",
       "   '_wrap_close',\n",
       "   'abc',\n",
       "   'abort',\n",
       "   'access',\n",
       "   'altsep',\n",
       "   'chdir',\n",
       "   'chmod',\n",
       "   'close',\n",
       "   'closerange',\n",
       "   'cpu_count',\n",
       "   'curdir',\n",
       "   'defpath',\n",
       "   'device_encoding',\n",
       "   'devnull',\n",
       "   'dup',\n",
       "   'dup2',\n",
       "   'environ',\n",
       "   'errno',\n",
       "   'error',\n",
       "   'execl',\n",
       "   'execle',\n",
       "   'execlp',\n",
       "   'execlpe',\n",
       "   'execv',\n",
       "   'execve',\n",
       "   'execvp',\n",
       "   'execvpe',\n",
       "   'extsep',\n",
       "   'fdopen',\n",
       "   'fsdecode',\n",
       "   'fsencode',\n",
       "   'fspath',\n",
       "   'fstat',\n",
       "   'fsync',\n",
       "   'ftruncate',\n",
       "   'get_exec_path',\n",
       "   'get_handle_inheritable',\n",
       "   'get_inheritable',\n",
       "   'get_terminal_size',\n",
       "   'getcwd',\n",
       "   'getcwdb',\n",
       "   'getenv',\n",
       "   'getlogin',\n",
       "   'getpid',\n",
       "   'getppid',\n",
       "   'isatty',\n",
       "   'kill',\n",
       "   'linesep',\n",
       "   'link',\n",
       "   'listdir',\n",
       "   'lseek',\n",
       "   'lstat',\n",
       "   'makedirs',\n",
       "   'mkdir',\n",
       "   'name',\n",
       "   'open',\n",
       "   'pardir',\n",
       "   'path',\n",
       "   'pathsep',\n",
       "   'pipe',\n",
       "   'popen',\n",
       "   'putenv',\n",
       "   'read',\n",
       "   'readlink',\n",
       "   'remove',\n",
       "   'removedirs',\n",
       "   'rename',\n",
       "   'renames',\n",
       "   'replace',\n",
       "   'rmdir',\n",
       "   'scandir',\n",
       "   'sep',\n",
       "   'set_handle_inheritable',\n",
       "   'set_inheritable',\n",
       "   'spawnl',\n",
       "   'spawnle',\n",
       "   'spawnv',\n",
       "   'spawnve',\n",
       "   'st',\n",
       "   'startfile',\n",
       "   'stat',\n",
       "   'stat_float_times',\n",
       "   'stat_result',\n",
       "   'statvfs_result',\n",
       "   'strerror',\n",
       "   'supports_bytes_environ',\n",
       "   'supports_dir_fd',\n",
       "   'supports_effective_ids',\n",
       "   'supports_fd',\n",
       "   'supports_follow_symlinks',\n",
       "   'symlink',\n",
       "   'sys',\n",
       "   'system',\n",
       "   'terminal_size',\n",
       "   'times',\n",
       "   'times_result',\n",
       "   'truncate',\n",
       "   'umask',\n",
       "   'uname_result',\n",
       "   'unlink',\n",
       "   'urandom',\n",
       "   'utime',\n",
       "   'waitpid',\n",
       "   'walk',\n",
       "   'write'],\n",
       "  108: 'E:\\\\STUDY\\\\GIT\\\\aaic_practice\\\\MODULES\\\\Module_1_All_about_Python',\n",
       "  110: 'E:\\\\STUDY\\\\PROJECTS\\\\AAIC_Practice',\n",
       "  112: ['ASSIGNMENTS', 'INTERVIEW_Qs', 'MODULES', 'VIDEO_PRACTICE_TEST'],\n",
       "  115: ['ASSIGNMENTS', 'INTERVIEW_Qs', 'MODULES', 'VIDEO_PRACTICE_TEST2'],\n",
       "  118: 'E:\\\\STUDY\\\\PROJECTS\\\\AAIC_Practice',\n",
       "  120: 'E:\\\\STUDY\\\\PROJECTS\\\\AAIC_Practice\\\\VIDEO_PRACTICE_TEST2\\\\test_file2.txt',\n",
       "  121: 'E:\\\\STUDY\\\\PROJECTS\\\\AAIC_Practice',\n",
       "  123: ['Error',\n",
       "   'ExecError',\n",
       "   'ReadError',\n",
       "   'RegistryError',\n",
       "   'SameFileError',\n",
       "   'SpecialFileError',\n",
       "   '_ARCHIVE_FORMATS',\n",
       "   '_BZ2_SUPPORTED',\n",
       "   '_LZMA_SUPPORTED',\n",
       "   '_UNPACK_FORMATS',\n",
       "   '_ZLIB_SUPPORTED',\n",
       "   '__all__',\n",
       "   '__builtins__',\n",
       "   '__cached__',\n",
       "   '__doc__',\n",
       "   '__file__',\n",
       "   '__loader__',\n",
       "   '__name__',\n",
       "   '__package__',\n",
       "   '__spec__',\n",
       "   '_basename',\n",
       "   '_check_unpack_options',\n",
       "   '_copyxattr',\n",
       "   '_destinsrc',\n",
       "   '_ensure_directory',\n",
       "   '_find_unpack_format',\n",
       "   '_get_gid',\n",
       "   '_get_uid',\n",
       "   '_make_tarball',\n",
       "   '_make_zipfile',\n",
       "   '_ntuple_diskusage',\n",
       "   '_rmtree_safe_fd',\n",
       "   '_rmtree_unsafe',\n",
       "   '_samefile',\n",
       "   '_unpack_tarfile',\n",
       "   '_unpack_zipfile',\n",
       "   '_use_fd_functions',\n",
       "   'chown',\n",
       "   'collections',\n",
       "   'copy',\n",
       "   'copy2',\n",
       "   'copyfile',\n",
       "   'copyfileobj',\n",
       "   'copymode',\n",
       "   'copystat',\n",
       "   'copytree',\n",
       "   'disk_usage',\n",
       "   'errno',\n",
       "   'fnmatch',\n",
       "   'get_archive_formats',\n",
       "   'get_terminal_size',\n",
       "   'get_unpack_formats',\n",
       "   'getgrnam',\n",
       "   'getpwnam',\n",
       "   'ignore_patterns',\n",
       "   'make_archive',\n",
       "   'move',\n",
       "   'nt',\n",
       "   'os',\n",
       "   'register_archive_format',\n",
       "   'register_unpack_format',\n",
       "   'rmtree',\n",
       "   'stat',\n",
       "   'sys',\n",
       "   'unpack_archive',\n",
       "   'unregister_archive_format',\n",
       "   'unregister_unpack_format',\n",
       "   'which'],\n",
       "  125: ['Pdb',\n",
       "   'Restart',\n",
       "   'TESTCMD',\n",
       "   '__all__',\n",
       "   '__builtins__',\n",
       "   '__cached__',\n",
       "   '__doc__',\n",
       "   '__file__',\n",
       "   '__loader__',\n",
       "   '__name__',\n",
       "   '__package__',\n",
       "   '__spec__',\n",
       "   '_rstr',\n",
       "   '_usage',\n",
       "   'bdb',\n",
       "   'cmd',\n",
       "   'code',\n",
       "   'dis',\n",
       "   'find_function',\n",
       "   'getsourcelines',\n",
       "   'glob',\n",
       "   'help',\n",
       "   'inspect',\n",
       "   'lasti2lineno',\n",
       "   'line_prefix',\n",
       "   'linecache',\n",
       "   'main',\n",
       "   'os',\n",
       "   'pm',\n",
       "   'post_mortem',\n",
       "   'pprint',\n",
       "   're',\n",
       "   'run',\n",
       "   'runcall',\n",
       "   'runctx',\n",
       "   'runeval',\n",
       "   'set_trace',\n",
       "   'signal',\n",
       "   'sys',\n",
       "   'test',\n",
       "   'traceback'],\n",
       "  127: [2, 3, 4, 5, 6, 7, 8, 9],\n",
       "  129: [1, 1, 5, 6, 7, 8, 9],\n",
       "  131: [1, 1],\n",
       "  133: [1, 1],\n",
       "  136: array([1, 1, 1, 1, 1, 1, 1, 1, 1, 1]),\n",
       "  138: array([1, 1, 1, 1, 1, 1, 1, 1, 1, 1]),\n",
       "  139: array([1, 1, 1]),\n",
       "  140: 10,\n",
       "  143: array([1, 1, 1, 1, 1, 1, 1, 1, 1, 1])},\n",
       " 'get_ipython': <bound method InteractiveShell.get_ipython of <ipykernel.zmqshell.ZMQInteractiveShell object at 0x000001E757DC3438>>,\n",
       " 'exit': <IPython.core.autocall.ZMQExitAutocall at 0x1e757e65b38>,\n",
       " 'quit': <IPython.core.autocall.ZMQExitAutocall at 0x1e757e65b38>,\n",
       " '_': array([1, 1, 1, 1, 1, 1, 1, 1, 1, 1]),\n",
       " '__': 10,\n",
       " '___': array([1, 1, 1]),\n",
       " '_i': 'multiple_of_4(np_ones)',\n",
       " '_ii': 'multiple_of_4(np_ones)',\n",
       " '_iii': 'multiple_of_4(np_ones)',\n",
       " '_i1': 'def print_name(name):\\n    \"\"\"This function prints the name of the person.\"\"\"\\n    print(name)',\n",
       " 'print_name': <function __main__.print_name(name)>,\n",
       " '_i2': \"print_name('Rajesh')\",\n",
       " '_i3': 'print_name.__doc__',\n",
       " '_3': 'This function prints the name of the person.',\n",
       " '_i4': 'num1 = 98\\nnum2 = 78',\n",
       " 'num1': 4,\n",
       " 'num2': 50,\n",
       " '_i5': 'def compute_hcf(num1, num2):\\n    \"\"\"\\n    This function will compute the HCF of the given numbers.\\n    \"\"\"\\n    if num1 > num2:\\n        smaller = num2\\n    else:\\n        smaller = num1\\n\\n    hcf = []\\n\\n    for num in range(1,smaller+1):\\n        if num1%num == 0 and num2%num == 0:\\n            hcf.append(num)\\n    return hcf[-1]',\n",
       " 'compute_hcf': <function __main__.compute_hcf(num1, num2)>,\n",
       " '_i6': 'print(\"HCF of 98 and 78 is {}\".format(compute_hcf(num1,num2)))',\n",
       " '_i7': 'num1, num2 = 4,16',\n",
       " '_i8': 'print(\"HCF of {} and {} is {}\".format(num1, num2, compute_hcf(num1,num2)))',\n",
       " '_i9': 'num1, num2 = 16, 96',\n",
       " '_i10': 'print(\"HCF of {} and {} is {}\".format(num1, num2, compute_hcf(num1,num2)))',\n",
       " '_i11': 'abs(-44545)',\n",
       " '_11': 44545,\n",
       " '_i12': \"abs('Function name')\",\n",
       " '_i13': 'os.getcwd()',\n",
       " '_i14': 'len(np_ones)',\n",
       " '_i15': 'def print_name(name):\\n    \"\"\"This function prints the name of the person.\"\"\"\\n    print(name)',\n",
       " '_i16': \"print_name('Rajesh')\",\n",
       " '_i17': 'print_name.__doc__',\n",
       " '_17': 'This function prints the name of the person.',\n",
       " '_i18': 'num1 = 98\\nnum2 = 78',\n",
       " '_i19': 'def compute_hcf(num1, num2):\\n    \"\"\"\\n    This function will compute the HCF of the given numbers.\\n    \"\"\"\\n    if num1 > num2:\\n        smaller = num2\\n    else:\\n        smaller = num1\\n\\n    hcf = []\\n\\n    for num in range(1,smaller+1):\\n        if num1%num == 0 and num2%num == 0:\\n            hcf.append(num)\\n    return hcf[-1]',\n",
       " '_i20': 'print(\"HCF of 98 and 78 is {}\".format(compute_hcf(num1,num2)))',\n",
       " '_i21': 'num1, num2 = 4,16',\n",
       " '_i22': 'print(\"HCF of {} and {} is {}\".format(num1, num2, compute_hcf(num1,num2)))',\n",
       " '_i23': 'num1, num2 = 16, 96',\n",
       " '_i24': 'print(\"HCF of {} and {} is {}\".format(num1, num2, compute_hcf(num1,num2)))',\n",
       " '_i25': 'abs(-44545)',\n",
       " '_25': 44545,\n",
       " '_i26': \"abs('Function name')\",\n",
       " '_i27': 'abs(-89.8475)',\n",
       " '_27': 89.8475,\n",
       " '_i28': 'divmod(4,2)             # Returns quotient and remainder',\n",
       " '_28': (2, 0),\n",
       " '_i29': 'divmod(8,3)',\n",
       " '_29': (2, 2),\n",
       " '_i30': 'all([1,2,3,4])                # it returns the bool(x) or bool for all values of x',\n",
       " '_30': True,\n",
       " '_i31': 'all([1,2,3,4,])',\n",
       " '_31': True,\n",
       " '_i32': 'all([1,2,3,4,0])              # 0 in python is False internally thus it returned False',\n",
       " '_32': False,\n",
       " '_i33': 'all([False,1,2,3,4])',\n",
       " '_33': False,\n",
       " '_i34': 'bool(7)',\n",
       " '_34': True,\n",
       " '_i35': \"bool('X')\",\n",
       " '_35': True,\n",
       " '_i36': 'bool(0)',\n",
       " '_36': False,\n",
       " '_i37': 'bool(-1)',\n",
       " '_37': True,\n",
       " '_i38': 'import pandas',\n",
       " 'pandas': <module 'pandas' from 'c:\\\\users\\\\rajsh\\\\appdata\\\\local\\\\programs\\\\python\\\\python36\\\\lib\\\\site-packages\\\\pandas\\\\__init__.py'>,\n",
       " '_i39': 'print(dir(pandas))',\n",
       " '_i40': \"numbers = [10,20,30,40,50]\\n\\nfor num1 , num2 in enumerate(numbers):\\n    print(num1, ' || ', num2)\",\n",
       " 'numbers': [10, 20, 30, 40, 50],\n",
       " '_i41': 'for idx, num in enumerate(numbers):\\n    print(\"Index ---> {} && Number ---> {}\".format(idx,num))',\n",
       " 'idx': 504,\n",
       " 'num': 9,\n",
       " '_i42': \"for idx, num in enumerate(numbers,500):\\n    print(idx, ' ||| ', num)\",\n",
       " '_i43': 'def fil_f(num):\\n    return num >= abs(num)',\n",
       " 'fil_f': <function __main__.fil_f(num)>,\n",
       " '_i44': 'list(filter(fil_f,[1,2,3,4,5,6,7,8,9]))',\n",
       " '_44': [1, 2, 3, 4, 5, 6, 7, 8, 9],\n",
       " '_i45': 'tuple(filter(fil_f,[1,2,3,4,5,6,7,8,9]))',\n",
       " '_45': (1, 2, 3, 4, 5, 6, 7, 8, 9),\n",
       " '_i46': 'set(filter(fil_f,[1,2,3,4,5,6,7,8,9]))',\n",
       " '_46': {1, 2, 3, 4, 5, 6, 7, 8, 9},\n",
       " '_i47': 'set(filter(fil_f,[1,2,3,4,5,6,7,8,9,0,-1,-2,-3,-4]))',\n",
       " '_47': {0, 1, 2, 3, 4, 5, 6, 7, 8, 9},\n",
       " '_i48': 'scores = {10,39,89,99,105,175}',\n",
       " 'scores': {10, 39, 89, 99, 105, 175},\n",
       " '_i49': 'isinstance(scores,list)',\n",
       " '_49': False,\n",
       " '_i50': 'isinstance(scores,dict)',\n",
       " '_50': False,\n",
       " '_i51': 'isinstance(scores,tuple)',\n",
       " '_51': False,\n",
       " '_i52': 'isinstance(scores,set)',\n",
       " '_52': True,\n",
       " '_i53': 'def divide_num_by_4(num):\\n    return num/4',\n",
       " 'divide_num_by_4': <function __main__.divide_num_by_4(num)>,\n",
       " '_i54': 'list(map(divide_num_by_4,scores))',\n",
       " '_54': [24.75, 9.75, 26.25, 2.5, 43.75, 22.25],\n",
       " '_i55': 'from functools import reduce',\n",
       " 'reduce': <function _functools.reduce>,\n",
       " '_i56': 'def cume(val1, val2):\\n    return val1+val2',\n",
       " 'cume': <function __main__.cume(val1, val2)>,\n",
       " '_i57': 'nums = [1,2,3,4,5]',\n",
       " 'nums': [1, 2, 3, 4, 5, 6, 7, 8, 9],\n",
       " '_i58': 'reduce(cume,nums)',\n",
       " '_58': 15,\n",
       " '_i59': \"def hello_world(**kwargs):\\n    return (kwargs['first_name'], kwargs['middle_name'],kwargs['last_name'])\",\n",
       " 'hello_world': <function __main__.hello_world(**kwargs)>,\n",
       " '_i60': \"hello_world(first_name='Rajesh',middle_name='Kumar',last_name='sharma',an_name='titu')\",\n",
       " '_60': ('Rajesh', 'Kumar', 'sharma'),\n",
       " '_i61': \"%timeit hello_world(first_name='Rajesh',middle_name='Kumar',last_name='sharma')\",\n",
       " '_i62': \"def hello_world(**kwargs):\\n    print (kwargs['first_name'], kwargs['middle_name'],kwargs['last_name'])\",\n",
       " '_i63': \"hello_world(first_name='Rajesh',middle_name='Kumar',last_name='sharma')\",\n",
       " '_i64': \"hello_world(first_name='Rajesh',middle_name='Kumar',last_name='sharma',an_name='titu')\",\n",
       " '_i65': 'def name_printing(*names):\\n    for l_name in names:\\n        print(\"First name is Rajesh and Last name is {0}\".format(l_name))',\n",
       " 'name_printing': <function __main__.name_printing(*names)>,\n",
       " '_i66': \"name_printing('sharma','kumar','kapoor')\",\n",
       " '_i67': 'def factorial(num):\\n    return num if num == 1 else num * factorial(num-1)',\n",
       " 'factorial': <function __main__.factorial(num)>,\n",
       " '_i68': 'factorial(5)',\n",
       " '_68': 120,\n",
       " '_i69': 'def fibonacci(num):\\n    return num if num <=1 else fibonacci(num-1) + fibonacci(num-2)',\n",
       " 'fibonacci': <function __main__.fibonacci(num)>,\n",
       " '_i70': 'nums = range(0,10)',\n",
       " '_i71': 'for num in nums:\\n    print(fibonacci(num))',\n",
       " '_i72': 'sqr = lambda x: x**2',\n",
       " 'sqr': <function __main__.<lambda>(x)>,\n",
       " '_i73': '[sqr(num) for num in nums]',\n",
       " '_73': [0, 1, 4, 9, 16, 25, 36, 49, 64, 81],\n",
       " '_i74': 'sum_of_2s = lambda x,y : x+y',\n",
       " 'sum_of_2s': <function __main__.<lambda>(x, y)>,\n",
       " '_i75': 'sum_of_2s(3,5)',\n",
       " '_75': 8,\n",
       " '_i76': 'nums = [1,2,3,4,5,6,7,8,9]',\n",
       " '_i77': 'nums',\n",
       " '_77': [1, 2, 3, 4, 5, 6, 7, 8, 9],\n",
       " '_i78': 'from functools import reduce',\n",
       " '_i79': 'sum_list = reduce(lambda x,y:x+y,nums)',\n",
       " 'sum_list': 45,\n",
       " '_i80': 'sum_list',\n",
       " '_80': 45,\n",
       " '_i81': 'nums',\n",
       " '_81': [1, 2, 3, 4, 5, 6, 7, 8, 9],\n",
       " '_i82': 'reduce(lambda x,y:x+y,map(lambda x : x/2,filter(lambda x: x%2==0,nums)))',\n",
       " '_82': 10.0,\n",
       " '_i83': \"f = open('test_file.txt','x')\",\n",
       " 'f': <_io.TextIOWrapper name='test_file.txt' mode='x' encoding='cp1252'>,\n",
       " '_i84': 'f.write(\"I\\'m Rajesh Sharma and one day I\\'ll be a Data Scientist.\")',\n",
       " '_84': 55,\n",
       " '_i85': 'f.close()',\n",
       " '_i86': \"f1 = open('test_file.txt','r')\",\n",
       " 'f1': <_io.TextIOWrapper name='test_file.txt' mode='r' encoding='cp1252'>,\n",
       " '_i87': 'f1.read()',\n",
       " '_87': \"I'm Rajesh Sharma and one day I'll be a Data Scientist.\",\n",
       " '_i88': 'f1.tell()',\n",
       " '_88': 55,\n",
       " '_i89': 'f1.seek(1)',\n",
       " '_89': 1,\n",
       " '_i90': 'f1.tell()',\n",
       " '_90': 1,\n",
       " '_i91': 'f1.read(5)',\n",
       " '_91': \"'m Ra\",\n",
       " '_i92': 'f1.seek(50)',\n",
       " '_92': 50,\n",
       " '_i93': 'f1.read()',\n",
       " '_93': 'tist.',\n",
       " '_i94': 'f1.tell()',\n",
       " '_94': 55,\n",
       " '_i95': 'type(f1.readlines())',\n",
       " '_95': list,\n",
       " '_i96': 'type(f1.readline())',\n",
       " '_96': str,\n",
       " '_i97': 'f1.seek(20)',\n",
       " '_97': 20,\n",
       " '_i98': 'f1.readlines()',\n",
       " '_98': [\"d one day I'll be a Data Scientist.\"],\n",
       " '_i99': 'f1.readline()',\n",
       " '_99': '',\n",
       " '_i100': 'f1.seek(20)',\n",
       " '_100': 20,\n",
       " '_i101': 'f1.readline()',\n",
       " '_101': \"d one day I'll be a Data Scientist.\",\n",
       " '_i102': 'f1.close()',\n",
       " '_i103': 'import os',\n",
       " 'os': <module 'os' from 'c:\\\\users\\\\rajsh\\\\appdata\\\\local\\\\programs\\\\python\\\\python36\\\\lib\\\\os.py'>,\n",
       " '_i104': 'dir(__builtins__)',\n",
       " '_104': ['ArithmeticError',\n",
       "  'AssertionError',\n",
       "  'AttributeError',\n",
       "  'BaseException',\n",
       "  'BlockingIOError',\n",
       "  'BrokenPipeError',\n",
       "  'BufferError',\n",
       "  'BytesWarning',\n",
       "  'ChildProcessError',\n",
       "  'ConnectionAbortedError',\n",
       "  'ConnectionError',\n",
       "  'ConnectionRefusedError',\n",
       "  'ConnectionResetError',\n",
       "  'DeprecationWarning',\n",
       "  'EOFError',\n",
       "  'Ellipsis',\n",
       "  'EnvironmentError',\n",
       "  'Exception',\n",
       "  'False',\n",
       "  'FileExistsError',\n",
       "  'FileNotFoundError',\n",
       "  'FloatingPointError',\n",
       "  'FutureWarning',\n",
       "  'GeneratorExit',\n",
       "  'IOError',\n",
       "  'ImportError',\n",
       "  'ImportWarning',\n",
       "  'IndentationError',\n",
       "  'IndexError',\n",
       "  'InterruptedError',\n",
       "  'IsADirectoryError',\n",
       "  'KeyError',\n",
       "  'KeyboardInterrupt',\n",
       "  'LookupError',\n",
       "  'MemoryError',\n",
       "  'ModuleNotFoundError',\n",
       "  'NameError',\n",
       "  'None',\n",
       "  'NotADirectoryError',\n",
       "  'NotImplemented',\n",
       "  'NotImplementedError',\n",
       "  'OSError',\n",
       "  'OverflowError',\n",
       "  'PendingDeprecationWarning',\n",
       "  'PermissionError',\n",
       "  'ProcessLookupError',\n",
       "  'RecursionError',\n",
       "  'ReferenceError',\n",
       "  'ResourceWarning',\n",
       "  'RuntimeError',\n",
       "  'RuntimeWarning',\n",
       "  'StopAsyncIteration',\n",
       "  'StopIteration',\n",
       "  'SyntaxError',\n",
       "  'SyntaxWarning',\n",
       "  'SystemError',\n",
       "  'SystemExit',\n",
       "  'TabError',\n",
       "  'TimeoutError',\n",
       "  'True',\n",
       "  'TypeError',\n",
       "  'UnboundLocalError',\n",
       "  'UnicodeDecodeError',\n",
       "  'UnicodeEncodeError',\n",
       "  'UnicodeError',\n",
       "  'UnicodeTranslateError',\n",
       "  'UnicodeWarning',\n",
       "  'UserWarning',\n",
       "  'ValueError',\n",
       "  'Warning',\n",
       "  'WindowsError',\n",
       "  'ZeroDivisionError',\n",
       "  '__IPYTHON__',\n",
       "  '__build_class__',\n",
       "  '__debug__',\n",
       "  '__doc__',\n",
       "  '__import__',\n",
       "  '__loader__',\n",
       "  '__name__',\n",
       "  '__package__',\n",
       "  '__spec__',\n",
       "  'abs',\n",
       "  'all',\n",
       "  'any',\n",
       "  'ascii',\n",
       "  'bin',\n",
       "  'bool',\n",
       "  'bytearray',\n",
       "  'bytes',\n",
       "  'callable',\n",
       "  'chr',\n",
       "  'classmethod',\n",
       "  'compile',\n",
       "  'complex',\n",
       "  'copyright',\n",
       "  'credits',\n",
       "  'delattr',\n",
       "  'dict',\n",
       "  'dir',\n",
       "  'display',\n",
       "  'divmod',\n",
       "  'enumerate',\n",
       "  'eval',\n",
       "  'exec',\n",
       "  'filter',\n",
       "  'float',\n",
       "  'format',\n",
       "  'frozenset',\n",
       "  'get_ipython',\n",
       "  'getattr',\n",
       "  'globals',\n",
       "  'hasattr',\n",
       "  'hash',\n",
       "  'help',\n",
       "  'hex',\n",
       "  'id',\n",
       "  'input',\n",
       "  'int',\n",
       "  'isinstance',\n",
       "  'issubclass',\n",
       "  'iter',\n",
       "  'len',\n",
       "  'license',\n",
       "  'list',\n",
       "  'locals',\n",
       "  'map',\n",
       "  'max',\n",
       "  'memoryview',\n",
       "  'min',\n",
       "  'next',\n",
       "  'object',\n",
       "  'oct',\n",
       "  'open',\n",
       "  'ord',\n",
       "  'pow',\n",
       "  'print',\n",
       "  'property',\n",
       "  'range',\n",
       "  'repr',\n",
       "  'reversed',\n",
       "  'round',\n",
       "  'set',\n",
       "  'setattr',\n",
       "  'slice',\n",
       "  'sorted',\n",
       "  'staticmethod',\n",
       "  'str',\n",
       "  'sum',\n",
       "  'super',\n",
       "  'tuple',\n",
       "  'type',\n",
       "  'vars',\n",
       "  'zip'],\n",
       " '_i105': 'dir(os)',\n",
       " '_105': ['DirEntry',\n",
       "  'F_OK',\n",
       "  'MutableMapping',\n",
       "  'O_APPEND',\n",
       "  'O_BINARY',\n",
       "  'O_CREAT',\n",
       "  'O_EXCL',\n",
       "  'O_NOINHERIT',\n",
       "  'O_RANDOM',\n",
       "  'O_RDONLY',\n",
       "  'O_RDWR',\n",
       "  'O_SEQUENTIAL',\n",
       "  'O_SHORT_LIVED',\n",
       "  'O_TEMPORARY',\n",
       "  'O_TEXT',\n",
       "  'O_TRUNC',\n",
       "  'O_WRONLY',\n",
       "  'P_DETACH',\n",
       "  'P_NOWAIT',\n",
       "  'P_NOWAITO',\n",
       "  'P_OVERLAY',\n",
       "  'P_WAIT',\n",
       "  'PathLike',\n",
       "  'R_OK',\n",
       "  'SEEK_CUR',\n",
       "  'SEEK_END',\n",
       "  'SEEK_SET',\n",
       "  'TMP_MAX',\n",
       "  'W_OK',\n",
       "  'X_OK',\n",
       "  '_Environ',\n",
       "  '__all__',\n",
       "  '__builtins__',\n",
       "  '__cached__',\n",
       "  '__doc__',\n",
       "  '__file__',\n",
       "  '__loader__',\n",
       "  '__name__',\n",
       "  '__package__',\n",
       "  '__spec__',\n",
       "  '_execvpe',\n",
       "  '_exists',\n",
       "  '_exit',\n",
       "  '_fspath',\n",
       "  '_get_exports_list',\n",
       "  '_putenv',\n",
       "  '_unsetenv',\n",
       "  '_wrap_close',\n",
       "  'abc',\n",
       "  'abort',\n",
       "  'access',\n",
       "  'altsep',\n",
       "  'chdir',\n",
       "  'chmod',\n",
       "  'close',\n",
       "  'closerange',\n",
       "  'cpu_count',\n",
       "  'curdir',\n",
       "  'defpath',\n",
       "  'device_encoding',\n",
       "  'devnull',\n",
       "  'dup',\n",
       "  'dup2',\n",
       "  'environ',\n",
       "  'errno',\n",
       "  'error',\n",
       "  'execl',\n",
       "  'execle',\n",
       "  'execlp',\n",
       "  'execlpe',\n",
       "  'execv',\n",
       "  'execve',\n",
       "  'execvp',\n",
       "  'execvpe',\n",
       "  'extsep',\n",
       "  'fdopen',\n",
       "  'fsdecode',\n",
       "  'fsencode',\n",
       "  'fspath',\n",
       "  'fstat',\n",
       "  'fsync',\n",
       "  'ftruncate',\n",
       "  'get_exec_path',\n",
       "  'get_handle_inheritable',\n",
       "  'get_inheritable',\n",
       "  'get_terminal_size',\n",
       "  'getcwd',\n",
       "  'getcwdb',\n",
       "  'getenv',\n",
       "  'getlogin',\n",
       "  'getpid',\n",
       "  'getppid',\n",
       "  'isatty',\n",
       "  'kill',\n",
       "  'linesep',\n",
       "  'link',\n",
       "  'listdir',\n",
       "  'lseek',\n",
       "  'lstat',\n",
       "  'makedirs',\n",
       "  'mkdir',\n",
       "  'name',\n",
       "  'open',\n",
       "  'pardir',\n",
       "  'path',\n",
       "  'pathsep',\n",
       "  'pipe',\n",
       "  'popen',\n",
       "  'putenv',\n",
       "  'read',\n",
       "  'readlink',\n",
       "  'remove',\n",
       "  'removedirs',\n",
       "  'rename',\n",
       "  'renames',\n",
       "  'replace',\n",
       "  'rmdir',\n",
       "  'scandir',\n",
       "  'sep',\n",
       "  'set_handle_inheritable',\n",
       "  'set_inheritable',\n",
       "  'spawnl',\n",
       "  'spawnle',\n",
       "  'spawnv',\n",
       "  'spawnve',\n",
       "  'st',\n",
       "  'startfile',\n",
       "  'stat',\n",
       "  'stat_float_times',\n",
       "  'stat_result',\n",
       "  'statvfs_result',\n",
       "  'strerror',\n",
       "  'supports_bytes_environ',\n",
       "  'supports_dir_fd',\n",
       "  'supports_effective_ids',\n",
       "  'supports_fd',\n",
       "  'supports_follow_symlinks',\n",
       "  'symlink',\n",
       "  'sys',\n",
       "  'system',\n",
       "  'terminal_size',\n",
       "  'times',\n",
       "  'times_result',\n",
       "  'truncate',\n",
       "  'umask',\n",
       "  'uname_result',\n",
       "  'unlink',\n",
       "  'urandom',\n",
       "  'utime',\n",
       "  'waitpid',\n",
       "  'walk',\n",
       "  'write'],\n",
       " '_i106': \"os.rename('test_file.txt','file_manipulations.txt')\",\n",
       " '_i107': 'f1.read()               # because file is closed',\n",
       " '_i108': 'os.getcwd()',\n",
       " '_108': 'E:\\\\STUDY\\\\GIT\\\\aaic_practice\\\\MODULES\\\\Module_1_All_about_Python',\n",
       " '_i109': \"os.chdir('E:\\\\\\\\STUDY\\\\\\\\PROJECTS\\\\\\\\AAIC_Practice')\",\n",
       " '_i110': 'os.getcwd()',\n",
       " '_110': 'E:\\\\STUDY\\\\PROJECTS\\\\AAIC_Practice',\n",
       " '_i111': \"os.mkdir('VIDEO_PRACTICE_TEST')\",\n",
       " '_i112': 'os.listdir()',\n",
       " '_112': ['ASSIGNMENTS', 'INTERVIEW_Qs', 'MODULES', 'VIDEO_PRACTICE_TEST'],\n",
       " '_i113': \"os.rmdir('VIDEO_PRACTICE_TEST')\",\n",
       " '_i114': \"os.mkdir('VIDEO_PRACTICE_TEST2')\",\n",
       " '_i115': 'os.listdir()',\n",
       " '_115': ['ASSIGNMENTS', 'INTERVIEW_Qs', 'MODULES', 'VIDEO_PRACTICE_TEST2'],\n",
       " '_i116': 'lines = [\"This is not a hellow world!!\", \"This is much more than a hello world!!\", \"Thats my feelings for DS, ML and DL.\"]',\n",
       " 'lines': ['This is not a hellow world!!',\n",
       "  'This is much more than a hello world!!',\n",
       "  'Thats my feelings for DS, ML and DL.'],\n",
       " '_i117': \"with open('test_file2.txt','x') as f_test:\\n    f_test.writelines(lines)\",\n",
       " 'f_test': <_io.TextIOWrapper name='test_file2.txt' mode='x' encoding='cp1252'>,\n",
       " '_i118': 'os.getcwd()',\n",
       " '_118': 'E:\\\\STUDY\\\\PROJECTS\\\\AAIC_Practice',\n",
       " '_i119': 'import shutil',\n",
       " 'shutil': <module 'shutil' from 'c:\\\\users\\\\rajsh\\\\appdata\\\\local\\\\programs\\\\python\\\\python36\\\\lib\\\\shutil.py'>,\n",
       " '_i120': 'shutil.move(\\'test_file2.txt\\',os.getcwd()+\"\\\\\\\\VIDEO_PRACTICE_TEST2\")',\n",
       " '_120': 'E:\\\\STUDY\\\\PROJECTS\\\\AAIC_Practice\\\\VIDEO_PRACTICE_TEST2\\\\test_file2.txt',\n",
       " '_i121': 'os.getcwd()',\n",
       " '_121': 'E:\\\\STUDY\\\\PROJECTS\\\\AAIC_Practice',\n",
       " '_i122': \"os.rmdir('VIDEO_PRACTICE_TEST2')           # As said it only deletes a empty directory\",\n",
       " '_i123': 'dir(shutil)',\n",
       " '_123': ['Error',\n",
       "  'ExecError',\n",
       "  'ReadError',\n",
       "  'RegistryError',\n",
       "  'SameFileError',\n",
       "  'SpecialFileError',\n",
       "  '_ARCHIVE_FORMATS',\n",
       "  '_BZ2_SUPPORTED',\n",
       "  '_LZMA_SUPPORTED',\n",
       "  '_UNPACK_FORMATS',\n",
       "  '_ZLIB_SUPPORTED',\n",
       "  '__all__',\n",
       "  '__builtins__',\n",
       "  '__cached__',\n",
       "  '__doc__',\n",
       "  '__file__',\n",
       "  '__loader__',\n",
       "  '__name__',\n",
       "  '__package__',\n",
       "  '__spec__',\n",
       "  '_basename',\n",
       "  '_check_unpack_options',\n",
       "  '_copyxattr',\n",
       "  '_destinsrc',\n",
       "  '_ensure_directory',\n",
       "  '_find_unpack_format',\n",
       "  '_get_gid',\n",
       "  '_get_uid',\n",
       "  '_make_tarball',\n",
       "  '_make_zipfile',\n",
       "  '_ntuple_diskusage',\n",
       "  '_rmtree_safe_fd',\n",
       "  '_rmtree_unsafe',\n",
       "  '_samefile',\n",
       "  '_unpack_tarfile',\n",
       "  '_unpack_zipfile',\n",
       "  '_use_fd_functions',\n",
       "  'chown',\n",
       "  'collections',\n",
       "  'copy',\n",
       "  'copy2',\n",
       "  'copyfile',\n",
       "  'copyfileobj',\n",
       "  'copymode',\n",
       "  'copystat',\n",
       "  'copytree',\n",
       "  'disk_usage',\n",
       "  'errno',\n",
       "  'fnmatch',\n",
       "  'get_archive_formats',\n",
       "  'get_terminal_size',\n",
       "  'get_unpack_formats',\n",
       "  'getgrnam',\n",
       "  'getpwnam',\n",
       "  'ignore_patterns',\n",
       "  'make_archive',\n",
       "  'move',\n",
       "  'nt',\n",
       "  'os',\n",
       "  'register_archive_format',\n",
       "  'register_unpack_format',\n",
       "  'rmtree',\n",
       "  'stat',\n",
       "  'sys',\n",
       "  'unpack_archive',\n",
       "  'unregister_archive_format',\n",
       "  'unregister_unpack_format',\n",
       "  'which'],\n",
       " '_i124': 'import pdb',\n",
       " 'pdb': <module 'pdb' from 'c:\\\\users\\\\rajsh\\\\appdata\\\\local\\\\programs\\\\python\\\\python36\\\\lib\\\\pdb.py'>,\n",
       " '_i125': 'dir(pdb)',\n",
       " '_125': ['Pdb',\n",
       "  'Restart',\n",
       "  'TESTCMD',\n",
       "  '__all__',\n",
       "  '__builtins__',\n",
       "  '__cached__',\n",
       "  '__doc__',\n",
       "  '__file__',\n",
       "  '__loader__',\n",
       "  '__name__',\n",
       "  '__package__',\n",
       "  '__spec__',\n",
       "  '_rstr',\n",
       "  '_usage',\n",
       "  'bdb',\n",
       "  'cmd',\n",
       "  'code',\n",
       "  'dis',\n",
       "  'find_function',\n",
       "  'getsourcelines',\n",
       "  'glob',\n",
       "  'help',\n",
       "  'inspect',\n",
       "  'lasti2lineno',\n",
       "  'line_prefix',\n",
       "  'linecache',\n",
       "  'main',\n",
       "  'os',\n",
       "  'pm',\n",
       "  'post_mortem',\n",
       "  'pprint',\n",
       "  're',\n",
       "  'run',\n",
       "  'runcall',\n",
       "  'runctx',\n",
       "  'runeval',\n",
       "  'set_trace',\n",
       "  'signal',\n",
       "  'sys',\n",
       "  'test',\n",
       "  'traceback'],\n",
       " '_i126': 'test_ones = [1,2,3,4,5,6,7,8,9]',\n",
       " 'test_ones': [1, 1, 5, 6, 7, 8, 9],\n",
       " '_i127': 'test_ones[1:]',\n",
       " '_127': [2, 3, 4, 5, 6, 7, 8, 9],\n",
       " '_i128': 'test_ones[1:4] = [1]',\n",
       " '_i129': 'test_ones',\n",
       " '_129': [1, 1, 5, 6, 7, 8, 9],\n",
       " '_i130': 'ones = [val for val in range(1,11)]',\n",
       " 'ones': [1, 1],\n",
       " '_i131': 'ones',\n",
       " '_131': [1, 1],\n",
       " '_i132': 'ones[1:] = [1]',\n",
       " '_i133': 'ones',\n",
       " '_133': [1, 1],\n",
       " '_i134': 'import numpy as np',\n",
       " 'np': <module 'numpy' from 'c:\\\\users\\\\rajsh\\\\appdata\\\\local\\\\programs\\\\python\\\\python36\\\\lib\\\\site-packages\\\\numpy\\\\__init__.py'>,\n",
       " '_i135': 'np_ones = np.arange(1,11)',\n",
       " 'np_ones': [1, 2, 3, 4, 5],\n",
       " '_i136': 'np_ones',\n",
       " '_136': array([1, 1, 1, 1, 1, 1, 1, 1, 1, 1]),\n",
       " '_i137': 'np_ones[1:] = [1] ',\n",
       " '_i138': 'np_ones',\n",
       " '_138': array([1, 1, 1, 1, 1, 1, 1, 1, 1, 1]),\n",
       " '_i139': 'np_ones[1:4]',\n",
       " '_139': array([1, 1, 1]),\n",
       " '_i140': 'len(np_ones)',\n",
       " '_140': 10,\n",
       " '_i141': 'def multiple_of_4(val):\\n    for n in range(1,len(val)+1,1):\\n        pdb.set_trace()\\n        print(n*4)',\n",
       " 'multiple_of_4': <function __main__.multiple_of_4(val)>,\n",
       " '_i142': 'multiple_of_4(np_ones)',\n",
       " '_i143': 'np_ones',\n",
       " '_143': array([1, 1, 1, 1, 1, 1, 1, 1, 1, 1]),\n",
       " '_i144': 'def multiple_of_4(val):\\n    for n in range(1,len(val)+1,1):\\n        pdb.set_trace()\\n        print(n*4)',\n",
       " '_i145': 'multiple_of_4(np_ones)',\n",
       " '_i146': 'multiple_of_4(np_ones)',\n",
       " '_i147': 'np_ones = [1,2,3,4,5]',\n",
       " '_i148': 'def multiple_of_4(val):\\n    for n in range(1,len(val)+1,1):\\n        pdb.set_trace()\\n        print(n*4)',\n",
       " '_i149': 'multiple_of_4(np_ones)',\n",
       " '_i150': 'def multiple_of_4(val):\\n    for n in range(1,len(val)+1,1):\\n        pdb.set_trace()\\n        print(n*4)',\n",
       " '_i151': 'multiple_of_4(np_ones)',\n",
       " '_i152': 'def multiple_of_4(val):\\n    for n in range(1,len(val)+1,1):\\n#         pdb.set_trace()\\n        print(n*4)',\n",
       " '_i153': 'multiple_of_4(np_ones)',\n",
       " '_i154': 'def multiple_of_4(val):\\n    for n in range(1,len(val)+1,1):\\n        pdb.set_trace()\\n        print(n*4)',\n",
       " '_i155': 'multiple_of_4(np_ones)',\n",
       " '_i156': 'multiple_of_4(np_ones)',\n",
       " '_i157': 'multiple_of_4(np_ones)',\n",
       " '_i158': 'globals()'}"
      ]
     },
     "execution_count": 158,
     "metadata": {},
     "output_type": "execute_result"
    }
   ],
   "source": [
    "globals()"
   ]
  }
 ],
 "metadata": {
  "kernelspec": {
   "display_name": "Python 3",
   "language": "python",
   "name": "python3"
  },
  "language_info": {
   "codemirror_mode": {
    "name": "ipython",
    "version": 3
   },
   "file_extension": ".py",
   "mimetype": "text/x-python",
   "name": "python",
   "nbconvert_exporter": "python",
   "pygments_lexer": "ipython3",
   "version": "3.6.8"
  }
 },
 "nbformat": 4,
 "nbformat_minor": 4
}
