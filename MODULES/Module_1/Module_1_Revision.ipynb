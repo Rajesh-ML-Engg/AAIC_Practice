{
 "cells": [
  {
   "cell_type": "markdown",
   "metadata": {},
   "source": [
    "# ***`Module-1 :: Revision`***"
   ]
  },
  {
   "cell_type": "markdown",
   "metadata": {},
   "source": [
    "---\n",
    "#### ***Contents***\n",
    "1. [Memory location internally](#Question-1)"
   ]
  },
  {
   "cell_type": "markdown",
   "metadata": {},
   "source": [
    "#### **Q1: Where Python store the memory locations of objects internally?**"
   ]
  },
  {
   "cell_type": "code",
   "execution_count": 6,
   "metadata": {},
   "outputs": [],
   "source": [
    "import ctypes"
   ]
  },
  {
   "cell_type": "code",
   "execution_count": 1,
   "metadata": {},
   "outputs": [],
   "source": [
    "player1, player2 = \"MSD\", \"Azhar\""
   ]
  },
  {
   "cell_type": "code",
   "execution_count": 2,
   "metadata": {},
   "outputs": [
    {
     "data": {
      "text/plain": [
       "(2873712587640, 2873712590272)"
      ]
     },
     "execution_count": 2,
     "metadata": {},
     "output_type": "execute_result"
    }
   ],
   "source": [
    "id(player1), id(player2)"
   ]
  },
  {
   "cell_type": "code",
   "execution_count": 3,
   "metadata": {},
   "outputs": [],
   "source": [
    "player3 = player1"
   ]
  },
  {
   "cell_type": "code",
   "execution_count": 4,
   "metadata": {},
   "outputs": [
    {
     "data": {
      "text/plain": [
       "2873712587640"
      ]
     },
     "execution_count": 4,
     "metadata": {},
     "output_type": "execute_result"
    }
   ],
   "source": [
    "id(player3)"
   ]
  },
  {
   "cell_type": "code",
   "execution_count": 7,
   "metadata": {},
   "outputs": [
    {
     "data": {
      "text/plain": [
       "('MSD', 'MSD')"
      ]
     },
     "execution_count": 7,
     "metadata": {},
     "output_type": "execute_result"
    }
   ],
   "source": [
    "ctypes.cast(id(player1), ctypes.py_object).value, ctypes.cast(id(player3), ctypes.py_object).value"
   ]
  },
  {
   "cell_type": "code",
   "execution_count": 8,
   "metadata": {},
   "outputs": [],
   "source": [
    "player1 = 'A'+player1[1:]"
   ]
  },
  {
   "cell_type": "code",
   "execution_count": 11,
   "metadata": {},
   "outputs": [
    {
     "data": {
      "text/plain": [
       "(2873712666752, 2873712590272, 2873712587640)"
      ]
     },
     "execution_count": 11,
     "metadata": {},
     "output_type": "execute_result"
    }
   ],
   "source": [
    "id(player1), id(player2), id(player3)"
   ]
  },
  {
   "cell_type": "code",
   "execution_count": 9,
   "metadata": {},
   "outputs": [
    {
     "data": {
      "text/plain": [
       "('ASD', 'MSD')"
      ]
     },
     "execution_count": 9,
     "metadata": {},
     "output_type": "execute_result"
    }
   ],
   "source": [
    "ctypes.cast(id(player1), ctypes.py_object).value, ctypes.cast(id(player3), ctypes.py_object).value"
   ]
  },
  {
   "cell_type": "markdown",
   "metadata": {},
   "source": [
    "##### **So, in pure python we cannot really see the memory location data structure as `id(x)` is a Cpython implementation and such details are not exposed to the user.** "
   ]
  },
  {
   "cell_type": "markdown",
   "metadata": {},
   "source": [
    "#### **Q2: Print Pyramid?**"
   ]
  },
  {
   "cell_type": "markdown",
   "metadata": {},
   "source": [
    "![scenario](Pattern_Scenario1.jpg)"
   ]
  },
  {
   "cell_type": "code",
   "execution_count": 76,
   "metadata": {},
   "outputs": [
    {
     "name": "stdout",
     "output_type": "stream",
     "text": [
      "\n",
      "1 \n",
      "2 3 \n",
      "4 5 6 \n",
      "7 8 9 10 \n",
      "11 12 13 14 15 \n",
      "\n",
      "\n",
      "\n",
      "\n",
      "\n",
      "\n",
      "\n",
      "\n",
      "\n",
      "\n",
      "1 2 3 4 5 6 7 8 9 10 \n",
      "2 3 4 5 6 7 8 9 10 \n",
      "3 4 5 6 7 8 9 10 \n",
      "4 5 6 7 8 9 10 \n",
      "5 6 7 8 9 10 \n",
      "6 7 8 9 10 \n",
      "7 8 9 10 \n",
      "8 9 10 \n",
      "9 10 \n",
      "10 \n",
      "9 10 \n",
      "8 9 10 \n",
      "7 8 9 10 \n",
      "6 7 8 9 10 \n",
      "5 6 7 8 9 10 \n",
      "4 5 6 7 8 9 10 \n",
      "3 4 5 6 7 8 9 10 \n",
      "2 3 4 5 6 7 8 9 10 \n",
      "1 2 3 4 5 6 7 8 9 10 "
     ]
    }
   ],
   "source": [
    "## Problem - I:\n",
    "num = 15\n",
    "xi = 1\n",
    "for i in range(1,num+1):\n",
    "    print()\n",
    "    xi += i\n",
    "    for j in range(xi-i,xi):\n",
    "        if j <= num:\n",
    "            print(j, end=' ')\n",
    "\n",
    "# ----------XX----------\n",
    "# ----------XX----------\n",
    "\n",
    "## Problem - II:\n",
    "num = 10\n",
    "next_i = 0\n",
    "for i in range(1,num+1):\n",
    "    print()\n",
    "    for j in range(i,num+1):\n",
    "        print(j, end = ' ')\n",
    "for xj in range(j-1,0,-1):\n",
    "    print()\n",
    "    for xi in range(xj,i+1):\n",
    "        print(xi,end = ' ')"
   ]
  },
  {
   "cell_type": "markdown",
   "metadata": {},
   "source": [
    "#### **Q3. Print the odd and even numbers from 1 to 20 in a single for loop with a tag of odd and even.**"
   ]
  },
  {
   "cell_type": "code",
   "execution_count": 84,
   "metadata": {},
   "outputs": [],
   "source": [
    "nums = [num for num in range(1,21)]"
   ]
  },
  {
   "cell_type": "code",
   "execution_count": 85,
   "metadata": {},
   "outputs": [
    {
     "data": {
      "text/plain": [
       "[1, 2, 3, 4, 5, 6, 7, 8, 9, 10, 11, 12, 13, 14, 15, 16, 17, 18, 19, 20]"
      ]
     },
     "execution_count": 85,
     "metadata": {},
     "output_type": "execute_result"
    }
   ],
   "source": [
    "nums"
   ]
  },
  {
   "cell_type": "code",
   "execution_count": 90,
   "metadata": {},
   "outputs": [
    {
     "name": "stdout",
     "output_type": "stream",
     "text": [
      "1 is Odd Number\n",
      "2 is Even Number\n",
      "3 is Odd Number\n",
      "4 is Even Number\n",
      "5 is Odd Number\n",
      "6 is Even Number\n",
      "7 is Odd Number\n",
      "8 is Even Number\n",
      "9 is Odd Number\n",
      "10 is Even Number\n",
      "11 is Odd Number\n",
      "12 is Even Number\n",
      "13 is Odd Number\n",
      "14 is Even Number\n",
      "15 is Odd Number\n",
      "16 is Even Number\n",
      "17 is Odd Number\n",
      "18 is Even Number\n",
      "19 is Odd Number\n",
      "20 is Even Number\n"
     ]
    }
   ],
   "source": [
    "## Via For loop:\n",
    "for num in nums:\n",
    "    if num%2 == 0:\n",
    "        print('{} is Even Number'.format(num))\n",
    "        continue;\n",
    "    else:\n",
    "        print('{} is Odd Number'.format(num))"
   ]
  },
  {
   "cell_type": "code",
   "execution_count": 106,
   "metadata": {},
   "outputs": [
    {
     "name": "stdout",
     "output_type": "stream",
     "text": [
      "1 is odd number\n",
      "3 is odd number\n",
      "5 is odd number\n",
      "7 is odd number\n",
      "9 is odd number\n",
      "11 is odd number\n",
      "13 is odd number\n",
      "15 is odd number\n",
      "17 is odd number\n",
      "19 is odd number\n",
      "\n",
      "\n",
      "2 is even number\n",
      "4 is even number\n",
      "6 is even number\n",
      "8 is even number\n",
      "10 is even number\n",
      "12 is even number\n",
      "14 is even number\n",
      "16 is even number\n",
      "18 is even number\n",
      "20 is even number\n"
     ]
    }
   ],
   "source": [
    "odd_nums, even_nums = [num for num in nums if num%2 != 0], [num for num in nums if num%2 == 0]\n",
    "for i in odd_nums:\n",
    "    print(\"{} is odd number\".format(i))\n",
    "print(\"\\n\")\n",
    "for j in even_nums:\n",
    "    print(\"{} is even number\".format(j))"
   ]
  },
  {
   "cell_type": "markdown",
   "metadata": {},
   "source": [
    "#### **Q4. Print the multiple of 4 till 40 along with multiple of 2 via LIST COMPREHENSION.**"
   ]
  },
  {
   "cell_type": "code",
   "execution_count": 108,
   "metadata": {},
   "outputs": [
    {
     "data": {
      "text/plain": [
       "['4 muls 4, 2 muls 2',\n",
       " '4 muls 8, 2 muls 4',\n",
       " '4 muls 12, 2 muls 6',\n",
       " '4 muls 16, 2 muls 8',\n",
       " '4 muls 20, 2 muls 10',\n",
       " '4 muls 24, 2 muls 12',\n",
       " '4 muls 28, 2 muls 14',\n",
       " '4 muls 32, 2 muls 16',\n",
       " '4 muls 36, 2 muls 18',\n",
       " '4 muls 40, 2 muls 20']"
      ]
     },
     "execution_count": 108,
     "metadata": {},
     "output_type": "execute_result"
    }
   ],
   "source": [
    "[\"4 muls {}, 2 muls {}\".format(i*4,i*2) for i in range(1,11)]"
   ]
  },
  {
   "cell_type": "markdown",
   "metadata": {},
   "source": [
    "#### **Q5. Print the numbers which are multiples of 4 from range 4 to 40 and which gives quotient greater than 4 after dividing 50 by the number.**"
   ]
  },
  {
   "cell_type": "code",
   "execution_count": 122,
   "metadata": {},
   "outputs": [
    {
     "data": {
      "text/plain": [
       "[4, 8, 12]"
      ]
     },
     "execution_count": 122,
     "metadata": {},
     "output_type": "execute_result"
    }
   ],
   "source": [
    "[num for num in range(1*4,10*4) if num%4 ==0 if 50//num >= 4]"
   ]
  },
  {
   "cell_type": "markdown",
   "metadata": {},
   "source": [
    "#### **Q6. Edit the tuple via LIST and STARRED Expression.**"
   ]
  },
  {
   "cell_type": "code",
   "execution_count": 127,
   "metadata": {},
   "outputs": [
    {
     "data": {
      "text/plain": [
       "(1, 2, 3, 4, 5, 6, 7, 8, 9)"
      ]
     },
     "execution_count": 127,
     "metadata": {},
     "output_type": "execute_result"
    }
   ],
   "source": [
    "tup = tuple(val for val in range(1,10))\n",
    "tup"
   ]
  },
  {
   "cell_type": "code",
   "execution_count": 141,
   "metadata": {},
   "outputs": [
    {
     "name": "stdout",
     "output_type": "stream",
     "text": [
      "('99', 99, 1, 2, 3, 4, 5, 6, 7, 8, 9) \n",
      "\n",
      "99,99,(1, 2, 3, 4, 5, 6, 7, 8, 9)\n"
     ]
    }
   ],
   "source": [
    "## Via Starred Expressions\n",
    "new_tup = (\"99\",99,*tup)\n",
    "print(new_tup,'\\n')\n",
    "\n",
    "## Via \n",
    "print(\"99,99,{}\".format(tup))"
   ]
  },
  {
   "cell_type": "markdown",
   "metadata": {},
   "source": [
    "#### **Q7. Print Fibonacci Series via FOR Loop, Recursive Function and MAP Function.**"
   ]
  },
  {
   "cell_type": "code",
   "execution_count": 147,
   "metadata": {},
   "outputs": [],
   "source": [
    "nums=range(0,11,1)"
   ]
  },
  {
   "cell_type": "code",
   "execution_count": 148,
   "metadata": {},
   "outputs": [
    {
     "data": {
      "text/plain": [
       "range(0, 11)"
      ]
     },
     "execution_count": 148,
     "metadata": {},
     "output_type": "execute_result"
    }
   ],
   "source": [
    "nums"
   ]
  },
  {
   "cell_type": "code",
   "execution_count": 150,
   "metadata": {},
   "outputs": [],
   "source": [
    "def fibonacci(num):\n",
    "    if num==0:\n",
    "        return 0\n",
    "    elif num==1:\n",
    "        return 1\n",
    "    else:\n",
    "        return fibonacci(num-1) + fibonacci(num-2)"
   ]
  },
  {
   "cell_type": "code",
   "execution_count": 154,
   "metadata": {},
   "outputs": [
    {
     "name": "stdout",
     "output_type": "stream",
     "text": [
      "0\n",
      "1\n",
      "1\n",
      "2\n",
      "3\n",
      "5\n",
      "8\n",
      "13\n",
      "21\n",
      "34\n",
      "55\n"
     ]
    }
   ],
   "source": [
    "for i in nums:\n",
    "    print(fibonacci(i))"
   ]
  },
  {
   "cell_type": "markdown",
   "metadata": {},
   "source": [
    "#### **Q8. Print the Factorial of a number via LAMBDA, Recursive Function and MAP Function.**"
   ]
  },
  {
   "cell_type": "code",
   "execution_count": 155,
   "metadata": {},
   "outputs": [],
   "source": [
    "from functools import reduce"
   ]
  },
  {
   "cell_type": "code",
   "execution_count": 160,
   "metadata": {},
   "outputs": [],
   "source": [
    "fact = lambda x,y:x*y"
   ]
  },
  {
   "cell_type": "code",
   "execution_count": 162,
   "metadata": {},
   "outputs": [
    {
     "data": {
      "text/plain": [
       "120"
      ]
     },
     "execution_count": 162,
     "metadata": {},
     "output_type": "execute_result"
    }
   ],
   "source": [
    "reduce(fact,[1,2,3,4,5])"
   ]
  },
  {
   "cell_type": "code",
   "execution_count": 163,
   "metadata": {},
   "outputs": [
    {
     "data": {
      "text/plain": [
       "120"
      ]
     },
     "execution_count": 163,
     "metadata": {},
     "output_type": "execute_result"
    }
   ],
   "source": [
    "reduce((lambda x, y : x*y), [i+1 for i in range(5)])"
   ]
  },
  {
   "cell_type": "markdown",
   "metadata": {},
   "source": [
    "#### **Recursive Function**"
   ]
  },
  {
   "cell_type": "code",
   "execution_count": 166,
   "metadata": {},
   "outputs": [],
   "source": [
    "def factorial(num):\n",
    "    if num <=1:\n",
    "        return 1\n",
    "    else:\n",
    "        return num * factorial(num-1)"
   ]
  },
  {
   "cell_type": "code",
   "execution_count": 167,
   "metadata": {},
   "outputs": [
    {
     "data": {
      "text/plain": [
       "120"
      ]
     },
     "execution_count": 167,
     "metadata": {},
     "output_type": "execute_result"
    }
   ],
   "source": [
    "factorial(5)"
   ]
  },
  {
   "cell_type": "markdown",
   "metadata": {},
   "source": [
    "#### **MAP Function**"
   ]
  },
  {
   "cell_type": "code",
   "execution_count": 168,
   "metadata": {},
   "outputs": [
    {
     "name": "stdout",
     "output_type": "stream",
     "text": [
      "120\n",
      "720\n",
      "5040\n",
      "2\n"
     ]
    }
   ],
   "source": [
    "find_facts = [5,6,7,2]\n",
    "for val in find_facts:\n",
    "    print(factorial(val))"
   ]
  },
  {
   "cell_type": "code",
   "execution_count": 169,
   "metadata": {},
   "outputs": [
    {
     "data": {
      "text/plain": [
       "[120, 720, 5040, 2]"
      ]
     },
     "execution_count": 169,
     "metadata": {},
     "output_type": "execute_result"
    }
   ],
   "source": [
    "list(map(factorial,find_facts))"
   ]
  },
  {
   "cell_type": "markdown",
   "metadata": {},
   "source": [
    "#### **Q9. Print one First name with multiple last names using ARBITARY Function or STARRED Expression.**"
   ]
  },
  {
   "cell_type": "code",
   "execution_count": 175,
   "metadata": {},
   "outputs": [],
   "source": [
    "def print_names(*names):\n",
    "    f_name = 'Ram'\n",
    "    for l_name in names:\n",
    "        print(f_name,l_name)"
   ]
  },
  {
   "cell_type": "code",
   "execution_count": 177,
   "metadata": {},
   "outputs": [
    {
     "name": "stdout",
     "output_type": "stream",
     "text": [
      "Ram Sharma\n",
      "Ram Kapoor\n",
      "Ram Arora\n"
     ]
    }
   ],
   "source": [
    "print_names('Sharma','Kapoor','Arora')"
   ]
  },
  {
   "cell_type": "code",
   "execution_count": 187,
   "metadata": {},
   "outputs": [
    {
     "name": "stdout",
     "output_type": "stream",
     "text": [
      "Ram Sharma\n",
      "Ram Jolly\n",
      "Ram Lala\n",
      "Ram Pandey\n"
     ]
    },
    {
     "data": {
      "text/plain": [
       "[None, None, None, None]"
      ]
     },
     "execution_count": 187,
     "metadata": {},
     "output_type": "execute_result"
    }
   ],
   "source": [
    "list(map(print_names,('Sharma','Jolly','Lala','Pandey')))"
   ]
  },
  {
   "cell_type": "markdown",
   "metadata": {},
   "source": [
    "#### **Q10. Print different names using KEYWORD Arguments.**"
   ]
  },
  {
   "cell_type": "code",
   "execution_count": 197,
   "metadata": {},
   "outputs": [],
   "source": [
    "def print_names(**kwargs):\n",
    "    print('Ram',kwargs['l_name1'])\n",
    "    print('Ram',kwargs['l_name2'])\n",
    "    print('Ram',kwargs['l_name3'])"
   ]
  },
  {
   "cell_type": "code",
   "execution_count": 198,
   "metadata": {},
   "outputs": [
    {
     "name": "stdout",
     "output_type": "stream",
     "text": [
      "Ram Sharma\n",
      "Ram Jollu\n",
      "Ram Titu\n"
     ]
    }
   ],
   "source": [
    "print_names(l_name1='Sharma',l_name2='Jollu',l_name3='Titu')"
   ]
  },
  {
   "cell_type": "markdown",
   "metadata": {},
   "source": [
    "#### **Q11. Print the LCM and HCF using FOR Loop and LIST COMPREHENSION.**"
   ]
  },
  {
   "cell_type": "code",
   "execution_count": 227,
   "metadata": {},
   "outputs": [
    {
     "name": "stdout",
     "output_type": "stream",
     "text": [
      "2 is not a lowest common factor of 10 and 15\n",
      "3 is not a lowest common factor of 10 and 15\n",
      "4 is not a lowest common factor of 10 and 15\n",
      "\n",
      " ### 5 is a Lowest Common Factor ###\n"
     ]
    }
   ],
   "source": [
    "num1, num2 = 10,15\n",
    "\n",
    "lcf = []\n",
    "for num in range(2,max(num1,num2)+1):\n",
    "    if len(lcf) == 0:\n",
    "        if num1%num == 0 and num2%num == 0:\n",
    "            lcf.append(num)\n",
    "        else:\n",
    "            print(\"{} is not a lowest common factor of {} and {}\".format(num, num1, num2))\n",
    "    elif len(lcf) == 1:\n",
    "        print('\\n ### {} is a Lowest Common Factor ###'.format(lcf[-1]))\n",
    "        break;"
   ]
  },
  {
   "cell_type": "code",
   "execution_count": 245,
   "metadata": {},
   "outputs": [
    {
     "name": "stdout",
     "output_type": "stream",
     "text": [
      "3 is not a highest common factor of 10 and 20\n",
      "4 is not a highest common factor of 10 and 20\n",
      "6 is not a highest common factor of 10 and 20\n",
      "7 is not a highest common factor of 10 and 20\n",
      "8 is not a highest common factor of 10 and 20\n",
      "9 is not a highest common factor of 10 and 20\n",
      "\n",
      " ### 10 is the Highest Common Factor ###\n"
     ]
    }
   ],
   "source": [
    "num1, num2 = 10,20\n",
    "\n",
    "hcf = []\n",
    "for num in range(1,min(num1,num2)+1):\n",
    "    if num1%num == 0 and num2%num == 0:\n",
    "        hcf.append(num)\n",
    "    else:\n",
    "        print(\"{} is not a highest common factor of {} and {}\".format(num, num1, num2))\n",
    "\n",
    "if len(hcf) > 1:\n",
    "    print('\\n ### {} is the Highest Common Factor ###'.format(hcf[-1]))\n",
    "else:\n",
    "    print('\\n ### {} is the Highest Common Factor ###'.format(hcf[-1]))"
   ]
  },
  {
   "cell_type": "markdown",
   "metadata": {},
   "source": []
  },
  {
   "cell_type": "code",
   "execution_count": 256,
   "metadata": {},
   "outputs": [
    {
     "data": {
      "text/plain": [
       "{'f_name': ['Virat', 'Sachin', 'Sourav', 'Mahendra', 'Parthiv'],\n",
       " 'l_name': ['Kohli', 'Tendulkar', 'Gangully', 'Dhoni', 'Patel']}"
      ]
     },
     "execution_count": 256,
     "metadata": {},
     "output_type": "execute_result"
    }
   ],
   "source": [
    "players = {'f_name':['Virat','Sachin','Sourav','Mahendra','Parthiv'],\n",
    "           'l_name':['Kohli','Tendulkar','Gangully','Dhoni','Patel']}\n",
    "players"
   ]
  },
  {
   "cell_type": "code",
   "execution_count": 257,
   "metadata": {},
   "outputs": [
    {
     "name": "stdout",
     "output_type": "stream",
     "text": [
      "0 f_name\n",
      "1 l_name\n"
     ]
    }
   ],
   "source": [
    "for index, name in enumerate(players):\n",
    "    print(index,name)"
   ]
  },
  {
   "cell_type": "code",
   "execution_count": 258,
   "metadata": {},
   "outputs": [
    {
     "name": "stdout",
     "output_type": "stream",
     "text": [
      "0 f_name\n",
      "1 l_name\n"
     ]
    }
   ],
   "source": [
    "for index, name in enumerate(players.keys()):\n",
    "    print(index,name)"
   ]
  },
  {
   "cell_type": "code",
   "execution_count": 259,
   "metadata": {},
   "outputs": [
    {
     "name": "stdout",
     "output_type": "stream",
     "text": [
      "0 --> Virat\n",
      "1 --> Sachin\n",
      "2 --> Sourav\n",
      "3 --> Mahendra\n",
      "4 --> Parthiv\n",
      "0 --> Kohli\n",
      "1 --> Tendulkar\n",
      "2 --> Gangully\n",
      "3 --> Dhoni\n",
      "4 --> Patel\n"
     ]
    }
   ],
   "source": [
    "for index, name in enumerate(players.values()):\n",
    "    for idx, player in enumerate(name):\n",
    "        print(\"{} --> {}\".format(idx,player))"
   ]
  },
  {
   "cell_type": "code",
   "execution_count": 267,
   "metadata": {},
   "outputs": [
    {
     "data": {
      "text/plain": [
       "\"['Virat', 'Sachin', 'Sourav', 'Mahendra', 'Parthiv']['Kohli', 'Tendulkar', 'Gangully', 'Dhoni', 'Patel']\""
      ]
     },
     "execution_count": 267,
     "metadata": {},
     "output_type": "execute_result"
    }
   ],
   "source": [
    "\"{f_name}{l_name}\".format(**players)"
   ]
  },
  {
   "cell_type": "code",
   "execution_count": 268,
   "metadata": {},
   "outputs": [],
   "source": [
    "first_name = players['f_name']\n",
    "last_name = players['l_name']"
   ]
  },
  {
   "cell_type": "code",
   "execution_count": 270,
   "metadata": {},
   "outputs": [
    {
     "data": {
      "text/plain": [
       "[('Virat', 'Kohli'),\n",
       " ('Sachin', 'Tendulkar'),\n",
       " ('Sourav', 'Gangully'),\n",
       " ('Mahendra', 'Dhoni'),\n",
       " ('Parthiv', 'Patel')]"
      ]
     },
     "execution_count": 270,
     "metadata": {},
     "output_type": "execute_result"
    }
   ],
   "source": [
    "list(zip(first_name,last_name))"
   ]
  },
  {
   "cell_type": "code",
   "execution_count": 271,
   "metadata": {},
   "outputs": [
    {
     "name": "stdout",
     "output_type": "stream",
     "text": [
      "Virat --> Kohli\n",
      "Sachin --> Tendulkar\n",
      "Sourav --> Gangully\n",
      "Mahendra --> Dhoni\n",
      "Parthiv --> Patel\n"
     ]
    }
   ],
   "source": [
    "for a, b in list(zip(first_name,last_name)):\n",
    "    print(\"{} --> {}\".format(a,b))"
   ]
  },
  {
   "cell_type": "code",
   "execution_count": 291,
   "metadata": {},
   "outputs": [],
   "source": [
    "with open('test_file.txt','w+') as f:\n",
    "    f.write(\"My name is Rajesh. \\n This file I have created for revision purpose.\")"
   ]
  },
  {
   "cell_type": "code",
   "execution_count": 297,
   "metadata": {},
   "outputs": [
    {
     "name": "stdout",
     "output_type": "stream",
     "text": [
      "0\n",
      "4\n",
      "1\n",
      "1\n"
     ]
    }
   ],
   "source": [
    "with open('test_file.txt','r+') as f1:\n",
    "    print(f1.tell())\n",
    "    data = f1.read(4)\n",
    "    print(f1.tell())\n",
    "    print(f1.seek(1))\n",
    "    print(f1.tell())"
   ]
  },
  {
   "cell_type": "code",
   "execution_count": 298,
   "metadata": {},
   "outputs": [
    {
     "data": {
      "text/plain": [
       "'My n'"
      ]
     },
     "execution_count": 298,
     "metadata": {},
     "output_type": "execute_result"
    }
   ],
   "source": [
    "data"
   ]
  },
  {
   "cell_type": "code",
   "execution_count": 301,
   "metadata": {},
   "outputs": [
    {
     "data": {
      "text/plain": [
       "{'Raj': 'esh', 'Aa': 'rav', 'Su': 'resh'}"
      ]
     },
     "execution_count": 301,
     "metadata": {},
     "output_type": "execute_result"
    }
   ],
   "source": [
    "new_dict = dict([('Raj','esh'),('Aa','rav'),('Su','resh')])\n",
    "new_dict"
   ]
  },
  {
   "cell_type": "code",
   "execution_count": 305,
   "metadata": {},
   "outputs": [
    {
     "data": {
      "text/plain": [
       "dict_items([('Raj', 'esh'), ('Aa', 'rav'), ('Su', 'resh')])"
      ]
     },
     "execution_count": 305,
     "metadata": {},
     "output_type": "execute_result"
    }
   ],
   "source": [
    "new_dict.items()"
   ]
  },
  {
   "cell_type": "code",
   "execution_count": 307,
   "metadata": {},
   "outputs": [
    {
     "name": "stdout",
     "output_type": "stream",
     "text": [
      "('Raj', 'esh')\n",
      "('Aa', 'rav')\n",
      "('Su', 'resh')\n"
     ]
    }
   ],
   "source": [
    "for idx, pair in enumerate(new_dict.items()):\n",
    "    print(pair)"
   ]
  },
  {
   "cell_type": "code",
   "execution_count": 304,
   "metadata": {},
   "outputs": [
    {
     "name": "stdout",
     "output_type": "stream",
     "text": [
      "Raj\n",
      "esh\n",
      "Aa\n",
      "rav\n",
      "Su\n",
      "resh\n"
     ]
    }
   ],
   "source": [
    "for i, (key, val) in enumerate(new_dict.items()):\n",
    "    print(key)\n",
    "    print(val)"
   ]
  },
  {
   "cell_type": "code",
   "execution_count": 309,
   "metadata": {},
   "outputs": [],
   "source": [
    "f2 = open('test_file.txt','r')"
   ]
  },
  {
   "cell_type": "code",
   "execution_count": 310,
   "metadata": {},
   "outputs": [
    {
     "data": {
      "text/plain": [
       "0"
      ]
     },
     "execution_count": 310,
     "metadata": {},
     "output_type": "execute_result"
    }
   ],
   "source": [
    "f2.tell()"
   ]
  },
  {
   "cell_type": "code",
   "execution_count": 311,
   "metadata": {},
   "outputs": [
    {
     "data": {
      "text/plain": [
       "'My na'"
      ]
     },
     "execution_count": 311,
     "metadata": {},
     "output_type": "execute_result"
    }
   ],
   "source": [
    "f2.read(5)"
   ]
  },
  {
   "cell_type": "code",
   "execution_count": 312,
   "metadata": {},
   "outputs": [
    {
     "data": {
      "text/plain": [
       "5"
      ]
     },
     "execution_count": 312,
     "metadata": {},
     "output_type": "execute_result"
    }
   ],
   "source": [
    "f2.tell()"
   ]
  },
  {
   "cell_type": "code",
   "execution_count": 313,
   "metadata": {},
   "outputs": [
    {
     "data": {
      "text/plain": [
       "2"
      ]
     },
     "execution_count": 313,
     "metadata": {},
     "output_type": "execute_result"
    }
   ],
   "source": [
    "f2.seek(2)"
   ]
  },
  {
   "cell_type": "code",
   "execution_count": 314,
   "metadata": {},
   "outputs": [
    {
     "data": {
      "text/plain": [
       "' name is Rajesh. \\n This file I have created for revision purpose.'"
      ]
     },
     "execution_count": 314,
     "metadata": {},
     "output_type": "execute_result"
    }
   ],
   "source": [
    "f2.read()"
   ]
  },
  {
   "cell_type": "code",
   "execution_count": 315,
   "metadata": {},
   "outputs": [
    {
     "data": {
      "text/plain": [
       "5"
      ]
     },
     "execution_count": 315,
     "metadata": {},
     "output_type": "execute_result"
    }
   ],
   "source": [
    "f2.seek(5)"
   ]
  },
  {
   "cell_type": "code",
   "execution_count": 316,
   "metadata": {},
   "outputs": [
    {
     "data": {
      "text/plain": [
       "'me is Rajesh. \\n This file I have created for revision purpose.'"
      ]
     },
     "execution_count": 316,
     "metadata": {},
     "output_type": "execute_result"
    }
   ],
   "source": [
    "f2.read()"
   ]
  },
  {
   "cell_type": "code",
   "execution_count": 318,
   "metadata": {},
   "outputs": [
    {
     "data": {
      "text/plain": [
       "7"
      ]
     },
     "execution_count": 318,
     "metadata": {},
     "output_type": "execute_result"
    }
   ],
   "source": [
    "f2.seek(7)"
   ]
  },
  {
   "cell_type": "code",
   "execution_count": 319,
   "metadata": {},
   "outputs": [
    {
     "data": {
      "text/plain": [
       "7"
      ]
     },
     "execution_count": 319,
     "metadata": {},
     "output_type": "execute_result"
    }
   ],
   "source": [
    "f2.tell()"
   ]
  },
  {
   "cell_type": "code",
   "execution_count": 320,
   "metadata": {},
   "outputs": [
    {
     "data": {
      "text/plain": [
       "' is Raje'"
      ]
     },
     "execution_count": 320,
     "metadata": {},
     "output_type": "execute_result"
    }
   ],
   "source": [
    "f2.read(8)"
   ]
  },
  {
   "cell_type": "code",
   "execution_count": 321,
   "metadata": {},
   "outputs": [],
   "source": [
    "import numpy as np"
   ]
  },
  {
   "cell_type": "code",
   "execution_count": 335,
   "metadata": {},
   "outputs": [
    {
     "data": {
      "text/plain": [
       "(array([[1., 0.],\n",
       "        [0., 1.],\n",
       "        [0., 0.]]),\n",
       " array([[1., 0., 0.],\n",
       "        [0., 1., 0.],\n",
       "        [0., 0., 1.]]),\n",
       " array([[3, 0, 0, 0, 0, 0, 0, 0, 0],\n",
       "        [0, 2, 0, 0, 0, 0, 0, 0, 0],\n",
       "        [0, 0, 1, 0, 0, 0, 0, 0, 0],\n",
       "        [0, 0, 0, 4, 0, 0, 0, 0, 0],\n",
       "        [0, 0, 0, 0, 0, 0, 0, 0, 0],\n",
       "        [0, 0, 0, 0, 0, 0, 0, 0, 0],\n",
       "        [0, 0, 0, 0, 0, 0, 0, 0, 0],\n",
       "        [0, 0, 0, 0, 0, 0, 0, 9, 0],\n",
       "        [0, 0, 0, 0, 0, 0, 0, 0, 8]]),\n",
       " array([[1., 1., 1.],\n",
       "        [1., 1., 1.],\n",
       "        [1., 1., 1.]]),\n",
       " array([[0., 0., 0.],\n",
       "        [0., 0., 0.],\n",
       "        [0., 0., 0.]]),\n",
       " array([ 1.        ,  1.47368421,  1.94736842,  2.42105263,  2.89473684,\n",
       "         3.36842105,  3.84210526,  4.31578947,  4.78947368,  5.26315789,\n",
       "         5.73684211,  6.21052632,  6.68421053,  7.15789474,  7.63157895,\n",
       "         8.10526316,  8.57894737,  9.05263158,  9.52631579, 10.        ]))"
      ]
     },
     "execution_count": 335,
     "metadata": {},
     "output_type": "execute_result"
    }
   ],
   "source": [
    "np.eye(3,2),np.eye(3,3),np.diag(v=[3,2,1,4,0,0,0,9,8]),np.ones(shape=(3,3)),np.zeros(shape=(3,3)),np.linspace(start=1,stop=10,num=20)"
   ]
  },
  {
   "cell_type": "code",
   "execution_count": 336,
   "metadata": {},
   "outputs": [],
   "source": [
    "a,b = np.eye(3,3),np.eye(3,3)"
   ]
  },
  {
   "cell_type": "code",
   "execution_count": 338,
   "metadata": {},
   "outputs": [
    {
     "data": {
      "text/plain": [
       "(array([[1., 0., 0.],\n",
       "        [0., 1., 0.],\n",
       "        [0., 0., 1.]]),\n",
       " array([[1., 0., 0.],\n",
       "        [0., 1., 0.],\n",
       "        [0., 0., 1.]]))"
      ]
     },
     "execution_count": 338,
     "metadata": {},
     "output_type": "execute_result"
    }
   ],
   "source": [
    "a,b"
   ]
  },
  {
   "cell_type": "code",
   "execution_count": 339,
   "metadata": {},
   "outputs": [
    {
     "data": {
      "text/plain": [
       "(array([[ True, False, False],\n",
       "        [False,  True, False],\n",
       "        [False, False,  True]]),\n",
       " array([[ True, False, False],\n",
       "        [False,  True, False],\n",
       "        [False, False,  True]]))"
      ]
     },
     "execution_count": 339,
     "metadata": {},
     "output_type": "execute_result"
    }
   ],
   "source": [
    "np.logical_and(a,b), np.logical_or(a,b)"
   ]
  },
  {
   "cell_type": "code",
   "execution_count": 340,
   "metadata": {},
   "outputs": [],
   "source": [
    "a,b = np.ones(shape=(3,3)),np.eye(3,3)"
   ]
  },
  {
   "cell_type": "code",
   "execution_count": 341,
   "metadata": {},
   "outputs": [
    {
     "data": {
      "text/plain": [
       "(array([[1., 1., 1.],\n",
       "        [1., 1., 1.],\n",
       "        [1., 1., 1.]]),\n",
       " array([[1., 0., 0.],\n",
       "        [0., 1., 0.],\n",
       "        [0., 0., 1.]]))"
      ]
     },
     "execution_count": 341,
     "metadata": {},
     "output_type": "execute_result"
    }
   ],
   "source": [
    "a,b"
   ]
  },
  {
   "cell_type": "code",
   "execution_count": 342,
   "metadata": {},
   "outputs": [
    {
     "data": {
      "text/plain": [
       "(array([[ True, False, False],\n",
       "        [False,  True, False],\n",
       "        [False, False,  True]]),\n",
       " array([[ True,  True,  True],\n",
       "        [ True,  True,  True],\n",
       "        [ True,  True,  True]]))"
      ]
     },
     "execution_count": 342,
     "metadata": {},
     "output_type": "execute_result"
    }
   ],
   "source": [
    "np.logical_and(a,b), np.logical_or(a,b)"
   ]
  },
  {
   "cell_type": "code",
   "execution_count": 350,
   "metadata": {},
   "outputs": [],
   "source": [
    "A=np.array([[1,2,3,9],\n",
    "            [4,5,6,0],\n",
    "            [7,8,9,2]])"
   ]
  },
  {
   "cell_type": "code",
   "execution_count": 351,
   "metadata": {},
   "outputs": [
    {
     "data": {
      "text/plain": [
       "array([[1, 2, 3, 9],\n",
       "       [4, 5, 6, 0],\n",
       "       [7, 8, 9, 2]])"
      ]
     },
     "execution_count": 351,
     "metadata": {},
     "output_type": "execute_result"
    }
   ],
   "source": [
    "A"
   ]
  },
  {
   "cell_type": "code",
   "execution_count": 352,
   "metadata": {},
   "outputs": [
    {
     "data": {
      "text/plain": [
       "(3, 7)"
      ]
     },
     "execution_count": 352,
     "metadata": {},
     "output_type": "execute_result"
    }
   ],
   "source": [
    "np.argmax(A),np.argmin(A) ## Return indices of max and min value in the matrix"
   ]
  },
  {
   "cell_type": "code",
   "execution_count": 353,
   "metadata": {},
   "outputs": [
    {
     "data": {
      "text/plain": [
       "(array([2, 2, 2, 0], dtype=int64), array([0, 0, 0, 1], dtype=int64))"
      ]
     },
     "execution_count": 353,
     "metadata": {},
     "output_type": "execute_result"
    }
   ],
   "source": [
    "np.argmax(A,axis=0), np.argmin(A,axis=0)"
   ]
  },
  {
   "cell_type": "code",
   "execution_count": 354,
   "metadata": {},
   "outputs": [
    {
     "data": {
      "text/plain": [
       "(array([3, 2, 2], dtype=int64), array([0, 3, 3], dtype=int64))"
      ]
     },
     "execution_count": 354,
     "metadata": {},
     "output_type": "execute_result"
    }
   ],
   "source": [
    "np.argmax(A,axis=1), np.argmin(A,axis=1)"
   ]
  },
  {
   "cell_type": "code",
   "execution_count": 358,
   "metadata": {},
   "outputs": [
    {
     "data": {
      "text/plain": [
       "[(1, 4), (2, 5)]"
      ]
     },
     "execution_count": 358,
     "metadata": {},
     "output_type": "execute_result"
    }
   ],
   "source": [
    "list(zip([1,2,3],[4,5]))"
   ]
  },
  {
   "cell_type": "code",
   "execution_count": 359,
   "metadata": {},
   "outputs": [
    {
     "data": {
      "text/plain": [
       "array([ 1., 10.])"
      ]
     },
     "execution_count": 359,
     "metadata": {},
     "output_type": "execute_result"
    }
   ],
   "source": [
    "np.linspace(1,10,2)"
   ]
  }
 ],
 "metadata": {
  "kernelspec": {
   "display_name": "Python 3",
   "language": "python",
   "name": "python3"
  },
  "language_info": {
   "codemirror_mode": {
    "name": "ipython",
    "version": 3
   },
   "file_extension": ".py",
   "mimetype": "text/x-python",
   "name": "python",
   "nbconvert_exporter": "python",
   "pygments_lexer": "ipython3",
   "version": "3.6.8"
  }
 },
 "nbformat": 4,
 "nbformat_minor": 4
}
