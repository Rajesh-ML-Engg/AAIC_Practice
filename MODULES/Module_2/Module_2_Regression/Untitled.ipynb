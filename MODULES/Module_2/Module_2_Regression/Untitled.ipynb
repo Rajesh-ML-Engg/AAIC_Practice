{
 "cells": [
  {
   "cell_type": "markdown",
   "metadata": {},
   "source": [
    "## ***`SCENARIO Given By Nitin`***"
   ]
  },
  {
   "cell_type": "code",
   "execution_count": 1,
   "metadata": {},
   "outputs": [],
   "source": [
    "import numpy as np\n",
    "import pandas as pd\n",
    "from collections import Counter"
   ]
  },
  {
   "cell_type": "code",
   "execution_count": 2,
   "metadata": {},
   "outputs": [],
   "source": [
    "mapping = [('a', 'b'), ('a', 'c'), ('a', 'd'), ('b', 'e'), ('f', 'e'), ('g', 'h')]\n",
    "key = [pair[0] for pair in mapping]\n",
    "values = [pair[1] for pair in mapping]"
   ]
  },
  {
   "cell_type": "code",
   "execution_count": 3,
   "metadata": {},
   "outputs": [
    {
     "data": {
      "text/plain": [
       "(['a', 'a', 'a', 'b', 'f', 'g'], ['b', 'c', 'd', 'e', 'e', 'h'])"
      ]
     },
     "execution_count": 3,
     "metadata": {},
     "output_type": "execute_result"
    }
   ],
   "source": [
    "key, values"
   ]
  },
  {
   "cell_type": "code",
   "execution_count": 4,
   "metadata": {},
   "outputs": [
    {
     "data": {
      "text/plain": [
       "Counter({'a': 3, 'b': 1, 'f': 1, 'g': 1})"
      ]
     },
     "execution_count": 4,
     "metadata": {},
     "output_type": "execute_result"
    }
   ],
   "source": [
    "keys_counter = Counter(key)\n",
    "keys_counter"
   ]
  },
  {
   "cell_type": "code",
   "execution_count": 5,
   "metadata": {},
   "outputs": [],
   "source": [
    "d_keys = []\n",
    "d_values = []\n",
    "for idx,val in enumerate(key):\n",
    "    if val not in d_keys:\n",
    "        d_keys.append(val)\n",
    "        start_idx = key.index(val)\n",
    "        end_idx = keys_counter.get(key[idx])\n",
    "        d_values.append(values[start_idx:start_idx+end_idx])"
   ]
  },
  {
   "cell_type": "code",
   "execution_count": 6,
   "metadata": {},
   "outputs": [
    {
     "data": {
      "text/plain": [
       "(['a', 'b', 'f', 'g'], [['b', 'c', 'd'], ['e'], ['e'], ['h']])"
      ]
     },
     "execution_count": 6,
     "metadata": {},
     "output_type": "execute_result"
    }
   ],
   "source": [
    "d_keys, d_values"
   ]
  },
  {
   "cell_type": "code",
   "execution_count": 7,
   "metadata": {},
   "outputs": [
    {
     "data": {
      "text/plain": [
       "{'a': ['b', 'c', 'd'], 'b': ['e'], 'f': ['e'], 'g': ['h']}"
      ]
     },
     "execution_count": 7,
     "metadata": {},
     "output_type": "execute_result"
    }
   ],
   "source": [
    "mapping_dict = dict(list(zip(d_keys,d_values)))\n",
    "mapping_dict"
   ]
  },
  {
   "cell_type": "code",
   "execution_count": 8,
   "metadata": {},
   "outputs": [],
   "source": [
    "for key,val in mapping_dict.items():\n",
    "    for item in list(val):\n",
    "        new_val = mapping_dict.get(item,-1)\n",
    "        if new_val != -1:\n",
    "            mapping_dict[key].append(new_val[0])"
   ]
  },
  {
   "cell_type": "code",
   "execution_count": 9,
   "metadata": {},
   "outputs": [
    {
     "data": {
      "text/plain": [
       "{'a': ['b', 'c', 'd', 'e'], 'b': ['e'], 'f': ['e'], 'g': ['h']}"
      ]
     },
     "execution_count": 9,
     "metadata": {},
     "output_type": "execute_result"
    }
   ],
   "source": [
    "mapping_dict"
   ]
  },
  {
   "cell_type": "code",
   "execution_count": 10,
   "metadata": {},
   "outputs": [
    {
     "name": "stdout",
     "output_type": "stream",
     "text": [
      "a b\n",
      "a c\n",
      "a d\n",
      "a e\n",
      "b e\n",
      "f e\n",
      "g h\n"
     ]
    }
   ],
   "source": [
    "v1 = []\n",
    "v2 = []\n",
    "for k,v in mapping_dict.items():\n",
    "    if len(v) > 1:\n",
    "        for val in v:\n",
    "            print(k,val)\n",
    "            v1.append(k)\n",
    "            v2.append(val)\n",
    "    else:\n",
    "        print(k,v[0])\n",
    "        v1.append(k)\n",
    "        v2.append(v[0])"
   ]
  },
  {
   "cell_type": "code",
   "execution_count": 11,
   "metadata": {},
   "outputs": [
    {
     "data": {
      "text/plain": [
       "(['a', 'a', 'a', 'a', 'b', 'f', 'g'], ['b', 'c', 'd', 'e', 'e', 'e', 'h'])"
      ]
     },
     "execution_count": 11,
     "metadata": {},
     "output_type": "execute_result"
    }
   ],
   "source": [
    "v1,v2"
   ]
  },
  {
   "cell_type": "code",
   "execution_count": 12,
   "metadata": {},
   "outputs": [
    {
     "name": "stdout",
     "output_type": "stream",
     "text": [
      "c b\n",
      "d b\n",
      "e b\n",
      "b a\n",
      "b c\n",
      "d c\n",
      "e c\n",
      "c a\n",
      "b d\n",
      "c d\n",
      "e d\n",
      "d a\n",
      "b e\n",
      "c e\n",
      "d e\n",
      "e a\n",
      "e b\n",
      "e f\n",
      "h g\n"
     ]
    }
   ],
   "source": [
    "for k,v in mapping_dict.items():\n",
    "    if len(v) > 1:\n",
    "        for val in v:\n",
    "            for vv in mapping_dict.get(k):\n",
    "                if vv != val:\n",
    "                    print(vv,val)\n",
    "                    v1.append(vv)\n",
    "                    v2.append(val)\n",
    "            print(val,k)\n",
    "            v1.append(val)\n",
    "            v2.append(k)\n",
    "    else:\n",
    "        print(v[0],k)\n",
    "        v1.append(v[0])\n",
    "        v2.append(k)"
   ]
  },
  {
   "cell_type": "code",
   "execution_count": 13,
   "metadata": {},
   "outputs": [
    {
     "name": "stdout",
     "output_type": "stream",
     "text": [
      "['a', 'a', 'a', 'a', 'b', 'f', 'g', 'c', 'd', 'e', 'b', 'b', 'd', 'e', 'c', 'b', 'c', 'e', 'd', 'b', 'c', 'd', 'e', 'e', 'e', 'h'] ['b', 'c', 'd', 'e', 'e', 'e', 'h', 'b', 'b', 'b', 'a', 'c', 'c', 'c', 'a', 'd', 'd', 'd', 'a', 'e', 'e', 'e', 'a', 'b', 'f', 'g']\n"
     ]
    }
   ],
   "source": [
    "print(v1,v2)"
   ]
  },
  {
   "cell_type": "code",
   "execution_count": 14,
   "metadata": {},
   "outputs": [
    {
     "data": {
      "text/html": [
       "<div>\n",
       "<style scoped>\n",
       "    .dataframe tbody tr th:only-of-type {\n",
       "        vertical-align: middle;\n",
       "    }\n",
       "\n",
       "    .dataframe tbody tr th {\n",
       "        vertical-align: top;\n",
       "    }\n",
       "\n",
       "    .dataframe thead th {\n",
       "        text-align: right;\n",
       "    }\n",
       "</style>\n",
       "<table border=\"1\" class=\"dataframe\">\n",
       "  <thead>\n",
       "    <tr style=\"text-align: right;\">\n",
       "      <th></th>\n",
       "      <th>c1</th>\n",
       "      <th>c2</th>\n",
       "    </tr>\n",
       "  </thead>\n",
       "  <tbody>\n",
       "    <tr>\n",
       "      <th>0</th>\n",
       "      <td>a</td>\n",
       "      <td>b</td>\n",
       "    </tr>\n",
       "    <tr>\n",
       "      <th>1</th>\n",
       "      <td>a</td>\n",
       "      <td>c</td>\n",
       "    </tr>\n",
       "    <tr>\n",
       "      <th>2</th>\n",
       "      <td>a</td>\n",
       "      <td>d</td>\n",
       "    </tr>\n",
       "    <tr>\n",
       "      <th>3</th>\n",
       "      <td>a</td>\n",
       "      <td>e</td>\n",
       "    </tr>\n",
       "    <tr>\n",
       "      <th>4</th>\n",
       "      <td>b</td>\n",
       "      <td>e</td>\n",
       "    </tr>\n",
       "    <tr>\n",
       "      <th>5</th>\n",
       "      <td>f</td>\n",
       "      <td>e</td>\n",
       "    </tr>\n",
       "    <tr>\n",
       "      <th>6</th>\n",
       "      <td>g</td>\n",
       "      <td>h</td>\n",
       "    </tr>\n",
       "    <tr>\n",
       "      <th>7</th>\n",
       "      <td>c</td>\n",
       "      <td>b</td>\n",
       "    </tr>\n",
       "    <tr>\n",
       "      <th>8</th>\n",
       "      <td>d</td>\n",
       "      <td>b</td>\n",
       "    </tr>\n",
       "    <tr>\n",
       "      <th>9</th>\n",
       "      <td>e</td>\n",
       "      <td>b</td>\n",
       "    </tr>\n",
       "    <tr>\n",
       "      <th>10</th>\n",
       "      <td>b</td>\n",
       "      <td>a</td>\n",
       "    </tr>\n",
       "    <tr>\n",
       "      <th>11</th>\n",
       "      <td>b</td>\n",
       "      <td>c</td>\n",
       "    </tr>\n",
       "    <tr>\n",
       "      <th>12</th>\n",
       "      <td>d</td>\n",
       "      <td>c</td>\n",
       "    </tr>\n",
       "    <tr>\n",
       "      <th>13</th>\n",
       "      <td>e</td>\n",
       "      <td>c</td>\n",
       "    </tr>\n",
       "    <tr>\n",
       "      <th>14</th>\n",
       "      <td>c</td>\n",
       "      <td>a</td>\n",
       "    </tr>\n",
       "    <tr>\n",
       "      <th>15</th>\n",
       "      <td>b</td>\n",
       "      <td>d</td>\n",
       "    </tr>\n",
       "    <tr>\n",
       "      <th>16</th>\n",
       "      <td>c</td>\n",
       "      <td>d</td>\n",
       "    </tr>\n",
       "    <tr>\n",
       "      <th>17</th>\n",
       "      <td>e</td>\n",
       "      <td>d</td>\n",
       "    </tr>\n",
       "    <tr>\n",
       "      <th>18</th>\n",
       "      <td>d</td>\n",
       "      <td>a</td>\n",
       "    </tr>\n",
       "    <tr>\n",
       "      <th>19</th>\n",
       "      <td>b</td>\n",
       "      <td>e</td>\n",
       "    </tr>\n",
       "    <tr>\n",
       "      <th>20</th>\n",
       "      <td>c</td>\n",
       "      <td>e</td>\n",
       "    </tr>\n",
       "    <tr>\n",
       "      <th>21</th>\n",
       "      <td>d</td>\n",
       "      <td>e</td>\n",
       "    </tr>\n",
       "    <tr>\n",
       "      <th>22</th>\n",
       "      <td>e</td>\n",
       "      <td>a</td>\n",
       "    </tr>\n",
       "    <tr>\n",
       "      <th>23</th>\n",
       "      <td>e</td>\n",
       "      <td>b</td>\n",
       "    </tr>\n",
       "    <tr>\n",
       "      <th>24</th>\n",
       "      <td>e</td>\n",
       "      <td>f</td>\n",
       "    </tr>\n",
       "    <tr>\n",
       "      <th>25</th>\n",
       "      <td>h</td>\n",
       "      <td>g</td>\n",
       "    </tr>\n",
       "  </tbody>\n",
       "</table>\n",
       "</div>"
      ],
      "text/plain": [
       "   c1 c2\n",
       "0   a  b\n",
       "1   a  c\n",
       "2   a  d\n",
       "3   a  e\n",
       "4   b  e\n",
       "5   f  e\n",
       "6   g  h\n",
       "7   c  b\n",
       "8   d  b\n",
       "9   e  b\n",
       "10  b  a\n",
       "11  b  c\n",
       "12  d  c\n",
       "13  e  c\n",
       "14  c  a\n",
       "15  b  d\n",
       "16  c  d\n",
       "17  e  d\n",
       "18  d  a\n",
       "19  b  e\n",
       "20  c  e\n",
       "21  d  e\n",
       "22  e  a\n",
       "23  e  b\n",
       "24  e  f\n",
       "25  h  g"
      ]
     },
     "execution_count": 14,
     "metadata": {},
     "output_type": "execute_result"
    }
   ],
   "source": [
    "df = pd.DataFrame({'c1':v1,'c2':v2})\n",
    "df"
   ]
  },
  {
   "cell_type": "code",
   "execution_count": 19,
   "metadata": {},
   "outputs": [],
   "source": [
    "inp1 = ['g','a','h','c']\n",
    "inp2 = ['b','f','g','h']"
   ]
  },
  {
   "cell_type": "code",
   "execution_count": 20,
   "metadata": {},
   "outputs": [
    {
     "name": "stdout",
     "output_type": "stream",
     "text": [
      "False\n",
      "True\n",
      "True\n",
      "False\n"
     ]
    }
   ],
   "source": [
    "for i in range(len(inp1)):\n",
    "    if inp1[i] not in list(df['c1']) or inp2[i] not in list(df['c1']):\n",
    "        print(\"False\")\n",
    "    else:\n",
    "        results1 = set(df[df['c1']==inp1[i]]['c2'].values).union(set(df[df['c2']==inp1[i]]['c1'].values))\n",
    "        results2 = set(df[df['c1']==inp2[i]]['c2'].values).union(set(df[df['c2']==inp2[i]]['c1'].values))\n",
    "        final_result = list(results1.intersection(results2))\n",
    "        if len(final_result) >= 1 or len(list((results1.union(results2)).intersection(set((inp1[i],inp2[i]))))) > 1:\n",
    "              print(\"True\")\n",
    "        else:\n",
    "              print(\"False\")"
   ]
  },
  {
   "cell_type": "markdown",
   "metadata": {},
   "source": [
    "## ***Hence Solved!!!!!!***"
   ]
  },
  {
   "cell_type": "code",
   "execution_count": 228,
   "metadata": {},
   "outputs": [],
   "source": [
    "import matplotlib.pyplot as plt\n",
    "import seaborn as sns"
   ]
  },
  {
   "cell_type": "code",
   "execution_count": 7,
   "metadata": {},
   "outputs": [
    {
     "data": {
      "text/plain": [
       "(tuple, ([1, 2, 3, 4],))"
      ]
     },
     "execution_count": 7,
     "metadata": {},
     "output_type": "execute_result"
    }
   ],
   "source": [
    "aa = tuple([[1,2,3,4]])\n",
    "type(aa), aa"
   ]
  },
  {
   "cell_type": "code",
   "execution_count": 8,
   "metadata": {},
   "outputs": [
    {
     "ename": "TypeError",
     "evalue": "unhashable type: 'list'",
     "output_type": "error",
     "traceback": [
      "\u001b[1;31m---------------------------------------------------------------------------\u001b[0m",
      "\u001b[1;31mTypeError\u001b[0m                                 Traceback (most recent call last)",
      "\u001b[1;32m<ipython-input-8-106cc70c3ff1>\u001b[0m in \u001b[0;36m<module>\u001b[1;34m\u001b[0m\n\u001b[1;32m----> 1\u001b[1;33m \u001b[0mset\u001b[0m\u001b[1;33m(\u001b[0m\u001b[1;33m[\u001b[0m\u001b[1;33m[\u001b[0m\u001b[1;36m1\u001b[0m\u001b[1;33m,\u001b[0m\u001b[1;36m2\u001b[0m\u001b[1;33m]\u001b[0m\u001b[1;33m,\u001b[0m\u001b[1;36m3\u001b[0m\u001b[1;33m,\u001b[0m\u001b[1;36m4\u001b[0m\u001b[1;33m]\u001b[0m\u001b[1;33m)\u001b[0m\u001b[1;33m\u001b[0m\u001b[1;33m\u001b[0m\u001b[0m\n\u001b[0m",
      "\u001b[1;31mTypeError\u001b[0m: unhashable type: 'list'"
     ]
    }
   ],
   "source": [
    "set([[1,2],3,4])"
   ]
  },
  {
   "cell_type": "code",
   "execution_count": 50,
   "metadata": {},
   "outputs": [],
   "source": [
    "dictionary = ['heater', 'cold', 'clod', 'reheat', 'docl']\n",
    "query = ['codl', 'heater', 'abcd']"
   ]
  },
  {
   "cell_type": "code",
   "execution_count": 110,
   "metadata": {},
   "outputs": [],
   "source": [
    "combined = [''.join(sorted(word)) for word in dictionary]\n",
    "res = Counter(combined)\n",
    "final_matches = []\n",
    "for i in range(len(query)):\n",
    "    final_matches.append(res.get(''.join(sorted(query[i]))))"
   ]
  },
  {
   "cell_type": "code",
   "execution_count": 111,
   "metadata": {},
   "outputs": [
    {
     "data": {
      "text/plain": [
       "[3, 2, None]"
      ]
     },
     "execution_count": 111,
     "metadata": {},
     "output_type": "execute_result"
    }
   ],
   "source": [
    "final_matches"
   ]
  },
  {
   "cell_type": "code",
   "execution_count": null,
   "metadata": {},
   "outputs": [],
   "source": [
    "query.remove()"
   ]
  },
  {
   "cell_type": "code",
   "execution_count": 96,
   "metadata": {},
   "outputs": [],
   "source": [
    "from collections import Counter"
   ]
  },
  {
   "cell_type": "code",
   "execution_count": 101,
   "metadata": {},
   "outputs": [
    {
     "data": {
      "text/plain": [
       "[Counter({'a': 1, 'e': 2, 'h': 1, 'r': 1, 't': 1}),\n",
       " Counter({'c': 1, 'd': 1, 'l': 1, 'o': 1}),\n",
       " Counter({'c': 1, 'd': 1, 'l': 1, 'o': 1}),\n",
       " Counter({'a': 1, 'e': 2, 'h': 1, 'r': 1, 't': 1}),\n",
       " Counter({'c': 1, 'd': 1, 'l': 1, 'o': 1}),\n",
       " Counter({'c': 1, 'd': 1, 'l': 1, 'o': 1}),\n",
       " Counter({'a': 1, 'e': 2, 'h': 1, 'r': 1, 't': 1}),\n",
       " Counter({'a': 1, 'b': 1, 'c': 1, 'd': 1})]"
      ]
     },
     "execution_count": 101,
     "metadata": {},
     "output_type": "execute_result"
    }
   ],
   "source": [
    "[Counter(ll) for ll in combined]"
   ]
  },
  {
   "cell_type": "code",
   "execution_count": 113,
   "metadata": {},
   "outputs": [
    {
     "data": {
      "text/plain": [
       "0"
      ]
     },
     "execution_count": 113,
     "metadata": {},
     "output_type": "execute_result"
    }
   ],
   "source": [
    "combined = [''.join(sorted(word)) for word in comb]\n",
    "res = Counter(combined)\n",
    "res.get('aa',0)"
   ]
  },
  {
   "cell_type": "code",
   "execution_count": 81,
   "metadata": {},
   "outputs": [
    {
     "data": {
      "text/plain": [
       "{'abcd', 'codl', 'heater'}"
      ]
     },
     "execution_count": 81,
     "metadata": {},
     "output_type": "execute_result"
    }
   ],
   "source": [
    "set(query)"
   ]
  },
  {
   "cell_type": "code",
   "execution_count": null,
   "metadata": {},
   "outputs": [],
   "source": []
  },
  {
   "cell_type": "code",
   "execution_count": 56,
   "metadata": {},
   "outputs": [],
   "source": [
    "new_dict = [sorted(word) for word in dictionary]\n",
    "new_query = [sorted(word) for word in query]"
   ]
  },
  {
   "cell_type": "code",
   "execution_count": 57,
   "metadata": {},
   "outputs": [
    {
     "data": {
      "text/plain": [
       "([['a', 'e', 'e', 'h', 'r', 't'],\n",
       "  ['c', 'd', 'l', 'o'],\n",
       "  ['c', 'd', 'l', 'o'],\n",
       "  ['a', 'e', 'e', 'h', 'r', 't'],\n",
       "  ['c', 'd', 'l', 'o']],\n",
       " [['c', 'd', 'l', 'o'], ['a', 'e', 'e', 'h', 'r', 't'], ['a', 'b', 'c', 'd']])"
      ]
     },
     "execution_count": 57,
     "metadata": {},
     "output_type": "execute_result"
    }
   ],
   "source": [
    "new_dict,new_query"
   ]
  },
  {
   "cell_type": "code",
   "execution_count": null,
   "metadata": {},
   "outputs": [],
   "source": []
  },
  {
   "cell_type": "code",
   "execution_count": 94,
   "metadata": {},
   "outputs": [],
   "source": [
    "final_matches = []\n",
    "for i in range(len(query)):\n",
    "    final_matches.append(combined.count(sorted(query[i]))-1)  "
   ]
  },
  {
   "cell_type": "code",
   "execution_count": 95,
   "metadata": {},
   "outputs": [
    {
     "data": {
      "text/plain": [
       "[3, 2, 0]"
      ]
     },
     "execution_count": 95,
     "metadata": {},
     "output_type": "execute_result"
    }
   ],
   "source": [
    "final_matches"
   ]
  },
  {
   "cell_type": "code",
   "execution_count": 67,
   "metadata": {},
   "outputs": [
    {
     "name": "stdout",
     "output_type": "stream",
     "text": [
      "['c', 'd', 'l', 'o']\n",
      "['a', 'e', 'e', 'h', 'r', 't']\n",
      "['a', 'b', 'c', 'd']\n"
     ]
    }
   ],
   "source": [
    "for word in new_query:\n",
    "    print(word)"
   ]
  },
  {
   "cell_type": "code",
   "execution_count": 82,
   "metadata": {},
   "outputs": [],
   "source": [
    "final_matches = []\n",
    "for word in query:\n",
    "    s_word = sorted(word)\n",
    "    c = new_dict.count(s_word)\n",
    "    final_matches.append(c)"
   ]
  },
  {
   "cell_type": "code",
   "execution_count": 83,
   "metadata": {},
   "outputs": [
    {
     "data": {
      "text/plain": [
       "[3, 2, 0]"
      ]
     },
     "execution_count": 83,
     "metadata": {},
     "output_type": "execute_result"
    }
   ],
   "source": [
    "final_matches"
   ]
  },
  {
   "cell_type": "code",
   "execution_count": 70,
   "metadata": {},
   "outputs": [],
   "source": [
    "final_matches = []\n",
    "for word in new_query:\n",
    "    matches = []\n",
    "    for dict_word in new_dict:\n",
    "        if dict_word == word:\n",
    "            matches.append(1)\n",
    "    final_matches.append(len(matches))"
   ]
  },
  {
   "cell_type": "code",
   "execution_count": 71,
   "metadata": {},
   "outputs": [
    {
     "data": {
      "text/plain": [
       "[3, 2, 0]"
      ]
     },
     "execution_count": 71,
     "metadata": {},
     "output_type": "execute_result"
    }
   ],
   "source": [
    "final_matches"
   ]
  },
  {
   "cell_type": "code",
   "execution_count": 36,
   "metadata": {},
   "outputs": [
    {
     "name": "stdin",
     "output_type": "stream",
     "text": [
      " 2\n",
      " 12300 1433 3456\n",
      " 890 87654 567\n"
     ]
    },
    {
     "name": "stdout",
     "output_type": "stream",
     "text": [
      "-1.0\n",
      "-1.0\n",
      "1.0\n"
     ]
    }
   ],
   "source": [
    "# Enter your code here. Read input from STDIN. Print output to STDOUT\n",
    "\n",
    "import math\n",
    "from functools import reduce\n",
    "\n",
    "def calc_cc(x,y):\n",
    "    summation = lambda a,b : a+b\n",
    "    sum_x = reduce(summation, x)\n",
    "    sum_y = reduce(summation, y)\n",
    "    mean_x, mean_y = float(sum_x/len(x)), float(sum_y/len(y))\n",
    "\n",
    "    x_deviation = []\n",
    "    y_deviation = []\n",
    "    for i in range(len(x)):\n",
    "        diff_x = x[i] - mean_x\n",
    "        x_deviation.append(diff_x)\n",
    "        \n",
    "        diff_y = y[i] - mean_y\n",
    "        y_deviation.append(diff_y)\n",
    "\n",
    "    numerator, denom1, denom2 = 0,0,0\n",
    "    for i in range(len(x)):\n",
    "        numerator += x_deviation[i] * y_deviation[i]\n",
    "        denom1 += x_deviation[i]**2\n",
    "        denom2 += y_deviation[i]**2\n",
    "        \n",
    "    corr_coeff = round(numerator/(math.sqrt(denom1*denom2)),2)\n",
    "    return corr_coeff\n",
    "    \n",
    "if __name__ == '__main__':\n",
    "    n = int(input())\n",
    "    m = [0]*n\n",
    "    p = [0]*n\n",
    "    c = [0]*n\n",
    "    count = 0\n",
    "    for _ in range(n):\n",
    "        m[count], p[count], c[count] = map(int, tuple(input().split()))\n",
    "        count += 1\n",
    "    cc_m_p = calc_cc(m,p)\n",
    "    cc_p_c = calc_cc(p,c)\n",
    "    cc_c_m = calc_cc(c,m)\n",
    "    print(cc_m_p)\n",
    "    print(cc_p_c)\n",
    "    print(cc_c_m)"
   ]
  },
  {
   "cell_type": "code",
   "execution_count": 29,
   "metadata": {},
   "outputs": [
    {
     "name": "stdout",
     "output_type": "stream",
     "text": [
      "15.5\n"
     ]
    }
   ],
   "source": [
    "# Enter your code here. Read input from STDIN. Print output to STDOUT\n",
    "import math\n",
    "from functools import reduce\n",
    "\n",
    "x = [15 , 12 , 8  , 8 ,  7 ,  7 ,  7 ,  6   , 5  , 3]\n",
    "y = [10  ,25 , 17  ,11 , 13 , 17 , 20 , 13 , 9  , 15]\n",
    "\n",
    "#calculate mean of x and y\n",
    "summation = lambda x,y : x+y\n",
    "sum_x = reduce(summation, x)\n",
    "sum_y = reduce(summation, y)\n",
    "mean_x, mean_y = float(sum_x/len(x)), float(sum_y/len(y))\n",
    "\n",
    "x_deviation = []\n",
    "y_deviation = []\n",
    "for i in range(len(x)):\n",
    "    diff_x = x[i] - mean_x\n",
    "    x_deviation.append(diff_x)\n",
    "    \n",
    "    diff_y = y[i] - mean_y\n",
    "    y_deviation.append(diff_y)\n",
    "\n",
    "numerator, denom1, denom2 = 0,0,0\n",
    "for i in range(len(x)):\n",
    "    numerator += x_deviation[i] * y_deviation[i]\n",
    "    denom1 += x_deviation[i]**2\n",
    "    denom2 += y_deviation[i]**2\n",
    "\n",
    "corr_coeff = numerator/(math.sqrt(denom1*denom2))\n",
    "slope = (corr_coeff) * (math.sqrt(denom2)/math.sqrt(denom1))\n",
    "intercept = mean_y - (slope * mean_x)\n",
    "print(round(intercept + (slope * 10),1))"
   ]
  },
  {
   "cell_type": "code",
   "execution_count": 28,
   "metadata": {},
   "outputs": [
    {
     "name": "stdout",
     "output_type": "stream",
     "text": [
      "0.208\n"
     ]
    }
   ],
   "source": [
    "# Enter your code here. Read input from STDIN. Print output to STDOUT\n",
    "import math\n",
    "from functools import reduce\n",
    "\n",
    "x = [15 , 12 , 8  , 8 ,  7 ,  7 ,  7 ,  6   , 5  , 3]\n",
    "y = [10  ,25 , 17  ,11 , 13 , 17 , 20 , 13 , 9  , 15]\n",
    "\n",
    "#calculate mean of x and y\n",
    "summation = lambda x,y : x+y\n",
    "sum_x = reduce(summation, x)\n",
    "sum_y = reduce(summation, y)\n",
    "mean_x, mean_y = float(sum_x/len(x)), float(sum_y/len(y))\n",
    "\n",
    "x_deviation = []\n",
    "y_deviation = []\n",
    "for i in range(len(x)):\n",
    "    diff_x = x[i] - mean_x\n",
    "    x_deviation.append(diff_x)\n",
    "    \n",
    "    diff_y = y[i] - mean_y\n",
    "    y_deviation.append(diff_y)\n",
    "\n",
    "numerator, denom1, denom2 = 0,0,0\n",
    "for i in range(len(x)):\n",
    "    numerator += x_deviation[i] * y_deviation[i]\n",
    "    denom1 += x_deviation[i]**2\n",
    "    denom2 += y_deviation[i]**2\n",
    "\n",
    "corr_coeff = numerator/(math.sqrt(denom1*denom2))\n",
    "slope = (corr_coeff) * (math.sqrt(denom2)/math.sqrt(denom1))\n",
    "print(round(slope,3))"
   ]
  },
  {
   "cell_type": "code",
   "execution_count": 26,
   "metadata": {},
   "outputs": [
    {
     "name": "stdout",
     "output_type": "stream",
     "text": [
      "0.145\n"
     ]
    }
   ],
   "source": [
    "# Enter your code here. Read input from STDIN. Print output to STDOUT\n",
    "import math\n",
    "from functools import reduce\n",
    "x = [15 , 12 , 8  , 8 ,  7 ,  7 ,  7 ,  6   , 5  , 3]\n",
    "y = [10  ,25 , 17  ,11 , 13 , 17 , 20 , 13 , 9  , 15]\n",
    "#calculate mean of x and y\n",
    "summation = lambda x,y : x+y\n",
    "sum_x = reduce(summation, x)\n",
    "sum_y = reduce(summation, y)\n",
    "mean_x, mean_y = float(sum_x/len(x)), float(sum_y/len(y))\n",
    "\n",
    "x_deviation = []\n",
    "y_deviation = []\n",
    "for i in range(len(x)):\n",
    "    diff_x = x[i] - mean_x\n",
    "    x_deviation.append(diff_x)\n",
    "    \n",
    "    diff_y = y[i] - mean_y\n",
    "    y_deviation.append(diff_y)\n",
    "\n",
    "numerator, denom1, denom2 = 0,0,0\n",
    "for i in range(len(x)):\n",
    "    numerator += x_deviation[i] * y_deviation[i]\n",
    "    denom1 += x_deviation[i]**2\n",
    "    denom2 += y_deviation[i]**2\n",
    "\n",
    "corr_coeff = numerator/(math.sqrt(denom1*denom2))\n",
    "print(round(corr_coeff,3))"
   ]
  },
  {
   "cell_type": "code",
   "execution_count": 25,
   "metadata": {},
   "outputs": [
    {
     "data": {
      "text/plain": [
       "array([[1.        , 0.14499815],\n",
       "       [0.14499815, 1.        ]])"
      ]
     },
     "execution_count": 25,
     "metadata": {},
     "output_type": "execute_result"
    }
   ],
   "source": [
    "np.corrcoef(x,y)"
   ]
  },
  {
   "cell_type": "code",
   "execution_count": 24,
   "metadata": {},
   "outputs": [
    {
     "data": {
      "text/plain": [
       "'hELLO hOw ARE YOU?'"
      ]
     },
     "execution_count": 24,
     "metadata": {},
     "output_type": "execute_result"
    }
   ],
   "source": [
    "txt = \"Hello HoW are you?\"\n",
    "\n",
    "txt.swapcase()"
   ]
  },
  {
   "cell_type": "code",
   "execution_count": 2,
   "metadata": {},
   "outputs": [],
   "source": [
    "def fun(x):\n",
    "    x[0] = 5\n",
    "    return x"
   ]
  },
  {
   "cell_type": "code",
   "execution_count": 4,
   "metadata": {},
   "outputs": [
    {
     "name": "stdout",
     "output_type": "stream",
     "text": [
      "[5, 11, 12] [5, 11, 12]\n"
     ]
    }
   ],
   "source": [
    "g = [10,11,12]\n",
    "print(fun(g), g)"
   ]
  },
  {
   "cell_type": "code",
   "execution_count": 21,
   "metadata": {},
   "outputs": [],
   "source": [
    "import csv"
   ]
  },
  {
   "cell_type": "code",
   "execution_count": 25,
   "metadata": {},
   "outputs": [],
   "source": [
    "df = pd.DataFrame({'Id':[1,2,3,4],'val':[2,5,np.nan,6]})"
   ]
  },
  {
   "cell_type": "code",
   "execution_count": 35,
   "metadata": {},
   "outputs": [
    {
     "data": {
      "text/plain": [
       "False"
      ]
     },
     "execution_count": 35,
     "metadata": {},
     "output_type": "execute_result"
    }
   ],
   "source": [
    "df['val'][3] == np.nan"
   ]
  },
  {
   "cell_type": "code",
   "execution_count": 74,
   "metadata": {},
   "outputs": [],
   "source": [
    "np_arr1 = np.array([1,2,3,4])"
   ]
  },
  {
   "cell_type": "code",
   "execution_count": 83,
   "metadata": {},
   "outputs": [
    {
     "data": {
      "text/plain": [
       "  C_CONTIGUOUS : True\n",
       "  F_CONTIGUOUS : True\n",
       "  OWNDATA : True\n",
       "  WRITEABLE : True\n",
       "  ALIGNED : True\n",
       "  WRITEBACKIFCOPY : False\n",
       "  UPDATEIFCOPY : False"
      ]
     },
     "execution_count": 83,
     "metadata": {},
     "output_type": "execute_result"
    }
   ],
   "source": [
    "np_arr1.flags"
   ]
  },
  {
   "cell_type": "code",
   "execution_count": 76,
   "metadata": {},
   "outputs": [],
   "source": [
    "np2=np_arr1"
   ]
  },
  {
   "cell_type": "code",
   "execution_count": 77,
   "metadata": {},
   "outputs": [
    {
     "data": {
      "text/plain": [
       "  C_CONTIGUOUS : True\n",
       "  F_CONTIGUOUS : True\n",
       "  OWNDATA : True\n",
       "  WRITEABLE : True\n",
       "  ALIGNED : True\n",
       "  WRITEBACKIFCOPY : False\n",
       "  UPDATEIFCOPY : False"
      ]
     },
     "execution_count": 77,
     "metadata": {},
     "output_type": "execute_result"
    }
   ],
   "source": [
    "np2.flags"
   ]
  },
  {
   "cell_type": "code",
   "execution_count": 81,
   "metadata": {},
   "outputs": [
    {
     "data": {
      "text/plain": [
       "True"
      ]
     },
     "execution_count": 81,
     "metadata": {},
     "output_type": "execute_result"
    }
   ],
   "source": [
    "id(np_arr1) == id(np2)"
   ]
  },
  {
   "cell_type": "code",
   "execution_count": 80,
   "metadata": {},
   "outputs": [],
   "source": [
    "np_arr1[1]=10"
   ]
  },
  {
   "cell_type": "code",
   "execution_count": 82,
   "metadata": {},
   "outputs": [
    {
     "data": {
      "text/plain": [
       "  C_CONTIGUOUS : True\n",
       "  F_CONTIGUOUS : True\n",
       "  OWNDATA : True\n",
       "  WRITEABLE : True\n",
       "  ALIGNED : True\n",
       "  WRITEBACKIFCOPY : False\n",
       "  UPDATEIFCOPY : False"
      ]
     },
     "execution_count": 82,
     "metadata": {},
     "output_type": "execute_result"
    }
   ],
   "source": [
    "np_arr1.flags"
   ]
  },
  {
   "cell_type": "code",
   "execution_count": 49,
   "metadata": {},
   "outputs": [
    {
     "data": {
      "text/plain": [
       "array([[<AxesSubplot:xlabel='Id', ylabel='Id'>,\n",
       "        <AxesSubplot:xlabel='OverallQual', ylabel='Id'>,\n",
       "        <AxesSubplot:xlabel='GrLivArea', ylabel='Id'>,\n",
       "        <AxesSubplot:xlabel='GarageCars', ylabel='Id'>,\n",
       "        <AxesSubplot:xlabel='GarageArea', ylabel='Id'>,\n",
       "        <AxesSubplot:xlabel='TotalBsmtSF', ylabel='Id'>,\n",
       "        <AxesSubplot:xlabel='FullBath', ylabel='Id'>,\n",
       "        <AxesSubplot:xlabel='YearBuilt', ylabel='Id'>,\n",
       "        <AxesSubplot:xlabel='YearRemodAdd', ylabel='Id'>,\n",
       "        <AxesSubplot:xlabel='LotFrontage', ylabel='Id'>,\n",
       "        <AxesSubplot:xlabel='MSSubClass', ylabel='Id'>,\n",
       "        <AxesSubplot:xlabel='SalePrice', ylabel='Id'>],\n",
       "       [<AxesSubplot:xlabel='Id', ylabel='OverallQual'>,\n",
       "        <AxesSubplot:xlabel='OverallQual', ylabel='OverallQual'>,\n",
       "        <AxesSubplot:xlabel='GrLivArea', ylabel='OverallQual'>,\n",
       "        <AxesSubplot:xlabel='GarageCars', ylabel='OverallQual'>,\n",
       "        <AxesSubplot:xlabel='GarageArea', ylabel='OverallQual'>,\n",
       "        <AxesSubplot:xlabel='TotalBsmtSF', ylabel='OverallQual'>,\n",
       "        <AxesSubplot:xlabel='FullBath', ylabel='OverallQual'>,\n",
       "        <AxesSubplot:xlabel='YearBuilt', ylabel='OverallQual'>,\n",
       "        <AxesSubplot:xlabel='YearRemodAdd', ylabel='OverallQual'>,\n",
       "        <AxesSubplot:xlabel='LotFrontage', ylabel='OverallQual'>,\n",
       "        <AxesSubplot:xlabel='MSSubClass', ylabel='OverallQual'>,\n",
       "        <AxesSubplot:xlabel='SalePrice', ylabel='OverallQual'>],\n",
       "       [<AxesSubplot:xlabel='Id', ylabel='GrLivArea'>,\n",
       "        <AxesSubplot:xlabel='OverallQual', ylabel='GrLivArea'>,\n",
       "        <AxesSubplot:xlabel='GrLivArea', ylabel='GrLivArea'>,\n",
       "        <AxesSubplot:xlabel='GarageCars', ylabel='GrLivArea'>,\n",
       "        <AxesSubplot:xlabel='GarageArea', ylabel='GrLivArea'>,\n",
       "        <AxesSubplot:xlabel='TotalBsmtSF', ylabel='GrLivArea'>,\n",
       "        <AxesSubplot:xlabel='FullBath', ylabel='GrLivArea'>,\n",
       "        <AxesSubplot:xlabel='YearBuilt', ylabel='GrLivArea'>,\n",
       "        <AxesSubplot:xlabel='YearRemodAdd', ylabel='GrLivArea'>,\n",
       "        <AxesSubplot:xlabel='LotFrontage', ylabel='GrLivArea'>,\n",
       "        <AxesSubplot:xlabel='MSSubClass', ylabel='GrLivArea'>,\n",
       "        <AxesSubplot:xlabel='SalePrice', ylabel='GrLivArea'>],\n",
       "       [<AxesSubplot:xlabel='Id', ylabel='GarageCars'>,\n",
       "        <AxesSubplot:xlabel='OverallQual', ylabel='GarageCars'>,\n",
       "        <AxesSubplot:xlabel='GrLivArea', ylabel='GarageCars'>,\n",
       "        <AxesSubplot:xlabel='GarageCars', ylabel='GarageCars'>,\n",
       "        <AxesSubplot:xlabel='GarageArea', ylabel='GarageCars'>,\n",
       "        <AxesSubplot:xlabel='TotalBsmtSF', ylabel='GarageCars'>,\n",
       "        <AxesSubplot:xlabel='FullBath', ylabel='GarageCars'>,\n",
       "        <AxesSubplot:xlabel='YearBuilt', ylabel='GarageCars'>,\n",
       "        <AxesSubplot:xlabel='YearRemodAdd', ylabel='GarageCars'>,\n",
       "        <AxesSubplot:xlabel='LotFrontage', ylabel='GarageCars'>,\n",
       "        <AxesSubplot:xlabel='MSSubClass', ylabel='GarageCars'>,\n",
       "        <AxesSubplot:xlabel='SalePrice', ylabel='GarageCars'>],\n",
       "       [<AxesSubplot:xlabel='Id', ylabel='GarageArea'>,\n",
       "        <AxesSubplot:xlabel='OverallQual', ylabel='GarageArea'>,\n",
       "        <AxesSubplot:xlabel='GrLivArea', ylabel='GarageArea'>,\n",
       "        <AxesSubplot:xlabel='GarageCars', ylabel='GarageArea'>,\n",
       "        <AxesSubplot:xlabel='GarageArea', ylabel='GarageArea'>,\n",
       "        <AxesSubplot:xlabel='TotalBsmtSF', ylabel='GarageArea'>,\n",
       "        <AxesSubplot:xlabel='FullBath', ylabel='GarageArea'>,\n",
       "        <AxesSubplot:xlabel='YearBuilt', ylabel='GarageArea'>,\n",
       "        <AxesSubplot:xlabel='YearRemodAdd', ylabel='GarageArea'>,\n",
       "        <AxesSubplot:xlabel='LotFrontage', ylabel='GarageArea'>,\n",
       "        <AxesSubplot:xlabel='MSSubClass', ylabel='GarageArea'>,\n",
       "        <AxesSubplot:xlabel='SalePrice', ylabel='GarageArea'>],\n",
       "       [<AxesSubplot:xlabel='Id', ylabel='TotalBsmtSF'>,\n",
       "        <AxesSubplot:xlabel='OverallQual', ylabel='TotalBsmtSF'>,\n",
       "        <AxesSubplot:xlabel='GrLivArea', ylabel='TotalBsmtSF'>,\n",
       "        <AxesSubplot:xlabel='GarageCars', ylabel='TotalBsmtSF'>,\n",
       "        <AxesSubplot:xlabel='GarageArea', ylabel='TotalBsmtSF'>,\n",
       "        <AxesSubplot:xlabel='TotalBsmtSF', ylabel='TotalBsmtSF'>,\n",
       "        <AxesSubplot:xlabel='FullBath', ylabel='TotalBsmtSF'>,\n",
       "        <AxesSubplot:xlabel='YearBuilt', ylabel='TotalBsmtSF'>,\n",
       "        <AxesSubplot:xlabel='YearRemodAdd', ylabel='TotalBsmtSF'>,\n",
       "        <AxesSubplot:xlabel='LotFrontage', ylabel='TotalBsmtSF'>,\n",
       "        <AxesSubplot:xlabel='MSSubClass', ylabel='TotalBsmtSF'>,\n",
       "        <AxesSubplot:xlabel='SalePrice', ylabel='TotalBsmtSF'>],\n",
       "       [<AxesSubplot:xlabel='Id', ylabel='FullBath'>,\n",
       "        <AxesSubplot:xlabel='OverallQual', ylabel='FullBath'>,\n",
       "        <AxesSubplot:xlabel='GrLivArea', ylabel='FullBath'>,\n",
       "        <AxesSubplot:xlabel='GarageCars', ylabel='FullBath'>,\n",
       "        <AxesSubplot:xlabel='GarageArea', ylabel='FullBath'>,\n",
       "        <AxesSubplot:xlabel='TotalBsmtSF', ylabel='FullBath'>,\n",
       "        <AxesSubplot:xlabel='FullBath', ylabel='FullBath'>,\n",
       "        <AxesSubplot:xlabel='YearBuilt', ylabel='FullBath'>,\n",
       "        <AxesSubplot:xlabel='YearRemodAdd', ylabel='FullBath'>,\n",
       "        <AxesSubplot:xlabel='LotFrontage', ylabel='FullBath'>,\n",
       "        <AxesSubplot:xlabel='MSSubClass', ylabel='FullBath'>,\n",
       "        <AxesSubplot:xlabel='SalePrice', ylabel='FullBath'>],\n",
       "       [<AxesSubplot:xlabel='Id', ylabel='YearBuilt'>,\n",
       "        <AxesSubplot:xlabel='OverallQual', ylabel='YearBuilt'>,\n",
       "        <AxesSubplot:xlabel='GrLivArea', ylabel='YearBuilt'>,\n",
       "        <AxesSubplot:xlabel='GarageCars', ylabel='YearBuilt'>,\n",
       "        <AxesSubplot:xlabel='GarageArea', ylabel='YearBuilt'>,\n",
       "        <AxesSubplot:xlabel='TotalBsmtSF', ylabel='YearBuilt'>,\n",
       "        <AxesSubplot:xlabel='FullBath', ylabel='YearBuilt'>,\n",
       "        <AxesSubplot:xlabel='YearBuilt', ylabel='YearBuilt'>,\n",
       "        <AxesSubplot:xlabel='YearRemodAdd', ylabel='YearBuilt'>,\n",
       "        <AxesSubplot:xlabel='LotFrontage', ylabel='YearBuilt'>,\n",
       "        <AxesSubplot:xlabel='MSSubClass', ylabel='YearBuilt'>,\n",
       "        <AxesSubplot:xlabel='SalePrice', ylabel='YearBuilt'>],\n",
       "       [<AxesSubplot:xlabel='Id', ylabel='YearRemodAdd'>,\n",
       "        <AxesSubplot:xlabel='OverallQual', ylabel='YearRemodAdd'>,\n",
       "        <AxesSubplot:xlabel='GrLivArea', ylabel='YearRemodAdd'>,\n",
       "        <AxesSubplot:xlabel='GarageCars', ylabel='YearRemodAdd'>,\n",
       "        <AxesSubplot:xlabel='GarageArea', ylabel='YearRemodAdd'>,\n",
       "        <AxesSubplot:xlabel='TotalBsmtSF', ylabel='YearRemodAdd'>,\n",
       "        <AxesSubplot:xlabel='FullBath', ylabel='YearRemodAdd'>,\n",
       "        <AxesSubplot:xlabel='YearBuilt', ylabel='YearRemodAdd'>,\n",
       "        <AxesSubplot:xlabel='YearRemodAdd', ylabel='YearRemodAdd'>,\n",
       "        <AxesSubplot:xlabel='LotFrontage', ylabel='YearRemodAdd'>,\n",
       "        <AxesSubplot:xlabel='MSSubClass', ylabel='YearRemodAdd'>,\n",
       "        <AxesSubplot:xlabel='SalePrice', ylabel='YearRemodAdd'>],\n",
       "       [<AxesSubplot:xlabel='Id', ylabel='LotFrontage'>,\n",
       "        <AxesSubplot:xlabel='OverallQual', ylabel='LotFrontage'>,\n",
       "        <AxesSubplot:xlabel='GrLivArea', ylabel='LotFrontage'>,\n",
       "        <AxesSubplot:xlabel='GarageCars', ylabel='LotFrontage'>,\n",
       "        <AxesSubplot:xlabel='GarageArea', ylabel='LotFrontage'>,\n",
       "        <AxesSubplot:xlabel='TotalBsmtSF', ylabel='LotFrontage'>,\n",
       "        <AxesSubplot:xlabel='FullBath', ylabel='LotFrontage'>,\n",
       "        <AxesSubplot:xlabel='YearBuilt', ylabel='LotFrontage'>,\n",
       "        <AxesSubplot:xlabel='YearRemodAdd', ylabel='LotFrontage'>,\n",
       "        <AxesSubplot:xlabel='LotFrontage', ylabel='LotFrontage'>,\n",
       "        <AxesSubplot:xlabel='MSSubClass', ylabel='LotFrontage'>,\n",
       "        <AxesSubplot:xlabel='SalePrice', ylabel='LotFrontage'>],\n",
       "       [<AxesSubplot:xlabel='Id', ylabel='MSSubClass'>,\n",
       "        <AxesSubplot:xlabel='OverallQual', ylabel='MSSubClass'>,\n",
       "        <AxesSubplot:xlabel='GrLivArea', ylabel='MSSubClass'>,\n",
       "        <AxesSubplot:xlabel='GarageCars', ylabel='MSSubClass'>,\n",
       "        <AxesSubplot:xlabel='GarageArea', ylabel='MSSubClass'>,\n",
       "        <AxesSubplot:xlabel='TotalBsmtSF', ylabel='MSSubClass'>,\n",
       "        <AxesSubplot:xlabel='FullBath', ylabel='MSSubClass'>,\n",
       "        <AxesSubplot:xlabel='YearBuilt', ylabel='MSSubClass'>,\n",
       "        <AxesSubplot:xlabel='YearRemodAdd', ylabel='MSSubClass'>,\n",
       "        <AxesSubplot:xlabel='LotFrontage', ylabel='MSSubClass'>,\n",
       "        <AxesSubplot:xlabel='MSSubClass', ylabel='MSSubClass'>,\n",
       "        <AxesSubplot:xlabel='SalePrice', ylabel='MSSubClass'>],\n",
       "       [<AxesSubplot:xlabel='Id', ylabel='SalePrice'>,\n",
       "        <AxesSubplot:xlabel='OverallQual', ylabel='SalePrice'>,\n",
       "        <AxesSubplot:xlabel='GrLivArea', ylabel='SalePrice'>,\n",
       "        <AxesSubplot:xlabel='GarageCars', ylabel='SalePrice'>,\n",
       "        <AxesSubplot:xlabel='GarageArea', ylabel='SalePrice'>,\n",
       "        <AxesSubplot:xlabel='TotalBsmtSF', ylabel='SalePrice'>,\n",
       "        <AxesSubplot:xlabel='FullBath', ylabel='SalePrice'>,\n",
       "        <AxesSubplot:xlabel='YearBuilt', ylabel='SalePrice'>,\n",
       "        <AxesSubplot:xlabel='YearRemodAdd', ylabel='SalePrice'>,\n",
       "        <AxesSubplot:xlabel='LotFrontage', ylabel='SalePrice'>,\n",
       "        <AxesSubplot:xlabel='MSSubClass', ylabel='SalePrice'>,\n",
       "        <AxesSubplot:xlabel='SalePrice', ylabel='SalePrice'>]],\n",
       "      dtype=object)"
      ]
     },
     "execution_count": 49,
     "metadata": {},
     "output_type": "execute_result"
    },
    {
     "data": {
      "image/png": "[encoded data removed]",
      "text/plain": [
       "<Figure size 432x288 with 144 Axes>"
      ]
     },
     "metadata": {
      "needs_background": "light"
     },
     "output_type": "display_data"
    }
   ],
   "source": [
    "pd.plotting.scatter_matrix(dtf)"
   ]
  },
  {
   "cell_type": "code",
   "execution_count": 71,
   "metadata": {},
   "outputs": [
    {
     "data": {
      "text/plain": [
       "array([[2],\n",
       "       [2],\n",
       "       [2],\n",
       "       ...,\n",
       "       [1],\n",
       "       [1],\n",
       "       [1]], dtype=int64)"
      ]
     },
     "execution_count": 71,
     "metadata": {},
     "output_type": "execute_result"
    }
   ],
   "source": [
    "dtf['GarageCars'].values.reshape([-1,1])"
   ]
  },
  {
   "cell_type": "code",
   "execution_count": 73,
   "metadata": {},
   "outputs": [
    {
     "data": {
      "text/html": [
       "<div>\n",
       "<style scoped>\n",
       "    .dataframe tbody tr th:only-of-type {\n",
       "        vertical-align: middle;\n",
       "    }\n",
       "\n",
       "    .dataframe tbody tr th {\n",
       "        vertical-align: top;\n",
       "    }\n",
       "\n",
       "    .dataframe thead th {\n",
       "        text-align: right;\n",
       "    }\n",
       "</style>\n",
       "<table border=\"1\" class=\"dataframe\">\n",
       "  <thead>\n",
       "    <tr style=\"text-align: right;\">\n",
       "      <th>FullBath</th>\n",
       "      <th>0</th>\n",
       "      <th>1</th>\n",
       "      <th>2</th>\n",
       "      <th>3</th>\n",
       "    </tr>\n",
       "    <tr>\n",
       "      <th>GarageCars</th>\n",
       "      <th></th>\n",
       "      <th></th>\n",
       "      <th></th>\n",
       "      <th></th>\n",
       "    </tr>\n",
       "  </thead>\n",
       "  <tbody>\n",
       "    <tr>\n",
       "      <th>0</th>\n",
       "      <td>1</td>\n",
       "      <td>56</td>\n",
       "      <td>22</td>\n",
       "      <td>2</td>\n",
       "    </tr>\n",
       "    <tr>\n",
       "      <th>1</th>\n",
       "      <td>2</td>\n",
       "      <td>318</td>\n",
       "      <td>48</td>\n",
       "      <td>1</td>\n",
       "    </tr>\n",
       "    <tr>\n",
       "      <th>2</th>\n",
       "      <td>4</td>\n",
       "      <td>262</td>\n",
       "      <td>546</td>\n",
       "      <td>12</td>\n",
       "    </tr>\n",
       "    <tr>\n",
       "      <th>3</th>\n",
       "      <td>2</td>\n",
       "      <td>11</td>\n",
       "      <td>150</td>\n",
       "      <td>18</td>\n",
       "    </tr>\n",
       "    <tr>\n",
       "      <th>4</th>\n",
       "      <td>0</td>\n",
       "      <td>3</td>\n",
       "      <td>2</td>\n",
       "      <td>0</td>\n",
       "    </tr>\n",
       "  </tbody>\n",
       "</table>\n",
       "</div>"
      ],
      "text/plain": [
       "FullBath    0    1    2   3\n",
       "GarageCars                 \n",
       "0           1   56   22   2\n",
       "1           2  318   48   1\n",
       "2           4  262  546  12\n",
       "3           2   11  150  18\n",
       "4           0    3    2   0"
      ]
     },
     "execution_count": 73,
     "metadata": {},
     "output_type": "execute_result"
    }
   ],
   "source": [
    "pd.crosstab(dtf['GarageCars'],dtf['FullBath'])"
   ]
  },
  {
   "cell_type": "code",
   "execution_count": 45,
   "metadata": {},
   "outputs": [
    {
     "data": {
      "text/plain": [
       "0    False\n",
       "1    False\n",
       "2     True\n",
       "3    False\n",
       "Name: val, dtype: bool"
      ]
     },
     "execution_count": 45,
     "metadata": {},
     "output_type": "execute_result"
    }
   ],
   "source": [
    "df.val.isna()"
   ]
  },
  {
   "cell_type": "code",
   "execution_count": 24,
   "metadata": {},
   "outputs": [
    {
     "data": {
      "text/plain": [
       "(1460, 81)"
      ]
     },
     "execution_count": 24,
     "metadata": {},
     "output_type": "execute_result"
    }
   ],
   "source": [
    "houses_data = pd.read_csv(\"data_houses.txt\",sep='\\t')\n",
    "houses_data.shape"
   ]
  },
  {
   "cell_type": "code",
   "execution_count": null,
   "metadata": {},
   "outputs": [],
   "source": [
    "houses_data.rename()"
   ]
  },
  {
   "cell_type": "code",
   "execution_count": 8,
   "metadata": {},
   "outputs": [
    {
     "data": {
      "text/plain": [
       "{7: 1, 6: 2, 8: 3, 5: 1, 9: 3, 4: 1, 10: 3, 3: 3, 1: 0, 2: 1}"
      ]
     },
     "execution_count": 8,
     "metadata": {},
     "output_type": "execute_result"
    }
   ],
   "source": [
    "houses_data.set_index('OverallQual')['GarageCars'].to_dict()"
   ]
  },
  {
   "cell_type": "code",
   "execution_count": 7,
   "metadata": {},
   "outputs": [
    {
     "data": {
      "text/html": [
       "<div>\n",
       "<style scoped>\n",
       "    .dataframe tbody tr th:only-of-type {\n",
       "        vertical-align: middle;\n",
       "    }\n",
       "\n",
       "    .dataframe tbody tr th {\n",
       "        vertical-align: top;\n",
       "    }\n",
       "\n",
       "    .dataframe thead th {\n",
       "        text-align: right;\n",
       "    }\n",
       "</style>\n",
       "<table border=\"1\" class=\"dataframe\">\n",
       "  <thead>\n",
       "    <tr style=\"text-align: right;\">\n",
       "      <th></th>\n",
       "      <th>Id</th>\n",
       "      <th>OverallQual</th>\n",
       "      <th>GrLivArea</th>\n",
       "      <th>GarageCars</th>\n",
       "      <th>GarageArea</th>\n",
       "      <th>TotalBsmtSF</th>\n",
       "      <th>FullBath</th>\n",
       "      <th>YearBuilt</th>\n",
       "      <th>YearRemodAdd</th>\n",
       "      <th>LotFrontage</th>\n",
       "      <th>MSSubClass</th>\n",
       "      <th>SalePrice</th>\n",
       "    </tr>\n",
       "  </thead>\n",
       "  <tbody>\n",
       "    <tr>\n",
       "      <th>0</th>\n",
       "      <td>1</td>\n",
       "      <td>7</td>\n",
       "      <td>1710</td>\n",
       "      <td>2</td>\n",
       "      <td>548</td>\n",
       "      <td>856</td>\n",
       "      <td>2</td>\n",
       "      <td>2003</td>\n",
       "      <td>2003</td>\n",
       "      <td>65.0</td>\n",
       "      <td>60</td>\n",
       "      <td>208500</td>\n",
       "    </tr>\n",
       "    <tr>\n",
       "      <th>1</th>\n",
       "      <td>2</td>\n",
       "      <td>6</td>\n",
       "      <td>1262</td>\n",
       "      <td>2</td>\n",
       "      <td>460</td>\n",
       "      <td>1262</td>\n",
       "      <td>2</td>\n",
       "      <td>1976</td>\n",
       "      <td>1976</td>\n",
       "      <td>80.0</td>\n",
       "      <td>20</td>\n",
       "      <td>181500</td>\n",
       "    </tr>\n",
       "    <tr>\n",
       "      <th>2</th>\n",
       "      <td>3</td>\n",
       "      <td>7</td>\n",
       "      <td>1786</td>\n",
       "      <td>2</td>\n",
       "      <td>608</td>\n",
       "      <td>920</td>\n",
       "      <td>2</td>\n",
       "      <td>2001</td>\n",
       "      <td>2002</td>\n",
       "      <td>68.0</td>\n",
       "      <td>60</td>\n",
       "      <td>223500</td>\n",
       "    </tr>\n",
       "    <tr>\n",
       "      <th>3</th>\n",
       "      <td>4</td>\n",
       "      <td>7</td>\n",
       "      <td>1717</td>\n",
       "      <td>3</td>\n",
       "      <td>642</td>\n",
       "      <td>756</td>\n",
       "      <td>1</td>\n",
       "      <td>1915</td>\n",
       "      <td>1970</td>\n",
       "      <td>60.0</td>\n",
       "      <td>70</td>\n",
       "      <td>140000</td>\n",
       "    </tr>\n",
       "    <tr>\n",
       "      <th>4</th>\n",
       "      <td>5</td>\n",
       "      <td>8</td>\n",
       "      <td>2198</td>\n",
       "      <td>3</td>\n",
       "      <td>836</td>\n",
       "      <td>1145</td>\n",
       "      <td>2</td>\n",
       "      <td>2000</td>\n",
       "      <td>2000</td>\n",
       "      <td>84.0</td>\n",
       "      <td>60</td>\n",
       "      <td>250000</td>\n",
       "    </tr>\n",
       "  </tbody>\n",
       "</table>\n",
       "</div>"
      ],
      "text/plain": [
       "   Id  OverallQual  GrLivArea  GarageCars  GarageArea  TotalBsmtSF  FullBath  \\\n",
       "0   1            7       1710           2         548          856         2   \n",
       "1   2            6       1262           2         460         1262         2   \n",
       "2   3            7       1786           2         608          920         2   \n",
       "3   4            7       1717           3         642          756         1   \n",
       "4   5            8       2198           3         836         1145         2   \n",
       "\n",
       "   YearBuilt  YearRemodAdd  LotFrontage  MSSubClass  SalePrice  \n",
       "0       2003          2003         65.0          60     208500  \n",
       "1       1976          1976         80.0          20     181500  \n",
       "2       2001          2002         68.0          60     223500  \n",
       "3       1915          1970         60.0          70     140000  \n",
       "4       2000          2000         84.0          60     250000  "
      ]
     },
     "execution_count": 7,
     "metadata": {},
     "output_type": "execute_result"
    }
   ],
   "source": [
    "cols = [\"OverallQual\",\"GrLivArea\",\"GarageCars\", \n",
    "        \"GarageArea\",\"TotalBsmtSF\",\"FullBath\",\n",
    "        \"YearBuilt\",\"YearRemodAdd\",\n",
    "        \"LotFrontage\",\"MSSubClass\"]\n",
    "dtf = houses_data[[\"Id\"]+cols+[\"SalePrice\"]].copy(deep=True)\n",
    "dtf.head()"
   ]
  },
  {
   "cell_type": "code",
   "execution_count": 11,
   "metadata": {},
   "outputs": [
    {
     "data": {
      "text/plain": [
       "GarageCars  FullBath\n",
       "0           0                0\n",
       "            1                0\n",
       "            2                0\n",
       "            3                0\n",
       "1           0              672\n",
       "            1            95115\n",
       "            2            14874\n",
       "            3              230\n",
       "2           0             2090\n",
       "            1           136585\n",
       "            2           282528\n",
       "            3             7110\n",
       "3           0             1542\n",
       "            1             9751\n",
       "            2           120812\n",
       "            3            14790\n",
       "4           1             2700\n",
       "            2             1752\n",
       "Name: GarageArea, dtype: int64"
      ]
     },
     "execution_count": 11,
     "metadata": {},
     "output_type": "execute_result"
    }
   ],
   "source": [
    "grped_results = dtf.groupby(['GarageCars','FullBath']).GarageArea.sum()\n",
    "grped_results"
   ]
  },
  {
   "cell_type": "code",
   "execution_count": 14,
   "metadata": {},
   "outputs": [
    {
     "data": {
      "text/plain": [
       "<AxesSubplot:xlabel='GarageCars'>"
      ]
     },
     "execution_count": 14,
     "metadata": {},
     "output_type": "execute_result"
    },
    {
     "data": {
      "image/png": "[encoded data removed]",
      "text/plain": [
       "<Figure size 432x288 with 1 Axes>"
      ]
     },
     "metadata": {
      "needs_background": "light"
     },
     "output_type": "display_data"
    }
   ],
   "source": [
    "grped_results.unstack().plot(kind='bar',stacked=True)"
   ]
  },
  {
   "cell_type": "code",
   "execution_count": 16,
   "metadata": {},
   "outputs": [
    {
     "data": {
      "text/plain": [
       "({1}, {5})"
      ]
     },
     "execution_count": 16,
     "metadata": {},
     "output_type": "execute_result"
    }
   ],
   "source": [
    "set1={1,2,3,4}\n",
    "set2={2,3,4,5}\n",
    "set1-set2,set2-set1"
   ]
  },
  {
   "cell_type": "code",
   "execution_count": 29,
   "metadata": {},
   "outputs": [],
   "source": [
    "def utils_recognize_type(dtf, col, max_cat=20):\n",
    "    if (dtf[col].dtype == \"O\") | (dtf[col].nunique() < max_cat):\n",
    "        return \"cat\"\n",
    "    else:\n",
    "        return \"num\""
   ]
  },
  {
   "cell_type": "code",
   "execution_count": 33,
   "metadata": {},
   "outputs": [],
   "source": [
    "dic_cols = {col:utils_recognize_type(dtf, col, max_cat=20) for col in dtf.columns}"
   ]
  },
  {
   "cell_type": "code",
   "execution_count": 64,
   "metadata": {},
   "outputs": [],
   "source": [
    "heatmap = dtf.isnull()"
   ]
  },
  {
   "cell_type": "code",
   "execution_count": 65,
   "metadata": {},
   "outputs": [
    {
     "data": {
      "image/png": "[encoded data removed]",
      "text/plain": [
       "<Figure size 432x288 with 1 Axes>"
      ]
     },
     "metadata": {
      "needs_background": "light"
     },
     "output_type": "display_data"
    },
    {
     "name": "stdout",
     "output_type": "stream",
     "text": [
      "\u001b[1;30;40m Categerocial  \u001b[1;30;41m Numeric  \u001b[1;30;47m NaN \n"
     ]
    }
   ],
   "source": [
    "for k,v in dic_cols.items():\n",
    "    if v == \"num\":\n",
    "        heatmap[k] = heatmap[k].apply(lambda x: 0.5 if x is False else 1)\n",
    "    else:\n",
    "        heatmap[k] = heatmap[k].apply(lambda x: 0 if x is False else 1)\n",
    "\n",
    "sns.heatmap(heatmap, cbar=False).set_title('Dataset Overview')\n",
    "plt.show()\n",
    "# print(\"\\033[1;30;43m Hello\")\n",
    "print(\"\\033[1;30;40m Categerocial \", \"\\033[1;30;41m Numeric \", \"\\033[1;30;47m NaN \")"
   ]
  }
 ],
 "metadata": {
  "kernelspec": {
   "display_name": "Python 3",
   "language": "python",
   "name": "python3"
  },
  "language_info": {
   "codemirror_mode": {
    "name": "ipython",
    "version": 3
   },
   "file_extension": ".py",
   "mimetype": "text/x-python",
   "name": "python",
   "nbconvert_exporter": "python",
   "pygments_lexer": "ipython3",
   "version": "3.6.8"
  }
 },
 "nbformat": 4,
 "nbformat_minor": 4
}
