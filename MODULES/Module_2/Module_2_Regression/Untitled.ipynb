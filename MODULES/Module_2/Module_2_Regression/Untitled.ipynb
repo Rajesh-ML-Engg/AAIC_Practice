{
 "cells": [
  {
   "cell_type": "code",
   "execution_count": 15,
   "metadata": {},
   "outputs": [],
   "source": [
    "import numpy as np\n",
    "import pandas as pd\n",
    "import matplotlib.pyplot as plt\n",
    "import seaborn as sns"
   ]
  },
  {
   "cell_type": "code",
   "execution_count": 4,
   "metadata": {},
   "outputs": [
    {
     "data": {
      "text/plain": [
       "(1460, 81)"
      ]
     },
     "execution_count": 4,
     "metadata": {},
     "output_type": "execute_result"
    }
   ],
   "source": [
    "houses_data = pd.read_csv(\"data_houses.txt\",sep='\\t')\n",
    "houses_data.shape"
   ]
  },
  {
   "cell_type": "code",
   "execution_count": 5,
   "metadata": {},
   "outputs": [
    {
     "data": {
      "text/html": [
       "<div>\n",
       "<style scoped>\n",
       "    .dataframe tbody tr th:only-of-type {\n",
       "        vertical-align: middle;\n",
       "    }\n",
       "\n",
       "    .dataframe tbody tr th {\n",
       "        vertical-align: top;\n",
       "    }\n",
       "\n",
       "    .dataframe thead th {\n",
       "        text-align: right;\n",
       "    }\n",
       "</style>\n",
       "<table border=\"1\" class=\"dataframe\">\n",
       "  <thead>\n",
       "    <tr style=\"text-align: right;\">\n",
       "      <th></th>\n",
       "      <th>Id</th>\n",
       "      <th>OverallQual</th>\n",
       "      <th>GrLivArea</th>\n",
       "      <th>GarageCars</th>\n",
       "      <th>GarageArea</th>\n",
       "      <th>TotalBsmtSF</th>\n",
       "      <th>FullBath</th>\n",
       "      <th>YearBuilt</th>\n",
       "      <th>YearRemodAdd</th>\n",
       "      <th>LotFrontage</th>\n",
       "      <th>MSSubClass</th>\n",
       "      <th>SalePrice</th>\n",
       "    </tr>\n",
       "  </thead>\n",
       "  <tbody>\n",
       "    <tr>\n",
       "      <th>0</th>\n",
       "      <td>1</td>\n",
       "      <td>7</td>\n",
       "      <td>1710</td>\n",
       "      <td>2</td>\n",
       "      <td>548</td>\n",
       "      <td>856</td>\n",
       "      <td>2</td>\n",
       "      <td>2003</td>\n",
       "      <td>2003</td>\n",
       "      <td>65.0</td>\n",
       "      <td>60</td>\n",
       "      <td>208500</td>\n",
       "    </tr>\n",
       "    <tr>\n",
       "      <th>1</th>\n",
       "      <td>2</td>\n",
       "      <td>6</td>\n",
       "      <td>1262</td>\n",
       "      <td>2</td>\n",
       "      <td>460</td>\n",
       "      <td>1262</td>\n",
       "      <td>2</td>\n",
       "      <td>1976</td>\n",
       "      <td>1976</td>\n",
       "      <td>80.0</td>\n",
       "      <td>20</td>\n",
       "      <td>181500</td>\n",
       "    </tr>\n",
       "    <tr>\n",
       "      <th>2</th>\n",
       "      <td>3</td>\n",
       "      <td>7</td>\n",
       "      <td>1786</td>\n",
       "      <td>2</td>\n",
       "      <td>608</td>\n",
       "      <td>920</td>\n",
       "      <td>2</td>\n",
       "      <td>2001</td>\n",
       "      <td>2002</td>\n",
       "      <td>68.0</td>\n",
       "      <td>60</td>\n",
       "      <td>223500</td>\n",
       "    </tr>\n",
       "    <tr>\n",
       "      <th>3</th>\n",
       "      <td>4</td>\n",
       "      <td>7</td>\n",
       "      <td>1717</td>\n",
       "      <td>3</td>\n",
       "      <td>642</td>\n",
       "      <td>756</td>\n",
       "      <td>1</td>\n",
       "      <td>1915</td>\n",
       "      <td>1970</td>\n",
       "      <td>60.0</td>\n",
       "      <td>70</td>\n",
       "      <td>140000</td>\n",
       "    </tr>\n",
       "    <tr>\n",
       "      <th>4</th>\n",
       "      <td>5</td>\n",
       "      <td>8</td>\n",
       "      <td>2198</td>\n",
       "      <td>3</td>\n",
       "      <td>836</td>\n",
       "      <td>1145</td>\n",
       "      <td>2</td>\n",
       "      <td>2000</td>\n",
       "      <td>2000</td>\n",
       "      <td>84.0</td>\n",
       "      <td>60</td>\n",
       "      <td>250000</td>\n",
       "    </tr>\n",
       "  </tbody>\n",
       "</table>\n",
       "</div>"
      ],
      "text/plain": [
       "   Id  OverallQual  GrLivArea  GarageCars  GarageArea  TotalBsmtSF  FullBath  \\\n",
       "0   1            7       1710           2         548          856         2   \n",
       "1   2            6       1262           2         460         1262         2   \n",
       "2   3            7       1786           2         608          920         2   \n",
       "3   4            7       1717           3         642          756         1   \n",
       "4   5            8       2198           3         836         1145         2   \n",
       "\n",
       "   YearBuilt  YearRemodAdd  LotFrontage  MSSubClass  SalePrice  \n",
       "0       2003          2003         65.0          60     208500  \n",
       "1       1976          1976         80.0          20     181500  \n",
       "2       2001          2002         68.0          60     223500  \n",
       "3       1915          1970         60.0          70     140000  \n",
       "4       2000          2000         84.0          60     250000  "
      ]
     },
     "execution_count": 5,
     "metadata": {},
     "output_type": "execute_result"
    }
   ],
   "source": [
    "cols = [\"OverallQual\",\"GrLivArea\",\"GarageCars\", \n",
    "        \"GarageArea\",\"TotalBsmtSF\",\"FullBath\",\n",
    "        \"YearBuilt\",\"YearRemodAdd\",\n",
    "        \"LotFrontage\",\"MSSubClass\"]\n",
    "dtf = houses_data[[\"Id\"]+cols+[\"SalePrice\"]].copy(deep=True)\n",
    "dtf.head()"
   ]
  },
  {
   "cell_type": "code",
   "execution_count": 29,
   "metadata": {},
   "outputs": [],
   "source": [
    "def utils_recognize_type(dtf, col, max_cat=20):\n",
    "    if (dtf[col].dtype == \"O\") | (dtf[col].nunique() < max_cat):\n",
    "        return \"cat\"\n",
    "    else:\n",
    "        return \"num\""
   ]
  },
  {
   "cell_type": "code",
   "execution_count": 33,
   "metadata": {},
   "outputs": [],
   "source": [
    "dic_cols = {col:utils_recognize_type(dtf, col, max_cat=20) for col in dtf.columns}"
   ]
  },
  {
   "cell_type": "code",
   "execution_count": 64,
   "metadata": {},
   "outputs": [],
   "source": [
    "heatmap = dtf.isnull()"
   ]
  },
  {
   "cell_type": "code",
   "execution_count": 65,
   "metadata": {},
   "outputs": [
    {
     "data": {
      "image/png": "[encoded data removed]",
      "text/plain": [
       "<Figure size 432x288 with 1 Axes>"
      ]
     },
     "metadata": {
      "needs_background": "light"
     },
     "output_type": "display_data"
    },
    {
     "name": "stdout",
     "output_type": "stream",
     "text": [
      "\u001b[1;30;40m Categerocial  \u001b[1;30;41m Numeric  \u001b[1;30;47m NaN \n"
     ]
    }
   ],
   "source": [
    "for k,v in dic_cols.items():\n",
    "    if v == \"num\":\n",
    "        heatmap[k] = heatmap[k].apply(lambda x: 0.5 if x is False else 1)\n",
    "    else:\n",
    "        heatmap[k] = heatmap[k].apply(lambda x: 0 if x is False else 1)\n",
    "\n",
    "sns.heatmap(heatmap, cbar=False).set_title('Dataset Overview')\n",
    "plt.show()\n",
    "# print(\"\\033[1;30;43m Hello\")\n",
    "print(\"\\033[1;30;40m Categerocial \", \"\\033[1;30;41m Numeric \", \"\\033[1;30;47m NaN \")"
   ]
  }
 ],
 "metadata": {
  "kernelspec": {
   "display_name": "Python 3",
   "language": "python",
   "name": "python3"
  },
  "language_info": {
   "codemirror_mode": {
    "name": "ipython",
    "version": 3
   },
   "file_extension": ".py",
   "mimetype": "text/x-python",
   "name": "python",
   "nbconvert_exporter": "python",
   "pygments_lexer": "ipython3",
   "version": "3.6.8"
  }
 },
 "nbformat": 4,
 "nbformat_minor": 4
}
