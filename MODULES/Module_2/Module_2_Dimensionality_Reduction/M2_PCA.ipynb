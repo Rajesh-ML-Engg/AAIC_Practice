{
 "cells": [
  {
   "cell_type": "markdown",
   "metadata": {},
   "source": [
    "# ***``Principal Component Analysis (PCA)``***"
   ]
  },
  {
   "cell_type": "markdown",
   "metadata": {},
   "source": [
    "---\n",
    "\n",
    "#### 1. [Understanding PCA using dummy dataset](#Understanding_PCA)\n",
    "- [Data Standardization](#STEP-1)\n",
    "- [COV Symmetric Matrix](#STEP-2)\n",
    "\n",
    "#### 2. [Ways of calculating Eigen Values & Vectors](#Calculating_Eigen_values_and_vectors)\n",
    "- [Using Numpy Linear Alzebra](#1._Numpy_Linear_Alzebra)\n",
    "- [Using Scipy Linear Alzebra](#2._Scipy_Linear_Alzebra)\n",
    "- [Using Sklearn PCA](#3._Sklearn_PCA)\n",
    "- [Using Scipy SVD](#4._Scipy_SVD)\n",
    "    \n",
    "#### 3. [PCA on Iris Dataset](#PCA_on_IRIS_Dataset)\n",
    "\n",
    "#### 4. [Ways of generating Symmetric_Matrix](#Ways_of_generating_Symmetric_Matrix)\n",
    "\n",
    "#### 5. [Which technique (SS, MMS, L2 or L1 norm) is better before applying PCA?](#Which_technique_is_better_before_applying_PCA?)"
   ]
  },
  {
   "cell_type": "code",
   "execution_count": 1,
   "metadata": {},
   "outputs": [],
   "source": [
    "import pandas as pd\n",
    "import matplotlib.pyplot as plt\n",
    "import seaborn as sns\n",
    "import numpy as np\n",
    "%matplotlib inline\n",
    "\n",
    "from sklearn.datasets import load_iris\n",
    "from sklearn.preprocessing import StandardScaler as SS\n",
    "from numpy.linalg import eigh\n",
    "from sklearn.decomposition import PCA\n",
    "\n",
    "from sklearn.model_selection import train_test_split as tts\n",
    "from sklearn.model_selection import cross_val_score as cvs\n",
    "from sklearn.metrics import accuracy_score as acc_scr, precision_score as pre_scr, recall_score as rec_scr"
   ]
  },
  {
   "cell_type": "markdown",
   "metadata": {},
   "source": [
    "## ***`Understanding_PCA`***\n",
    "#### **Using dummy dataset**"
   ]
  },
  {
   "cell_type": "code",
   "execution_count": 2,
   "metadata": {},
   "outputs": [
    {
     "data": {
      "text/html": [
       "<div>\n",
       "<style scoped>\n",
       "    .dataframe tbody tr th:only-of-type {\n",
       "        vertical-align: middle;\n",
       "    }\n",
       "\n",
       "    .dataframe tbody tr th {\n",
       "        vertical-align: top;\n",
       "    }\n",
       "\n",
       "    .dataframe thead th {\n",
       "        text-align: right;\n",
       "    }\n",
       "</style>\n",
       "<table border=\"1\" class=\"dataframe\">\n",
       "  <thead>\n",
       "    <tr style=\"text-align: right;\">\n",
       "      <th></th>\n",
       "      <th>col1</th>\n",
       "      <th>col2</th>\n",
       "      <th>col3</th>\n",
       "      <th>col4</th>\n",
       "    </tr>\n",
       "  </thead>\n",
       "  <tbody>\n",
       "    <tr>\n",
       "      <th>0</th>\n",
       "      <td>9</td>\n",
       "      <td>6</td>\n",
       "      <td>2</td>\n",
       "      <td>1</td>\n",
       "    </tr>\n",
       "    <tr>\n",
       "      <th>1</th>\n",
       "      <td>0</td>\n",
       "      <td>8</td>\n",
       "      <td>3</td>\n",
       "      <td>7</td>\n",
       "    </tr>\n",
       "    <tr>\n",
       "      <th>2</th>\n",
       "      <td>4</td>\n",
       "      <td>9</td>\n",
       "      <td>8</td>\n",
       "      <td>8</td>\n",
       "    </tr>\n",
       "    <tr>\n",
       "      <th>3</th>\n",
       "      <td>5</td>\n",
       "      <td>3</td>\n",
       "      <td>3</td>\n",
       "      <td>4</td>\n",
       "    </tr>\n",
       "    <tr>\n",
       "      <th>4</th>\n",
       "      <td>6</td>\n",
       "      <td>2</td>\n",
       "      <td>7</td>\n",
       "      <td>5</td>\n",
       "    </tr>\n",
       "    <tr>\n",
       "      <th>5</th>\n",
       "      <td>7</td>\n",
       "      <td>5</td>\n",
       "      <td>0</td>\n",
       "      <td>8</td>\n",
       "    </tr>\n",
       "  </tbody>\n",
       "</table>\n",
       "</div>"
      ],
      "text/plain": [
       "   col1  col2  col3  col4\n",
       "0     9     6     2     1\n",
       "1     0     8     3     7\n",
       "2     4     9     8     8\n",
       "3     5     3     3     4\n",
       "4     6     2     7     5\n",
       "5     7     5     0     8"
      ]
     },
     "execution_count": 2,
     "metadata": {},
     "output_type": "execute_result"
    }
   ],
   "source": [
    "toy_df = pd.DataFrame({'col1':[9,0,4,5,6,7],\n",
    "                       'col2':[6,8,9,3,2,5],\n",
    "                       'col3':[2,3,8,3,7,0],\n",
    "                       'col4':[1,7,8,4,5,8]})\n",
    "toy_df"
   ]
  },
  {
   "cell_type": "markdown",
   "metadata": {},
   "source": [
    "### ***STEP-1***\n",
    "- **`Standardizing the dataset`**"
   ]
  },
  {
   "cell_type": "code",
   "execution_count": 3,
   "metadata": {},
   "outputs": [],
   "source": [
    "ss = SS()"
   ]
  },
  {
   "cell_type": "code",
   "execution_count": 4,
   "metadata": {},
   "outputs": [
    {
     "data": {
      "text/html": [
       "<div>\n",
       "<style scoped>\n",
       "    .dataframe tbody tr th:only-of-type {\n",
       "        vertical-align: middle;\n",
       "    }\n",
       "\n",
       "    .dataframe tbody tr th {\n",
       "        vertical-align: top;\n",
       "    }\n",
       "\n",
       "    .dataframe thead th {\n",
       "        text-align: right;\n",
       "    }\n",
       "</style>\n",
       "<table border=\"1\" class=\"dataframe\">\n",
       "  <thead>\n",
       "    <tr style=\"text-align: right;\">\n",
       "      <th></th>\n",
       "      <th>col1</th>\n",
       "      <th>col2</th>\n",
       "      <th>col3</th>\n",
       "      <th>col4</th>\n",
       "    </tr>\n",
       "  </thead>\n",
       "  <tbody>\n",
       "    <tr>\n",
       "      <th>0</th>\n",
       "      <td>1.372065</td>\n",
       "      <td>0.2</td>\n",
       "      <td>-0.656205</td>\n",
       "      <td>-1.8</td>\n",
       "    </tr>\n",
       "    <tr>\n",
       "      <th>1</th>\n",
       "      <td>-1.849305</td>\n",
       "      <td>1.0</td>\n",
       "      <td>-0.298275</td>\n",
       "      <td>0.6</td>\n",
       "    </tr>\n",
       "    <tr>\n",
       "      <th>2</th>\n",
       "      <td>-0.417585</td>\n",
       "      <td>1.4</td>\n",
       "      <td>1.491375</td>\n",
       "      <td>1.0</td>\n",
       "    </tr>\n",
       "    <tr>\n",
       "      <th>3</th>\n",
       "      <td>-0.059655</td>\n",
       "      <td>-1.0</td>\n",
       "      <td>-0.298275</td>\n",
       "      <td>-0.6</td>\n",
       "    </tr>\n",
       "    <tr>\n",
       "      <th>4</th>\n",
       "      <td>0.298275</td>\n",
       "      <td>-1.4</td>\n",
       "      <td>1.133445</td>\n",
       "      <td>-0.2</td>\n",
       "    </tr>\n",
       "    <tr>\n",
       "      <th>5</th>\n",
       "      <td>0.656205</td>\n",
       "      <td>-0.2</td>\n",
       "      <td>-1.372065</td>\n",
       "      <td>1.0</td>\n",
       "    </tr>\n",
       "  </tbody>\n",
       "</table>\n",
       "</div>"
      ],
      "text/plain": [
       "       col1  col2      col3  col4\n",
       "0  1.372065   0.2 -0.656205  -1.8\n",
       "1 -1.849305   1.0 -0.298275   0.6\n",
       "2 -0.417585   1.4  1.491375   1.0\n",
       "3 -0.059655  -1.0 -0.298275  -0.6\n",
       "4  0.298275  -1.4  1.133445  -0.2\n",
       "5  0.656205  -0.2 -1.372065   1.0"
      ]
     },
     "execution_count": 4,
     "metadata": {},
     "output_type": "execute_result"
    }
   ],
   "source": [
    "toy_df_nrm = pd.DataFrame(ss.fit_transform(toy_df),columns=toy_df.columns)\n",
    "toy_df_nrm"
   ]
  },
  {
   "cell_type": "code",
   "execution_count": 5,
   "metadata": {},
   "outputs": [
    {
     "data": {
      "text/plain": [
       "0    0.2\n",
       "1    1.0\n",
       "2    1.4\n",
       "3   -1.0\n",
       "4   -1.4\n",
       "5   -0.2\n",
       "Name: col2, dtype: float64"
      ]
     },
     "execution_count": 5,
     "metadata": {},
     "output_type": "execute_result"
    }
   ],
   "source": [
    "## How Standard Scaler works?\n",
    "#### Below I have mentioned the manual way of standard scaler for 'col2' of the dummy set\n",
    "(toy_df['col2'] - toy_df['col2'].mean())/np.std(toy_df['col2'])"
   ]
  },
  {
   "cell_type": "markdown",
   "metadata": {},
   "source": [
    "### ***STEP-2***\n",
    "- **`Finding the Co-variance matrix of Standardized dataset`**\n",
    "    - **Un-biased Symmetric matrix**"
   ]
  },
  {
   "cell_type": "code",
   "execution_count": 6,
   "metadata": {},
   "outputs": [
    {
     "data": {
      "text/html": [
       "<div>\n",
       "<style scoped>\n",
       "    .dataframe tbody tr th:only-of-type {\n",
       "        vertical-align: middle;\n",
       "    }\n",
       "\n",
       "    .dataframe tbody tr th {\n",
       "        vertical-align: top;\n",
       "    }\n",
       "\n",
       "    .dataframe thead th {\n",
       "        text-align: right;\n",
       "    }\n",
       "</style>\n",
       "<table border=\"1\" class=\"dataframe\">\n",
       "  <thead>\n",
       "    <tr style=\"text-align: right;\">\n",
       "      <th></th>\n",
       "      <th>0</th>\n",
       "      <th>1</th>\n",
       "      <th>2</th>\n",
       "      <th>3</th>\n",
       "    </tr>\n",
       "  </thead>\n",
       "  <tbody>\n",
       "    <tr>\n",
       "      <th>0</th>\n",
       "      <td>1.200000</td>\n",
       "      <td>-0.529736</td>\n",
       "      <td>-0.303203</td>\n",
       "      <td>-0.672908</td>\n",
       "    </tr>\n",
       "    <tr>\n",
       "      <th>1</th>\n",
       "      <td>-0.529736</td>\n",
       "      <td>1.200000</td>\n",
       "      <td>0.128855</td>\n",
       "      <td>0.464000</td>\n",
       "    </tr>\n",
       "    <tr>\n",
       "      <th>2</th>\n",
       "      <td>-0.303203</td>\n",
       "      <td>0.128855</td>\n",
       "      <td>1.200000</td>\n",
       "      <td>0.214758</td>\n",
       "    </tr>\n",
       "    <tr>\n",
       "      <th>3</th>\n",
       "      <td>-0.672908</td>\n",
       "      <td>0.464000</td>\n",
       "      <td>0.214758</td>\n",
       "      <td>1.200000</td>\n",
       "    </tr>\n",
       "  </tbody>\n",
       "</table>\n",
       "</div>"
      ],
      "text/plain": [
       "          0         1         2         3\n",
       "0  1.200000 -0.529736 -0.303203 -0.672908\n",
       "1 -0.529736  1.200000  0.128855  0.464000\n",
       "2 -0.303203  0.128855  1.200000  0.214758\n",
       "3 -0.672908  0.464000  0.214758  1.200000"
      ]
     },
     "execution_count": 6,
     "metadata": {},
     "output_type": "execute_result"
    }
   ],
   "source": [
    "toy_df_nrm_cov = pd.DataFrame(np.cov(toy_df_nrm,rowvar=False,bias=False))\n",
    "toy_df_nrm_cov"
   ]
  },
  {
   "cell_type": "code",
   "execution_count": 7,
   "metadata": {},
   "outputs": [
    {
     "data": {
      "text/html": [
       "<div>\n",
       "<style scoped>\n",
       "    .dataframe tbody tr th:only-of-type {\n",
       "        vertical-align: middle;\n",
       "    }\n",
       "\n",
       "    .dataframe tbody tr th {\n",
       "        vertical-align: top;\n",
       "    }\n",
       "\n",
       "    .dataframe thead th {\n",
       "        text-align: right;\n",
       "    }\n",
       "</style>\n",
       "<table border=\"1\" class=\"dataframe\">\n",
       "  <thead>\n",
       "    <tr style=\"text-align: right;\">\n",
       "      <th></th>\n",
       "      <th>col1</th>\n",
       "      <th>col2</th>\n",
       "      <th>col3</th>\n",
       "      <th>col4</th>\n",
       "    </tr>\n",
       "  </thead>\n",
       "  <tbody>\n",
       "    <tr>\n",
       "      <th>col1</th>\n",
       "      <td>1.200000</td>\n",
       "      <td>-0.529736</td>\n",
       "      <td>-0.303203</td>\n",
       "      <td>-0.672908</td>\n",
       "    </tr>\n",
       "    <tr>\n",
       "      <th>col2</th>\n",
       "      <td>-0.529736</td>\n",
       "      <td>1.200000</td>\n",
       "      <td>0.128855</td>\n",
       "      <td>0.464000</td>\n",
       "    </tr>\n",
       "    <tr>\n",
       "      <th>col3</th>\n",
       "      <td>-0.303203</td>\n",
       "      <td>0.128855</td>\n",
       "      <td>1.200000</td>\n",
       "      <td>0.214758</td>\n",
       "    </tr>\n",
       "    <tr>\n",
       "      <th>col4</th>\n",
       "      <td>-0.672908</td>\n",
       "      <td>0.464000</td>\n",
       "      <td>0.214758</td>\n",
       "      <td>1.200000</td>\n",
       "    </tr>\n",
       "  </tbody>\n",
       "</table>\n",
       "</div>"
      ],
      "text/plain": [
       "          col1      col2      col3      col4\n",
       "col1  1.200000 -0.529736 -0.303203 -0.672908\n",
       "col2 -0.529736  1.200000  0.128855  0.464000\n",
       "col3 -0.303203  0.128855  1.200000  0.214758\n",
       "col4 -0.672908  0.464000  0.214758  1.200000"
      ]
     },
     "execution_count": 7,
     "metadata": {},
     "output_type": "execute_result"
    }
   ],
   "source": [
    "unbias_ddof = 1\n",
    "toy_df_nrm_rows = toy_df_nrm.shape[0]\n",
    "\n",
    "toy_df_nrm_cov2 = (1/(toy_df_nrm_rows - unbias_ddof)) * (toy_df_nrm.T @ toy_df_nrm)\n",
    "toy_df_nrm_cov2"
   ]
  },
  {
   "cell_type": "markdown",
   "metadata": {},
   "source": [
    "#### **Just for understanding purpose calculating the biased COV Symmetric Matrix**\n",
    "- #### **Biased Symmetric matrix**"
   ]
  },
  {
   "cell_type": "code",
   "execution_count": 8,
   "metadata": {},
   "outputs": [
    {
     "data": {
      "text/html": [
       "<div>\n",
       "<style scoped>\n",
       "    .dataframe tbody tr th:only-of-type {\n",
       "        vertical-align: middle;\n",
       "    }\n",
       "\n",
       "    .dataframe tbody tr th {\n",
       "        vertical-align: top;\n",
       "    }\n",
       "\n",
       "    .dataframe thead th {\n",
       "        text-align: right;\n",
       "    }\n",
       "</style>\n",
       "<table border=\"1\" class=\"dataframe\">\n",
       "  <thead>\n",
       "    <tr style=\"text-align: right;\">\n",
       "      <th></th>\n",
       "      <th>0</th>\n",
       "      <th>1</th>\n",
       "      <th>2</th>\n",
       "      <th>3</th>\n",
       "    </tr>\n",
       "  </thead>\n",
       "  <tbody>\n",
       "    <tr>\n",
       "      <th>0</th>\n",
       "      <td>1.000000</td>\n",
       "      <td>-0.441447</td>\n",
       "      <td>-0.252669</td>\n",
       "      <td>-0.560757</td>\n",
       "    </tr>\n",
       "    <tr>\n",
       "      <th>1</th>\n",
       "      <td>-0.441447</td>\n",
       "      <td>1.000000</td>\n",
       "      <td>0.107379</td>\n",
       "      <td>0.386667</td>\n",
       "    </tr>\n",
       "    <tr>\n",
       "      <th>2</th>\n",
       "      <td>-0.252669</td>\n",
       "      <td>0.107379</td>\n",
       "      <td>1.000000</td>\n",
       "      <td>0.178965</td>\n",
       "    </tr>\n",
       "    <tr>\n",
       "      <th>3</th>\n",
       "      <td>-0.560757</td>\n",
       "      <td>0.386667</td>\n",
       "      <td>0.178965</td>\n",
       "      <td>1.000000</td>\n",
       "    </tr>\n",
       "  </tbody>\n",
       "</table>\n",
       "</div>"
      ],
      "text/plain": [
       "          0         1         2         3\n",
       "0  1.000000 -0.441447 -0.252669 -0.560757\n",
       "1 -0.441447  1.000000  0.107379  0.386667\n",
       "2 -0.252669  0.107379  1.000000  0.178965\n",
       "3 -0.560757  0.386667  0.178965  1.000000"
      ]
     },
     "execution_count": 8,
     "metadata": {},
     "output_type": "execute_result"
    }
   ],
   "source": [
    "toy_df_nrm_bias_cov = pd.DataFrame(np.cov(toy_df_nrm,rowvar=False,bias=True))\n",
    "toy_df_nrm_bias_cov"
   ]
  },
  {
   "cell_type": "code",
   "execution_count": 9,
   "metadata": {},
   "outputs": [
    {
     "data": {
      "text/html": [
       "<div>\n",
       "<style scoped>\n",
       "    .dataframe tbody tr th:only-of-type {\n",
       "        vertical-align: middle;\n",
       "    }\n",
       "\n",
       "    .dataframe tbody tr th {\n",
       "        vertical-align: top;\n",
       "    }\n",
       "\n",
       "    .dataframe thead th {\n",
       "        text-align: right;\n",
       "    }\n",
       "</style>\n",
       "<table border=\"1\" class=\"dataframe\">\n",
       "  <thead>\n",
       "    <tr style=\"text-align: right;\">\n",
       "      <th></th>\n",
       "      <th>col1</th>\n",
       "      <th>col2</th>\n",
       "      <th>col3</th>\n",
       "      <th>col4</th>\n",
       "    </tr>\n",
       "  </thead>\n",
       "  <tbody>\n",
       "    <tr>\n",
       "      <th>col1</th>\n",
       "      <td>1.000000</td>\n",
       "      <td>-0.441447</td>\n",
       "      <td>-0.252669</td>\n",
       "      <td>-0.560757</td>\n",
       "    </tr>\n",
       "    <tr>\n",
       "      <th>col2</th>\n",
       "      <td>-0.441447</td>\n",
       "      <td>1.000000</td>\n",
       "      <td>0.107379</td>\n",
       "      <td>0.386667</td>\n",
       "    </tr>\n",
       "    <tr>\n",
       "      <th>col3</th>\n",
       "      <td>-0.252669</td>\n",
       "      <td>0.107379</td>\n",
       "      <td>1.000000</td>\n",
       "      <td>0.178965</td>\n",
       "    </tr>\n",
       "    <tr>\n",
       "      <th>col4</th>\n",
       "      <td>-0.560757</td>\n",
       "      <td>0.386667</td>\n",
       "      <td>0.178965</td>\n",
       "      <td>1.000000</td>\n",
       "    </tr>\n",
       "  </tbody>\n",
       "</table>\n",
       "</div>"
      ],
      "text/plain": [
       "          col1      col2      col3      col4\n",
       "col1  1.000000 -0.441447 -0.252669 -0.560757\n",
       "col2 -0.441447  1.000000  0.107379  0.386667\n",
       "col3 -0.252669  0.107379  1.000000  0.178965\n",
       "col4 -0.560757  0.386667  0.178965  1.000000"
      ]
     },
     "execution_count": 9,
     "metadata": {},
     "output_type": "execute_result"
    }
   ],
   "source": [
    "bias_ddof = 0\n",
    "toy_df_nrm_rows = toy_df_nrm.shape[0]\n",
    "\n",
    "toy_df_nrm_bias_cov = (1/(toy_df_nrm_rows - bias_ddof)) * (toy_df_nrm.T @ toy_df_nrm)\n",
    "toy_df_nrm_bias_cov"
   ]
  },
  {
   "cell_type": "markdown",
   "metadata": {},
   "source": [
    "## **`Calculating_Eigen_values_and_vectors`**\n",
    "\n",
    "### **There are different ways of Calculating EIGEN values and vectors:**\n",
    "\n",
    "### **1._Numpy_Linear_Alzebra**\n",
    "\n",
    "- **The eigenvalues/eigenvectors are computed using LAPACK routines ``_syevd``, ``_heevd``.**\n",
    "\n",
    "- **The eigenvalues of real symmetric or complex Hermitian matrices are always real. [1]_ The array `v` of (column) eigenvectors is unitary and `a`, `w`, and `v` satisfy the equations ``dot(a, v[:, i]) = w[i] * v[:, i]``.**"
   ]
  },
  {
   "cell_type": "code",
   "execution_count": 10,
   "metadata": {},
   "outputs": [],
   "source": [
    "from numpy.linalg import eigh as n_eigh"
   ]
  },
  {
   "cell_type": "code",
   "execution_count": 11,
   "metadata": {},
   "outputs": [],
   "source": [
    "n_values, n_vectors = n_eigh(toy_df_nrm_cov,UPLO='L')  \n",
    "# UPLO means whether to follow the upper or lower triangular matrix of the covariance matrix"
   ]
  },
  {
   "cell_type": "code",
   "execution_count": 12,
   "metadata": {},
   "outputs": [
    {
     "data": {
      "text/plain": [
       "array([0.51170888, 0.74883547, 1.10629583, 2.43315982])"
      ]
     },
     "execution_count": 12,
     "metadata": {},
     "output_type": "execute_result"
    }
   ],
   "source": [
    "n_values                      ## Eigen Values"
   ]
  },
  {
   "cell_type": "code",
   "execution_count": 13,
   "metadata": {},
   "outputs": [
    {
     "data": {
      "text/plain": [
       "array([[ 0.76945532, -0.23550824,  0.04000138, -0.59234641],\n",
       "       [ 0.16102751, -0.78110535, -0.3425419 ,  0.49659805],\n",
       "       [ 0.11960917, -0.19442707,  0.92772635,  0.29532285],\n",
       "       [ 0.60638461,  0.54461768, -0.14278922,  0.56151627]])"
      ]
     },
     "execution_count": 13,
     "metadata": {},
     "output_type": "execute_result"
    }
   ],
   "source": [
    "n_vectors                     ## Eigen Vectors"
   ]
  },
  {
   "cell_type": "code",
   "execution_count": 14,
   "metadata": {},
   "outputs": [
    {
     "data": {
      "text/html": [
       "<div>\n",
       "<style scoped>\n",
       "    .dataframe tbody tr th:only-of-type {\n",
       "        vertical-align: middle;\n",
       "    }\n",
       "\n",
       "    .dataframe tbody tr th {\n",
       "        vertical-align: top;\n",
       "    }\n",
       "\n",
       "    .dataframe thead th {\n",
       "        text-align: right;\n",
       "    }\n",
       "</style>\n",
       "<table border=\"1\" class=\"dataframe\">\n",
       "  <thead>\n",
       "    <tr style=\"text-align: right;\">\n",
       "      <th></th>\n",
       "      <th>0</th>\n",
       "      <th>1</th>\n",
       "      <th>2</th>\n",
       "      <th>3</th>\n",
       "    </tr>\n",
       "  </thead>\n",
       "  <tbody>\n",
       "    <tr>\n",
       "      <th>0</th>\n",
       "      <td>2.048615</td>\n",
       "      <td>-0.604380</td>\n",
       "      <td>-1.015134</td>\n",
       "      <td>0.023892</td>\n",
       "    </tr>\n",
       "    <tr>\n",
       "      <th>1</th>\n",
       "      <td>-2.025805</td>\n",
       "      <td>-0.678764</td>\n",
       "      <td>-0.515145</td>\n",
       "      <td>-0.197272</td>\n",
       "    </tr>\n",
       "    <tr>\n",
       "      <th>2</th>\n",
       "      <td>-1.183714</td>\n",
       "      <td>-1.175051</td>\n",
       "      <td>1.356766</td>\n",
       "      <td>0.857812</td>\n",
       "    </tr>\n",
       "    <tr>\n",
       "      <th>3</th>\n",
       "      <td>0.533083</td>\n",
       "      <td>0.575712</td>\n",
       "      <td>-0.266619</td>\n",
       "      <td>-0.875111</td>\n",
       "    </tr>\n",
       "    <tr>\n",
       "      <th>4</th>\n",
       "      <td>0.723029</td>\n",
       "      <td>0.654006</td>\n",
       "      <td>1.300337</td>\n",
       "      <td>-0.855742</td>\n",
       "    </tr>\n",
       "    <tr>\n",
       "      <th>5</th>\n",
       "      <td>-0.095209</td>\n",
       "      <td>1.228476</td>\n",
       "      <td>-0.860204</td>\n",
       "      <td>1.046421</td>\n",
       "    </tr>\n",
       "  </tbody>\n",
       "</table>\n",
       "</div>"
      ],
      "text/plain": [
       "          0         1         2         3\n",
       "0  2.048615 -0.604380 -1.015134  0.023892\n",
       "1 -2.025805 -0.678764 -0.515145 -0.197272\n",
       "2 -1.183714 -1.175051  1.356766  0.857812\n",
       "3  0.533083  0.575712 -0.266619 -0.875111\n",
       "4  0.723029  0.654006  1.300337 -0.855742\n",
       "5 -0.095209  1.228476 -0.860204  1.046421"
      ]
     },
     "execution_count": 14,
     "metadata": {},
     "output_type": "execute_result"
    }
   ],
   "source": [
    "## Manual PC's calculation\n",
    "toy_df_nrm @ n_vectors.T"
   ]
  },
  {
   "cell_type": "markdown",
   "metadata": {},
   "source": [
    "### **2._Scipy_Linear_Alzebra**\n",
    "\n",
    "- **This function uses LAPACK drivers for computations in all possible keyword combinations, prefixed with ``sy`` if arrays are real and ``he`` if complex, e.g., a float array with \"evr\" driver is solved via \"syevr\", complex arrays with \"gvx\" driver problem is solved via \"hegvx\" etc.**\n",
    "\n",
    "- **As a brief summary, the slowest and the most robust driver is the classical ``<sy/he>ev`` which uses symmetric QR. ``<sy/he>evr`` is seen as the optimal choice for the most general cases. However, there are certain occassions that ``<sy/he>evd`` computes faster at the expense of more memory usage. ``<sy/he>evx``, while still being faster than ``<sy/he>ev``, often performs worse than the rest except when very few eigenvalues are requested for large arrays though there is still no performance guarantee.**"
   ]
  },
  {
   "cell_type": "code",
   "execution_count": 15,
   "metadata": {},
   "outputs": [],
   "source": [
    "from scipy.linalg import eigh as s_eigh\n",
    "s_values, s_vectors = s_eigh(toy_df_nrm_cov,lower=True,driver='evd')"
   ]
  },
  {
   "cell_type": "code",
   "execution_count": 16,
   "metadata": {},
   "outputs": [
    {
     "data": {
      "text/plain": [
       "array([0.51170888, 0.74883547, 1.10629583, 2.43315982])"
      ]
     },
     "execution_count": 16,
     "metadata": {},
     "output_type": "execute_result"
    }
   ],
   "source": [
    "s_values                      ## Eigen Values"
   ]
  },
  {
   "cell_type": "code",
   "execution_count": 17,
   "metadata": {},
   "outputs": [
    {
     "data": {
      "text/plain": [
       "array([[ 0.76945532, -0.23550824,  0.04000138, -0.59234641],\n",
       "       [ 0.16102751, -0.78110535, -0.3425419 ,  0.49659805],\n",
       "       [ 0.11960917, -0.19442707,  0.92772635,  0.29532285],\n",
       "       [ 0.60638461,  0.54461768, -0.14278922,  0.56151627]])"
      ]
     },
     "execution_count": 17,
     "metadata": {},
     "output_type": "execute_result"
    }
   ],
   "source": [
    "s_vectors                      ## Eigen Vectors"
   ]
  },
  {
   "cell_type": "code",
   "execution_count": 18,
   "metadata": {},
   "outputs": [
    {
     "data": {
      "text/html": [
       "<div>\n",
       "<style scoped>\n",
       "    .dataframe tbody tr th:only-of-type {\n",
       "        vertical-align: middle;\n",
       "    }\n",
       "\n",
       "    .dataframe tbody tr th {\n",
       "        vertical-align: top;\n",
       "    }\n",
       "\n",
       "    .dataframe thead th {\n",
       "        text-align: right;\n",
       "    }\n",
       "</style>\n",
       "<table border=\"1\" class=\"dataframe\">\n",
       "  <thead>\n",
       "    <tr style=\"text-align: right;\">\n",
       "      <th></th>\n",
       "      <th>0</th>\n",
       "      <th>1</th>\n",
       "      <th>2</th>\n",
       "      <th>3</th>\n",
       "    </tr>\n",
       "  </thead>\n",
       "  <tbody>\n",
       "    <tr>\n",
       "      <th>0</th>\n",
       "      <td>2.048615</td>\n",
       "      <td>-0.604380</td>\n",
       "      <td>-1.015134</td>\n",
       "      <td>0.023892</td>\n",
       "    </tr>\n",
       "    <tr>\n",
       "      <th>1</th>\n",
       "      <td>-2.025805</td>\n",
       "      <td>-0.678764</td>\n",
       "      <td>-0.515145</td>\n",
       "      <td>-0.197272</td>\n",
       "    </tr>\n",
       "    <tr>\n",
       "      <th>2</th>\n",
       "      <td>-1.183714</td>\n",
       "      <td>-1.175051</td>\n",
       "      <td>1.356766</td>\n",
       "      <td>0.857812</td>\n",
       "    </tr>\n",
       "    <tr>\n",
       "      <th>3</th>\n",
       "      <td>0.533083</td>\n",
       "      <td>0.575712</td>\n",
       "      <td>-0.266619</td>\n",
       "      <td>-0.875111</td>\n",
       "    </tr>\n",
       "    <tr>\n",
       "      <th>4</th>\n",
       "      <td>0.723029</td>\n",
       "      <td>0.654006</td>\n",
       "      <td>1.300337</td>\n",
       "      <td>-0.855742</td>\n",
       "    </tr>\n",
       "    <tr>\n",
       "      <th>5</th>\n",
       "      <td>-0.095209</td>\n",
       "      <td>1.228476</td>\n",
       "      <td>-0.860204</td>\n",
       "      <td>1.046421</td>\n",
       "    </tr>\n",
       "  </tbody>\n",
       "</table>\n",
       "</div>"
      ],
      "text/plain": [
       "          0         1         2         3\n",
       "0  2.048615 -0.604380 -1.015134  0.023892\n",
       "1 -2.025805 -0.678764 -0.515145 -0.197272\n",
       "2 -1.183714 -1.175051  1.356766  0.857812\n",
       "3  0.533083  0.575712 -0.266619 -0.875111\n",
       "4  0.723029  0.654006  1.300337 -0.855742\n",
       "5 -0.095209  1.228476 -0.860204  1.046421"
      ]
     },
     "execution_count": 18,
     "metadata": {},
     "output_type": "execute_result"
    }
   ],
   "source": [
    "# PC's from Scipy eig vectors\n",
    "### Same as Numpy eig vectors\n",
    "toy_df_nrm @ s_vectors.T"
   ]
  },
  {
   "cell_type": "markdown",
   "metadata": {},
   "source": [
    "### ***Both NUMPY and SCIPY uses the LAPACK package for calculating the Eigen Values and Eigen Vectors.***\n",
    "\n",
    "#### ***Lets first get some details about LAPACK:***\n",
    "\n",
    "- ***LAPACK was designed as the successor to the linear equations and linear least-squares routines of LINPACK and the eigenvalue routines of EISPACK. (source - wikipedia).***\n",
    "\n",
    "- ***Other packages like ARPACK(ARNoldi Package) and LOBPCG(Locally Optimal Block Preconditioned Conjugate Gradient) are also available in their Python, R and MATLAB implementation for calculating the Eigen Values/Vectors.***\n",
    "\n",
    "\n",
    "#### ***Now, below is the difference between NUMPY and SCIPY EIGH implementation:***\n",
    "\n",
    "- ***NUMPY supports only two versions or drivers or routines of LAPACK which are ``syevd`` and ``heevd``. Here, `sy` refers to real valued data and `he` refers to complex data.***\n",
    "- ***On the other hand, SCIPY supports multiple routines of same package. So, in the above code I have used the driver as \"`evd`\" because same is also used by NUMPY. That is the reason I have got the same EIGEN values/vectors. Other supported values of driver are \"`ev`\", \"`evr`\", \"`evx`\"(their description in above cell).***"
   ]
  },
  {
   "cell_type": "markdown",
   "metadata": {},
   "source": [
    "### **3._Sklearn_PCA**\n",
    "\n",
    "### ***`Let's work with PCA`***"
   ]
  },
  {
   "cell_type": "code",
   "execution_count": 19,
   "metadata": {},
   "outputs": [],
   "source": [
    "pca1 = PCA(svd_solver='full',whiten=False)"
   ]
  },
  {
   "cell_type": "code",
   "execution_count": 20,
   "metadata": {},
   "outputs": [
    {
     "data": {
      "text/html": [
       "<div>\n",
       "<style scoped>\n",
       "    .dataframe tbody tr th:only-of-type {\n",
       "        vertical-align: middle;\n",
       "    }\n",
       "\n",
       "    .dataframe tbody tr th {\n",
       "        vertical-align: top;\n",
       "    }\n",
       "\n",
       "    .dataframe thead th {\n",
       "        text-align: right;\n",
       "    }\n",
       "</style>\n",
       "<table border=\"1\" class=\"dataframe\">\n",
       "  <thead>\n",
       "    <tr style=\"text-align: right;\">\n",
       "      <th></th>\n",
       "      <th>PC1</th>\n",
       "      <th>PC2</th>\n",
       "      <th>PC3</th>\n",
       "      <th>PC4</th>\n",
       "    </tr>\n",
       "  </thead>\n",
       "  <tbody>\n",
       "    <tr>\n",
       "      <th>0</th>\n",
       "      <td>-1.917940</td>\n",
       "      <td>-0.365382</td>\n",
       "      <td>1.332081</td>\n",
       "      <td>0.082032</td>\n",
       "    </tr>\n",
       "    <tr>\n",
       "      <th>1</th>\n",
       "      <td>1.840850</td>\n",
       "      <td>-0.778908</td>\n",
       "      <td>-0.039185</td>\n",
       "      <td>0.933776</td>\n",
       "    </tr>\n",
       "    <tr>\n",
       "      <th>2</th>\n",
       "      <td>1.944546</td>\n",
       "      <td>0.744536</td>\n",
       "      <td>0.740549</td>\n",
       "      <td>-0.688892</td>\n",
       "    </tr>\n",
       "    <tr>\n",
       "      <th>3</th>\n",
       "      <td>-0.886259</td>\n",
       "      <td>0.149112</td>\n",
       "      <td>-0.526377</td>\n",
       "      <td>0.606437</td>\n",
       "    </tr>\n",
       "    <tr>\n",
       "      <th>4</th>\n",
       "      <td>-0.649490</td>\n",
       "      <td>1.571575</td>\n",
       "      <td>-0.694005</td>\n",
       "      <td>-0.018364</td>\n",
       "    </tr>\n",
       "    <tr>\n",
       "      <th>5</th>\n",
       "      <td>-0.331706</td>\n",
       "      <td>-1.320933</td>\n",
       "      <td>-0.813064</td>\n",
       "      <td>-0.914988</td>\n",
       "    </tr>\n",
       "  </tbody>\n",
       "</table>\n",
       "</div>"
      ],
      "text/plain": [
       "        PC1       PC2       PC3       PC4\n",
       "0 -1.917940 -0.365382  1.332081  0.082032\n",
       "1  1.840850 -0.778908 -0.039185  0.933776\n",
       "2  1.944546  0.744536  0.740549 -0.688892\n",
       "3 -0.886259  0.149112 -0.526377  0.606437\n",
       "4 -0.649490  1.571575 -0.694005 -0.018364\n",
       "5 -0.331706 -1.320933 -0.813064 -0.914988"
      ]
     },
     "execution_count": 20,
     "metadata": {},
     "output_type": "execute_result"
    }
   ],
   "source": [
    "toy_df_pca_transf = pd.DataFrame(pca1.fit_transform(toy_df_nrm),columns=['PC1','PC2','PC3','PC4'])\n",
    "toy_df_pca_transf"
   ]
  },
  {
   "cell_type": "code",
   "execution_count": 21,
   "metadata": {},
   "outputs": [
    {
     "data": {
      "text/html": [
       "<div>\n",
       "<style scoped>\n",
       "    .dataframe tbody tr th:only-of-type {\n",
       "        vertical-align: middle;\n",
       "    }\n",
       "\n",
       "    .dataframe tbody tr th {\n",
       "        vertical-align: top;\n",
       "    }\n",
       "\n",
       "    .dataframe thead th {\n",
       "        text-align: right;\n",
       "    }\n",
       "</style>\n",
       "<table border=\"1\" class=\"dataframe\">\n",
       "  <thead>\n",
       "    <tr style=\"text-align: right;\">\n",
       "      <th></th>\n",
       "      <th>PC1</th>\n",
       "      <th>PC2</th>\n",
       "      <th>PC3</th>\n",
       "      <th>PC4</th>\n",
       "    </tr>\n",
       "  </thead>\n",
       "  <tbody>\n",
       "    <tr>\n",
       "      <th>PC1</th>\n",
       "      <td>1.0</td>\n",
       "      <td>0.0</td>\n",
       "      <td>0.0</td>\n",
       "      <td>0.0</td>\n",
       "    </tr>\n",
       "    <tr>\n",
       "      <th>PC2</th>\n",
       "      <td>0.0</td>\n",
       "      <td>1.0</td>\n",
       "      <td>0.0</td>\n",
       "      <td>-0.0</td>\n",
       "    </tr>\n",
       "    <tr>\n",
       "      <th>PC3</th>\n",
       "      <td>0.0</td>\n",
       "      <td>0.0</td>\n",
       "      <td>1.0</td>\n",
       "      <td>0.0</td>\n",
       "    </tr>\n",
       "    <tr>\n",
       "      <th>PC4</th>\n",
       "      <td>0.0</td>\n",
       "      <td>-0.0</td>\n",
       "      <td>0.0</td>\n",
       "      <td>1.0</td>\n",
       "    </tr>\n",
       "  </tbody>\n",
       "</table>\n",
       "</div>"
      ],
      "text/plain": [
       "     PC1  PC2  PC3  PC4\n",
       "PC1  1.0  0.0  0.0  0.0\n",
       "PC2  0.0  1.0  0.0 -0.0\n",
       "PC3  0.0  0.0  1.0  0.0\n",
       "PC4  0.0 -0.0  0.0  1.0"
      ]
     },
     "execution_count": 21,
     "metadata": {},
     "output_type": "execute_result"
    }
   ],
   "source": [
    "np.round(toy_df_pca_transf.corr(),4)"
   ]
  },
  {
   "cell_type": "code",
   "execution_count": 22,
   "metadata": {},
   "outputs": [
    {
     "data": {
      "text/plain": [
       "array([2.43315982, 1.10629583, 0.74883547, 0.51170888])"
      ]
     },
     "execution_count": 22,
     "metadata": {},
     "output_type": "execute_result"
    }
   ],
   "source": [
    "pca1.explained_variance_"
   ]
  },
  {
   "cell_type": "code",
   "execution_count": 23,
   "metadata": {},
   "outputs": [
    {
     "data": {
      "text/plain": [
       "PC1    2.433160\n",
       "PC2    1.106296\n",
       "PC3    0.748835\n",
       "PC4    0.511709\n",
       "dtype: float64"
      ]
     },
     "execution_count": 23,
     "metadata": {},
     "output_type": "execute_result"
    }
   ],
   "source": [
    "# Variance of Principal Components\n",
    "np.var(toy_df_pca_transf,ddof=1)"
   ]
  },
  {
   "cell_type": "code",
   "execution_count": 24,
   "metadata": {},
   "outputs": [
    {
     "data": {
      "text/plain": [
       "array([0.5069083 , 0.2304783 , 0.15600739, 0.10660602])"
      ]
     },
     "execution_count": 24,
     "metadata": {},
     "output_type": "execute_result"
    }
   ],
   "source": [
    "pca1.explained_variance_ratio_"
   ]
  },
  {
   "cell_type": "code",
   "execution_count": 25,
   "metadata": {},
   "outputs": [
    {
     "data": {
      "text/plain": [
       "PC1    0.506908\n",
       "PC2    0.230478\n",
       "PC3    0.156007\n",
       "PC4    0.106606\n",
       "dtype: float64"
      ]
     },
     "execution_count": 25,
     "metadata": {},
     "output_type": "execute_result"
    }
   ],
   "source": [
    "# Percentage of variations explained by PC's\n",
    "np.var(toy_df_pca_transf,ddof=1)/np.sum(np.var(toy_df_nrm,ddof=1))"
   ]
  },
  {
   "cell_type": "code",
   "execution_count": 26,
   "metadata": {},
   "outputs": [
    {
     "data": {
      "text/plain": [
       "array([3.48795056, 2.35190968, 1.93498769, 1.59954506])"
      ]
     },
     "execution_count": 26,
     "metadata": {},
     "output_type": "execute_result"
    }
   ],
   "source": [
    "pca1_values = pca1.singular_values_          ## PCA generated Eigen Values\n",
    "pca1_values"
   ]
  },
  {
   "cell_type": "code",
   "execution_count": 27,
   "metadata": {},
   "outputs": [
    {
     "data": {
      "text/plain": [
       "array([[-0.59234641,  0.49659805,  0.29532285,  0.56151627],\n",
       "       [ 0.04000138, -0.3425419 ,  0.92772635, -0.14278922],\n",
       "       [ 0.23550824,  0.78110535,  0.19442707, -0.54461768],\n",
       "       [-0.76945532, -0.16102751, -0.11960917, -0.60638461]])"
      ]
     },
     "execution_count": 27,
     "metadata": {},
     "output_type": "execute_result"
    }
   ],
   "source": [
    "pca1_vectors = pca1.components_              ## PCA generated Eigen Vectors\n",
    "pca1_vectors"
   ]
  },
  {
   "cell_type": "markdown",
   "metadata": {},
   "source": [
    "### **Now, lets try to generate Principal Components manually. Below is the matrix multiplication of DF and PCA Eigen Vectors:**"
   ]
  },
  {
   "cell_type": "code",
   "execution_count": 28,
   "metadata": {},
   "outputs": [
    {
     "data": {
      "text/html": [
       "<div>\n",
       "<style scoped>\n",
       "    .dataframe tbody tr th:only-of-type {\n",
       "        vertical-align: middle;\n",
       "    }\n",
       "\n",
       "    .dataframe tbody tr th {\n",
       "        vertical-align: top;\n",
       "    }\n",
       "\n",
       "    .dataframe thead th {\n",
       "        text-align: right;\n",
       "    }\n",
       "</style>\n",
       "<table border=\"1\" class=\"dataframe\">\n",
       "  <thead>\n",
       "    <tr style=\"text-align: right;\">\n",
       "      <th></th>\n",
       "      <th>0</th>\n",
       "      <th>1</th>\n",
       "      <th>2</th>\n",
       "      <th>3</th>\n",
       "    </tr>\n",
       "  </thead>\n",
       "  <tbody>\n",
       "    <tr>\n",
       "      <th>0</th>\n",
       "      <td>-1.917940</td>\n",
       "      <td>-0.365382</td>\n",
       "      <td>1.332081</td>\n",
       "      <td>0.082032</td>\n",
       "    </tr>\n",
       "    <tr>\n",
       "      <th>1</th>\n",
       "      <td>1.840850</td>\n",
       "      <td>-0.778908</td>\n",
       "      <td>-0.039185</td>\n",
       "      <td>0.933776</td>\n",
       "    </tr>\n",
       "    <tr>\n",
       "      <th>2</th>\n",
       "      <td>1.944546</td>\n",
       "      <td>0.744536</td>\n",
       "      <td>0.740549</td>\n",
       "      <td>-0.688892</td>\n",
       "    </tr>\n",
       "    <tr>\n",
       "      <th>3</th>\n",
       "      <td>-0.886259</td>\n",
       "      <td>0.149112</td>\n",
       "      <td>-0.526377</td>\n",
       "      <td>0.606437</td>\n",
       "    </tr>\n",
       "    <tr>\n",
       "      <th>4</th>\n",
       "      <td>-0.649490</td>\n",
       "      <td>1.571575</td>\n",
       "      <td>-0.694005</td>\n",
       "      <td>-0.018364</td>\n",
       "    </tr>\n",
       "    <tr>\n",
       "      <th>5</th>\n",
       "      <td>-0.331706</td>\n",
       "      <td>-1.320933</td>\n",
       "      <td>-0.813064</td>\n",
       "      <td>-0.914988</td>\n",
       "    </tr>\n",
       "  </tbody>\n",
       "</table>\n",
       "</div>"
      ],
      "text/plain": [
       "          0         1         2         3\n",
       "0 -1.917940 -0.365382  1.332081  0.082032\n",
       "1  1.840850 -0.778908 -0.039185  0.933776\n",
       "2  1.944546  0.744536  0.740549 -0.688892\n",
       "3 -0.886259  0.149112 -0.526377  0.606437\n",
       "4 -0.649490  1.571575 -0.694005 -0.018364\n",
       "5 -0.331706 -1.320933 -0.813064 -0.914988"
      ]
     },
     "execution_count": 28,
     "metadata": {},
     "output_type": "execute_result"
    }
   ],
   "source": [
    "toy_df_nrm @ pca1_vectors.T"
   ]
  },
  {
   "cell_type": "code",
   "execution_count": 29,
   "metadata": {},
   "outputs": [
    {
     "data": {
      "text/html": [
       "<div>\n",
       "<style scoped>\n",
       "    .dataframe tbody tr th:only-of-type {\n",
       "        vertical-align: middle;\n",
       "    }\n",
       "\n",
       "    .dataframe tbody tr th {\n",
       "        vertical-align: top;\n",
       "    }\n",
       "\n",
       "    .dataframe thead th {\n",
       "        text-align: right;\n",
       "    }\n",
       "</style>\n",
       "<table border=\"1\" class=\"dataframe\">\n",
       "  <thead>\n",
       "    <tr style=\"text-align: right;\">\n",
       "      <th></th>\n",
       "      <th>PC1</th>\n",
       "      <th>PC2</th>\n",
       "      <th>PC3</th>\n",
       "      <th>PC4</th>\n",
       "    </tr>\n",
       "  </thead>\n",
       "  <tbody>\n",
       "    <tr>\n",
       "      <th>0</th>\n",
       "      <td>-1.917940</td>\n",
       "      <td>-0.365382</td>\n",
       "      <td>1.332081</td>\n",
       "      <td>0.082032</td>\n",
       "    </tr>\n",
       "    <tr>\n",
       "      <th>1</th>\n",
       "      <td>1.840850</td>\n",
       "      <td>-0.778908</td>\n",
       "      <td>-0.039185</td>\n",
       "      <td>0.933776</td>\n",
       "    </tr>\n",
       "    <tr>\n",
       "      <th>2</th>\n",
       "      <td>1.944546</td>\n",
       "      <td>0.744536</td>\n",
       "      <td>0.740549</td>\n",
       "      <td>-0.688892</td>\n",
       "    </tr>\n",
       "    <tr>\n",
       "      <th>3</th>\n",
       "      <td>-0.886259</td>\n",
       "      <td>0.149112</td>\n",
       "      <td>-0.526377</td>\n",
       "      <td>0.606437</td>\n",
       "    </tr>\n",
       "    <tr>\n",
       "      <th>4</th>\n",
       "      <td>-0.649490</td>\n",
       "      <td>1.571575</td>\n",
       "      <td>-0.694005</td>\n",
       "      <td>-0.018364</td>\n",
       "    </tr>\n",
       "    <tr>\n",
       "      <th>5</th>\n",
       "      <td>-0.331706</td>\n",
       "      <td>-1.320933</td>\n",
       "      <td>-0.813064</td>\n",
       "      <td>-0.914988</td>\n",
       "    </tr>\n",
       "  </tbody>\n",
       "</table>\n",
       "</div>"
      ],
      "text/plain": [
       "        PC1       PC2       PC3       PC4\n",
       "0 -1.917940 -0.365382  1.332081  0.082032\n",
       "1  1.840850 -0.778908 -0.039185  0.933776\n",
       "2  1.944546  0.744536  0.740549 -0.688892\n",
       "3 -0.886259  0.149112 -0.526377  0.606437\n",
       "4 -0.649490  1.571575 -0.694005 -0.018364\n",
       "5 -0.331706 -1.320933 -0.813064 -0.914988"
      ]
     },
     "execution_count": 29,
     "metadata": {},
     "output_type": "execute_result"
    }
   ],
   "source": [
    "toy_df_pca_transf"
   ]
  },
  {
   "cell_type": "markdown",
   "metadata": {},
   "source": [
    "### **So, we are good here because the dot product of Standardized data and PCA generated Eigen vectors gives us the exact Principal Components.**\n",
    "\n",
    "## ***`Generate components from NUMPY and SCIPY Eigen vectors`***\n",
    "\n",
    "- ***The confusion with the NUMPY and SCIPY implementations is that when we perform the dot product of Standardized matrix with their Eigen Vectors then different Principal Components are generated as compared to PCA.(refer below cell)***"
   ]
  },
  {
   "cell_type": "code",
   "execution_count": 30,
   "metadata": {},
   "outputs": [],
   "source": [
    "n_pcs = toy_df_nrm @ n_vectors.T\n",
    "s_pcs = toy_df_nrm @ s_vectors.T"
   ]
  },
  {
   "cell_type": "code",
   "execution_count": 31,
   "metadata": {},
   "outputs": [
    {
     "data": {
      "text/html": [
       "<div>\n",
       "<style scoped>\n",
       "    .dataframe tbody tr th:only-of-type {\n",
       "        vertical-align: middle;\n",
       "    }\n",
       "\n",
       "    .dataframe tbody tr th {\n",
       "        vertical-align: top;\n",
       "    }\n",
       "\n",
       "    .dataframe thead th {\n",
       "        text-align: right;\n",
       "    }\n",
       "</style>\n",
       "<table border=\"1\" class=\"dataframe\">\n",
       "  <thead>\n",
       "    <tr style=\"text-align: right;\">\n",
       "      <th></th>\n",
       "      <th>0</th>\n",
       "      <th>1</th>\n",
       "      <th>2</th>\n",
       "      <th>3</th>\n",
       "    </tr>\n",
       "  </thead>\n",
       "  <tbody>\n",
       "    <tr>\n",
       "      <th>0</th>\n",
       "      <td>2.048615</td>\n",
       "      <td>-0.604380</td>\n",
       "      <td>-1.015134</td>\n",
       "      <td>0.023892</td>\n",
       "    </tr>\n",
       "    <tr>\n",
       "      <th>1</th>\n",
       "      <td>-2.025805</td>\n",
       "      <td>-0.678764</td>\n",
       "      <td>-0.515145</td>\n",
       "      <td>-0.197272</td>\n",
       "    </tr>\n",
       "    <tr>\n",
       "      <th>2</th>\n",
       "      <td>-1.183714</td>\n",
       "      <td>-1.175051</td>\n",
       "      <td>1.356766</td>\n",
       "      <td>0.857812</td>\n",
       "    </tr>\n",
       "    <tr>\n",
       "      <th>3</th>\n",
       "      <td>0.533083</td>\n",
       "      <td>0.575712</td>\n",
       "      <td>-0.266619</td>\n",
       "      <td>-0.875111</td>\n",
       "    </tr>\n",
       "    <tr>\n",
       "      <th>4</th>\n",
       "      <td>0.723029</td>\n",
       "      <td>0.654006</td>\n",
       "      <td>1.300337</td>\n",
       "      <td>-0.855742</td>\n",
       "    </tr>\n",
       "    <tr>\n",
       "      <th>5</th>\n",
       "      <td>-0.095209</td>\n",
       "      <td>1.228476</td>\n",
       "      <td>-0.860204</td>\n",
       "      <td>1.046421</td>\n",
       "    </tr>\n",
       "  </tbody>\n",
       "</table>\n",
       "</div>"
      ],
      "text/plain": [
       "          0         1         2         3\n",
       "0  2.048615 -0.604380 -1.015134  0.023892\n",
       "1 -2.025805 -0.678764 -0.515145 -0.197272\n",
       "2 -1.183714 -1.175051  1.356766  0.857812\n",
       "3  0.533083  0.575712 -0.266619 -0.875111\n",
       "4  0.723029  0.654006  1.300337 -0.855742\n",
       "5 -0.095209  1.228476 -0.860204  1.046421"
      ]
     },
     "execution_count": 31,
     "metadata": {},
     "output_type": "execute_result"
    }
   ],
   "source": [
    "# Numpy PC's\n",
    "n_pcs"
   ]
  },
  {
   "cell_type": "code",
   "execution_count": 32,
   "metadata": {},
   "outputs": [
    {
     "data": {
      "text/html": [
       "<div>\n",
       "<style scoped>\n",
       "    .dataframe tbody tr th:only-of-type {\n",
       "        vertical-align: middle;\n",
       "    }\n",
       "\n",
       "    .dataframe tbody tr th {\n",
       "        vertical-align: top;\n",
       "    }\n",
       "\n",
       "    .dataframe thead th {\n",
       "        text-align: right;\n",
       "    }\n",
       "</style>\n",
       "<table border=\"1\" class=\"dataframe\">\n",
       "  <thead>\n",
       "    <tr style=\"text-align: right;\">\n",
       "      <th></th>\n",
       "      <th>0</th>\n",
       "      <th>1</th>\n",
       "      <th>2</th>\n",
       "      <th>3</th>\n",
       "    </tr>\n",
       "  </thead>\n",
       "  <tbody>\n",
       "    <tr>\n",
       "      <th>0</th>\n",
       "      <td>2.048615</td>\n",
       "      <td>-0.604380</td>\n",
       "      <td>-1.015134</td>\n",
       "      <td>0.023892</td>\n",
       "    </tr>\n",
       "    <tr>\n",
       "      <th>1</th>\n",
       "      <td>-2.025805</td>\n",
       "      <td>-0.678764</td>\n",
       "      <td>-0.515145</td>\n",
       "      <td>-0.197272</td>\n",
       "    </tr>\n",
       "    <tr>\n",
       "      <th>2</th>\n",
       "      <td>-1.183714</td>\n",
       "      <td>-1.175051</td>\n",
       "      <td>1.356766</td>\n",
       "      <td>0.857812</td>\n",
       "    </tr>\n",
       "    <tr>\n",
       "      <th>3</th>\n",
       "      <td>0.533083</td>\n",
       "      <td>0.575712</td>\n",
       "      <td>-0.266619</td>\n",
       "      <td>-0.875111</td>\n",
       "    </tr>\n",
       "    <tr>\n",
       "      <th>4</th>\n",
       "      <td>0.723029</td>\n",
       "      <td>0.654006</td>\n",
       "      <td>1.300337</td>\n",
       "      <td>-0.855742</td>\n",
       "    </tr>\n",
       "    <tr>\n",
       "      <th>5</th>\n",
       "      <td>-0.095209</td>\n",
       "      <td>1.228476</td>\n",
       "      <td>-0.860204</td>\n",
       "      <td>1.046421</td>\n",
       "    </tr>\n",
       "  </tbody>\n",
       "</table>\n",
       "</div>"
      ],
      "text/plain": [
       "          0         1         2         3\n",
       "0  2.048615 -0.604380 -1.015134  0.023892\n",
       "1 -2.025805 -0.678764 -0.515145 -0.197272\n",
       "2 -1.183714 -1.175051  1.356766  0.857812\n",
       "3  0.533083  0.575712 -0.266619 -0.875111\n",
       "4  0.723029  0.654006  1.300337 -0.855742\n",
       "5 -0.095209  1.228476 -0.860204  1.046421"
      ]
     },
     "execution_count": 32,
     "metadata": {},
     "output_type": "execute_result"
    }
   ],
   "source": [
    "# Scipy PC's\n",
    "s_pcs"
   ]
  },
  {
   "cell_type": "code",
   "execution_count": 33,
   "metadata": {},
   "outputs": [
    {
     "data": {
      "text/html": [
       "<div>\n",
       "<style scoped>\n",
       "    .dataframe tbody tr th:only-of-type {\n",
       "        vertical-align: middle;\n",
       "    }\n",
       "\n",
       "    .dataframe tbody tr th {\n",
       "        vertical-align: top;\n",
       "    }\n",
       "\n",
       "    .dataframe thead th {\n",
       "        text-align: right;\n",
       "    }\n",
       "</style>\n",
       "<table border=\"1\" class=\"dataframe\">\n",
       "  <thead>\n",
       "    <tr style=\"text-align: right;\">\n",
       "      <th></th>\n",
       "      <th>0</th>\n",
       "      <th>1</th>\n",
       "      <th>2</th>\n",
       "      <th>3</th>\n",
       "    </tr>\n",
       "  </thead>\n",
       "  <tbody>\n",
       "    <tr>\n",
       "      <th>0</th>\n",
       "      <td>-1.917940</td>\n",
       "      <td>-0.365382</td>\n",
       "      <td>1.332081</td>\n",
       "      <td>0.082032</td>\n",
       "    </tr>\n",
       "    <tr>\n",
       "      <th>1</th>\n",
       "      <td>1.840850</td>\n",
       "      <td>-0.778908</td>\n",
       "      <td>-0.039185</td>\n",
       "      <td>0.933776</td>\n",
       "    </tr>\n",
       "    <tr>\n",
       "      <th>2</th>\n",
       "      <td>1.944546</td>\n",
       "      <td>0.744536</td>\n",
       "      <td>0.740549</td>\n",
       "      <td>-0.688892</td>\n",
       "    </tr>\n",
       "    <tr>\n",
       "      <th>3</th>\n",
       "      <td>-0.886259</td>\n",
       "      <td>0.149112</td>\n",
       "      <td>-0.526377</td>\n",
       "      <td>0.606437</td>\n",
       "    </tr>\n",
       "    <tr>\n",
       "      <th>4</th>\n",
       "      <td>-0.649490</td>\n",
       "      <td>1.571575</td>\n",
       "      <td>-0.694005</td>\n",
       "      <td>-0.018364</td>\n",
       "    </tr>\n",
       "    <tr>\n",
       "      <th>5</th>\n",
       "      <td>-0.331706</td>\n",
       "      <td>-1.320933</td>\n",
       "      <td>-0.813064</td>\n",
       "      <td>-0.914988</td>\n",
       "    </tr>\n",
       "  </tbody>\n",
       "</table>\n",
       "</div>"
      ],
      "text/plain": [
       "          0         1         2         3\n",
       "0 -1.917940 -0.365382  1.332081  0.082032\n",
       "1  1.840850 -0.778908 -0.039185  0.933776\n",
       "2  1.944546  0.744536  0.740549 -0.688892\n",
       "3 -0.886259  0.149112 -0.526377  0.606437\n",
       "4 -0.649490  1.571575 -0.694005 -0.018364\n",
       "5 -0.331706 -1.320933 -0.813064 -0.914988"
      ]
     },
     "execution_count": 33,
     "metadata": {},
     "output_type": "execute_result"
    }
   ],
   "source": [
    "# PCA PC's\n",
    "toy_df_nrm @ pca1_vectors.T"
   ]
  },
  {
   "cell_type": "markdown",
   "metadata": {},
   "source": [
    "### ***Numpy and Scipy PC's are same because we have used same routine of LAPACK package.***\n",
    "\n",
    "### ***But, we have the completely different Principal Components as compared to PCA generated components. The reason for that is PCA uses Linear Decomposition SVD algorithm.(For complete guide on SVD refer the other jupyter notebook)***"
   ]
  },
  {
   "cell_type": "markdown",
   "metadata": {},
   "source": [
    "### **4._Scipy_SVD**"
   ]
  },
  {
   "cell_type": "code",
   "execution_count": 34,
   "metadata": {},
   "outputs": [],
   "source": [
    "from scipy.linalg import svd"
   ]
  },
  {
   "cell_type": "code",
   "execution_count": 35,
   "metadata": {},
   "outputs": [],
   "source": [
    "u,s,vt = svd(a=toy_df_nrm,lapack_driver='gesvd')"
   ]
  },
  {
   "cell_type": "code",
   "execution_count": 36,
   "metadata": {},
   "outputs": [
    {
     "data": {
      "text/html": [
       "<div>\n",
       "<style scoped>\n",
       "    .dataframe tbody tr th:only-of-type {\n",
       "        vertical-align: middle;\n",
       "    }\n",
       "\n",
       "    .dataframe tbody tr th {\n",
       "        vertical-align: top;\n",
       "    }\n",
       "\n",
       "    .dataframe thead th {\n",
       "        text-align: right;\n",
       "    }\n",
       "</style>\n",
       "<table border=\"1\" class=\"dataframe\">\n",
       "  <thead>\n",
       "    <tr style=\"text-align: right;\">\n",
       "      <th></th>\n",
       "      <th>0</th>\n",
       "      <th>1</th>\n",
       "      <th>2</th>\n",
       "      <th>3</th>\n",
       "      <th>4</th>\n",
       "      <th>5</th>\n",
       "    </tr>\n",
       "  </thead>\n",
       "  <tbody>\n",
       "    <tr>\n",
       "      <th>0</th>\n",
       "      <td>-0.549876</td>\n",
       "      <td>-0.155355</td>\n",
       "      <td>0.688419</td>\n",
       "      <td>-0.051285</td>\n",
       "      <td>0.365159</td>\n",
       "      <td>0.252210</td>\n",
       "    </tr>\n",
       "    <tr>\n",
       "      <th>1</th>\n",
       "      <td>0.527774</td>\n",
       "      <td>-0.331181</td>\n",
       "      <td>-0.020251</td>\n",
       "      <td>-0.583776</td>\n",
       "      <td>0.490552</td>\n",
       "      <td>0.172999</td>\n",
       "    </tr>\n",
       "    <tr>\n",
       "      <th>2</th>\n",
       "      <td>0.557504</td>\n",
       "      <td>0.316567</td>\n",
       "      <td>0.382715</td>\n",
       "      <td>0.430680</td>\n",
       "      <td>-0.036097</td>\n",
       "      <td>0.505684</td>\n",
       "    </tr>\n",
       "    <tr>\n",
       "      <th>3</th>\n",
       "      <td>-0.254092</td>\n",
       "      <td>0.063400</td>\n",
       "      <td>-0.272031</td>\n",
       "      <td>-0.379131</td>\n",
       "      <td>-0.407258</td>\n",
       "      <td>0.740147</td>\n",
       "    </tr>\n",
       "    <tr>\n",
       "      <th>4</th>\n",
       "      <td>-0.186210</td>\n",
       "      <td>0.668212</td>\n",
       "      <td>-0.358661</td>\n",
       "      <td>0.011481</td>\n",
       "      <td>0.617616</td>\n",
       "      <td>0.092732</td>\n",
       "    </tr>\n",
       "    <tr>\n",
       "      <th>5</th>\n",
       "      <td>-0.095101</td>\n",
       "      <td>-0.561643</td>\n",
       "      <td>-0.420191</td>\n",
       "      <td>0.572030</td>\n",
       "      <td>0.278220</td>\n",
       "      <td>0.307129</td>\n",
       "    </tr>\n",
       "  </tbody>\n",
       "</table>\n",
       "</div>"
      ],
      "text/plain": [
       "          0         1         2         3         4         5\n",
       "0 -0.549876 -0.155355  0.688419 -0.051285  0.365159  0.252210\n",
       "1  0.527774 -0.331181 -0.020251 -0.583776  0.490552  0.172999\n",
       "2  0.557504  0.316567  0.382715  0.430680 -0.036097  0.505684\n",
       "3 -0.254092  0.063400 -0.272031 -0.379131 -0.407258  0.740147\n",
       "4 -0.186210  0.668212 -0.358661  0.011481  0.617616  0.092732\n",
       "5 -0.095101 -0.561643 -0.420191  0.572030  0.278220  0.307129"
      ]
     },
     "execution_count": 36,
     "metadata": {},
     "output_type": "execute_result"
    }
   ],
   "source": [
    "pd.DataFrame(u)"
   ]
  },
  {
   "cell_type": "code",
   "execution_count": 37,
   "metadata": {},
   "outputs": [
    {
     "data": {
      "text/html": [
       "<div>\n",
       "<style scoped>\n",
       "    .dataframe tbody tr th:only-of-type {\n",
       "        vertical-align: middle;\n",
       "    }\n",
       "\n",
       "    .dataframe tbody tr th {\n",
       "        vertical-align: top;\n",
       "    }\n",
       "\n",
       "    .dataframe thead th {\n",
       "        text-align: right;\n",
       "    }\n",
       "</style>\n",
       "<table border=\"1\" class=\"dataframe\">\n",
       "  <thead>\n",
       "    <tr style=\"text-align: right;\">\n",
       "      <th></th>\n",
       "      <th>0</th>\n",
       "      <th>1</th>\n",
       "      <th>2</th>\n",
       "      <th>3</th>\n",
       "    </tr>\n",
       "  </thead>\n",
       "  <tbody>\n",
       "    <tr>\n",
       "      <th>0</th>\n",
       "      <td>-1.917940</td>\n",
       "      <td>-0.365382</td>\n",
       "      <td>1.332081</td>\n",
       "      <td>-0.082032</td>\n",
       "    </tr>\n",
       "    <tr>\n",
       "      <th>1</th>\n",
       "      <td>1.840850</td>\n",
       "      <td>-0.778908</td>\n",
       "      <td>-0.039185</td>\n",
       "      <td>-0.933776</td>\n",
       "    </tr>\n",
       "    <tr>\n",
       "      <th>2</th>\n",
       "      <td>1.944546</td>\n",
       "      <td>0.744536</td>\n",
       "      <td>0.740549</td>\n",
       "      <td>0.688892</td>\n",
       "    </tr>\n",
       "    <tr>\n",
       "      <th>3</th>\n",
       "      <td>-0.886259</td>\n",
       "      <td>0.149112</td>\n",
       "      <td>-0.526377</td>\n",
       "      <td>-0.606437</td>\n",
       "    </tr>\n",
       "    <tr>\n",
       "      <th>4</th>\n",
       "      <td>-0.649490</td>\n",
       "      <td>1.571575</td>\n",
       "      <td>-0.694005</td>\n",
       "      <td>0.018364</td>\n",
       "    </tr>\n",
       "    <tr>\n",
       "      <th>5</th>\n",
       "      <td>-0.331706</td>\n",
       "      <td>-1.320933</td>\n",
       "      <td>-0.813064</td>\n",
       "      <td>0.914988</td>\n",
       "    </tr>\n",
       "  </tbody>\n",
       "</table>\n",
       "</div>"
      ],
      "text/plain": [
       "          0         1         2         3\n",
       "0 -1.917940 -0.365382  1.332081 -0.082032\n",
       "1  1.840850 -0.778908 -0.039185 -0.933776\n",
       "2  1.944546  0.744536  0.740549  0.688892\n",
       "3 -0.886259  0.149112 -0.526377 -0.606437\n",
       "4 -0.649490  1.571575 -0.694005  0.018364\n",
       "5 -0.331706 -1.320933 -0.813064  0.914988"
      ]
     },
     "execution_count": 37,
     "metadata": {},
     "output_type": "execute_result"
    }
   ],
   "source": [
    "svd_cmps = toy_df_nrm @ vt.T\n",
    "svd_cmps"
   ]
  },
  {
   "cell_type": "code",
   "execution_count": 38,
   "metadata": {},
   "outputs": [
    {
     "data": {
      "text/html": [
       "<div>\n",
       "<style scoped>\n",
       "    .dataframe tbody tr th:only-of-type {\n",
       "        vertical-align: middle;\n",
       "    }\n",
       "\n",
       "    .dataframe tbody tr th {\n",
       "        vertical-align: top;\n",
       "    }\n",
       "\n",
       "    .dataframe thead th {\n",
       "        text-align: right;\n",
       "    }\n",
       "</style>\n",
       "<table border=\"1\" class=\"dataframe\">\n",
       "  <thead>\n",
       "    <tr style=\"text-align: right;\">\n",
       "      <th></th>\n",
       "      <th>PC1</th>\n",
       "      <th>PC2</th>\n",
       "      <th>PC3</th>\n",
       "      <th>PC4</th>\n",
       "    </tr>\n",
       "  </thead>\n",
       "  <tbody>\n",
       "    <tr>\n",
       "      <th>0</th>\n",
       "      <td>-1.917940</td>\n",
       "      <td>-0.365382</td>\n",
       "      <td>1.332081</td>\n",
       "      <td>0.082032</td>\n",
       "    </tr>\n",
       "    <tr>\n",
       "      <th>1</th>\n",
       "      <td>1.840850</td>\n",
       "      <td>-0.778908</td>\n",
       "      <td>-0.039185</td>\n",
       "      <td>0.933776</td>\n",
       "    </tr>\n",
       "    <tr>\n",
       "      <th>2</th>\n",
       "      <td>1.944546</td>\n",
       "      <td>0.744536</td>\n",
       "      <td>0.740549</td>\n",
       "      <td>-0.688892</td>\n",
       "    </tr>\n",
       "    <tr>\n",
       "      <th>3</th>\n",
       "      <td>-0.886259</td>\n",
       "      <td>0.149112</td>\n",
       "      <td>-0.526377</td>\n",
       "      <td>0.606437</td>\n",
       "    </tr>\n",
       "    <tr>\n",
       "      <th>4</th>\n",
       "      <td>-0.649490</td>\n",
       "      <td>1.571575</td>\n",
       "      <td>-0.694005</td>\n",
       "      <td>-0.018364</td>\n",
       "    </tr>\n",
       "    <tr>\n",
       "      <th>5</th>\n",
       "      <td>-0.331706</td>\n",
       "      <td>-1.320933</td>\n",
       "      <td>-0.813064</td>\n",
       "      <td>-0.914988</td>\n",
       "    </tr>\n",
       "  </tbody>\n",
       "</table>\n",
       "</div>"
      ],
      "text/plain": [
       "        PC1       PC2       PC3       PC4\n",
       "0 -1.917940 -0.365382  1.332081  0.082032\n",
       "1  1.840850 -0.778908 -0.039185  0.933776\n",
       "2  1.944546  0.744536  0.740549 -0.688892\n",
       "3 -0.886259  0.149112 -0.526377  0.606437\n",
       "4 -0.649490  1.571575 -0.694005 -0.018364\n",
       "5 -0.331706 -1.320933 -0.813064 -0.914988"
      ]
     },
     "execution_count": 38,
     "metadata": {},
     "output_type": "execute_result"
    }
   ],
   "source": [
    "toy_df_pca_transf"
   ]
  },
  {
   "cell_type": "markdown",
   "metadata": {},
   "source": [
    "### **So, we are good as all the doubts are solved!!**"
   ]
  },
  {
   "cell_type": "markdown",
   "metadata": {},
   "source": [
    "### ***`Reconstructing the matrix from components`***\n",
    "- ***With PCA it is easy to reconstruct the matrix just by using the inverse_transform function.***"
   ]
  },
  {
   "cell_type": "code",
   "execution_count": 39,
   "metadata": {},
   "outputs": [
    {
     "data": {
      "text/plain": [
       "array([[ 1.37206497,  0.2       , -0.65620498, -1.8       ],\n",
       "       [-1.84930496,  1.        , -0.29827499,  0.6       ],\n",
       "       [-0.41758499,  1.4       ,  1.49137497,  1.        ],\n",
       "       [-0.059655  , -1.        , -0.29827499, -0.6       ],\n",
       "       [ 0.29827499, -1.4       ,  1.13344497, -0.2       ],\n",
       "       [ 0.65620498, -0.2       , -1.37206497,  1.        ]])"
      ]
     },
     "execution_count": 39,
     "metadata": {},
     "output_type": "execute_result"
    }
   ],
   "source": [
    "pca1.inverse_transform(toy_df_pca_transf)"
   ]
  },
  {
   "cell_type": "markdown",
   "metadata": {},
   "source": [
    "### **Pretty simple!!**"
   ]
  },
  {
   "cell_type": "markdown",
   "metadata": {},
   "source": [
    "- #### ***How we can reconstruct the matrix via SVD approach?***"
   ]
  },
  {
   "cell_type": "code",
   "execution_count": 40,
   "metadata": {},
   "outputs": [
    {
     "data": {
      "text/plain": [
       "array([[3.48795056, 0.        , 0.        , 0.        ],\n",
       "       [0.        , 2.35190968, 0.        , 0.        ],\n",
       "       [0.        , 0.        , 1.93498769, 0.        ],\n",
       "       [0.        , 0.        , 0.        , 1.59954506],\n",
       "       [0.        , 0.        , 0.        , 0.        ],\n",
       "       [0.        , 0.        , 0.        , 0.        ]])"
      ]
     },
     "execution_count": 40,
     "metadata": {},
     "output_type": "execute_result"
    }
   ],
   "source": [
    "sigma = np.zeros((toy_df_nrm.shape[0],toy_df_nrm.shape[1]))\n",
    "sigma[0:toy_df_nrm.shape[1],0:toy_df_nrm.shape[1]] = np.diag(s)\n",
    "sigma"
   ]
  },
  {
   "cell_type": "code",
   "execution_count": 41,
   "metadata": {},
   "outputs": [
    {
     "data": {
      "text/plain": [
       "array([[ 1.37206497,  0.2       , -0.65620498, -1.8       ],\n",
       "       [-1.84930496,  1.        , -0.29827499,  0.6       ],\n",
       "       [-0.41758499,  1.4       ,  1.49137497,  1.        ],\n",
       "       [-0.059655  , -1.        , -0.29827499, -0.6       ],\n",
       "       [ 0.29827499, -1.4       ,  1.13344497, -0.2       ],\n",
       "       [ 0.65620498, -0.2       , -1.37206497,  1.        ]])"
      ]
     },
     "execution_count": 41,
     "metadata": {},
     "output_type": "execute_result"
    }
   ],
   "source": [
    "u @ sigma @ vt"
   ]
  },
  {
   "cell_type": "code",
   "execution_count": 42,
   "metadata": {},
   "outputs": [
    {
     "data": {
      "text/html": [
       "<div>\n",
       "<style scoped>\n",
       "    .dataframe tbody tr th:only-of-type {\n",
       "        vertical-align: middle;\n",
       "    }\n",
       "\n",
       "    .dataframe tbody tr th {\n",
       "        vertical-align: top;\n",
       "    }\n",
       "\n",
       "    .dataframe thead th {\n",
       "        text-align: right;\n",
       "    }\n",
       "</style>\n",
       "<table border=\"1\" class=\"dataframe\">\n",
       "  <thead>\n",
       "    <tr style=\"text-align: right;\">\n",
       "      <th></th>\n",
       "      <th>col1</th>\n",
       "      <th>col2</th>\n",
       "      <th>col3</th>\n",
       "      <th>col4</th>\n",
       "    </tr>\n",
       "  </thead>\n",
       "  <tbody>\n",
       "    <tr>\n",
       "      <th>0</th>\n",
       "      <td>1.372065</td>\n",
       "      <td>0.2</td>\n",
       "      <td>-0.656205</td>\n",
       "      <td>-1.8</td>\n",
       "    </tr>\n",
       "    <tr>\n",
       "      <th>1</th>\n",
       "      <td>-1.849305</td>\n",
       "      <td>1.0</td>\n",
       "      <td>-0.298275</td>\n",
       "      <td>0.6</td>\n",
       "    </tr>\n",
       "    <tr>\n",
       "      <th>2</th>\n",
       "      <td>-0.417585</td>\n",
       "      <td>1.4</td>\n",
       "      <td>1.491375</td>\n",
       "      <td>1.0</td>\n",
       "    </tr>\n",
       "    <tr>\n",
       "      <th>3</th>\n",
       "      <td>-0.059655</td>\n",
       "      <td>-1.0</td>\n",
       "      <td>-0.298275</td>\n",
       "      <td>-0.6</td>\n",
       "    </tr>\n",
       "    <tr>\n",
       "      <th>4</th>\n",
       "      <td>0.298275</td>\n",
       "      <td>-1.4</td>\n",
       "      <td>1.133445</td>\n",
       "      <td>-0.2</td>\n",
       "    </tr>\n",
       "    <tr>\n",
       "      <th>5</th>\n",
       "      <td>0.656205</td>\n",
       "      <td>-0.2</td>\n",
       "      <td>-1.372065</td>\n",
       "      <td>1.0</td>\n",
       "    </tr>\n",
       "  </tbody>\n",
       "</table>\n",
       "</div>"
      ],
      "text/plain": [
       "       col1  col2      col3  col4\n",
       "0  1.372065   0.2 -0.656205  -1.8\n",
       "1 -1.849305   1.0 -0.298275   0.6\n",
       "2 -0.417585   1.4  1.491375   1.0\n",
       "3 -0.059655  -1.0 -0.298275  -0.6\n",
       "4  0.298275  -1.4  1.133445  -0.2\n",
       "5  0.656205  -0.2 -1.372065   1.0"
      ]
     },
     "execution_count": 42,
     "metadata": {},
     "output_type": "execute_result"
    }
   ],
   "source": [
    "toy_df_nrm"
   ]
  },
  {
   "cell_type": "markdown",
   "metadata": {},
   "source": [
    "### **Pretty simple here as well!!**"
   ]
  },
  {
   "cell_type": "markdown",
   "metadata": {},
   "source": [
    "### ***`What are Principal Components in terms of SVD?`***"
   ]
  },
  {
   "cell_type": "code",
   "execution_count": 43,
   "metadata": {},
   "outputs": [
    {
     "data": {
      "text/plain": [
       "array([[-0.59234641,  0.49659805,  0.29532285,  0.56151627],\n",
       "       [ 0.04000138, -0.3425419 ,  0.92772635, -0.14278922],\n",
       "       [ 0.23550824,  0.78110535,  0.19442707, -0.54461768],\n",
       "       [-0.76945532, -0.16102751, -0.11960917, -0.60638461]])"
      ]
     },
     "execution_count": 43,
     "metadata": {},
     "output_type": "execute_result"
    }
   ],
   "source": [
    "pca1.components_             ## Eigen Vectors"
   ]
  },
  {
   "cell_type": "code",
   "execution_count": 44,
   "metadata": {},
   "outputs": [
    {
     "data": {
      "text/plain": [
       "array([3.48795056, 2.35190968, 1.93498769, 1.59954506])"
      ]
     },
     "execution_count": 44,
     "metadata": {},
     "output_type": "execute_result"
    }
   ],
   "source": [
    "pca1.singular_values_        ## Eigen Values"
   ]
  },
  {
   "cell_type": "code",
   "execution_count": 45,
   "metadata": {},
   "outputs": [
    {
     "data": {
      "text/html": [
       "<div>\n",
       "<style scoped>\n",
       "    .dataframe tbody tr th:only-of-type {\n",
       "        vertical-align: middle;\n",
       "    }\n",
       "\n",
       "    .dataframe tbody tr th {\n",
       "        vertical-align: top;\n",
       "    }\n",
       "\n",
       "    .dataframe thead th {\n",
       "        text-align: right;\n",
       "    }\n",
       "</style>\n",
       "<table border=\"1\" class=\"dataframe\">\n",
       "  <thead>\n",
       "    <tr style=\"text-align: right;\">\n",
       "      <th></th>\n",
       "      <th>PC1</th>\n",
       "      <th>PC2</th>\n",
       "      <th>PC3</th>\n",
       "      <th>PC4</th>\n",
       "    </tr>\n",
       "  </thead>\n",
       "  <tbody>\n",
       "    <tr>\n",
       "      <th>0</th>\n",
       "      <td>-1.917940</td>\n",
       "      <td>-0.365382</td>\n",
       "      <td>1.332081</td>\n",
       "      <td>0.082032</td>\n",
       "    </tr>\n",
       "    <tr>\n",
       "      <th>1</th>\n",
       "      <td>1.840850</td>\n",
       "      <td>-0.778908</td>\n",
       "      <td>-0.039185</td>\n",
       "      <td>0.933776</td>\n",
       "    </tr>\n",
       "    <tr>\n",
       "      <th>2</th>\n",
       "      <td>1.944546</td>\n",
       "      <td>0.744536</td>\n",
       "      <td>0.740549</td>\n",
       "      <td>-0.688892</td>\n",
       "    </tr>\n",
       "    <tr>\n",
       "      <th>3</th>\n",
       "      <td>-0.886259</td>\n",
       "      <td>0.149112</td>\n",
       "      <td>-0.526377</td>\n",
       "      <td>0.606437</td>\n",
       "    </tr>\n",
       "    <tr>\n",
       "      <th>4</th>\n",
       "      <td>-0.649490</td>\n",
       "      <td>1.571575</td>\n",
       "      <td>-0.694005</td>\n",
       "      <td>-0.018364</td>\n",
       "    </tr>\n",
       "    <tr>\n",
       "      <th>5</th>\n",
       "      <td>-0.331706</td>\n",
       "      <td>-1.320933</td>\n",
       "      <td>-0.813064</td>\n",
       "      <td>-0.914988</td>\n",
       "    </tr>\n",
       "  </tbody>\n",
       "</table>\n",
       "</div>"
      ],
      "text/plain": [
       "        PC1       PC2       PC3       PC4\n",
       "0 -1.917940 -0.365382  1.332081  0.082032\n",
       "1  1.840850 -0.778908 -0.039185  0.933776\n",
       "2  1.944546  0.744536  0.740549 -0.688892\n",
       "3 -0.886259  0.149112 -0.526377  0.606437\n",
       "4 -0.649490  1.571575 -0.694005 -0.018364\n",
       "5 -0.331706 -1.320933 -0.813064 -0.914988"
      ]
     },
     "execution_count": 45,
     "metadata": {},
     "output_type": "execute_result"
    }
   ],
   "source": [
    "toy_df_pca_transf"
   ]
  },
  {
   "cell_type": "code",
   "execution_count": 46,
   "metadata": {},
   "outputs": [
    {
     "data": {
      "text/html": [
       "<div>\n",
       "<style scoped>\n",
       "    .dataframe tbody tr th:only-of-type {\n",
       "        vertical-align: middle;\n",
       "    }\n",
       "\n",
       "    .dataframe tbody tr th {\n",
       "        vertical-align: top;\n",
       "    }\n",
       "\n",
       "    .dataframe thead th {\n",
       "        text-align: right;\n",
       "    }\n",
       "</style>\n",
       "<table border=\"1\" class=\"dataframe\">\n",
       "  <thead>\n",
       "    <tr style=\"text-align: right;\">\n",
       "      <th></th>\n",
       "      <th>0</th>\n",
       "      <th>1</th>\n",
       "      <th>2</th>\n",
       "      <th>3</th>\n",
       "    </tr>\n",
       "  </thead>\n",
       "  <tbody>\n",
       "    <tr>\n",
       "      <th>0</th>\n",
       "      <td>-1.917940</td>\n",
       "      <td>-0.365382</td>\n",
       "      <td>1.332081</td>\n",
       "      <td>-0.082032</td>\n",
       "    </tr>\n",
       "    <tr>\n",
       "      <th>1</th>\n",
       "      <td>1.840850</td>\n",
       "      <td>-0.778908</td>\n",
       "      <td>-0.039185</td>\n",
       "      <td>-0.933776</td>\n",
       "    </tr>\n",
       "    <tr>\n",
       "      <th>2</th>\n",
       "      <td>1.944546</td>\n",
       "      <td>0.744536</td>\n",
       "      <td>0.740549</td>\n",
       "      <td>0.688892</td>\n",
       "    </tr>\n",
       "    <tr>\n",
       "      <th>3</th>\n",
       "      <td>-0.886259</td>\n",
       "      <td>0.149112</td>\n",
       "      <td>-0.526377</td>\n",
       "      <td>-0.606437</td>\n",
       "    </tr>\n",
       "    <tr>\n",
       "      <th>4</th>\n",
       "      <td>-0.649490</td>\n",
       "      <td>1.571575</td>\n",
       "      <td>-0.694005</td>\n",
       "      <td>0.018364</td>\n",
       "    </tr>\n",
       "    <tr>\n",
       "      <th>5</th>\n",
       "      <td>-0.331706</td>\n",
       "      <td>-1.320933</td>\n",
       "      <td>-0.813064</td>\n",
       "      <td>0.914988</td>\n",
       "    </tr>\n",
       "  </tbody>\n",
       "</table>\n",
       "</div>"
      ],
      "text/plain": [
       "          0         1         2         3\n",
       "0 -1.917940 -0.365382  1.332081 -0.082032\n",
       "1  1.840850 -0.778908 -0.039185 -0.933776\n",
       "2  1.944546  0.744536  0.740549  0.688892\n",
       "3 -0.886259  0.149112 -0.526377 -0.606437\n",
       "4 -0.649490  1.571575 -0.694005  0.018364\n",
       "5 -0.331706 -1.320933 -0.813064  0.914988"
      ]
     },
     "execution_count": 46,
     "metadata": {},
     "output_type": "execute_result"
    }
   ],
   "source": [
    "pd.DataFrame(u @ sigma)"
   ]
  },
  {
   "cell_type": "code",
   "execution_count": 47,
   "metadata": {},
   "outputs": [
    {
     "data": {
      "text/html": [
       "<div>\n",
       "<style scoped>\n",
       "    .dataframe tbody tr th:only-of-type {\n",
       "        vertical-align: middle;\n",
       "    }\n",
       "\n",
       "    .dataframe tbody tr th {\n",
       "        vertical-align: top;\n",
       "    }\n",
       "\n",
       "    .dataframe thead th {\n",
       "        text-align: right;\n",
       "    }\n",
       "</style>\n",
       "<table border=\"1\" class=\"dataframe\">\n",
       "  <thead>\n",
       "    <tr style=\"text-align: right;\">\n",
       "      <th></th>\n",
       "      <th>0</th>\n",
       "      <th>1</th>\n",
       "      <th>2</th>\n",
       "      <th>3</th>\n",
       "    </tr>\n",
       "  </thead>\n",
       "  <tbody>\n",
       "    <tr>\n",
       "      <th>0</th>\n",
       "      <td>-1.917940</td>\n",
       "      <td>-0.365382</td>\n",
       "      <td>1.332081</td>\n",
       "      <td>-0.082032</td>\n",
       "    </tr>\n",
       "    <tr>\n",
       "      <th>1</th>\n",
       "      <td>1.840850</td>\n",
       "      <td>-0.778908</td>\n",
       "      <td>-0.039185</td>\n",
       "      <td>-0.933776</td>\n",
       "    </tr>\n",
       "    <tr>\n",
       "      <th>2</th>\n",
       "      <td>1.944546</td>\n",
       "      <td>0.744536</td>\n",
       "      <td>0.740549</td>\n",
       "      <td>0.688892</td>\n",
       "    </tr>\n",
       "    <tr>\n",
       "      <th>3</th>\n",
       "      <td>-0.886259</td>\n",
       "      <td>0.149112</td>\n",
       "      <td>-0.526377</td>\n",
       "      <td>-0.606437</td>\n",
       "    </tr>\n",
       "    <tr>\n",
       "      <th>4</th>\n",
       "      <td>-0.649490</td>\n",
       "      <td>1.571575</td>\n",
       "      <td>-0.694005</td>\n",
       "      <td>0.018364</td>\n",
       "    </tr>\n",
       "    <tr>\n",
       "      <th>5</th>\n",
       "      <td>-0.331706</td>\n",
       "      <td>-1.320933</td>\n",
       "      <td>-0.813064</td>\n",
       "      <td>0.914988</td>\n",
       "    </tr>\n",
       "  </tbody>\n",
       "</table>\n",
       "</div>"
      ],
      "text/plain": [
       "          0         1         2         3\n",
       "0 -1.917940 -0.365382  1.332081 -0.082032\n",
       "1  1.840850 -0.778908 -0.039185 -0.933776\n",
       "2  1.944546  0.744536  0.740549  0.688892\n",
       "3 -0.886259  0.149112 -0.526377 -0.606437\n",
       "4 -0.649490  1.571575 -0.694005  0.018364\n",
       "5 -0.331706 -1.320933 -0.813064  0.914988"
      ]
     },
     "execution_count": 47,
     "metadata": {},
     "output_type": "execute_result"
    }
   ],
   "source": [
    "toy_df_nrm @ vt.T"
   ]
  },
  {
   "cell_type": "markdown",
   "metadata": {},
   "source": [
    "#### **Bingo!! All the above matched..**"
   ]
  },
  {
   "cell_type": "markdown",
   "metadata": {},
   "source": [
    "## ***Hence, the Principal components returned by PCA are nothing but the dot product of `u` and `sigma` where `sigma` are the `Eigen values` also stored in `singular_values_` and `u` is the nxn matrix.***"
   ]
  },
  {
   "cell_type": "markdown",
   "metadata": {},
   "source": [
    "### **`PCA_on_IRIS_Dataset`**"
   ]
  },
  {
   "cell_type": "code",
   "execution_count": 48,
   "metadata": {},
   "outputs": [],
   "source": [
    "iris = load_iris()"
   ]
  },
  {
   "cell_type": "code",
   "execution_count": 49,
   "metadata": {},
   "outputs": [
    {
     "data": {
      "text/plain": [
       "(['sepal length (cm)',\n",
       "  'sepal width (cm)',\n",
       "  'petal length (cm)',\n",
       "  'petal width (cm)'],\n",
       " array(['setosa', 'versicolor', 'virginica'], dtype='<U10'),\n",
       " array([0, 0, 0, 0, 0, 0, 0, 0, 0, 0, 0, 0, 0, 0, 0, 0, 0, 0, 0, 0, 0, 0,\n",
       "        0, 0, 0, 0, 0, 0, 0, 0, 0, 0, 0, 0, 0, 0, 0, 0, 0, 0, 0, 0, 0, 0,\n",
       "        0, 0, 0, 0, 0, 0, 1, 1, 1, 1, 1, 1, 1, 1, 1, 1, 1, 1, 1, 1, 1, 1,\n",
       "        1, 1, 1, 1, 1, 1, 1, 1, 1, 1, 1, 1, 1, 1, 1, 1, 1, 1, 1, 1, 1, 1,\n",
       "        1, 1, 1, 1, 1, 1, 1, 1, 1, 1, 1, 1, 2, 2, 2, 2, 2, 2, 2, 2, 2, 2,\n",
       "        2, 2, 2, 2, 2, 2, 2, 2, 2, 2, 2, 2, 2, 2, 2, 2, 2, 2, 2, 2, 2, 2,\n",
       "        2, 2, 2, 2, 2, 2, 2, 2, 2, 2, 2, 2, 2, 2, 2, 2, 2, 2]))"
      ]
     },
     "execution_count": 49,
     "metadata": {},
     "output_type": "execute_result"
    }
   ],
   "source": [
    "iris.feature_names,iris.target_names,iris.target"
   ]
  },
  {
   "cell_type": "code",
   "execution_count": 50,
   "metadata": {},
   "outputs": [],
   "source": [
    "iris_df = pd.concat([pd.DataFrame(iris.data,columns=iris.feature_names),pd.DataFrame(iris.target,columns=['target'])],axis=1)"
   ]
  },
  {
   "cell_type": "code",
   "execution_count": 51,
   "metadata": {},
   "outputs": [
    {
     "data": {
      "text/html": [
       "<div>\n",
       "<style scoped>\n",
       "    .dataframe tbody tr th:only-of-type {\n",
       "        vertical-align: middle;\n",
       "    }\n",
       "\n",
       "    .dataframe tbody tr th {\n",
       "        vertical-align: top;\n",
       "    }\n",
       "\n",
       "    .dataframe thead th {\n",
       "        text-align: right;\n",
       "    }\n",
       "</style>\n",
       "<table border=\"1\" class=\"dataframe\">\n",
       "  <thead>\n",
       "    <tr style=\"text-align: right;\">\n",
       "      <th></th>\n",
       "      <th>sepal length (cm)</th>\n",
       "      <th>sepal width (cm)</th>\n",
       "      <th>petal length (cm)</th>\n",
       "      <th>petal width (cm)</th>\n",
       "      <th>target</th>\n",
       "    </tr>\n",
       "  </thead>\n",
       "  <tbody>\n",
       "    <tr>\n",
       "      <th>0</th>\n",
       "      <td>5.1</td>\n",
       "      <td>3.5</td>\n",
       "      <td>1.4</td>\n",
       "      <td>0.2</td>\n",
       "      <td>0</td>\n",
       "    </tr>\n",
       "    <tr>\n",
       "      <th>1</th>\n",
       "      <td>4.9</td>\n",
       "      <td>3.0</td>\n",
       "      <td>1.4</td>\n",
       "      <td>0.2</td>\n",
       "      <td>0</td>\n",
       "    </tr>\n",
       "    <tr>\n",
       "      <th>2</th>\n",
       "      <td>4.7</td>\n",
       "      <td>3.2</td>\n",
       "      <td>1.3</td>\n",
       "      <td>0.2</td>\n",
       "      <td>0</td>\n",
       "    </tr>\n",
       "    <tr>\n",
       "      <th>3</th>\n",
       "      <td>4.6</td>\n",
       "      <td>3.1</td>\n",
       "      <td>1.5</td>\n",
       "      <td>0.2</td>\n",
       "      <td>0</td>\n",
       "    </tr>\n",
       "    <tr>\n",
       "      <th>4</th>\n",
       "      <td>5.0</td>\n",
       "      <td>3.6</td>\n",
       "      <td>1.4</td>\n",
       "      <td>0.2</td>\n",
       "      <td>0</td>\n",
       "    </tr>\n",
       "  </tbody>\n",
       "</table>\n",
       "</div>"
      ],
      "text/plain": [
       "   sepal length (cm)  sepal width (cm)  petal length (cm)  petal width (cm)  \\\n",
       "0                5.1               3.5                1.4               0.2   \n",
       "1                4.9               3.0                1.4               0.2   \n",
       "2                4.7               3.2                1.3               0.2   \n",
       "3                4.6               3.1                1.5               0.2   \n",
       "4                5.0               3.6                1.4               0.2   \n",
       "\n",
       "   target  \n",
       "0       0  \n",
       "1       0  \n",
       "2       0  \n",
       "3       0  \n",
       "4       0  "
      ]
     },
     "execution_count": 51,
     "metadata": {},
     "output_type": "execute_result"
    }
   ],
   "source": [
    "iris_df.head()"
   ]
  },
  {
   "cell_type": "code",
   "execution_count": 52,
   "metadata": {},
   "outputs": [],
   "source": [
    "class_label = {0:'iris-setosa',1:'iris-versicolor',2:'iris-virginica'}"
   ]
  },
  {
   "cell_type": "code",
   "execution_count": 53,
   "metadata": {},
   "outputs": [],
   "source": [
    "iris_df['target'] = iris_df['target'].map(lambda row: class_label[row])"
   ]
  },
  {
   "cell_type": "code",
   "execution_count": 54,
   "metadata": {},
   "outputs": [
    {
     "data": {
      "text/html": [
       "<div>\n",
       "<style scoped>\n",
       "    .dataframe tbody tr th:only-of-type {\n",
       "        vertical-align: middle;\n",
       "    }\n",
       "\n",
       "    .dataframe tbody tr th {\n",
       "        vertical-align: top;\n",
       "    }\n",
       "\n",
       "    .dataframe thead th {\n",
       "        text-align: right;\n",
       "    }\n",
       "</style>\n",
       "<table border=\"1\" class=\"dataframe\">\n",
       "  <thead>\n",
       "    <tr style=\"text-align: right;\">\n",
       "      <th></th>\n",
       "      <th>sepal length (cm)</th>\n",
       "      <th>sepal width (cm)</th>\n",
       "      <th>petal length (cm)</th>\n",
       "      <th>petal width (cm)</th>\n",
       "      <th>target</th>\n",
       "    </tr>\n",
       "  </thead>\n",
       "  <tbody>\n",
       "    <tr>\n",
       "      <th>0</th>\n",
       "      <td>5.1</td>\n",
       "      <td>3.5</td>\n",
       "      <td>1.4</td>\n",
       "      <td>0.2</td>\n",
       "      <td>iris-setosa</td>\n",
       "    </tr>\n",
       "    <tr>\n",
       "      <th>1</th>\n",
       "      <td>4.9</td>\n",
       "      <td>3.0</td>\n",
       "      <td>1.4</td>\n",
       "      <td>0.2</td>\n",
       "      <td>iris-setosa</td>\n",
       "    </tr>\n",
       "    <tr>\n",
       "      <th>2</th>\n",
       "      <td>4.7</td>\n",
       "      <td>3.2</td>\n",
       "      <td>1.3</td>\n",
       "      <td>0.2</td>\n",
       "      <td>iris-setosa</td>\n",
       "    </tr>\n",
       "    <tr>\n",
       "      <th>3</th>\n",
       "      <td>4.6</td>\n",
       "      <td>3.1</td>\n",
       "      <td>1.5</td>\n",
       "      <td>0.2</td>\n",
       "      <td>iris-setosa</td>\n",
       "    </tr>\n",
       "    <tr>\n",
       "      <th>4</th>\n",
       "      <td>5.0</td>\n",
       "      <td>3.6</td>\n",
       "      <td>1.4</td>\n",
       "      <td>0.2</td>\n",
       "      <td>iris-setosa</td>\n",
       "    </tr>\n",
       "  </tbody>\n",
       "</table>\n",
       "</div>"
      ],
      "text/plain": [
       "   sepal length (cm)  sepal width (cm)  petal length (cm)  petal width (cm)  \\\n",
       "0                5.1               3.5                1.4               0.2   \n",
       "1                4.9               3.0                1.4               0.2   \n",
       "2                4.7               3.2                1.3               0.2   \n",
       "3                4.6               3.1                1.5               0.2   \n",
       "4                5.0               3.6                1.4               0.2   \n",
       "\n",
       "        target  \n",
       "0  iris-setosa  \n",
       "1  iris-setosa  \n",
       "2  iris-setosa  \n",
       "3  iris-setosa  \n",
       "4  iris-setosa  "
      ]
     },
     "execution_count": 54,
     "metadata": {},
     "output_type": "execute_result"
    }
   ],
   "source": [
    "iris_df.head(5)"
   ]
  },
  {
   "cell_type": "code",
   "execution_count": 55,
   "metadata": {},
   "outputs": [
    {
     "data": {
      "text/plain": [
       "(150, 5)"
      ]
     },
     "execution_count": 55,
     "metadata": {},
     "output_type": "execute_result"
    }
   ],
   "source": [
    "iris_df.shape"
   ]
  },
  {
   "cell_type": "code",
   "execution_count": 56,
   "metadata": {},
   "outputs": [
    {
     "data": {
      "text/plain": [
       "iris-versicolor    50\n",
       "iris-virginica     50\n",
       "iris-setosa        50\n",
       "Name: target, dtype: int64"
      ]
     },
     "execution_count": 56,
     "metadata": {},
     "output_type": "execute_result"
    }
   ],
   "source": [
    "iris_df['target'].value_counts()"
   ]
  },
  {
   "cell_type": "code",
   "execution_count": 57,
   "metadata": {},
   "outputs": [
    {
     "data": {
      "image/png": "[encoded data removed]",
      "text/plain": [
       "<Figure size 823.25x720 with 20 Axes>"
      ]
     },
     "metadata": {
      "needs_background": "light"
     },
     "output_type": "display_data"
    }
   ],
   "source": [
    "sns.pairplot(data=iris_df,hue='target',diag_kind='kde');   ## One way of visualizing higher dimensions data in 2-D scatter plots"
   ]
  },
  {
   "cell_type": "code",
   "execution_count": 58,
   "metadata": {},
   "outputs": [],
   "source": [
    "iris_st_df = pd.concat([pd.DataFrame(ss.fit_transform(iris_df.iloc[:,0:4]),columns=iris.feature_names),iris_df['target']],axis=1)"
   ]
  },
  {
   "cell_type": "code",
   "execution_count": 59,
   "metadata": {},
   "outputs": [
    {
     "data": {
      "text/html": [
       "<div>\n",
       "<style scoped>\n",
       "    .dataframe tbody tr th:only-of-type {\n",
       "        vertical-align: middle;\n",
       "    }\n",
       "\n",
       "    .dataframe tbody tr th {\n",
       "        vertical-align: top;\n",
       "    }\n",
       "\n",
       "    .dataframe thead th {\n",
       "        text-align: right;\n",
       "    }\n",
       "</style>\n",
       "<table border=\"1\" class=\"dataframe\">\n",
       "  <thead>\n",
       "    <tr style=\"text-align: right;\">\n",
       "      <th></th>\n",
       "      <th>sepal length (cm)</th>\n",
       "      <th>sepal width (cm)</th>\n",
       "      <th>petal length (cm)</th>\n",
       "      <th>petal width (cm)</th>\n",
       "      <th>target</th>\n",
       "    </tr>\n",
       "  </thead>\n",
       "  <tbody>\n",
       "    <tr>\n",
       "      <th>0</th>\n",
       "      <td>-0.900681</td>\n",
       "      <td>1.019004</td>\n",
       "      <td>-1.340227</td>\n",
       "      <td>-1.315444</td>\n",
       "      <td>iris-setosa</td>\n",
       "    </tr>\n",
       "    <tr>\n",
       "      <th>1</th>\n",
       "      <td>-1.143017</td>\n",
       "      <td>-0.131979</td>\n",
       "      <td>-1.340227</td>\n",
       "      <td>-1.315444</td>\n",
       "      <td>iris-setosa</td>\n",
       "    </tr>\n",
       "    <tr>\n",
       "      <th>2</th>\n",
       "      <td>-1.385353</td>\n",
       "      <td>0.328414</td>\n",
       "      <td>-1.397064</td>\n",
       "      <td>-1.315444</td>\n",
       "      <td>iris-setosa</td>\n",
       "    </tr>\n",
       "    <tr>\n",
       "      <th>3</th>\n",
       "      <td>-1.506521</td>\n",
       "      <td>0.098217</td>\n",
       "      <td>-1.283389</td>\n",
       "      <td>-1.315444</td>\n",
       "      <td>iris-setosa</td>\n",
       "    </tr>\n",
       "    <tr>\n",
       "      <th>4</th>\n",
       "      <td>-1.021849</td>\n",
       "      <td>1.249201</td>\n",
       "      <td>-1.340227</td>\n",
       "      <td>-1.315444</td>\n",
       "      <td>iris-setosa</td>\n",
       "    </tr>\n",
       "  </tbody>\n",
       "</table>\n",
       "</div>"
      ],
      "text/plain": [
       "   sepal length (cm)  sepal width (cm)  petal length (cm)  petal width (cm)  \\\n",
       "0          -0.900681          1.019004          -1.340227         -1.315444   \n",
       "1          -1.143017         -0.131979          -1.340227         -1.315444   \n",
       "2          -1.385353          0.328414          -1.397064         -1.315444   \n",
       "3          -1.506521          0.098217          -1.283389         -1.315444   \n",
       "4          -1.021849          1.249201          -1.340227         -1.315444   \n",
       "\n",
       "        target  \n",
       "0  iris-setosa  \n",
       "1  iris-setosa  \n",
       "2  iris-setosa  \n",
       "3  iris-setosa  \n",
       "4  iris-setosa  "
      ]
     },
     "execution_count": 59,
     "metadata": {},
     "output_type": "execute_result"
    }
   ],
   "source": [
    "iris_st_df.head()"
   ]
  },
  {
   "cell_type": "markdown",
   "metadata": {},
   "source": [
    "##### **Before applying PCA, the first step is to standardized the dataset column-wise with mean as 0 and variance as 1.**"
   ]
  },
  {
   "cell_type": "code",
   "execution_count": 60,
   "metadata": {},
   "outputs": [
    {
     "data": {
      "image/png": "[encoded data removed]",
      "text/plain": [
       "<Figure size 823.25x720 with 20 Axes>"
      ]
     },
     "metadata": {
      "needs_background": "light"
     },
     "output_type": "display_data"
    }
   ],
   "source": [
    "sns.pairplot(data=iris_st_df,hue='target');  ## Standardizing doesn't affect the representation of data points"
   ]
  },
  {
   "cell_type": "code",
   "execution_count": 61,
   "metadata": {},
   "outputs": [],
   "source": [
    "from sklearn.decomposition import PCA"
   ]
  },
  {
   "cell_type": "code",
   "execution_count": 62,
   "metadata": {},
   "outputs": [],
   "source": [
    "pca2 = PCA()"
   ]
  },
  {
   "cell_type": "code",
   "execution_count": 63,
   "metadata": {},
   "outputs": [],
   "source": [
    "pca_comps = pd.DataFrame(pca2.fit_transform(iris_st_df.iloc[:,0:4]),columns=['PC1','PC2','PC3','PC4'])"
   ]
  },
  {
   "cell_type": "code",
   "execution_count": 64,
   "metadata": {},
   "outputs": [
    {
     "data": {
      "text/html": [
       "<div>\n",
       "<style scoped>\n",
       "    .dataframe tbody tr th:only-of-type {\n",
       "        vertical-align: middle;\n",
       "    }\n",
       "\n",
       "    .dataframe tbody tr th {\n",
       "        vertical-align: top;\n",
       "    }\n",
       "\n",
       "    .dataframe thead th {\n",
       "        text-align: right;\n",
       "    }\n",
       "</style>\n",
       "<table border=\"1\" class=\"dataframe\">\n",
       "  <thead>\n",
       "    <tr style=\"text-align: right;\">\n",
       "      <th></th>\n",
       "      <th>PC1</th>\n",
       "      <th>PC2</th>\n",
       "      <th>PC3</th>\n",
       "      <th>PC4</th>\n",
       "    </tr>\n",
       "  </thead>\n",
       "  <tbody>\n",
       "    <tr>\n",
       "      <th>0</th>\n",
       "      <td>-2.264703</td>\n",
       "      <td>0.480027</td>\n",
       "      <td>-0.127706</td>\n",
       "      <td>-0.024168</td>\n",
       "    </tr>\n",
       "    <tr>\n",
       "      <th>1</th>\n",
       "      <td>-2.080961</td>\n",
       "      <td>-0.674134</td>\n",
       "      <td>-0.234609</td>\n",
       "      <td>-0.103007</td>\n",
       "    </tr>\n",
       "    <tr>\n",
       "      <th>2</th>\n",
       "      <td>-2.364229</td>\n",
       "      <td>-0.341908</td>\n",
       "      <td>0.044201</td>\n",
       "      <td>-0.028377</td>\n",
       "    </tr>\n",
       "    <tr>\n",
       "      <th>3</th>\n",
       "      <td>-2.299384</td>\n",
       "      <td>-0.597395</td>\n",
       "      <td>0.091290</td>\n",
       "      <td>0.065956</td>\n",
       "    </tr>\n",
       "    <tr>\n",
       "      <th>4</th>\n",
       "      <td>-2.389842</td>\n",
       "      <td>0.646835</td>\n",
       "      <td>0.015738</td>\n",
       "      <td>0.035923</td>\n",
       "    </tr>\n",
       "  </tbody>\n",
       "</table>\n",
       "</div>"
      ],
      "text/plain": [
       "        PC1       PC2       PC3       PC4\n",
       "0 -2.264703  0.480027 -0.127706 -0.024168\n",
       "1 -2.080961 -0.674134 -0.234609 -0.103007\n",
       "2 -2.364229 -0.341908  0.044201 -0.028377\n",
       "3 -2.299384 -0.597395  0.091290  0.065956\n",
       "4 -2.389842  0.646835  0.015738  0.035923"
      ]
     },
     "execution_count": 64,
     "metadata": {},
     "output_type": "execute_result"
    }
   ],
   "source": [
    "pca_comps.head()"
   ]
  },
  {
   "cell_type": "markdown",
   "metadata": {},
   "source": [
    "### **Variances of the components**"
   ]
  },
  {
   "cell_type": "code",
   "execution_count": 65,
   "metadata": {},
   "outputs": [
    {
     "data": {
      "text/plain": [
       "array([2.93808505, 0.9201649 , 0.14774182, 0.02085386])"
      ]
     },
     "execution_count": 65,
     "metadata": {},
     "output_type": "execute_result"
    }
   ],
   "source": [
    "pca2.explained_variance_      ## Variances of generated components"
   ]
  },
  {
   "cell_type": "code",
   "execution_count": 66,
   "metadata": {},
   "outputs": [
    {
     "name": "stdout",
     "output_type": "stream",
     "text": [
      "2.938085050199999\n",
      "0.9201649041624874\n",
      "0.14774182104494815\n",
      "0.020853862176462293\n"
     ]
    }
   ],
   "source": [
    "## ## Manual calculation :: Unbiased variance of components\n",
    "print(np.var(pca_comps['PC1'],ddof=1),\n",
    "np.var(pca_comps['PC2'],ddof=1),\n",
    "np.var(pca_comps['PC3'],ddof=1),\n",
    "np.var(pca_comps['PC4'],ddof=1),sep='\\n')"
   ]
  },
  {
   "cell_type": "markdown",
   "metadata": {},
   "source": [
    "### **Percentage of variations explained by components**"
   ]
  },
  {
   "cell_type": "code",
   "execution_count": 67,
   "metadata": {},
   "outputs": [
    {
     "data": {
      "text/plain": [
       "array([0.72962445, 0.22850762, 0.03668922, 0.00517871])"
      ]
     },
     "execution_count": 67,
     "metadata": {},
     "output_type": "execute_result"
    }
   ],
   "source": [
    "## Percentage of variation explained by every component\n",
    "pca2.explained_variance_ratio_"
   ]
  },
  {
   "cell_type": "code",
   "execution_count": 68,
   "metadata": {},
   "outputs": [
    {
     "data": {
      "text/plain": [
       "3.999999999999999"
      ]
     },
     "execution_count": 68,
     "metadata": {},
     "output_type": "execute_result"
    }
   ],
   "source": [
    "## Sum of variances in the features post normalizing\n",
    "var_sum_feat = np.var(iris_st_df).sum()\n",
    "var_sum_feat"
   ]
  },
  {
   "cell_type": "code",
   "execution_count": 69,
   "metadata": {},
   "outputs": [
    {
     "name": "stdout",
     "output_type": "stream",
     "text": [
      "0.7296244541329998\n",
      "0.2285076178670178\n",
      "0.03668921889282879\n",
      "0.005178709107154803\n"
     ]
    }
   ],
   "source": [
    "## Manual calculation :: Percentage of variations explained by components\n",
    "print(np.var(pca_comps['PC1'],ddof=0)/var_sum_feat,\n",
    "np.var(pca_comps['PC2'],ddof=0)/var_sum_feat,\n",
    "np.var(pca_comps['PC3'],ddof=0)/var_sum_feat,\n",
    "np.var(pca_comps['PC4'],ddof=0)/var_sum_feat,sep='\\n')"
   ]
  },
  {
   "cell_type": "markdown",
   "metadata": {},
   "source": [
    "#### **Scree Plot :: Displays the percentage of variation explained by each component**"
   ]
  },
  {
   "cell_type": "code",
   "execution_count": 70,
   "metadata": {},
   "outputs": [],
   "source": [
    "var_ratio = np.round(pca2.explained_variance_ratio_*100,2)"
   ]
  },
  {
   "cell_type": "code",
   "execution_count": 71,
   "metadata": {},
   "outputs": [
    {
     "data": {
      "text/plain": [
       "array([72.96, 22.85,  3.67,  0.52])"
      ]
     },
     "execution_count": 71,
     "metadata": {},
     "output_type": "execute_result"
    }
   ],
   "source": [
    "var_ratio"
   ]
  },
  {
   "cell_type": "code",
   "execution_count": 72,
   "metadata": {},
   "outputs": [],
   "source": [
    "var_ratio_labels = ['PC'+str(x) for x in range(1,len(var_ratio)+1)]"
   ]
  },
  {
   "cell_type": "code",
   "execution_count": 73,
   "metadata": {},
   "outputs": [
    {
     "data": {
      "text/plain": [
       "['PC1', 'PC2', 'PC3', 'PC4']"
      ]
     },
     "execution_count": 73,
     "metadata": {},
     "output_type": "execute_result"
    }
   ],
   "source": [
    "var_ratio_labels"
   ]
  },
  {
   "cell_type": "code",
   "execution_count": 74,
   "metadata": {},
   "outputs": [
    {
     "data": {
      "image/png": "[encoded data removed]",
      "text/plain": [
       "<Figure size 432x360 with 1 Axes>"
      ]
     },
     "metadata": {
      "needs_background": "light"
     },
     "output_type": "display_data"
    }
   ],
   "source": [
    "with plt.style.context('seaborn-poster'):\n",
    "    plt.figure(figsize=(6,5))\n",
    "    sns.barplot(x=var_ratio_labels,y=var_ratio)\n",
    "    plt.xlabel('PCA -- Components',fontdict={'size':16,'family':'calibri'})\n",
    "    plt.ylabel('Percentage of variation explained',fontdict={'size':16,'family':'calibri'})\n",
    "    plt.show()"
   ]
  },
  {
   "cell_type": "markdown",
   "metadata": {},
   "source": [
    "##### **I'll go ahead with PC1 and PC2 which covers 95% of the variation so the loss of only 5% information.**"
   ]
  },
  {
   "cell_type": "code",
   "execution_count": 75,
   "metadata": {},
   "outputs": [],
   "source": [
    "iris_pca_comp = pd.DataFrame(pca2.fit_transform(iris_st_df.iloc[:,0:4]),columns=['Component1','Component2','Component3','Component4'])"
   ]
  },
  {
   "cell_type": "code",
   "execution_count": 76,
   "metadata": {},
   "outputs": [
    {
     "data": {
      "text/html": [
       "<div>\n",
       "<style scoped>\n",
       "    .dataframe tbody tr th:only-of-type {\n",
       "        vertical-align: middle;\n",
       "    }\n",
       "\n",
       "    .dataframe tbody tr th {\n",
       "        vertical-align: top;\n",
       "    }\n",
       "\n",
       "    .dataframe thead th {\n",
       "        text-align: right;\n",
       "    }\n",
       "</style>\n",
       "<table border=\"1\" class=\"dataframe\">\n",
       "  <thead>\n",
       "    <tr style=\"text-align: right;\">\n",
       "      <th></th>\n",
       "      <th>Component1</th>\n",
       "      <th>Component2</th>\n",
       "      <th>Component3</th>\n",
       "      <th>Component4</th>\n",
       "    </tr>\n",
       "  </thead>\n",
       "  <tbody>\n",
       "    <tr>\n",
       "      <th>0</th>\n",
       "      <td>-2.264703</td>\n",
       "      <td>0.480027</td>\n",
       "      <td>-0.127706</td>\n",
       "      <td>-0.024168</td>\n",
       "    </tr>\n",
       "    <tr>\n",
       "      <th>1</th>\n",
       "      <td>-2.080961</td>\n",
       "      <td>-0.674134</td>\n",
       "      <td>-0.234609</td>\n",
       "      <td>-0.103007</td>\n",
       "    </tr>\n",
       "    <tr>\n",
       "      <th>2</th>\n",
       "      <td>-2.364229</td>\n",
       "      <td>-0.341908</td>\n",
       "      <td>0.044201</td>\n",
       "      <td>-0.028377</td>\n",
       "    </tr>\n",
       "    <tr>\n",
       "      <th>3</th>\n",
       "      <td>-2.299384</td>\n",
       "      <td>-0.597395</td>\n",
       "      <td>0.091290</td>\n",
       "      <td>0.065956</td>\n",
       "    </tr>\n",
       "    <tr>\n",
       "      <th>4</th>\n",
       "      <td>-2.389842</td>\n",
       "      <td>0.646835</td>\n",
       "      <td>0.015738</td>\n",
       "      <td>0.035923</td>\n",
       "    </tr>\n",
       "  </tbody>\n",
       "</table>\n",
       "</div>"
      ],
      "text/plain": [
       "   Component1  Component2  Component3  Component4\n",
       "0   -2.264703    0.480027   -0.127706   -0.024168\n",
       "1   -2.080961   -0.674134   -0.234609   -0.103007\n",
       "2   -2.364229   -0.341908    0.044201   -0.028377\n",
       "3   -2.299384   -0.597395    0.091290    0.065956\n",
       "4   -2.389842    0.646835    0.015738    0.035923"
      ]
     },
     "execution_count": 76,
     "metadata": {},
     "output_type": "execute_result"
    }
   ],
   "source": [
    "iris_pca_comp.head()"
   ]
  },
  {
   "cell_type": "code",
   "execution_count": 77,
   "metadata": {},
   "outputs": [
    {
     "data": {
      "text/plain": [
       "(150, 4)"
      ]
     },
     "execution_count": 77,
     "metadata": {},
     "output_type": "execute_result"
    }
   ],
   "source": [
    "iris_pca_comp.shape"
   ]
  },
  {
   "cell_type": "code",
   "execution_count": 78,
   "metadata": {},
   "outputs": [],
   "source": [
    "iris_pca_comp = pd.concat([iris_pca_comp,iris_st_df['target']],axis=1)"
   ]
  },
  {
   "cell_type": "code",
   "execution_count": 79,
   "metadata": {},
   "outputs": [
    {
     "data": {
      "text/html": [
       "<div>\n",
       "<style scoped>\n",
       "    .dataframe tbody tr th:only-of-type {\n",
       "        vertical-align: middle;\n",
       "    }\n",
       "\n",
       "    .dataframe tbody tr th {\n",
       "        vertical-align: top;\n",
       "    }\n",
       "\n",
       "    .dataframe thead th {\n",
       "        text-align: right;\n",
       "    }\n",
       "</style>\n",
       "<table border=\"1\" class=\"dataframe\">\n",
       "  <thead>\n",
       "    <tr style=\"text-align: right;\">\n",
       "      <th></th>\n",
       "      <th>Component1</th>\n",
       "      <th>Component2</th>\n",
       "      <th>Component3</th>\n",
       "      <th>Component4</th>\n",
       "      <th>target</th>\n",
       "    </tr>\n",
       "  </thead>\n",
       "  <tbody>\n",
       "    <tr>\n",
       "      <th>0</th>\n",
       "      <td>-2.264703</td>\n",
       "      <td>0.480027</td>\n",
       "      <td>-0.127706</td>\n",
       "      <td>-0.024168</td>\n",
       "      <td>iris-setosa</td>\n",
       "    </tr>\n",
       "    <tr>\n",
       "      <th>1</th>\n",
       "      <td>-2.080961</td>\n",
       "      <td>-0.674134</td>\n",
       "      <td>-0.234609</td>\n",
       "      <td>-0.103007</td>\n",
       "      <td>iris-setosa</td>\n",
       "    </tr>\n",
       "    <tr>\n",
       "      <th>2</th>\n",
       "      <td>-2.364229</td>\n",
       "      <td>-0.341908</td>\n",
       "      <td>0.044201</td>\n",
       "      <td>-0.028377</td>\n",
       "      <td>iris-setosa</td>\n",
       "    </tr>\n",
       "    <tr>\n",
       "      <th>3</th>\n",
       "      <td>-2.299384</td>\n",
       "      <td>-0.597395</td>\n",
       "      <td>0.091290</td>\n",
       "      <td>0.065956</td>\n",
       "      <td>iris-setosa</td>\n",
       "    </tr>\n",
       "    <tr>\n",
       "      <th>4</th>\n",
       "      <td>-2.389842</td>\n",
       "      <td>0.646835</td>\n",
       "      <td>0.015738</td>\n",
       "      <td>0.035923</td>\n",
       "      <td>iris-setosa</td>\n",
       "    </tr>\n",
       "  </tbody>\n",
       "</table>\n",
       "</div>"
      ],
      "text/plain": [
       "   Component1  Component2  Component3  Component4       target\n",
       "0   -2.264703    0.480027   -0.127706   -0.024168  iris-setosa\n",
       "1   -2.080961   -0.674134   -0.234609   -0.103007  iris-setosa\n",
       "2   -2.364229   -0.341908    0.044201   -0.028377  iris-setosa\n",
       "3   -2.299384   -0.597395    0.091290    0.065956  iris-setosa\n",
       "4   -2.389842    0.646835    0.015738    0.035923  iris-setosa"
      ]
     },
     "execution_count": 79,
     "metadata": {},
     "output_type": "execute_result"
    }
   ],
   "source": [
    "iris_pca_comp.head()"
   ]
  },
  {
   "cell_type": "markdown",
   "metadata": {},
   "source": [
    "#### **Visualizing the dataset using the PCA components**"
   ]
  },
  {
   "cell_type": "code",
   "execution_count": 80,
   "metadata": {},
   "outputs": [
    {
     "data": {
      "image/png": "[encoded data removed]",
      "text/plain": [
       "<Figure size 864x504 with 1 Axes>"
      ]
     },
     "metadata": {
      "needs_background": "light"
     },
     "output_type": "display_data"
    }
   ],
   "source": [
    "with plt.style.context('seaborn-poster'):\n",
    "    plt.figure(figsize=(12,7))\n",
    "    sns.scatterplot(x='Component1',y='Component2',data=iris_pca_comp,hue='target');"
   ]
  },
  {
   "cell_type": "markdown",
   "metadata": {},
   "source": [
    "## **`Ways_of_generating_Symmetric_Matrix`**"
   ]
  },
  {
   "cell_type": "code",
   "execution_count": 81,
   "metadata": {},
   "outputs": [],
   "source": [
    "cov_symm_matrix = pd.DataFrame(np.cov(iris_st_df.iloc[:,0:-1],rowvar=False))"
   ]
  },
  {
   "cell_type": "code",
   "execution_count": 82,
   "metadata": {},
   "outputs": [
    {
     "data": {
      "text/html": [
       "<div>\n",
       "<style scoped>\n",
       "    .dataframe tbody tr th:only-of-type {\n",
       "        vertical-align: middle;\n",
       "    }\n",
       "\n",
       "    .dataframe tbody tr th {\n",
       "        vertical-align: top;\n",
       "    }\n",
       "\n",
       "    .dataframe thead th {\n",
       "        text-align: right;\n",
       "    }\n",
       "</style>\n",
       "<table border=\"1\" class=\"dataframe\">\n",
       "  <thead>\n",
       "    <tr style=\"text-align: right;\">\n",
       "      <th></th>\n",
       "      <th>0</th>\n",
       "      <th>1</th>\n",
       "      <th>2</th>\n",
       "      <th>3</th>\n",
       "    </tr>\n",
       "  </thead>\n",
       "  <tbody>\n",
       "    <tr>\n",
       "      <th>0</th>\n",
       "      <td>1.006711</td>\n",
       "      <td>-0.118359</td>\n",
       "      <td>0.877604</td>\n",
       "      <td>0.823431</td>\n",
       "    </tr>\n",
       "    <tr>\n",
       "      <th>1</th>\n",
       "      <td>-0.118359</td>\n",
       "      <td>1.006711</td>\n",
       "      <td>-0.431316</td>\n",
       "      <td>-0.368583</td>\n",
       "    </tr>\n",
       "    <tr>\n",
       "      <th>2</th>\n",
       "      <td>0.877604</td>\n",
       "      <td>-0.431316</td>\n",
       "      <td>1.006711</td>\n",
       "      <td>0.969328</td>\n",
       "    </tr>\n",
       "    <tr>\n",
       "      <th>3</th>\n",
       "      <td>0.823431</td>\n",
       "      <td>-0.368583</td>\n",
       "      <td>0.969328</td>\n",
       "      <td>1.006711</td>\n",
       "    </tr>\n",
       "  </tbody>\n",
       "</table>\n",
       "</div>"
      ],
      "text/plain": [
       "          0         1         2         3\n",
       "0  1.006711 -0.118359  0.877604  0.823431\n",
       "1 -0.118359  1.006711 -0.431316 -0.368583\n",
       "2  0.877604 -0.431316  1.006711  0.969328\n",
       "3  0.823431 -0.368583  0.969328  1.006711"
      ]
     },
     "execution_count": 82,
     "metadata": {},
     "output_type": "execute_result"
    }
   ],
   "source": [
    "cov_symm_matrix"
   ]
  },
  {
   "cell_type": "markdown",
   "metadata": {},
   "source": [
    "##### **COV calculation ways**"
   ]
  },
  {
   "cell_type": "markdown",
   "metadata": {},
   "source": [
    "##### **Way-1**"
   ]
  },
  {
   "cell_type": "code",
   "execution_count": 83,
   "metadata": {},
   "outputs": [
    {
     "data": {
      "text/plain": [
       "array(1.00671141)"
      ]
     },
     "execution_count": 83,
     "metadata": {},
     "output_type": "execute_result"
    }
   ],
   "source": [
    "np.cov(iris_st_df.iloc[:,0])"
   ]
  },
  {
   "cell_type": "markdown",
   "metadata": {},
   "source": [
    "##### **Way-2**"
   ]
  },
  {
   "cell_type": "code",
   "execution_count": 84,
   "metadata": {},
   "outputs": [
    {
     "data": {
      "text/plain": [
       "1.006711409395973"
      ]
     },
     "execution_count": 84,
     "metadata": {},
     "output_type": "execute_result"
    }
   ],
   "source": [
    "np.var(iris_st_df.iloc[:,0],ddof=1)"
   ]
  },
  {
   "cell_type": "markdown",
   "metadata": {},
   "source": [
    "##### **Way-3**"
   ]
  },
  {
   "cell_type": "code",
   "execution_count": 85,
   "metadata": {},
   "outputs": [
    {
     "data": {
      "text/plain": [
       "array([[ 1.00671141, -0.11835884,  0.87760447,  0.82343066],\n",
       "       [-0.11835884,  1.00671141, -0.43131554, -0.36858315],\n",
       "       [ 0.87760447, -0.43131554,  1.00671141,  0.96932762],\n",
       "       [ 0.82343066, -0.36858315,  0.96932762,  1.00671141]])"
      ]
     },
     "execution_count": 85,
     "metadata": {},
     "output_type": "execute_result"
    }
   ],
   "source": [
    "np.dot((iris_st_df.iloc[:,0:-1].T),iris_st_df.iloc[:,0:-1])/(150-1)"
   ]
  },
  {
   "cell_type": "markdown",
   "metadata": {},
   "source": [
    "## ***LDA (Linear Discriminant Analysis)***"
   ]
  },
  {
   "cell_type": "code",
   "execution_count": 86,
   "metadata": {},
   "outputs": [],
   "source": [
    "from sklearn.discriminant_analysis import LinearDiscriminantAnalysis"
   ]
  },
  {
   "cell_type": "code",
   "execution_count": 87,
   "metadata": {},
   "outputs": [],
   "source": [
    "lda = LinearDiscriminantAnalysis(solver='eigen',shrinkage='auto',n_components=2)"
   ]
  },
  {
   "cell_type": "code",
   "execution_count": 88,
   "metadata": {},
   "outputs": [
    {
     "data": {
      "text/html": [
       "<div>\n",
       "<style scoped>\n",
       "    .dataframe tbody tr th:only-of-type {\n",
       "        vertical-align: middle;\n",
       "    }\n",
       "\n",
       "    .dataframe tbody tr th {\n",
       "        vertical-align: top;\n",
       "    }\n",
       "\n",
       "    .dataframe thead th {\n",
       "        text-align: right;\n",
       "    }\n",
       "</style>\n",
       "<table border=\"1\" class=\"dataframe\">\n",
       "  <thead>\n",
       "    <tr style=\"text-align: right;\">\n",
       "      <th></th>\n",
       "      <th>sepal length (cm)</th>\n",
       "      <th>sepal width (cm)</th>\n",
       "      <th>petal length (cm)</th>\n",
       "      <th>petal width (cm)</th>\n",
       "      <th>target</th>\n",
       "    </tr>\n",
       "  </thead>\n",
       "  <tbody>\n",
       "    <tr>\n",
       "      <th>0</th>\n",
       "      <td>5.1</td>\n",
       "      <td>3.5</td>\n",
       "      <td>1.4</td>\n",
       "      <td>0.2</td>\n",
       "      <td>iris-setosa</td>\n",
       "    </tr>\n",
       "    <tr>\n",
       "      <th>1</th>\n",
       "      <td>4.9</td>\n",
       "      <td>3.0</td>\n",
       "      <td>1.4</td>\n",
       "      <td>0.2</td>\n",
       "      <td>iris-setosa</td>\n",
       "    </tr>\n",
       "    <tr>\n",
       "      <th>2</th>\n",
       "      <td>4.7</td>\n",
       "      <td>3.2</td>\n",
       "      <td>1.3</td>\n",
       "      <td>0.2</td>\n",
       "      <td>iris-setosa</td>\n",
       "    </tr>\n",
       "    <tr>\n",
       "      <th>3</th>\n",
       "      <td>4.6</td>\n",
       "      <td>3.1</td>\n",
       "      <td>1.5</td>\n",
       "      <td>0.2</td>\n",
       "      <td>iris-setosa</td>\n",
       "    </tr>\n",
       "    <tr>\n",
       "      <th>4</th>\n",
       "      <td>5.0</td>\n",
       "      <td>3.6</td>\n",
       "      <td>1.4</td>\n",
       "      <td>0.2</td>\n",
       "      <td>iris-setosa</td>\n",
       "    </tr>\n",
       "  </tbody>\n",
       "</table>\n",
       "</div>"
      ],
      "text/plain": [
       "   sepal length (cm)  sepal width (cm)  petal length (cm)  petal width (cm)  \\\n",
       "0                5.1               3.5                1.4               0.2   \n",
       "1                4.9               3.0                1.4               0.2   \n",
       "2                4.7               3.2                1.3               0.2   \n",
       "3                4.6               3.1                1.5               0.2   \n",
       "4                5.0               3.6                1.4               0.2   \n",
       "\n",
       "        target  \n",
       "0  iris-setosa  \n",
       "1  iris-setosa  \n",
       "2  iris-setosa  \n",
       "3  iris-setosa  \n",
       "4  iris-setosa  "
      ]
     },
     "execution_count": 88,
     "metadata": {},
     "output_type": "execute_result"
    }
   ],
   "source": [
    "iris_df.head()"
   ]
  },
  {
   "cell_type": "code",
   "execution_count": 89,
   "metadata": {},
   "outputs": [],
   "source": [
    "xx = lda.fit_transform(iris_df.iloc[:,0:4],iris_df.iloc[:,-1])"
   ]
  },
  {
   "cell_type": "code",
   "execution_count": 90,
   "metadata": {},
   "outputs": [
    {
     "data": {
      "text/plain": [
       "((150, 5), (150, 2))"
      ]
     },
     "execution_count": 90,
     "metadata": {},
     "output_type": "execute_result"
    }
   ],
   "source": [
    "iris_df.shape, xx.shape"
   ]
  },
  {
   "cell_type": "code",
   "execution_count": 91,
   "metadata": {},
   "outputs": [
    {
     "data": {
      "text/html": [
       "<div>\n",
       "<style scoped>\n",
       "    .dataframe tbody tr th:only-of-type {\n",
       "        vertical-align: middle;\n",
       "    }\n",
       "\n",
       "    .dataframe tbody tr th {\n",
       "        vertical-align: top;\n",
       "    }\n",
       "\n",
       "    .dataframe thead th {\n",
       "        text-align: right;\n",
       "    }\n",
       "</style>\n",
       "<table border=\"1\" class=\"dataframe\">\n",
       "  <thead>\n",
       "    <tr style=\"text-align: right;\">\n",
       "      <th></th>\n",
       "      <th>Component1</th>\n",
       "      <th>Component2</th>\n",
       "      <th>target</th>\n",
       "    </tr>\n",
       "  </thead>\n",
       "  <tbody>\n",
       "    <tr>\n",
       "      <th>0</th>\n",
       "      <td>4.952996</td>\n",
       "      <td>3.499573</td>\n",
       "      <td>iris-setosa</td>\n",
       "    </tr>\n",
       "    <tr>\n",
       "      <th>1</th>\n",
       "      <td>4.068302</td>\n",
       "      <td>3.064113</td>\n",
       "      <td>iris-setosa</td>\n",
       "    </tr>\n",
       "    <tr>\n",
       "      <th>2</th>\n",
       "      <td>4.459593</td>\n",
       "      <td>3.260858</td>\n",
       "      <td>iris-setosa</td>\n",
       "    </tr>\n",
       "    <tr>\n",
       "      <th>3</th>\n",
       "      <td>3.854646</td>\n",
       "      <td>2.707845</td>\n",
       "      <td>iris-setosa</td>\n",
       "    </tr>\n",
       "    <tr>\n",
       "      <th>4</th>\n",
       "      <td>5.050185</td>\n",
       "      <td>3.491646</td>\n",
       "      <td>iris-setosa</td>\n",
       "    </tr>\n",
       "  </tbody>\n",
       "</table>\n",
       "</div>"
      ],
      "text/plain": [
       "   Component1  Component2       target\n",
       "0    4.952996    3.499573  iris-setosa\n",
       "1    4.068302    3.064113  iris-setosa\n",
       "2    4.459593    3.260858  iris-setosa\n",
       "3    3.854646    2.707845  iris-setosa\n",
       "4    5.050185    3.491646  iris-setosa"
      ]
     },
     "execution_count": 91,
     "metadata": {},
     "output_type": "execute_result"
    }
   ],
   "source": [
    "lda_op = pd.concat([pd.DataFrame(xx),iris_df.iloc[:,-1]],axis=1).rename(columns={0:'Component1',1:'Component2'})\n",
    "lda_op.head()"
   ]
  },
  {
   "cell_type": "code",
   "execution_count": 92,
   "metadata": {},
   "outputs": [
    {
     "data": {
      "image/png": "[encoded data removed]",
      "text/plain": [
       "<Figure size 864x504 with 1 Axes>"
      ]
     },
     "metadata": {
      "needs_background": "light"
     },
     "output_type": "display_data"
    }
   ],
   "source": [
    "with plt.style.context('seaborn-poster'):\n",
    "    plt.figure(figsize=(12,7))\n",
    "    sns.scatterplot(x='Component1',y='Component2',data=lda_op,hue='target');"
   ]
  },
  {
   "cell_type": "code",
   "execution_count": 93,
   "metadata": {},
   "outputs": [
    {
     "data": {
      "image/png": "[encoded data removed]",
      "text/plain": [
       "<Figure size 864x504 with 1 Axes>"
      ]
     },
     "metadata": {
      "needs_background": "light"
     },
     "output_type": "display_data"
    }
   ],
   "source": [
    "with plt.style.context('seaborn-poster'):\n",
    "    plt.figure(figsize=(12,7))\n",
    "    sns.scatterplot(x='Component1',y='Component2',data=iris_pca_comp,hue='target');"
   ]
  },
  {
   "cell_type": "code",
   "execution_count": 94,
   "metadata": {},
   "outputs": [
    {
     "data": {
      "text/plain": [
       "(array(['iris-setosa', 'iris-versicolor', 'iris-virginica'], dtype='<U15'),\n",
       " array([[ 20.16207805,  25.87554518, -11.15148795, -17.88698776],\n",
       "        [ 14.92037214,   9.4866362 ,   7.70061333,   6.76423777],\n",
       "        [ 12.82417218,   6.18543353,  14.27048671,  21.80739697]]),\n",
       " array([[0.259708  , 0.07630637, 0.14451524, 0.03316164],\n",
       "        [0.07630637, 0.11308   , 0.0478721 , 0.02810179],\n",
       "        [0.14451524, 0.0478721 , 0.181484  , 0.03726886],\n",
       "        [0.03316164, 0.02810179, 0.03726886, 0.041044  ]]),\n",
       " array([0.97875711, 0.01751255]),\n",
       " array([[5.006, 3.428, 1.462, 0.246],\n",
       "        [5.936, 2.77 , 4.26 , 1.326],\n",
       "        [6.588, 2.974, 5.552, 2.026]]))"
      ]
     },
     "execution_count": 94,
     "metadata": {},
     "output_type": "execute_result"
    }
   ],
   "source": [
    "lda.classes_, lda.coef_, lda.covariance_,lda.explained_variance_ratio_,lda.means_"
   ]
  },
  {
   "cell_type": "markdown",
   "metadata": {},
   "source": [
    "### **Which_technique_is_better_before_applying_PCA?**\n",
    "##### Standard Scaling or MinMax Scaling or L2 or L1 norm?"
   ]
  },
  {
   "cell_type": "markdown",
   "metadata": {},
   "source": [
    "https://www.researchgate.net/post/In_which_case_data_need_to_be_normalized_before_PCA_Cluster_analysis\n",
    "https://sebastianraschka.com/Articles/2014_about_feature_scaling.html#z-score-standardization-or-min-max-scaling"
   ]
  },
  {
   "cell_type": "code",
   "execution_count": 95,
   "metadata": {},
   "outputs": [
    {
     "data": {
      "text/html": [
       "<div>\n",
       "<style scoped>\n",
       "    .dataframe tbody tr th:only-of-type {\n",
       "        vertical-align: middle;\n",
       "    }\n",
       "\n",
       "    .dataframe tbody tr th {\n",
       "        vertical-align: top;\n",
       "    }\n",
       "\n",
       "    .dataframe thead th {\n",
       "        text-align: right;\n",
       "    }\n",
       "</style>\n",
       "<table border=\"1\" class=\"dataframe\">\n",
       "  <thead>\n",
       "    <tr style=\"text-align: right;\">\n",
       "      <th></th>\n",
       "      <th>A</th>\n",
       "      <th>B</th>\n",
       "    </tr>\n",
       "  </thead>\n",
       "  <tbody>\n",
       "    <tr>\n",
       "      <th>0</th>\n",
       "      <td>100</td>\n",
       "      <td>50</td>\n",
       "    </tr>\n",
       "    <tr>\n",
       "      <th>1</th>\n",
       "      <td>120</td>\n",
       "      <td>49</td>\n",
       "    </tr>\n",
       "    <tr>\n",
       "      <th>2</th>\n",
       "      <td>90</td>\n",
       "      <td>32</td>\n",
       "    </tr>\n",
       "    <tr>\n",
       "      <th>3</th>\n",
       "      <td>140</td>\n",
       "      <td>30</td>\n",
       "    </tr>\n",
       "    <tr>\n",
       "      <th>4</th>\n",
       "      <td>80</td>\n",
       "      <td>40</td>\n",
       "    </tr>\n",
       "    <tr>\n",
       "      <th>5</th>\n",
       "      <td>70</td>\n",
       "      <td>45</td>\n",
       "    </tr>\n",
       "    <tr>\n",
       "      <th>6</th>\n",
       "      <td>75</td>\n",
       "      <td>35</td>\n",
       "    </tr>\n",
       "    <tr>\n",
       "      <th>7</th>\n",
       "      <td>110</td>\n",
       "      <td>28</td>\n",
       "    </tr>\n",
       "    <tr>\n",
       "      <th>8</th>\n",
       "      <td>105</td>\n",
       "      <td>48</td>\n",
       "    </tr>\n",
       "    <tr>\n",
       "      <th>9</th>\n",
       "      <td>125</td>\n",
       "      <td>40</td>\n",
       "    </tr>\n",
       "    <tr>\n",
       "      <th>10</th>\n",
       "      <td>95</td>\n",
       "      <td>38</td>\n",
       "    </tr>\n",
       "    <tr>\n",
       "      <th>11</th>\n",
       "      <td>135</td>\n",
       "      <td>31</td>\n",
       "    </tr>\n",
       "  </tbody>\n",
       "</table>\n",
       "</div>"
      ],
      "text/plain": [
       "      A   B\n",
       "0   100  50\n",
       "1   120  49\n",
       "2    90  32\n",
       "3   140  30\n",
       "4    80  40\n",
       "5    70  45\n",
       "6    75  35\n",
       "7   110  28\n",
       "8   105  48\n",
       "9   125  40\n",
       "10   95  38\n",
       "11  135  31"
      ]
     },
     "execution_count": 95,
     "metadata": {},
     "output_type": "execute_result"
    }
   ],
   "source": [
    "## Preparaing a toy dataset\n",
    "A = [100,120,90,140,80,70,75,110,105,125,95,135]\n",
    "B = [50,49,32,30,40,45,35,28,48,40,38,31]\n",
    "\n",
    "df = pd.DataFrame(A)\n",
    "df = pd.concat([df,pd.DataFrame(B)],axis=1)\n",
    "df.columns = ['A','B']\n",
    "df"
   ]
  },
  {
   "cell_type": "code",
   "execution_count": 96,
   "metadata": {},
   "outputs": [],
   "source": [
    "from sklearn.preprocessing import StandardScaler, MinMaxScaler, Normalizer\n",
    "\n",
    "# Instantiating the scalers and normalizers\n",
    "ss = StandardScaler()\n",
    "mms = MinMaxScaler()\n",
    "nrm_l2 = Normalizer(norm='l2')\n",
    "nrm_l1 = Normalizer(norm='l1')"
   ]
  },
  {
   "cell_type": "markdown",
   "metadata": {},
   "source": [
    "##### **Standard Scaling**"
   ]
  },
  {
   "cell_type": "code",
   "execution_count": 97,
   "metadata": {},
   "outputs": [
    {
     "data": {
      "text/html": [
       "<div>\n",
       "<style scoped>\n",
       "    .dataframe tbody tr th:only-of-type {\n",
       "        vertical-align: middle;\n",
       "    }\n",
       "\n",
       "    .dataframe tbody tr th {\n",
       "        vertical-align: top;\n",
       "    }\n",
       "\n",
       "    .dataframe thead th {\n",
       "        text-align: right;\n",
       "    }\n",
       "</style>\n",
       "<table border=\"1\" class=\"dataframe\">\n",
       "  <thead>\n",
       "    <tr style=\"text-align: right;\">\n",
       "      <th></th>\n",
       "      <th>A</th>\n",
       "      <th>B</th>\n",
       "    </tr>\n",
       "  </thead>\n",
       "  <tbody>\n",
       "    <tr>\n",
       "      <th>0</th>\n",
       "      <td>-0.169751</td>\n",
       "      <td>1.492579</td>\n",
       "    </tr>\n",
       "    <tr>\n",
       "      <th>1</th>\n",
       "      <td>0.735587</td>\n",
       "      <td>1.358915</td>\n",
       "    </tr>\n",
       "    <tr>\n",
       "      <th>2</th>\n",
       "      <td>-0.622420</td>\n",
       "      <td>-0.913369</td>\n",
       "    </tr>\n",
       "    <tr>\n",
       "      <th>3</th>\n",
       "      <td>1.640925</td>\n",
       "      <td>-1.180697</td>\n",
       "    </tr>\n",
       "    <tr>\n",
       "      <th>4</th>\n",
       "      <td>-1.075089</td>\n",
       "      <td>0.155941</td>\n",
       "    </tr>\n",
       "    <tr>\n",
       "      <th>5</th>\n",
       "      <td>-1.527758</td>\n",
       "      <td>0.824260</td>\n",
       "    </tr>\n",
       "    <tr>\n",
       "      <th>6</th>\n",
       "      <td>-1.301424</td>\n",
       "      <td>-0.512378</td>\n",
       "    </tr>\n",
       "    <tr>\n",
       "      <th>7</th>\n",
       "      <td>0.282918</td>\n",
       "      <td>-1.448024</td>\n",
       "    </tr>\n",
       "    <tr>\n",
       "      <th>8</th>\n",
       "      <td>0.056584</td>\n",
       "      <td>1.225251</td>\n",
       "    </tr>\n",
       "    <tr>\n",
       "      <th>9</th>\n",
       "      <td>0.961922</td>\n",
       "      <td>0.155941</td>\n",
       "    </tr>\n",
       "    <tr>\n",
       "      <th>10</th>\n",
       "      <td>-0.396085</td>\n",
       "      <td>-0.111386</td>\n",
       "    </tr>\n",
       "    <tr>\n",
       "      <th>11</th>\n",
       "      <td>1.414591</td>\n",
       "      <td>-1.047033</td>\n",
       "    </tr>\n",
       "  </tbody>\n",
       "</table>\n",
       "</div>"
      ],
      "text/plain": [
       "           A         B\n",
       "0  -0.169751  1.492579\n",
       "1   0.735587  1.358915\n",
       "2  -0.622420 -0.913369\n",
       "3   1.640925 -1.180697\n",
       "4  -1.075089  0.155941\n",
       "5  -1.527758  0.824260\n",
       "6  -1.301424 -0.512378\n",
       "7   0.282918 -1.448024\n",
       "8   0.056584  1.225251\n",
       "9   0.961922  0.155941\n",
       "10 -0.396085 -0.111386\n",
       "11  1.414591 -1.047033"
      ]
     },
     "execution_count": 97,
     "metadata": {},
     "output_type": "execute_result"
    }
   ],
   "source": [
    "# Standard Scaling the features\n",
    "df_ss = pd.DataFrame(ss.fit_transform(df))\n",
    "df_ss.columns = df.columns\n",
    "df_ss"
   ]
  },
  {
   "cell_type": "code",
   "execution_count": 98,
   "metadata": {},
   "outputs": [
    {
     "data": {
      "text/plain": [
       "(0.0, -0.0)"
      ]
     },
     "execution_count": 98,
     "metadata": {},
     "output_type": "execute_result"
    }
   ],
   "source": [
    "# Mean of Standard Scaled data\n",
    "np.round(df_ss['A'].mean(),3), np.round(df_ss['B'].mean(),3)"
   ]
  },
  {
   "cell_type": "code",
   "execution_count": 99,
   "metadata": {},
   "outputs": [
    {
     "data": {
      "text/plain": [
       "(1.0, 1.0)"
      ]
     },
     "execution_count": 99,
     "metadata": {},
     "output_type": "execute_result"
    }
   ],
   "source": [
    "# Variance of Standard Scaled data\n",
    "df_ss['A'].var(ddof=0), np.round(df_ss['B'].var(ddof=0),3)"
   ]
  },
  {
   "cell_type": "code",
   "execution_count": 100,
   "metadata": {},
   "outputs": [
    {
     "data": {
      "text/plain": [
       "(1.0, 1.0)"
      ]
     },
     "execution_count": 100,
     "metadata": {},
     "output_type": "execute_result"
    }
   ],
   "source": [
    "# Stddev of Standard Scaled data\n",
    "df_ss['A'].std(ddof=0), np.round(df_ss['B'].std(ddof=0),3)"
   ]
  },
  {
   "cell_type": "code",
   "execution_count": 101,
   "metadata": {},
   "outputs": [
    {
     "data": {
      "text/plain": [
       "(3.4641016151377544, 3.4641016151377544)"
      ]
     },
     "execution_count": 101,
     "metadata": {},
     "output_type": "execute_result"
    }
   ],
   "source": [
    "# Magnitude of Features\n",
    "np.linalg.norm(df_ss['A'],axis=0),np.linalg.norm(df_ss['B'],axis=0)"
   ]
  },
  {
   "cell_type": "code",
   "execution_count": 102,
   "metadata": {},
   "outputs": [
    {
     "data": {
      "image/png": "[encoded data removed]",
      "text/plain": [
       "<Figure size 576x432 with 1 Axes>"
      ]
     },
     "metadata": {},
     "output_type": "display_data"
    }
   ],
   "source": [
    "with plt.style.context('seaborn'):\n",
    "    plt.figure(figsize=(8,6))\n",
    "    plt.axhline(y=0,color='k',linestyle='--')\n",
    "    plt.axvline(x=0,color='k',linestyle='--')\n",
    "    plt.scatter(df_ss['A'],df_ss['B'])\n",
    "    plt.xlabel(\"Feature-A\")\n",
    "    plt.ylabel(\"Feature-B\")\n",
    "    plt.title(\"Standard Scaled Data points\")"
   ]
  },
  {
   "cell_type": "markdown",
   "metadata": {},
   "source": [
    "##### **MinMax Scaling**"
   ]
  },
  {
   "cell_type": "code",
   "execution_count": 103,
   "metadata": {},
   "outputs": [
    {
     "data": {
      "text/html": [
       "<div>\n",
       "<style scoped>\n",
       "    .dataframe tbody tr th:only-of-type {\n",
       "        vertical-align: middle;\n",
       "    }\n",
       "\n",
       "    .dataframe tbody tr th {\n",
       "        vertical-align: top;\n",
       "    }\n",
       "\n",
       "    .dataframe thead th {\n",
       "        text-align: right;\n",
       "    }\n",
       "</style>\n",
       "<table border=\"1\" class=\"dataframe\">\n",
       "  <thead>\n",
       "    <tr style=\"text-align: right;\">\n",
       "      <th></th>\n",
       "      <th>A</th>\n",
       "      <th>B</th>\n",
       "    </tr>\n",
       "  </thead>\n",
       "  <tbody>\n",
       "    <tr>\n",
       "      <th>0</th>\n",
       "      <td>0.428571</td>\n",
       "      <td>1.000000</td>\n",
       "    </tr>\n",
       "    <tr>\n",
       "      <th>1</th>\n",
       "      <td>0.714286</td>\n",
       "      <td>0.954545</td>\n",
       "    </tr>\n",
       "    <tr>\n",
       "      <th>2</th>\n",
       "      <td>0.285714</td>\n",
       "      <td>0.181818</td>\n",
       "    </tr>\n",
       "    <tr>\n",
       "      <th>3</th>\n",
       "      <td>1.000000</td>\n",
       "      <td>0.090909</td>\n",
       "    </tr>\n",
       "    <tr>\n",
       "      <th>4</th>\n",
       "      <td>0.142857</td>\n",
       "      <td>0.545455</td>\n",
       "    </tr>\n",
       "    <tr>\n",
       "      <th>5</th>\n",
       "      <td>0.000000</td>\n",
       "      <td>0.772727</td>\n",
       "    </tr>\n",
       "    <tr>\n",
       "      <th>6</th>\n",
       "      <td>0.071429</td>\n",
       "      <td>0.318182</td>\n",
       "    </tr>\n",
       "    <tr>\n",
       "      <th>7</th>\n",
       "      <td>0.571429</td>\n",
       "      <td>0.000000</td>\n",
       "    </tr>\n",
       "    <tr>\n",
       "      <th>8</th>\n",
       "      <td>0.500000</td>\n",
       "      <td>0.909091</td>\n",
       "    </tr>\n",
       "    <tr>\n",
       "      <th>9</th>\n",
       "      <td>0.785714</td>\n",
       "      <td>0.545455</td>\n",
       "    </tr>\n",
       "    <tr>\n",
       "      <th>10</th>\n",
       "      <td>0.357143</td>\n",
       "      <td>0.454545</td>\n",
       "    </tr>\n",
       "    <tr>\n",
       "      <th>11</th>\n",
       "      <td>0.928571</td>\n",
       "      <td>0.136364</td>\n",
       "    </tr>\n",
       "  </tbody>\n",
       "</table>\n",
       "</div>"
      ],
      "text/plain": [
       "           A         B\n",
       "0   0.428571  1.000000\n",
       "1   0.714286  0.954545\n",
       "2   0.285714  0.181818\n",
       "3   1.000000  0.090909\n",
       "4   0.142857  0.545455\n",
       "5   0.000000  0.772727\n",
       "6   0.071429  0.318182\n",
       "7   0.571429  0.000000\n",
       "8   0.500000  0.909091\n",
       "9   0.785714  0.545455\n",
       "10  0.357143  0.454545\n",
       "11  0.928571  0.136364"
      ]
     },
     "execution_count": 103,
     "metadata": {},
     "output_type": "execute_result"
    }
   ],
   "source": [
    "# MinMax Features Scaling\n",
    "df_mms = pd.DataFrame(mms.fit_transform(df))\n",
    "df_mms.columns = df.columns\n",
    "df_mms"
   ]
  },
  {
   "cell_type": "code",
   "execution_count": 104,
   "metadata": {},
   "outputs": [
    {
     "data": {
      "text/plain": [
       "(0.48214285714285704, 0.492)"
      ]
     },
     "execution_count": 104,
     "metadata": {},
     "output_type": "execute_result"
    }
   ],
   "source": [
    "# Mean after MinMax Scaled features\n",
    "df_mms['A'].mean(), np.round(df_mms['B'].mean(),3)"
   ]
  },
  {
   "cell_type": "code",
   "execution_count": 105,
   "metadata": {},
   "outputs": [
    {
     "data": {
      "text/plain": [
       "(0.09959608843537417, 0.116)"
      ]
     },
     "execution_count": 105,
     "metadata": {},
     "output_type": "execute_result"
    }
   ],
   "source": [
    "# Variance after MinMax Scaled features\n",
    "df_mms['A'].var(ddof=0), np.round(df_mms['B'].var(ddof=0),3)"
   ]
  },
  {
   "cell_type": "code",
   "execution_count": 106,
   "metadata": {},
   "outputs": [
    {
     "data": {
      "text/plain": [
       "(0.31558847956694197, 0.34)"
      ]
     },
     "execution_count": 106,
     "metadata": {},
     "output_type": "execute_result"
    }
   ],
   "source": [
    "# Stddev after MinMax Scaled features\n",
    "df_mms['A'].std(ddof=0), np.round(df_mms['B'].std(ddof=0),3)"
   ]
  },
  {
   "cell_type": "code",
   "execution_count": 107,
   "metadata": {},
   "outputs": [
    {
     "data": {
      "text/plain": [
       "(1.99616980178316, 2.0730462274529784)"
      ]
     },
     "execution_count": 107,
     "metadata": {},
     "output_type": "execute_result"
    }
   ],
   "source": [
    "# Magnitude of MinMax Scaled features\n",
    "np.linalg.norm(df_mms['A']),np.linalg.norm(df_mms['B'])"
   ]
  },
  {
   "cell_type": "code",
   "execution_count": 108,
   "metadata": {},
   "outputs": [
    {
     "data": {
      "image/png": "[encoded data removed]",
      "text/plain": [
       "<Figure size 576x432 with 1 Axes>"
      ]
     },
     "metadata": {},
     "output_type": "display_data"
    }
   ],
   "source": [
    "with plt.style.context('seaborn'):\n",
    "    plt.figure(figsize=(8,6))\n",
    "    plt.axhline(y=0,color='k',linestyle='--')\n",
    "    plt.axvline(x=0,color='k',linestyle='--')\n",
    "    plt.scatter(df_mms['A'],df_mms['B'],color='blue',label='MMS')\n",
    "    plt.scatter(df_ss['A'],df_ss['B'],color='coral',label='SS')\n",
    "    plt.xlabel(\"Feature-A\")\n",
    "    plt.ylabel(\"Feature-B\")\n",
    "    plt.title(\"Standard & MinMax Scaled Data points\")\n",
    "    plt.legend()"
   ]
  },
  {
   "cell_type": "markdown",
   "metadata": {},
   "source": [
    "##### **L2-Row Normalization**"
   ]
  },
  {
   "cell_type": "code",
   "execution_count": 109,
   "metadata": {},
   "outputs": [
    {
     "data": {
      "text/html": [
       "<div>\n",
       "<style scoped>\n",
       "    .dataframe tbody tr th:only-of-type {\n",
       "        vertical-align: middle;\n",
       "    }\n",
       "\n",
       "    .dataframe tbody tr th {\n",
       "        vertical-align: top;\n",
       "    }\n",
       "\n",
       "    .dataframe thead th {\n",
       "        text-align: right;\n",
       "    }\n",
       "</style>\n",
       "<table border=\"1\" class=\"dataframe\">\n",
       "  <thead>\n",
       "    <tr style=\"text-align: right;\">\n",
       "      <th></th>\n",
       "      <th>A</th>\n",
       "      <th>B</th>\n",
       "    </tr>\n",
       "  </thead>\n",
       "  <tbody>\n",
       "    <tr>\n",
       "      <th>0</th>\n",
       "      <td>100</td>\n",
       "      <td>50</td>\n",
       "    </tr>\n",
       "    <tr>\n",
       "      <th>1</th>\n",
       "      <td>120</td>\n",
       "      <td>49</td>\n",
       "    </tr>\n",
       "    <tr>\n",
       "      <th>2</th>\n",
       "      <td>90</td>\n",
       "      <td>32</td>\n",
       "    </tr>\n",
       "    <tr>\n",
       "      <th>3</th>\n",
       "      <td>140</td>\n",
       "      <td>30</td>\n",
       "    </tr>\n",
       "    <tr>\n",
       "      <th>4</th>\n",
       "      <td>80</td>\n",
       "      <td>40</td>\n",
       "    </tr>\n",
       "    <tr>\n",
       "      <th>5</th>\n",
       "      <td>70</td>\n",
       "      <td>45</td>\n",
       "    </tr>\n",
       "    <tr>\n",
       "      <th>6</th>\n",
       "      <td>75</td>\n",
       "      <td>35</td>\n",
       "    </tr>\n",
       "    <tr>\n",
       "      <th>7</th>\n",
       "      <td>110</td>\n",
       "      <td>28</td>\n",
       "    </tr>\n",
       "    <tr>\n",
       "      <th>8</th>\n",
       "      <td>105</td>\n",
       "      <td>48</td>\n",
       "    </tr>\n",
       "    <tr>\n",
       "      <th>9</th>\n",
       "      <td>125</td>\n",
       "      <td>40</td>\n",
       "    </tr>\n",
       "    <tr>\n",
       "      <th>10</th>\n",
       "      <td>95</td>\n",
       "      <td>38</td>\n",
       "    </tr>\n",
       "    <tr>\n",
       "      <th>11</th>\n",
       "      <td>135</td>\n",
       "      <td>31</td>\n",
       "    </tr>\n",
       "  </tbody>\n",
       "</table>\n",
       "</div>"
      ],
      "text/plain": [
       "      A   B\n",
       "0   100  50\n",
       "1   120  49\n",
       "2    90  32\n",
       "3   140  30\n",
       "4    80  40\n",
       "5    70  45\n",
       "6    75  35\n",
       "7   110  28\n",
       "8   105  48\n",
       "9   125  40\n",
       "10   95  38\n",
       "11  135  31"
      ]
     },
     "execution_count": 109,
     "metadata": {},
     "output_type": "execute_result"
    }
   ],
   "source": [
    "df"
   ]
  },
  {
   "cell_type": "markdown",
   "metadata": {},
   "source": [
    "##### **How Row-Norm works?**\n",
    "\\begin{align}\n",
    "L_{2} = x_{ij} \\div \\sqrt{x_{i1}^2 + x_{i2}^2 + .... + x_{im}^2}\n",
    "\\end{align}"
   ]
  },
  {
   "cell_type": "code",
   "execution_count": 110,
   "metadata": {},
   "outputs": [
    {
     "data": {
      "text/plain": [
       "array([[0.89442719, 0.4472136 ]])"
      ]
     },
     "execution_count": 110,
     "metadata": {},
     "output_type": "execute_result"
    }
   ],
   "source": [
    "# L2 norm via Normalizer\n",
    "nrm_l2.fit_transform([df.iloc[0,:]])"
   ]
  },
  {
   "cell_type": "code",
   "execution_count": 111,
   "metadata": {},
   "outputs": [
    {
     "data": {
      "text/plain": [
       "A    0.894427\n",
       "B    0.447214\n",
       "Name: 0, dtype: float64"
      ]
     },
     "execution_count": 111,
     "metadata": {},
     "output_type": "execute_result"
    }
   ],
   "source": [
    "# L2 norm manually\n",
    "df.iloc[0,:]/np.sqrt(np.square(df.iloc[0,0]) + np.square(df.iloc[0,1]))"
   ]
  },
  {
   "cell_type": "code",
   "execution_count": 112,
   "metadata": {},
   "outputs": [
    {
     "data": {
      "text/html": [
       "<div>\n",
       "<style scoped>\n",
       "    .dataframe tbody tr th:only-of-type {\n",
       "        vertical-align: middle;\n",
       "    }\n",
       "\n",
       "    .dataframe tbody tr th {\n",
       "        vertical-align: top;\n",
       "    }\n",
       "\n",
       "    .dataframe thead th {\n",
       "        text-align: right;\n",
       "    }\n",
       "</style>\n",
       "<table border=\"1\" class=\"dataframe\">\n",
       "  <thead>\n",
       "    <tr style=\"text-align: right;\">\n",
       "      <th></th>\n",
       "      <th>A</th>\n",
       "      <th>B</th>\n",
       "    </tr>\n",
       "  </thead>\n",
       "  <tbody>\n",
       "    <tr>\n",
       "      <th>0</th>\n",
       "      <td>0.894427</td>\n",
       "      <td>0.447214</td>\n",
       "    </tr>\n",
       "    <tr>\n",
       "      <th>1</th>\n",
       "      <td>0.925793</td>\n",
       "      <td>0.378032</td>\n",
       "    </tr>\n",
       "    <tr>\n",
       "      <th>2</th>\n",
       "      <td>0.942215</td>\n",
       "      <td>0.335010</td>\n",
       "    </tr>\n",
       "    <tr>\n",
       "      <th>3</th>\n",
       "      <td>0.977802</td>\n",
       "      <td>0.209529</td>\n",
       "    </tr>\n",
       "    <tr>\n",
       "      <th>4</th>\n",
       "      <td>0.894427</td>\n",
       "      <td>0.447214</td>\n",
       "    </tr>\n",
       "    <tr>\n",
       "      <th>5</th>\n",
       "      <td>0.841178</td>\n",
       "      <td>0.540758</td>\n",
       "    </tr>\n",
       "    <tr>\n",
       "      <th>6</th>\n",
       "      <td>0.906183</td>\n",
       "      <td>0.422885</td>\n",
       "    </tr>\n",
       "    <tr>\n",
       "      <th>7</th>\n",
       "      <td>0.969097</td>\n",
       "      <td>0.246679</td>\n",
       "    </tr>\n",
       "    <tr>\n",
       "      <th>8</th>\n",
       "      <td>0.909474</td>\n",
       "      <td>0.415760</td>\n",
       "    </tr>\n",
       "    <tr>\n",
       "      <th>9</th>\n",
       "      <td>0.952424</td>\n",
       "      <td>0.304776</td>\n",
       "    </tr>\n",
       "    <tr>\n",
       "      <th>10</th>\n",
       "      <td>0.928477</td>\n",
       "      <td>0.371391</td>\n",
       "    </tr>\n",
       "    <tr>\n",
       "      <th>11</th>\n",
       "      <td>0.974634</td>\n",
       "      <td>0.223805</td>\n",
       "    </tr>\n",
       "  </tbody>\n",
       "</table>\n",
       "</div>"
      ],
      "text/plain": [
       "           A         B\n",
       "0   0.894427  0.447214\n",
       "1   0.925793  0.378032\n",
       "2   0.942215  0.335010\n",
       "3   0.977802  0.209529\n",
       "4   0.894427  0.447214\n",
       "5   0.841178  0.540758\n",
       "6   0.906183  0.422885\n",
       "7   0.969097  0.246679\n",
       "8   0.909474  0.415760\n",
       "9   0.952424  0.304776\n",
       "10  0.928477  0.371391\n",
       "11  0.974634  0.223805"
      ]
     },
     "execution_count": 112,
     "metadata": {},
     "output_type": "execute_result"
    }
   ],
   "source": [
    "# Transforming Rows via L2-Normalizer\n",
    "df_nrm_l2 = pd.DataFrame(nrm_l2.fit_transform(df))\n",
    "df_nrm_l2.columns = df.columns\n",
    "df_nrm_l2"
   ]
  },
  {
   "cell_type": "code",
   "execution_count": 113,
   "metadata": {},
   "outputs": [
    {
     "data": {
      "text/plain": [
       "(0.9263443429596032, 0.362)"
      ]
     },
     "execution_count": 113,
     "metadata": {},
     "output_type": "execute_result"
    }
   ],
   "source": [
    "# Features Mean after L2-norm\n",
    "df_nrm_l2['A'].mean(), np.round(df_nrm_l2['B'].mean(),3)"
   ]
  },
  {
   "cell_type": "code",
   "execution_count": 114,
   "metadata": {},
   "outputs": [
    {
     "data": {
      "text/plain": [
       "(0.0014771835693296145, 0.009)"
      ]
     },
     "execution_count": 114,
     "metadata": {},
     "output_type": "execute_result"
    }
   ],
   "source": [
    "# Features Variance after L2-norm\n",
    "df_nrm_l2['A'].var(ddof=0), np.round(df_nrm_l2['B'].var(ddof=0),3)"
   ]
  },
  {
   "cell_type": "code",
   "execution_count": 115,
   "metadata": {},
   "outputs": [
    {
     "data": {
      "text/plain": [
       "(0.0384341458774566, 0.097)"
      ]
     },
     "execution_count": 115,
     "metadata": {},
     "output_type": "execute_result"
    }
   ],
   "source": [
    "# Features Stddev after L2-norm\n",
    "df_nrm_l2['A'].std(ddof=0), np.round(df_nrm_l2['B'].std(ddof=0),3)"
   ]
  },
  {
   "cell_type": "code",
   "execution_count": 116,
   "metadata": {},
   "outputs": [
    {
     "data": {
      "text/plain": [
       "array([1., 1., 1., 1., 1., 1., 1., 1., 1., 1., 1., 1.])"
      ]
     },
     "execution_count": 116,
     "metadata": {},
     "output_type": "execute_result"
    }
   ],
   "source": [
    "# Magnitude of Rows after L2-Norm\n",
    "np.linalg.norm(df_nrm_l2,axis=1)"
   ]
  },
  {
   "cell_type": "code",
   "execution_count": 117,
   "metadata": {},
   "outputs": [
    {
     "data": {
      "image/png": "[encoded data removed]",
      "text/plain": [
       "<Figure size 864x432 with 1 Axes>"
      ]
     },
     "metadata": {},
     "output_type": "display_data"
    }
   ],
   "source": [
    "with plt.style.context('seaborn'):\n",
    "    plt.figure(figsize=(12,6))\n",
    "    plt.axhline(y=0,color='k',linestyle='--')\n",
    "    plt.axvline(x=0,color='k',linestyle='--')\n",
    "    plt.scatter(df_mms['A'],df_mms['B'],color='blue',label='MMS')\n",
    "    plt.scatter(df_ss['A'],df_ss['B'],color='coral',label='SS')\n",
    "    plt.scatter(df_nrm_l2['A'],df_nrm_l2['B'],color='yellow',label='L2-Norm Rows')\n",
    "    plt.xlabel(\"Feature-A\")\n",
    "    plt.ylabel(\"Feature-B\")\n",
    "    plt.title(\"Standard & MinMax Scaled and L2-norm Rows Data points\")\n",
    "    plt.legend()"
   ]
  },
  {
   "cell_type": "markdown",
   "metadata": {},
   "source": [
    "##### **L1-Row Normalization**"
   ]
  },
  {
   "cell_type": "markdown",
   "metadata": {},
   "source": [
    "##### **How L1-norm works?**\n",
    "\n",
    "\\begin{align}\n",
    "L_{1} = x_{ij} \\div (|x_{i1}| + |x_{i2}| + .... + |x_{im}|)\n",
    "\\end{align}"
   ]
  },
  {
   "cell_type": "code",
   "execution_count": 118,
   "metadata": {},
   "outputs": [
    {
     "data": {
      "text/html": [
       "<div>\n",
       "<style scoped>\n",
       "    .dataframe tbody tr th:only-of-type {\n",
       "        vertical-align: middle;\n",
       "    }\n",
       "\n",
       "    .dataframe tbody tr th {\n",
       "        vertical-align: top;\n",
       "    }\n",
       "\n",
       "    .dataframe thead th {\n",
       "        text-align: right;\n",
       "    }\n",
       "</style>\n",
       "<table border=\"1\" class=\"dataframe\">\n",
       "  <thead>\n",
       "    <tr style=\"text-align: right;\">\n",
       "      <th></th>\n",
       "      <th>A</th>\n",
       "      <th>B</th>\n",
       "    </tr>\n",
       "  </thead>\n",
       "  <tbody>\n",
       "    <tr>\n",
       "      <th>0</th>\n",
       "      <td>0.666667</td>\n",
       "      <td>0.333333</td>\n",
       "    </tr>\n",
       "    <tr>\n",
       "      <th>1</th>\n",
       "      <td>0.710059</td>\n",
       "      <td>0.289941</td>\n",
       "    </tr>\n",
       "    <tr>\n",
       "      <th>2</th>\n",
       "      <td>0.737705</td>\n",
       "      <td>0.262295</td>\n",
       "    </tr>\n",
       "    <tr>\n",
       "      <th>3</th>\n",
       "      <td>0.823529</td>\n",
       "      <td>0.176471</td>\n",
       "    </tr>\n",
       "    <tr>\n",
       "      <th>4</th>\n",
       "      <td>0.666667</td>\n",
       "      <td>0.333333</td>\n",
       "    </tr>\n",
       "    <tr>\n",
       "      <th>5</th>\n",
       "      <td>0.608696</td>\n",
       "      <td>0.391304</td>\n",
       "    </tr>\n",
       "    <tr>\n",
       "      <th>6</th>\n",
       "      <td>0.681818</td>\n",
       "      <td>0.318182</td>\n",
       "    </tr>\n",
       "    <tr>\n",
       "      <th>7</th>\n",
       "      <td>0.797101</td>\n",
       "      <td>0.202899</td>\n",
       "    </tr>\n",
       "    <tr>\n",
       "      <th>8</th>\n",
       "      <td>0.686275</td>\n",
       "      <td>0.313725</td>\n",
       "    </tr>\n",
       "    <tr>\n",
       "      <th>9</th>\n",
       "      <td>0.757576</td>\n",
       "      <td>0.242424</td>\n",
       "    </tr>\n",
       "    <tr>\n",
       "      <th>10</th>\n",
       "      <td>0.714286</td>\n",
       "      <td>0.285714</td>\n",
       "    </tr>\n",
       "    <tr>\n",
       "      <th>11</th>\n",
       "      <td>0.813253</td>\n",
       "      <td>0.186747</td>\n",
       "    </tr>\n",
       "  </tbody>\n",
       "</table>\n",
       "</div>"
      ],
      "text/plain": [
       "           A         B\n",
       "0   0.666667  0.333333\n",
       "1   0.710059  0.289941\n",
       "2   0.737705  0.262295\n",
       "3   0.823529  0.176471\n",
       "4   0.666667  0.333333\n",
       "5   0.608696  0.391304\n",
       "6   0.681818  0.318182\n",
       "7   0.797101  0.202899\n",
       "8   0.686275  0.313725\n",
       "9   0.757576  0.242424\n",
       "10  0.714286  0.285714\n",
       "11  0.813253  0.186747"
      ]
     },
     "execution_count": 118,
     "metadata": {},
     "output_type": "execute_result"
    }
   ],
   "source": [
    "# Transforming dataset rows via L1-norm\n",
    "df_nrm_l1 = pd.DataFrame(nrm_l1.fit_transform(df))\n",
    "df_nrm_l1.columns = df.columns\n",
    "df_nrm_l1"
   ]
  },
  {
   "cell_type": "code",
   "execution_count": 119,
   "metadata": {},
   "outputs": [
    {
     "data": {
      "text/plain": [
       "(0.7219692593091253, 0.278)"
      ]
     },
     "execution_count": 119,
     "metadata": {},
     "output_type": "execute_result"
    }
   ],
   "source": [
    "# Features Mean after L1-norm\n",
    "df_nrm_l1['A'].mean(), np.round(df_nrm_l1['B'].mean(),3)"
   ]
  },
  {
   "cell_type": "code",
   "execution_count": 120,
   "metadata": {},
   "outputs": [
    {
     "data": {
      "text/plain": [
       "(0.00398685354358775, 0.004)"
      ]
     },
     "execution_count": 120,
     "metadata": {},
     "output_type": "execute_result"
    }
   ],
   "source": [
    "# Features Variance after L2-norm\n",
    "df_nrm_l1['A'].var(ddof=0), np.round(df_nrm_l1['B'].var(ddof=0),3)"
   ]
  },
  {
   "cell_type": "code",
   "execution_count": 121,
   "metadata": {},
   "outputs": [
    {
     "data": {
      "text/plain": [
       "(0.06314153580320762, 0.063)"
      ]
     },
     "execution_count": 121,
     "metadata": {},
     "output_type": "execute_result"
    }
   ],
   "source": [
    "# Features Stddev after L2-norm\n",
    "df_nrm_l1['A'].std(ddof=0), np.round(df_nrm_l1['B'].std(ddof=0),3)"
   ]
  },
  {
   "cell_type": "code",
   "execution_count": 122,
   "metadata": {},
   "outputs": [
    {
     "data": {
      "text/plain": [
       "array([0.74535599, 0.76697439, 0.7829478 , 0.84222477, 0.74535599,\n",
       "       0.72362248, 0.75240661, 0.82251963, 0.75458358, 0.79541847,\n",
       "       0.76930926, 0.8344189 ])"
      ]
     },
     "execution_count": 122,
     "metadata": {},
     "output_type": "execute_result"
    }
   ],
   "source": [
    "# Dataset rows magnitude after L1-norm\n",
    "np.linalg.norm(df_nrm_l1,axis=1)"
   ]
  },
  {
   "cell_type": "code",
   "execution_count": 123,
   "metadata": {},
   "outputs": [
    {
     "data": {
      "image/png": "[encoded data removed]",
      "text/plain": [
       "<Figure size 864x576 with 1 Axes>"
      ]
     },
     "metadata": {},
     "output_type": "display_data"
    }
   ],
   "source": [
    "with plt.style.context('seaborn'):\n",
    "    plt.figure(figsize=(12,8))\n",
    "    plt.axhline(y=0,color='k',linestyle='--')\n",
    "    plt.axvline(x=0,color='k',linestyle='--')\n",
    "    plt.scatter(df_mms['A'],df_mms['B'],color='blue',label='MMS')\n",
    "    plt.scatter(df_ss['A'],df_ss['B'],color='coral',label='SS')\n",
    "    plt.scatter(df_nrm_l2['A'],df_nrm_l2['B'],color='yellow',label='L2-Norm Rows')\n",
    "    plt.scatter(df_nrm_l1['A'],df_nrm_l1['B'],color='purple',label='L1-Norm Rows')\n",
    "    plt.xlabel(\"Feature-A\")\n",
    "    plt.ylabel(\"Feature-B\")\n",
    "    plt.title(\"Standard & MinMax Scaled && L2-normed, L1-normed Rows Data points\")\n",
    "    plt.legend()"
   ]
  },
  {
   "cell_type": "markdown",
   "metadata": {},
   "source": [
    "#### The above graph clearly shows us that MMS, L2-norm and L1-norm are not suitable for PCA. Because, PCA looks for maximum variation in the features or try to come up with a new axis that captures the maximum variation of data.\n",
    "- MMS data values are bucketed in [0,1] range\n",
    "- L2 and L1 norm data points are close to 0 and tightly packed\n",
    "    - And, L1 norm values are more pulled towards 0"
   ]
  },
  {
   "cell_type": "markdown",
   "metadata": {},
   "source": [
    "#### **Effect of Mean Centering the features on COV**"
   ]
  },
  {
   "cell_type": "code",
   "execution_count": 124,
   "metadata": {},
   "outputs": [
    {
     "name": "stdout",
     "output_type": "stream",
     "text": [
      "1.0 1.0\n",
      "0.09959608843537417 0.116\n",
      "0.0014771835693296145 0.009\n",
      "0.00398685354358775 0.004\n"
     ]
    }
   ],
   "source": [
    "# Mean of features after SS, MMS, L2-norm and L1-norm\n",
    "print(df_ss['A'].var(ddof=0), np.round(df_ss['B'].var(ddof=0),3))\n",
    "print(df_mms['A'].var(ddof=0), np.round(df_mms['B'].var(ddof=0),3))\n",
    "print(df_nrm_l2['A'].var(ddof=0), np.round(df_nrm_l2['B'].var(ddof=0),3))\n",
    "print(df_nrm_l1['A'].var(ddof=0), np.round(df_nrm_l1['B'].var(ddof=0),3))"
   ]
  },
  {
   "cell_type": "markdown",
   "metadata": {},
   "source": [
    "#### So, clearly we are witnessing the downward trend in the means of features after MMS, L2-norm and L1-norm as compared to SS. One more thing to point out here is that L1-norm further reduces the mean close to 0 which is true because L1-norm makes the non-important feature to 0."
   ]
  },
  {
   "cell_type": "code",
   "execution_count": 125,
   "metadata": {},
   "outputs": [
    {
     "data": {
      "text/plain": [
       "array([[532.38636364, -45.22727273],\n",
       "       [-45.22727273,  61.06060606]])"
      ]
     },
     "execution_count": 125,
     "metadata": {},
     "output_type": "execute_result"
    }
   ],
   "source": [
    "# COV on raw dataset\n",
    "np.cov(df,rowvar=False,bias=False)"
   ]
  },
  {
   "cell_type": "code",
   "execution_count": 126,
   "metadata": {},
   "outputs": [
    {
     "data": {
      "text/html": [
       "<div>\n",
       "<style scoped>\n",
       "    .dataframe tbody tr th:only-of-type {\n",
       "        vertical-align: middle;\n",
       "    }\n",
       "\n",
       "    .dataframe tbody tr th {\n",
       "        vertical-align: top;\n",
       "    }\n",
       "\n",
       "    .dataframe thead th {\n",
       "        text-align: right;\n",
       "    }\n",
       "</style>\n",
       "<table border=\"1\" class=\"dataframe\">\n",
       "  <thead>\n",
       "    <tr style=\"text-align: right;\">\n",
       "      <th></th>\n",
       "      <th>A</th>\n",
       "      <th>B</th>\n",
       "    </tr>\n",
       "  </thead>\n",
       "  <tbody>\n",
       "    <tr>\n",
       "      <th>0</th>\n",
       "      <td>-3.75</td>\n",
       "      <td>11.166667</td>\n",
       "    </tr>\n",
       "    <tr>\n",
       "      <th>1</th>\n",
       "      <td>16.25</td>\n",
       "      <td>10.166667</td>\n",
       "    </tr>\n",
       "    <tr>\n",
       "      <th>2</th>\n",
       "      <td>-13.75</td>\n",
       "      <td>-6.833333</td>\n",
       "    </tr>\n",
       "    <tr>\n",
       "      <th>3</th>\n",
       "      <td>36.25</td>\n",
       "      <td>-8.833333</td>\n",
       "    </tr>\n",
       "    <tr>\n",
       "      <th>4</th>\n",
       "      <td>-23.75</td>\n",
       "      <td>1.166667</td>\n",
       "    </tr>\n",
       "    <tr>\n",
       "      <th>5</th>\n",
       "      <td>-33.75</td>\n",
       "      <td>6.166667</td>\n",
       "    </tr>\n",
       "    <tr>\n",
       "      <th>6</th>\n",
       "      <td>-28.75</td>\n",
       "      <td>-3.833333</td>\n",
       "    </tr>\n",
       "    <tr>\n",
       "      <th>7</th>\n",
       "      <td>6.25</td>\n",
       "      <td>-10.833333</td>\n",
       "    </tr>\n",
       "    <tr>\n",
       "      <th>8</th>\n",
       "      <td>1.25</td>\n",
       "      <td>9.166667</td>\n",
       "    </tr>\n",
       "    <tr>\n",
       "      <th>9</th>\n",
       "      <td>21.25</td>\n",
       "      <td>1.166667</td>\n",
       "    </tr>\n",
       "    <tr>\n",
       "      <th>10</th>\n",
       "      <td>-8.75</td>\n",
       "      <td>-0.833333</td>\n",
       "    </tr>\n",
       "    <tr>\n",
       "      <th>11</th>\n",
       "      <td>31.25</td>\n",
       "      <td>-7.833333</td>\n",
       "    </tr>\n",
       "  </tbody>\n",
       "</table>\n",
       "</div>"
      ],
      "text/plain": [
       "        A          B\n",
       "0   -3.75  11.166667\n",
       "1   16.25  10.166667\n",
       "2  -13.75  -6.833333\n",
       "3   36.25  -8.833333\n",
       "4  -23.75   1.166667\n",
       "5  -33.75   6.166667\n",
       "6  -28.75  -3.833333\n",
       "7    6.25 -10.833333\n",
       "8    1.25   9.166667\n",
       "9   21.25   1.166667\n",
       "10  -8.75  -0.833333\n",
       "11  31.25  -7.833333"
      ]
     },
     "execution_count": 126,
     "metadata": {},
     "output_type": "execute_result"
    }
   ],
   "source": [
    "# Bringing Features Mean to 0\n",
    "df_mean_centric = pd.DataFrame(df['A']-df['A'].mean(),columns=['A'])\n",
    "df_mean_centric = pd.concat([df_mean_centric,pd.DataFrame(df['B']-df['B'].mean(),columns=['B'])],axis=1)\n",
    "df_mean_centric"
   ]
  },
  {
   "cell_type": "code",
   "execution_count": 127,
   "metadata": {},
   "outputs": [
    {
     "data": {
      "text/plain": [
       "array([[532.38636364, -45.22727273],\n",
       "       [-45.22727273,  61.06060606]])"
      ]
     },
     "execution_count": 127,
     "metadata": {},
     "output_type": "execute_result"
    }
   ],
   "source": [
    "# No effect of Mean Centering on COV\n",
    "np.cov(df_mean_centric,rowvar=False,bias=False)"
   ]
  },
  {
   "cell_type": "markdown",
   "metadata": {},
   "source": [
    "##### **Effect of mean centring of one feature on COV?**"
   ]
  },
  {
   "cell_type": "code",
   "execution_count": 128,
   "metadata": {},
   "outputs": [
    {
     "data": {
      "text/html": [
       "<div>\n",
       "<style scoped>\n",
       "    .dataframe tbody tr th:only-of-type {\n",
       "        vertical-align: middle;\n",
       "    }\n",
       "\n",
       "    .dataframe tbody tr th {\n",
       "        vertical-align: top;\n",
       "    }\n",
       "\n",
       "    .dataframe thead th {\n",
       "        text-align: right;\n",
       "    }\n",
       "</style>\n",
       "<table border=\"1\" class=\"dataframe\">\n",
       "  <thead>\n",
       "    <tr style=\"text-align: right;\">\n",
       "      <th></th>\n",
       "      <th>A</th>\n",
       "      <th>B</th>\n",
       "    </tr>\n",
       "  </thead>\n",
       "  <tbody>\n",
       "    <tr>\n",
       "      <th>0</th>\n",
       "      <td>-3.75</td>\n",
       "      <td>50</td>\n",
       "    </tr>\n",
       "    <tr>\n",
       "      <th>1</th>\n",
       "      <td>16.25</td>\n",
       "      <td>49</td>\n",
       "    </tr>\n",
       "    <tr>\n",
       "      <th>2</th>\n",
       "      <td>-13.75</td>\n",
       "      <td>32</td>\n",
       "    </tr>\n",
       "    <tr>\n",
       "      <th>3</th>\n",
       "      <td>36.25</td>\n",
       "      <td>30</td>\n",
       "    </tr>\n",
       "    <tr>\n",
       "      <th>4</th>\n",
       "      <td>-23.75</td>\n",
       "      <td>40</td>\n",
       "    </tr>\n",
       "    <tr>\n",
       "      <th>5</th>\n",
       "      <td>-33.75</td>\n",
       "      <td>45</td>\n",
       "    </tr>\n",
       "    <tr>\n",
       "      <th>6</th>\n",
       "      <td>-28.75</td>\n",
       "      <td>35</td>\n",
       "    </tr>\n",
       "    <tr>\n",
       "      <th>7</th>\n",
       "      <td>6.25</td>\n",
       "      <td>28</td>\n",
       "    </tr>\n",
       "    <tr>\n",
       "      <th>8</th>\n",
       "      <td>1.25</td>\n",
       "      <td>48</td>\n",
       "    </tr>\n",
       "    <tr>\n",
       "      <th>9</th>\n",
       "      <td>21.25</td>\n",
       "      <td>40</td>\n",
       "    </tr>\n",
       "    <tr>\n",
       "      <th>10</th>\n",
       "      <td>-8.75</td>\n",
       "      <td>38</td>\n",
       "    </tr>\n",
       "    <tr>\n",
       "      <th>11</th>\n",
       "      <td>31.25</td>\n",
       "      <td>31</td>\n",
       "    </tr>\n",
       "  </tbody>\n",
       "</table>\n",
       "</div>"
      ],
      "text/plain": [
       "        A   B\n",
       "0   -3.75  50\n",
       "1   16.25  49\n",
       "2  -13.75  32\n",
       "3   36.25  30\n",
       "4  -23.75  40\n",
       "5  -33.75  45\n",
       "6  -28.75  35\n",
       "7    6.25  28\n",
       "8    1.25  48\n",
       "9   21.25  40\n",
       "10  -8.75  38\n",
       "11  31.25  31"
      ]
     },
     "execution_count": 128,
     "metadata": {},
     "output_type": "execute_result"
    }
   ],
   "source": [
    "# Bringing mean of only 1 feature to 0\n",
    "df_mean_centric_one_col = pd.DataFrame(df['A']-df['A'].mean(),columns=['A'])\n",
    "df_mean_centric_one_col = pd.concat([df_mean_centric_one_col,df['B']],axis=1)\n",
    "df_mean_centric_one_col"
   ]
  },
  {
   "cell_type": "code",
   "execution_count": 129,
   "metadata": {},
   "outputs": [
    {
     "data": {
      "text/plain": [
       "array([[532.38636364, -45.22727273],\n",
       "       [-45.22727273,  61.06060606]])"
      ]
     },
     "execution_count": 129,
     "metadata": {},
     "output_type": "execute_result"
    }
   ],
   "source": [
    "# No effect of Mean Centering of one feature on COV\n",
    "np.cov(df_mean_centric_one_col,rowvar=False,bias=False)"
   ]
  },
  {
   "cell_type": "markdown",
   "metadata": {},
   "source": [
    "##### **Effect Upscaling or Downscaling of a feature on COV?**"
   ]
  },
  {
   "cell_type": "code",
   "execution_count": 130,
   "metadata": {},
   "outputs": [
    {
     "data": {
      "text/html": [
       "<div>\n",
       "<style scoped>\n",
       "    .dataframe tbody tr th:only-of-type {\n",
       "        vertical-align: middle;\n",
       "    }\n",
       "\n",
       "    .dataframe tbody tr th {\n",
       "        vertical-align: top;\n",
       "    }\n",
       "\n",
       "    .dataframe thead th {\n",
       "        text-align: right;\n",
       "    }\n",
       "</style>\n",
       "<table border=\"1\" class=\"dataframe\">\n",
       "  <thead>\n",
       "    <tr style=\"text-align: right;\">\n",
       "      <th></th>\n",
       "      <th>A</th>\n",
       "      <th>B</th>\n",
       "    </tr>\n",
       "  </thead>\n",
       "  <tbody>\n",
       "    <tr>\n",
       "      <th>0</th>\n",
       "      <td>200</td>\n",
       "      <td>50</td>\n",
       "    </tr>\n",
       "    <tr>\n",
       "      <th>1</th>\n",
       "      <td>240</td>\n",
       "      <td>49</td>\n",
       "    </tr>\n",
       "    <tr>\n",
       "      <th>2</th>\n",
       "      <td>180</td>\n",
       "      <td>32</td>\n",
       "    </tr>\n",
       "    <tr>\n",
       "      <th>3</th>\n",
       "      <td>280</td>\n",
       "      <td>30</td>\n",
       "    </tr>\n",
       "    <tr>\n",
       "      <th>4</th>\n",
       "      <td>160</td>\n",
       "      <td>40</td>\n",
       "    </tr>\n",
       "    <tr>\n",
       "      <th>5</th>\n",
       "      <td>140</td>\n",
       "      <td>45</td>\n",
       "    </tr>\n",
       "    <tr>\n",
       "      <th>6</th>\n",
       "      <td>150</td>\n",
       "      <td>35</td>\n",
       "    </tr>\n",
       "    <tr>\n",
       "      <th>7</th>\n",
       "      <td>220</td>\n",
       "      <td>28</td>\n",
       "    </tr>\n",
       "    <tr>\n",
       "      <th>8</th>\n",
       "      <td>210</td>\n",
       "      <td>48</td>\n",
       "    </tr>\n",
       "    <tr>\n",
       "      <th>9</th>\n",
       "      <td>250</td>\n",
       "      <td>40</td>\n",
       "    </tr>\n",
       "    <tr>\n",
       "      <th>10</th>\n",
       "      <td>190</td>\n",
       "      <td>38</td>\n",
       "    </tr>\n",
       "    <tr>\n",
       "      <th>11</th>\n",
       "      <td>270</td>\n",
       "      <td>31</td>\n",
       "    </tr>\n",
       "  </tbody>\n",
       "</table>\n",
       "</div>"
      ],
      "text/plain": [
       "      A   B\n",
       "0   200  50\n",
       "1   240  49\n",
       "2   180  32\n",
       "3   280  30\n",
       "4   160  40\n",
       "5   140  45\n",
       "6   150  35\n",
       "7   220  28\n",
       "8   210  48\n",
       "9   250  40\n",
       "10  190  38\n",
       "11  270  31"
      ]
     },
     "execution_count": 130,
     "metadata": {},
     "output_type": "execute_result"
    }
   ],
   "source": [
    "df_mean_scl_col = pd.DataFrame(df['A']*2,columns=['A'])\n",
    "df_mean_scl_col = pd.concat([df_mean_scl_col,df['B']],axis=1)\n",
    "df_mean_scl_col"
   ]
  },
  {
   "cell_type": "code",
   "execution_count": 131,
   "metadata": {},
   "outputs": [
    {
     "data": {
      "text/plain": [
       "array([[532.38636364, -45.22727273],\n",
       "       [-45.22727273,  61.06060606]])"
      ]
     },
     "execution_count": 131,
     "metadata": {},
     "output_type": "execute_result"
    }
   ],
   "source": [
    "# COV on Raw Data\n",
    "np.cov(df,rowvar=False,bias=False)"
   ]
  },
  {
   "cell_type": "code",
   "execution_count": 132,
   "metadata": {},
   "outputs": [
    {
     "data": {
      "text/plain": [
       "array([[2129.54545455,  -90.45454545],\n",
       "       [ -90.45454545,   61.06060606]])"
      ]
     },
     "execution_count": 132,
     "metadata": {},
     "output_type": "execute_result"
    }
   ],
   "source": [
    "# COV on one feature upscaled data\n",
    "np.cov(df_mean_scl_col,rowvar=False,bias=False)"
   ]
  },
  {
   "cell_type": "code",
   "execution_count": 133,
   "metadata": {},
   "outputs": [
    {
     "data": {
      "text/plain": [
       "-45.227272727272734"
      ]
     },
     "execution_count": 133,
     "metadata": {},
     "output_type": "execute_result"
    }
   ],
   "source": [
    "# The upscaled factor is in product with COV of raw data\n",
    "np.cov(df_mean_scl_col,rowvar=False,bias=False)[0][1]/2"
   ]
  },
  {
   "cell_type": "markdown",
   "metadata": {},
   "source": [
    "##### **Overall, visualization of all the SS, MMS, L2-norm and L1-norm on dataset**"
   ]
  },
  {
   "cell_type": "code",
   "execution_count": 134,
   "metadata": {},
   "outputs": [
    {
     "data": {
      "text/html": [
       "<div>\n",
       "<style scoped>\n",
       "    .dataframe tbody tr th:only-of-type {\n",
       "        vertical-align: middle;\n",
       "    }\n",
       "\n",
       "    .dataframe tbody tr th {\n",
       "        vertical-align: top;\n",
       "    }\n",
       "\n",
       "    .dataframe thead th {\n",
       "        text-align: right;\n",
       "    }\n",
       "</style>\n",
       "<table border=\"1\" class=\"dataframe\">\n",
       "  <thead>\n",
       "    <tr style=\"text-align: right;\">\n",
       "      <th></th>\n",
       "      <th>A_ss</th>\n",
       "      <th>B_ss</th>\n",
       "      <th>A_mms</th>\n",
       "      <th>B_mms</th>\n",
       "      <th>A_nrm_l2</th>\n",
       "      <th>B_nrm_l2</th>\n",
       "      <th>A_nrm_l1</th>\n",
       "      <th>B_nrm_l1</th>\n",
       "    </tr>\n",
       "  </thead>\n",
       "  <tbody>\n",
       "    <tr>\n",
       "      <th>0</th>\n",
       "      <td>-0.169751</td>\n",
       "      <td>1.492579</td>\n",
       "      <td>0.428571</td>\n",
       "      <td>1.000000</td>\n",
       "      <td>0.894427</td>\n",
       "      <td>0.447214</td>\n",
       "      <td>0.666667</td>\n",
       "      <td>0.333333</td>\n",
       "    </tr>\n",
       "    <tr>\n",
       "      <th>1</th>\n",
       "      <td>0.735587</td>\n",
       "      <td>1.358915</td>\n",
       "      <td>0.714286</td>\n",
       "      <td>0.954545</td>\n",
       "      <td>0.925793</td>\n",
       "      <td>0.378032</td>\n",
       "      <td>0.710059</td>\n",
       "      <td>0.289941</td>\n",
       "    </tr>\n",
       "    <tr>\n",
       "      <th>2</th>\n",
       "      <td>-0.622420</td>\n",
       "      <td>-0.913369</td>\n",
       "      <td>0.285714</td>\n",
       "      <td>0.181818</td>\n",
       "      <td>0.942215</td>\n",
       "      <td>0.335010</td>\n",
       "      <td>0.737705</td>\n",
       "      <td>0.262295</td>\n",
       "    </tr>\n",
       "    <tr>\n",
       "      <th>3</th>\n",
       "      <td>1.640925</td>\n",
       "      <td>-1.180697</td>\n",
       "      <td>1.000000</td>\n",
       "      <td>0.090909</td>\n",
       "      <td>0.977802</td>\n",
       "      <td>0.209529</td>\n",
       "      <td>0.823529</td>\n",
       "      <td>0.176471</td>\n",
       "    </tr>\n",
       "    <tr>\n",
       "      <th>4</th>\n",
       "      <td>-1.075089</td>\n",
       "      <td>0.155941</td>\n",
       "      <td>0.142857</td>\n",
       "      <td>0.545455</td>\n",
       "      <td>0.894427</td>\n",
       "      <td>0.447214</td>\n",
       "      <td>0.666667</td>\n",
       "      <td>0.333333</td>\n",
       "    </tr>\n",
       "    <tr>\n",
       "      <th>5</th>\n",
       "      <td>-1.527758</td>\n",
       "      <td>0.824260</td>\n",
       "      <td>0.000000</td>\n",
       "      <td>0.772727</td>\n",
       "      <td>0.841178</td>\n",
       "      <td>0.540758</td>\n",
       "      <td>0.608696</td>\n",
       "      <td>0.391304</td>\n",
       "    </tr>\n",
       "    <tr>\n",
       "      <th>6</th>\n",
       "      <td>-1.301424</td>\n",
       "      <td>-0.512378</td>\n",
       "      <td>0.071429</td>\n",
       "      <td>0.318182</td>\n",
       "      <td>0.906183</td>\n",
       "      <td>0.422885</td>\n",
       "      <td>0.681818</td>\n",
       "      <td>0.318182</td>\n",
       "    </tr>\n",
       "    <tr>\n",
       "      <th>7</th>\n",
       "      <td>0.282918</td>\n",
       "      <td>-1.448024</td>\n",
       "      <td>0.571429</td>\n",
       "      <td>0.000000</td>\n",
       "      <td>0.969097</td>\n",
       "      <td>0.246679</td>\n",
       "      <td>0.797101</td>\n",
       "      <td>0.202899</td>\n",
       "    </tr>\n",
       "    <tr>\n",
       "      <th>8</th>\n",
       "      <td>0.056584</td>\n",
       "      <td>1.225251</td>\n",
       "      <td>0.500000</td>\n",
       "      <td>0.909091</td>\n",
       "      <td>0.909474</td>\n",
       "      <td>0.415760</td>\n",
       "      <td>0.686275</td>\n",
       "      <td>0.313725</td>\n",
       "    </tr>\n",
       "    <tr>\n",
       "      <th>9</th>\n",
       "      <td>0.961922</td>\n",
       "      <td>0.155941</td>\n",
       "      <td>0.785714</td>\n",
       "      <td>0.545455</td>\n",
       "      <td>0.952424</td>\n",
       "      <td>0.304776</td>\n",
       "      <td>0.757576</td>\n",
       "      <td>0.242424</td>\n",
       "    </tr>\n",
       "    <tr>\n",
       "      <th>10</th>\n",
       "      <td>-0.396085</td>\n",
       "      <td>-0.111386</td>\n",
       "      <td>0.357143</td>\n",
       "      <td>0.454545</td>\n",
       "      <td>0.928477</td>\n",
       "      <td>0.371391</td>\n",
       "      <td>0.714286</td>\n",
       "      <td>0.285714</td>\n",
       "    </tr>\n",
       "    <tr>\n",
       "      <th>11</th>\n",
       "      <td>1.414591</td>\n",
       "      <td>-1.047033</td>\n",
       "      <td>0.928571</td>\n",
       "      <td>0.136364</td>\n",
       "      <td>0.974634</td>\n",
       "      <td>0.223805</td>\n",
       "      <td>0.813253</td>\n",
       "      <td>0.186747</td>\n",
       "    </tr>\n",
       "  </tbody>\n",
       "</table>\n",
       "</div>"
      ],
      "text/plain": [
       "        A_ss      B_ss     A_mms     B_mms  A_nrm_l2  B_nrm_l2  A_nrm_l1  \\\n",
       "0  -0.169751  1.492579  0.428571  1.000000  0.894427  0.447214  0.666667   \n",
       "1   0.735587  1.358915  0.714286  0.954545  0.925793  0.378032  0.710059   \n",
       "2  -0.622420 -0.913369  0.285714  0.181818  0.942215  0.335010  0.737705   \n",
       "3   1.640925 -1.180697  1.000000  0.090909  0.977802  0.209529  0.823529   \n",
       "4  -1.075089  0.155941  0.142857  0.545455  0.894427  0.447214  0.666667   \n",
       "5  -1.527758  0.824260  0.000000  0.772727  0.841178  0.540758  0.608696   \n",
       "6  -1.301424 -0.512378  0.071429  0.318182  0.906183  0.422885  0.681818   \n",
       "7   0.282918 -1.448024  0.571429  0.000000  0.969097  0.246679  0.797101   \n",
       "8   0.056584  1.225251  0.500000  0.909091  0.909474  0.415760  0.686275   \n",
       "9   0.961922  0.155941  0.785714  0.545455  0.952424  0.304776  0.757576   \n",
       "10 -0.396085 -0.111386  0.357143  0.454545  0.928477  0.371391  0.714286   \n",
       "11  1.414591 -1.047033  0.928571  0.136364  0.974634  0.223805  0.813253   \n",
       "\n",
       "    B_nrm_l1  \n",
       "0   0.333333  \n",
       "1   0.289941  \n",
       "2   0.262295  \n",
       "3   0.176471  \n",
       "4   0.333333  \n",
       "5   0.391304  \n",
       "6   0.318182  \n",
       "7   0.202899  \n",
       "8   0.313725  \n",
       "9   0.242424  \n",
       "10  0.285714  \n",
       "11  0.186747  "
      ]
     },
     "execution_count": 134,
     "metadata": {},
     "output_type": "execute_result"
    }
   ],
   "source": [
    "df_all = pd.concat([df_ss,df_mms,df_nrm_l2,df_nrm_l1],axis=1)\n",
    "df_all.columns = ['A_ss','B_ss','A_mms','B_mms','A_nrm_l2','B_nrm_l2','A_nrm_l1','B_nrm_l1']\n",
    "df_all"
   ]
  },
  {
   "cell_type": "code",
   "execution_count": 135,
   "metadata": {},
   "outputs": [
    {
     "data": {
      "image/png": "[encoded data removed]",
      "text/plain": [
       "<Figure size 864x504 with 1 Axes>"
      ]
     },
     "metadata": {
      "needs_background": "light"
     },
     "output_type": "display_data"
    }
   ],
   "source": [
    "with plt.style.context('seaborn-bright'):\n",
    "    plt.figure(figsize=(12,7))\n",
    "    sns.stripplot(data=df_all)\n",
    "    plt.grid(which='major',linestyle='-.',color='lightgray')\n",
    "    plt.title(\"Effect of SS, MMS features scaling & \\n L2, L1 row norms\",\n",
    "              fontdict={'family':'calibri','size':18,'color':'purple','style':'oblique'})\n",
    "    plt.xticks(size=11,style='oblique',color='k')\n",
    "    plt.xlabel(\"Transformed Features\",fontdict={'family':'calibri','size':17,'color':'coral','style':'oblique'})\n",
    "    plt.yticks(size=11,style='oblique',color='k')\n",
    "    plt.ylabel(\"Feature Variation\",fontdict={'family':'calibri','size':17,'color':'coral','style':'oblique'})"
   ]
  },
  {
   "cell_type": "markdown",
   "metadata": {},
   "source": [
    "#### The above plot shows us the effects of all the applied techniques on the variance of dataset features. SS is the best choice before applying PCA and if closely observe L2 and L1 features then we can say that L1-norm has pulled the features more close to 0."
   ]
  },
  {
   "cell_type": "markdown",
   "metadata": {},
   "source": [
    "##### **Effects of SS, MMS, L2-norm and L1-norm on COV**"
   ]
  },
  {
   "cell_type": "code",
   "execution_count": 136,
   "metadata": {},
   "outputs": [
    {
     "data": {
      "text/plain": [
       "array([[ 1.09090909, -0.27364968],\n",
       "       [-0.27364968,  1.09090909]])"
      ]
     },
     "execution_count": 136,
     "metadata": {},
     "output_type": "execute_result"
    }
   ],
   "source": [
    "np.cov(df_ss,rowvar=False,bias=False)"
   ]
  },
  {
   "cell_type": "code",
   "execution_count": 137,
   "metadata": {},
   "outputs": [
    {
     "data": {
      "text/plain": [
       "array([[ 0.10865028, -0.02936836],\n",
       "       [-0.02936836,  0.12615828]])"
      ]
     },
     "execution_count": 137,
     "metadata": {},
     "output_type": "execute_result"
    }
   ],
   "source": [
    "np.cov(df_mms,rowvar=False,bias=False)"
   ]
  },
  {
   "cell_type": "code",
   "execution_count": 138,
   "metadata": {},
   "outputs": [
    {
     "data": {
      "text/plain": [
       "array([[ 0.00161147, -0.00401429],\n",
       "       [-0.00401429,  0.01027877]])"
      ]
     },
     "execution_count": 138,
     "metadata": {},
     "output_type": "execute_result"
    }
   ],
   "source": [
    "np.cov(df_nrm_l2,rowvar=False,bias=False)"
   ]
  },
  {
   "cell_type": "code",
   "execution_count": 139,
   "metadata": {},
   "outputs": [
    {
     "data": {
      "text/plain": [
       "array([[ 0.00434929, -0.00434929],\n",
       "       [-0.00434929,  0.00434929]])"
      ]
     },
     "execution_count": 139,
     "metadata": {},
     "output_type": "execute_result"
    }
   ],
   "source": [
    "np.cov(df_nrm_l1,rowvar=False,bias=False)"
   ]
  }
 ],
 "metadata": {
  "kernelspec": {
   "display_name": "Python 3",
   "language": "python",
   "name": "python3"
  },
  "language_info": {
   "codemirror_mode": {
    "name": "ipython",
    "version": 3
   },
   "file_extension": ".py",
   "mimetype": "text/x-python",
   "name": "python",
   "nbconvert_exporter": "python",
   "pygments_lexer": "ipython3",
   "version": "3.6.8"
  }
 },
 "nbformat": 4,
 "nbformat_minor": 4
}
