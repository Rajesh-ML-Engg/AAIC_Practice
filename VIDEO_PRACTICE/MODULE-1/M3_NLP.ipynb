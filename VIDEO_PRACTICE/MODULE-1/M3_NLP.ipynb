{
 "cells": [
  {
   "cell_type": "markdown",
   "metadata": {},
   "source": [
    "# ***`Amazon Fine Food Reviews`***"
   ]
  },
  {
   "cell_type": "markdown",
   "metadata": {},
   "source": [
    "---\n",
    "\n",
    "1. [ABC](#ABC)\n",
    "2. [ABC2](#ABC2)"
   ]
  },
  {
   "cell_type": "markdown",
   "metadata": {},
   "source": [
    "## ***`Import Packages`***"
   ]
  },
  {
   "cell_type": "code",
   "execution_count": 1,
   "metadata": {},
   "outputs": [],
   "source": [
    "import os\n",
    "import sys\n",
    "import logging\n",
    "\n",
    "logging.basicConfig(filename=\"SA2_Fine_Food_reviews.log\",\n",
    "                    filemode='w',\n",
    "                    level=logging.INFO,\n",
    "                    format=\"%(asctime)s : %(levelname)s : %(message)s\")\n",
    "\n",
    "try :\n",
    "    logging.info(\"#### Packages import ####\")\n",
    "    import numpy as np\n",
    "    import pandas as pd\n",
    "    import matplotlib.pyplot as plt\n",
    "    import seaborn as sns\n",
    "    import sklearn\n",
    "    import scipy\n",
    "    import nltk\n",
    "    import sqlite3 as sq3    \n",
    "except ImportError as ie:\n",
    "    # Output expected ImportErrors\n",
    "    logging.error(msg=ie.__class__.__name__  + \" :: Missing Package --> \" + ie.name)\n",
    "except Exception as exception:\n",
    "    # Output unexpected Exceptions\n",
    "    logging.info(\"#### Exceptions other than ModuleImportError ####\")\n",
    "    logging.log(msg=(exception, False))\n",
    "    logging.log(msg=exception.__class__.__name__ + \" :: \" + exception.name)\n",
    "\n",
    "%matplotlib inline"
   ]
  },
  {
   "cell_type": "markdown",
   "metadata": {},
   "source": [
    "##### **Setting global variables**"
   ]
  },
  {
   "cell_type": "code",
   "execution_count": 92,
   "metadata": {},
   "outputs": [],
   "source": [
    "title_font_dict = {'size':21,'family':'calibri','style':'oblique','color':'purple'}\n",
    "labels_font_dict = {'size':19,'family':'calibri','style':'oblique','color':'coral'}"
   ]
  },
  {
   "cell_type": "markdown",
   "metadata": {},
   "source": [
    "##### **Setting the max rows display number**"
   ]
  },
  {
   "cell_type": "code",
   "execution_count": 63,
   "metadata": {},
   "outputs": [],
   "source": [
    "pd.set_option('display.max_rows',50)"
   ]
  },
  {
   "cell_type": "markdown",
   "metadata": {},
   "source": [
    "##### **Creating SQLite connection**"
   ]
  },
  {
   "cell_type": "code",
   "execution_count": 2,
   "metadata": {},
   "outputs": [],
   "source": [
    "sq3_conn = sq3.connect('Datasets/database.sqlite')"
   ]
  },
  {
   "cell_type": "code",
   "execution_count": 10,
   "metadata": {},
   "outputs": [],
   "source": [
    "tables_list = '''SELECT \n",
    "    name as TABLES\n",
    "FROM \n",
    "    sqlite_master \n",
    "WHERE \n",
    "    type ='table'AND \n",
    "    name NOT LIKE 'sqlite_%';'''"
   ]
  },
  {
   "cell_type": "code",
   "execution_count": 11,
   "metadata": {},
   "outputs": [
    {
     "data": {
      "text/html": [
       "<div>\n",
       "<style scoped>\n",
       "    .dataframe tbody tr th:only-of-type {\n",
       "        vertical-align: middle;\n",
       "    }\n",
       "\n",
       "    .dataframe tbody tr th {\n",
       "        vertical-align: top;\n",
       "    }\n",
       "\n",
       "    .dataframe thead th {\n",
       "        text-align: right;\n",
       "    }\n",
       "</style>\n",
       "<table border=\"1\" class=\"dataframe\">\n",
       "  <thead>\n",
       "    <tr style=\"text-align: right;\">\n",
       "      <th></th>\n",
       "      <th>TABLES</th>\n",
       "    </tr>\n",
       "  </thead>\n",
       "  <tbody>\n",
       "    <tr>\n",
       "      <th>0</th>\n",
       "      <td>Reviews</td>\n",
       "    </tr>\n",
       "  </tbody>\n",
       "</table>\n",
       "</div>"
      ],
      "text/plain": [
       "    TABLES\n",
       "0  Reviews"
      ]
     },
     "execution_count": 11,
     "metadata": {},
     "output_type": "execute_result"
    }
   ],
   "source": [
    "pd.read_sql_query(sql=tables_list,con=sq3_conn)"
   ]
  },
  {
   "cell_type": "markdown",
   "metadata": {},
   "source": [
    "#### **Some additional description**"
   ]
  },
  {
   "cell_type": "code",
   "execution_count": 17,
   "metadata": {},
   "outputs": [
    {
     "data": {
      "text/html": [
       "<div>\n",
       "<style scoped>\n",
       "    .dataframe tbody tr th:only-of-type {\n",
       "        vertical-align: middle;\n",
       "    }\n",
       "\n",
       "    .dataframe tbody tr th {\n",
       "        vertical-align: top;\n",
       "    }\n",
       "\n",
       "    .dataframe thead th {\n",
       "        text-align: right;\n",
       "    }\n",
       "</style>\n",
       "<table border=\"1\" class=\"dataframe\">\n",
       "  <thead>\n",
       "    <tr style=\"text-align: right;\">\n",
       "      <th></th>\n",
       "      <th>type</th>\n",
       "      <th>name</th>\n",
       "      <th>tbl_name</th>\n",
       "      <th>rootpage</th>\n",
       "      <th>sql</th>\n",
       "    </tr>\n",
       "  </thead>\n",
       "  <tbody>\n",
       "    <tr>\n",
       "      <th>0</th>\n",
       "      <td>table</td>\n",
       "      <td>Reviews</td>\n",
       "      <td>Reviews</td>\n",
       "      <td>2</td>\n",
       "      <td>CREATE TABLE Reviews (\\n    Id INTEGER PRIMARY...</td>\n",
       "    </tr>\n",
       "  </tbody>\n",
       "</table>\n",
       "</div>"
      ],
      "text/plain": [
       "    type     name tbl_name  rootpage  \\\n",
       "0  table  Reviews  Reviews         2   \n",
       "\n",
       "                                                 sql  \n",
       "0  CREATE TABLE Reviews (\\n    Id INTEGER PRIMARY...  "
      ]
     },
     "execution_count": 17,
     "metadata": {},
     "output_type": "execute_result"
    }
   ],
   "source": [
    "pd.read_sql_query('''SELECT * FROM sqlite_master''',con=sq3_conn)"
   ]
  },
  {
   "cell_type": "markdown",
   "metadata": {},
   "source": [
    "### **We only have 1 table in this database i.e. `Reviews`**\n",
    "\n",
    "#### **Now, lets explore the Reviews table...**"
   ]
  },
  {
   "cell_type": "code",
   "execution_count": 43,
   "metadata": {},
   "outputs": [],
   "source": [
    "reviews_df = pd.read_sql_query('''SELECT * FROM reviews WHERE score != 3;''',con=sq3_conn)"
   ]
  },
  {
   "cell_type": "code",
   "execution_count": 44,
   "metadata": {},
   "outputs": [
    {
     "data": {
      "text/html": [
       "<div>\n",
       "<style scoped>\n",
       "    .dataframe tbody tr th:only-of-type {\n",
       "        vertical-align: middle;\n",
       "    }\n",
       "\n",
       "    .dataframe tbody tr th {\n",
       "        vertical-align: top;\n",
       "    }\n",
       "\n",
       "    .dataframe thead th {\n",
       "        text-align: right;\n",
       "    }\n",
       "</style>\n",
       "<table border=\"1\" class=\"dataframe\">\n",
       "  <thead>\n",
       "    <tr style=\"text-align: right;\">\n",
       "      <th></th>\n",
       "      <th>Id</th>\n",
       "      <th>ProductId</th>\n",
       "      <th>UserId</th>\n",
       "      <th>ProfileName</th>\n",
       "      <th>HelpfulnessNumerator</th>\n",
       "      <th>HelpfulnessDenominator</th>\n",
       "      <th>Score</th>\n",
       "      <th>Time</th>\n",
       "      <th>Summary</th>\n",
       "      <th>Text</th>\n",
       "    </tr>\n",
       "  </thead>\n",
       "  <tbody>\n",
       "    <tr>\n",
       "      <th>0</th>\n",
       "      <td>1</td>\n",
       "      <td>B001E4KFG0</td>\n",
       "      <td>A3SGXH7AUHU8GW</td>\n",
       "      <td>delmartian</td>\n",
       "      <td>1</td>\n",
       "      <td>1</td>\n",
       "      <td>5</td>\n",
       "      <td>1303862400</td>\n",
       "      <td>Good Quality Dog Food</td>\n",
       "      <td>I have bought several of the Vitality canned d...</td>\n",
       "    </tr>\n",
       "    <tr>\n",
       "      <th>1</th>\n",
       "      <td>2</td>\n",
       "      <td>B00813GRG4</td>\n",
       "      <td>A1D87F6ZCVE5NK</td>\n",
       "      <td>dll pa</td>\n",
       "      <td>0</td>\n",
       "      <td>0</td>\n",
       "      <td>1</td>\n",
       "      <td>1346976000</td>\n",
       "      <td>Not as Advertised</td>\n",
       "      <td>Product arrived labeled as Jumbo Salted Peanut...</td>\n",
       "    </tr>\n",
       "    <tr>\n",
       "      <th>2</th>\n",
       "      <td>3</td>\n",
       "      <td>B000LQOCH0</td>\n",
       "      <td>ABXLMWJIXXAIN</td>\n",
       "      <td>Natalia Corres \"Natalia Corres\"</td>\n",
       "      <td>1</td>\n",
       "      <td>1</td>\n",
       "      <td>4</td>\n",
       "      <td>1219017600</td>\n",
       "      <td>\"Delight\" says it all</td>\n",
       "      <td>This is a confection that has been around a fe...</td>\n",
       "    </tr>\n",
       "    <tr>\n",
       "      <th>3</th>\n",
       "      <td>4</td>\n",
       "      <td>B000UA0QIQ</td>\n",
       "      <td>A395BORC6FGVXV</td>\n",
       "      <td>Karl</td>\n",
       "      <td>3</td>\n",
       "      <td>3</td>\n",
       "      <td>2</td>\n",
       "      <td>1307923200</td>\n",
       "      <td>Cough Medicine</td>\n",
       "      <td>If you are looking for the secret ingredient i...</td>\n",
       "    </tr>\n",
       "    <tr>\n",
       "      <th>4</th>\n",
       "      <td>5</td>\n",
       "      <td>B006K2ZZ7K</td>\n",
       "      <td>A1UQRSCLF8GW1T</td>\n",
       "      <td>Michael D. Bigham \"M. Wassir\"</td>\n",
       "      <td>0</td>\n",
       "      <td>0</td>\n",
       "      <td>5</td>\n",
       "      <td>1350777600</td>\n",
       "      <td>Great taffy</td>\n",
       "      <td>Great taffy at a great price.  There was a wid...</td>\n",
       "    </tr>\n",
       "  </tbody>\n",
       "</table>\n",
       "</div>"
      ],
      "text/plain": [
       "   Id   ProductId          UserId                      ProfileName  \\\n",
       "0   1  B001E4KFG0  A3SGXH7AUHU8GW                       delmartian   \n",
       "1   2  B00813GRG4  A1D87F6ZCVE5NK                           dll pa   \n",
       "2   3  B000LQOCH0   ABXLMWJIXXAIN  Natalia Corres \"Natalia Corres\"   \n",
       "3   4  B000UA0QIQ  A395BORC6FGVXV                             Karl   \n",
       "4   5  B006K2ZZ7K  A1UQRSCLF8GW1T    Michael D. Bigham \"M. Wassir\"   \n",
       "\n",
       "   HelpfulnessNumerator  HelpfulnessDenominator  Score        Time  \\\n",
       "0                     1                       1      5  1303862400   \n",
       "1                     0                       0      1  1346976000   \n",
       "2                     1                       1      4  1219017600   \n",
       "3                     3                       3      2  1307923200   \n",
       "4                     0                       0      5  1350777600   \n",
       "\n",
       "                 Summary                                               Text  \n",
       "0  Good Quality Dog Food  I have bought several of the Vitality canned d...  \n",
       "1      Not as Advertised  Product arrived labeled as Jumbo Salted Peanut...  \n",
       "2  \"Delight\" says it all  This is a confection that has been around a fe...  \n",
       "3         Cough Medicine  If you are looking for the secret ingredient i...  \n",
       "4            Great taffy  Great taffy at a great price.  There was a wid...  "
      ]
     },
     "execution_count": 44,
     "metadata": {},
     "output_type": "execute_result"
    }
   ],
   "source": [
    "reviews_df.head()"
   ]
  },
  {
   "cell_type": "code",
   "execution_count": 46,
   "metadata": {},
   "outputs": [
    {
     "data": {
      "text/plain": [
       "(525814, 10)"
      ]
     },
     "execution_count": 46,
     "metadata": {},
     "output_type": "execute_result"
    }
   ],
   "source": [
    "reviews_df.shape"
   ]
  },
  {
   "cell_type": "code",
   "execution_count": 45,
   "metadata": {},
   "outputs": [
    {
     "data": {
      "text/plain": [
       "5    363122\n",
       "4     80655\n",
       "1     52268\n",
       "2     29769\n",
       "Name: Score, dtype: int64"
      ]
     },
     "execution_count": 45,
     "metadata": {},
     "output_type": "execute_result"
    }
   ],
   "source": [
    "reviews_df['Score'].value_counts()"
   ]
  },
  {
   "cell_type": "code",
   "execution_count": 48,
   "metadata": {},
   "outputs": [],
   "source": [
    "reviews_df['Label'] = reviews_df['Score'].apply(lambda scr: 'Positive' if scr > 3 else 'Negative')"
   ]
  },
  {
   "cell_type": "code",
   "execution_count": 49,
   "metadata": {},
   "outputs": [
    {
     "data": {
      "text/plain": [
       "Positive    443777\n",
       "Negative     82037\n",
       "Name: Label, dtype: int64"
      ]
     },
     "execution_count": 49,
     "metadata": {},
     "output_type": "execute_result"
    }
   ],
   "source": [
    "reviews_df['Label'].value_counts()"
   ]
  },
  {
   "cell_type": "code",
   "execution_count": 50,
   "metadata": {},
   "outputs": [
    {
     "data": {
      "text/html": [
       "<div>\n",
       "<style scoped>\n",
       "    .dataframe tbody tr th:only-of-type {\n",
       "        vertical-align: middle;\n",
       "    }\n",
       "\n",
       "    .dataframe tbody tr th {\n",
       "        vertical-align: top;\n",
       "    }\n",
       "\n",
       "    .dataframe thead th {\n",
       "        text-align: right;\n",
       "    }\n",
       "</style>\n",
       "<table border=\"1\" class=\"dataframe\">\n",
       "  <thead>\n",
       "    <tr style=\"text-align: right;\">\n",
       "      <th></th>\n",
       "      <th>ProductId</th>\n",
       "      <th>UserId</th>\n",
       "      <th>ProfileName</th>\n",
       "      <th>HelpfulnessNumerator</th>\n",
       "      <th>HelpfulnessDenominator</th>\n",
       "      <th>Time</th>\n",
       "      <th>Summary</th>\n",
       "      <th>Text</th>\n",
       "      <th>Label</th>\n",
       "    </tr>\n",
       "  </thead>\n",
       "  <tbody>\n",
       "    <tr>\n",
       "      <th>0</th>\n",
       "      <td>B001E4KFG0</td>\n",
       "      <td>A3SGXH7AUHU8GW</td>\n",
       "      <td>delmartian</td>\n",
       "      <td>1</td>\n",
       "      <td>1</td>\n",
       "      <td>1303862400</td>\n",
       "      <td>Good Quality Dog Food</td>\n",
       "      <td>I have bought several of the Vitality canned d...</td>\n",
       "      <td>Positive</td>\n",
       "    </tr>\n",
       "    <tr>\n",
       "      <th>1</th>\n",
       "      <td>B00813GRG4</td>\n",
       "      <td>A1D87F6ZCVE5NK</td>\n",
       "      <td>dll pa</td>\n",
       "      <td>0</td>\n",
       "      <td>0</td>\n",
       "      <td>1346976000</td>\n",
       "      <td>Not as Advertised</td>\n",
       "      <td>Product arrived labeled as Jumbo Salted Peanut...</td>\n",
       "      <td>Negative</td>\n",
       "    </tr>\n",
       "    <tr>\n",
       "      <th>2</th>\n",
       "      <td>B000LQOCH0</td>\n",
       "      <td>ABXLMWJIXXAIN</td>\n",
       "      <td>Natalia Corres \"Natalia Corres\"</td>\n",
       "      <td>1</td>\n",
       "      <td>1</td>\n",
       "      <td>1219017600</td>\n",
       "      <td>\"Delight\" says it all</td>\n",
       "      <td>This is a confection that has been around a fe...</td>\n",
       "      <td>Positive</td>\n",
       "    </tr>\n",
       "    <tr>\n",
       "      <th>3</th>\n",
       "      <td>B000UA0QIQ</td>\n",
       "      <td>A395BORC6FGVXV</td>\n",
       "      <td>Karl</td>\n",
       "      <td>3</td>\n",
       "      <td>3</td>\n",
       "      <td>1307923200</td>\n",
       "      <td>Cough Medicine</td>\n",
       "      <td>If you are looking for the secret ingredient i...</td>\n",
       "      <td>Negative</td>\n",
       "    </tr>\n",
       "    <tr>\n",
       "      <th>4</th>\n",
       "      <td>B006K2ZZ7K</td>\n",
       "      <td>A1UQRSCLF8GW1T</td>\n",
       "      <td>Michael D. Bigham \"M. Wassir\"</td>\n",
       "      <td>0</td>\n",
       "      <td>0</td>\n",
       "      <td>1350777600</td>\n",
       "      <td>Great taffy</td>\n",
       "      <td>Great taffy at a great price.  There was a wid...</td>\n",
       "      <td>Positive</td>\n",
       "    </tr>\n",
       "  </tbody>\n",
       "</table>\n",
       "</div>"
      ],
      "text/plain": [
       "    ProductId          UserId                      ProfileName  \\\n",
       "0  B001E4KFG0  A3SGXH7AUHU8GW                       delmartian   \n",
       "1  B00813GRG4  A1D87F6ZCVE5NK                           dll pa   \n",
       "2  B000LQOCH0   ABXLMWJIXXAIN  Natalia Corres \"Natalia Corres\"   \n",
       "3  B000UA0QIQ  A395BORC6FGVXV                             Karl   \n",
       "4  B006K2ZZ7K  A1UQRSCLF8GW1T    Michael D. Bigham \"M. Wassir\"   \n",
       "\n",
       "   HelpfulnessNumerator  HelpfulnessDenominator        Time  \\\n",
       "0                     1                       1  1303862400   \n",
       "1                     0                       0  1346976000   \n",
       "2                     1                       1  1219017600   \n",
       "3                     3                       3  1307923200   \n",
       "4                     0                       0  1350777600   \n",
       "\n",
       "                 Summary                                               Text  \\\n",
       "0  Good Quality Dog Food  I have bought several of the Vitality canned d...   \n",
       "1      Not as Advertised  Product arrived labeled as Jumbo Salted Peanut...   \n",
       "2  \"Delight\" says it all  This is a confection that has been around a fe...   \n",
       "3         Cough Medicine  If you are looking for the secret ingredient i...   \n",
       "4            Great taffy  Great taffy at a great price.  There was a wid...   \n",
       "\n",
       "      Label  \n",
       "0  Positive  \n",
       "1  Negative  \n",
       "2  Positive  \n",
       "3  Negative  \n",
       "4  Positive  "
      ]
     },
     "execution_count": 50,
     "metadata": {},
     "output_type": "execute_result"
    }
   ],
   "source": [
    "reviews_df.drop(labels=['Id','Score'],axis=1,inplace=True)\n",
    "reviews_df.head()"
   ]
  },
  {
   "cell_type": "markdown",
   "metadata": {},
   "source": [
    "## ***`Exploratory_Data_Analysis`***"
   ]
  },
  {
   "cell_type": "markdown",
   "metadata": {},
   "source": [
    "#### **Q1. What are the top 50 most reviewed products?**"
   ]
  },
  {
   "cell_type": "code",
   "execution_count": 78,
   "metadata": {},
   "outputs": [
    {
     "data": {
      "text/html": [
       "<div>\n",
       "<style scoped>\n",
       "    .dataframe tbody tr th:only-of-type {\n",
       "        vertical-align: middle;\n",
       "    }\n",
       "\n",
       "    .dataframe tbody tr th {\n",
       "        vertical-align: top;\n",
       "    }\n",
       "\n",
       "    .dataframe thead th {\n",
       "        text-align: right;\n",
       "    }\n",
       "</style>\n",
       "<table border=\"1\" class=\"dataframe\">\n",
       "  <thead>\n",
       "    <tr style=\"text-align: right;\">\n",
       "      <th></th>\n",
       "      <th>index</th>\n",
       "      <th>ProductId</th>\n",
       "    </tr>\n",
       "  </thead>\n",
       "  <tbody>\n",
       "    <tr>\n",
       "      <th>0</th>\n",
       "      <td>B007JFMH8M</td>\n",
       "      <td>857</td>\n",
       "    </tr>\n",
       "    <tr>\n",
       "      <th>1</th>\n",
       "      <td>B002QWP89S</td>\n",
       "      <td>611</td>\n",
       "    </tr>\n",
       "    <tr>\n",
       "      <th>2</th>\n",
       "      <td>B002QWP8H0</td>\n",
       "      <td>611</td>\n",
       "    </tr>\n",
       "    <tr>\n",
       "      <th>3</th>\n",
       "      <td>B002QWHJOU</td>\n",
       "      <td>611</td>\n",
       "    </tr>\n",
       "    <tr>\n",
       "      <th>4</th>\n",
       "      <td>B0026RQTGE</td>\n",
       "      <td>611</td>\n",
       "    </tr>\n",
       "  </tbody>\n",
       "</table>\n",
       "</div>"
      ],
      "text/plain": [
       "        index  ProductId\n",
       "0  B007JFMH8M        857\n",
       "1  B002QWP89S        611\n",
       "2  B002QWP8H0        611\n",
       "3  B002QWHJOU        611\n",
       "4  B0026RQTGE        611"
      ]
     },
     "execution_count": 78,
     "metadata": {},
     "output_type": "execute_result"
    }
   ],
   "source": [
    "most_rvw_prd = pd.DataFrame(reviews_df['ProductId'].value_counts()).reset_index().head(50)\n",
    "most_rvw_prd.head()"
   ]
  },
  {
   "cell_type": "code",
   "execution_count": 96,
   "metadata": {},
   "outputs": [
    {
     "data": {
      "image/png": "[encoded data removed]",
      "text/plain": [
       "<Figure size 1296x432 with 1 Axes>"
      ]
     },
     "metadata": {
      "needs_background": "light"
     },
     "output_type": "display_data"
    }
   ],
   "source": [
    "with plt.style.context('seaborn-bright'):\n",
    "    plt.figure(figsize=(18,6))\n",
    "    sns.barplot(data=most_rvw_prd,x='index',y='ProductId',palette='magma')\n",
    "    plt.title(\"Top 50 most reviewed products\",fontdict=title_font_dict)\n",
    "    plt.xlabel(\"Product-Id's\",fontdict=labels_font_dict)\n",
    "    plt.ylabel(\"Number of reviews\",fontdict=labels_font_dict)\n",
    "    plt.xticks(rotation=90,size=12,style='oblique')"
   ]
  },
  {
   "cell_type": "markdown",
   "metadata": {},
   "source": [
    "#### **Q2. Does one user review is getting duplicated for multiple Products?**"
   ]
  },
  {
   "cell_type": "code",
   "execution_count": 119,
   "metadata": {},
   "outputs": [],
   "source": [
    "dup_reviews = pd.DataFrame(reviews_df.groupby(['UserId','ProfileName','Time','Summary','Text'])['ProductId'].count())"
   ]
  },
  {
   "cell_type": "code",
   "execution_count": 120,
   "metadata": {},
   "outputs": [
    {
     "data": {
      "text/html": [
       "<div>\n",
       "<style scoped>\n",
       "    .dataframe tbody tr th:only-of-type {\n",
       "        vertical-align: middle;\n",
       "    }\n",
       "\n",
       "    .dataframe tbody tr th {\n",
       "        vertical-align: top;\n",
       "    }\n",
       "\n",
       "    .dataframe thead th {\n",
       "        text-align: right;\n",
       "    }\n",
       "</style>\n",
       "<table border=\"1\" class=\"dataframe\">\n",
       "  <thead>\n",
       "    <tr style=\"text-align: right;\">\n",
       "      <th></th>\n",
       "      <th>UserId</th>\n",
       "      <th>ProfileName</th>\n",
       "      <th>Time</th>\n",
       "      <th>Summary</th>\n",
       "      <th>Text</th>\n",
       "      <th>ProductId</th>\n",
       "    </tr>\n",
       "  </thead>\n",
       "  <tbody>\n",
       "    <tr>\n",
       "      <th>0</th>\n",
       "      <td>A3TVZM3ZIXG8YW</td>\n",
       "      <td>christopher hayes</td>\n",
       "      <td>1291420800</td>\n",
       "      <td>Filler food is empty, leaves your cat always n...</td>\n",
       "      <td>This review will make me sound really stupid, ...</td>\n",
       "      <td>199</td>\n",
       "    </tr>\n",
       "    <tr>\n",
       "      <th>1</th>\n",
       "      <td>A29JUMRL1US6YP</td>\n",
       "      <td>HTBK</td>\n",
       "      <td>1278201600</td>\n",
       "      <td>Fantastic Food for Good Cat Health</td>\n",
       "      <td>The pet food industry can be one of the most i...</td>\n",
       "      <td>45</td>\n",
       "    </tr>\n",
       "    <tr>\n",
       "      <th>2</th>\n",
       "      <td>A1UQBFCERIP7VJ</td>\n",
       "      <td>Margaret Picky</td>\n",
       "      <td>1321401600</td>\n",
       "      <td>Stash Chamomile Herbal Tea</td>\n",
       "      <td>Stash Chamomile Herbal Tea is tea bags with dr...</td>\n",
       "      <td>36</td>\n",
       "    </tr>\n",
       "    <tr>\n",
       "      <th>3</th>\n",
       "      <td>A29JUMRL1US6YP</td>\n",
       "      <td>HTBK</td>\n",
       "      <td>1278201600</td>\n",
       "      <td>Fantastic Food for Good Cat Health</td>\n",
       "      <td>The pet food industry can be one of the most i...</td>\n",
       "      <td>35</td>\n",
       "    </tr>\n",
       "    <tr>\n",
       "      <th>4</th>\n",
       "      <td>A36JDIN9RAAIEC</td>\n",
       "      <td>Jon</td>\n",
       "      <td>1292976000</td>\n",
       "      <td>Great product, but trust your vet not the hype</td>\n",
       "      <td>I have two cats, one 6 and one 2 years old. Bo...</td>\n",
       "      <td>34</td>\n",
       "    </tr>\n",
       "    <tr>\n",
       "      <th>5</th>\n",
       "      <td>A20P8VC55KPPCT</td>\n",
       "      <td>FL Mom</td>\n",
       "      <td>1310860800</td>\n",
       "      <td>Love all HappyBaby Tots!</td>\n",
       "      <td>My kids (18 mo and 3 yrs) love the HappyBaby T...</td>\n",
       "      <td>31</td>\n",
       "    </tr>\n",
       "    <tr>\n",
       "      <th>6</th>\n",
       "      <td>AYQ8RLE0K6RU8</td>\n",
       "      <td>M. Brown \"TankerToys.com\"</td>\n",
       "      <td>1187913600</td>\n",
       "      <td>3 out of 4 Paws</td>\n",
       "      <td>First Impression: The friendly folks over at \"...</td>\n",
       "      <td>31</td>\n",
       "    </tr>\n",
       "    <tr>\n",
       "      <th>7</th>\n",
       "      <td>A24PZR4W555WQI</td>\n",
       "      <td>D. Saldarriaga</td>\n",
       "      <td>1294617600</td>\n",
       "      <td>My dogs love Wellness</td>\n",
       "      <td>My dogs and I love this food. They never leave...</td>\n",
       "      <td>28</td>\n",
       "    </tr>\n",
       "    <tr>\n",
       "      <th>8</th>\n",
       "      <td>A3PJZ8TU8FDQ1K</td>\n",
       "      <td>Jared Castle</td>\n",
       "      <td>1231718400</td>\n",
       "      <td>One bite and you'll become a \"chippoisseur\"</td>\n",
       "      <td>I'm addicted to salty and tangy flavors, so wh...</td>\n",
       "      <td>28</td>\n",
       "    </tr>\n",
       "    <tr>\n",
       "      <th>9</th>\n",
       "      <td>A1BD342U8BF3UC</td>\n",
       "      <td>Britney</td>\n",
       "      <td>1314230400</td>\n",
       "      <td>I got this for a diet i tried</td>\n",
       "      <td>Ok, sounds crazy i know but i heard about this...</td>\n",
       "      <td>28</td>\n",
       "    </tr>\n",
       "  </tbody>\n",
       "</table>\n",
       "</div>"
      ],
      "text/plain": [
       "           UserId                ProfileName        Time  \\\n",
       "0  A3TVZM3ZIXG8YW          christopher hayes  1291420800   \n",
       "1  A29JUMRL1US6YP                       HTBK  1278201600   \n",
       "2  A1UQBFCERIP7VJ             Margaret Picky  1321401600   \n",
       "3  A29JUMRL1US6YP                       HTBK  1278201600   \n",
       "4  A36JDIN9RAAIEC                        Jon  1292976000   \n",
       "5  A20P8VC55KPPCT                     FL Mom  1310860800   \n",
       "6   AYQ8RLE0K6RU8  M. Brown \"TankerToys.com\"  1187913600   \n",
       "7  A24PZR4W555WQI             D. Saldarriaga  1294617600   \n",
       "8  A3PJZ8TU8FDQ1K               Jared Castle  1231718400   \n",
       "9  A1BD342U8BF3UC                    Britney  1314230400   \n",
       "\n",
       "                                             Summary  \\\n",
       "0  Filler food is empty, leaves your cat always n...   \n",
       "1                 Fantastic Food for Good Cat Health   \n",
       "2                         Stash Chamomile Herbal Tea   \n",
       "3                 Fantastic Food for Good Cat Health   \n",
       "4     Great product, but trust your vet not the hype   \n",
       "5                           Love all HappyBaby Tots!   \n",
       "6                                    3 out of 4 Paws   \n",
       "7                              My dogs love Wellness   \n",
       "8        One bite and you'll become a \"chippoisseur\"   \n",
       "9                      I got this for a diet i tried   \n",
       "\n",
       "                                                Text  ProductId  \n",
       "0  This review will make me sound really stupid, ...        199  \n",
       "1  The pet food industry can be one of the most i...         45  \n",
       "2  Stash Chamomile Herbal Tea is tea bags with dr...         36  \n",
       "3  The pet food industry can be one of the most i...         35  \n",
       "4  I have two cats, one 6 and one 2 years old. Bo...         34  \n",
       "5  My kids (18 mo and 3 yrs) love the HappyBaby T...         31  \n",
       "6  First Impression: The friendly folks over at \"...         31  \n",
       "7  My dogs and I love this food. They never leave...         28  \n",
       "8  I'm addicted to salty and tangy flavors, so wh...         28  \n",
       "9  Ok, sounds crazy i know but i heard about this...         28  "
      ]
     },
     "execution_count": 120,
     "metadata": {},
     "output_type": "execute_result"
    }
   ],
   "source": [
    "dup_reviews = dup_reviews[dup_reviews['ProductId'] > 1].reset_index().sort_values(by='ProductId',ascending=False).reset_index()\n",
    "dup_reviews.drop(['index'],axis=1,inplace=True)\n",
    "dup_reviews.head(10)"
   ]
  },
  {
   "cell_type": "markdown",
   "metadata": {},
   "source": [
    "### **Here are some unexpected results, many reviews are getting duplicated across products. And, one of the user reviews is getting duplicated for almost 200 times across different products.**"
   ]
  },
  {
   "cell_type": "markdown",
   "metadata": {},
   "source": [
    "#### **`Example-1`**"
   ]
  },
  {
   "cell_type": "code",
   "execution_count": 130,
   "metadata": {},
   "outputs": [
    {
     "data": {
      "text/html": [
       "<div>\n",
       "<style scoped>\n",
       "    .dataframe tbody tr th:only-of-type {\n",
       "        vertical-align: middle;\n",
       "    }\n",
       "\n",
       "    .dataframe tbody tr th {\n",
       "        vertical-align: top;\n",
       "    }\n",
       "\n",
       "    .dataframe thead th {\n",
       "        text-align: right;\n",
       "    }\n",
       "</style>\n",
       "<table border=\"1\" class=\"dataframe\">\n",
       "  <thead>\n",
       "    <tr style=\"text-align: right;\">\n",
       "      <th></th>\n",
       "      <th>ProductId</th>\n",
       "      <th>UserId</th>\n",
       "      <th>ProfileName</th>\n",
       "      <th>HelpfulnessNumerator</th>\n",
       "      <th>HelpfulnessDenominator</th>\n",
       "      <th>Time</th>\n",
       "      <th>Summary</th>\n",
       "      <th>Text</th>\n",
       "      <th>Label</th>\n",
       "    </tr>\n",
       "  </thead>\n",
       "  <tbody>\n",
       "    <tr>\n",
       "      <th>58313</th>\n",
       "      <td>B0019ZB4KA</td>\n",
       "      <td>A29JUMRL1US6YP</td>\n",
       "      <td>HTBK</td>\n",
       "      <td>6</td>\n",
       "      <td>6</td>\n",
       "      <td>1278201600</td>\n",
       "      <td>Fantastic Food for Good Cat Health</td>\n",
       "      <td>The pet food industry can be one of the most i...</td>\n",
       "      <td>Positive</td>\n",
       "    </tr>\n",
       "    <tr>\n",
       "      <th>106360</th>\n",
       "      <td>B000WFUL3E</td>\n",
       "      <td>A29JUMRL1US6YP</td>\n",
       "      <td>HTBK</td>\n",
       "      <td>3</td>\n",
       "      <td>4</td>\n",
       "      <td>1278201600</td>\n",
       "      <td>Fantastic Food for Good Cat Health</td>\n",
       "      <td>The pet food industry can be one of the most i...</td>\n",
       "      <td>Positive</td>\n",
       "    </tr>\n",
       "    <tr>\n",
       "      <th>106396</th>\n",
       "      <td>B000WFUL3E</td>\n",
       "      <td>A29JUMRL1US6YP</td>\n",
       "      <td>HTBK</td>\n",
       "      <td>38</td>\n",
       "      <td>40</td>\n",
       "      <td>1278201600</td>\n",
       "      <td>Fantastic Food for Good Cat Health</td>\n",
       "      <td>The pet food industry can be one of the most i...</td>\n",
       "      <td>Positive</td>\n",
       "    </tr>\n",
       "    <tr>\n",
       "      <th>106402</th>\n",
       "      <td>B000WFUL3E</td>\n",
       "      <td>A29JUMRL1US6YP</td>\n",
       "      <td>HTBK</td>\n",
       "      <td>19</td>\n",
       "      <td>23</td>\n",
       "      <td>1278201600</td>\n",
       "      <td>Fantastic Food for Good Cat Health</td>\n",
       "      <td>The pet food industry can be one of the most i...</td>\n",
       "      <td>Positive</td>\n",
       "    </tr>\n",
       "    <tr>\n",
       "      <th>106405</th>\n",
       "      <td>B000WFUL3E</td>\n",
       "      <td>A29JUMRL1US6YP</td>\n",
       "      <td>HTBK</td>\n",
       "      <td>12</td>\n",
       "      <td>14</td>\n",
       "      <td>1278201600</td>\n",
       "      <td>Fantastic Food for Good Cat Health</td>\n",
       "      <td>The pet food industry can be one of the most i...</td>\n",
       "      <td>Positive</td>\n",
       "    </tr>\n",
       "    <tr>\n",
       "      <th>...</th>\n",
       "      <td>...</td>\n",
       "      <td>...</td>\n",
       "      <td>...</td>\n",
       "      <td>...</td>\n",
       "      <td>...</td>\n",
       "      <td>...</td>\n",
       "      <td>...</td>\n",
       "      <td>...</td>\n",
       "      <td>...</td>\n",
       "    </tr>\n",
       "    <tr>\n",
       "      <th>449582</th>\n",
       "      <td>B00008CQVA</td>\n",
       "      <td>A29JUMRL1US6YP</td>\n",
       "      <td>HTBK</td>\n",
       "      <td>3</td>\n",
       "      <td>3</td>\n",
       "      <td>1278201600</td>\n",
       "      <td>Fantastic Food for Good Cat Health</td>\n",
       "      <td>The pet food industry can be one of the most i...</td>\n",
       "      <td>Positive</td>\n",
       "    </tr>\n",
       "    <tr>\n",
       "      <th>449583</th>\n",
       "      <td>B00008CQVA</td>\n",
       "      <td>A29JUMRL1US6YP</td>\n",
       "      <td>HTBK</td>\n",
       "      <td>3</td>\n",
       "      <td>3</td>\n",
       "      <td>1278201600</td>\n",
       "      <td>Fantastic Food for Good Cat Health</td>\n",
       "      <td>The pet food industry can be one of the most i...</td>\n",
       "      <td>Positive</td>\n",
       "    </tr>\n",
       "    <tr>\n",
       "      <th>449590</th>\n",
       "      <td>B00008CQVA</td>\n",
       "      <td>A29JUMRL1US6YP</td>\n",
       "      <td>HTBK</td>\n",
       "      <td>5</td>\n",
       "      <td>6</td>\n",
       "      <td>1278201600</td>\n",
       "      <td>Fantastic Food for Good Cat Health</td>\n",
       "      <td>The pet food industry can be one of the most i...</td>\n",
       "      <td>Positive</td>\n",
       "    </tr>\n",
       "    <tr>\n",
       "      <th>449613</th>\n",
       "      <td>B00008CQVA</td>\n",
       "      <td>A29JUMRL1US6YP</td>\n",
       "      <td>HTBK</td>\n",
       "      <td>2</td>\n",
       "      <td>2</td>\n",
       "      <td>1278201600</td>\n",
       "      <td>Fantastic Food for Good Cat Health</td>\n",
       "      <td>The pet food industry can be one of the most i...</td>\n",
       "      <td>Positive</td>\n",
       "    </tr>\n",
       "    <tr>\n",
       "      <th>449617</th>\n",
       "      <td>B00008CQVA</td>\n",
       "      <td>A29JUMRL1US6YP</td>\n",
       "      <td>HTBK</td>\n",
       "      <td>4</td>\n",
       "      <td>5</td>\n",
       "      <td>1278201600</td>\n",
       "      <td>Fantastic Food for Good Cat Health</td>\n",
       "      <td>The pet food industry can be one of the most i...</td>\n",
       "      <td>Positive</td>\n",
       "    </tr>\n",
       "  </tbody>\n",
       "</table>\n",
       "<p>125 rows × 9 columns</p>\n",
       "</div>"
      ],
      "text/plain": [
       "         ProductId          UserId ProfileName  HelpfulnessNumerator  \\\n",
       "58313   B0019ZB4KA  A29JUMRL1US6YP        HTBK                     6   \n",
       "106360  B000WFUL3E  A29JUMRL1US6YP        HTBK                     3   \n",
       "106396  B000WFUL3E  A29JUMRL1US6YP        HTBK                    38   \n",
       "106402  B000WFUL3E  A29JUMRL1US6YP        HTBK                    19   \n",
       "106405  B000WFUL3E  A29JUMRL1US6YP        HTBK                    12   \n",
       "...            ...             ...         ...                   ...   \n",
       "449582  B00008CQVA  A29JUMRL1US6YP        HTBK                     3   \n",
       "449583  B00008CQVA  A29JUMRL1US6YP        HTBK                     3   \n",
       "449590  B00008CQVA  A29JUMRL1US6YP        HTBK                     5   \n",
       "449613  B00008CQVA  A29JUMRL1US6YP        HTBK                     2   \n",
       "449617  B00008CQVA  A29JUMRL1US6YP        HTBK                     4   \n",
       "\n",
       "        HelpfulnessDenominator        Time  \\\n",
       "58313                        6  1278201600   \n",
       "106360                       4  1278201600   \n",
       "106396                      40  1278201600   \n",
       "106402                      23  1278201600   \n",
       "106405                      14  1278201600   \n",
       "...                        ...         ...   \n",
       "449582                       3  1278201600   \n",
       "449583                       3  1278201600   \n",
       "449590                       6  1278201600   \n",
       "449613                       2  1278201600   \n",
       "449617                       5  1278201600   \n",
       "\n",
       "                                   Summary  \\\n",
       "58313   Fantastic Food for Good Cat Health   \n",
       "106360  Fantastic Food for Good Cat Health   \n",
       "106396  Fantastic Food for Good Cat Health   \n",
       "106402  Fantastic Food for Good Cat Health   \n",
       "106405  Fantastic Food for Good Cat Health   \n",
       "...                                    ...   \n",
       "449582  Fantastic Food for Good Cat Health   \n",
       "449583  Fantastic Food for Good Cat Health   \n",
       "449590  Fantastic Food for Good Cat Health   \n",
       "449613  Fantastic Food for Good Cat Health   \n",
       "449617  Fantastic Food for Good Cat Health   \n",
       "\n",
       "                                                     Text     Label  \n",
       "58313   The pet food industry can be one of the most i...  Positive  \n",
       "106360  The pet food industry can be one of the most i...  Positive  \n",
       "106396  The pet food industry can be one of the most i...  Positive  \n",
       "106402  The pet food industry can be one of the most i...  Positive  \n",
       "106405  The pet food industry can be one of the most i...  Positive  \n",
       "...                                                   ...       ...  \n",
       "449582  The pet food industry can be one of the most i...  Positive  \n",
       "449583  The pet food industry can be one of the most i...  Positive  \n",
       "449590  The pet food industry can be one of the most i...  Positive  \n",
       "449613  The pet food industry can be one of the most i...  Positive  \n",
       "449617  The pet food industry can be one of the most i...  Positive  \n",
       "\n",
       "[125 rows x 9 columns]"
      ]
     },
     "execution_count": 130,
     "metadata": {},
     "output_type": "execute_result"
    }
   ],
   "source": [
    "reviews_df[(reviews_df['UserId'] == 'A29JUMRL1US6YP') & (reviews_df['Time'] == 1278201600)]"
   ]
  },
  {
   "cell_type": "code",
   "execution_count": 128,
   "metadata": {},
   "outputs": [
    {
     "data": {
      "text/plain": [
       "array(['B0019ZB4KA', 'B000WFUL3E', 'B000WFKWDI', 'B000WFORH0',\n",
       "       'B000WFN0VO', 'B000WFU8O6', 'B000WFKI82', 'B000WFEN74',\n",
       "       'B000WFRQQ4', 'B000084EZ4', 'B000WFPJIG', 'B002ANCEI6',\n",
       "       'B00008CQVA'], dtype=object)"
      ]
     },
     "execution_count": 128,
     "metadata": {},
     "output_type": "execute_result"
    }
   ],
   "source": [
    "reviews_df[(reviews_df['UserId'] == 'A29JUMRL1US6YP') & (reviews_df['Time'] == 1278201600)]['ProductId'].unique()"
   ]
  },
  {
   "cell_type": "markdown",
   "metadata": {},
   "source": [
    "#### **`Example-2`**"
   ]
  },
  {
   "cell_type": "code",
   "execution_count": 131,
   "metadata": {},
   "outputs": [
    {
     "data": {
      "text/html": [
       "<div>\n",
       "<style scoped>\n",
       "    .dataframe tbody tr th:only-of-type {\n",
       "        vertical-align: middle;\n",
       "    }\n",
       "\n",
       "    .dataframe tbody tr th {\n",
       "        vertical-align: top;\n",
       "    }\n",
       "\n",
       "    .dataframe thead th {\n",
       "        text-align: right;\n",
       "    }\n",
       "</style>\n",
       "<table border=\"1\" class=\"dataframe\">\n",
       "  <thead>\n",
       "    <tr style=\"text-align: right;\">\n",
       "      <th></th>\n",
       "      <th>ProductId</th>\n",
       "      <th>UserId</th>\n",
       "      <th>ProfileName</th>\n",
       "      <th>HelpfulnessNumerator</th>\n",
       "      <th>HelpfulnessDenominator</th>\n",
       "      <th>Time</th>\n",
       "      <th>Summary</th>\n",
       "      <th>Text</th>\n",
       "      <th>Label</th>\n",
       "    </tr>\n",
       "  </thead>\n",
       "  <tbody>\n",
       "    <tr>\n",
       "      <th>25265</th>\n",
       "      <td>B006H32PWU</td>\n",
       "      <td>A1UQBFCERIP7VJ</td>\n",
       "      <td>Margaret Picky</td>\n",
       "      <td>0</td>\n",
       "      <td>0</td>\n",
       "      <td>1321401600</td>\n",
       "      <td>Stash Chamomile Tea</td>\n",
       "      <td>Stash Chamomile Herbal Tea is tea bags with dr...</td>\n",
       "      <td>Positive</td>\n",
       "    </tr>\n",
       "    <tr>\n",
       "      <th>28757</th>\n",
       "      <td>B004JZKQ8S</td>\n",
       "      <td>A1UQBFCERIP7VJ</td>\n",
       "      <td>Margaret Picky</td>\n",
       "      <td>0</td>\n",
       "      <td>0</td>\n",
       "      <td>1321401600</td>\n",
       "      <td>A ginormous box of 1,000 tea bags</td>\n",
       "      <td>Stash Chamomile Herbal Tea is tea bags with dr...</td>\n",
       "      <td>Positive</td>\n",
       "    </tr>\n",
       "    <tr>\n",
       "      <th>36690</th>\n",
       "      <td>B0029EZUHS</td>\n",
       "      <td>A1UQBFCERIP7VJ</td>\n",
       "      <td>Margaret Picky</td>\n",
       "      <td>0</td>\n",
       "      <td>0</td>\n",
       "      <td>1321401600</td>\n",
       "      <td>Stash Chamomile Herbal Tea</td>\n",
       "      <td>Stash Chamomile Herbal Tea is tea bags with dr...</td>\n",
       "      <td>Positive</td>\n",
       "    </tr>\n",
       "    <tr>\n",
       "      <th>75584</th>\n",
       "      <td>B005ZHC7EA</td>\n",
       "      <td>A1UQBFCERIP7VJ</td>\n",
       "      <td>Margaret Picky</td>\n",
       "      <td>0</td>\n",
       "      <td>0</td>\n",
       "      <td>1321401600</td>\n",
       "      <td>Stash Chamomile Herbal Tea</td>\n",
       "      <td>Stash Chamomile Herbal Tea is tea bags with dr...</td>\n",
       "      <td>Positive</td>\n",
       "    </tr>\n",
       "    <tr>\n",
       "      <th>80752</th>\n",
       "      <td>B004JLHU6S</td>\n",
       "      <td>A1UQBFCERIP7VJ</td>\n",
       "      <td>Margaret Picky</td>\n",
       "      <td>0</td>\n",
       "      <td>0</td>\n",
       "      <td>1321401600</td>\n",
       "      <td>A ginormous box of 1,000 tea bags</td>\n",
       "      <td>Stash Chamomile Herbal Tea is tea bags with dr...</td>\n",
       "      <td>Positive</td>\n",
       "    </tr>\n",
       "    <tr>\n",
       "      <th>...</th>\n",
       "      <td>...</td>\n",
       "      <td>...</td>\n",
       "      <td>...</td>\n",
       "      <td>...</td>\n",
       "      <td>...</td>\n",
       "      <td>...</td>\n",
       "      <td>...</td>\n",
       "      <td>...</td>\n",
       "      <td>...</td>\n",
       "    </tr>\n",
       "    <tr>\n",
       "      <th>468850</th>\n",
       "      <td>B000CQIDHO</td>\n",
       "      <td>A1UQBFCERIP7VJ</td>\n",
       "      <td>Margaret Picky</td>\n",
       "      <td>0</td>\n",
       "      <td>0</td>\n",
       "      <td>1321401600</td>\n",
       "      <td>Stash Chamomile Herbal Tea</td>\n",
       "      <td>Stash Chamomile Herbal Tea is tea bags with dr...</td>\n",
       "      <td>Positive</td>\n",
       "    </tr>\n",
       "    <tr>\n",
       "      <th>471224</th>\n",
       "      <td>B003D4GSL0</td>\n",
       "      <td>A1UQBFCERIP7VJ</td>\n",
       "      <td>Margaret Picky</td>\n",
       "      <td>0</td>\n",
       "      <td>0</td>\n",
       "      <td>1321401600</td>\n",
       "      <td>Stash Chamomile Herbal Tea</td>\n",
       "      <td>Stash Chamomile Herbal Tea is tea bags with dr...</td>\n",
       "      <td>Positive</td>\n",
       "    </tr>\n",
       "    <tr>\n",
       "      <th>511424</th>\n",
       "      <td>B002HFQUX2</td>\n",
       "      <td>A1UQBFCERIP7VJ</td>\n",
       "      <td>Margaret Picky</td>\n",
       "      <td>0</td>\n",
       "      <td>0</td>\n",
       "      <td>1321401600</td>\n",
       "      <td>Stash Chamomile Herbal Tea</td>\n",
       "      <td>Stash Chamomile Herbal Tea is tea bags with dr...</td>\n",
       "      <td>Positive</td>\n",
       "    </tr>\n",
       "    <tr>\n",
       "      <th>520210</th>\n",
       "      <td>B000WS0GPO</td>\n",
       "      <td>A1UQBFCERIP7VJ</td>\n",
       "      <td>Margaret Picky</td>\n",
       "      <td>0</td>\n",
       "      <td>0</td>\n",
       "      <td>1321401600</td>\n",
       "      <td>Stash Chamomile Herbal Tea</td>\n",
       "      <td>Stash Chamomile Herbal Tea is tea bags with dr...</td>\n",
       "      <td>Positive</td>\n",
       "    </tr>\n",
       "    <tr>\n",
       "      <th>525620</th>\n",
       "      <td>B004JLGEII</td>\n",
       "      <td>A1UQBFCERIP7VJ</td>\n",
       "      <td>Margaret Picky</td>\n",
       "      <td>0</td>\n",
       "      <td>0</td>\n",
       "      <td>1321401600</td>\n",
       "      <td>A ginormous box of 1,000 tea bags</td>\n",
       "      <td>Stash Chamomile Herbal Tea is tea bags with dr...</td>\n",
       "      <td>Positive</td>\n",
       "    </tr>\n",
       "  </tbody>\n",
       "</table>\n",
       "<p>51 rows × 9 columns</p>\n",
       "</div>"
      ],
      "text/plain": [
       "         ProductId          UserId     ProfileName  HelpfulnessNumerator  \\\n",
       "25265   B006H32PWU  A1UQBFCERIP7VJ  Margaret Picky                     0   \n",
       "28757   B004JZKQ8S  A1UQBFCERIP7VJ  Margaret Picky                     0   \n",
       "36690   B0029EZUHS  A1UQBFCERIP7VJ  Margaret Picky                     0   \n",
       "75584   B005ZHC7EA  A1UQBFCERIP7VJ  Margaret Picky                     0   \n",
       "80752   B004JLHU6S  A1UQBFCERIP7VJ  Margaret Picky                     0   \n",
       "...            ...             ...             ...                   ...   \n",
       "468850  B000CQIDHO  A1UQBFCERIP7VJ  Margaret Picky                     0   \n",
       "471224  B003D4GSL0  A1UQBFCERIP7VJ  Margaret Picky                     0   \n",
       "511424  B002HFQUX2  A1UQBFCERIP7VJ  Margaret Picky                     0   \n",
       "520210  B000WS0GPO  A1UQBFCERIP7VJ  Margaret Picky                     0   \n",
       "525620  B004JLGEII  A1UQBFCERIP7VJ  Margaret Picky                     0   \n",
       "\n",
       "        HelpfulnessDenominator        Time                            Summary  \\\n",
       "25265                        0  1321401600                Stash Chamomile Tea   \n",
       "28757                        0  1321401600  A ginormous box of 1,000 tea bags   \n",
       "36690                        0  1321401600         Stash Chamomile Herbal Tea   \n",
       "75584                        0  1321401600         Stash Chamomile Herbal Tea   \n",
       "80752                        0  1321401600  A ginormous box of 1,000 tea bags   \n",
       "...                        ...         ...                                ...   \n",
       "468850                       0  1321401600         Stash Chamomile Herbal Tea   \n",
       "471224                       0  1321401600         Stash Chamomile Herbal Tea   \n",
       "511424                       0  1321401600         Stash Chamomile Herbal Tea   \n",
       "520210                       0  1321401600         Stash Chamomile Herbal Tea   \n",
       "525620                       0  1321401600  A ginormous box of 1,000 tea bags   \n",
       "\n",
       "                                                     Text     Label  \n",
       "25265   Stash Chamomile Herbal Tea is tea bags with dr...  Positive  \n",
       "28757   Stash Chamomile Herbal Tea is tea bags with dr...  Positive  \n",
       "36690   Stash Chamomile Herbal Tea is tea bags with dr...  Positive  \n",
       "75584   Stash Chamomile Herbal Tea is tea bags with dr...  Positive  \n",
       "80752   Stash Chamomile Herbal Tea is tea bags with dr...  Positive  \n",
       "...                                                   ...       ...  \n",
       "468850  Stash Chamomile Herbal Tea is tea bags with dr...  Positive  \n",
       "471224  Stash Chamomile Herbal Tea is tea bags with dr...  Positive  \n",
       "511424  Stash Chamomile Herbal Tea is tea bags with dr...  Positive  \n",
       "520210  Stash Chamomile Herbal Tea is tea bags with dr...  Positive  \n",
       "525620  Stash Chamomile Herbal Tea is tea bags with dr...  Positive  \n",
       "\n",
       "[51 rows x 9 columns]"
      ]
     },
     "execution_count": 131,
     "metadata": {},
     "output_type": "execute_result"
    }
   ],
   "source": [
    "reviews_df[(reviews_df['UserId'] == 'A1UQBFCERIP7VJ') & (reviews_df['Time'] == 1321401600)]"
   ]
  },
  {
   "cell_type": "code",
   "execution_count": 146,
   "metadata": {},
   "outputs": [],
   "source": [
    "pd.set_option('display.max_colwidth',2000)"
   ]
  },
  {
   "cell_type": "markdown",
   "metadata": {},
   "source": [
    "##### **Product-1**"
   ]
  },
  {
   "cell_type": "code",
   "execution_count": 150,
   "metadata": {},
   "outputs": [
    {
     "data": {
      "text/html": [
       "<div>\n",
       "<style scoped>\n",
       "    .dataframe tbody tr th:only-of-type {\n",
       "        vertical-align: middle;\n",
       "    }\n",
       "\n",
       "    .dataframe tbody tr th {\n",
       "        vertical-align: top;\n",
       "    }\n",
       "\n",
       "    .dataframe thead th {\n",
       "        text-align: right;\n",
       "    }\n",
       "</style>\n",
       "<table border=\"1\" class=\"dataframe\">\n",
       "  <thead>\n",
       "    <tr style=\"text-align: right;\">\n",
       "      <th></th>\n",
       "      <th>Summary</th>\n",
       "      <th>Text</th>\n",
       "    </tr>\n",
       "  </thead>\n",
       "  <tbody>\n",
       "    <tr>\n",
       "      <th>25265</th>\n",
       "      <td>Stash Chamomile Tea</td>\n",
       "      <td>Stash Chamomile Herbal Tea is tea bags with dried, crushed chamomile flowers.&lt;br /&gt;&lt;br /&gt;Honestly, as far as I'm concerned, chamomile is chamomile.  I suppose that when you use loose flowers you get sediment in the cup and I have seen this happen with some brands of chamomile tea bags, these don't do that.&lt;br /&gt;&lt;br /&gt;I have also had organic chamomile (this isn't) but I can't taste the difference.&lt;br /&gt;&lt;br /&gt;Each bag is individually packaged and that is either good or bad depending on how and where you use it and if you are concerned about excessive packaging.&lt;br /&gt;&lt;br /&gt;If you like chamomile tea, this is a good choice.</td>\n",
       "    </tr>\n",
       "  </tbody>\n",
       "</table>\n",
       "</div>"
      ],
      "text/plain": [
       "                   Summary  \\\n",
       "25265  Stash Chamomile Tea   \n",
       "\n",
       "                                                                                                                                                                                                                                                                                                                                                                                                                                                                                                                                                                                                                                                     Text  \n",
       "25265  Stash Chamomile Herbal Tea is tea bags with dried, crushed chamomile flowers.<br /><br />Honestly, as far as I'm concerned, chamomile is chamomile.  I suppose that when you use loose flowers you get sediment in the cup and I have seen this happen with some brands of chamomile tea bags, these don't do that.<br /><br />I have also had organic chamomile (this isn't) but I can't taste the difference.<br /><br />Each bag is individually packaged and that is either good or bad depending on how and where you use it and if you are concerned about excessive packaging.<br /><br />If you like chamomile tea, this is a good choice.  "
      ]
     },
     "execution_count": 150,
     "metadata": {},
     "output_type": "execute_result"
    }
   ],
   "source": [
    "reviews_df[(reviews_df['UserId'] == 'A1UQBFCERIP7VJ') & \n",
    "    (reviews_df['Time'] == 1321401600) & \n",
    "    (reviews_df['ProductId'] =='B006H32PWU')][['Summary','Text']]"
   ]
  },
  {
   "cell_type": "markdown",
   "metadata": {},
   "source": [
    "##### **Product-2**"
   ]
  },
  {
   "cell_type": "code",
   "execution_count": 149,
   "metadata": {},
   "outputs": [
    {
     "data": {
      "text/html": [
       "<div>\n",
       "<style scoped>\n",
       "    .dataframe tbody tr th:only-of-type {\n",
       "        vertical-align: middle;\n",
       "    }\n",
       "\n",
       "    .dataframe tbody tr th {\n",
       "        vertical-align: top;\n",
       "    }\n",
       "\n",
       "    .dataframe thead th {\n",
       "        text-align: right;\n",
       "    }\n",
       "</style>\n",
       "<table border=\"1\" class=\"dataframe\">\n",
       "  <thead>\n",
       "    <tr style=\"text-align: right;\">\n",
       "      <th></th>\n",
       "      <th>Summary</th>\n",
       "      <th>Text</th>\n",
       "    </tr>\n",
       "  </thead>\n",
       "  <tbody>\n",
       "    <tr>\n",
       "      <th>28757</th>\n",
       "      <td>A ginormous box of 1,000 tea bags</td>\n",
       "      <td>Stash Chamomile Herbal Tea is tea bags with dried, crushed chamomile flowers.&lt;br /&gt;&lt;br /&gt;Honestly, as far as I'm concerned, chamomile is chamomile. I suppose that when you use loose flowers you get sediment in the cup and I have seen this happen with some brands of chamomile tea bags, these don't do that.&lt;br /&gt;&lt;br /&gt;I have also had organic chamomile (this isn't) but I can't taste the difference.&lt;br /&gt;&lt;br /&gt;Each bag is individually packaged and that is either good or bad depending on how and where you use it and if you are concerned about excessive packaging.&lt;br /&gt;&lt;br /&gt;If you really, truly like chamomile tea, or own a restaurant, this ginormous box of 1,000 single-serving tea bags is a good choice.</td>\n",
       "    </tr>\n",
       "  </tbody>\n",
       "</table>\n",
       "</div>"
      ],
      "text/plain": [
       "                                 Summary  \\\n",
       "28757  A ginormous box of 1,000 tea bags   \n",
       "\n",
       "                                                                                                                                                                                                                                                                                                                                                                                                                                                                                                                                                                                                                                                                                                                                      Text  \n",
       "28757  Stash Chamomile Herbal Tea is tea bags with dried, crushed chamomile flowers.<br /><br />Honestly, as far as I'm concerned, chamomile is chamomile. I suppose that when you use loose flowers you get sediment in the cup and I have seen this happen with some brands of chamomile tea bags, these don't do that.<br /><br />I have also had organic chamomile (this isn't) but I can't taste the difference.<br /><br />Each bag is individually packaged and that is either good or bad depending on how and where you use it and if you are concerned about excessive packaging.<br /><br />If you really, truly like chamomile tea, or own a restaurant, this ginormous box of 1,000 single-serving tea bags is a good choice.  "
      ]
     },
     "execution_count": 149,
     "metadata": {},
     "output_type": "execute_result"
    }
   ],
   "source": [
    "reviews_df[(reviews_df['UserId'] == 'A1UQBFCERIP7VJ') & \n",
    "    (reviews_df['Time'] == 1321401600) & \n",
    "    (reviews_df['ProductId'] =='B004JZKQ8S')][['Summary','Text']]"
   ]
  },
  {
   "cell_type": "markdown",
   "metadata": {},
   "source": [
    "### **Now, both the above products belongs to the `Stash Tea`. However, product-1 is the pack of 10 tea bags and product-2 is the pack of 1000 tea bags.**\n",
    "\n",
    "### **One strange thing here is that the same user provided the reviews of both the products at the same time with a very slight change in the text. Although, such comments are different but they are not providing any differnt information.**"
   ]
  },
  {
   "cell_type": "code",
   "execution_count": 158,
   "metadata": {},
   "outputs": [],
   "source": [
    "reviews_df.drop_duplicates(subset={'UserId','ProfileName','Time','Summary','Text'},keep='first',inplace=True)"
   ]
  },
  {
   "cell_type": "code",
   "execution_count": 159,
   "metadata": {},
   "outputs": [
    {
     "data": {
      "text/plain": [
       "(365333, 9)"
      ]
     },
     "execution_count": 159,
     "metadata": {},
     "output_type": "execute_result"
    }
   ],
   "source": [
    "reviews_df.shape"
   ]
  },
  {
   "cell_type": "markdown",
   "metadata": {},
   "source": [
    "#### **Q3. How many duplicate reviews from a user?**"
   ]
  },
  {
   "cell_type": "code",
   "execution_count": 153,
   "metadata": {},
   "outputs": [
    {
     "data": {
      "image/png": "[encoded data removed]",
      "text/plain": [
       "<Figure size 1296x432 with 1 Axes>"
      ]
     },
     "metadata": {
      "needs_background": "light"
     },
     "output_type": "display_data"
    }
   ],
   "source": [
    "with plt.style.context('seaborn-bright'):\n",
    "    plt.figure(figsize=(18,6))\n",
    "    sns.barplot(data=dup_reviews.iloc[0:50,:],x='UserId',y='ProductId',palette='twilight',ci=False)\n",
    "    plt.title(\"Top 50 users with most duplicated reviews\",fontdict=title_font_dict)\n",
    "    plt.xlabel(\"UserId's\",fontdict=labels_font_dict)\n",
    "    plt.ylabel(\"Number of duplicate reviews\",fontdict=labels_font_dict)\n",
    "    plt.xticks(rotation=90,size=12,style='oblique')"
   ]
  },
  {
   "cell_type": "markdown",
   "metadata": {},
   "source": [
    "#### **Q4. Can HelpfulnessDenominator be smaller than HelpfulnessNumerator?**"
   ]
  },
  {
   "cell_type": "code",
   "execution_count": 155,
   "metadata": {},
   "outputs": [],
   "source": [
    "pd.set_option('display.max_colwidth',50)"
   ]
  },
  {
   "cell_type": "code",
   "execution_count": 165,
   "metadata": {},
   "outputs": [
    {
     "data": {
      "text/html": [
       "<div>\n",
       "<style scoped>\n",
       "    .dataframe tbody tr th:only-of-type {\n",
       "        vertical-align: middle;\n",
       "    }\n",
       "\n",
       "    .dataframe tbody tr th {\n",
       "        vertical-align: top;\n",
       "    }\n",
       "\n",
       "    .dataframe thead th {\n",
       "        text-align: right;\n",
       "    }\n",
       "</style>\n",
       "<table border=\"1\" class=\"dataframe\">\n",
       "  <thead>\n",
       "    <tr style=\"text-align: right;\">\n",
       "      <th></th>\n",
       "      <th>ProductId</th>\n",
       "      <th>UserId</th>\n",
       "      <th>ProfileName</th>\n",
       "      <th>HelpfulnessNumerator</th>\n",
       "      <th>HelpfulnessDenominator</th>\n",
       "      <th>Time</th>\n",
       "      <th>Summary</th>\n",
       "      <th>Text</th>\n",
       "      <th>Label</th>\n",
       "    </tr>\n",
       "  </thead>\n",
       "  <tbody>\n",
       "    <tr>\n",
       "      <th>41159</th>\n",
       "      <td>B001EQ55RW</td>\n",
       "      <td>A2V0I904FH7ABY</td>\n",
       "      <td>Ram</td>\n",
       "      <td>3</td>\n",
       "      <td>2</td>\n",
       "      <td>1212883200</td>\n",
       "      <td>Pure cocoa taste with crunchy almonds inside</td>\n",
       "      <td>It was almost a 'love at first bite' - the per...</td>\n",
       "      <td>Positive</td>\n",
       "    </tr>\n",
       "    <tr>\n",
       "      <th>59301</th>\n",
       "      <td>B000MIDROQ</td>\n",
       "      <td>A161DK06JJMCYF</td>\n",
       "      <td>J. E. Stephens \"Jeanne\"</td>\n",
       "      <td>3</td>\n",
       "      <td>1</td>\n",
       "      <td>1224892800</td>\n",
       "      <td>Bought This for My Son at College</td>\n",
       "      <td>My son loves spaghetti so I didn't hesitate or...</td>\n",
       "      <td>Positive</td>\n",
       "    </tr>\n",
       "  </tbody>\n",
       "</table>\n",
       "</div>"
      ],
      "text/plain": [
       "        ProductId          UserId              ProfileName  \\\n",
       "41159  B001EQ55RW  A2V0I904FH7ABY                      Ram   \n",
       "59301  B000MIDROQ  A161DK06JJMCYF  J. E. Stephens \"Jeanne\"   \n",
       "\n",
       "       HelpfulnessNumerator  HelpfulnessDenominator        Time  \\\n",
       "41159                     3                       2  1212883200   \n",
       "59301                     3                       1  1224892800   \n",
       "\n",
       "                                            Summary  \\\n",
       "41159  Pure cocoa taste with crunchy almonds inside   \n",
       "59301             Bought This for My Son at College   \n",
       "\n",
       "                                                    Text     Label  \n",
       "41159  It was almost a 'love at first bite' - the per...  Positive  \n",
       "59301  My son loves spaghetti so I didn't hesitate or...  Positive  "
      ]
     },
     "execution_count": 165,
     "metadata": {},
     "output_type": "execute_result"
    }
   ],
   "source": [
    "reviews_df[reviews_df['HelpfulnessDenominator'] < reviews_df['HelpfulnessNumerator']]"
   ]
  },
  {
   "cell_type": "markdown",
   "metadata": {},
   "source": [
    "### **Here, the answer is No, as the HelpfulnessDenominator cannot be smaller than HelpfulnessNumerator.**"
   ]
  },
  {
   "cell_type": "code",
   "execution_count": 166,
   "metadata": {},
   "outputs": [
    {
     "data": {
      "text/html": [
       "<div>\n",
       "<style scoped>\n",
       "    .dataframe tbody tr th:only-of-type {\n",
       "        vertical-align: middle;\n",
       "    }\n",
       "\n",
       "    .dataframe tbody tr th {\n",
       "        vertical-align: top;\n",
       "    }\n",
       "\n",
       "    .dataframe thead th {\n",
       "        text-align: right;\n",
       "    }\n",
       "</style>\n",
       "<table border=\"1\" class=\"dataframe\">\n",
       "  <thead>\n",
       "    <tr style=\"text-align: right;\">\n",
       "      <th></th>\n",
       "      <th>ProductId</th>\n",
       "      <th>UserId</th>\n",
       "      <th>ProfileName</th>\n",
       "      <th>HelpfulnessNumerator</th>\n",
       "      <th>HelpfulnessDenominator</th>\n",
       "      <th>Time</th>\n",
       "      <th>Summary</th>\n",
       "      <th>Text</th>\n",
       "      <th>Label</th>\n",
       "    </tr>\n",
       "  </thead>\n",
       "  <tbody>\n",
       "    <tr>\n",
       "      <th>0</th>\n",
       "      <td>B001E4KFG0</td>\n",
       "      <td>A3SGXH7AUHU8GW</td>\n",
       "      <td>delmartian</td>\n",
       "      <td>1</td>\n",
       "      <td>1</td>\n",
       "      <td>1303862400</td>\n",
       "      <td>Good Quality Dog Food</td>\n",
       "      <td>I have bought several of the Vitality canned d...</td>\n",
       "      <td>Positive</td>\n",
       "    </tr>\n",
       "    <tr>\n",
       "      <th>1</th>\n",
       "      <td>B00813GRG4</td>\n",
       "      <td>A1D87F6ZCVE5NK</td>\n",
       "      <td>dll pa</td>\n",
       "      <td>0</td>\n",
       "      <td>0</td>\n",
       "      <td>1346976000</td>\n",
       "      <td>Not as Advertised</td>\n",
       "      <td>Product arrived labeled as Jumbo Salted Peanut...</td>\n",
       "      <td>Negative</td>\n",
       "    </tr>\n",
       "    <tr>\n",
       "      <th>2</th>\n",
       "      <td>B000LQOCH0</td>\n",
       "      <td>ABXLMWJIXXAIN</td>\n",
       "      <td>Natalia Corres \"Natalia Corres\"</td>\n",
       "      <td>1</td>\n",
       "      <td>1</td>\n",
       "      <td>1219017600</td>\n",
       "      <td>\"Delight\" says it all</td>\n",
       "      <td>This is a confection that has been around a fe...</td>\n",
       "      <td>Positive</td>\n",
       "    </tr>\n",
       "    <tr>\n",
       "      <th>3</th>\n",
       "      <td>B000UA0QIQ</td>\n",
       "      <td>A395BORC6FGVXV</td>\n",
       "      <td>Karl</td>\n",
       "      <td>3</td>\n",
       "      <td>3</td>\n",
       "      <td>1307923200</td>\n",
       "      <td>Cough Medicine</td>\n",
       "      <td>If you are looking for the secret ingredient i...</td>\n",
       "      <td>Negative</td>\n",
       "    </tr>\n",
       "    <tr>\n",
       "      <th>4</th>\n",
       "      <td>B006K2ZZ7K</td>\n",
       "      <td>A1UQRSCLF8GW1T</td>\n",
       "      <td>Michael D. Bigham \"M. Wassir\"</td>\n",
       "      <td>0</td>\n",
       "      <td>0</td>\n",
       "      <td>1350777600</td>\n",
       "      <td>Great taffy</td>\n",
       "      <td>Great taffy at a great price.  There was a wid...</td>\n",
       "      <td>Positive</td>\n",
       "    </tr>\n",
       "  </tbody>\n",
       "</table>\n",
       "</div>"
      ],
      "text/plain": [
       "    ProductId          UserId                      ProfileName  \\\n",
       "0  B001E4KFG0  A3SGXH7AUHU8GW                       delmartian   \n",
       "1  B00813GRG4  A1D87F6ZCVE5NK                           dll pa   \n",
       "2  B000LQOCH0   ABXLMWJIXXAIN  Natalia Corres \"Natalia Corres\"   \n",
       "3  B000UA0QIQ  A395BORC6FGVXV                             Karl   \n",
       "4  B006K2ZZ7K  A1UQRSCLF8GW1T    Michael D. Bigham \"M. Wassir\"   \n",
       "\n",
       "   HelpfulnessNumerator  HelpfulnessDenominator        Time  \\\n",
       "0                     1                       1  1303862400   \n",
       "1                     0                       0  1346976000   \n",
       "2                     1                       1  1219017600   \n",
       "3                     3                       3  1307923200   \n",
       "4                     0                       0  1350777600   \n",
       "\n",
       "                 Summary                                               Text  \\\n",
       "0  Good Quality Dog Food  I have bought several of the Vitality canned d...   \n",
       "1      Not as Advertised  Product arrived labeled as Jumbo Salted Peanut...   \n",
       "2  \"Delight\" says it all  This is a confection that has been around a fe...   \n",
       "3         Cough Medicine  If you are looking for the secret ingredient i...   \n",
       "4            Great taffy  Great taffy at a great price.  There was a wid...   \n",
       "\n",
       "      Label  \n",
       "0  Positive  \n",
       "1  Negative  \n",
       "2  Positive  \n",
       "3  Negative  \n",
       "4  Positive  "
      ]
     },
     "execution_count": 166,
     "metadata": {},
     "output_type": "execute_result"
    }
   ],
   "source": [
    "reviews_df = reviews_df[reviews_df['HelpfulnessDenominator'] >= reviews_df['HelpfulnessNumerator']]\n",
    "reviews_df.head()"
   ]
  },
  {
   "cell_type": "code",
   "execution_count": 167,
   "metadata": {},
   "outputs": [
    {
     "data": {
      "text/plain": [
       "(365331, 9)"
      ]
     },
     "execution_count": 167,
     "metadata": {},
     "output_type": "execute_result"
    }
   ],
   "source": [
    "reviews_df.shape"
   ]
  },
  {
   "cell_type": "code",
   "execution_count": null,
   "metadata": {},
   "outputs": [],
   "source": []
  },
  {
   "cell_type": "code",
   "execution_count": null,
   "metadata": {},
   "outputs": [],
   "source": []
  },
  {
   "cell_type": "code",
   "execution_count": null,
   "metadata": {},
   "outputs": [],
   "source": []
  },
  {
   "cell_type": "code",
   "execution_count": null,
   "metadata": {},
   "outputs": [],
   "source": []
  },
  {
   "cell_type": "code",
   "execution_count": null,
   "metadata": {},
   "outputs": [],
   "source": []
  },
  {
   "cell_type": "code",
   "execution_count": null,
   "metadata": {},
   "outputs": [],
   "source": []
  },
  {
   "cell_type": "code",
   "execution_count": null,
   "metadata": {},
   "outputs": [],
   "source": []
  },
  {
   "cell_type": "code",
   "execution_count": null,
   "metadata": {},
   "outputs": [],
   "source": []
  },
  {
   "cell_type": "code",
   "execution_count": null,
   "metadata": {},
   "outputs": [],
   "source": []
  },
  {
   "cell_type": "code",
   "execution_count": null,
   "metadata": {},
   "outputs": [],
   "source": []
  },
  {
   "cell_type": "code",
   "execution_count": null,
   "metadata": {},
   "outputs": [],
   "source": []
  },
  {
   "cell_type": "code",
   "execution_count": null,
   "metadata": {},
   "outputs": [],
   "source": []
  },
  {
   "cell_type": "code",
   "execution_count": null,
   "metadata": {},
   "outputs": [],
   "source": []
  },
  {
   "cell_type": "code",
   "execution_count": null,
   "metadata": {},
   "outputs": [],
   "source": []
  },
  {
   "cell_type": "code",
   "execution_count": null,
   "metadata": {},
   "outputs": [],
   "source": []
  },
  {
   "cell_type": "code",
   "execution_count": null,
   "metadata": {},
   "outputs": [],
   "source": []
  },
  {
   "cell_type": "code",
   "execution_count": null,
   "metadata": {},
   "outputs": [],
   "source": []
  },
  {
   "cell_type": "code",
   "execution_count": null,
   "metadata": {},
   "outputs": [],
   "source": []
  }
 ],
 "metadata": {
  "kernelspec": {
   "display_name": "Python 3",
   "language": "python",
   "name": "python3"
  },
  "language_info": {
   "codemirror_mode": {
    "name": "ipython",
    "version": 3
   },
   "file_extension": ".py",
   "mimetype": "text/x-python",
   "name": "python",
   "nbconvert_exporter": "python",
   "pygments_lexer": "ipython3",
   "version": "3.6.8"
  }
 },
 "nbformat": 4,
 "nbformat_minor": 4
}
