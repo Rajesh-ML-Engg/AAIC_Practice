{
 "cells": [
  {
   "cell_type": "markdown",
   "metadata": {},
   "source": [
    "## **Understand and Implementation of ``BOOTSTRAP`` Simulation** "
   ]
  },
  {
   "cell_type": "code",
   "execution_count": 1,
   "metadata": {},
   "outputs": [],
   "source": [
    "import os\n",
    "import sys\n",
    "import logging\n",
    "\n",
    "logging.basicConfig(filename=\"Resampling_and_Bootstrapping.log\",\n",
    "                    filemode='w',\n",
    "                    level=logging.INFO,\n",
    "                    format=\"%(asctime)s : %(levelname)s : %(message)s\")\n",
    "\n",
    "try :\n",
    "    logging.info(\"#### Start packages import ####\")\n",
    "    import numpy as np\n",
    "    import pandas as pd\n",
    "    import matplotlib.pyplot as plt\n",
    "    import seaborn as sns\n",
    "    import sklearn\n",
    "except ModuleNotFoundError as import_error:\n",
    "    logging.error(msg=(import_error.__class__.__name__ + \" :: {} not found\".format(import_error.name)))\n",
    "\n",
    "%matplotlib inline"
   ]
  },
  {
   "cell_type": "markdown",
   "metadata": {},
   "source": [
    "### **Population Dataset**"
   ]
  },
  {
   "cell_type": "code",
   "execution_count": 35,
   "metadata": {},
   "outputs": [],
   "source": [
    "np.random.seed(44)\n",
    "pop_scores = np.random.randint(low=0,high=400,size=500,dtype=np.int)"
   ]
  },
  {
   "cell_type": "code",
   "execution_count": 36,
   "metadata": {},
   "outputs": [
    {
     "data": {
      "text/plain": [
       "array([276, 241, 173,  59, 387,  96,  84, 387, 239, 120, 151, 311, 195,\n",
       "       199,  67, 227, 109, 245, 100,  57, 257,  14, 120, 359, 349, 213,\n",
       "       339,  96, 330, 287,  72, 189,  72, 330,  86, 378, 242, 144, 116,\n",
       "       328,  50,  18,  92, 285,   1,  63, 140, 386,  66, 312, 305,   8,\n",
       "       233, 164,  34,  10, 379, 116, 119,  53,  21, 306, 315, 373, 209,\n",
       "       123, 235, 255, 399, 220, 104, 249,  40,  74, 352, 249, 227,  62,\n",
       "       101,  25,  21, 384,  72,  42, 132, 334, 354, 255, 121,  31, 247,\n",
       "        22, 141, 222, 178, 197, 272,   4, 267, 296, 347,  40, 164, 194,\n",
       "       210, 353, 234, 374, 158, 188, 334, 121,  99, 147,  75, 332, 167,\n",
       "       389, 177, 346, 126,  29, 180, 198, 184, 312,   0, 229, 327, 271,\n",
       "       315, 297, 177, 305, 311, 385, 112, 368, 198,  89, 214, 138, 180,\n",
       "        80,  53, 100, 226, 260,  89, 215, 127, 138, 199,  99, 118, 248,\n",
       "       128, 150,  26, 170, 379,  70, 255,  31,  31, 371, 200,  10, 373,\n",
       "       209, 364, 130, 357,  27, 148, 104, 337, 362, 340, 123, 129, 306,\n",
       "       384, 262, 324,  37, 178,  26,   1,  60, 338, 271,  17, 242,  56,\n",
       "       239,  63, 154, 103, 368, 315,  13,  60, 365,  59,  59, 160, 285,\n",
       "       275, 311, 385,  58, 377, 191,  22, 354, 361, 309, 185,  11, 288,\n",
       "        92, 259,  39, 328, 261,  48,  23, 304,  95, 261, 329, 225, 335,\n",
       "       245,  27, 315, 293, 320, 364, 136, 192, 194, 366, 303, 106, 312,\n",
       "       155, 358,  89, 301, 338, 293,  24,  47,  42,  89, 108, 150, 298,\n",
       "        51, 354, 143,   0,  19, 132, 393, 200, 373,   8, 307, 362, 392,\n",
       "       158, 251, 278, 321, 292,   2, 147, 369, 318, 349, 193, 163, 168,\n",
       "       223, 199, 367, 126,  54,  25, 278, 304,  97, 368, 373,  77,  29,\n",
       "       167,  26, 251, 373, 331, 323, 178, 142, 337, 390, 160,   1, 397,\n",
       "       379,  95, 154, 205, 200,  94, 277, 268, 177,  84, 183, 317, 183,\n",
       "       362, 155, 300,  70, 163, 356, 178,  23, 362,  20,   6, 255, 249,\n",
       "       119,  28, 291, 259,  13, 326, 385,  39,  52, 221, 169, 126, 105,\n",
       "       399, 174,  89, 388, 189, 136, 255, 375, 385, 208, 248, 111, 361,\n",
       "       310, 368, 383, 128, 111, 148,  34, 395,  28, 125, 224, 325, 142,\n",
       "        27, 290, 322, 211, 228, 389,  62, 247, 203,  58,  90,  24, 287,\n",
       "       364, 186, 292, 146, 187, 182, 108, 328, 392, 179, 348,  15,  94,\n",
       "       158, 257,  48,  57,  41,  73, 264, 271,   9, 273, 306, 398, 289,\n",
       "       258,  13, 333,  75, 363, 259, 128, 387, 258, 186,  79, 201,  14,\n",
       "       333,  55, 261, 228,  12, 205, 318, 330, 155, 364,  89, 193, 267,\n",
       "        98,  95,  96,  17, 140, 255, 152,  44, 253, 218, 166, 397,  17,\n",
       "       264, 359, 321, 249, 276, 147, 339, 391, 156,   4, 263, 171, 217,\n",
       "       168, 310, 275,  26, 360, 240, 337,  32,  65, 210, 304, 324,  72,\n",
       "       374, 336, 124,  92, 293, 351,  92,  30, 319, 396, 399,  84,  60,\n",
       "       140, 318, 325,  12, 374, 355])"
      ]
     },
     "execution_count": 36,
     "metadata": {},
     "output_type": "execute_result"
    }
   ],
   "source": [
    "pop_scores"
   ]
  },
  {
   "cell_type": "code",
   "execution_count": 37,
   "metadata": {},
   "outputs": [
    {
     "data": {
      "text/plain": [
       "201.02"
      ]
     },
     "execution_count": 37,
     "metadata": {},
     "output_type": "execute_result"
    }
   ],
   "source": [
    "## Population Score mean\n",
    "np.mean(pop_scores)"
   ]
  },
  {
   "cell_type": "code",
   "execution_count": 38,
   "metadata": {},
   "outputs": [
    {
     "data": {
      "text/plain": [
       "14494.1916"
      ]
     },
     "execution_count": 38,
     "metadata": {},
     "output_type": "execute_result"
    }
   ],
   "source": [
    "## Population Score Variance\n",
    "np.var(pop_scores,ddof=0)"
   ]
  },
  {
   "cell_type": "code",
   "execution_count": 39,
   "metadata": {},
   "outputs": [
    {
     "data": {
      "text/plain": [
       "120.39182530388017"
      ]
     },
     "execution_count": 39,
     "metadata": {},
     "output_type": "execute_result"
    }
   ],
   "source": [
    "## Population Score Std Dev\n",
    "np.std(pop_scores,ddof=0)"
   ]
  },
  {
   "cell_type": "markdown",
   "metadata": {},
   "source": [
    "### **Sample-1 from Population**"
   ]
  },
  {
   "cell_type": "code",
   "execution_count": 40,
   "metadata": {},
   "outputs": [],
   "source": [
    "sample1 = np.random.choice(a=pop_scores,size=50,replace=True)"
   ]
  },
  {
   "cell_type": "code",
   "execution_count": 59,
   "metadata": {},
   "outputs": [
    {
     "data": {
      "text/plain": [
       "191.86"
      ]
     },
     "execution_count": 59,
     "metadata": {},
     "output_type": "execute_result"
    }
   ],
   "source": [
    "## Parent Sample Scores Mean\n",
    "np.mean(sample1)"
   ]
  },
  {
   "cell_type": "code",
   "execution_count": 42,
   "metadata": {},
   "outputs": [
    {
     "data": {
      "text/plain": [
       "16738.898367346937"
      ]
     },
     "execution_count": 42,
     "metadata": {},
     "output_type": "execute_result"
    }
   ],
   "source": [
    "## Parent Sample Score Var\n",
    "np.var(sample1,ddof=1)"
   ]
  },
  {
   "cell_type": "code",
   "execution_count": 43,
   "metadata": {},
   "outputs": [
    {
     "data": {
      "text/plain": [
       "129.37889459779342"
      ]
     },
     "execution_count": 43,
     "metadata": {},
     "output_type": "execute_result"
    }
   ],
   "source": [
    "## Parent Sample Score Std Dev\n",
    "samp1_std = np.std(sample1,ddof=1)\n",
    "samp1_std"
   ]
  },
  {
   "cell_type": "code",
   "execution_count": 44,
   "metadata": {},
   "outputs": [
    {
     "data": {
      "text/plain": [
       "20.456599404194076"
      ]
     },
     "execution_count": 44,
     "metadata": {},
     "output_type": "execute_result"
    }
   ],
   "source": [
    "## Standard Error\n",
    "samp1_std_err = samp1_std / (np.sqrt(40))\n",
    "samp1_std_err"
   ]
  },
  {
   "cell_type": "markdown",
   "metadata": {},
   "source": [
    "### **Here, the point estimate(usually referred as sample mean) is 192 and the standard error is 20. Therefore, we are saying that the population mean will lie in the interval (172,212).**"
   ]
  },
  {
   "cell_type": "markdown",
   "metadata": {},
   "source": [
    "### **BOOTSTRAPPING Simulation**"
   ]
  },
  {
   "cell_type": "code",
   "execution_count": 63,
   "metadata": {},
   "outputs": [],
   "source": [
    "bootsample_means = []\n",
    "for _ in range(10000):\n",
    "    bootsample = np.random.choice(a=sample1,size=40,replace=True)\n",
    "    bootsample_means.append(np.mean(bootsample))"
   ]
  },
  {
   "cell_type": "code",
   "execution_count": 64,
   "metadata": {},
   "outputs": [
    {
     "data": {
      "image/png": "[encoded data removed]",
      "text/plain": [
       "<Figure size 1296x432 with 3 Axes>"
      ]
     },
     "metadata": {
      "needs_background": "light"
     },
     "output_type": "display_data"
    }
   ],
   "source": [
    "with plt.style.context('seaborn-bright'):\n",
    "    fig,ax=plt.subplots(nrows=1,ncols=3,figsize=(18,6))\n",
    "    sns.distplot(pop_scores,ax=ax[0],axlabel='Population',color='blue')\n",
    "    sns.distplot(sample1,ax=ax[1],axlabel='Parent Bootsample',color='brown')\n",
    "    sns.distplot(bootsample_means,ax=ax[2],axlabel='Mean of Bootsamples',color='coral')\n",
    "    plt.show()"
   ]
  },
  {
   "cell_type": "code",
   "execution_count": 47,
   "metadata": {},
   "outputs": [],
   "source": [
    "from statsmodels.graphics.gofplots import qqplot"
   ]
  },
  {
   "cell_type": "code",
   "execution_count": 65,
   "metadata": {},
   "outputs": [
    {
     "data": {
      "image/png": "[encoded data removed]",
      "text/plain": [
       "<Figure size 1296x432 with 3 Axes>"
      ]
     },
     "metadata": {
      "needs_background": "light"
     },
     "output_type": "display_data"
    }
   ],
   "source": [
    "with plt.style.context('seaborn-bright'):\n",
    "    fig,ax=plt.subplots(nrows=1,ncols=3,figsize=(18,6))\n",
    "    qqplot(data=np.array(pop_scores),line='r',ax=ax[0]);\n",
    "    ax[0].set_title('Population Scores')\n",
    "    \n",
    "    qqplot(data=np.array(sample1),line='r',ax=ax[1]);\n",
    "    ax[1].set_title('Parent Sample Scores')\n",
    "    \n",
    "    qqplot(data=np.array(bootsample_means),line='r',ax=ax[2]);\n",
    "    ax[2].set_title('Bootsamples means')"
   ]
  },
  {
   "cell_type": "markdown",
   "metadata": {},
   "source": [
    "### **Here, we saw that by using the computational power we can create a normally distributed data from a small size sample.**"
   ]
  },
  {
   "cell_type": "code",
   "execution_count": 66,
   "metadata": {},
   "outputs": [
    {
     "data": {
      "text/plain": [
       "191.95997"
      ]
     },
     "execution_count": 66,
     "metadata": {},
     "output_type": "execute_result"
    }
   ],
   "source": [
    "## Mean of Bootsample means\n",
    "np.mean(bootsample_means)"
   ]
  },
  {
   "cell_type": "code",
   "execution_count": 67,
   "metadata": {},
   "outputs": [
    {
     "data": {
      "text/plain": [
       "20.326369679534515"
      ]
     },
     "execution_count": 67,
     "metadata": {},
     "output_type": "execute_result"
    }
   ],
   "source": [
    "## Std Dev of Bootsamples Means\n",
    "np.std(bootsample_means)"
   ]
  },
  {
   "cell_type": "code",
   "execution_count": 68,
   "metadata": {},
   "outputs": [
    {
     "data": {
      "text/plain": [
       "(201.02, 191.95997)"
      ]
     },
     "execution_count": 68,
     "metadata": {},
     "output_type": "execute_result"
    }
   ],
   "source": [
    "## True Mean v/s Simulated Mean\n",
    "np.mean(pop_scores), np.mean(bootsample_means)"
   ]
  },
  {
   "cell_type": "code",
   "execution_count": 69,
   "metadata": {},
   "outputs": [
    {
     "data": {
      "text/plain": [
       "(19.03561898126772, 20.326369679534515)"
      ]
     },
     "execution_count": 69,
     "metadata": {},
     "output_type": "execute_result"
    }
   ],
   "source": [
    "## Theoretical Error v/s Simulated Std Error\n",
    "np.std(pop_scores)/np.sqrt(40), np.std(bootsample_means)"
   ]
  },
  {
   "cell_type": "markdown",
   "metadata": {},
   "source": [
    "### **P-value**"
   ]
  },
  {
   "cell_type": "code",
   "execution_count": 71,
   "metadata": {},
   "outputs": [
    {
     "data": {
      "text/plain": [
       "0.5025"
      ]
     },
     "execution_count": 71,
     "metadata": {},
     "output_type": "execute_result"
    }
   ],
   "source": [
    "len(list(filter(lambda val : val > np.mean(sample1), bootsample_means)))/10000"
   ]
  },
  {
   "cell_type": "markdown",
   "metadata": {},
   "source": [
    "### **This means that 50% of the times the value of Simulated Sample mean is greater than the parent sample mean.**"
   ]
  },
  {
   "cell_type": "code",
   "execution_count": null,
   "metadata": {},
   "outputs": [],
   "source": []
  },
  {
   "cell_type": "code",
   "execution_count": null,
   "metadata": {},
   "outputs": [],
   "source": []
  },
  {
   "cell_type": "code",
   "execution_count": null,
   "metadata": {},
   "outputs": [],
   "source": []
  },
  {
   "cell_type": "code",
   "execution_count": null,
   "metadata": {},
   "outputs": [],
   "source": []
  },
  {
   "cell_type": "code",
   "execution_count": null,
   "metadata": {},
   "outputs": [],
   "source": []
  },
  {
   "cell_type": "code",
   "execution_count": null,
   "metadata": {},
   "outputs": [],
   "source": []
  },
  {
   "cell_type": "code",
   "execution_count": null,
   "metadata": {},
   "outputs": [],
   "source": []
  },
  {
   "cell_type": "code",
   "execution_count": null,
   "metadata": {},
   "outputs": [],
   "source": []
  },
  {
   "cell_type": "code",
   "execution_count": null,
   "metadata": {},
   "outputs": [],
   "source": []
  },
  {
   "cell_type": "code",
   "execution_count": null,
   "metadata": {},
   "outputs": [],
   "source": []
  },
  {
   "cell_type": "code",
   "execution_count": null,
   "metadata": {},
   "outputs": [],
   "source": []
  },
  {
   "cell_type": "code",
   "execution_count": null,
   "metadata": {},
   "outputs": [],
   "source": []
  },
  {
   "cell_type": "code",
   "execution_count": null,
   "metadata": {},
   "outputs": [],
   "source": []
  },
  {
   "cell_type": "code",
   "execution_count": null,
   "metadata": {},
   "outputs": [],
   "source": []
  },
  {
   "cell_type": "code",
   "execution_count": null,
   "metadata": {},
   "outputs": [],
   "source": []
  },
  {
   "cell_type": "code",
   "execution_count": null,
   "metadata": {},
   "outputs": [],
   "source": []
  },
  {
   "cell_type": "code",
   "execution_count": null,
   "metadata": {},
   "outputs": [],
   "source": []
  },
  {
   "cell_type": "code",
   "execution_count": null,
   "metadata": {},
   "outputs": [],
   "source": []
  },
  {
   "cell_type": "code",
   "execution_count": null,
   "metadata": {},
   "outputs": [],
   "source": []
  },
  {
   "cell_type": "code",
   "execution_count": null,
   "metadata": {},
   "outputs": [],
   "source": []
  },
  {
   "cell_type": "code",
   "execution_count": null,
   "metadata": {},
   "outputs": [],
   "source": []
  },
  {
   "cell_type": "code",
   "execution_count": null,
   "metadata": {},
   "outputs": [],
   "source": []
  },
  {
   "cell_type": "code",
   "execution_count": null,
   "metadata": {},
   "outputs": [],
   "source": []
  },
  {
   "cell_type": "code",
   "execution_count": null,
   "metadata": {},
   "outputs": [],
   "source": []
  },
  {
   "cell_type": "code",
   "execution_count": null,
   "metadata": {},
   "outputs": [],
   "source": []
  },
  {
   "cell_type": "code",
   "execution_count": null,
   "metadata": {},
   "outputs": [],
   "source": []
  },
  {
   "cell_type": "code",
   "execution_count": null,
   "metadata": {},
   "outputs": [],
   "source": []
  },
  {
   "cell_type": "code",
   "execution_count": null,
   "metadata": {},
   "outputs": [],
   "source": []
  },
  {
   "cell_type": "code",
   "execution_count": null,
   "metadata": {},
   "outputs": [],
   "source": []
  },
  {
   "cell_type": "code",
   "execution_count": null,
   "metadata": {},
   "outputs": [],
   "source": []
  },
  {
   "cell_type": "code",
   "execution_count": null,
   "metadata": {},
   "outputs": [],
   "source": []
  },
  {
   "cell_type": "code",
   "execution_count": null,
   "metadata": {},
   "outputs": [],
   "source": []
  }
 ],
 "metadata": {
  "kernelspec": {
   "display_name": "Python 3",
   "language": "python",
   "name": "python3"
  },
  "language_info": {
   "codemirror_mode": {
    "name": "ipython",
    "version": 3
   },
   "file_extension": ".py",
   "mimetype": "text/x-python",
   "name": "python",
   "nbconvert_exporter": "python",
   "pygments_lexer": "ipython3",
   "version": "3.6.8"
  }
 },
 "nbformat": 4,
 "nbformat_minor": 4
}
